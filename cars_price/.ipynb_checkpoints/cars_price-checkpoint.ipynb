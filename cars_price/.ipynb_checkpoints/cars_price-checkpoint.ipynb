{
 "cells": [
  {
   "cell_type": "markdown",
   "metadata": {},
   "source": [
    "# Определение стоимости автомобилей"
   ]
  },
  {
   "cell_type": "markdown",
   "metadata": {},
   "source": [
    "Сервис по продаже автомобилей с пробегом «Не бит, не крашен» разрабатывает приложение для привлечения новых клиентов. В нём можно быстро узнать рыночную стоимость своего автомобиля. В вашем распоряжении исторические данные: технические характеристики, комплектации и цены автомобилей. Вам нужно построить модель для определения стоимости. \n",
    "\n",
    "Заказчику важны:\n",
    "\n",
    "- качество предсказания;\n",
    "- скорость предсказания;\n",
    "- время обучения."
   ]
  },
  {
   "cell_type": "markdown",
   "metadata": {},
   "source": [
    "# Описание данных\n",
    "Данные находятся в файле /datasets/autos.csv\n",
    "\n",
    "**Признаки**\n",
    "\n",
    "DateCrawled — дата скачивания анкеты из базы\n",
    "\n",
    "VehicleType — тип автомобильного кузова\n",
    "\n",
    "RegistrationYear — год регистрации автомобиля\n",
    "\n",
    "Gearbox — тип коробки передач\n",
    "\n",
    "Power — мощность (л. с.)\n",
    "\n",
    "Model — модель автомобиля\n",
    "\n",
    "Kilometer — пробег (км)\n",
    "\n",
    "RegistrationMonth — месяц регистрации автомобиля\n",
    "\n",
    "FuelType — тип топлива\n",
    "\n",
    "Brand — марка автомобиля\n",
    "\n",
    "Repaired — была машина в ремонте или нет\n",
    "\n",
    "DateCreated — дата создания анкеты\n",
    "\n",
    "NumberOfPictures — количество фотографий автомобиля\n",
    "\n",
    "PostalCode — почтовый индекс владельца анкеты (пользователя)\n",
    "\n",
    "LastSeen — дата последней активности пользователя\n",
    "\n",
    "**Целевой признак**\n",
    "\n",
    "Price — цена (евро)"
   ]
  },
  {
   "cell_type": "markdown",
   "metadata": {},
   "source": [
    "Основные шаги:\n",
    "\n",
    "Загрузите данные, путь к файлу: /datasets/autos.csv\n",
    "\n",
    "Изучите данные. Заполните пропущенные значения и обработайте аномалии в столбцах. \n",
    "\n",
    "Если среди признаков имеются неинформативные, удалите их.\n",
    "\n",
    "Подготовьте выборки для обучения моделей.\n",
    "\n",
    "Обучите разные модели, одна из которых — LightGBM, как минимум одна — не бустинг. Для каждой модели попробуйте разные гиперпараметры.\n",
    "\n",
    "Проанализируйте время обучения, время предсказания и качество моделей.\n",
    "\n",
    "Опираясь на критерии заказчика, выберете лучшую модель, проверьте её качество на тестовой выборке.\n",
    "\n",
    "Примечания:\n",
    "\n",
    "Для оценки качества моделей применяйте метрику RMSE.\n",
    "\n",
    "Значение метрики RMSE должно быть меньше 2500.\n",
    "\n",
    "Самостоятельно освойте библиотеку LightGBM и её средствами постройте модели градиентного бустинга.\n",
    "\n",
    "Время выполнения ячейки кода Jupyter Notebook можно получить специальной командой. Найдите её.\n",
    "\n",
    "Модель градиентного бустинга может долго обучаться, поэтому измените у неё только два-три параметра.\n",
    "\n",
    "Если перестанет работать Jupyter Notebook, удалите лишние переменные оператором del: \n",
    "\n",
    "del features_train"
   ]
  },
  {
   "cell_type": "markdown",
   "metadata": {},
   "source": [
    "## Подготовка данных"
   ]
  },
  {
   "cell_type": "code",
   "execution_count": 1,
   "metadata": {},
   "outputs": [],
   "source": [
    "import numpy as np\n",
    "import pandas as pd\n",
    "import seaborn as sns\n",
    "import matplotlib.pyplot as plt\n",
    "from sklearn.model_selection import train_test_split\n",
    "from sklearn.preprocessing import (OneHotEncoder, OrdinalEncoder,StandardScaler)\n",
    "from sklearn.linear_model import LinearRegression\n",
    "from sklearn.tree import DecisionTreeRegressor\n",
    "from sklearn.model_selection import cross_val_score\n",
    "from sklearn.metrics import mean_squared_error\n",
    "import warnings\n",
    "warnings.filterwarnings('ignore')\n",
    "import lightgbm as lgb\n",
    "from sklearn.model_selection import GridSearchCV\n",
    "from sklearn.pipeline import Pipeline\n",
    "from sklearn.pipeline import make_pipeline\n",
    "from catboost import CatBoostRegressor\n",
    "from lightgbm import LGBMRegressor\n",
    "from sklearn.metrics import make_scorer\n",
    "from sklearn.feature_extraction import DictVectorizer"
   ]
  },
  {
   "cell_type": "code",
   "execution_count": 2,
   "metadata": {},
   "outputs": [],
   "source": [
    "data = pd.read_csv('/datasets/autos.csv')"
   ]
  },
  {
   "cell_type": "code",
   "execution_count": 3,
   "metadata": {},
   "outputs": [
    {
     "name": "stdout",
     "output_type": "stream",
     "text": [
      "\n",
      " Информация о выборке \n",
      "\n"
     ]
    },
    {
     "data": {
      "text/html": [
       "<div>\n",
       "<style scoped>\n",
       "    .dataframe tbody tr th:only-of-type {\n",
       "        vertical-align: middle;\n",
       "    }\n",
       "\n",
       "    .dataframe tbody tr th {\n",
       "        vertical-align: top;\n",
       "    }\n",
       "\n",
       "    .dataframe thead th {\n",
       "        text-align: right;\n",
       "    }\n",
       "</style>\n",
       "<table border=\"1\" class=\"dataframe\">\n",
       "  <thead>\n",
       "    <tr style=\"text-align: right;\">\n",
       "      <th></th>\n",
       "      <th>DateCrawled</th>\n",
       "      <th>Price</th>\n",
       "      <th>VehicleType</th>\n",
       "      <th>RegistrationYear</th>\n",
       "      <th>Gearbox</th>\n",
       "      <th>Power</th>\n",
       "      <th>Model</th>\n",
       "      <th>Kilometer</th>\n",
       "      <th>RegistrationMonth</th>\n",
       "      <th>FuelType</th>\n",
       "      <th>Brand</th>\n",
       "      <th>Repaired</th>\n",
       "      <th>DateCreated</th>\n",
       "      <th>NumberOfPictures</th>\n",
       "      <th>PostalCode</th>\n",
       "      <th>LastSeen</th>\n",
       "    </tr>\n",
       "  </thead>\n",
       "  <tbody>\n",
       "    <tr>\n",
       "      <th>0</th>\n",
       "      <td>2016-03-24 11:52:17</td>\n",
       "      <td>480</td>\n",
       "      <td>NaN</td>\n",
       "      <td>1993</td>\n",
       "      <td>manual</td>\n",
       "      <td>0</td>\n",
       "      <td>golf</td>\n",
       "      <td>150000</td>\n",
       "      <td>0</td>\n",
       "      <td>petrol</td>\n",
       "      <td>volkswagen</td>\n",
       "      <td>NaN</td>\n",
       "      <td>2016-03-24 00:00:00</td>\n",
       "      <td>0</td>\n",
       "      <td>70435</td>\n",
       "      <td>2016-04-07 03:16:57</td>\n",
       "    </tr>\n",
       "    <tr>\n",
       "      <th>1</th>\n",
       "      <td>2016-03-24 10:58:45</td>\n",
       "      <td>18300</td>\n",
       "      <td>coupe</td>\n",
       "      <td>2011</td>\n",
       "      <td>manual</td>\n",
       "      <td>190</td>\n",
       "      <td>NaN</td>\n",
       "      <td>125000</td>\n",
       "      <td>5</td>\n",
       "      <td>gasoline</td>\n",
       "      <td>audi</td>\n",
       "      <td>yes</td>\n",
       "      <td>2016-03-24 00:00:00</td>\n",
       "      <td>0</td>\n",
       "      <td>66954</td>\n",
       "      <td>2016-04-07 01:46:50</td>\n",
       "    </tr>\n",
       "    <tr>\n",
       "      <th>2</th>\n",
       "      <td>2016-03-14 12:52:21</td>\n",
       "      <td>9800</td>\n",
       "      <td>suv</td>\n",
       "      <td>2004</td>\n",
       "      <td>auto</td>\n",
       "      <td>163</td>\n",
       "      <td>grand</td>\n",
       "      <td>125000</td>\n",
       "      <td>8</td>\n",
       "      <td>gasoline</td>\n",
       "      <td>jeep</td>\n",
       "      <td>NaN</td>\n",
       "      <td>2016-03-14 00:00:00</td>\n",
       "      <td>0</td>\n",
       "      <td>90480</td>\n",
       "      <td>2016-04-05 12:47:46</td>\n",
       "    </tr>\n",
       "    <tr>\n",
       "      <th>3</th>\n",
       "      <td>2016-03-17 16:54:04</td>\n",
       "      <td>1500</td>\n",
       "      <td>small</td>\n",
       "      <td>2001</td>\n",
       "      <td>manual</td>\n",
       "      <td>75</td>\n",
       "      <td>golf</td>\n",
       "      <td>150000</td>\n",
       "      <td>6</td>\n",
       "      <td>petrol</td>\n",
       "      <td>volkswagen</td>\n",
       "      <td>no</td>\n",
       "      <td>2016-03-17 00:00:00</td>\n",
       "      <td>0</td>\n",
       "      <td>91074</td>\n",
       "      <td>2016-03-17 17:40:17</td>\n",
       "    </tr>\n",
       "    <tr>\n",
       "      <th>4</th>\n",
       "      <td>2016-03-31 17:25:20</td>\n",
       "      <td>3600</td>\n",
       "      <td>small</td>\n",
       "      <td>2008</td>\n",
       "      <td>manual</td>\n",
       "      <td>69</td>\n",
       "      <td>fabia</td>\n",
       "      <td>90000</td>\n",
       "      <td>7</td>\n",
       "      <td>gasoline</td>\n",
       "      <td>skoda</td>\n",
       "      <td>no</td>\n",
       "      <td>2016-03-31 00:00:00</td>\n",
       "      <td>0</td>\n",
       "      <td>60437</td>\n",
       "      <td>2016-04-06 10:17:21</td>\n",
       "    </tr>\n",
       "  </tbody>\n",
       "</table>\n",
       "</div>"
      ],
      "text/plain": [
       "           DateCrawled  Price VehicleType  RegistrationYear Gearbox  Power  \\\n",
       "0  2016-03-24 11:52:17    480         NaN              1993  manual      0   \n",
       "1  2016-03-24 10:58:45  18300       coupe              2011  manual    190   \n",
       "2  2016-03-14 12:52:21   9800         suv              2004    auto    163   \n",
       "3  2016-03-17 16:54:04   1500       small              2001  manual     75   \n",
       "4  2016-03-31 17:25:20   3600       small              2008  manual     69   \n",
       "\n",
       "   Model  Kilometer  RegistrationMonth  FuelType       Brand Repaired  \\\n",
       "0   golf     150000                  0    petrol  volkswagen      NaN   \n",
       "1    NaN     125000                  5  gasoline        audi      yes   \n",
       "2  grand     125000                  8  gasoline        jeep      NaN   \n",
       "3   golf     150000                  6    petrol  volkswagen       no   \n",
       "4  fabia      90000                  7  gasoline       skoda       no   \n",
       "\n",
       "           DateCreated  NumberOfPictures  PostalCode             LastSeen  \n",
       "0  2016-03-24 00:00:00                 0       70435  2016-04-07 03:16:57  \n",
       "1  2016-03-24 00:00:00                 0       66954  2016-04-07 01:46:50  \n",
       "2  2016-03-14 00:00:00                 0       90480  2016-04-05 12:47:46  \n",
       "3  2016-03-17 00:00:00                 0       91074  2016-03-17 17:40:17  \n",
       "4  2016-03-31 00:00:00                 0       60437  2016-04-06 10:17:21  "
      ]
     },
     "metadata": {},
     "output_type": "display_data"
    },
    {
     "name": "stdout",
     "output_type": "stream",
     "text": [
      "\n",
      "\n",
      "<class 'pandas.core.frame.DataFrame'>\n",
      "RangeIndex: 354369 entries, 0 to 354368\n",
      "Data columns (total 16 columns):\n",
      " #   Column             Non-Null Count   Dtype \n",
      "---  ------             --------------   ----- \n",
      " 0   DateCrawled        354369 non-null  object\n",
      " 1   Price              354369 non-null  int64 \n",
      " 2   VehicleType        316879 non-null  object\n",
      " 3   RegistrationYear   354369 non-null  int64 \n",
      " 4   Gearbox            334536 non-null  object\n",
      " 5   Power              354369 non-null  int64 \n",
      " 6   Model              334664 non-null  object\n",
      " 7   Kilometer          354369 non-null  int64 \n",
      " 8   RegistrationMonth  354369 non-null  int64 \n",
      " 9   FuelType           321474 non-null  object\n",
      " 10  Brand              354369 non-null  object\n",
      " 11  Repaired           283215 non-null  object\n",
      " 12  DateCreated        354369 non-null  object\n",
      " 13  NumberOfPictures   354369 non-null  int64 \n",
      " 14  PostalCode         354369 non-null  int64 \n",
      " 15  LastSeen           354369 non-null  object\n",
      "dtypes: int64(7), object(9)\n",
      "memory usage: 43.3+ MB\n"
     ]
    },
    {
     "data": {
      "text/plain": [
       "None"
      ]
     },
     "metadata": {},
     "output_type": "display_data"
    },
    {
     "name": "stdout",
     "output_type": "stream",
     "text": [
      "\n",
      "\n"
     ]
    },
    {
     "data": {
      "text/html": [
       "<div>\n",
       "<style scoped>\n",
       "    .dataframe tbody tr th:only-of-type {\n",
       "        vertical-align: middle;\n",
       "    }\n",
       "\n",
       "    .dataframe tbody tr th {\n",
       "        vertical-align: top;\n",
       "    }\n",
       "\n",
       "    .dataframe thead th {\n",
       "        text-align: right;\n",
       "    }\n",
       "</style>\n",
       "<table border=\"1\" class=\"dataframe\">\n",
       "  <thead>\n",
       "    <tr style=\"text-align: right;\">\n",
       "      <th></th>\n",
       "      <th>Price</th>\n",
       "      <th>RegistrationYear</th>\n",
       "      <th>Power</th>\n",
       "      <th>Kilometer</th>\n",
       "      <th>RegistrationMonth</th>\n",
       "      <th>NumberOfPictures</th>\n",
       "      <th>PostalCode</th>\n",
       "    </tr>\n",
       "  </thead>\n",
       "  <tbody>\n",
       "    <tr>\n",
       "      <th>count</th>\n",
       "      <td>354369.000000</td>\n",
       "      <td>354369.000000</td>\n",
       "      <td>354369.000000</td>\n",
       "      <td>354369.000000</td>\n",
       "      <td>354369.000000</td>\n",
       "      <td>354369.0</td>\n",
       "      <td>354369.000000</td>\n",
       "    </tr>\n",
       "    <tr>\n",
       "      <th>mean</th>\n",
       "      <td>4416.656776</td>\n",
       "      <td>2004.234448</td>\n",
       "      <td>110.094337</td>\n",
       "      <td>128211.172535</td>\n",
       "      <td>5.714645</td>\n",
       "      <td>0.0</td>\n",
       "      <td>50508.689087</td>\n",
       "    </tr>\n",
       "    <tr>\n",
       "      <th>std</th>\n",
       "      <td>4514.158514</td>\n",
       "      <td>90.227958</td>\n",
       "      <td>189.850405</td>\n",
       "      <td>37905.341530</td>\n",
       "      <td>3.726421</td>\n",
       "      <td>0.0</td>\n",
       "      <td>25783.096248</td>\n",
       "    </tr>\n",
       "    <tr>\n",
       "      <th>min</th>\n",
       "      <td>0.000000</td>\n",
       "      <td>1000.000000</td>\n",
       "      <td>0.000000</td>\n",
       "      <td>5000.000000</td>\n",
       "      <td>0.000000</td>\n",
       "      <td>0.0</td>\n",
       "      <td>1067.000000</td>\n",
       "    </tr>\n",
       "    <tr>\n",
       "      <th>25%</th>\n",
       "      <td>1050.000000</td>\n",
       "      <td>1999.000000</td>\n",
       "      <td>69.000000</td>\n",
       "      <td>125000.000000</td>\n",
       "      <td>3.000000</td>\n",
       "      <td>0.0</td>\n",
       "      <td>30165.000000</td>\n",
       "    </tr>\n",
       "    <tr>\n",
       "      <th>50%</th>\n",
       "      <td>2700.000000</td>\n",
       "      <td>2003.000000</td>\n",
       "      <td>105.000000</td>\n",
       "      <td>150000.000000</td>\n",
       "      <td>6.000000</td>\n",
       "      <td>0.0</td>\n",
       "      <td>49413.000000</td>\n",
       "    </tr>\n",
       "    <tr>\n",
       "      <th>75%</th>\n",
       "      <td>6400.000000</td>\n",
       "      <td>2008.000000</td>\n",
       "      <td>143.000000</td>\n",
       "      <td>150000.000000</td>\n",
       "      <td>9.000000</td>\n",
       "      <td>0.0</td>\n",
       "      <td>71083.000000</td>\n",
       "    </tr>\n",
       "    <tr>\n",
       "      <th>max</th>\n",
       "      <td>20000.000000</td>\n",
       "      <td>9999.000000</td>\n",
       "      <td>20000.000000</td>\n",
       "      <td>150000.000000</td>\n",
       "      <td>12.000000</td>\n",
       "      <td>0.0</td>\n",
       "      <td>99998.000000</td>\n",
       "    </tr>\n",
       "  </tbody>\n",
       "</table>\n",
       "</div>"
      ],
      "text/plain": [
       "               Price  RegistrationYear          Power      Kilometer  \\\n",
       "count  354369.000000     354369.000000  354369.000000  354369.000000   \n",
       "mean     4416.656776       2004.234448     110.094337  128211.172535   \n",
       "std      4514.158514         90.227958     189.850405   37905.341530   \n",
       "min         0.000000       1000.000000       0.000000    5000.000000   \n",
       "25%      1050.000000       1999.000000      69.000000  125000.000000   \n",
       "50%      2700.000000       2003.000000     105.000000  150000.000000   \n",
       "75%      6400.000000       2008.000000     143.000000  150000.000000   \n",
       "max     20000.000000       9999.000000   20000.000000  150000.000000   \n",
       "\n",
       "       RegistrationMonth  NumberOfPictures     PostalCode  \n",
       "count      354369.000000          354369.0  354369.000000  \n",
       "mean            5.714645               0.0   50508.689087  \n",
       "std             3.726421               0.0   25783.096248  \n",
       "min             0.000000               0.0    1067.000000  \n",
       "25%             3.000000               0.0   30165.000000  \n",
       "50%             6.000000               0.0   49413.000000  \n",
       "75%             9.000000               0.0   71083.000000  \n",
       "max            12.000000               0.0   99998.000000  "
      ]
     },
     "metadata": {},
     "output_type": "display_data"
    },
    {
     "name": "stdout",
     "output_type": "stream",
     "text": [
      "\n",
      "\n",
      "(354369, 16)\n",
      "\n",
      " Явных дубликатов 4\n"
     ]
    }
   ],
   "source": [
    "print(f\"\\n Информация о выборке \\n\")\n",
    "display(data.head())\n",
    "print(\"\\n\")\n",
    "display(data.info())\n",
    "print(\"\\n\")\n",
    "display(data.describe())\n",
    "print(\"\\n\")\n",
    "print(data.shape)\n",
    "print(f\"\\n Явных дубликатов\", data.duplicated().sum())"
   ]
  },
  {
   "cell_type": "code",
   "execution_count": 4,
   "metadata": {},
   "outputs": [],
   "source": [
    "data = data.drop_duplicates()"
   ]
  },
  {
   "cell_type": "code",
   "execution_count": 5,
   "metadata": {},
   "outputs": [
    {
     "name": "stdout",
     "output_type": "stream",
     "text": [
      "DateCrawled              0\n",
      "Price                    0\n",
      "VehicleType          37490\n",
      "RegistrationYear         0\n",
      "Gearbox              19833\n",
      "Power                    0\n",
      "Model                19705\n",
      "Kilometer                0\n",
      "RegistrationMonth        0\n",
      "FuelType             32895\n",
      "Brand                    0\n",
      "Repaired             71154\n",
      "DateCreated              0\n",
      "NumberOfPictures         0\n",
      "PostalCode               0\n",
      "LastSeen                 0\n",
      "dtype: int64\n"
     ]
    }
   ],
   "source": [
    "print(data.isna().sum())"
   ]
  },
  {
   "cell_type": "code",
   "execution_count": 6,
   "metadata": {},
   "outputs": [],
   "source": [
    "columns_to_replace = ['VehicleType','Gearbox', 'Model', 'FuelType', 'Repaired']\n",
    "for i in columns_to_replace:\n",
    "    data[i] = data[i].fillna('other')\n",
    "    \n",
    "# print(data['Gearbox'].unique())"
   ]
  },
  {
   "cell_type": "markdown",
   "metadata": {},
   "source": [
    "Оценим с помощью функции describe статистические данные столбцов датасета, в результате ее применения можно сделать вывод о распределении значений числовых столбцов , например - стандартное отклонение, квартили, медианное значнеие, максимальное и минимальное.\n",
    "Для категориальных признаков видно число уникальных значений, их количество, наиболее часто встречающийся признак, частота его появления"
   ]
  },
  {
   "cell_type": "code",
   "execution_count": 7,
   "metadata": {},
   "outputs": [
    {
     "data": {
      "text/html": [
       "<div>\n",
       "<style scoped>\n",
       "    .dataframe tbody tr th:only-of-type {\n",
       "        vertical-align: middle;\n",
       "    }\n",
       "\n",
       "    .dataframe tbody tr th {\n",
       "        vertical-align: top;\n",
       "    }\n",
       "\n",
       "    .dataframe thead th {\n",
       "        text-align: right;\n",
       "    }\n",
       "</style>\n",
       "<table border=\"1\" class=\"dataframe\">\n",
       "  <thead>\n",
       "    <tr style=\"text-align: right;\">\n",
       "      <th></th>\n",
       "      <th>DateCrawled</th>\n",
       "      <th>Price</th>\n",
       "      <th>VehicleType</th>\n",
       "      <th>RegistrationYear</th>\n",
       "      <th>Gearbox</th>\n",
       "      <th>Power</th>\n",
       "      <th>Model</th>\n",
       "      <th>Kilometer</th>\n",
       "      <th>RegistrationMonth</th>\n",
       "      <th>FuelType</th>\n",
       "      <th>Brand</th>\n",
       "      <th>Repaired</th>\n",
       "      <th>DateCreated</th>\n",
       "      <th>NumberOfPictures</th>\n",
       "      <th>PostalCode</th>\n",
       "      <th>LastSeen</th>\n",
       "    </tr>\n",
       "  </thead>\n",
       "  <tbody>\n",
       "    <tr>\n",
       "      <th>count</th>\n",
       "      <td>354365</td>\n",
       "      <td>354365.000000</td>\n",
       "      <td>354365</td>\n",
       "      <td>354365.000000</td>\n",
       "      <td>354365</td>\n",
       "      <td>354365.000000</td>\n",
       "      <td>354365</td>\n",
       "      <td>354365.000000</td>\n",
       "      <td>354365.000000</td>\n",
       "      <td>354365</td>\n",
       "      <td>354365</td>\n",
       "      <td>354365</td>\n",
       "      <td>354365</td>\n",
       "      <td>354365.0</td>\n",
       "      <td>354365.000000</td>\n",
       "      <td>354365</td>\n",
       "    </tr>\n",
       "    <tr>\n",
       "      <th>unique</th>\n",
       "      <td>271174</td>\n",
       "      <td>NaN</td>\n",
       "      <td>8</td>\n",
       "      <td>NaN</td>\n",
       "      <td>3</td>\n",
       "      <td>NaN</td>\n",
       "      <td>250</td>\n",
       "      <td>NaN</td>\n",
       "      <td>NaN</td>\n",
       "      <td>7</td>\n",
       "      <td>40</td>\n",
       "      <td>3</td>\n",
       "      <td>109</td>\n",
       "      <td>NaN</td>\n",
       "      <td>NaN</td>\n",
       "      <td>179150</td>\n",
       "    </tr>\n",
       "    <tr>\n",
       "      <th>top</th>\n",
       "      <td>2016-03-24 14:49:47</td>\n",
       "      <td>NaN</td>\n",
       "      <td>sedan</td>\n",
       "      <td>NaN</td>\n",
       "      <td>manual</td>\n",
       "      <td>NaN</td>\n",
       "      <td>other</td>\n",
       "      <td>NaN</td>\n",
       "      <td>NaN</td>\n",
       "      <td>petrol</td>\n",
       "      <td>volkswagen</td>\n",
       "      <td>no</td>\n",
       "      <td>2016-04-03 00:00:00</td>\n",
       "      <td>NaN</td>\n",
       "      <td>NaN</td>\n",
       "      <td>2016-04-06 13:45:54</td>\n",
       "    </tr>\n",
       "    <tr>\n",
       "      <th>freq</th>\n",
       "      <td>7</td>\n",
       "      <td>NaN</td>\n",
       "      <td>91457</td>\n",
       "      <td>NaN</td>\n",
       "      <td>268249</td>\n",
       "      <td>NaN</td>\n",
       "      <td>44125</td>\n",
       "      <td>NaN</td>\n",
       "      <td>NaN</td>\n",
       "      <td>216349</td>\n",
       "      <td>77012</td>\n",
       "      <td>247158</td>\n",
       "      <td>13718</td>\n",
       "      <td>NaN</td>\n",
       "      <td>NaN</td>\n",
       "      <td>17</td>\n",
       "    </tr>\n",
       "    <tr>\n",
       "      <th>mean</th>\n",
       "      <td>NaN</td>\n",
       "      <td>4416.679830</td>\n",
       "      <td>NaN</td>\n",
       "      <td>2004.234481</td>\n",
       "      <td>NaN</td>\n",
       "      <td>110.093816</td>\n",
       "      <td>NaN</td>\n",
       "      <td>128211.363989</td>\n",
       "      <td>5.714650</td>\n",
       "      <td>NaN</td>\n",
       "      <td>NaN</td>\n",
       "      <td>NaN</td>\n",
       "      <td>NaN</td>\n",
       "      <td>0.0</td>\n",
       "      <td>50508.503800</td>\n",
       "      <td>NaN</td>\n",
       "    </tr>\n",
       "    <tr>\n",
       "      <th>std</th>\n",
       "      <td>NaN</td>\n",
       "      <td>4514.176349</td>\n",
       "      <td>NaN</td>\n",
       "      <td>90.228466</td>\n",
       "      <td>NaN</td>\n",
       "      <td>189.851330</td>\n",
       "      <td>NaN</td>\n",
       "      <td>37905.083858</td>\n",
       "      <td>3.726432</td>\n",
       "      <td>NaN</td>\n",
       "      <td>NaN</td>\n",
       "      <td>NaN</td>\n",
       "      <td>NaN</td>\n",
       "      <td>0.0</td>\n",
       "      <td>25783.100078</td>\n",
       "      <td>NaN</td>\n",
       "    </tr>\n",
       "    <tr>\n",
       "      <th>min</th>\n",
       "      <td>NaN</td>\n",
       "      <td>0.000000</td>\n",
       "      <td>NaN</td>\n",
       "      <td>1000.000000</td>\n",
       "      <td>NaN</td>\n",
       "      <td>0.000000</td>\n",
       "      <td>NaN</td>\n",
       "      <td>5000.000000</td>\n",
       "      <td>0.000000</td>\n",
       "      <td>NaN</td>\n",
       "      <td>NaN</td>\n",
       "      <td>NaN</td>\n",
       "      <td>NaN</td>\n",
       "      <td>0.0</td>\n",
       "      <td>1067.000000</td>\n",
       "      <td>NaN</td>\n",
       "    </tr>\n",
       "    <tr>\n",
       "      <th>25%</th>\n",
       "      <td>NaN</td>\n",
       "      <td>1050.000000</td>\n",
       "      <td>NaN</td>\n",
       "      <td>1999.000000</td>\n",
       "      <td>NaN</td>\n",
       "      <td>69.000000</td>\n",
       "      <td>NaN</td>\n",
       "      <td>125000.000000</td>\n",
       "      <td>3.000000</td>\n",
       "      <td>NaN</td>\n",
       "      <td>NaN</td>\n",
       "      <td>NaN</td>\n",
       "      <td>NaN</td>\n",
       "      <td>0.0</td>\n",
       "      <td>30165.000000</td>\n",
       "      <td>NaN</td>\n",
       "    </tr>\n",
       "    <tr>\n",
       "      <th>50%</th>\n",
       "      <td>NaN</td>\n",
       "      <td>2700.000000</td>\n",
       "      <td>NaN</td>\n",
       "      <td>2003.000000</td>\n",
       "      <td>NaN</td>\n",
       "      <td>105.000000</td>\n",
       "      <td>NaN</td>\n",
       "      <td>150000.000000</td>\n",
       "      <td>6.000000</td>\n",
       "      <td>NaN</td>\n",
       "      <td>NaN</td>\n",
       "      <td>NaN</td>\n",
       "      <td>NaN</td>\n",
       "      <td>0.0</td>\n",
       "      <td>49413.000000</td>\n",
       "      <td>NaN</td>\n",
       "    </tr>\n",
       "    <tr>\n",
       "      <th>75%</th>\n",
       "      <td>NaN</td>\n",
       "      <td>6400.000000</td>\n",
       "      <td>NaN</td>\n",
       "      <td>2008.000000</td>\n",
       "      <td>NaN</td>\n",
       "      <td>143.000000</td>\n",
       "      <td>NaN</td>\n",
       "      <td>150000.000000</td>\n",
       "      <td>9.000000</td>\n",
       "      <td>NaN</td>\n",
       "      <td>NaN</td>\n",
       "      <td>NaN</td>\n",
       "      <td>NaN</td>\n",
       "      <td>0.0</td>\n",
       "      <td>71083.000000</td>\n",
       "      <td>NaN</td>\n",
       "    </tr>\n",
       "    <tr>\n",
       "      <th>max</th>\n",
       "      <td>NaN</td>\n",
       "      <td>20000.000000</td>\n",
       "      <td>NaN</td>\n",
       "      <td>9999.000000</td>\n",
       "      <td>NaN</td>\n",
       "      <td>20000.000000</td>\n",
       "      <td>NaN</td>\n",
       "      <td>150000.000000</td>\n",
       "      <td>12.000000</td>\n",
       "      <td>NaN</td>\n",
       "      <td>NaN</td>\n",
       "      <td>NaN</td>\n",
       "      <td>NaN</td>\n",
       "      <td>0.0</td>\n",
       "      <td>99998.000000</td>\n",
       "      <td>NaN</td>\n",
       "    </tr>\n",
       "  </tbody>\n",
       "</table>\n",
       "</div>"
      ],
      "text/plain": [
       "                DateCrawled          Price VehicleType  RegistrationYear  \\\n",
       "count                354365  354365.000000      354365     354365.000000   \n",
       "unique               271174            NaN           8               NaN   \n",
       "top     2016-03-24 14:49:47            NaN       sedan               NaN   \n",
       "freq                      7            NaN       91457               NaN   \n",
       "mean                    NaN    4416.679830         NaN       2004.234481   \n",
       "std                     NaN    4514.176349         NaN         90.228466   \n",
       "min                     NaN       0.000000         NaN       1000.000000   \n",
       "25%                     NaN    1050.000000         NaN       1999.000000   \n",
       "50%                     NaN    2700.000000         NaN       2003.000000   \n",
       "75%                     NaN    6400.000000         NaN       2008.000000   \n",
       "max                     NaN   20000.000000         NaN       9999.000000   \n",
       "\n",
       "       Gearbox          Power   Model      Kilometer  RegistrationMonth  \\\n",
       "count   354365  354365.000000  354365  354365.000000      354365.000000   \n",
       "unique       3            NaN     250            NaN                NaN   \n",
       "top     manual            NaN   other            NaN                NaN   \n",
       "freq    268249            NaN   44125            NaN                NaN   \n",
       "mean       NaN     110.093816     NaN  128211.363989           5.714650   \n",
       "std        NaN     189.851330     NaN   37905.083858           3.726432   \n",
       "min        NaN       0.000000     NaN    5000.000000           0.000000   \n",
       "25%        NaN      69.000000     NaN  125000.000000           3.000000   \n",
       "50%        NaN     105.000000     NaN  150000.000000           6.000000   \n",
       "75%        NaN     143.000000     NaN  150000.000000           9.000000   \n",
       "max        NaN   20000.000000     NaN  150000.000000          12.000000   \n",
       "\n",
       "       FuelType       Brand Repaired          DateCreated  NumberOfPictures  \\\n",
       "count    354365      354365   354365               354365          354365.0   \n",
       "unique        7          40        3                  109               NaN   \n",
       "top      petrol  volkswagen       no  2016-04-03 00:00:00               NaN   \n",
       "freq     216349       77012   247158                13718               NaN   \n",
       "mean        NaN         NaN      NaN                  NaN               0.0   \n",
       "std         NaN         NaN      NaN                  NaN               0.0   \n",
       "min         NaN         NaN      NaN                  NaN               0.0   \n",
       "25%         NaN         NaN      NaN                  NaN               0.0   \n",
       "50%         NaN         NaN      NaN                  NaN               0.0   \n",
       "75%         NaN         NaN      NaN                  NaN               0.0   \n",
       "max         NaN         NaN      NaN                  NaN               0.0   \n",
       "\n",
       "           PostalCode             LastSeen  \n",
       "count   354365.000000               354365  \n",
       "unique            NaN               179150  \n",
       "top               NaN  2016-04-06 13:45:54  \n",
       "freq              NaN                   17  \n",
       "mean     50508.503800                  NaN  \n",
       "std      25783.100078                  NaN  \n",
       "min       1067.000000                  NaN  \n",
       "25%      30165.000000                  NaN  \n",
       "50%      49413.000000                  NaN  \n",
       "75%      71083.000000                  NaN  \n",
       "max      99998.000000                  NaN  "
      ]
     },
     "execution_count": 7,
     "metadata": {},
     "output_type": "execute_result"
    }
   ],
   "source": [
    "data.describe(include = \"all\")"
   ]
  },
  {
   "cell_type": "markdown",
   "metadata": {},
   "source": [
    "Сперва я хотела убрать имеющиеся в ключевых столбцах выбросы методом интерввартильного размаха, но что-то пошло не так и я решила подкорректировать выбросы вручную.\n",
    "Я вижу, что у меня минимальными значениями в целевом столбце Price и признаке Power являются нулевые значения, "
   ]
  },
  {
   "cell_type": "markdown",
   "metadata": {},
   "source": [
    "Оценю распределение целевого столбца визуально, вижу, что есть нулевые выбросы,а медианное значение близко к нижнему квартилю, я думаю, что так как 75% занчений выше  1050 у.е, начну отсчет с него."
   ]
  },
  {
   "cell_type": "code",
   "execution_count": 8,
   "metadata": {},
   "outputs": [
    {
     "data": {
      "text/plain": [
       "<AxesSubplot:>"
      ]
     },
     "execution_count": 8,
     "metadata": {},
     "output_type": "execute_result"
    },
    {
     "data": {
      "image/png": "[encoded data removed]",
      "text/plain": [
       "<Figure size 432x288 with 1 Axes>"
      ]
     },
     "metadata": {
      "needs_background": "light"
     },
     "output_type": "display_data"
    }
   ],
   "source": [
    "sns.boxplot(data=data['Price'])"
   ]
  },
  {
   "cell_type": "markdown",
   "metadata": {},
   "source": [
    "Ограничила нижний диапазон цены значениями первого квартиля, убрала верхнее ограничение/"
   ]
  },
  {
   "cell_type": "code",
   "execution_count": 9,
   "metadata": {},
   "outputs": [],
   "source": [
    "data = data.query('Price >= 1050')"
   ]
  },
  {
   "cell_type": "markdown",
   "metadata": {},
   "source": [
    "Визуально оценю данные о годе регистрации автомобиля. Максимальное значение 9999.00 - явно выброс,также выбросы и даты выше 2016 года, об этом говрят данны столбца DateCrawled"
   ]
  },
  {
   "cell_type": "code",
   "execution_count": 11,
   "metadata": {},
   "outputs": [
    {
     "data": {
      "text/plain": [
       "<AxesSubplot:xlabel='RegistrationYear'>"
      ]
     },
     "execution_count": 11,
     "metadata": {},
     "output_type": "execute_result"
    },
    {
     "data": {
      "image/png": "[encoded data removed]",
      "text/plain": [
       "<Figure size 1440x360 with 1 Axes>"
      ]
     },
     "metadata": {
      "needs_background": "light"
     },
     "output_type": "display_data"
    }
   ],
   "source": [
    "data.pivot_table(index='RegistrationYear', values='Price', aggfunc='count').plot.bar(figsize = (20,5))"
   ]
  },
  {
   "cell_type": "markdown",
   "metadata": {},
   "source": [
    "Визуально распределение похоже на нормальное, уберу явные выбросы."
   ]
  },
  {
   "cell_type": "code",
   "execution_count": 12,
   "metadata": {},
   "outputs": [],
   "source": [
    "data = data.query('1999 <= RegistrationYear <= 2016')"
   ]
  },
  {
   "cell_type": "markdown",
   "metadata": {},
   "source": [
    "Визуально оценю данные о годе регистрации автомобиля. Максимальное значение 9999.00 - явно выброс,также выбросы и даты выше 2016 года, об этом говрят данны столбца DateCrawled"
   ]
  },
  {
   "cell_type": "markdown",
   "metadata": {},
   "source": [
    "Ограничу данные мощности, авто с мощностью более 1500 существенно выше медианной цены, плюс автомобили с такой мощностью явно стоят больше 20 000 уе, нижнее значение ограничу первым квартилем"
   ]
  },
  {
   "cell_type": "code",
   "execution_count": 13,
   "metadata": {},
   "outputs": [],
   "source": [
    "data = data.query('69 <= Power <= 1500')"
   ]
  },
  {
   "cell_type": "code",
   "execution_count": 15,
   "metadata": {},
   "outputs": [
    {
     "name": "stdout",
     "output_type": "stream",
     "text": [
      "\n",
      " Тепловая карта корелляции:\n"
     ]
    },
    {
     "data": {
      "text/plain": [
       "<AxesSubplot:>"
      ]
     },
     "execution_count": 15,
     "metadata": {},
     "output_type": "execute_result"
    },
    {
     "data": {
      "image/png": "[encoded data removed]",
      "text/plain": [
       "<Figure size 432x288 with 2 Axes>"
      ]
     },
     "metadata": {
      "needs_background": "light"
     },
     "output_type": "display_data"
    }
   ],
   "source": [
    "print(f\"\\n Тепловая карта корелляции:\")\n",
    "sns.heatmap(data[['Price', 'RegistrationYear', 'Power', 'Kilometer']].corr())"
   ]
  },
  {
   "cell_type": "markdown",
   "metadata": {},
   "source": [
    "Удалю неинформативные признаки:"
   ]
  },
  {
   "cell_type": "code",
   "execution_count": 16,
   "metadata": {},
   "outputs": [],
   "source": [
    "data = data.drop(['DateCrawled','DateCreated','NumberOfPictures','PostalCode','LastSeen', 'RegistrationMonth'],axis = 1)"
   ]
  },
  {
   "cell_type": "code",
   "execution_count": 17,
   "metadata": {},
   "outputs": [
    {
     "name": "stdout",
     "output_type": "stream",
     "text": [
      "Price               0\n",
      "VehicleType         0\n",
      "RegistrationYear    0\n",
      "Gearbox             0\n",
      "Power               0\n",
      "Model               0\n",
      "Kilometer           0\n",
      "FuelType            0\n",
      "Brand               0\n",
      "Repaired            0\n",
      "dtype: int64\n"
     ]
    }
   ],
   "source": [
    "print(data.isna().sum())"
   ]
  },
  {
   "cell_type": "markdown",
   "metadata": {},
   "source": [
    "Пропусков нет"
   ]
  },
  {
   "cell_type": "markdown",
   "metadata": {},
   "source": [
    "## Обучение моделей"
   ]
  },
  {
   "cell_type": "markdown",
   "metadata": {},
   "source": [
    "Подготовьте выборки для обучения моделей.\n",
    "\n",
    "Обучите разные модели, одна из которых — LightGBM, как минимум одна — не бустинг. Для каждой модели попробуйте разные гиперпараметры.\n",
    "\n",
    "Проанализируйте время обучения, время предсказания и качество моделей.\n",
    "\n",
    "Опираясь на критерии заказчика, выберете лучшую модель, проверьте её качество на тестовой выборке.\n",
    "\n",
    "Примечания:\n",
    "\n",
    "Для оценки качества моделей применяйте метрику RMSE.\n",
    "\n",
    "Значение метрики RMSE должно быть меньше 2500."
   ]
  },
  {
   "cell_type": "code",
   "execution_count": 18,
   "metadata": {},
   "outputs": [],
   "source": [
    "target = data['Price']\n",
    "features = data.drop('Price', axis=1)"
   ]
  },
  {
   "cell_type": "code",
   "execution_count": 19,
   "metadata": {},
   "outputs": [],
   "source": [
    "features_train, features_test, target_train, target_test = train_test_split(features, target, test_size=0.25, random_state=12345)"
   ]
  },
  {
   "cell_type": "raw",
   "metadata": {},
   "source": [
    "Преобразуем категориальные фичи в числовые"
   ]
  },
  {
   "cell_type": "code",
   "execution_count": 20,
   "metadata": {},
   "outputs": [],
   "source": [
    "features_train_1 = features_train.copy()\n",
    "features_test_1 = features_test.copy()\n",
    "\n",
    "#Прямое кодирование\n",
    "encoder = OrdinalEncoder()\n",
    "#Код ревьюера\n",
    "# encoder = OrdinalEncoder(handle_unknown=\"use_encoded_value\", unknown_value=-1)\n",
    "cat_features = ['VehicleType','Gearbox', 'Model', 'FuelType', 'Brand', 'Repaired']\n",
    "features_train_oe = features_train[cat_features]\n",
    "features_train_oe = pd.DataFrame(encoder.fit_transform(features_train_oe),\n",
    "                             columns=features_train_oe.columns, index=features_train_oe.index)\n",
    "for i in cat_features:\n",
    "    features_train[i] = features_train_oe[i] #заменяем на закодированные\n",
    "    \n",
    "features_test_oe = features_test[cat_features]\n",
    "features_test_oe = pd.DataFrame(encoder.fit_transform(features_test_oe),\n",
    "                             columns=features_test_oe.columns, index=features_test_oe.index)   \n",
    "\n",
    "for i in cat_features:\n",
    "    features_test[i] = features_test_oe[i] #заменяем на закодированные    \n",
    "\n",
    "    \n",
    "# OHE кодирование \n",
    "cat_features_ohe = ['VehicleType','Gearbox','FuelType', 'Brand']\n",
    "num_features_sc = ['RegistrationYear', 'Power', 'Kilometer']\n",
    "encoder_ohe = OneHotEncoder(drop='first', sparse=False)\n",
    "encoder_ohe.fit(features_train_1[cat_features_ohe])\n",
    "# добавляем закодированные признаки в X_train_ohe\n",
    "# encoder_ohe.get_feature_names() позволяет получить названия колонок\n",
    "features_train_1[encoder_ohe.get_feature_names()] = encoder_ohe.transform(features_train_1[cat_features_ohe])\n",
    "# удаляем незакодированные категориальные признаки (изначальные колонки)\n",
    "features_train_1 = features_train_1.drop(cat_features_ohe, axis=1)\n",
    "features_test_1[encoder_ohe.get_feature_names()] = encoder_ohe.transform(features_test_1[cat_features_ohe])\n",
    "# удаляем незакодированные категориальные признаки (изначальные колонки)\n",
    "features_test_1 = features_test_1.drop(cat_features_ohe, axis=1)\n",
    "\n",
    "scaler = StandardScaler()\n",
    "features_train_1[num_features_sc] = scaler.fit_transform(features_train_1[num_features_sc])\n",
    "features_test_1[num_features_sc] = scaler.transform(features_test_1[num_features_sc])"
   ]
  },
  {
   "cell_type": "code",
   "execution_count": 21,
   "metadata": {},
   "outputs": [
    {
     "data": {
      "text/plain": [
       "((139060, 58), (46354, 58))"
      ]
     },
     "execution_count": 21,
     "metadata": {},
     "output_type": "execute_result"
    }
   ],
   "source": [
    "features_train_1.shape, features_test_1.shape"
   ]
  },
  {
   "cell_type": "code",
   "execution_count": 23,
   "metadata": {},
   "outputs": [
    {
     "data": {
      "text/html": [
       "<div>\n",
       "<style scoped>\n",
       "    .dataframe tbody tr th:only-of-type {\n",
       "        vertical-align: middle;\n",
       "    }\n",
       "\n",
       "    .dataframe tbody tr th {\n",
       "        vertical-align: top;\n",
       "    }\n",
       "\n",
       "    .dataframe thead th {\n",
       "        text-align: right;\n",
       "    }\n",
       "</style>\n",
       "<table border=\"1\" class=\"dataframe\">\n",
       "  <thead>\n",
       "    <tr style=\"text-align: right;\">\n",
       "      <th></th>\n",
       "      <th>RegistrationYear</th>\n",
       "      <th>Power</th>\n",
       "      <th>Model</th>\n",
       "      <th>Kilometer</th>\n",
       "      <th>Repaired</th>\n",
       "      <th>x0_convertible</th>\n",
       "      <th>x0_coupe</th>\n",
       "      <th>x0_other</th>\n",
       "      <th>x0_sedan</th>\n",
       "      <th>x0_small</th>\n",
       "      <th>...</th>\n",
       "      <th>x3_saab</th>\n",
       "      <th>x3_seat</th>\n",
       "      <th>x3_skoda</th>\n",
       "      <th>x3_smart</th>\n",
       "      <th>x3_sonstige_autos</th>\n",
       "      <th>x3_subaru</th>\n",
       "      <th>x3_suzuki</th>\n",
       "      <th>x3_toyota</th>\n",
       "      <th>x3_volkswagen</th>\n",
       "      <th>x3_volvo</th>\n",
       "    </tr>\n",
       "  </thead>\n",
       "  <tbody>\n",
       "    <tr>\n",
       "      <th>301697</th>\n",
       "      <td>-0.172861</td>\n",
       "      <td>-0.912379</td>\n",
       "      <td>combo</td>\n",
       "      <td>0.653480</td>\n",
       "      <td>other</td>\n",
       "      <td>0.0</td>\n",
       "      <td>0.0</td>\n",
       "      <td>1.0</td>\n",
       "      <td>0.0</td>\n",
       "      <td>0.0</td>\n",
       "      <td>...</td>\n",
       "      <td>0.0</td>\n",
       "      <td>0.0</td>\n",
       "      <td>0.0</td>\n",
       "      <td>0.0</td>\n",
       "      <td>0.0</td>\n",
       "      <td>0.0</td>\n",
       "      <td>0.0</td>\n",
       "      <td>0.0</td>\n",
       "      <td>0.0</td>\n",
       "      <td>0.0</td>\n",
       "    </tr>\n",
       "    <tr>\n",
       "      <th>237063</th>\n",
       "      <td>1.052635</td>\n",
       "      <td>-0.280261</td>\n",
       "      <td>passat</td>\n",
       "      <td>-1.697753</td>\n",
       "      <td>no</td>\n",
       "      <td>0.0</td>\n",
       "      <td>0.0</td>\n",
       "      <td>0.0</td>\n",
       "      <td>0.0</td>\n",
       "      <td>0.0</td>\n",
       "      <td>...</td>\n",
       "      <td>0.0</td>\n",
       "      <td>0.0</td>\n",
       "      <td>0.0</td>\n",
       "      <td>0.0</td>\n",
       "      <td>0.0</td>\n",
       "      <td>0.0</td>\n",
       "      <td>0.0</td>\n",
       "      <td>0.0</td>\n",
       "      <td>1.0</td>\n",
       "      <td>0.0</td>\n",
       "    </tr>\n",
       "    <tr>\n",
       "      <th>2744</th>\n",
       "      <td>0.072238</td>\n",
       "      <td>2.934513</td>\n",
       "      <td>other</td>\n",
       "      <td>0.000360</td>\n",
       "      <td>no</td>\n",
       "      <td>0.0</td>\n",
       "      <td>1.0</td>\n",
       "      <td>0.0</td>\n",
       "      <td>0.0</td>\n",
       "      <td>0.0</td>\n",
       "      <td>...</td>\n",
       "      <td>0.0</td>\n",
       "      <td>0.0</td>\n",
       "      <td>0.0</td>\n",
       "      <td>0.0</td>\n",
       "      <td>0.0</td>\n",
       "      <td>0.0</td>\n",
       "      <td>0.0</td>\n",
       "      <td>0.0</td>\n",
       "      <td>0.0</td>\n",
       "      <td>0.0</td>\n",
       "    </tr>\n",
       "    <tr>\n",
       "      <th>225319</th>\n",
       "      <td>0.807536</td>\n",
       "      <td>-0.515048</td>\n",
       "      <td>3_reihe</td>\n",
       "      <td>-0.652761</td>\n",
       "      <td>no</td>\n",
       "      <td>1.0</td>\n",
       "      <td>0.0</td>\n",
       "      <td>0.0</td>\n",
       "      <td>0.0</td>\n",
       "      <td>0.0</td>\n",
       "      <td>...</td>\n",
       "      <td>0.0</td>\n",
       "      <td>0.0</td>\n",
       "      <td>0.0</td>\n",
       "      <td>0.0</td>\n",
       "      <td>0.0</td>\n",
       "      <td>0.0</td>\n",
       "      <td>0.0</td>\n",
       "      <td>0.0</td>\n",
       "      <td>0.0</td>\n",
       "      <td>0.0</td>\n",
       "    </tr>\n",
       "    <tr>\n",
       "      <th>104631</th>\n",
       "      <td>-1.643457</td>\n",
       "      <td>-0.659532</td>\n",
       "      <td>passat</td>\n",
       "      <td>0.653480</td>\n",
       "      <td>other</td>\n",
       "      <td>0.0</td>\n",
       "      <td>0.0</td>\n",
       "      <td>0.0</td>\n",
       "      <td>0.0</td>\n",
       "      <td>0.0</td>\n",
       "      <td>...</td>\n",
       "      <td>0.0</td>\n",
       "      <td>0.0</td>\n",
       "      <td>0.0</td>\n",
       "      <td>0.0</td>\n",
       "      <td>0.0</td>\n",
       "      <td>0.0</td>\n",
       "      <td>0.0</td>\n",
       "      <td>0.0</td>\n",
       "      <td>1.0</td>\n",
       "      <td>0.0</td>\n",
       "    </tr>\n",
       "  </tbody>\n",
       "</table>\n",
       "<p>5 rows × 58 columns</p>\n",
       "</div>"
      ],
      "text/plain": [
       "        RegistrationYear     Power    Model  Kilometer Repaired  \\\n",
       "301697         -0.172861 -0.912379    combo   0.653480    other   \n",
       "237063          1.052635 -0.280261   passat  -1.697753       no   \n",
       "2744            0.072238  2.934513    other   0.000360       no   \n",
       "225319          0.807536 -0.515048  3_reihe  -0.652761       no   \n",
       "104631         -1.643457 -0.659532   passat   0.653480    other   \n",
       "\n",
       "        x0_convertible  x0_coupe  x0_other  x0_sedan  x0_small  ...  x3_saab  \\\n",
       "301697             0.0       0.0       1.0       0.0       0.0  ...      0.0   \n",
       "237063             0.0       0.0       0.0       0.0       0.0  ...      0.0   \n",
       "2744               0.0       1.0       0.0       0.0       0.0  ...      0.0   \n",
       "225319             1.0       0.0       0.0       0.0       0.0  ...      0.0   \n",
       "104631             0.0       0.0       0.0       0.0       0.0  ...      0.0   \n",
       "\n",
       "        x3_seat  x3_skoda  x3_smart  x3_sonstige_autos  x3_subaru  x3_suzuki  \\\n",
       "301697      0.0       0.0       0.0                0.0        0.0        0.0   \n",
       "237063      0.0       0.0       0.0                0.0        0.0        0.0   \n",
       "2744        0.0       0.0       0.0                0.0        0.0        0.0   \n",
       "225319      0.0       0.0       0.0                0.0        0.0        0.0   \n",
       "104631      0.0       0.0       0.0                0.0        0.0        0.0   \n",
       "\n",
       "        x3_toyota  x3_volkswagen  x3_volvo  \n",
       "301697        0.0            0.0       0.0  \n",
       "237063        0.0            1.0       0.0  \n",
       "2744          0.0            0.0       0.0  \n",
       "225319        0.0            0.0       0.0  \n",
       "104631        0.0            1.0       0.0  \n",
       "\n",
       "[5 rows x 58 columns]"
      ]
     },
     "execution_count": 23,
     "metadata": {},
     "output_type": "execute_result"
    }
   ],
   "source": [
    "features_test_1.head()"
   ]
  },
  {
   "cell_type": "code",
   "execution_count": 24,
   "metadata": {},
   "outputs": [
    {
     "data": {
      "text/html": [
       "<div>\n",
       "<style scoped>\n",
       "    .dataframe tbody tr th:only-of-type {\n",
       "        vertical-align: middle;\n",
       "    }\n",
       "\n",
       "    .dataframe tbody tr th {\n",
       "        vertical-align: top;\n",
       "    }\n",
       "\n",
       "    .dataframe thead th {\n",
       "        text-align: right;\n",
       "    }\n",
       "</style>\n",
       "<table border=\"1\" class=\"dataframe\">\n",
       "  <thead>\n",
       "    <tr style=\"text-align: right;\">\n",
       "      <th></th>\n",
       "      <th>RegistrationYear</th>\n",
       "      <th>Power</th>\n",
       "      <th>Model</th>\n",
       "      <th>Kilometer</th>\n",
       "      <th>Repaired</th>\n",
       "      <th>x0_convertible</th>\n",
       "      <th>x0_coupe</th>\n",
       "      <th>x0_other</th>\n",
       "      <th>x0_sedan</th>\n",
       "      <th>x0_small</th>\n",
       "      <th>...</th>\n",
       "      <th>x3_saab</th>\n",
       "      <th>x3_seat</th>\n",
       "      <th>x3_skoda</th>\n",
       "      <th>x3_smart</th>\n",
       "      <th>x3_sonstige_autos</th>\n",
       "      <th>x3_subaru</th>\n",
       "      <th>x3_suzuki</th>\n",
       "      <th>x3_toyota</th>\n",
       "      <th>x3_volkswagen</th>\n",
       "      <th>x3_volvo</th>\n",
       "    </tr>\n",
       "  </thead>\n",
       "  <tbody>\n",
       "    <tr>\n",
       "      <th>249187</th>\n",
       "      <td>-1.153258</td>\n",
       "      <td>-0.515048</td>\n",
       "      <td>3_reihe</td>\n",
       "      <td>-0.652761</td>\n",
       "      <td>no</td>\n",
       "      <td>0.0</td>\n",
       "      <td>0.0</td>\n",
       "      <td>0.0</td>\n",
       "      <td>1.0</td>\n",
       "      <td>0.0</td>\n",
       "      <td>...</td>\n",
       "      <td>0.0</td>\n",
       "      <td>0.0</td>\n",
       "      <td>0.0</td>\n",
       "      <td>0.0</td>\n",
       "      <td>0.0</td>\n",
       "      <td>0.0</td>\n",
       "      <td>0.0</td>\n",
       "      <td>0.0</td>\n",
       "      <td>0.0</td>\n",
       "      <td>0.0</td>\n",
       "    </tr>\n",
       "    <tr>\n",
       "      <th>262205</th>\n",
       "      <td>1.297734</td>\n",
       "      <td>0.586645</td>\n",
       "      <td>other</td>\n",
       "      <td>-1.175257</td>\n",
       "      <td>no</td>\n",
       "      <td>0.0</td>\n",
       "      <td>0.0</td>\n",
       "      <td>0.0</td>\n",
       "      <td>0.0</td>\n",
       "      <td>0.0</td>\n",
       "      <td>...</td>\n",
       "      <td>0.0</td>\n",
       "      <td>0.0</td>\n",
       "      <td>0.0</td>\n",
       "      <td>0.0</td>\n",
       "      <td>0.0</td>\n",
       "      <td>0.0</td>\n",
       "      <td>0.0</td>\n",
       "      <td>0.0</td>\n",
       "      <td>0.0</td>\n",
       "      <td>0.0</td>\n",
       "    </tr>\n",
       "    <tr>\n",
       "      <th>71781</th>\n",
       "      <td>1.052635</td>\n",
       "      <td>0.044829</td>\n",
       "      <td>golf</td>\n",
       "      <td>-0.914009</td>\n",
       "      <td>no</td>\n",
       "      <td>0.0</td>\n",
       "      <td>0.0</td>\n",
       "      <td>0.0</td>\n",
       "      <td>1.0</td>\n",
       "      <td>0.0</td>\n",
       "      <td>...</td>\n",
       "      <td>0.0</td>\n",
       "      <td>0.0</td>\n",
       "      <td>0.0</td>\n",
       "      <td>0.0</td>\n",
       "      <td>0.0</td>\n",
       "      <td>0.0</td>\n",
       "      <td>0.0</td>\n",
       "      <td>0.0</td>\n",
       "      <td>1.0</td>\n",
       "      <td>0.0</td>\n",
       "    </tr>\n",
       "    <tr>\n",
       "      <th>354021</th>\n",
       "      <td>-1.153258</td>\n",
       "      <td>0.099010</td>\n",
       "      <td>e_klasse</td>\n",
       "      <td>0.653480</td>\n",
       "      <td>no</td>\n",
       "      <td>0.0</td>\n",
       "      <td>0.0</td>\n",
       "      <td>0.0</td>\n",
       "      <td>0.0</td>\n",
       "      <td>0.0</td>\n",
       "      <td>...</td>\n",
       "      <td>0.0</td>\n",
       "      <td>0.0</td>\n",
       "      <td>0.0</td>\n",
       "      <td>0.0</td>\n",
       "      <td>0.0</td>\n",
       "      <td>0.0</td>\n",
       "      <td>0.0</td>\n",
       "      <td>0.0</td>\n",
       "      <td>0.0</td>\n",
       "      <td>0.0</td>\n",
       "    </tr>\n",
       "    <tr>\n",
       "      <th>286853</th>\n",
       "      <td>0.807536</td>\n",
       "      <td>-0.587290</td>\n",
       "      <td>b_klasse</td>\n",
       "      <td>0.653480</td>\n",
       "      <td>no</td>\n",
       "      <td>0.0</td>\n",
       "      <td>0.0</td>\n",
       "      <td>0.0</td>\n",
       "      <td>1.0</td>\n",
       "      <td>0.0</td>\n",
       "      <td>...</td>\n",
       "      <td>0.0</td>\n",
       "      <td>0.0</td>\n",
       "      <td>0.0</td>\n",
       "      <td>0.0</td>\n",
       "      <td>0.0</td>\n",
       "      <td>0.0</td>\n",
       "      <td>0.0</td>\n",
       "      <td>0.0</td>\n",
       "      <td>0.0</td>\n",
       "      <td>0.0</td>\n",
       "    </tr>\n",
       "  </tbody>\n",
       "</table>\n",
       "<p>5 rows × 58 columns</p>\n",
       "</div>"
      ],
      "text/plain": [
       "        RegistrationYear     Power     Model  Kilometer Repaired  \\\n",
       "249187         -1.153258 -0.515048   3_reihe  -0.652761       no   \n",
       "262205          1.297734  0.586645     other  -1.175257       no   \n",
       "71781           1.052635  0.044829      golf  -0.914009       no   \n",
       "354021         -1.153258  0.099010  e_klasse   0.653480       no   \n",
       "286853          0.807536 -0.587290  b_klasse   0.653480       no   \n",
       "\n",
       "        x0_convertible  x0_coupe  x0_other  x0_sedan  x0_small  ...  x3_saab  \\\n",
       "249187             0.0       0.0       0.0       1.0       0.0  ...      0.0   \n",
       "262205             0.0       0.0       0.0       0.0       0.0  ...      0.0   \n",
       "71781              0.0       0.0       0.0       1.0       0.0  ...      0.0   \n",
       "354021             0.0       0.0       0.0       0.0       0.0  ...      0.0   \n",
       "286853             0.0       0.0       0.0       1.0       0.0  ...      0.0   \n",
       "\n",
       "        x3_seat  x3_skoda  x3_smart  x3_sonstige_autos  x3_subaru  x3_suzuki  \\\n",
       "249187      0.0       0.0       0.0                0.0        0.0        0.0   \n",
       "262205      0.0       0.0       0.0                0.0        0.0        0.0   \n",
       "71781       0.0       0.0       0.0                0.0        0.0        0.0   \n",
       "354021      0.0       0.0       0.0                0.0        0.0        0.0   \n",
       "286853      0.0       0.0       0.0                0.0        0.0        0.0   \n",
       "\n",
       "        x3_toyota  x3_volkswagen  x3_volvo  \n",
       "249187        0.0            0.0       0.0  \n",
       "262205        0.0            0.0       0.0  \n",
       "71781         0.0            1.0       0.0  \n",
       "354021        0.0            0.0       0.0  \n",
       "286853        0.0            0.0       0.0  \n",
       "\n",
       "[5 rows x 58 columns]"
      ]
     },
     "execution_count": 24,
     "metadata": {},
     "output_type": "execute_result"
    }
   ],
   "source": [
    "features_train_1.head()"
   ]
  },
  {
   "cell_type": "markdown",
   "metadata": {},
   "source": [
    "размерность:"
   ]
  },
  {
   "cell_type": "code",
   "execution_count": 25,
   "metadata": {},
   "outputs": [
    {
     "name": "stdout",
     "output_type": "stream",
     "text": [
      "(139060, 9) (46354, 9) (139060,) (46354,)\n"
     ]
    }
   ],
   "source": [
    "print(features_train.shape, features_test.shape, target_train.shape, target_test.shape)"
   ]
  },
  {
   "cell_type": "code",
   "execution_count": 26,
   "metadata": {},
   "outputs": [],
   "source": [
    "def rmse(target,predict):\n",
    "     return ((mean_squared_error(target,predict))**0.5)\n",
    "# neg_mean_squared_error(target,predict).mean() * -1) ** 0.5\n",
    "# {mean_squared_error(target_valid_0, predictions_valid_0)**0.5}"
   ]
  },
  {
   "cell_type": "markdown",
   "metadata": {},
   "source": [
    "### Линейная регрессия"
   ]
  },
  {
   "cell_type": "markdown",
   "metadata": {},
   "source": [
    "Время обучения ЛР:"
   ]
  },
  {
   "cell_type": "code",
   "execution_count": 27,
   "metadata": {},
   "outputs": [
    {
     "name": "stdout",
     "output_type": "stream",
     "text": [
      "Затрачено времени на исполнение 12.062\n",
      "Лучшие гиперпараметры {'fit_intercept': True, 'n_jobs': -1, 'normalize': False} RMSE =  2840.19\n"
     ]
    }
   ],
   "source": [
    "from timeit import default_timer as timer\n",
    "start = timer()\n",
    "model_lr = LinearRegression()\n",
    "params = {\"n_jobs\": [-1,1,1],\n",
    "              \"fit_intercept\": [True, False],\n",
    "              \"normalize\": [True, False]}\n",
    "grid_search_result=GridSearchCV(model_lr, params, scoring='neg_mean_squared_error', cv=5)\n",
    "grid_search_result.fit(features_train, target_train) \n",
    "x = grid_search_result.best_score_\n",
    "end = timer()\n",
    "tl_1 = end - start\n",
    "print('Затрачено времени на исполнение',round(tl_1, 3))\n",
    "print('Лучшие гиперпараметры', grid_search_result.best_params_,'RMSE = ', np.sqrt(-x).round(2)) # лучшие параметры"
   ]
  },
  {
   "cell_type": "code",
   "execution_count": 28,
   "metadata": {},
   "outputs": [
    {
     "name": "stdout",
     "output_type": "stream",
     "text": [
      "Затрачено времени на обучение 0.075\n",
      "CPU times: user 38.9 ms, sys: 15 ms, total: 53.9 ms\n",
      "Wall time: 75.4 ms\n"
     ]
    }
   ],
   "source": [
    "%%time\n",
    "start = timer()\n",
    "model_lr = LinearRegression(normalize=False, )\n",
    "model_lr.fit(features_train, target_train) #обучение\n",
    "end = timer()\n",
    "tl_2 = end - start\n",
    "print('Затрачено времени на обучение',round(tl_2, 3))"
   ]
  },
  {
   "cell_type": "code",
   "execution_count": 29,
   "metadata": {},
   "outputs": [
    {
     "name": "stdout",
     "output_type": "stream",
     "text": [
      "Затрачено времени на предсказание 0.012\n",
      "CPU times: user 43.4 ms, sys: 23.4 ms, total: 66.8 ms\n",
      "Wall time: 12.6 ms\n"
     ]
    }
   ],
   "source": [
    "%%time\n",
    "start = timer()\n",
    "predict_lr=model_lr.predict(features_train) #предсказание\n",
    "end = timer()\n",
    "tl_3 = end - start\n",
    "print('Затрачено времени на предсказание',round(tl_3, 3))"
   ]
  },
  {
   "cell_type": "code",
   "execution_count": 30,
   "metadata": {},
   "outputs": [
    {
     "name": "stdout",
     "output_type": "stream",
     "text": [
      "2838.937946274836\n"
     ]
    }
   ],
   "source": [
    "rmse_lr = rmse(target_train, predict_lr)\n",
    "print(rmse_lr) "
   ]
  },
  {
   "cell_type": "markdown",
   "metadata": {},
   "source": [
    "### CatBoost (от англ. categorical boosting; «бустинг для категориальных признаков»)"
   ]
  },
  {
   "cell_type": "code",
   "execution_count": 31,
   "metadata": {},
   "outputs": [
    {
     "name": "stdout",
     "output_type": "stream",
     "text": [
      "0:\tlearn: 7943.3418093\ttest: 7916.2468479\tbest: 7916.2468479 (0)\ttotal: 66.8ms\tremaining: 0us\n",
      "\n",
      "bestTest = 7916.246848\n",
      "bestIteration = 0\n",
      "\n",
      "0:\tloss: 7916.2468479\tbest: 7916.2468479 (0)\ttotal: 504ms\tremaining: 8.56s\n",
      "0:\tlearn: 7458.7280990\ttest: 7435.1141866\tbest: 7435.1141866 (0)\ttotal: 13.3ms\tremaining: 0us\n",
      "\n",
      "bestTest = 7435.114187\n",
      "bestIteration = 0\n",
      "\n",
      "1:\tloss: 7435.1141866\tbest: 7435.1141866 (1)\ttotal: 528ms\tremaining: 4.22s\n",
      "0:\tlearn: 7943.3418093\ttest: 7916.2468479\tbest: 7916.2468479 (0)\ttotal: 12.9ms\tremaining: 180ms\n",
      "1:\tlearn: 7742.5447038\ttest: 7715.8591149\tbest: 7715.8591149 (1)\ttotal: 26.1ms\tremaining: 170ms\n",
      "2:\tlearn: 7547.6520036\ttest: 7522.0744654\tbest: 7522.0744654 (2)\ttotal: 39.1ms\tremaining: 157ms\n",
      "3:\tlearn: 7359.5724839\ttest: 7334.5803211\tbest: 7334.5803211 (3)\ttotal: 51.9ms\tremaining: 143ms\n",
      "4:\tlearn: 7177.8047948\ttest: 7154.4076461\tbest: 7154.4076461 (4)\ttotal: 65.5ms\tremaining: 131ms\n",
      "5:\tlearn: 7001.3201031\ttest: 6978.8681970\tbest: 6978.8681970 (5)\ttotal: 79.3ms\tremaining: 119ms\n",
      "6:\tlearn: 6829.5018190\ttest: 6807.4137619\tbest: 6807.4137619 (6)\ttotal: 92.8ms\tremaining: 106ms\n",
      "7:\tlearn: 6663.1956213\ttest: 6641.8126975\tbest: 6641.8126975 (7)\ttotal: 106ms\tremaining: 92.4ms\n",
      "8:\tlearn: 6503.6295795\ttest: 6483.4987835\tbest: 6483.4987835 (8)\ttotal: 119ms\tremaining: 79.3ms\n",
      "9:\tlearn: 6348.9201074\ttest: 6329.7966844\tbest: 6329.7966844 (9)\ttotal: 132ms\tremaining: 66.1ms\n",
      "10:\tlearn: 6202.6637294\ttest: 6184.2468678\tbest: 6184.2468678 (10)\ttotal: 146ms\tremaining: 53ms\n",
      "11:\tlearn: 6057.5878244\ttest: 6039.8890189\tbest: 6039.8890189 (11)\ttotal: 160ms\tremaining: 40ms\n",
      "12:\tlearn: 5918.3077569\ttest: 5901.5254794\tbest: 5901.5254794 (12)\ttotal: 173ms\tremaining: 26.7ms\n",
      "13:\tlearn: 5783.4925215\ttest: 5767.4467606\tbest: 5767.4467606 (13)\ttotal: 187ms\tremaining: 13.3ms\n",
      "14:\tlearn: 5653.8922108\ttest: 5639.1662869\tbest: 5639.1662869 (14)\ttotal: 202ms\tremaining: 0us\n",
      "\n",
      "bestTest = 5639.166287\n",
      "bestIteration = 14\n",
      "\n",
      "2:\tloss: 5639.1662869\tbest: 5639.1662869 (2)\ttotal: 742ms\tremaining: 3.71s\n",
      "0:\tlearn: 7458.7280990\ttest: 7435.1141866\tbest: 7435.1141866 (0)\ttotal: 19ms\tremaining: 265ms\n",
      "1:\tlearn: 6840.1422071\ttest: 6819.9088340\tbest: 6819.9088340 (1)\ttotal: 38ms\tremaining: 247ms\n",
      "2:\tlearn: 6289.9479343\ttest: 6275.2913919\tbest: 6275.2913919 (2)\ttotal: 52.4ms\tremaining: 209ms\n",
      "3:\tlearn: 5800.9197744\ttest: 5788.2287694\tbest: 5788.2287694 (3)\ttotal: 66.9ms\tremaining: 184ms\n",
      "4:\tlearn: 5370.0979000\ttest: 5361.8169468\tbest: 5361.8169468 (4)\ttotal: 83.1ms\tremaining: 166ms\n",
      "5:\tlearn: 4987.6601331\ttest: 4981.5135666\tbest: 4981.5135666 (5)\ttotal: 96.9ms\tremaining: 145ms\n",
      "6:\tlearn: 4650.0673411\ttest: 4644.8938494\tbest: 4644.8938494 (6)\ttotal: 110ms\tremaining: 126ms\n",
      "7:\tlearn: 4348.4579002\ttest: 4345.1945890\tbest: 4345.1945890 (7)\ttotal: 124ms\tremaining: 109ms\n",
      "8:\tlearn: 4094.3244333\ttest: 4091.7660601\tbest: 4091.7660601 (8)\ttotal: 138ms\tremaining: 92ms\n",
      "9:\tlearn: 3860.9536816\ttest: 3860.0011095\tbest: 3860.0011095 (9)\ttotal: 151ms\tremaining: 75.4ms\n",
      "10:\tlearn: 3657.5456060\ttest: 3658.3476118\tbest: 3658.3476118 (10)\ttotal: 166ms\tremaining: 60.3ms\n",
      "11:\tlearn: 3480.3136353\ttest: 3481.0461315\tbest: 3481.0461315 (11)\ttotal: 180ms\tremaining: 44.9ms\n",
      "12:\tlearn: 3331.2072903\ttest: 3334.4557592\tbest: 3334.4557592 (12)\ttotal: 193ms\tremaining: 29.7ms\n",
      "13:\tlearn: 3198.2564617\ttest: 3202.4886605\tbest: 3202.4886605 (13)\ttotal: 206ms\tremaining: 14.7ms\n",
      "14:\tlearn: 3081.0293772\ttest: 3086.7625118\tbest: 3086.7625118 (14)\ttotal: 229ms\tremaining: 0us\n",
      "\n",
      "bestTest = 3086.762512\n",
      "bestIteration = 14\n",
      "\n",
      "3:\tloss: 3086.7625118\tbest: 3086.7625118 (3)\ttotal: 985ms\tremaining: 3.45s\n",
      "0:\tlearn: 7943.3418093\ttest: 7916.2468479\tbest: 7916.2468479 (0)\ttotal: 14.4ms\tremaining: 57.5ms\n",
      "1:\tlearn: 7742.5447038\ttest: 7715.8591149\tbest: 7715.8591149 (1)\ttotal: 28.3ms\tremaining: 42.5ms\n",
      "2:\tlearn: 7547.6520036\ttest: 7522.0744654\tbest: 7522.0744654 (2)\ttotal: 50.1ms\tremaining: 33.4ms\n",
      "3:\tlearn: 7359.5724839\ttest: 7334.5803211\tbest: 7334.5803211 (3)\ttotal: 69.3ms\tremaining: 17.3ms\n",
      "4:\tlearn: 7177.8047948\ttest: 7154.4076461\tbest: 7154.4076461 (4)\ttotal: 85ms\tremaining: 0us\n",
      "\n",
      "bestTest = 7154.407646\n",
      "bestIteration = 4\n",
      "\n",
      "4:\tloss: 7154.4076461\tbest: 3086.7625118 (3)\ttotal: 1.08s\tremaining: 2.82s\n",
      "0:\tlearn: 7458.7280990\ttest: 7435.1141866\tbest: 7435.1141866 (0)\ttotal: 14.9ms\tremaining: 59.4ms\n",
      "1:\tlearn: 6840.1422071\ttest: 6819.9088340\tbest: 6819.9088340 (1)\ttotal: 28.4ms\tremaining: 42.6ms\n",
      "2:\tlearn: 6289.9479343\ttest: 6275.2913919\tbest: 6275.2913919 (2)\ttotal: 42.1ms\tremaining: 28.1ms\n",
      "3:\tlearn: 5800.9197744\ttest: 5788.2287694\tbest: 5788.2287694 (3)\ttotal: 55.6ms\tremaining: 13.9ms\n",
      "4:\tlearn: 5370.0979000\ttest: 5361.8169468\tbest: 5361.8169468 (4)\ttotal: 68.5ms\tremaining: 0us\n",
      "\n",
      "bestTest = 5361.816947\n",
      "bestIteration = 4\n",
      "\n",
      "5:\tloss: 5361.8169468\tbest: 3086.7625118 (3)\ttotal: 1.16s\tremaining: 2.33s\n",
      "0:\tlearn: 7939.6901215\ttest: 7912.8323497\tbest: 7912.8323497 (0)\ttotal: 17.8ms\tremaining: 0us\n",
      "\n",
      "bestTest = 7912.83235\n",
      "bestIteration = 0\n",
      "\n",
      "6:\tloss: 7912.8323497\tbest: 3086.7625118 (3)\ttotal: 1.19s\tremaining: 1.88s\n",
      "0:\tlearn: 7446.1976599\ttest: 7423.3665241\tbest: 7423.3665241 (0)\ttotal: 18.3ms\tremaining: 0us\n",
      "\n",
      "bestTest = 7423.366524\n",
      "bestIteration = 0\n",
      "\n",
      "7:\tloss: 7423.3665241\tbest: 3086.7625118 (3)\ttotal: 1.22s\tremaining: 1.53s\n",
      "0:\tlearn: 7939.6901215\ttest: 7912.8323497\tbest: 7912.8323497 (0)\ttotal: 18.1ms\tremaining: 254ms\n",
      "1:\tlearn: 7732.6786824\ttest: 7706.9325530\tbest: 7706.9325530 (1)\ttotal: 38.7ms\tremaining: 252ms\n",
      "2:\tlearn: 7533.7522015\ttest: 7509.8748650\tbest: 7509.8748650 (2)\ttotal: 56.6ms\tremaining: 227ms\n",
      "3:\tlearn: 7343.8281304\ttest: 7320.5427853\tbest: 7320.5427853 (3)\ttotal: 73ms\tremaining: 201ms\n",
      "4:\tlearn: 7158.1692624\ttest: 7136.4314272\tbest: 7136.4314272 (4)\ttotal: 90ms\tremaining: 180ms\n",
      "5:\tlearn: 6977.3663813\ttest: 6956.1932592\tbest: 6956.1932592 (5)\ttotal: 107ms\tremaining: 161ms\n",
      "6:\tlearn: 6802.5783324\ttest: 6782.7361052\tbest: 6782.7361052 (6)\ttotal: 124ms\tremaining: 142ms\n",
      "7:\tlearn: 6632.7836516\ttest: 6614.7010062\tbest: 6614.7010062 (7)\ttotal: 145ms\tremaining: 127ms\n",
      "8:\tlearn: 6468.8284245\ttest: 6451.9037032\tbest: 6451.9037032 (8)\ttotal: 162ms\tremaining: 108ms\n",
      "9:\tlearn: 6309.7757296\ttest: 6293.6517253\tbest: 6293.6517253 (9)\ttotal: 179ms\tremaining: 89.7ms\n",
      "10:\tlearn: 6155.1465870\ttest: 6139.8676481\tbest: 6139.8676481 (10)\ttotal: 197ms\tremaining: 71.6ms\n",
      "11:\tlearn: 6006.5697583\ttest: 5992.5894767\tbest: 5992.5894767 (11)\ttotal: 215ms\tremaining: 53.6ms\n",
      "12:\tlearn: 5861.9335321\ttest: 5849.1220851\tbest: 5849.1220851 (12)\ttotal: 237ms\tremaining: 36.5ms\n",
      "13:\tlearn: 5723.8065776\ttest: 5711.8683452\tbest: 5711.8683452 (13)\ttotal: 259ms\tremaining: 18.5ms\n",
      "14:\tlearn: 5589.0911238\ttest: 5578.4298842\tbest: 5578.4298842 (14)\ttotal: 279ms\tremaining: 0us\n",
      "\n",
      "bestTest = 5578.429884\n",
      "bestIteration = 14\n",
      "\n",
      "8:\tloss: 5578.4298842\tbest: 3086.7625118 (3)\ttotal: 1.51s\tremaining: 1.51s\n",
      "0:\tlearn: 7446.1976599\ttest: 7423.3665241\tbest: 7423.3665241 (0)\ttotal: 22.4ms\tremaining: 313ms\n",
      "1:\tlearn: 6810.8293490\ttest: 6791.4654162\tbest: 6791.4654162 (1)\ttotal: 43.7ms\tremaining: 284ms\n",
      "2:\tlearn: 6249.7983849\ttest: 6236.0646382\tbest: 6236.0646382 (2)\ttotal: 62ms\tremaining: 248ms\n",
      "3:\tlearn: 5758.6049454\ttest: 5746.4788072\tbest: 5746.4788072 (3)\ttotal: 82ms\tremaining: 226ms\n",
      "4:\tlearn: 5315.7565443\ttest: 5307.8486902\tbest: 5307.8486902 (4)\ttotal: 103ms\tremaining: 206ms\n",
      "5:\tlearn: 4922.1057932\ttest: 4915.5307519\tbest: 4915.5307519 (5)\ttotal: 121ms\tremaining: 182ms\n",
      "6:\tlearn: 4569.5405525\ttest: 4565.9187523\tbest: 4565.9187523 (6)\ttotal: 145ms\tremaining: 166ms\n",
      "7:\tlearn: 4260.3843305\ttest: 4260.5398228\tbest: 4260.5398228 (7)\ttotal: 167ms\tremaining: 146ms\n",
      "8:\tlearn: 3986.4069080\ttest: 3987.8459103\tbest: 3987.8459103 (8)\ttotal: 190ms\tremaining: 127ms\n",
      "9:\tlearn: 3748.0163966\ttest: 3748.5333594\tbest: 3748.5333594 (9)\ttotal: 206ms\tremaining: 103ms\n",
      "10:\tlearn: 3534.6375581\ttest: 3536.4703851\tbest: 3536.4703851 (10)\ttotal: 227ms\tremaining: 82.4ms\n",
      "11:\tlearn: 3344.6494261\ttest: 3348.8951936\tbest: 3348.8951936 (11)\ttotal: 247ms\tremaining: 61.7ms\n",
      "12:\tlearn: 3182.1223668\ttest: 3186.3712097\tbest: 3186.3712097 (12)\ttotal: 264ms\tremaining: 40.6ms\n",
      "13:\tlearn: 3045.4368262\ttest: 3051.1893621\tbest: 3051.1893621 (13)\ttotal: 282ms\tremaining: 20.1ms\n",
      "14:\tlearn: 2923.5727043\ttest: 2929.7357583\tbest: 2929.7357583 (14)\ttotal: 298ms\tremaining: 0us\n",
      "\n",
      "bestTest = 2929.735758\n",
      "bestIteration = 14\n",
      "\n",
      "9:\tloss: 2929.7357583\tbest: 2929.7357583 (9)\ttotal: 1.83s\tremaining: 1.46s\n",
      "0:\tlearn: 7939.6901215\ttest: 7912.8323497\tbest: 7912.8323497 (0)\ttotal: 18.5ms\tremaining: 74ms\n",
      "1:\tlearn: 7732.6786824\ttest: 7706.9325530\tbest: 7706.9325530 (1)\ttotal: 38.6ms\tremaining: 57.9ms\n",
      "2:\tlearn: 7533.7522015\ttest: 7509.8748650\tbest: 7509.8748650 (2)\ttotal: 55.3ms\tremaining: 36.9ms\n",
      "3:\tlearn: 7343.8281304\ttest: 7320.5427853\tbest: 7320.5427853 (3)\ttotal: 71.6ms\tremaining: 17.9ms\n",
      "4:\tlearn: 7158.1692624\ttest: 7136.4314272\tbest: 7136.4314272 (4)\ttotal: 87.6ms\tremaining: 0us\n",
      "\n",
      "bestTest = 7136.431427\n",
      "bestIteration = 4\n",
      "\n",
      "10:\tloss: 7136.4314272\tbest: 2929.7357583 (9)\ttotal: 1.93s\tremaining: 1.23s\n",
      "0:\tlearn: 7446.1976599\ttest: 7423.3665241\tbest: 7423.3665241 (0)\ttotal: 16.9ms\tremaining: 67.7ms\n",
      "1:\tlearn: 6810.8293490\ttest: 6791.4654162\tbest: 6791.4654162 (1)\ttotal: 33.4ms\tremaining: 50ms\n",
      "2:\tlearn: 6249.7983849\ttest: 6236.0646382\tbest: 6236.0646382 (2)\ttotal: 50.2ms\tremaining: 33.5ms\n",
      "3:\tlearn: 5758.6049454\ttest: 5746.4788072\tbest: 5746.4788072 (3)\ttotal: 66ms\tremaining: 16.5ms\n",
      "4:\tlearn: 5315.7565443\ttest: 5307.8486902\tbest: 5307.8486902 (4)\ttotal: 83.7ms\tremaining: 0us\n",
      "\n",
      "bestTest = 5307.84869\n",
      "bestIteration = 4\n",
      "\n",
      "11:\tloss: 5307.8486902\tbest: 2929.7357583 (9)\ttotal: 2.02s\tremaining: 1.01s\n",
      "0:\tlearn: 7936.2570243\ttest: 7909.3718618\tbest: 7909.3718618 (0)\ttotal: 44ms\tremaining: 0us\n",
      "\n",
      "bestTest = 7909.371862\n",
      "bestIteration = 0\n",
      "\n",
      "12:\tloss: 7909.3718618\tbest: 2929.7357583 (9)\ttotal: 2.08s\tremaining: 801ms\n",
      "0:\tlearn: 7434.3214936\ttest: 7411.4090178\tbest: 7411.4090178 (0)\ttotal: 33.1ms\tremaining: 0us\n",
      "\n",
      "bestTest = 7411.409018\n",
      "bestIteration = 0\n",
      "\n",
      "13:\tloss: 7411.4090178\tbest: 2929.7357583 (9)\ttotal: 2.13s\tremaining: 607ms\n",
      "0:\tlearn: 7936.2570243\ttest: 7909.3718618\tbest: 7909.3718618 (0)\ttotal: 32.7ms\tremaining: 458ms\n",
      "1:\tlearn: 7725.4429376\ttest: 7700.0313279\tbest: 7700.0313279 (1)\ttotal: 70.2ms\tremaining: 456ms\n",
      "2:\tlearn: 7525.0662738\ttest: 7501.2488054\tbest: 7501.2488054 (2)\ttotal: 101ms\tremaining: 402ms\n",
      "3:\tlearn: 7329.0861772\ttest: 7305.7407528\tbest: 7305.7407528 (3)\ttotal: 143ms\tremaining: 393ms\n",
      "4:\tlearn: 7139.9202714\ttest: 7117.5415384\tbest: 7117.5415384 (4)\ttotal: 175ms\tremaining: 350ms\n",
      "5:\tlearn: 6956.0918993\ttest: 6935.7520185\tbest: 6935.7520185 (5)\ttotal: 206ms\tremaining: 309ms\n",
      "6:\tlearn: 6775.9848107\ttest: 6756.1468560\tbest: 6756.1468560 (6)\ttotal: 239ms\tremaining: 273ms\n",
      "7:\tlearn: 6603.2985192\ttest: 6584.3348820\tbest: 6584.3348820 (7)\ttotal: 270ms\tremaining: 236ms\n",
      "8:\tlearn: 6434.8050263\ttest: 6416.9446392\tbest: 6416.9446392 (8)\ttotal: 301ms\tremaining: 201ms\n",
      "9:\tlearn: 6272.7064644\ttest: 6256.2098586\tbest: 6256.2098586 (9)\ttotal: 335ms\tremaining: 167ms\n",
      "10:\tlearn: 6114.5687544\ttest: 6099.2494730\tbest: 6099.2494730 (10)\ttotal: 366ms\tremaining: 133ms\n",
      "11:\tlearn: 5961.0792778\ttest: 5946.6059884\tbest: 5946.6059884 (11)\ttotal: 398ms\tremaining: 99.4ms\n",
      "12:\tlearn: 5812.8278104\ttest: 5799.0570847\tbest: 5799.0570847 (12)\ttotal: 436ms\tremaining: 67.1ms\n",
      "13:\tlearn: 5669.1173546\ttest: 5656.1327412\tbest: 5656.1327412 (13)\ttotal: 467ms\tremaining: 33.4ms\n",
      "14:\tlearn: 5531.7115767\ttest: 5520.4254334\tbest: 5520.4254334 (14)\ttotal: 499ms\tremaining: 0us\n",
      "\n",
      "bestTest = 5520.425433\n",
      "bestIteration = 14\n",
      "\n",
      "14:\tloss: 5520.4254334\tbest: 2929.7357583 (9)\ttotal: 2.64s\tremaining: 527ms\n",
      "0:\tlearn: 7434.3214936\ttest: 7411.4090178\tbest: 7411.4090178 (0)\ttotal: 35ms\tremaining: 490ms\n",
      "1:\tlearn: 6786.9019140\ttest: 6768.4814883\tbest: 6768.4814883 (1)\ttotal: 66.6ms\tremaining: 433ms\n",
      "2:\tlearn: 6221.3799975\ttest: 6208.2958884\tbest: 6208.2958884 (2)\ttotal: 98.4ms\tremaining: 394ms\n",
      "3:\tlearn: 5708.4456798\ttest: 5696.9767580\tbest: 5696.9767580 (3)\ttotal: 131ms\tremaining: 362ms\n",
      "4:\tlearn: 5248.3298362\ttest: 5239.1711952\tbest: 5239.1711952 (4)\ttotal: 164ms\tremaining: 328ms\n",
      "5:\tlearn: 4837.0393534\ttest: 4831.2713841\tbest: 4831.2713841 (5)\ttotal: 194ms\tremaining: 292ms\n",
      "6:\tlearn: 4469.7739370\ttest: 4465.7222071\tbest: 4465.7222071 (6)\ttotal: 230ms\tremaining: 263ms\n",
      "7:\tlearn: 4146.4175488\ttest: 4143.9001255\tbest: 4143.9001255 (7)\ttotal: 262ms\tremaining: 229ms\n",
      "8:\tlearn: 3862.2362590\ttest: 3861.9245674\tbest: 3861.9245674 (8)\ttotal: 295ms\tremaining: 197ms\n",
      "9:\tlearn: 3609.5032674\ttest: 3611.2950367\tbest: 3611.2950367 (9)\ttotal: 328ms\tremaining: 164ms\n",
      "10:\tlearn: 3387.9672247\ttest: 3390.5660563\tbest: 3390.5660563 (10)\ttotal: 358ms\tremaining: 130ms\n",
      "11:\tlearn: 3192.8367858\ttest: 3196.6027902\tbest: 3196.6027902 (11)\ttotal: 390ms\tremaining: 97.4ms\n",
      "12:\tlearn: 3023.8017449\ttest: 3027.5701525\tbest: 3027.5701525 (12)\ttotal: 425ms\tremaining: 65.4ms\n",
      "13:\tlearn: 2876.5655520\ttest: 2882.4653752\tbest: 2882.4653752 (13)\ttotal: 456ms\tremaining: 32.6ms\n",
      "14:\tlearn: 2748.5913775\ttest: 2757.0391430\tbest: 2757.0391430 (14)\ttotal: 489ms\tremaining: 0us\n",
      "\n",
      "bestTest = 2757.039143\n",
      "bestIteration = 14\n",
      "\n",
      "15:\tloss: 2757.0391430\tbest: 2757.0391430 (15)\ttotal: 3.14s\tremaining: 392ms\n",
      "0:\tlearn: 7936.2570243\ttest: 7909.3718618\tbest: 7909.3718618 (0)\ttotal: 35.1ms\tremaining: 141ms\n",
      "1:\tlearn: 7725.4429376\ttest: 7700.0313279\tbest: 7700.0313279 (1)\ttotal: 68.3ms\tremaining: 102ms\n",
      "2:\tlearn: 7525.0662738\ttest: 7501.2488054\tbest: 7501.2488054 (2)\ttotal: 100ms\tremaining: 66.8ms\n",
      "3:\tlearn: 7329.0861772\ttest: 7305.7407528\tbest: 7305.7407528 (3)\ttotal: 136ms\tremaining: 34.1ms\n",
      "4:\tlearn: 7139.9202714\ttest: 7117.5415384\tbest: 7117.5415384 (4)\ttotal: 170ms\tremaining: 0us\n",
      "\n",
      "bestTest = 7117.541538\n",
      "bestIteration = 4\n",
      "\n",
      "16:\tloss: 7117.5415384\tbest: 2757.0391430 (15)\ttotal: 3.32s\tremaining: 195ms\n",
      "0:\tlearn: 7434.3214936\ttest: 7411.4090178\tbest: 7411.4090178 (0)\ttotal: 41.7ms\tremaining: 167ms\n",
      "1:\tlearn: 6786.9019140\ttest: 6768.4814883\tbest: 6768.4814883 (1)\ttotal: 80ms\tremaining: 120ms\n",
      "2:\tlearn: 6221.3799975\ttest: 6208.2958884\tbest: 6208.2958884 (2)\ttotal: 115ms\tremaining: 76.9ms\n",
      "3:\tlearn: 5708.4456798\ttest: 5696.9767580\tbest: 5696.9767580 (3)\ttotal: 150ms\tremaining: 37.5ms\n",
      "4:\tlearn: 5248.3298362\ttest: 5239.1711952\tbest: 5239.1711952 (4)\ttotal: 188ms\tremaining: 0us\n",
      "\n",
      "bestTest = 5239.171195\n",
      "bestIteration = 4\n",
      "\n",
      "17:\tloss: 5239.1711952\tbest: 2757.0391430 (15)\ttotal: 3.52s\tremaining: 0us\n",
      "Estimating final quality...\n",
      "Training on fold [0/3]\n",
      "0:\tlearn: 7427.9888987\ttest: 7439.2102701\tbest: 7439.2102701 (0)\ttotal: 31.2ms\tremaining: 437ms\n",
      "1:\tlearn: 6784.4634293\ttest: 6795.3071963\tbest: 6795.3071963 (1)\ttotal: 66.4ms\tremaining: 432ms\n",
      "2:\tlearn: 6207.0721711\ttest: 6217.5717733\tbest: 6217.5717733 (2)\ttotal: 104ms\tremaining: 418ms\n",
      "3:\tlearn: 5689.9115628\ttest: 5699.6664366\tbest: 5699.6664366 (3)\ttotal: 138ms\tremaining: 379ms\n",
      "4:\tlearn: 5236.5140676\ttest: 5245.0122229\tbest: 5245.0122229 (4)\ttotal: 167ms\tremaining: 335ms\n",
      "5:\tlearn: 4833.9550615\ttest: 4843.1404209\tbest: 4843.1404209 (5)\ttotal: 197ms\tremaining: 295ms\n",
      "6:\tlearn: 4467.6883404\ttest: 4475.9182707\tbest: 4475.9182707 (6)\ttotal: 227ms\tremaining: 259ms\n",
      "7:\tlearn: 4147.6865422\ttest: 4155.2124226\tbest: 4155.2124226 (7)\ttotal: 254ms\tremaining: 222ms\n",
      "8:\tlearn: 3863.3598760\ttest: 3869.3329166\tbest: 3869.3329166 (8)\ttotal: 284ms\tremaining: 189ms\n",
      "9:\tlearn: 3615.6749084\ttest: 3621.2493717\tbest: 3621.2493717 (9)\ttotal: 312ms\tremaining: 156ms\n",
      "10:\tlearn: 3399.4269116\ttest: 3404.4115290\tbest: 3404.4115290 (10)\ttotal: 340ms\tremaining: 124ms\n",
      "11:\tlearn: 3205.0251548\ttest: 3209.6492005\tbest: 3209.6492005 (11)\ttotal: 373ms\tremaining: 93.2ms\n",
      "12:\tlearn: 3039.9483445\ttest: 3043.4686628\tbest: 3043.4686628 (12)\ttotal: 399ms\tremaining: 61.4ms\n",
      "13:\tlearn: 2896.6643728\ttest: 2899.0385514\tbest: 2899.0385514 (13)\ttotal: 426ms\tremaining: 30.4ms\n",
      "14:\tlearn: 2769.0297385\ttest: 2770.9214564\tbest: 2770.9214564 (14)\ttotal: 454ms\tremaining: 0us\n",
      "\n",
      "bestTest = 2770.921456\n",
      "bestIteration = 14\n",
      "\n",
      "Training on fold [1/3]\n",
      "0:\tlearn: 7442.2384268\ttest: 7407.3924874\tbest: 7407.3924874 (0)\ttotal: 27.5ms\tremaining: 385ms\n",
      "1:\tlearn: 6795.3960783\ttest: 6761.1272875\tbest: 6761.1272875 (1)\ttotal: 57.4ms\tremaining: 373ms\n",
      "2:\tlearn: 6216.5099340\ttest: 6184.2682872\tbest: 6184.2682872 (2)\ttotal: 85.4ms\tremaining: 341ms\n",
      "3:\tlearn: 5697.3878337\ttest: 5666.0688145\tbest: 5666.0688145 (3)\ttotal: 113ms\tremaining: 311ms\n",
      "4:\tlearn: 5241.9359532\ttest: 5211.9856043\tbest: 5211.9856043 (4)\ttotal: 141ms\tremaining: 283ms\n",
      "5:\tlearn: 4835.1906978\ttest: 4807.0882501\tbest: 4807.0882501 (5)\ttotal: 169ms\tremaining: 253ms\n",
      "6:\tlearn: 4469.3824086\ttest: 4442.5037281\tbest: 4442.5037281 (6)\ttotal: 199ms\tremaining: 227ms\n",
      "7:\tlearn: 4150.4605623\ttest: 4125.5784046\tbest: 4125.5784046 (7)\ttotal: 227ms\tremaining: 199ms\n",
      "8:\tlearn: 3863.9701259\ttest: 3841.7497144\tbest: 3841.7497144 (8)\ttotal: 260ms\tremaining: 174ms\n",
      "9:\tlearn: 3614.8567725\ttest: 3595.0721870\tbest: 3595.0721870 (9)\ttotal: 291ms\tremaining: 146ms\n",
      "10:\tlearn: 3396.1671585\ttest: 3378.8617795\tbest: 3378.8617795 (10)\ttotal: 318ms\tremaining: 116ms\n",
      "11:\tlearn: 3196.8191729\ttest: 3181.5174311\tbest: 3181.5174311 (11)\ttotal: 345ms\tremaining: 86.3ms\n",
      "12:\tlearn: 3027.3310583\ttest: 3013.7765290\tbest: 3013.7765290 (12)\ttotal: 373ms\tremaining: 57.4ms\n",
      "13:\tlearn: 2880.7208864\ttest: 2869.3699492\tbest: 2869.3699492 (13)\ttotal: 401ms\tremaining: 28.6ms\n",
      "14:\tlearn: 2760.4370186\ttest: 2751.3942655\tbest: 2751.3942655 (14)\ttotal: 428ms\tremaining: 0us\n",
      "\n",
      "bestTest = 2751.394265\n",
      "bestIteration = 14\n",
      "\n",
      "Training on fold [2/3]\n",
      "0:\tlearn: 7423.5119468\ttest: 7448.5079676\tbest: 7448.5079676 (0)\ttotal: 28.1ms\tremaining: 394ms\n",
      "1:\tlearn: 6794.4586174\ttest: 6821.4035020\tbest: 6821.4035020 (1)\ttotal: 59ms\tremaining: 383ms\n",
      "2:\tlearn: 6209.7437751\ttest: 6236.6773961\tbest: 6236.6773961 (2)\ttotal: 85.6ms\tremaining: 342ms\n",
      "3:\tlearn: 5690.5795679\ttest: 5717.3125515\tbest: 5717.3125515 (3)\ttotal: 112ms\tremaining: 309ms\n",
      "4:\tlearn: 5235.0023679\ttest: 5262.0723071\tbest: 5262.0723071 (4)\ttotal: 139ms\tremaining: 279ms\n",
      "5:\tlearn: 4833.8213622\ttest: 4861.7771767\tbest: 4861.7771767 (5)\ttotal: 166ms\tremaining: 249ms\n",
      "6:\tlearn: 4466.4819781\ttest: 4495.8172668\tbest: 4495.8172668 (6)\ttotal: 192ms\tremaining: 219ms\n",
      "7:\tlearn: 4149.1913820\ttest: 4179.5042762\tbest: 4179.5042762 (7)\ttotal: 219ms\tremaining: 191ms\n",
      "8:\tlearn: 3860.7874301\ttest: 3891.7002083\tbest: 3891.7002083 (8)\ttotal: 250ms\tremaining: 167ms\n",
      "9:\tlearn: 3613.8426522\ttest: 3646.6127575\tbest: 3646.6127575 (9)\ttotal: 279ms\tremaining: 139ms\n",
      "10:\tlearn: 3396.0103028\ttest: 3429.3379737\tbest: 3429.3379737 (10)\ttotal: 307ms\tremaining: 112ms\n",
      "11:\tlearn: 3204.7646501\ttest: 3239.6473118\tbest: 3239.6473118 (11)\ttotal: 334ms\tremaining: 83.5ms\n",
      "12:\tlearn: 3034.6578566\ttest: 3070.5045855\tbest: 3070.5045855 (12)\ttotal: 362ms\tremaining: 55.6ms\n",
      "13:\tlearn: 2885.9532507\ttest: 2922.9942025\tbest: 2922.9942025 (13)\ttotal: 390ms\tremaining: 27.9ms\n",
      "14:\tlearn: 2759.6113682\ttest: 2796.4033808\tbest: 2796.4033808 (14)\ttotal: 417ms\tremaining: 0us\n",
      "\n",
      "bestTest = 2796.403381\n",
      "bestIteration = 14\n",
      "\n",
      "Затрачено времени на исполнение 6.33\n",
      "\n",
      "Best Params :  {'depth': 10, 'iterations': 15, 'learning_rate': 0.1}\n",
      "CPU times: user 5.14 s, sys: 162 ms, total: 5.3 s\n",
      "Wall time: 6.33 s\n"
     ]
    }
   ],
   "source": [
    "%%time\n",
    "start = timer()\n",
    "model_1 = CatBoostRegressor(loss_function='RMSE')\n",
    "\n",
    "params = [{'learning_rate': [.03, .1],\n",
    "        'depth': [4, 6, 10],\n",
    "        'iterations': [1, 15,5]}]\n",
    "\n",
    "grid_search_result = model_1.grid_search(params,\n",
    "                                       X=features_train,\n",
    "                                       y=target_train,\n",
    "                                       plot=False)\n",
    "end = timer()\n",
    "tl_5 = end - start\n",
    "print('Затрачено времени на исполнение',round(tl_5, 3))\n",
    "print(\"\\nBest Params : \", grid_search_result['params'])"
   ]
  },
  {
   "cell_type": "code",
   "execution_count": 32,
   "metadata": {},
   "outputs": [
    {
     "name": "stdout",
     "output_type": "stream",
     "text": [
      "0:\tlearn: 4355.0371666\ttotal: 35.3ms\tremaining: 495ms\n",
      "1:\tlearn: 4072.9859623\ttotal: 74.5ms\tremaining: 484ms\n",
      "2:\tlearn: 3817.2526647\ttotal: 113ms\tremaining: 451ms\n",
      "3:\tlearn: 3591.9342139\ttotal: 149ms\tremaining: 410ms\n",
      "4:\tlearn: 3397.6853308\ttotal: 185ms\tremaining: 370ms\n",
      "5:\tlearn: 3222.4058609\ttotal: 221ms\tremaining: 331ms\n",
      "6:\tlearn: 3070.9875023\ttotal: 258ms\tremaining: 295ms\n",
      "7:\tlearn: 2937.5278622\ttotal: 295ms\tremaining: 258ms\n",
      "8:\tlearn: 2816.6044664\ttotal: 330ms\tremaining: 220ms\n",
      "9:\tlearn: 2713.1055090\ttotal: 364ms\tremaining: 182ms\n",
      "10:\tlearn: 2620.9887231\ttotal: 399ms\tremaining: 145ms\n",
      "11:\tlearn: 2542.1711846\ttotal: 433ms\tremaining: 108ms\n",
      "12:\tlearn: 2472.4366124\ttotal: 468ms\tremaining: 72.1ms\n",
      "13:\tlearn: 2409.2468259\ttotal: 504ms\tremaining: 36ms\n",
      "14:\tlearn: 2351.4223384\ttotal: 539ms\tremaining: 0us\n",
      "Затрачено времени на обучения 1.038\n",
      "CPU times: user 619 ms, sys: 0 ns, total: 619 ms\n",
      "Wall time: 1.04 s\n"
     ]
    }
   ],
   "source": [
    "%%time\n",
    "start = timer()\n",
    "model_1 = CatBoostRegressor(loss_function='RMSE', iterations=15, depth = 10,learning_rate = .1) \n",
    "model_1.fit(features_train, target_train) #время обучения\n",
    "end = timer()\n",
    "tl_6 = end - start\n",
    "print('Затрачено времени на обучения',round(tl_6, 3))\n",
    "# cat_features = cat_features_ohe"
   ]
  },
  {
   "cell_type": "code",
   "execution_count": 33,
   "metadata": {},
   "outputs": [
    {
     "name": "stdout",
     "output_type": "stream",
     "text": [
      "Затрачено времени на предсказание 0.022\n",
      "CPU times: user 24.6 ms, sys: 0 ns, total: 24.6 ms\n",
      "Wall time: 22.5 ms\n"
     ]
    }
   ],
   "source": [
    "%%time\n",
    "start = timer()\n",
    "predict_cb=model_1.predict(features_train)\n",
    "end = timer()\n",
    "tl_7 = end - start\n",
    "print('Затрачено времени на предсказание',round(tl_7, 3))"
   ]
  },
  {
   "cell_type": "code",
   "execution_count": 34,
   "metadata": {},
   "outputs": [
    {
     "name": "stdout",
     "output_type": "stream",
     "text": [
      "2351.422338386975\n"
     ]
    }
   ],
   "source": [
    "x = rmse(target_train, predict_cb)\n",
    "print(x) "
   ]
  },
  {
   "cell_type": "markdown",
   "metadata": {},
   "source": [
    "### LightGBM (от англ. light gradient boosting machine; «лёгкая машина градиентного бустинга»)"
   ]
  },
  {
   "cell_type": "code",
   "execution_count": 35,
   "metadata": {},
   "outputs": [
    {
     "name": "stdout",
     "output_type": "stream",
     "text": [
      "{'learning_rate': 0.5, 'num_leaves': 10} 1745.04\n",
      "CPU times: user 51.9 s, sys: 4.34 ms, total: 51.9 s\n",
      "Wall time: 52.6 s\n"
     ]
    }
   ],
   "source": [
    "%%time\n",
    "\n",
    "model_2 = LGBMRegressor(random_state = 12345) \n",
    "\n",
    "params = [{'num_leaves':[4, 6, 10], 'learning_rate':[.1, .3, .5]}]\n",
    "\n",
    "grid_search_result_2 = GridSearchCV(model_2, params, scoring='neg_mean_squared_error', cv = 3)\n",
    "grid_search_result_2.fit(features_train, target_train)\n",
    "y = grid_search_result_2.best_score_\n",
    "\n",
    "print(grid_search_result_2.best_params_, np.sqrt(-y).round(2))"
   ]
  },
  {
   "cell_type": "code",
   "execution_count": 36,
   "metadata": {},
   "outputs": [],
   "source": [
    "# {'learning_rate': 0.5, 'num_leaves': 10} 1745.04\n",
    "# CPU times: user 8min 14s, sys: 4.69 s, total: 8min 18s\n",
    "# Wall time: 8min 22s"
   ]
  },
  {
   "cell_type": "code",
   "execution_count": 37,
   "metadata": {},
   "outputs": [
    {
     "name": "stdout",
     "output_type": "stream",
     "text": [
      "Затрачено времени на обучение 3.782\n",
      "CPU times: user 3.75 s, sys: 3.83 ms, total: 3.76 s\n",
      "Wall time: 3.78 s\n"
     ]
    }
   ],
   "source": [
    "%%time\n",
    "start = timer()\n",
    "model_2 = LGBMRegressor(num_leaves = 10, learning_rate = .5, random_state = 12345)\n",
    "model_2.fit(features_train, target_train)\n",
    "end = timer()\n",
    "tl_9 = end - start\n",
    "print('Затрачено времени на обучение',round(tl_9, 3))"
   ]
  },
  {
   "cell_type": "code",
   "execution_count": 38,
   "metadata": {},
   "outputs": [
    {
     "name": "stdout",
     "output_type": "stream",
     "text": [
      "Затрачено времени на предсказание 0.694\n",
      "CPU times: user 658 ms, sys: 0 ns, total: 658 ms\n",
      "Wall time: 695 ms\n"
     ]
    }
   ],
   "source": [
    "%%time\n",
    "start = timer()\n",
    "predict_lg=model_2.predict(features_train)\n",
    "end = timer()\n",
    "tl_10 = end - start\n",
    "print('Затрачено времени на предсказание',round(tl_10, 3))"
   ]
  },
  {
   "cell_type": "code",
   "execution_count": 39,
   "metadata": {},
   "outputs": [
    {
     "name": "stdout",
     "output_type": "stream",
     "text": [
      "1709.7988803182684\n"
     ]
    }
   ],
   "source": [
    "y = rmse(target_train, predict_lg)\n",
    "print(y) "
   ]
  },
  {
   "cell_type": "markdown",
   "metadata": {},
   "source": [
    "### Дерево решений"
   ]
  },
  {
   "cell_type": "code",
   "execution_count": 40,
   "metadata": {},
   "outputs": [
    {
     "name": "stdout",
     "output_type": "stream",
     "text": [
      "{'model__max_depth': 21} 2018.7821498613282\n",
      "CPU times: user 8.26 s, sys: 13.2 ms, total: 8.27 s\n",
      "Wall time: 8.34 s\n"
     ]
    }
   ],
   "source": [
    "%%time\n",
    "model_3 = DecisionTreeRegressor(random_state = 12345)\n",
    "\n",
    "pipelin = Pipeline(steps=[(\"model\", model_3)])\n",
    "param_grid = {\"model__max_depth\":range(1,101,10)} \n",
    "search_3 = GridSearchCV(pipelin, param_grid, scoring = 'neg_mean_squared_error', cv = 3)\n",
    "search_3.fit(features_train, target_train)\n",
    "z = search_3.best_score_\n",
    "print(search_3.best_params_, np.sqrt(-z))"
   ]
  },
  {
   "cell_type": "code",
   "execution_count": 41,
   "metadata": {},
   "outputs": [
    {
     "name": "stdout",
     "output_type": "stream",
     "text": [
      "Затрачено времени на обучение 0.391\n",
      "CPU times: user 386 ms, sys: 0 ns, total: 386 ms\n",
      "Wall time: 391 ms\n"
     ]
    }
   ],
   "source": [
    "%%time\n",
    "start = timer()\n",
    "model_3 = DecisionTreeRegressor(max_depth = 21, random_state = 12345)\n",
    "model_3.fit(features_train, target_train)\n",
    "end = timer()\n",
    "tl_11 = end - start\n",
    "print('Затрачено времени на обучение',round(tl_11, 3))"
   ]
  },
  {
   "cell_type": "code",
   "execution_count": 42,
   "metadata": {},
   "outputs": [
    {
     "name": "stdout",
     "output_type": "stream",
     "text": [
      "Затрачено времени на предсказание 0.05\n",
      "CPU times: user 47.4 ms, sys: 0 ns, total: 47.4 ms\n",
      "Wall time: 50.2 ms\n"
     ]
    }
   ],
   "source": [
    "%%time\n",
    "start = timer()\n",
    "target_predict = model_3.predict(features_train)\n",
    "end = timer()\n",
    "tl_12 = end - start\n",
    "print('Затрачено времени на предсказание',round(tl_12, 3))"
   ]
  },
  {
   "cell_type": "code",
   "execution_count": 43,
   "metadata": {},
   "outputs": [
    {
     "name": "stdout",
     "output_type": "stream",
     "text": [
      "\n",
      "rmse:  1017.52\n"
     ]
    }
   ],
   "source": [
    "z = rmse(target_train,target_predict).round(2)\n",
    "print(\"\\nrmse: \",z)"
   ]
  },
  {
   "cell_type": "markdown",
   "metadata": {},
   "source": [
    "## Анализ моделей"
   ]
  },
  {
   "cell_type": "markdown",
   "metadata": {},
   "source": [
    "Сравним показатели"
   ]
  },
  {
   "cell_type": "code",
   "execution_count": 44,
   "metadata": {},
   "outputs": [
    {
     "data": {
      "text/html": [
       "<div>\n",
       "<style scoped>\n",
       "    .dataframe tbody tr th:only-of-type {\n",
       "        vertical-align: middle;\n",
       "    }\n",
       "\n",
       "    .dataframe tbody tr th {\n",
       "        vertical-align: top;\n",
       "    }\n",
       "\n",
       "    .dataframe thead th {\n",
       "        text-align: right;\n",
       "    }\n",
       "</style>\n",
       "<table border=\"1\" class=\"dataframe\">\n",
       "  <thead>\n",
       "    <tr style=\"text-align: right;\">\n",
       "      <th></th>\n",
       "      <th>LinearRegression</th>\n",
       "      <th>CatBoostRegressor</th>\n",
       "      <th>LightGBM</th>\n",
       "      <th>DecisionTreeRegressor</th>\n",
       "    </tr>\n",
       "  </thead>\n",
       "  <tbody>\n",
       "    <tr>\n",
       "      <th>RMSE</th>\n",
       "      <td>2838.937946</td>\n",
       "      <td>2351.422338</td>\n",
       "      <td>1709.798880</td>\n",
       "      <td>1017.520000</td>\n",
       "    </tr>\n",
       "    <tr>\n",
       "      <th>time_fit</th>\n",
       "      <td>12.062212</td>\n",
       "      <td>1.037748</td>\n",
       "      <td>3.781673</td>\n",
       "      <td>0.390528</td>\n",
       "    </tr>\n",
       "    <tr>\n",
       "      <th>time_predict</th>\n",
       "      <td>0.012403</td>\n",
       "      <td>0.022124</td>\n",
       "      <td>0.694068</td>\n",
       "      <td>0.049961</td>\n",
       "    </tr>\n",
       "  </tbody>\n",
       "</table>\n",
       "</div>"
      ],
      "text/plain": [
       "              LinearRegression  CatBoostRegressor     LightGBM  \\\n",
       "RMSE               2838.937946        2351.422338  1709.798880   \n",
       "time_fit             12.062212           1.037748     3.781673   \n",
       "time_predict          0.012403           0.022124     0.694068   \n",
       "\n",
       "              DecisionTreeRegressor  \n",
       "RMSE                    1017.520000  \n",
       "time_fit                   0.390528  \n",
       "time_predict               0.049961  "
      ]
     },
     "execution_count": 44,
     "metadata": {},
     "output_type": "execute_result"
    }
   ],
   "source": [
    "result = pd.DataFrame(\n",
    "    [[rmse_lr, x,y,z],[tl_2, tl_6,tl_9,tl_11],[tl_3, tl_7,tl_10,tl_12]], \n",
    "    columns=['LinearRegression', 'CatBoostRegressor', 'LightGBM', 'DecisionTreeRegressor'], \n",
    "    index=['RMSE', 'time_fit','time_predict']\n",
    ")\n",
    "result"
   ]
  },
  {
   "cell_type": "markdown",
   "metadata": {},
   "source": [
    "Лучшее сочетание времени обучения, предсказания и rmse на трейне показала модель Дерева решений.\n",
    "Протестируем ее на тестовой выборке"
   ]
  },
  {
   "cell_type": "code",
   "execution_count": 45,
   "metadata": {},
   "outputs": [
    {
     "name": "stdout",
     "output_type": "stream",
     "text": [
      "\n",
      "rmse:  2098.83\n"
     ]
    }
   ],
   "source": [
    "model_3 = DecisionTreeRegressor(max_depth = 21, random_state = 12345)\n",
    "model_3.fit(features_train, target_train)\n",
    "target_predict = model_3.predict(features_test)\n",
    "print(\"\\nrmse: \",rmse(target_test,target_predict).round(2))"
   ]
  },
  {
   "cell_type": "markdown",
   "metadata": {},
   "source": [
    "Полученный размер ошибки модели соовтетствует условиям задачи"
   ]
  }
 ],
 "metadata": {
  "ExecuteTimeLog": [
   {
    "duration": 2121,
    "start_time": "2023-02-09T15:31:09.548Z"
   },
   {
    "duration": 1197,
    "start_time": "2023-02-09T15:31:11.671Z"
   },
   {
    "duration": 849,
    "start_time": "2023-02-09T15:31:25.802Z"
   },
   {
    "duration": 619,
    "start_time": "2023-02-09T15:32:22.275Z"
   },
   {
    "duration": 125,
    "start_time": "2023-02-09T15:52:02.724Z"
   },
   {
    "duration": 134,
    "start_time": "2023-02-09T15:54:42.180Z"
   },
   {
    "duration": 65,
    "start_time": "2023-02-09T15:55:11.029Z"
   },
   {
    "duration": 82,
    "start_time": "2023-02-09T15:55:24.684Z"
   },
   {
    "duration": 80,
    "start_time": "2023-02-09T15:56:06.934Z"
   },
   {
    "duration": 9,
    "start_time": "2023-02-09T15:59:21.459Z"
   },
   {
    "duration": 307,
    "start_time": "2023-02-09T15:59:31.608Z"
   },
   {
    "duration": 104,
    "start_time": "2023-02-09T16:00:53.028Z"
   },
   {
    "duration": 126,
    "start_time": "2023-02-09T16:01:26.095Z"
   },
   {
    "duration": 431,
    "start_time": "2023-02-09T16:14:04.069Z"
   },
   {
    "duration": 534,
    "start_time": "2023-02-09T16:14:33.033Z"
   },
   {
    "duration": 478,
    "start_time": "2023-02-09T16:14:45.821Z"
   },
   {
    "duration": 27,
    "start_time": "2023-02-09T16:19:22.008Z"
   },
   {
    "duration": 102,
    "start_time": "2023-02-09T16:19:32.460Z"
   },
   {
    "duration": 56,
    "start_time": "2023-02-09T16:38:46.090Z"
   },
   {
    "duration": 81,
    "start_time": "2023-02-09T16:40:02.275Z"
   },
   {
    "duration": 41,
    "start_time": "2023-02-09T16:42:03.994Z"
   },
   {
    "duration": 17,
    "start_time": "2023-02-09T16:42:17.480Z"
   },
   {
    "duration": 25,
    "start_time": "2023-02-09T16:42:27.222Z"
   },
   {
    "duration": 2,
    "start_time": "2023-02-09T16:42:59.583Z"
   },
   {
    "duration": 4,
    "start_time": "2023-02-09T16:43:37.468Z"
   },
   {
    "duration": 483,
    "start_time": "2023-02-09T16:46:25.068Z"
   },
   {
    "duration": 146,
    "start_time": "2023-02-09T16:48:53.576Z"
   },
   {
    "duration": 134,
    "start_time": "2023-02-09T16:49:06.912Z"
   },
   {
    "duration": 20,
    "start_time": "2023-02-09T16:51:44.633Z"
   },
   {
    "duration": 1249,
    "start_time": "2023-02-09T16:51:49.556Z"
   },
   {
    "duration": 209,
    "start_time": "2023-02-09T16:53:24.737Z"
   },
   {
    "duration": 336,
    "start_time": "2023-02-09T16:53:42.973Z"
   },
   {
    "duration": 1242,
    "start_time": "2023-02-09T16:53:50.514Z"
   },
   {
    "duration": 56,
    "start_time": "2023-02-09T16:54:39.622Z"
   },
   {
    "duration": 27,
    "start_time": "2023-02-09T16:54:43.573Z"
   },
   {
    "duration": 23282,
    "start_time": "2023-02-09T16:58:01.265Z"
   },
   {
    "duration": 21269,
    "start_time": "2023-02-09T16:59:03.965Z"
   },
   {
    "duration": 16,
    "start_time": "2023-02-09T17:01:16.279Z"
   },
   {
    "duration": 1867,
    "start_time": "2023-02-09T17:01:48.150Z"
   },
   {
    "duration": 1600,
    "start_time": "2023-02-09T17:08:25.117Z"
   },
   {
    "duration": 1897,
    "start_time": "2023-02-09T17:09:14.464Z"
   },
   {
    "duration": 1426,
    "start_time": "2023-02-09T17:09:16.363Z"
   },
   {
    "duration": 998,
    "start_time": "2023-02-09T17:09:17.791Z"
   },
   {
    "duration": 661,
    "start_time": "2023-02-09T17:09:18.791Z"
   },
   {
    "duration": 161,
    "start_time": "2023-02-09T17:09:19.454Z"
   },
   {
    "duration": 125,
    "start_time": "2023-02-09T17:09:19.628Z"
   },
   {
    "duration": 3,
    "start_time": "2023-02-09T17:09:19.754Z"
   },
   {
    "duration": 215,
    "start_time": "2023-02-09T17:09:19.758Z"
   },
   {
    "duration": 63,
    "start_time": "2023-02-09T17:09:19.975Z"
   },
   {
    "duration": 56,
    "start_time": "2023-02-09T17:09:20.040Z"
   },
   {
    "duration": 5,
    "start_time": "2023-02-09T17:09:20.098Z"
   },
   {
    "duration": 406,
    "start_time": "2023-02-09T17:09:20.105Z"
   },
   {
    "duration": 4,
    "start_time": "2023-02-09T17:09:20.512Z"
   },
   {
    "duration": 28,
    "start_time": "2023-02-09T17:09:20.518Z"
   },
   {
    "duration": 1455,
    "start_time": "2023-02-09T17:09:20.548Z"
   },
   {
    "duration": 152,
    "start_time": "2023-02-09T17:51:34.020Z"
   },
   {
    "duration": 165,
    "start_time": "2023-02-09T17:52:39.681Z"
   },
   {
    "duration": 21,
    "start_time": "2023-02-09T17:54:20.784Z"
   },
   {
    "duration": 48,
    "start_time": "2023-02-11T09:15:38.030Z"
   },
   {
    "duration": 1630,
    "start_time": "2023-02-11T09:15:43.527Z"
   },
   {
    "duration": 1059,
    "start_time": "2023-02-11T09:15:45.160Z"
   },
   {
    "duration": 717,
    "start_time": "2023-02-11T09:15:46.221Z"
   },
   {
    "duration": 507,
    "start_time": "2023-02-11T09:15:46.940Z"
   },
   {
    "duration": 108,
    "start_time": "2023-02-11T09:15:47.449Z"
   },
   {
    "duration": 2,
    "start_time": "2023-02-11T09:15:47.559Z"
   },
   {
    "duration": 6,
    "start_time": "2023-02-11T09:15:47.562Z"
   },
   {
    "duration": 166,
    "start_time": "2023-02-11T09:15:47.570Z"
   },
   {
    "duration": 40,
    "start_time": "2023-02-11T09:15:47.738Z"
   },
   {
    "duration": 57,
    "start_time": "2023-02-11T09:15:47.781Z"
   },
   {
    "duration": 3,
    "start_time": "2023-02-11T09:15:47.839Z"
   },
   {
    "duration": 459,
    "start_time": "2023-02-11T09:15:47.843Z"
   },
   {
    "duration": 3,
    "start_time": "2023-02-11T09:15:48.303Z"
   },
   {
    "duration": 1611,
    "start_time": "2023-02-11T09:15:48.308Z"
   },
   {
    "duration": 94,
    "start_time": "2023-02-11T09:15:49.921Z"
   },
   {
    "duration": 5,
    "start_time": "2023-02-11T09:28:23.184Z"
   },
   {
    "duration": 5,
    "start_time": "2023-02-11T09:28:40.073Z"
   },
   {
    "duration": 3,
    "start_time": "2023-02-11T09:28:59.235Z"
   },
   {
    "duration": 714,
    "start_time": "2023-02-11T09:28:59.240Z"
   },
   {
    "duration": 660,
    "start_time": "2023-02-11T09:28:59.956Z"
   },
   {
    "duration": 430,
    "start_time": "2023-02-11T09:29:00.619Z"
   },
   {
    "duration": 97,
    "start_time": "2023-02-11T09:29:01.051Z"
   },
   {
    "duration": 5,
    "start_time": "2023-02-11T09:29:01.150Z"
   },
   {
    "duration": 8,
    "start_time": "2023-02-11T09:29:01.156Z"
   },
   {
    "duration": 174,
    "start_time": "2023-02-11T09:29:01.166Z"
   },
   {
    "duration": 42,
    "start_time": "2023-02-11T09:29:01.342Z"
   },
   {
    "duration": 42,
    "start_time": "2023-02-11T09:29:01.386Z"
   },
   {
    "duration": 2,
    "start_time": "2023-02-11T09:29:01.430Z"
   },
   {
    "duration": 347,
    "start_time": "2023-02-11T09:29:01.434Z"
   },
   {
    "duration": 2,
    "start_time": "2023-02-11T09:29:01.783Z"
   },
   {
    "duration": 1390,
    "start_time": "2023-02-11T09:29:01.786Z"
   },
   {
    "duration": 19,
    "start_time": "2023-02-11T09:29:03.178Z"
   },
   {
    "duration": 78,
    "start_time": "2023-02-11T12:20:18.451Z"
   },
   {
    "duration": 1714,
    "start_time": "2023-02-11T12:20:22.181Z"
   },
   {
    "duration": 3566,
    "start_time": "2023-02-11T12:20:23.897Z"
   },
   {
    "duration": 795,
    "start_time": "2023-02-11T12:20:27.465Z"
   },
   {
    "duration": 602,
    "start_time": "2023-02-11T12:20:28.262Z"
   },
   {
    "duration": 147,
    "start_time": "2023-02-11T12:20:28.867Z"
   },
   {
    "duration": 7,
    "start_time": "2023-02-11T12:20:29.017Z"
   },
   {
    "duration": 9,
    "start_time": "2023-02-11T12:20:29.025Z"
   },
   {
    "duration": 226,
    "start_time": "2023-02-11T12:20:29.036Z"
   },
   {
    "duration": 53,
    "start_time": "2023-02-11T12:20:29.264Z"
   },
   {
    "duration": 51,
    "start_time": "2023-02-11T12:20:29.320Z"
   },
   {
    "duration": 3,
    "start_time": "2023-02-11T12:20:29.373Z"
   },
   {
    "duration": 477,
    "start_time": "2023-02-11T12:20:29.377Z"
   },
   {
    "duration": 3,
    "start_time": "2023-02-11T12:20:29.856Z"
   },
   {
    "duration": 1665,
    "start_time": "2023-02-11T12:20:29.863Z"
   },
   {
    "duration": 7,
    "start_time": "2023-02-11T12:20:31.530Z"
   },
   {
    "duration": 1937,
    "start_time": "2023-02-11T12:24:55.208Z"
   },
   {
    "duration": 4,
    "start_time": "2023-02-11T12:25:01.252Z"
   },
   {
    "duration": 898,
    "start_time": "2023-02-11T12:25:01.258Z"
   },
   {
    "duration": 689,
    "start_time": "2023-02-11T12:25:02.157Z"
   },
   {
    "duration": 471,
    "start_time": "2023-02-11T12:25:02.848Z"
   },
   {
    "duration": 152,
    "start_time": "2023-02-11T12:25:03.322Z"
   },
   {
    "duration": 14,
    "start_time": "2023-02-11T12:25:03.476Z"
   },
   {
    "duration": 26,
    "start_time": "2023-02-11T12:25:03.495Z"
   },
   {
    "duration": 244,
    "start_time": "2023-02-11T12:25:03.523Z"
   },
   {
    "duration": 51,
    "start_time": "2023-02-11T12:25:03.769Z"
   },
   {
    "duration": 43,
    "start_time": "2023-02-11T12:25:03.822Z"
   },
   {
    "duration": 369,
    "start_time": "2023-02-11T12:25:03.867Z"
   },
   {
    "duration": 1435,
    "start_time": "2023-02-11T12:25:04.237Z"
   },
   {
    "duration": 1418,
    "start_time": "2023-02-11T12:27:59.353Z"
   },
   {
    "duration": 171,
    "start_time": "2023-02-11T12:31:02.008Z"
   },
   {
    "duration": 19,
    "start_time": "2023-02-11T12:31:05.288Z"
   },
   {
    "duration": 4,
    "start_time": "2023-02-11T12:31:08.492Z"
   },
   {
    "duration": 778,
    "start_time": "2023-02-11T12:31:08.498Z"
   },
   {
    "duration": 660,
    "start_time": "2023-02-11T12:31:09.279Z"
   },
   {
    "duration": 455,
    "start_time": "2023-02-11T12:31:09.941Z"
   },
   {
    "duration": 119,
    "start_time": "2023-02-11T12:31:10.398Z"
   },
   {
    "duration": 2,
    "start_time": "2023-02-11T12:31:10.519Z"
   },
   {
    "duration": 4,
    "start_time": "2023-02-11T12:31:10.523Z"
   },
   {
    "duration": 183,
    "start_time": "2023-02-11T12:31:10.529Z"
   },
   {
    "duration": 39,
    "start_time": "2023-02-11T12:31:10.714Z"
   },
   {
    "duration": 52,
    "start_time": "2023-02-11T12:31:10.754Z"
   },
   {
    "duration": 350,
    "start_time": "2023-02-11T12:31:10.809Z"
   },
   {
    "duration": 1350,
    "start_time": "2023-02-11T12:31:11.161Z"
   },
   {
    "duration": 775,
    "start_time": "2023-02-11T12:35:28.059Z"
   },
   {
    "duration": 101,
    "start_time": "2023-02-11T12:36:05.648Z"
   },
   {
    "duration": 5,
    "start_time": "2023-02-11T12:39:35.576Z"
   },
   {
    "duration": 16,
    "start_time": "2023-02-11T12:41:42.875Z"
   },
   {
    "duration": 431,
    "start_time": "2023-02-11T12:47:53.889Z"
   },
   {
    "duration": 17,
    "start_time": "2023-02-11T12:47:56.827Z"
   },
   {
    "duration": 443,
    "start_time": "2023-02-11T12:48:17.560Z"
   },
   {
    "duration": 222,
    "start_time": "2023-02-11T12:48:31.769Z"
   },
   {
    "duration": 202,
    "start_time": "2023-02-11T12:48:55.540Z"
   },
   {
    "duration": 209,
    "start_time": "2023-02-11T12:49:02.866Z"
   },
   {
    "duration": 214,
    "start_time": "2023-02-11T12:49:36.792Z"
   },
   {
    "duration": 221,
    "start_time": "2023-02-11T12:49:41.312Z"
   },
   {
    "duration": 233,
    "start_time": "2023-02-11T12:49:54.730Z"
   },
   {
    "duration": 5,
    "start_time": "2023-02-11T12:51:41.953Z"
   },
   {
    "duration": 957,
    "start_time": "2023-02-11T12:51:41.960Z"
   },
   {
    "duration": 717,
    "start_time": "2023-02-11T12:51:42.919Z"
   },
   {
    "duration": 447,
    "start_time": "2023-02-11T12:51:43.639Z"
   },
   {
    "duration": 136,
    "start_time": "2023-02-11T12:51:44.091Z"
   },
   {
    "duration": 2,
    "start_time": "2023-02-11T12:51:44.229Z"
   },
   {
    "duration": 6,
    "start_time": "2023-02-11T12:51:44.232Z"
   },
   {
    "duration": 196,
    "start_time": "2023-02-11T12:51:44.241Z"
   },
   {
    "duration": 35,
    "start_time": "2023-02-11T12:51:44.439Z"
   },
   {
    "duration": 47,
    "start_time": "2023-02-11T12:51:44.477Z"
   },
   {
    "duration": 355,
    "start_time": "2023-02-11T12:51:44.526Z"
   },
   {
    "duration": 19,
    "start_time": "2023-02-11T12:51:44.884Z"
   },
   {
    "duration": 585,
    "start_time": "2023-02-11T12:51:44.906Z"
   },
   {
    "duration": 5,
    "start_time": "2023-02-11T12:55:39.832Z"
   },
   {
    "duration": 10,
    "start_time": "2023-02-11T12:57:50.835Z"
   },
   {
    "duration": 5,
    "start_time": "2023-02-11T12:58:19.713Z"
   },
   {
    "duration": 5,
    "start_time": "2023-02-11T12:58:35.067Z"
   },
   {
    "duration": 3,
    "start_time": "2023-02-11T13:08:03.551Z"
   },
   {
    "duration": 15,
    "start_time": "2023-02-11T13:13:09.617Z"
   },
   {
    "duration": 7,
    "start_time": "2023-02-11T13:14:05.950Z"
   },
   {
    "duration": 17,
    "start_time": "2023-02-11T13:14:10.089Z"
   },
   {
    "duration": 6,
    "start_time": "2023-02-11T13:15:10.356Z"
   },
   {
    "duration": 13,
    "start_time": "2023-02-11T13:15:15.002Z"
   },
   {
    "duration": 6,
    "start_time": "2023-02-11T13:15:37.373Z"
   },
   {
    "duration": 16,
    "start_time": "2023-02-11T13:15:41.754Z"
   },
   {
    "duration": 19,
    "start_time": "2023-02-11T13:17:06.056Z"
   },
   {
    "duration": 1093,
    "start_time": "2023-02-11T13:17:22.909Z"
   },
   {
    "duration": 5,
    "start_time": "2023-02-11T13:19:27.913Z"
   },
   {
    "duration": 20,
    "start_time": "2023-02-11T13:37:00.313Z"
   },
   {
    "duration": 4,
    "start_time": "2023-02-11T13:37:03.727Z"
   },
   {
    "duration": 795,
    "start_time": "2023-02-11T13:37:03.733Z"
   },
   {
    "duration": 736,
    "start_time": "2023-02-11T13:37:04.530Z"
   },
   {
    "duration": 505,
    "start_time": "2023-02-11T13:37:05.269Z"
   },
   {
    "duration": 157,
    "start_time": "2023-02-11T13:37:05.776Z"
   },
   {
    "duration": 7,
    "start_time": "2023-02-11T13:37:05.936Z"
   },
   {
    "duration": 9,
    "start_time": "2023-02-11T13:37:05.944Z"
   },
   {
    "duration": 205,
    "start_time": "2023-02-11T13:37:05.954Z"
   },
   {
    "duration": 52,
    "start_time": "2023-02-11T13:37:06.162Z"
   },
   {
    "duration": 48,
    "start_time": "2023-02-11T13:37:06.217Z"
   },
   {
    "duration": 416,
    "start_time": "2023-02-11T13:37:06.267Z"
   },
   {
    "duration": 22,
    "start_time": "2023-02-11T13:37:06.684Z"
   },
   {
    "duration": 698,
    "start_time": "2023-02-11T13:37:06.708Z"
   },
   {
    "duration": 5,
    "start_time": "2023-02-11T13:37:07.419Z"
   },
   {
    "duration": 13,
    "start_time": "2023-02-11T13:37:07.426Z"
   },
   {
    "duration": 93,
    "start_time": "2023-02-11T13:37:30.732Z"
   },
   {
    "duration": 1417,
    "start_time": "2023-02-11T13:38:53.646Z"
   },
   {
    "duration": 873,
    "start_time": "2023-02-11T13:38:55.065Z"
   },
   {
    "duration": 898,
    "start_time": "2023-02-11T13:38:55.940Z"
   },
   {
    "duration": 545,
    "start_time": "2023-02-11T13:38:56.840Z"
   },
   {
    "duration": 164,
    "start_time": "2023-02-11T13:38:57.387Z"
   },
   {
    "duration": 166,
    "start_time": "2023-02-11T13:38:57.553Z"
   },
   {
    "duration": 4,
    "start_time": "2023-02-11T13:38:57.721Z"
   },
   {
    "duration": 204,
    "start_time": "2023-02-11T13:38:57.726Z"
   },
   {
    "duration": 46,
    "start_time": "2023-02-11T13:38:57.932Z"
   },
   {
    "duration": 60,
    "start_time": "2023-02-11T13:38:57.980Z"
   },
   {
    "duration": 378,
    "start_time": "2023-02-11T13:38:58.042Z"
   },
   {
    "duration": 16,
    "start_time": "2023-02-11T13:38:58.422Z"
   },
   {
    "duration": 680,
    "start_time": "2023-02-11T13:38:58.440Z"
   },
   {
    "duration": 4,
    "start_time": "2023-02-11T13:38:59.124Z"
   },
   {
    "duration": 13,
    "start_time": "2023-02-11T13:38:59.130Z"
   },
   {
    "duration": 98,
    "start_time": "2023-02-11T13:40:12.832Z"
   },
   {
    "duration": 48,
    "start_time": "2023-02-11T13:41:49.681Z"
   },
   {
    "duration": 94,
    "start_time": "2023-02-11T13:41:54.532Z"
   },
   {
    "duration": 4,
    "start_time": "2023-02-11T13:44:07.876Z"
   },
   {
    "duration": 876,
    "start_time": "2023-02-11T13:44:07.882Z"
   },
   {
    "duration": 696,
    "start_time": "2023-02-11T13:44:08.760Z"
   },
   {
    "duration": 477,
    "start_time": "2023-02-11T13:44:09.458Z"
   },
   {
    "duration": 137,
    "start_time": "2023-02-11T13:44:09.937Z"
   },
   {
    "duration": 41,
    "start_time": "2023-02-11T13:44:10.076Z"
   },
   {
    "duration": 7,
    "start_time": "2023-02-11T13:44:10.119Z"
   },
   {
    "duration": 197,
    "start_time": "2023-02-11T13:44:10.127Z"
   },
   {
    "duration": 32,
    "start_time": "2023-02-11T13:44:10.326Z"
   },
   {
    "duration": 58,
    "start_time": "2023-02-11T13:44:10.359Z"
   },
   {
    "duration": 393,
    "start_time": "2023-02-11T13:44:10.419Z"
   },
   {
    "duration": 88,
    "start_time": "2023-02-11T13:44:10.814Z"
   },
   {
    "duration": 32,
    "start_time": "2023-02-11T13:44:10.904Z"
   },
   {
    "duration": 635,
    "start_time": "2023-02-11T13:44:10.937Z"
   },
   {
    "duration": 3,
    "start_time": "2023-02-11T13:44:11.574Z"
   },
   {
    "duration": 9,
    "start_time": "2023-02-11T13:44:11.578Z"
   },
   {
    "duration": 1021,
    "start_time": "2023-02-11T13:45:04.064Z"
   },
   {
    "duration": 88,
    "start_time": "2023-02-11T13:45:25.530Z"
   },
   {
    "duration": 144,
    "start_time": "2023-02-11T13:45:29.791Z"
   },
   {
    "duration": 6,
    "start_time": "2023-02-11T13:45:32.911Z"
   },
   {
    "duration": 847,
    "start_time": "2023-02-11T13:45:32.919Z"
   },
   {
    "duration": 729,
    "start_time": "2023-02-11T13:45:33.767Z"
   },
   {
    "duration": 484,
    "start_time": "2023-02-11T13:45:34.498Z"
   },
   {
    "duration": 164,
    "start_time": "2023-02-11T13:45:34.984Z"
   },
   {
    "duration": 30,
    "start_time": "2023-02-11T13:45:35.149Z"
   },
   {
    "duration": 40,
    "start_time": "2023-02-11T13:45:35.181Z"
   },
   {
    "duration": 245,
    "start_time": "2023-02-11T13:45:35.222Z"
   },
   {
    "duration": 45,
    "start_time": "2023-02-11T13:45:35.468Z"
   },
   {
    "duration": 88,
    "start_time": "2023-02-11T13:45:35.516Z"
   },
   {
    "duration": 351,
    "start_time": "2023-02-11T13:45:35.606Z"
   },
   {
    "duration": 101,
    "start_time": "2023-02-11T13:45:35.958Z"
   },
   {
    "duration": 31,
    "start_time": "2023-02-11T13:45:36.061Z"
   },
   {
    "duration": 761,
    "start_time": "2023-02-11T13:45:36.095Z"
   },
   {
    "duration": 4,
    "start_time": "2023-02-11T13:45:36.858Z"
   },
   {
    "duration": 11,
    "start_time": "2023-02-11T13:45:36.863Z"
   },
   {
    "duration": 96,
    "start_time": "2023-02-11T13:46:14.240Z"
   },
   {
    "duration": 73,
    "start_time": "2023-02-11T13:47:53.941Z"
   },
   {
    "duration": 90,
    "start_time": "2023-02-11T13:47:58.058Z"
   },
   {
    "duration": 4,
    "start_time": "2023-02-11T13:48:01.613Z"
   },
   {
    "duration": 805,
    "start_time": "2023-02-11T13:48:01.620Z"
   },
   {
    "duration": 698,
    "start_time": "2023-02-11T13:48:02.426Z"
   },
   {
    "duration": 474,
    "start_time": "2023-02-11T13:48:03.126Z"
   },
   {
    "duration": 136,
    "start_time": "2023-02-11T13:48:03.603Z"
   },
   {
    "duration": 11,
    "start_time": "2023-02-11T13:48:03.740Z"
   },
   {
    "duration": 17,
    "start_time": "2023-02-11T13:48:03.752Z"
   },
   {
    "duration": 185,
    "start_time": "2023-02-11T13:48:03.770Z"
   },
   {
    "duration": 47,
    "start_time": "2023-02-11T13:48:03.957Z"
   },
   {
    "duration": 65,
    "start_time": "2023-02-11T13:48:04.007Z"
   },
   {
    "duration": 351,
    "start_time": "2023-02-11T13:48:04.074Z"
   },
   {
    "duration": 91,
    "start_time": "2023-02-11T13:48:04.427Z"
   },
   {
    "duration": 15,
    "start_time": "2023-02-11T13:48:04.520Z"
   },
   {
    "duration": 675,
    "start_time": "2023-02-11T13:48:04.537Z"
   },
   {
    "duration": 4,
    "start_time": "2023-02-11T13:48:05.214Z"
   },
   {
    "duration": 12,
    "start_time": "2023-02-11T13:48:05.220Z"
   },
   {
    "duration": 586,
    "start_time": "2023-02-11T13:51:39.625Z"
   },
   {
    "duration": 540,
    "start_time": "2023-02-11T13:51:56.806Z"
   },
   {
    "duration": 4,
    "start_time": "2023-02-11T13:52:03.014Z"
   },
   {
    "duration": 735,
    "start_time": "2023-02-11T13:52:03.020Z"
   },
   {
    "duration": 665,
    "start_time": "2023-02-11T13:52:03.756Z"
   },
   {
    "duration": 471,
    "start_time": "2023-02-11T13:52:04.423Z"
   },
   {
    "duration": 146,
    "start_time": "2023-02-11T13:52:04.896Z"
   },
   {
    "duration": 13,
    "start_time": "2023-02-11T13:52:05.044Z"
   },
   {
    "duration": 21,
    "start_time": "2023-02-11T13:52:05.059Z"
   },
   {
    "duration": 205,
    "start_time": "2023-02-11T13:52:05.082Z"
   },
   {
    "duration": 48,
    "start_time": "2023-02-11T13:52:05.292Z"
   },
   {
    "duration": 581,
    "start_time": "2023-02-11T13:52:05.343Z"
   },
   {
    "duration": 0,
    "start_time": "2023-02-11T13:52:05.927Z"
   },
   {
    "duration": 0,
    "start_time": "2023-02-11T13:52:05.928Z"
   },
   {
    "duration": 0,
    "start_time": "2023-02-11T13:52:05.930Z"
   },
   {
    "duration": 0,
    "start_time": "2023-02-11T13:52:05.932Z"
   },
   {
    "duration": 0,
    "start_time": "2023-02-11T13:52:05.933Z"
   },
   {
    "duration": 0,
    "start_time": "2023-02-11T13:52:05.935Z"
   },
   {
    "duration": 74,
    "start_time": "2023-02-11T13:52:12.122Z"
   },
   {
    "duration": 90,
    "start_time": "2023-02-11T13:52:21.874Z"
   },
   {
    "duration": 27,
    "start_time": "2023-02-11T13:53:31.974Z"
   },
   {
    "duration": 565,
    "start_time": "2023-02-11T13:53:36.623Z"
   },
   {
    "duration": 531,
    "start_time": "2023-02-11T13:53:50.004Z"
   },
   {
    "duration": 552,
    "start_time": "2023-02-11T13:54:03.501Z"
   },
   {
    "duration": 6,
    "start_time": "2023-02-11T13:54:09.372Z"
   },
   {
    "duration": 760,
    "start_time": "2023-02-11T13:54:09.380Z"
   },
   {
    "duration": 650,
    "start_time": "2023-02-11T13:54:10.142Z"
   },
   {
    "duration": 449,
    "start_time": "2023-02-11T13:54:10.794Z"
   },
   {
    "duration": 125,
    "start_time": "2023-02-11T13:54:11.244Z"
   },
   {
    "duration": 3,
    "start_time": "2023-02-11T13:54:11.371Z"
   },
   {
    "duration": 3,
    "start_time": "2023-02-11T13:54:11.391Z"
   },
   {
    "duration": 179,
    "start_time": "2023-02-11T13:54:11.396Z"
   },
   {
    "duration": 39,
    "start_time": "2023-02-11T13:54:11.577Z"
   },
   {
    "duration": 79,
    "start_time": "2023-02-11T13:54:11.619Z"
   },
   {
    "duration": 337,
    "start_time": "2023-02-11T13:54:11.699Z"
   },
   {
    "duration": 90,
    "start_time": "2023-02-11T13:54:12.038Z"
   },
   {
    "duration": 16,
    "start_time": "2023-02-11T13:54:12.129Z"
   },
   {
    "duration": 573,
    "start_time": "2023-02-11T13:54:12.146Z"
   },
   {
    "duration": 5,
    "start_time": "2023-02-11T13:54:12.720Z"
   },
   {
    "duration": 11,
    "start_time": "2023-02-11T13:54:12.726Z"
   },
   {
    "duration": 4,
    "start_time": "2023-02-11T13:54:23.724Z"
   },
   {
    "duration": 711,
    "start_time": "2023-02-11T13:54:23.730Z"
   },
   {
    "duration": 708,
    "start_time": "2023-02-11T13:54:24.443Z"
   },
   {
    "duration": 432,
    "start_time": "2023-02-11T13:54:25.154Z"
   },
   {
    "duration": 125,
    "start_time": "2023-02-11T13:54:25.588Z"
   },
   {
    "duration": 3,
    "start_time": "2023-02-11T13:54:25.715Z"
   },
   {
    "duration": 9,
    "start_time": "2023-02-11T13:54:25.719Z"
   },
   {
    "duration": 183,
    "start_time": "2023-02-11T13:54:25.729Z"
   },
   {
    "duration": 36,
    "start_time": "2023-02-11T13:54:25.914Z"
   },
   {
    "duration": 362,
    "start_time": "2023-02-11T13:54:25.952Z"
   },
   {
    "duration": 118,
    "start_time": "2023-02-11T13:54:26.316Z"
   },
   {
    "duration": 35,
    "start_time": "2023-02-11T13:54:26.436Z"
   },
   {
    "duration": 589,
    "start_time": "2023-02-11T13:54:26.473Z"
   },
   {
    "duration": 5,
    "start_time": "2023-02-11T13:54:27.063Z"
   },
   {
    "duration": 4,
    "start_time": "2023-02-11T13:54:27.070Z"
   },
   {
    "duration": 491,
    "start_time": "2023-02-11T13:59:22.176Z"
   },
   {
    "duration": 20,
    "start_time": "2023-02-11T14:00:12.630Z"
   },
   {
    "duration": 268,
    "start_time": "2023-02-11T14:00:30.805Z"
   },
   {
    "duration": 287,
    "start_time": "2023-02-11T14:00:41.381Z"
   },
   {
    "duration": 9,
    "start_time": "2023-02-11T14:01:27.664Z"
   },
   {
    "duration": 189,
    "start_time": "2023-02-11T14:01:46.192Z"
   },
   {
    "duration": 197,
    "start_time": "2023-02-11T14:06:03.295Z"
   },
   {
    "duration": 7,
    "start_time": "2023-02-11T14:07:43.122Z"
   },
   {
    "duration": 4,
    "start_time": "2023-02-11T14:07:45.614Z"
   },
   {
    "duration": 770,
    "start_time": "2023-02-11T14:07:45.621Z"
   },
   {
    "duration": 686,
    "start_time": "2023-02-11T14:07:46.395Z"
   },
   {
    "duration": 540,
    "start_time": "2023-02-11T14:07:47.083Z"
   },
   {
    "duration": 151,
    "start_time": "2023-02-11T14:07:47.625Z"
   },
   {
    "duration": 492,
    "start_time": "2023-02-11T14:07:47.778Z"
   },
   {
    "duration": 39,
    "start_time": "2023-02-11T14:07:48.272Z"
   },
   {
    "duration": 2,
    "start_time": "2023-02-11T14:07:48.313Z"
   },
   {
    "duration": 6,
    "start_time": "2023-02-11T14:07:48.316Z"
   },
   {
    "duration": 12,
    "start_time": "2023-02-11T14:07:48.323Z"
   },
   {
    "duration": 12,
    "start_time": "2023-02-11T14:07:48.336Z"
   },
   {
    "duration": 361,
    "start_time": "2023-02-11T14:07:48.353Z"
   },
   {
    "duration": 6,
    "start_time": "2023-02-11T14:07:48.716Z"
   },
   {
    "duration": 6,
    "start_time": "2023-02-11T14:07:48.725Z"
   },
   {
    "duration": 42,
    "start_time": "2023-02-11T14:07:48.732Z"
   },
   {
    "duration": 20,
    "start_time": "2023-02-11T14:07:48.775Z"
   },
   {
    "duration": 18,
    "start_time": "2023-02-11T14:07:48.796Z"
   },
   {
    "duration": 806,
    "start_time": "2023-02-11T14:10:34.108Z"
   },
   {
    "duration": 126,
    "start_time": "2023-02-11T14:14:11.983Z"
   },
   {
    "duration": 5,
    "start_time": "2023-02-11T14:14:46.344Z"
   },
   {
    "duration": 763,
    "start_time": "2023-02-11T14:14:46.351Z"
   },
   {
    "duration": 625,
    "start_time": "2023-02-11T14:14:47.116Z"
   },
   {
    "duration": 457,
    "start_time": "2023-02-11T14:14:47.742Z"
   },
   {
    "duration": 123,
    "start_time": "2023-02-11T14:14:48.201Z"
   },
   {
    "duration": 265,
    "start_time": "2023-02-11T14:14:48.326Z"
   },
   {
    "duration": 2,
    "start_time": "2023-02-11T14:14:48.593Z"
   },
   {
    "duration": 6,
    "start_time": "2023-02-11T14:14:48.597Z"
   },
   {
    "duration": 189,
    "start_time": "2023-02-11T14:14:48.605Z"
   },
   {
    "duration": 38,
    "start_time": "2023-02-11T14:14:48.797Z"
   },
   {
    "duration": 375,
    "start_time": "2023-02-11T14:14:48.837Z"
   },
   {
    "duration": 97,
    "start_time": "2023-02-11T14:14:49.215Z"
   },
   {
    "duration": 16,
    "start_time": "2023-02-11T14:14:49.314Z"
   },
   {
    "duration": 626,
    "start_time": "2023-02-11T14:14:49.333Z"
   },
   {
    "duration": 3,
    "start_time": "2023-02-11T14:14:49.961Z"
   },
   {
    "duration": 7,
    "start_time": "2023-02-11T14:14:49.966Z"
   },
   {
    "duration": 79,
    "start_time": "2023-02-11T14:14:57.229Z"
   },
   {
    "duration": 499,
    "start_time": "2023-02-11T14:19:43.439Z"
   },
   {
    "duration": 211,
    "start_time": "2023-02-11T14:27:48.572Z"
   },
   {
    "duration": 199,
    "start_time": "2023-02-11T14:28:01.588Z"
   },
   {
    "duration": 1666,
    "start_time": "2023-02-11T14:28:13.015Z"
   },
   {
    "duration": 2051,
    "start_time": "2023-02-11T14:31:07.442Z"
   },
   {
    "duration": 137,
    "start_time": "2023-02-11T14:31:29.436Z"
   },
   {
    "duration": 2173,
    "start_time": "2023-02-11T14:33:24.634Z"
   },
   {
    "duration": 22,
    "start_time": "2023-02-11T14:33:27.924Z"
   },
   {
    "duration": 10,
    "start_time": "2023-02-11T14:33:44.434Z"
   },
   {
    "duration": 13,
    "start_time": "2023-02-11T14:34:04.160Z"
   },
   {
    "duration": 74,
    "start_time": "2023-02-11T14:42:19.490Z"
   },
   {
    "duration": 1696,
    "start_time": "2023-02-11T14:42:26.382Z"
   },
   {
    "duration": 1061,
    "start_time": "2023-02-11T14:42:28.080Z"
   },
   {
    "duration": 918,
    "start_time": "2023-02-11T14:42:29.144Z"
   },
   {
    "duration": 677,
    "start_time": "2023-02-11T14:42:30.066Z"
   },
   {
    "duration": 194,
    "start_time": "2023-02-11T14:42:30.746Z"
   },
   {
    "duration": 132,
    "start_time": "2023-02-11T14:42:30.943Z"
   },
   {
    "duration": 3,
    "start_time": "2023-02-11T14:42:31.076Z"
   },
   {
    "duration": 78,
    "start_time": "2023-02-11T14:42:31.081Z"
   },
   {
    "duration": 282,
    "start_time": "2023-02-11T14:42:31.161Z"
   },
   {
    "duration": 57,
    "start_time": "2023-02-11T14:42:31.445Z"
   },
   {
    "duration": 477,
    "start_time": "2023-02-11T14:42:31.507Z"
   },
   {
    "duration": 162,
    "start_time": "2023-02-11T14:42:31.987Z"
   },
   {
    "duration": 23,
    "start_time": "2023-02-11T14:42:32.151Z"
   },
   {
    "duration": 818,
    "start_time": "2023-02-11T14:42:32.177Z"
   },
   {
    "duration": 5,
    "start_time": "2023-02-11T14:42:32.997Z"
   },
   {
    "duration": 37,
    "start_time": "2023-02-11T14:42:33.008Z"
   },
   {
    "duration": 159,
    "start_time": "2023-02-11T14:42:44.843Z"
   },
   {
    "duration": 6,
    "start_time": "2023-02-11T14:58:44.316Z"
   },
   {
    "duration": 6,
    "start_time": "2023-02-11T14:59:00.115Z"
   },
   {
    "duration": 1469,
    "start_time": "2023-02-11T14:59:23.572Z"
   },
   {
    "duration": 133,
    "start_time": "2023-02-11T15:00:09.019Z"
   },
   {
    "duration": 111,
    "start_time": "2023-02-11T15:00:20.272Z"
   },
   {
    "duration": 326,
    "start_time": "2023-02-11T15:02:39.554Z"
   },
   {
    "duration": 7,
    "start_time": "2023-02-11T15:02:58.614Z"
   },
   {
    "duration": 1064,
    "start_time": "2023-02-11T15:02:58.624Z"
   },
   {
    "duration": 888,
    "start_time": "2023-02-11T15:02:59.690Z"
   },
   {
    "duration": 613,
    "start_time": "2023-02-11T15:03:00.580Z"
   },
   {
    "duration": 187,
    "start_time": "2023-02-11T15:03:01.196Z"
   },
   {
    "duration": 113,
    "start_time": "2023-02-11T15:03:01.385Z"
   },
   {
    "duration": 2,
    "start_time": "2023-02-11T15:03:01.502Z"
   },
   {
    "duration": 57,
    "start_time": "2023-02-11T15:03:01.507Z"
   },
   {
    "duration": 367,
    "start_time": "2023-02-11T15:03:01.566Z"
   },
   {
    "duration": 44,
    "start_time": "2023-02-11T15:03:01.940Z"
   },
   {
    "duration": 77,
    "start_time": "2023-02-11T15:03:01.985Z"
   },
   {
    "duration": 383,
    "start_time": "2023-02-11T15:03:02.064Z"
   },
   {
    "duration": 121,
    "start_time": "2023-02-11T15:03:02.451Z"
   },
   {
    "duration": 41,
    "start_time": "2023-02-11T15:03:02.575Z"
   },
   {
    "duration": 846,
    "start_time": "2023-02-11T15:03:02.618Z"
   },
   {
    "duration": 4,
    "start_time": "2023-02-11T15:03:03.466Z"
   },
   {
    "duration": 10,
    "start_time": "2023-02-11T15:03:03.472Z"
   },
   {
    "duration": 82,
    "start_time": "2023-02-11T15:12:11.999Z"
   },
   {
    "duration": 367,
    "start_time": "2023-02-11T15:19:46.355Z"
   },
   {
    "duration": 277,
    "start_time": "2023-02-11T15:20:05.403Z"
   },
   {
    "duration": 302,
    "start_time": "2023-02-11T15:20:28.763Z"
   },
   {
    "duration": 255,
    "start_time": "2023-02-11T15:23:52.212Z"
   },
   {
    "duration": 12,
    "start_time": "2023-02-11T15:33:07.334Z"
   },
   {
    "duration": 189,
    "start_time": "2023-02-11T15:33:18.978Z"
   },
   {
    "duration": 26,
    "start_time": "2023-02-11T15:33:43.957Z"
   },
   {
    "duration": 35,
    "start_time": "2023-02-11T15:34:41.912Z"
   },
   {
    "duration": 7,
    "start_time": "2023-02-11T15:34:46.357Z"
   },
   {
    "duration": 3912,
    "start_time": "2023-02-11T15:34:46.367Z"
   },
   {
    "duration": 874,
    "start_time": "2023-02-11T15:34:50.281Z"
   },
   {
    "duration": 703,
    "start_time": "2023-02-11T15:34:51.157Z"
   },
   {
    "duration": 231,
    "start_time": "2023-02-11T15:34:51.861Z"
   },
   {
    "duration": 288,
    "start_time": "2023-02-11T15:34:52.095Z"
   },
   {
    "duration": 3,
    "start_time": "2023-02-11T15:34:52.389Z"
   },
   {
    "duration": 96,
    "start_time": "2023-02-11T15:34:52.395Z"
   },
   {
    "duration": 4,
    "start_time": "2023-02-11T15:34:52.493Z"
   },
   {
    "duration": 203,
    "start_time": "2023-02-11T15:34:52.500Z"
   },
   {
    "duration": 29,
    "start_time": "2023-02-11T15:34:52.710Z"
   },
   {
    "duration": 414,
    "start_time": "2023-02-11T15:34:52.741Z"
   },
   {
    "duration": 75,
    "start_time": "2023-02-11T15:34:53.157Z"
   },
   {
    "duration": 31,
    "start_time": "2023-02-11T15:34:53.234Z"
   },
   {
    "duration": 501,
    "start_time": "2023-02-11T15:34:53.267Z"
   },
   {
    "duration": 4,
    "start_time": "2023-02-11T15:34:53.770Z"
   },
   {
    "duration": 51,
    "start_time": "2023-02-11T15:34:53.776Z"
   },
   {
    "duration": 982,
    "start_time": "2023-02-11T15:35:05.084Z"
   },
   {
    "duration": 6,
    "start_time": "2023-02-11T15:35:13.560Z"
   },
   {
    "duration": 1094,
    "start_time": "2023-02-11T15:35:13.569Z"
   },
   {
    "duration": 887,
    "start_time": "2023-02-11T15:35:14.665Z"
   },
   {
    "duration": 706,
    "start_time": "2023-02-11T15:35:15.554Z"
   },
   {
    "duration": 217,
    "start_time": "2023-02-11T15:35:16.266Z"
   },
   {
    "duration": 357,
    "start_time": "2023-02-11T15:35:16.486Z"
   },
   {
    "duration": 10,
    "start_time": "2023-02-11T15:35:16.845Z"
   },
   {
    "duration": 110,
    "start_time": "2023-02-11T15:35:16.861Z"
   },
   {
    "duration": 8,
    "start_time": "2023-02-11T15:35:16.974Z"
   },
   {
    "duration": 243,
    "start_time": "2023-02-11T15:35:16.983Z"
   },
   {
    "duration": 30,
    "start_time": "2023-02-11T15:35:17.229Z"
   },
   {
    "duration": 1026,
    "start_time": "2023-02-11T15:35:17.261Z"
   },
   {
    "duration": 0,
    "start_time": "2023-02-11T15:35:18.290Z"
   },
   {
    "duration": 0,
    "start_time": "2023-02-11T15:35:18.292Z"
   },
   {
    "duration": 0,
    "start_time": "2023-02-11T15:35:18.293Z"
   },
   {
    "duration": 0,
    "start_time": "2023-02-11T15:35:18.294Z"
   },
   {
    "duration": 1,
    "start_time": "2023-02-11T15:35:18.295Z"
   },
   {
    "duration": 0,
    "start_time": "2023-02-11T15:35:18.297Z"
   },
   {
    "duration": 921,
    "start_time": "2023-02-11T15:35:24.110Z"
   },
   {
    "duration": 1794,
    "start_time": "2023-02-11T15:35:43.148Z"
   },
   {
    "duration": 1415,
    "start_time": "2023-02-11T15:35:44.952Z"
   },
   {
    "duration": 1192,
    "start_time": "2023-02-11T15:35:46.369Z"
   },
   {
    "duration": 700,
    "start_time": "2023-02-11T15:35:47.563Z"
   },
   {
    "duration": 178,
    "start_time": "2023-02-11T15:35:48.266Z"
   },
   {
    "duration": 323,
    "start_time": "2023-02-11T15:35:48.446Z"
   },
   {
    "duration": 3,
    "start_time": "2023-02-11T15:35:48.771Z"
   },
   {
    "duration": 142,
    "start_time": "2023-02-11T15:35:48.776Z"
   },
   {
    "duration": 3,
    "start_time": "2023-02-11T15:35:48.921Z"
   },
   {
    "duration": 242,
    "start_time": "2023-02-11T15:35:48.927Z"
   },
   {
    "duration": 46,
    "start_time": "2023-02-11T15:35:49.171Z"
   },
   {
    "duration": 1268,
    "start_time": "2023-02-11T15:35:49.220Z"
   },
   {
    "duration": 0,
    "start_time": "2023-02-11T15:35:50.491Z"
   },
   {
    "duration": 0,
    "start_time": "2023-02-11T15:35:50.493Z"
   },
   {
    "duration": 0,
    "start_time": "2023-02-11T15:35:50.494Z"
   },
   {
    "duration": 0,
    "start_time": "2023-02-11T15:35:50.495Z"
   },
   {
    "duration": 0,
    "start_time": "2023-02-11T15:35:50.497Z"
   },
   {
    "duration": 0,
    "start_time": "2023-02-11T15:35:50.498Z"
   },
   {
    "duration": 1251,
    "start_time": "2023-02-11T15:36:28.420Z"
   },
   {
    "duration": 21,
    "start_time": "2023-02-11T15:36:47.917Z"
   },
   {
    "duration": 23,
    "start_time": "2023-02-11T15:36:57.744Z"
   },
   {
    "duration": 952,
    "start_time": "2023-02-11T15:37:30.005Z"
   },
   {
    "duration": 890,
    "start_time": "2023-02-11T15:37:33.645Z"
   },
   {
    "duration": 5,
    "start_time": "2023-02-11T15:37:39.622Z"
   },
   {
    "duration": 943,
    "start_time": "2023-02-11T15:37:39.630Z"
   },
   {
    "duration": 747,
    "start_time": "2023-02-11T15:37:40.575Z"
   },
   {
    "duration": 512,
    "start_time": "2023-02-11T15:37:41.324Z"
   },
   {
    "duration": 209,
    "start_time": "2023-02-11T15:37:41.839Z"
   },
   {
    "duration": 303,
    "start_time": "2023-02-11T15:37:42.050Z"
   },
   {
    "duration": 2,
    "start_time": "2023-02-11T15:37:42.355Z"
   },
   {
    "duration": 109,
    "start_time": "2023-02-11T15:37:42.359Z"
   },
   {
    "duration": 4,
    "start_time": "2023-02-11T15:37:42.469Z"
   },
   {
    "duration": 244,
    "start_time": "2023-02-11T15:37:42.474Z"
   },
   {
    "duration": 34,
    "start_time": "2023-02-11T15:37:42.720Z"
   },
   {
    "duration": 3,
    "start_time": "2023-02-11T15:37:42.756Z"
   },
   {
    "duration": 1063,
    "start_time": "2023-02-11T15:37:42.761Z"
   },
   {
    "duration": 0,
    "start_time": "2023-02-11T15:37:43.832Z"
   },
   {
    "duration": 0,
    "start_time": "2023-02-11T15:37:43.834Z"
   },
   {
    "duration": 0,
    "start_time": "2023-02-11T15:37:43.835Z"
   },
   {
    "duration": 0,
    "start_time": "2023-02-11T15:37:43.837Z"
   },
   {
    "duration": 0,
    "start_time": "2023-02-11T15:37:43.838Z"
   },
   {
    "duration": 0,
    "start_time": "2023-02-11T15:37:43.840Z"
   },
   {
    "duration": 999,
    "start_time": "2023-02-11T15:37:49.420Z"
   },
   {
    "duration": 262,
    "start_time": "2023-02-11T15:38:42.983Z"
   },
   {
    "duration": 14,
    "start_time": "2023-02-11T15:39:53.633Z"
   },
   {
    "duration": 385,
    "start_time": "2023-02-11T15:41:51.396Z"
   },
   {
    "duration": 271,
    "start_time": "2023-02-11T15:42:44.694Z"
   },
   {
    "duration": 169,
    "start_time": "2023-02-11T15:42:59.905Z"
   },
   {
    "duration": 1627,
    "start_time": "2023-02-11T15:44:39.582Z"
   },
   {
    "duration": 22,
    "start_time": "2023-02-11T15:45:44.841Z"
   },
   {
    "duration": 15,
    "start_time": "2023-02-11T15:46:00.200Z"
   },
   {
    "duration": 786,
    "start_time": "2023-02-11T15:46:35.128Z"
   },
   {
    "duration": 7385,
    "start_time": "2023-02-11T15:46:53.603Z"
   },
   {
    "duration": 351,
    "start_time": "2023-02-11T15:48:46.362Z"
   },
   {
    "duration": 1159,
    "start_time": "2023-02-11T15:48:57.086Z"
   },
   {
    "duration": 586,
    "start_time": "2023-02-11T15:49:06.210Z"
   },
   {
    "duration": 5,
    "start_time": "2023-02-11T15:49:31.403Z"
   },
   {
    "duration": 3064,
    "start_time": "2023-02-11T15:49:31.410Z"
   },
   {
    "duration": 738,
    "start_time": "2023-02-11T15:49:34.477Z"
   },
   {
    "duration": 582,
    "start_time": "2023-02-11T15:49:35.219Z"
   },
   {
    "duration": 159,
    "start_time": "2023-02-11T15:49:35.803Z"
   },
   {
    "duration": 273,
    "start_time": "2023-02-11T15:49:35.964Z"
   },
   {
    "duration": 4,
    "start_time": "2023-02-11T15:49:36.238Z"
   },
   {
    "duration": 98,
    "start_time": "2023-02-11T15:49:36.243Z"
   },
   {
    "duration": 4,
    "start_time": "2023-02-11T15:49:36.342Z"
   },
   {
    "duration": 207,
    "start_time": "2023-02-11T15:49:36.348Z"
   },
   {
    "duration": 48,
    "start_time": "2023-02-11T15:49:36.557Z"
   },
   {
    "duration": 3,
    "start_time": "2023-02-11T15:49:36.608Z"
   },
   {
    "duration": 1908,
    "start_time": "2023-02-11T15:49:36.613Z"
   },
   {
    "duration": 26,
    "start_time": "2023-02-11T15:49:38.524Z"
   },
   {
    "duration": 9030,
    "start_time": "2023-02-11T15:49:38.552Z"
   },
   {
    "duration": 460,
    "start_time": "2023-02-11T15:49:47.592Z"
   },
   {
    "duration": 69,
    "start_time": "2023-02-11T15:49:48.055Z"
   },
   {
    "duration": 14,
    "start_time": "2023-02-11T15:49:48.127Z"
   },
   {
    "duration": 678,
    "start_time": "2023-02-11T15:49:48.144Z"
   },
   {
    "duration": 6,
    "start_time": "2023-02-11T15:49:48.825Z"
   },
   {
    "duration": 13,
    "start_time": "2023-02-11T15:49:48.834Z"
   },
   {
    "duration": 7603,
    "start_time": "2023-02-11T15:50:01.514Z"
   },
   {
    "duration": 220,
    "start_time": "2023-02-11T15:50:58.797Z"
   },
   {
    "duration": 258,
    "start_time": "2023-02-11T15:51:15.492Z"
   },
   {
    "duration": 90,
    "start_time": "2023-02-11T15:51:28.208Z"
   },
   {
    "duration": 247,
    "start_time": "2023-02-11T15:52:10.046Z"
   },
   {
    "duration": 220,
    "start_time": "2023-02-11T15:52:15.113Z"
   },
   {
    "duration": 19,
    "start_time": "2023-02-11T15:54:46.082Z"
   },
   {
    "duration": 466,
    "start_time": "2023-02-11T15:55:20.099Z"
   },
   {
    "duration": 53,
    "start_time": "2023-02-11T15:55:24.390Z"
   },
   {
    "duration": 13,
    "start_time": "2023-02-11T15:55:28.133Z"
   },
   {
    "duration": 361,
    "start_time": "2023-02-11T15:55:34.343Z"
   },
   {
    "duration": 5,
    "start_time": "2023-02-11T15:55:38.334Z"
   },
   {
    "duration": 5,
    "start_time": "2023-02-11T15:55:41.303Z"
   },
   {
    "duration": 1916,
    "start_time": "2023-02-11T15:57:10.588Z"
   },
   {
    "duration": 3309,
    "start_time": "2023-02-11T15:57:12.506Z"
   },
   {
    "duration": 1025,
    "start_time": "2023-02-11T15:57:15.818Z"
   },
   {
    "duration": 650,
    "start_time": "2023-02-11T15:57:16.846Z"
   },
   {
    "duration": 134,
    "start_time": "2023-02-11T15:57:17.499Z"
   },
   {
    "duration": 254,
    "start_time": "2023-02-11T15:57:17.634Z"
   },
   {
    "duration": 3,
    "start_time": "2023-02-11T15:57:17.892Z"
   },
   {
    "duration": 110,
    "start_time": "2023-02-11T15:57:17.897Z"
   },
   {
    "duration": 3,
    "start_time": "2023-02-11T15:57:18.010Z"
   },
   {
    "duration": 202,
    "start_time": "2023-02-11T15:57:18.015Z"
   },
   {
    "duration": 31,
    "start_time": "2023-02-11T15:57:18.219Z"
   },
   {
    "duration": 3,
    "start_time": "2023-02-11T15:57:18.252Z"
   },
   {
    "duration": 1755,
    "start_time": "2023-02-11T15:57:18.257Z"
   },
   {
    "duration": 23,
    "start_time": "2023-02-11T15:57:20.016Z"
   },
   {
    "duration": 20,
    "start_time": "2023-02-11T15:57:20.043Z"
   },
   {
    "duration": 571,
    "start_time": "2023-02-11T15:57:20.065Z"
   },
   {
    "duration": 64,
    "start_time": "2023-02-11T15:57:20.638Z"
   },
   {
    "duration": 18,
    "start_time": "2023-02-11T15:57:20.705Z"
   },
   {
    "duration": 382,
    "start_time": "2023-02-11T15:57:20.725Z"
   },
   {
    "duration": 4,
    "start_time": "2023-02-11T15:57:21.109Z"
   },
   {
    "duration": 12,
    "start_time": "2023-02-11T15:57:21.116Z"
   },
   {
    "duration": 22,
    "start_time": "2023-02-11T16:01:36.607Z"
   },
   {
    "duration": 133,
    "start_time": "2023-02-11T16:13:14.142Z"
   },
   {
    "duration": 4,
    "start_time": "2023-02-11T16:13:16.334Z"
   },
   {
    "duration": 34,
    "start_time": "2023-02-11T16:13:18.379Z"
   },
   {
    "duration": 5,
    "start_time": "2023-02-11T16:13:38.891Z"
   },
   {
    "duration": 869,
    "start_time": "2023-02-11T16:13:38.899Z"
   },
   {
    "duration": 832,
    "start_time": "2023-02-11T16:13:39.771Z"
   },
   {
    "duration": 580,
    "start_time": "2023-02-11T16:13:40.605Z"
   },
   {
    "duration": 213,
    "start_time": "2023-02-11T16:13:41.189Z"
   },
   {
    "duration": 363,
    "start_time": "2023-02-11T16:13:41.404Z"
   },
   {
    "duration": 4,
    "start_time": "2023-02-11T16:13:41.769Z"
   },
   {
    "duration": 101,
    "start_time": "2023-02-11T16:13:41.776Z"
   },
   {
    "duration": 4,
    "start_time": "2023-02-11T16:13:41.880Z"
   },
   {
    "duration": 221,
    "start_time": "2023-02-11T16:13:41.886Z"
   },
   {
    "duration": 33,
    "start_time": "2023-02-11T16:13:42.109Z"
   },
   {
    "duration": 3,
    "start_time": "2023-02-11T16:13:42.144Z"
   },
   {
    "duration": 1718,
    "start_time": "2023-02-11T16:13:42.150Z"
   },
   {
    "duration": 37,
    "start_time": "2023-02-11T16:13:43.871Z"
   },
   {
    "duration": 20,
    "start_time": "2023-02-11T16:13:43.909Z"
   },
   {
    "duration": 367,
    "start_time": "2023-02-11T16:13:43.931Z"
   },
   {
    "duration": 60,
    "start_time": "2023-02-11T16:13:44.300Z"
   },
   {
    "duration": 29,
    "start_time": "2023-02-11T16:13:44.362Z"
   },
   {
    "duration": 4,
    "start_time": "2023-02-11T16:13:44.393Z"
   },
   {
    "duration": 362,
    "start_time": "2023-02-11T16:13:44.399Z"
   },
   {
    "duration": 27,
    "start_time": "2023-02-11T16:13:44.764Z"
   },
   {
    "duration": 1,
    "start_time": "2023-02-11T16:13:44.793Z"
   },
   {
    "duration": 0,
    "start_time": "2023-02-11T16:13:44.795Z"
   },
   {
    "duration": 18,
    "start_time": "2023-02-11T16:48:11.753Z"
   },
   {
    "duration": 4,
    "start_time": "2023-02-11T16:48:25.307Z"
   },
   {
    "duration": 791,
    "start_time": "2023-02-11T16:48:25.313Z"
   },
   {
    "duration": 688,
    "start_time": "2023-02-11T16:48:26.106Z"
   },
   {
    "duration": 438,
    "start_time": "2023-02-11T16:48:26.796Z"
   },
   {
    "duration": 116,
    "start_time": "2023-02-11T16:48:27.236Z"
   },
   {
    "duration": 239,
    "start_time": "2023-02-11T16:48:27.354Z"
   },
   {
    "duration": 2,
    "start_time": "2023-02-11T16:48:27.595Z"
   },
   {
    "duration": 84,
    "start_time": "2023-02-11T16:48:27.598Z"
   },
   {
    "duration": 2,
    "start_time": "2023-02-11T16:48:27.684Z"
   },
   {
    "duration": 157,
    "start_time": "2023-02-11T16:48:27.687Z"
   },
   {
    "duration": 28,
    "start_time": "2023-02-11T16:48:27.847Z"
   },
   {
    "duration": 14,
    "start_time": "2023-02-11T16:48:27.877Z"
   },
   {
    "duration": 1653,
    "start_time": "2023-02-11T16:48:27.893Z"
   },
   {
    "duration": 23,
    "start_time": "2023-02-11T16:48:29.547Z"
   },
   {
    "duration": 34,
    "start_time": "2023-02-11T16:48:29.572Z"
   },
   {
    "duration": 333,
    "start_time": "2023-02-11T16:48:29.608Z"
   },
   {
    "duration": 50,
    "start_time": "2023-02-11T16:48:29.942Z"
   },
   {
    "duration": 23,
    "start_time": "2023-02-11T16:48:29.994Z"
   },
   {
    "duration": 326,
    "start_time": "2023-02-11T16:48:30.018Z"
   },
   {
    "duration": 4,
    "start_time": "2023-02-11T16:48:30.345Z"
   },
   {
    "duration": 33,
    "start_time": "2023-02-11T16:48:30.351Z"
   },
   {
    "duration": 12,
    "start_time": "2023-02-11T16:49:01.642Z"
   },
   {
    "duration": 14,
    "start_time": "2023-02-11T16:49:33.962Z"
   },
   {
    "duration": 4,
    "start_time": "2023-02-11T16:50:24.915Z"
   },
   {
    "duration": 158,
    "start_time": "2023-02-11T16:56:46.187Z"
   },
   {
    "duration": 13,
    "start_time": "2023-02-11T16:56:50.174Z"
   },
   {
    "duration": 44,
    "start_time": "2023-02-11T16:58:01.068Z"
   },
   {
    "duration": 3,
    "start_time": "2023-02-11T17:11:00.494Z"
   },
   {
    "duration": 1225,
    "start_time": "2023-02-11T17:11:09.050Z"
   },
   {
    "duration": 5357,
    "start_time": "2023-02-11T17:16:40.898Z"
   },
   {
    "duration": 4076,
    "start_time": "2023-02-11T17:18:57.974Z"
   },
   {
    "duration": 1548,
    "start_time": "2023-02-11T17:23:22.127Z"
   },
   {
    "duration": 894,
    "start_time": "2023-02-11T17:23:23.677Z"
   },
   {
    "duration": 805,
    "start_time": "2023-02-11T17:23:24.573Z"
   },
   {
    "duration": 534,
    "start_time": "2023-02-11T17:23:25.380Z"
   },
   {
    "duration": 138,
    "start_time": "2023-02-11T17:23:25.916Z"
   },
   {
    "duration": 270,
    "start_time": "2023-02-11T17:23:26.056Z"
   },
   {
    "duration": 3,
    "start_time": "2023-02-11T17:23:26.328Z"
   },
   {
    "duration": 97,
    "start_time": "2023-02-11T17:23:26.333Z"
   },
   {
    "duration": 3,
    "start_time": "2023-02-11T17:23:26.432Z"
   },
   {
    "duration": 205,
    "start_time": "2023-02-11T17:23:26.439Z"
   },
   {
    "duration": 46,
    "start_time": "2023-02-11T17:23:26.646Z"
   },
   {
    "duration": 3,
    "start_time": "2023-02-11T17:23:26.695Z"
   },
   {
    "duration": 1687,
    "start_time": "2023-02-11T17:23:26.700Z"
   },
   {
    "duration": 28,
    "start_time": "2023-02-11T17:23:28.389Z"
   },
   {
    "duration": 19,
    "start_time": "2023-02-11T17:23:28.419Z"
   },
   {
    "duration": 375,
    "start_time": "2023-02-11T17:23:28.440Z"
   },
   {
    "duration": 43,
    "start_time": "2023-02-11T17:23:28.816Z"
   },
   {
    "duration": 12,
    "start_time": "2023-02-11T17:23:28.861Z"
   },
   {
    "duration": 324,
    "start_time": "2023-02-11T17:23:28.875Z"
   },
   {
    "duration": 12,
    "start_time": "2023-02-11T17:23:29.201Z"
   },
   {
    "duration": 32,
    "start_time": "2023-02-11T17:23:29.215Z"
   },
   {
    "duration": 15,
    "start_time": "2023-02-11T17:23:29.249Z"
   },
   {
    "duration": 4100,
    "start_time": "2023-02-11T17:23:29.266Z"
   },
   {
    "duration": 5295,
    "start_time": "2023-02-11T17:23:53.930Z"
   },
   {
    "duration": 5604,
    "start_time": "2023-02-11T17:24:40.151Z"
   },
   {
    "duration": 5320,
    "start_time": "2023-02-11T17:26:39.772Z"
   },
   {
    "duration": 5397,
    "start_time": "2023-02-11T17:27:18.465Z"
   },
   {
    "duration": 5512,
    "start_time": "2023-02-11T17:28:45.713Z"
   },
   {
    "duration": 5412,
    "start_time": "2023-02-11T17:30:08.932Z"
   },
   {
    "duration": 5617,
    "start_time": "2023-02-11T17:30:57.073Z"
   },
   {
    "duration": 5627,
    "start_time": "2023-02-11T17:33:09.620Z"
   },
   {
    "duration": 5279,
    "start_time": "2023-02-11T17:33:38.378Z"
   },
   {
    "duration": 12,
    "start_time": "2023-02-11T17:36:24.155Z"
   },
   {
    "duration": 1357,
    "start_time": "2023-02-11T17:39:06.022Z"
   },
   {
    "duration": 1174,
    "start_time": "2023-02-11T17:49:20.259Z"
   },
   {
    "duration": 5472,
    "start_time": "2023-02-11T17:49:34.407Z"
   },
   {
    "duration": 1278,
    "start_time": "2023-02-11T17:49:43.776Z"
   },
   {
    "duration": 3,
    "start_time": "2023-02-11T18:00:41.591Z"
   },
   {
    "duration": 2,
    "start_time": "2023-02-11T18:00:49.903Z"
   },
   {
    "duration": 1240,
    "start_time": "2023-02-11T18:01:05.450Z"
   },
   {
    "duration": 1366,
    "start_time": "2023-02-11T18:02:12.462Z"
   },
   {
    "duration": 1399,
    "start_time": "2023-02-11T18:03:22.980Z"
   },
   {
    "duration": 869,
    "start_time": "2023-02-11T18:03:24.381Z"
   },
   {
    "duration": 873,
    "start_time": "2023-02-11T18:03:25.252Z"
   },
   {
    "duration": 627,
    "start_time": "2023-02-11T18:03:26.127Z"
   },
   {
    "duration": 130,
    "start_time": "2023-02-11T18:03:26.756Z"
   },
   {
    "duration": 217,
    "start_time": "2023-02-11T18:03:26.891Z"
   },
   {
    "duration": 2,
    "start_time": "2023-02-11T18:03:27.110Z"
   },
   {
    "duration": 66,
    "start_time": "2023-02-11T18:03:27.114Z"
   },
   {
    "duration": 12,
    "start_time": "2023-02-11T18:03:27.181Z"
   },
   {
    "duration": 173,
    "start_time": "2023-02-11T18:03:27.195Z"
   },
   {
    "duration": 40,
    "start_time": "2023-02-11T18:03:27.369Z"
   },
   {
    "duration": 3,
    "start_time": "2023-02-11T18:03:27.410Z"
   },
   {
    "duration": 1725,
    "start_time": "2023-02-11T18:03:27.415Z"
   },
   {
    "duration": 19,
    "start_time": "2023-02-11T18:03:29.141Z"
   },
   {
    "duration": 33,
    "start_time": "2023-02-11T18:03:29.162Z"
   },
   {
    "duration": 312,
    "start_time": "2023-02-11T18:03:29.197Z"
   },
   {
    "duration": 47,
    "start_time": "2023-02-11T18:03:29.510Z"
   },
   {
    "duration": 24,
    "start_time": "2023-02-11T18:03:29.559Z"
   },
   {
    "duration": 344,
    "start_time": "2023-02-11T18:03:29.592Z"
   },
   {
    "duration": 14,
    "start_time": "2023-02-11T18:03:29.937Z"
   },
   {
    "duration": 16,
    "start_time": "2023-02-11T18:03:29.952Z"
   },
   {
    "duration": 10,
    "start_time": "2023-02-11T18:03:29.970Z"
   },
   {
    "duration": 5435,
    "start_time": "2023-02-11T18:03:29.983Z"
   },
   {
    "duration": 1403,
    "start_time": "2023-02-11T18:03:35.420Z"
   },
   {
    "duration": 5466,
    "start_time": "2023-02-11T18:09:07.663Z"
   },
   {
    "duration": 5042,
    "start_time": "2023-02-11T18:09:20.848Z"
   },
   {
    "duration": 13466,
    "start_time": "2023-02-11T18:24:55.000Z"
   },
   {
    "duration": 1122,
    "start_time": "2023-02-11T18:27:07.270Z"
   },
   {
    "duration": 1339,
    "start_time": "2023-02-11T18:27:22.825Z"
   },
   {
    "duration": 773,
    "start_time": "2023-02-11T18:27:24.166Z"
   },
   {
    "duration": 715,
    "start_time": "2023-02-11T18:27:24.941Z"
   },
   {
    "duration": 497,
    "start_time": "2023-02-11T18:27:25.658Z"
   },
   {
    "duration": 141,
    "start_time": "2023-02-11T18:27:26.157Z"
   },
   {
    "duration": 243,
    "start_time": "2023-02-11T18:27:26.300Z"
   },
   {
    "duration": 3,
    "start_time": "2023-02-11T18:27:26.545Z"
   },
   {
    "duration": 82,
    "start_time": "2023-02-11T18:27:26.550Z"
   },
   {
    "duration": 2,
    "start_time": "2023-02-11T18:27:26.633Z"
   },
   {
    "duration": 158,
    "start_time": "2023-02-11T18:27:26.637Z"
   },
   {
    "duration": 31,
    "start_time": "2023-02-11T18:27:26.797Z"
   },
   {
    "duration": 2,
    "start_time": "2023-02-11T18:27:26.830Z"
   },
   {
    "duration": 1597,
    "start_time": "2023-02-11T18:27:26.833Z"
   },
   {
    "duration": 20,
    "start_time": "2023-02-11T18:27:28.431Z"
   },
   {
    "duration": 21,
    "start_time": "2023-02-11T18:27:28.452Z"
   },
   {
    "duration": 330,
    "start_time": "2023-02-11T18:27:28.475Z"
   },
   {
    "duration": 44,
    "start_time": "2023-02-11T18:27:28.807Z"
   },
   {
    "duration": 20,
    "start_time": "2023-02-11T18:27:28.852Z"
   },
   {
    "duration": 297,
    "start_time": "2023-02-11T18:27:28.873Z"
   },
   {
    "duration": 12,
    "start_time": "2023-02-11T18:27:29.171Z"
   },
   {
    "duration": 29,
    "start_time": "2023-02-11T18:27:29.185Z"
   },
   {
    "duration": 18,
    "start_time": "2023-02-11T18:27:29.215Z"
   },
   {
    "duration": 5130,
    "start_time": "2023-02-11T18:27:29.234Z"
   },
   {
    "duration": 1100,
    "start_time": "2023-02-11T18:27:34.365Z"
   },
   {
    "duration": 1150,
    "start_time": "2023-02-11T18:29:53.336Z"
   },
   {
    "duration": 1146,
    "start_time": "2023-02-11T18:30:16.643Z"
   },
   {
    "duration": 1210,
    "start_time": "2023-02-11T18:30:35.906Z"
   },
   {
    "duration": 3,
    "start_time": "2023-02-11T18:32:28.861Z"
   },
   {
    "duration": 1542,
    "start_time": "2023-02-12T06:59:19.843Z"
   },
   {
    "duration": 5,
    "start_time": "2023-02-12T07:21:21.333Z"
   },
   {
    "duration": 1090,
    "start_time": "2023-02-12T07:21:21.340Z"
   },
   {
    "duration": 739,
    "start_time": "2023-02-12T07:21:22.432Z"
   },
   {
    "duration": 529,
    "start_time": "2023-02-12T07:21:23.174Z"
   },
   {
    "duration": 123,
    "start_time": "2023-02-12T07:21:23.704Z"
   },
   {
    "duration": 205,
    "start_time": "2023-02-12T07:21:23.829Z"
   },
   {
    "duration": 3,
    "start_time": "2023-02-12T07:21:24.036Z"
   },
   {
    "duration": 108,
    "start_time": "2023-02-12T07:21:24.041Z"
   },
   {
    "duration": 7,
    "start_time": "2023-02-12T07:21:24.153Z"
   },
   {
    "duration": 232,
    "start_time": "2023-02-12T07:21:24.163Z"
   },
   {
    "duration": 39,
    "start_time": "2023-02-12T07:21:24.397Z"
   },
   {
    "duration": 3,
    "start_time": "2023-02-12T07:21:24.439Z"
   },
   {
    "duration": 1779,
    "start_time": "2023-02-12T07:21:24.444Z"
   },
   {
    "duration": 19,
    "start_time": "2023-02-12T07:21:26.225Z"
   },
   {
    "duration": 366,
    "start_time": "2023-02-12T07:21:26.245Z"
   },
   {
    "duration": 378,
    "start_time": "2023-02-12T07:21:26.613Z"
   },
   {
    "duration": 39,
    "start_time": "2023-02-12T07:21:26.993Z"
   },
   {
    "duration": 18,
    "start_time": "2023-02-12T07:21:27.034Z"
   },
   {
    "duration": 340,
    "start_time": "2023-02-12T07:21:27.054Z"
   },
   {
    "duration": 15,
    "start_time": "2023-02-12T07:21:27.396Z"
   },
   {
    "duration": 6,
    "start_time": "2023-02-12T07:21:27.413Z"
   },
   {
    "duration": 6,
    "start_time": "2023-02-12T07:21:27.421Z"
   },
   {
    "duration": 5733,
    "start_time": "2023-02-12T07:21:27.428Z"
   },
   {
    "duration": 1196,
    "start_time": "2023-02-12T07:21:33.163Z"
   },
   {
    "duration": 1543,
    "start_time": "2023-02-12T07:24:52.761Z"
   },
   {
    "duration": 830,
    "start_time": "2023-02-12T07:24:54.307Z"
   },
   {
    "duration": 793,
    "start_time": "2023-02-12T07:24:55.139Z"
   },
   {
    "duration": 464,
    "start_time": "2023-02-12T07:24:55.934Z"
   },
   {
    "duration": 106,
    "start_time": "2023-02-12T07:24:56.403Z"
   },
   {
    "duration": 190,
    "start_time": "2023-02-12T07:24:56.510Z"
   },
   {
    "duration": 3,
    "start_time": "2023-02-12T07:24:56.701Z"
   },
   {
    "duration": 75,
    "start_time": "2023-02-12T07:24:56.705Z"
   },
   {
    "duration": 3,
    "start_time": "2023-02-12T07:24:56.782Z"
   },
   {
    "duration": 166,
    "start_time": "2023-02-12T07:24:56.786Z"
   },
   {
    "duration": 29,
    "start_time": "2023-02-12T07:24:56.954Z"
   },
   {
    "duration": 2,
    "start_time": "2023-02-12T07:24:56.985Z"
   },
   {
    "duration": 1693,
    "start_time": "2023-02-12T07:24:57.003Z"
   },
   {
    "duration": 20,
    "start_time": "2023-02-12T07:24:58.705Z"
   },
   {
    "duration": 17,
    "start_time": "2023-02-12T07:24:58.727Z"
   },
   {
    "duration": 371,
    "start_time": "2023-02-12T07:24:58.746Z"
   },
   {
    "duration": 39,
    "start_time": "2023-02-12T07:24:59.119Z"
   },
   {
    "duration": 16,
    "start_time": "2023-02-12T07:24:59.160Z"
   },
   {
    "duration": 314,
    "start_time": "2023-02-12T07:24:59.178Z"
   },
   {
    "duration": 14,
    "start_time": "2023-02-12T07:24:59.495Z"
   },
   {
    "duration": 18,
    "start_time": "2023-02-12T07:24:59.511Z"
   },
   {
    "duration": 7,
    "start_time": "2023-02-12T07:24:59.531Z"
   },
   {
    "duration": 5897,
    "start_time": "2023-02-12T07:24:59.540Z"
   },
   {
    "duration": 1165,
    "start_time": "2023-02-12T07:25:05.439Z"
   },
   {
    "duration": 78,
    "start_time": "2023-02-12T07:25:06.606Z"
   },
   {
    "duration": 5772,
    "start_time": "2023-02-12T07:25:50.013Z"
   },
   {
    "duration": 5824,
    "start_time": "2023-02-12T07:27:40.788Z"
   },
   {
    "duration": 5676,
    "start_time": "2023-02-12T07:28:38.889Z"
   },
   {
    "duration": 5804,
    "start_time": "2023-02-12T07:29:34.869Z"
   },
   {
    "duration": 5899,
    "start_time": "2023-02-12T07:29:59.800Z"
   },
   {
    "duration": 5758,
    "start_time": "2023-02-12T07:31:13.886Z"
   },
   {
    "duration": 5757,
    "start_time": "2023-02-12T07:34:26.020Z"
   },
   {
    "duration": 80,
    "start_time": "2023-02-12T07:36:45.713Z"
   },
   {
    "duration": 6013,
    "start_time": "2023-02-12T07:36:55.947Z"
   },
   {
    "duration": 5779,
    "start_time": "2023-02-12T07:38:23.317Z"
   },
   {
    "duration": 5835,
    "start_time": "2023-02-12T07:41:50.114Z"
   },
   {
    "duration": 5397,
    "start_time": "2023-02-12T07:44:03.430Z"
   },
   {
    "duration": 5510,
    "start_time": "2023-02-12T07:45:02.699Z"
   },
   {
    "duration": 77,
    "start_time": "2023-02-12T07:46:11.816Z"
   },
   {
    "duration": 1473,
    "start_time": "2023-02-12T07:48:09.906Z"
   },
   {
    "duration": 785,
    "start_time": "2023-02-12T07:48:11.381Z"
   },
   {
    "duration": 714,
    "start_time": "2023-02-12T07:48:12.167Z"
   },
   {
    "duration": 507,
    "start_time": "2023-02-12T07:48:12.882Z"
   },
   {
    "duration": 126,
    "start_time": "2023-02-12T07:48:13.392Z"
   },
   {
    "duration": 222,
    "start_time": "2023-02-12T07:48:13.520Z"
   },
   {
    "duration": 3,
    "start_time": "2023-02-12T07:48:13.743Z"
   },
   {
    "duration": 86,
    "start_time": "2023-02-12T07:48:13.747Z"
   },
   {
    "duration": 2,
    "start_time": "2023-02-12T07:48:13.835Z"
   },
   {
    "duration": 177,
    "start_time": "2023-02-12T07:48:13.839Z"
   },
   {
    "duration": 27,
    "start_time": "2023-02-12T07:48:14.018Z"
   },
   {
    "duration": 2,
    "start_time": "2023-02-12T07:48:14.047Z"
   },
   {
    "duration": 1802,
    "start_time": "2023-02-12T07:48:14.051Z"
   },
   {
    "duration": 23,
    "start_time": "2023-02-12T07:48:15.856Z"
   },
   {
    "duration": 36,
    "start_time": "2023-02-12T07:48:15.881Z"
   },
   {
    "duration": 313,
    "start_time": "2023-02-12T07:48:15.919Z"
   },
   {
    "duration": 36,
    "start_time": "2023-02-12T07:48:16.234Z"
   },
   {
    "duration": 11,
    "start_time": "2023-02-12T07:48:16.272Z"
   },
   {
    "duration": 316,
    "start_time": "2023-02-12T07:48:16.285Z"
   },
   {
    "duration": 22,
    "start_time": "2023-02-12T07:48:16.603Z"
   },
   {
    "duration": 14,
    "start_time": "2023-02-12T07:48:16.628Z"
   },
   {
    "duration": 5,
    "start_time": "2023-02-12T07:48:16.644Z"
   },
   {
    "duration": 5531,
    "start_time": "2023-02-12T07:48:16.651Z"
   },
   {
    "duration": 1257,
    "start_time": "2023-02-12T07:48:22.184Z"
   },
   {
    "duration": 2869,
    "start_time": "2023-02-12T07:57:30.231Z"
   },
   {
    "duration": 1401,
    "start_time": "2023-02-12T07:57:47.024Z"
   },
   {
    "duration": 806,
    "start_time": "2023-02-12T07:57:48.427Z"
   },
   {
    "duration": 691,
    "start_time": "2023-02-12T07:57:49.235Z"
   },
   {
    "duration": 494,
    "start_time": "2023-02-12T07:57:49.928Z"
   },
   {
    "duration": 106,
    "start_time": "2023-02-12T07:57:50.425Z"
   },
   {
    "duration": 203,
    "start_time": "2023-02-12T07:57:50.533Z"
   },
   {
    "duration": 3,
    "start_time": "2023-02-12T07:57:50.737Z"
   },
   {
    "duration": 82,
    "start_time": "2023-02-12T07:57:50.742Z"
   },
   {
    "duration": 2,
    "start_time": "2023-02-12T07:57:50.826Z"
   },
   {
    "duration": 160,
    "start_time": "2023-02-12T07:57:50.830Z"
   },
   {
    "duration": 36,
    "start_time": "2023-02-12T07:57:50.992Z"
   },
   {
    "duration": 2,
    "start_time": "2023-02-12T07:57:51.030Z"
   },
   {
    "duration": 1719,
    "start_time": "2023-02-12T07:57:51.034Z"
   },
   {
    "duration": 21,
    "start_time": "2023-02-12T07:57:52.756Z"
   },
   {
    "duration": 35,
    "start_time": "2023-02-12T07:57:52.779Z"
   },
   {
    "duration": 323,
    "start_time": "2023-02-12T07:57:52.816Z"
   },
   {
    "duration": 39,
    "start_time": "2023-02-12T07:57:53.141Z"
   },
   {
    "duration": 23,
    "start_time": "2023-02-12T07:57:53.182Z"
   },
   {
    "duration": 312,
    "start_time": "2023-02-12T07:57:53.207Z"
   },
   {
    "duration": 12,
    "start_time": "2023-02-12T07:57:53.521Z"
   },
   {
    "duration": 6,
    "start_time": "2023-02-12T07:57:53.535Z"
   },
   {
    "duration": 7,
    "start_time": "2023-02-12T07:57:53.543Z"
   },
   {
    "duration": 5727,
    "start_time": "2023-02-12T07:57:53.551Z"
   },
   {
    "duration": 1163,
    "start_time": "2023-02-12T07:57:59.279Z"
   },
   {
    "duration": 148677,
    "start_time": "2023-02-12T07:58:00.444Z"
   },
   {
    "duration": 1219,
    "start_time": "2023-02-12T08:00:29.124Z"
   },
   {
    "duration": 1353,
    "start_time": "2023-02-12T08:00:45.648Z"
   },
   {
    "duration": 862,
    "start_time": "2023-02-12T08:00:47.003Z"
   },
   {
    "duration": 707,
    "start_time": "2023-02-12T08:00:47.867Z"
   },
   {
    "duration": 511,
    "start_time": "2023-02-12T08:00:48.575Z"
   },
   {
    "duration": 107,
    "start_time": "2023-02-12T08:00:49.088Z"
   },
   {
    "duration": 213,
    "start_time": "2023-02-12T08:00:49.196Z"
   },
   {
    "duration": 3,
    "start_time": "2023-02-12T08:00:49.411Z"
   },
   {
    "duration": 88,
    "start_time": "2023-02-12T08:00:49.415Z"
   },
   {
    "duration": 3,
    "start_time": "2023-02-12T08:00:49.505Z"
   },
   {
    "duration": 184,
    "start_time": "2023-02-12T08:00:49.509Z"
   },
   {
    "duration": 37,
    "start_time": "2023-02-12T08:00:49.694Z"
   },
   {
    "duration": 3,
    "start_time": "2023-02-12T08:00:49.732Z"
   },
   {
    "duration": 1726,
    "start_time": "2023-02-12T08:00:49.736Z"
   },
   {
    "duration": 21,
    "start_time": "2023-02-12T08:00:51.465Z"
   },
   {
    "duration": 32,
    "start_time": "2023-02-12T08:00:51.488Z"
   },
   {
    "duration": 322,
    "start_time": "2023-02-12T08:00:51.522Z"
   },
   {
    "duration": 41,
    "start_time": "2023-02-12T08:00:51.846Z"
   },
   {
    "duration": 24,
    "start_time": "2023-02-12T08:00:51.889Z"
   },
   {
    "duration": 326,
    "start_time": "2023-02-12T08:00:51.915Z"
   },
   {
    "duration": 14,
    "start_time": "2023-02-12T08:00:52.243Z"
   },
   {
    "duration": 10,
    "start_time": "2023-02-12T08:00:52.259Z"
   },
   {
    "duration": 5,
    "start_time": "2023-02-12T08:00:52.271Z"
   },
   {
    "duration": 5853,
    "start_time": "2023-02-12T08:00:52.277Z"
   },
   {
    "duration": 1194,
    "start_time": "2023-02-12T08:00:58.131Z"
   },
   {
    "duration": 22574,
    "start_time": "2023-02-12T08:00:59.328Z"
   },
   {
    "duration": 67596,
    "start_time": "2023-02-12T08:01:36.795Z"
   },
   {
    "duration": 292038,
    "start_time": "2023-02-12T08:02:52.467Z"
   },
   {
    "duration": 21865,
    "start_time": "2023-02-12T08:07:45.744Z"
   },
   {
    "duration": 309313,
    "start_time": "2023-02-12T08:08:13.456Z"
   },
   {
    "duration": 24913,
    "start_time": "2023-02-12T08:13:25.900Z"
   },
   {
    "duration": 48798,
    "start_time": "2023-02-12T08:14:08.942Z"
   },
   {
    "duration": 87,
    "start_time": "2023-02-12T08:15:27.129Z"
   },
   {
    "duration": 77,
    "start_time": "2023-02-12T08:15:50.366Z"
   },
   {
    "duration": 262147,
    "start_time": "2023-02-12T08:16:03.750Z"
   },
   {
    "duration": 82,
    "start_time": "2023-02-12T08:21:47.357Z"
   },
   {
    "duration": 6024,
    "start_time": "2023-02-12T08:27:30.898Z"
   },
   {
    "duration": 58668,
    "start_time": "2023-02-12T08:32:29.926Z"
   },
   {
    "duration": 178560,
    "start_time": "2023-02-12T08:35:11.238Z"
   },
   {
    "duration": 28156,
    "start_time": "2023-02-12T08:38:10.050Z"
   },
   {
    "duration": 1511,
    "start_time": "2023-02-12T08:40:30.647Z"
   },
   {
    "duration": 880,
    "start_time": "2023-02-12T08:40:32.160Z"
   },
   {
    "duration": 806,
    "start_time": "2023-02-12T08:40:33.043Z"
   },
   {
    "duration": 585,
    "start_time": "2023-02-12T08:40:33.852Z"
   },
   {
    "duration": 108,
    "start_time": "2023-02-12T08:40:34.439Z"
   },
   {
    "duration": 218,
    "start_time": "2023-02-12T08:40:34.548Z"
   },
   {
    "duration": 3,
    "start_time": "2023-02-12T08:40:34.768Z"
   },
   {
    "duration": 94,
    "start_time": "2023-02-12T08:40:34.772Z"
   },
   {
    "duration": 3,
    "start_time": "2023-02-12T08:40:34.868Z"
   },
   {
    "duration": 183,
    "start_time": "2023-02-12T08:40:34.874Z"
   },
   {
    "duration": 33,
    "start_time": "2023-02-12T08:40:35.059Z"
   },
   {
    "duration": 11,
    "start_time": "2023-02-12T08:40:35.093Z"
   },
   {
    "duration": 1746,
    "start_time": "2023-02-12T08:40:35.105Z"
   },
   {
    "duration": 20,
    "start_time": "2023-02-12T08:40:36.852Z"
   },
   {
    "duration": 34,
    "start_time": "2023-02-12T08:40:36.875Z"
   },
   {
    "duration": 326,
    "start_time": "2023-02-12T08:40:36.911Z"
   },
   {
    "duration": 49,
    "start_time": "2023-02-12T08:40:37.239Z"
   },
   {
    "duration": 12,
    "start_time": "2023-02-12T08:40:37.303Z"
   },
   {
    "duration": 320,
    "start_time": "2023-02-12T08:40:37.317Z"
   },
   {
    "duration": 14,
    "start_time": "2023-02-12T08:40:37.639Z"
   },
   {
    "duration": 20,
    "start_time": "2023-02-12T08:40:37.656Z"
   },
   {
    "duration": 6,
    "start_time": "2023-02-12T08:40:37.679Z"
   },
   {
    "duration": 6100,
    "start_time": "2023-02-12T08:40:37.687Z"
   },
   {
    "duration": 1222,
    "start_time": "2023-02-12T08:40:43.789Z"
   },
   {
    "duration": 125226,
    "start_time": "2023-02-12T08:40:45.013Z"
   },
   {
    "duration": 95773,
    "start_time": "2023-02-12T08:42:52.827Z"
   },
   {
    "duration": 48755,
    "start_time": "2023-02-12T08:44:44.852Z"
   },
   {
    "duration": 88,
    "start_time": "2023-02-12T08:45:37.641Z"
   },
   {
    "duration": 16958,
    "start_time": "2023-02-12T08:45:52.152Z"
   },
   {
    "duration": 22889,
    "start_time": "2023-02-12T08:48:17.333Z"
   },
   {
    "duration": 182523,
    "start_time": "2023-02-12T08:48:45.585Z"
   },
   {
    "duration": 247533,
    "start_time": "2023-02-12T08:51:51.865Z"
   },
   {
    "duration": 1575,
    "start_time": "2023-02-12T09:06:18.899Z"
   },
   {
    "duration": 887,
    "start_time": "2023-02-12T09:06:20.476Z"
   },
   {
    "duration": 758,
    "start_time": "2023-02-12T09:06:21.365Z"
   },
   {
    "duration": 666,
    "start_time": "2023-02-12T09:06:22.125Z"
   },
   {
    "duration": 121,
    "start_time": "2023-02-12T09:06:22.793Z"
   },
   {
    "duration": 271,
    "start_time": "2023-02-12T09:06:22.920Z"
   },
   {
    "duration": 3,
    "start_time": "2023-02-12T09:06:23.193Z"
   },
   {
    "duration": 114,
    "start_time": "2023-02-12T09:06:23.205Z"
   },
   {
    "duration": 4,
    "start_time": "2023-02-12T09:06:23.324Z"
   },
   {
    "duration": 204,
    "start_time": "2023-02-12T09:06:23.330Z"
   },
   {
    "duration": 35,
    "start_time": "2023-02-12T09:06:23.536Z"
   },
   {
    "duration": 3,
    "start_time": "2023-02-12T09:06:23.573Z"
   },
   {
    "duration": 2112,
    "start_time": "2023-02-12T09:06:23.578Z"
   },
   {
    "duration": 28,
    "start_time": "2023-02-12T09:06:25.694Z"
   },
   {
    "duration": 20,
    "start_time": "2023-02-12T09:06:25.725Z"
   },
   {
    "duration": 380,
    "start_time": "2023-02-12T09:06:25.748Z"
   },
   {
    "duration": 39,
    "start_time": "2023-02-12T09:06:26.130Z"
   },
   {
    "duration": 19,
    "start_time": "2023-02-12T09:06:26.171Z"
   },
   {
    "duration": 350,
    "start_time": "2023-02-12T09:06:26.203Z"
   },
   {
    "duration": 18,
    "start_time": "2023-02-12T09:06:26.555Z"
   },
   {
    "duration": 12,
    "start_time": "2023-02-12T09:06:26.576Z"
   },
   {
    "duration": 32,
    "start_time": "2023-02-12T09:06:26.591Z"
   },
   {
    "duration": 6320,
    "start_time": "2023-02-12T09:06:26.625Z"
   },
   {
    "duration": 1429,
    "start_time": "2023-02-12T09:06:32.946Z"
   },
   {
    "duration": 430643,
    "start_time": "2023-02-12T09:06:34.376Z"
   },
   {
    "duration": 104,
    "start_time": "2023-02-12T09:13:45.021Z"
   },
   {
    "duration": 103,
    "start_time": "2023-02-12T09:13:45.127Z"
   },
   {
    "duration": 1535,
    "start_time": "2023-02-12T09:13:57.021Z"
   },
   {
    "duration": 886,
    "start_time": "2023-02-12T09:13:58.558Z"
   },
   {
    "duration": 808,
    "start_time": "2023-02-12T09:13:59.446Z"
   },
   {
    "duration": 575,
    "start_time": "2023-02-12T09:14:00.257Z"
   },
   {
    "duration": 120,
    "start_time": "2023-02-12T09:14:00.833Z"
   },
   {
    "duration": 237,
    "start_time": "2023-02-12T09:14:00.955Z"
   },
   {
    "duration": 3,
    "start_time": "2023-02-12T09:14:01.194Z"
   },
   {
    "duration": 112,
    "start_time": "2023-02-12T09:14:01.204Z"
   },
   {
    "duration": 2,
    "start_time": "2023-02-12T09:14:01.318Z"
   },
   {
    "duration": 197,
    "start_time": "2023-02-12T09:14:01.323Z"
   },
   {
    "duration": 32,
    "start_time": "2023-02-12T09:14:01.521Z"
   },
   {
    "duration": 3,
    "start_time": "2023-02-12T09:14:01.555Z"
   },
   {
    "duration": 1963,
    "start_time": "2023-02-12T09:14:01.560Z"
   },
   {
    "duration": 31,
    "start_time": "2023-02-12T09:14:03.525Z"
   },
   {
    "duration": 20,
    "start_time": "2023-02-12T09:14:03.557Z"
   },
   {
    "duration": 376,
    "start_time": "2023-02-12T09:14:03.579Z"
   },
   {
    "duration": 54,
    "start_time": "2023-02-12T09:14:03.957Z"
   },
   {
    "duration": 27,
    "start_time": "2023-02-12T09:14:04.013Z"
   },
   {
    "duration": 445,
    "start_time": "2023-02-12T09:14:04.042Z"
   },
   {
    "duration": 28,
    "start_time": "2023-02-12T09:14:04.490Z"
   },
   {
    "duration": 6,
    "start_time": "2023-02-12T09:14:04.520Z"
   },
   {
    "duration": 8,
    "start_time": "2023-02-12T09:14:04.529Z"
   },
   {
    "duration": 6231,
    "start_time": "2023-02-12T09:14:04.539Z"
   },
   {
    "duration": 1299,
    "start_time": "2023-02-12T09:14:10.772Z"
   },
   {
    "duration": 1748,
    "start_time": "2023-02-12T09:14:33.666Z"
   },
   {
    "duration": 0,
    "start_time": "2023-02-12T09:14:35.419Z"
   },
   {
    "duration": 0,
    "start_time": "2023-02-12T09:14:35.421Z"
   },
   {
    "duration": 0,
    "start_time": "2023-02-12T09:14:35.422Z"
   },
   {
    "duration": 0,
    "start_time": "2023-02-12T09:14:35.422Z"
   },
   {
    "duration": 0,
    "start_time": "2023-02-12T09:14:35.424Z"
   },
   {
    "duration": 0,
    "start_time": "2023-02-12T09:14:35.426Z"
   },
   {
    "duration": 0,
    "start_time": "2023-02-12T09:14:35.427Z"
   },
   {
    "duration": 0,
    "start_time": "2023-02-12T09:14:35.429Z"
   },
   {
    "duration": 0,
    "start_time": "2023-02-12T09:14:35.430Z"
   },
   {
    "duration": 0,
    "start_time": "2023-02-12T09:14:35.432Z"
   },
   {
    "duration": 0,
    "start_time": "2023-02-12T09:14:35.433Z"
   },
   {
    "duration": 0,
    "start_time": "2023-02-12T09:14:35.439Z"
   },
   {
    "duration": 0,
    "start_time": "2023-02-12T09:14:35.441Z"
   },
   {
    "duration": 0,
    "start_time": "2023-02-12T09:14:35.442Z"
   },
   {
    "duration": 0,
    "start_time": "2023-02-12T09:14:35.443Z"
   },
   {
    "duration": 0,
    "start_time": "2023-02-12T09:14:35.444Z"
   },
   {
    "duration": 0,
    "start_time": "2023-02-12T09:14:35.445Z"
   },
   {
    "duration": 0,
    "start_time": "2023-02-12T09:14:35.447Z"
   },
   {
    "duration": 0,
    "start_time": "2023-02-12T09:14:35.448Z"
   },
   {
    "duration": 0,
    "start_time": "2023-02-12T09:14:35.449Z"
   },
   {
    "duration": 0,
    "start_time": "2023-02-12T09:14:35.450Z"
   },
   {
    "duration": 0,
    "start_time": "2023-02-12T09:14:35.451Z"
   },
   {
    "duration": 1,
    "start_time": "2023-02-12T09:14:35.452Z"
   },
   {
    "duration": 0,
    "start_time": "2023-02-12T09:14:35.455Z"
   },
   {
    "duration": 0,
    "start_time": "2023-02-12T09:14:35.456Z"
   },
   {
    "duration": 0,
    "start_time": "2023-02-12T09:14:35.457Z"
   },
   {
    "duration": 14,
    "start_time": "2023-02-12T09:16:38.210Z"
   },
   {
    "duration": 0,
    "start_time": "2023-02-12T09:16:38.226Z"
   },
   {
    "duration": 0,
    "start_time": "2023-02-12T09:16:38.228Z"
   },
   {
    "duration": 0,
    "start_time": "2023-02-12T09:16:38.229Z"
   },
   {
    "duration": 0,
    "start_time": "2023-02-12T09:16:38.231Z"
   },
   {
    "duration": 0,
    "start_time": "2023-02-12T09:16:38.232Z"
   },
   {
    "duration": 0,
    "start_time": "2023-02-12T09:16:38.234Z"
   },
   {
    "duration": 0,
    "start_time": "2023-02-12T09:16:38.235Z"
   },
   {
    "duration": 0,
    "start_time": "2023-02-12T09:16:38.237Z"
   },
   {
    "duration": 11,
    "start_time": "2023-02-12T09:16:38.248Z"
   },
   {
    "duration": 0,
    "start_time": "2023-02-12T09:16:38.261Z"
   },
   {
    "duration": 0,
    "start_time": "2023-02-12T09:16:38.262Z"
   },
   {
    "duration": 0,
    "start_time": "2023-02-12T09:16:38.263Z"
   },
   {
    "duration": 0,
    "start_time": "2023-02-12T09:16:38.264Z"
   },
   {
    "duration": 0,
    "start_time": "2023-02-12T09:16:38.265Z"
   },
   {
    "duration": 0,
    "start_time": "2023-02-12T09:16:38.267Z"
   },
   {
    "duration": 0,
    "start_time": "2023-02-12T09:16:38.268Z"
   },
   {
    "duration": 0,
    "start_time": "2023-02-12T09:16:38.305Z"
   },
   {
    "duration": 0,
    "start_time": "2023-02-12T09:16:38.305Z"
   },
   {
    "duration": 0,
    "start_time": "2023-02-12T09:16:38.306Z"
   },
   {
    "duration": 0,
    "start_time": "2023-02-12T09:16:38.307Z"
   },
   {
    "duration": 0,
    "start_time": "2023-02-12T09:16:38.308Z"
   },
   {
    "duration": 0,
    "start_time": "2023-02-12T09:16:38.309Z"
   },
   {
    "duration": 0,
    "start_time": "2023-02-12T09:16:38.309Z"
   },
   {
    "duration": 0,
    "start_time": "2023-02-12T09:16:38.310Z"
   },
   {
    "duration": 0,
    "start_time": "2023-02-12T09:16:38.311Z"
   },
   {
    "duration": 0,
    "start_time": "2023-02-12T09:16:38.312Z"
   },
   {
    "duration": 68,
    "start_time": "2023-02-12T09:17:57.919Z"
   },
   {
    "duration": 4,
    "start_time": "2023-02-12T09:18:00.965Z"
   },
   {
    "duration": 1039,
    "start_time": "2023-02-12T09:18:00.971Z"
   },
   {
    "duration": 774,
    "start_time": "2023-02-12T09:18:02.012Z"
   },
   {
    "duration": 587,
    "start_time": "2023-02-12T09:18:02.788Z"
   },
   {
    "duration": 144,
    "start_time": "2023-02-12T09:18:03.377Z"
   },
   {
    "duration": 237,
    "start_time": "2023-02-12T09:18:03.523Z"
   },
   {
    "duration": 3,
    "start_time": "2023-02-12T09:18:03.761Z"
   },
   {
    "duration": 86,
    "start_time": "2023-02-12T09:18:03.766Z"
   },
   {
    "duration": 10,
    "start_time": "2023-02-12T09:18:03.854Z"
   },
   {
    "duration": 213,
    "start_time": "2023-02-12T09:18:03.868Z"
   },
   {
    "duration": 48,
    "start_time": "2023-02-12T09:18:04.084Z"
   },
   {
    "duration": 3,
    "start_time": "2023-02-12T09:18:04.135Z"
   },
   {
    "duration": 2019,
    "start_time": "2023-02-12T09:18:04.140Z"
   },
   {
    "duration": 22,
    "start_time": "2023-02-12T09:18:06.161Z"
   },
   {
    "duration": 31,
    "start_time": "2023-02-12T09:18:06.185Z"
   },
   {
    "duration": 359,
    "start_time": "2023-02-12T09:18:06.218Z"
   },
   {
    "duration": 68,
    "start_time": "2023-02-12T09:18:06.579Z"
   },
   {
    "duration": 12,
    "start_time": "2023-02-12T09:18:06.649Z"
   },
   {
    "duration": 345,
    "start_time": "2023-02-12T09:18:06.663Z"
   },
   {
    "duration": 14,
    "start_time": "2023-02-12T09:18:07.010Z"
   },
   {
    "duration": 16,
    "start_time": "2023-02-12T09:18:07.026Z"
   },
   {
    "duration": 11,
    "start_time": "2023-02-12T09:18:07.044Z"
   },
   {
    "duration": 6024,
    "start_time": "2023-02-12T09:18:07.057Z"
   },
   {
    "duration": 1310,
    "start_time": "2023-02-12T09:18:13.083Z"
   },
   {
    "duration": 117069,
    "start_time": "2023-02-12T09:18:14.395Z"
   },
   {
    "duration": 85,
    "start_time": "2023-02-12T09:20:11.466Z"
   },
   {
    "duration": 78,
    "start_time": "2023-02-12T09:20:11.553Z"
   },
   {
    "duration": 1205,
    "start_time": "2023-02-12T09:20:11.635Z"
   },
   {
    "duration": 6,
    "start_time": "2023-02-12T09:20:46.140Z"
   },
   {
    "duration": 82,
    "start_time": "2023-02-12T09:20:52.735Z"
   },
   {
    "duration": 80,
    "start_time": "2023-02-12T09:20:55.477Z"
   },
   {
    "duration": 7,
    "start_time": "2023-02-12T09:21:06.048Z"
   },
   {
    "duration": 10661,
    "start_time": "2023-02-12T09:21:19.530Z"
   },
   {
    "duration": 100,
    "start_time": "2023-02-12T09:21:30.194Z"
   },
   {
    "duration": 11872,
    "start_time": "2023-02-12T09:22:03.275Z"
   },
   {
    "duration": 352,
    "start_time": "2023-02-12T09:22:15.149Z"
   },
   {
    "duration": 5,
    "start_time": "2023-02-12T09:26:35.969Z"
   },
   {
    "duration": 94,
    "start_time": "2023-02-12T09:26:55.379Z"
   },
   {
    "duration": 29060,
    "start_time": "2023-02-12T09:31:30.800Z"
   },
   {
    "duration": 1152,
    "start_time": "2023-02-12T09:32:26.051Z"
   },
   {
    "duration": 28508,
    "start_time": "2023-02-12T09:33:36.018Z"
   },
   {
    "duration": 378921,
    "start_time": "2023-02-12T09:34:26.754Z"
   },
   {
    "duration": 5,
    "start_time": "2023-02-12T09:40:45.677Z"
   },
   {
    "duration": 935151,
    "start_time": "2023-02-12T09:40:47.146Z"
   },
   {
    "duration": 8818,
    "start_time": "2023-02-12T09:56:22.299Z"
   },
   {
    "duration": 0,
    "start_time": "2023-02-12T09:56:31.121Z"
   },
   {
    "duration": 0,
    "start_time": "2023-02-12T09:56:31.125Z"
   },
   {
    "duration": 1257,
    "start_time": "2023-02-12T09:56:35.146Z"
   },
   {
    "duration": 13,
    "start_time": "2023-02-12T09:56:39.144Z"
   },
   {
    "duration": 340,
    "start_time": "2023-02-12T09:58:06.956Z"
   },
   {
    "duration": 14,
    "start_time": "2023-02-12T09:58:24.399Z"
   },
   {
    "duration": 1466,
    "start_time": "2023-02-12T09:58:55.365Z"
   },
   {
    "duration": 808,
    "start_time": "2023-02-12T09:58:56.833Z"
   },
   {
    "duration": 768,
    "start_time": "2023-02-12T09:58:57.644Z"
   },
   {
    "duration": 543,
    "start_time": "2023-02-12T09:58:58.414Z"
   },
   {
    "duration": 108,
    "start_time": "2023-02-12T09:58:58.960Z"
   },
   {
    "duration": 240,
    "start_time": "2023-02-12T09:58:59.069Z"
   },
   {
    "duration": 2,
    "start_time": "2023-02-12T09:58:59.311Z"
   },
   {
    "duration": 101,
    "start_time": "2023-02-12T09:58:59.315Z"
   },
   {
    "duration": 2,
    "start_time": "2023-02-12T09:58:59.418Z"
   },
   {
    "duration": 178,
    "start_time": "2023-02-12T09:58:59.422Z"
   },
   {
    "duration": 31,
    "start_time": "2023-02-12T09:58:59.602Z"
   },
   {
    "duration": 3,
    "start_time": "2023-02-12T09:58:59.635Z"
   },
   {
    "duration": 1753,
    "start_time": "2023-02-12T09:58:59.639Z"
   },
   {
    "duration": 24,
    "start_time": "2023-02-12T09:59:01.395Z"
   },
   {
    "duration": 34,
    "start_time": "2023-02-12T09:59:01.420Z"
   },
   {
    "duration": 363,
    "start_time": "2023-02-12T09:59:01.455Z"
   },
   {
    "duration": 37,
    "start_time": "2023-02-12T09:59:01.820Z"
   },
   {
    "duration": 18,
    "start_time": "2023-02-12T09:59:01.858Z"
   },
   {
    "duration": 396,
    "start_time": "2023-02-12T09:59:01.878Z"
   },
   {
    "duration": 14,
    "start_time": "2023-02-12T09:59:02.276Z"
   },
   {
    "duration": 23,
    "start_time": "2023-02-12T09:59:02.292Z"
   },
   {
    "duration": 16,
    "start_time": "2023-02-12T09:59:02.317Z"
   },
   {
    "duration": 14,
    "start_time": "2023-02-12T09:59:02.334Z"
   },
   {
    "duration": 29886,
    "start_time": "2023-02-12T09:59:02.349Z"
   },
   {
    "duration": 1250,
    "start_time": "2023-02-12T09:59:32.237Z"
   },
   {
    "duration": 14,
    "start_time": "2023-02-12T09:59:33.489Z"
   },
   {
    "duration": 3,
    "start_time": "2023-02-12T09:59:33.505Z"
   },
   {
    "duration": 1524,
    "start_time": "2023-02-12T10:05:13.663Z"
   },
   {
    "duration": 845,
    "start_time": "2023-02-12T10:05:15.189Z"
   },
   {
    "duration": 745,
    "start_time": "2023-02-12T10:05:16.036Z"
   },
   {
    "duration": 531,
    "start_time": "2023-02-12T10:05:16.782Z"
   },
   {
    "duration": 113,
    "start_time": "2023-02-12T10:05:17.315Z"
   },
   {
    "duration": 213,
    "start_time": "2023-02-12T10:05:17.430Z"
   },
   {
    "duration": 2,
    "start_time": "2023-02-12T10:05:17.645Z"
   },
   {
    "duration": 81,
    "start_time": "2023-02-12T10:05:17.648Z"
   },
   {
    "duration": 3,
    "start_time": "2023-02-12T10:05:17.730Z"
   },
   {
    "duration": 193,
    "start_time": "2023-02-12T10:05:17.735Z"
   },
   {
    "duration": 28,
    "start_time": "2023-02-12T10:05:17.930Z"
   },
   {
    "duration": 3,
    "start_time": "2023-02-12T10:05:17.959Z"
   },
   {
    "duration": 1774,
    "start_time": "2023-02-12T10:05:17.963Z"
   },
   {
    "duration": 20,
    "start_time": "2023-02-12T10:05:19.740Z"
   },
   {
    "duration": 19,
    "start_time": "2023-02-12T10:05:19.762Z"
   },
   {
    "duration": 352,
    "start_time": "2023-02-12T10:05:19.782Z"
   },
   {
    "duration": 41,
    "start_time": "2023-02-12T10:05:20.136Z"
   },
   {
    "duration": 27,
    "start_time": "2023-02-12T10:05:20.179Z"
   },
   {
    "duration": 323,
    "start_time": "2023-02-12T10:05:20.207Z"
   },
   {
    "duration": 14,
    "start_time": "2023-02-12T10:05:20.532Z"
   },
   {
    "duration": 9,
    "start_time": "2023-02-12T10:05:20.548Z"
   },
   {
    "duration": 9,
    "start_time": "2023-02-12T10:05:20.558Z"
   },
   {
    "duration": 14,
    "start_time": "2023-02-12T10:05:20.569Z"
   },
   {
    "duration": 28785,
    "start_time": "2023-02-12T10:05:20.585Z"
   },
   {
    "duration": 1233,
    "start_time": "2023-02-12T10:05:49.372Z"
   },
   {
    "duration": 13,
    "start_time": "2023-02-12T10:05:50.606Z"
   },
   {
    "duration": 3,
    "start_time": "2023-02-12T10:05:50.621Z"
   },
   {
    "duration": 24748,
    "start_time": "2023-02-12T10:05:50.626Z"
   },
   {
    "duration": 0,
    "start_time": "2023-02-12T10:06:15.376Z"
   },
   {
    "duration": 0,
    "start_time": "2023-02-12T10:06:15.378Z"
   },
   {
    "duration": 1,
    "start_time": "2023-02-12T10:06:15.378Z"
   },
   {
    "duration": 0,
    "start_time": "2023-02-12T10:06:15.380Z"
   },
   {
    "duration": 0,
    "start_time": "2023-02-12T10:06:15.381Z"
   },
   {
    "duration": 10606,
    "start_time": "2023-02-12T10:06:32.165Z"
   },
   {
    "duration": 348,
    "start_time": "2023-02-12T10:06:42.773Z"
   },
   {
    "duration": 14,
    "start_time": "2023-02-12T10:06:43.123Z"
   },
   {
    "duration": 1707,
    "start_time": "2023-02-13T15:52:17.476Z"
   },
   {
    "duration": 2910,
    "start_time": "2023-02-13T15:52:19.185Z"
   },
   {
    "duration": 777,
    "start_time": "2023-02-13T15:52:22.097Z"
   },
   {
    "duration": 492,
    "start_time": "2023-02-13T15:52:22.877Z"
   },
   {
    "duration": 121,
    "start_time": "2023-02-13T15:52:23.371Z"
   },
   {
    "duration": 198,
    "start_time": "2023-02-13T15:52:23.494Z"
   },
   {
    "duration": 2,
    "start_time": "2023-02-13T15:52:23.694Z"
   },
   {
    "duration": 82,
    "start_time": "2023-02-13T15:52:23.698Z"
   },
   {
    "duration": 2,
    "start_time": "2023-02-13T15:52:23.782Z"
   },
   {
    "duration": 163,
    "start_time": "2023-02-13T15:52:23.787Z"
   },
   {
    "duration": 33,
    "start_time": "2023-02-13T15:52:23.952Z"
   },
   {
    "duration": 2,
    "start_time": "2023-02-13T15:52:23.987Z"
   },
   {
    "duration": 1639,
    "start_time": "2023-02-13T15:52:23.991Z"
   },
   {
    "duration": 17,
    "start_time": "2023-02-13T15:52:25.633Z"
   },
   {
    "duration": 28,
    "start_time": "2023-02-13T15:52:25.651Z"
   },
   {
    "duration": 330,
    "start_time": "2023-02-13T15:52:25.681Z"
   },
   {
    "duration": 43,
    "start_time": "2023-02-13T15:52:26.013Z"
   },
   {
    "duration": 9,
    "start_time": "2023-02-13T15:52:26.067Z"
   },
   {
    "duration": 290,
    "start_time": "2023-02-13T15:52:26.077Z"
   },
   {
    "duration": 12,
    "start_time": "2023-02-13T15:52:26.369Z"
   },
   {
    "duration": 7,
    "start_time": "2023-02-13T15:52:26.383Z"
   },
   {
    "duration": 5,
    "start_time": "2023-02-13T15:52:26.392Z"
   },
   {
    "duration": 7,
    "start_time": "2023-02-13T15:52:26.398Z"
   },
   {
    "duration": 24180,
    "start_time": "2023-02-13T15:52:26.406Z"
   },
   {
    "duration": 1097,
    "start_time": "2023-02-13T15:52:50.587Z"
   },
   {
    "duration": 12,
    "start_time": "2023-02-13T15:52:51.685Z"
   },
   {
    "duration": 4,
    "start_time": "2023-02-13T15:52:51.699Z"
   },
   {
    "duration": 1539,
    "start_time": "2023-02-15T16:32:17.326Z"
   },
   {
    "duration": 3351,
    "start_time": "2023-02-15T16:32:18.867Z"
   },
   {
    "duration": 691,
    "start_time": "2023-02-15T16:32:22.221Z"
   },
   {
    "duration": 478,
    "start_time": "2023-02-15T16:32:22.915Z"
   },
   {
    "duration": 118,
    "start_time": "2023-02-15T16:32:23.394Z"
   },
   {
    "duration": 4,
    "start_time": "2023-02-15T16:32:23.514Z"
   },
   {
    "duration": 93,
    "start_time": "2023-02-15T16:32:23.520Z"
   },
   {
    "duration": 3,
    "start_time": "2023-02-15T16:32:23.615Z"
   },
   {
    "duration": 98,
    "start_time": "2023-02-15T16:32:23.620Z"
   },
   {
    "duration": 3,
    "start_time": "2023-02-15T16:32:23.721Z"
   },
   {
    "duration": 225,
    "start_time": "2023-02-15T16:32:23.725Z"
   },
   {
    "duration": 58,
    "start_time": "2023-02-15T16:32:23.952Z"
   },
   {
    "duration": 3,
    "start_time": "2023-02-15T16:32:24.012Z"
   },
   {
    "duration": 1641,
    "start_time": "2023-02-15T16:32:24.017Z"
   },
   {
    "duration": 48,
    "start_time": "2023-02-15T16:32:25.660Z"
   },
   {
    "duration": 31,
    "start_time": "2023-02-15T16:32:25.710Z"
   },
   {
    "duration": 390,
    "start_time": "2023-02-15T16:32:25.742Z"
   },
   {
    "duration": 71,
    "start_time": "2023-02-15T16:32:26.134Z"
   },
   {
    "duration": 19,
    "start_time": "2023-02-15T16:32:26.207Z"
   },
   {
    "duration": 467,
    "start_time": "2023-02-15T16:32:26.229Z"
   },
   {
    "duration": 15,
    "start_time": "2023-02-15T16:32:26.698Z"
   },
   {
    "duration": 7,
    "start_time": "2023-02-15T16:32:26.714Z"
   },
   {
    "duration": 11,
    "start_time": "2023-02-15T16:32:26.722Z"
   },
   {
    "duration": 7,
    "start_time": "2023-02-15T16:32:26.735Z"
   },
   {
    "duration": 16823,
    "start_time": "2023-02-15T16:32:26.743Z"
   },
   {
    "duration": 2645,
    "start_time": "2023-02-15T16:32:43.568Z"
   },
   {
    "duration": 98,
    "start_time": "2023-02-15T16:32:46.215Z"
   },
   {
    "duration": 2,
    "start_time": "2023-02-15T16:32:46.317Z"
   },
   {
    "duration": 1687,
    "start_time": "2023-02-15T16:32:46.321Z"
   },
   {
    "duration": 0,
    "start_time": "2023-02-15T16:32:48.010Z"
   },
   {
    "duration": 0,
    "start_time": "2023-02-15T16:32:48.011Z"
   },
   {
    "duration": 0,
    "start_time": "2023-02-15T16:32:48.012Z"
   },
   {
    "duration": 0,
    "start_time": "2023-02-15T16:32:48.014Z"
   },
   {
    "duration": 0,
    "start_time": "2023-02-15T16:32:48.015Z"
   },
   {
    "duration": 67,
    "start_time": "2023-02-15T16:33:10.649Z"
   },
   {
    "duration": 45,
    "start_time": "2023-02-15T16:33:17.480Z"
   },
   {
    "duration": 55,
    "start_time": "2023-02-15T16:33:55.625Z"
   },
   {
    "duration": 538,
    "start_time": "2023-02-15T16:46:20.894Z"
   },
   {
    "duration": 875,
    "start_time": "2023-02-15T16:53:52.141Z"
   },
   {
    "duration": 4,
    "start_time": "2023-02-15T16:53:58.676Z"
   },
   {
    "duration": 793,
    "start_time": "2023-02-15T16:53:58.682Z"
   },
   {
    "duration": 718,
    "start_time": "2023-02-15T16:53:59.477Z"
   },
   {
    "duration": 490,
    "start_time": "2023-02-15T16:54:00.198Z"
   },
   {
    "duration": 134,
    "start_time": "2023-02-15T16:54:00.690Z"
   },
   {
    "duration": 15,
    "start_time": "2023-02-15T16:54:00.826Z"
   },
   {
    "duration": 102,
    "start_time": "2023-02-15T16:54:00.843Z"
   },
   {
    "duration": 2,
    "start_time": "2023-02-15T16:54:00.947Z"
   },
   {
    "duration": 994,
    "start_time": "2023-02-15T16:54:00.951Z"
   },
   {
    "duration": 3,
    "start_time": "2023-02-15T16:54:01.946Z"
   },
   {
    "duration": 180,
    "start_time": "2023-02-15T16:54:01.951Z"
   },
   {
    "duration": 60,
    "start_time": "2023-02-15T16:54:02.133Z"
   },
   {
    "duration": 883,
    "start_time": "2023-02-15T16:54:02.195Z"
   },
   {
    "duration": 0,
    "start_time": "2023-02-15T16:54:03.079Z"
   },
   {
    "duration": 0,
    "start_time": "2023-02-15T16:54:03.080Z"
   },
   {
    "duration": 0,
    "start_time": "2023-02-15T16:54:03.082Z"
   },
   {
    "duration": 0,
    "start_time": "2023-02-15T16:54:03.083Z"
   },
   {
    "duration": 0,
    "start_time": "2023-02-15T16:54:03.084Z"
   },
   {
    "duration": 0,
    "start_time": "2023-02-15T16:54:03.085Z"
   },
   {
    "duration": 0,
    "start_time": "2023-02-15T16:54:03.086Z"
   },
   {
    "duration": 0,
    "start_time": "2023-02-15T16:54:03.086Z"
   },
   {
    "duration": 0,
    "start_time": "2023-02-15T16:54:03.087Z"
   },
   {
    "duration": 0,
    "start_time": "2023-02-15T16:54:03.088Z"
   },
   {
    "duration": 0,
    "start_time": "2023-02-15T16:54:03.089Z"
   },
   {
    "duration": 0,
    "start_time": "2023-02-15T16:54:03.090Z"
   },
   {
    "duration": 0,
    "start_time": "2023-02-15T16:54:03.091Z"
   },
   {
    "duration": 0,
    "start_time": "2023-02-15T16:54:03.092Z"
   },
   {
    "duration": 0,
    "start_time": "2023-02-15T16:54:03.093Z"
   },
   {
    "duration": 0,
    "start_time": "2023-02-15T16:54:03.095Z"
   },
   {
    "duration": 0,
    "start_time": "2023-02-15T16:54:03.095Z"
   },
   {
    "duration": 0,
    "start_time": "2023-02-15T16:54:03.096Z"
   },
   {
    "duration": 0,
    "start_time": "2023-02-15T16:54:03.099Z"
   },
   {
    "duration": 0,
    "start_time": "2023-02-15T16:54:03.100Z"
   },
   {
    "duration": 0,
    "start_time": "2023-02-15T16:54:03.101Z"
   },
   {
    "duration": 829,
    "start_time": "2023-02-15T16:54:50.550Z"
   },
   {
    "duration": 49,
    "start_time": "2023-02-15T16:55:15.334Z"
   },
   {
    "duration": 965,
    "start_time": "2023-02-15T16:55:17.529Z"
   },
   {
    "duration": 44,
    "start_time": "2023-02-15T16:58:21.557Z"
   },
   {
    "duration": 800,
    "start_time": "2023-02-15T16:58:23.621Z"
   },
   {
    "duration": 19,
    "start_time": "2023-02-15T16:58:36.289Z"
   },
   {
    "duration": 1670,
    "start_time": "2023-02-15T17:00:10.879Z"
   },
   {
    "duration": 40,
    "start_time": "2023-02-15T17:03:50.557Z"
   },
   {
    "duration": 335,
    "start_time": "2023-02-15T17:06:28.356Z"
   },
   {
    "duration": 34,
    "start_time": "2023-02-15T17:10:41.146Z"
   },
   {
    "duration": 40,
    "start_time": "2023-02-15T17:10:48.613Z"
   },
   {
    "duration": 899,
    "start_time": "2023-02-15T17:11:08.394Z"
   },
   {
    "duration": 284,
    "start_time": "2023-02-15T17:11:30.585Z"
   },
   {
    "duration": 75,
    "start_time": "2023-02-15T17:13:32.129Z"
   },
   {
    "duration": 17,
    "start_time": "2023-02-15T17:22:20.772Z"
   },
   {
    "duration": 79,
    "start_time": "2023-02-15T17:22:22.763Z"
   },
   {
    "duration": 236,
    "start_time": "2023-02-15T17:24:48.211Z"
   },
   {
    "duration": 261,
    "start_time": "2023-02-15T17:25:04.951Z"
   },
   {
    "duration": 345,
    "start_time": "2023-02-15T17:25:32.469Z"
   },
   {
    "duration": 343,
    "start_time": "2023-02-15T17:27:08.153Z"
   },
   {
    "duration": 14,
    "start_time": "2023-02-15T17:27:12.476Z"
   },
   {
    "duration": 4,
    "start_time": "2023-02-15T17:27:31.108Z"
   },
   {
    "duration": 3,
    "start_time": "2023-02-15T17:27:35.265Z"
   },
   {
    "duration": 340,
    "start_time": "2023-02-15T17:28:18.219Z"
   },
   {
    "duration": 1547,
    "start_time": "2023-02-15T17:40:49.681Z"
   },
   {
    "duration": 877,
    "start_time": "2023-02-15T17:40:51.230Z"
   },
   {
    "duration": 693,
    "start_time": "2023-02-15T17:40:52.109Z"
   },
   {
    "duration": 495,
    "start_time": "2023-02-15T17:40:52.805Z"
   },
   {
    "duration": 152,
    "start_time": "2023-02-15T17:40:53.307Z"
   },
   {
    "duration": 3,
    "start_time": "2023-02-15T17:40:53.461Z"
   },
   {
    "duration": 113,
    "start_time": "2023-02-15T17:40:53.465Z"
   },
   {
    "duration": 3,
    "start_time": "2023-02-15T17:40:53.581Z"
   },
   {
    "duration": 931,
    "start_time": "2023-02-15T17:40:53.586Z"
   },
   {
    "duration": 3,
    "start_time": "2023-02-15T17:40:54.519Z"
   },
   {
    "duration": 179,
    "start_time": "2023-02-15T17:40:54.523Z"
   },
   {
    "duration": 54,
    "start_time": "2023-02-15T17:40:54.708Z"
   },
   {
    "duration": 3,
    "start_time": "2023-02-15T17:40:54.763Z"
   },
   {
    "duration": 1910,
    "start_time": "2023-02-15T17:40:54.767Z"
   },
   {
    "duration": 51,
    "start_time": "2023-02-15T17:40:56.679Z"
   },
   {
    "duration": 31,
    "start_time": "2023-02-15T17:40:56.732Z"
   },
   {
    "duration": 312,
    "start_time": "2023-02-15T17:40:56.764Z"
   },
   {
    "duration": 83,
    "start_time": "2023-02-15T17:40:57.077Z"
   },
   {
    "duration": 19,
    "start_time": "2023-02-15T17:40:57.161Z"
   },
   {
    "duration": 82,
    "start_time": "2023-02-15T17:40:57.182Z"
   },
   {
    "duration": 413,
    "start_time": "2023-02-15T17:40:57.265Z"
   },
   {
    "duration": 4,
    "start_time": "2023-02-15T17:40:57.679Z"
   },
   {
    "duration": 16,
    "start_time": "2023-02-15T17:40:57.684Z"
   },
   {
    "duration": 15,
    "start_time": "2023-02-15T17:40:57.703Z"
   },
   {
    "duration": 9865,
    "start_time": "2023-02-15T17:40:57.721Z"
   },
   {
    "duration": 1958,
    "start_time": "2023-02-15T17:41:07.588Z"
   },
   {
    "duration": 2,
    "start_time": "2023-02-15T17:41:09.547Z"
   },
   {
    "duration": 7,
    "start_time": "2023-02-15T17:41:09.552Z"
   },
   {
    "duration": 1796,
    "start_time": "2023-02-15T17:41:09.560Z"
   },
   {
    "duration": 0,
    "start_time": "2023-02-15T17:41:11.357Z"
   },
   {
    "duration": 0,
    "start_time": "2023-02-15T17:41:11.359Z"
   },
   {
    "duration": 0,
    "start_time": "2023-02-15T17:41:11.359Z"
   },
   {
    "duration": 0,
    "start_time": "2023-02-15T17:41:11.360Z"
   },
   {
    "duration": 0,
    "start_time": "2023-02-15T17:41:11.361Z"
   },
   {
    "duration": 2,
    "start_time": "2023-02-15T17:45:05.126Z"
   },
   {
    "duration": 3,
    "start_time": "2023-02-15T17:51:05.156Z"
   },
   {
    "duration": 4,
    "start_time": "2023-02-15T18:09:47.454Z"
   },
   {
    "duration": 66,
    "start_time": "2023-02-15T18:10:13.478Z"
   },
   {
    "duration": 4,
    "start_time": "2023-02-15T18:10:50.249Z"
   },
   {
    "duration": 67,
    "start_time": "2023-02-15T18:10:59.177Z"
   },
   {
    "duration": 4,
    "start_time": "2023-02-15T18:11:22.534Z"
   },
   {
    "duration": 68,
    "start_time": "2023-02-15T18:11:30.615Z"
   },
   {
    "duration": 5,
    "start_time": "2023-02-15T18:11:58.225Z"
   },
   {
    "duration": 160,
    "start_time": "2023-02-15T18:14:33.771Z"
   },
   {
    "duration": 180,
    "start_time": "2023-02-15T18:15:25.631Z"
   },
   {
    "duration": 215,
    "start_time": "2023-02-15T18:17:28.177Z"
   },
   {
    "duration": 210,
    "start_time": "2023-02-15T18:19:23.785Z"
   },
   {
    "duration": 121,
    "start_time": "2023-02-15T18:19:26.816Z"
   },
   {
    "duration": 121,
    "start_time": "2023-02-15T18:22:50.015Z"
   },
   {
    "duration": 152,
    "start_time": "2023-02-15T18:24:34.167Z"
   },
   {
    "duration": 156,
    "start_time": "2023-02-15T18:24:38.575Z"
   },
   {
    "duration": 373,
    "start_time": "2023-02-15T18:26:38.429Z"
   },
   {
    "duration": 198,
    "start_time": "2023-02-15T18:26:51.199Z"
   },
   {
    "duration": 74,
    "start_time": "2023-02-15T18:28:35.799Z"
   },
   {
    "duration": 62,
    "start_time": "2023-02-15T18:29:34.129Z"
   },
   {
    "duration": 61,
    "start_time": "2023-02-15T18:29:57.494Z"
   },
   {
    "duration": 25,
    "start_time": "2023-02-15T18:31:28.365Z"
   },
   {
    "duration": 29,
    "start_time": "2023-02-15T18:31:55.170Z"
   },
   {
    "duration": 25,
    "start_time": "2023-02-15T18:32:25.336Z"
   },
   {
    "duration": 25,
    "start_time": "2023-02-15T18:33:36.348Z"
   },
   {
    "duration": 4,
    "start_time": "2023-02-15T18:33:39.752Z"
   },
   {
    "duration": 819,
    "start_time": "2023-02-15T18:33:39.759Z"
   },
   {
    "duration": 714,
    "start_time": "2023-02-15T18:33:40.580Z"
   },
   {
    "duration": 504,
    "start_time": "2023-02-15T18:33:41.296Z"
   },
   {
    "duration": 160,
    "start_time": "2023-02-15T18:33:41.802Z"
   },
   {
    "duration": 3,
    "start_time": "2023-02-15T18:33:41.964Z"
   },
   {
    "duration": 113,
    "start_time": "2023-02-15T18:33:41.969Z"
   },
   {
    "duration": 7,
    "start_time": "2023-02-15T18:33:42.084Z"
   },
   {
    "duration": 988,
    "start_time": "2023-02-15T18:33:42.093Z"
   },
   {
    "duration": 8,
    "start_time": "2023-02-15T18:33:43.083Z"
   },
   {
    "duration": 173,
    "start_time": "2023-02-15T18:33:43.093Z"
   },
   {
    "duration": 67,
    "start_time": "2023-02-15T18:33:43.268Z"
   },
   {
    "duration": 3,
    "start_time": "2023-02-15T18:33:43.338Z"
   },
   {
    "duration": 1794,
    "start_time": "2023-02-15T18:33:43.343Z"
   },
   {
    "duration": 41,
    "start_time": "2023-02-15T18:33:45.139Z"
   },
   {
    "duration": 35,
    "start_time": "2023-02-15T18:33:45.191Z"
   },
   {
    "duration": 345,
    "start_time": "2023-02-15T18:33:45.228Z"
   },
   {
    "duration": 95,
    "start_time": "2023-02-15T18:33:45.575Z"
   },
   {
    "duration": 35,
    "start_time": "2023-02-15T18:33:45.671Z"
   },
   {
    "duration": 97,
    "start_time": "2023-02-15T18:33:45.708Z"
   },
   {
    "duration": 434,
    "start_time": "2023-02-15T18:33:45.807Z"
   },
   {
    "duration": 3,
    "start_time": "2023-02-15T18:33:46.243Z"
   },
   {
    "duration": 10,
    "start_time": "2023-02-15T18:33:46.248Z"
   },
   {
    "duration": 32,
    "start_time": "2023-02-15T18:33:46.259Z"
   },
   {
    "duration": 0,
    "start_time": "2023-02-15T18:33:46.293Z"
   },
   {
    "duration": 0,
    "start_time": "2023-02-15T18:33:46.295Z"
   },
   {
    "duration": 0,
    "start_time": "2023-02-15T18:33:46.295Z"
   },
   {
    "duration": 0,
    "start_time": "2023-02-15T18:33:46.297Z"
   },
   {
    "duration": 0,
    "start_time": "2023-02-15T18:33:46.298Z"
   },
   {
    "duration": 0,
    "start_time": "2023-02-15T18:33:46.300Z"
   },
   {
    "duration": 0,
    "start_time": "2023-02-15T18:33:46.301Z"
   },
   {
    "duration": 0,
    "start_time": "2023-02-15T18:33:46.303Z"
   },
   {
    "duration": 0,
    "start_time": "2023-02-15T18:33:46.304Z"
   },
   {
    "duration": 0,
    "start_time": "2023-02-15T18:33:46.306Z"
   },
   {
    "duration": 0,
    "start_time": "2023-02-15T18:33:46.307Z"
   },
   {
    "duration": 32,
    "start_time": "2023-02-15T18:35:54.510Z"
   },
   {
    "duration": 1311,
    "start_time": "2023-02-15T18:35:57.858Z"
   },
   {
    "duration": 793,
    "start_time": "2023-02-15T18:35:59.171Z"
   },
   {
    "duration": 684,
    "start_time": "2023-02-15T18:35:59.966Z"
   },
   {
    "duration": 476,
    "start_time": "2023-02-15T18:36:00.652Z"
   },
   {
    "duration": 128,
    "start_time": "2023-02-15T18:36:01.129Z"
   },
   {
    "duration": 18,
    "start_time": "2023-02-15T18:36:01.259Z"
   },
   {
    "duration": 112,
    "start_time": "2023-02-15T18:36:01.278Z"
   },
   {
    "duration": 2,
    "start_time": "2023-02-15T18:36:01.392Z"
   },
   {
    "duration": 901,
    "start_time": "2023-02-15T18:36:01.395Z"
   },
   {
    "duration": 2,
    "start_time": "2023-02-15T18:36:02.299Z"
   },
   {
    "duration": 172,
    "start_time": "2023-02-15T18:36:02.303Z"
   },
   {
    "duration": 64,
    "start_time": "2023-02-15T18:36:02.477Z"
   },
   {
    "duration": 2,
    "start_time": "2023-02-15T18:36:02.543Z"
   },
   {
    "duration": 1675,
    "start_time": "2023-02-15T18:36:02.546Z"
   },
   {
    "duration": 43,
    "start_time": "2023-02-15T18:36:04.222Z"
   },
   {
    "duration": 44,
    "start_time": "2023-02-15T18:36:04.266Z"
   },
   {
    "duration": 271,
    "start_time": "2023-02-15T18:36:04.312Z"
   },
   {
    "duration": 75,
    "start_time": "2023-02-15T18:36:04.584Z"
   },
   {
    "duration": 35,
    "start_time": "2023-02-15T18:36:04.661Z"
   },
   {
    "duration": 72,
    "start_time": "2023-02-15T18:36:04.698Z"
   },
   {
    "duration": 424,
    "start_time": "2023-02-15T18:36:04.772Z"
   },
   {
    "duration": 4,
    "start_time": "2023-02-15T18:36:05.197Z"
   },
   {
    "duration": 6,
    "start_time": "2023-02-15T18:36:05.202Z"
   },
   {
    "duration": 28,
    "start_time": "2023-02-15T18:36:05.209Z"
   },
   {
    "duration": 0,
    "start_time": "2023-02-15T18:36:05.238Z"
   },
   {
    "duration": 0,
    "start_time": "2023-02-15T18:36:05.240Z"
   },
   {
    "duration": 0,
    "start_time": "2023-02-15T18:36:05.241Z"
   },
   {
    "duration": 0,
    "start_time": "2023-02-15T18:36:05.242Z"
   },
   {
    "duration": 0,
    "start_time": "2023-02-15T18:36:05.242Z"
   },
   {
    "duration": 0,
    "start_time": "2023-02-15T18:36:05.244Z"
   },
   {
    "duration": 0,
    "start_time": "2023-02-15T18:36:05.245Z"
   },
   {
    "duration": 0,
    "start_time": "2023-02-15T18:36:05.246Z"
   },
   {
    "duration": 0,
    "start_time": "2023-02-15T18:36:05.247Z"
   },
   {
    "duration": 0,
    "start_time": "2023-02-15T18:36:05.248Z"
   },
   {
    "duration": 0,
    "start_time": "2023-02-15T18:36:05.249Z"
   },
   {
    "duration": 258,
    "start_time": "2023-02-15T18:41:59.833Z"
   },
   {
    "duration": 245,
    "start_time": "2023-02-15T18:43:44.750Z"
   },
   {
    "duration": 3,
    "start_time": "2023-02-15T18:43:51.385Z"
   },
   {
    "duration": 249,
    "start_time": "2023-02-15T18:43:53.457Z"
   },
   {
    "duration": 235,
    "start_time": "2023-02-15T18:44:00.767Z"
   },
   {
    "duration": 79,
    "start_time": "2023-02-15T18:44:34.675Z"
   },
   {
    "duration": 154,
    "start_time": "2023-02-15T18:45:25.971Z"
   },
   {
    "duration": 1673,
    "start_time": "2023-02-19T16:29:41.842Z"
   },
   {
    "duration": 1021,
    "start_time": "2023-02-19T16:29:43.517Z"
   },
   {
    "duration": 714,
    "start_time": "2023-02-19T16:29:44.540Z"
   },
   {
    "duration": 501,
    "start_time": "2023-02-19T16:29:45.256Z"
   },
   {
    "duration": 116,
    "start_time": "2023-02-19T16:29:45.759Z"
   },
   {
    "duration": 3,
    "start_time": "2023-02-19T16:29:45.877Z"
   },
   {
    "duration": 96,
    "start_time": "2023-02-19T16:29:45.881Z"
   },
   {
    "duration": 3,
    "start_time": "2023-02-19T16:29:45.978Z"
   },
   {
    "duration": 755,
    "start_time": "2023-02-19T16:29:45.982Z"
   },
   {
    "duration": 2,
    "start_time": "2023-02-19T16:29:46.740Z"
   },
   {
    "duration": 191,
    "start_time": "2023-02-19T16:29:46.744Z"
   },
   {
    "duration": 73,
    "start_time": "2023-02-19T16:29:46.937Z"
   },
   {
    "duration": 3,
    "start_time": "2023-02-19T16:29:47.012Z"
   },
   {
    "duration": 1690,
    "start_time": "2023-02-19T16:29:47.017Z"
   },
   {
    "duration": 48,
    "start_time": "2023-02-19T16:29:48.710Z"
   },
   {
    "duration": 50,
    "start_time": "2023-02-19T16:29:48.760Z"
   },
   {
    "duration": 362,
    "start_time": "2023-02-19T16:29:48.812Z"
   },
   {
    "duration": 65,
    "start_time": "2023-02-19T16:29:49.176Z"
   },
   {
    "duration": 17,
    "start_time": "2023-02-19T16:29:49.243Z"
   },
   {
    "duration": 67,
    "start_time": "2023-02-19T16:29:49.262Z"
   },
   {
    "duration": 393,
    "start_time": "2023-02-19T16:29:49.330Z"
   },
   {
    "duration": 3,
    "start_time": "2023-02-19T16:29:49.725Z"
   },
   {
    "duration": 4,
    "start_time": "2023-02-19T16:29:49.730Z"
   },
   {
    "duration": 380,
    "start_time": "2023-02-19T16:29:49.736Z"
   },
   {
    "duration": 2,
    "start_time": "2023-02-19T16:29:50.118Z"
   },
   {
    "duration": 13221,
    "start_time": "2023-02-19T16:29:50.122Z"
   },
   {
    "duration": 2653,
    "start_time": "2023-02-19T16:30:03.345Z"
   },
   {
    "duration": 2,
    "start_time": "2023-02-19T16:30:06.002Z"
   },
   {
    "duration": 8,
    "start_time": "2023-02-19T16:30:06.006Z"
   },
   {
    "duration": 1735,
    "start_time": "2023-02-19T16:30:06.016Z"
   },
   {
    "duration": 0,
    "start_time": "2023-02-19T16:30:07.753Z"
   },
   {
    "duration": 0,
    "start_time": "2023-02-19T16:30:07.755Z"
   },
   {
    "duration": 0,
    "start_time": "2023-02-19T16:30:07.755Z"
   },
   {
    "duration": 0,
    "start_time": "2023-02-19T16:30:07.756Z"
   },
   {
    "duration": 0,
    "start_time": "2023-02-19T16:30:07.757Z"
   },
   {
    "duration": 1487,
    "start_time": "2023-02-19T16:35:20.373Z"
   },
   {
    "duration": 783,
    "start_time": "2023-02-19T16:35:21.862Z"
   },
   {
    "duration": 724,
    "start_time": "2023-02-19T16:35:22.647Z"
   },
   {
    "duration": 470,
    "start_time": "2023-02-19T16:35:23.373Z"
   },
   {
    "duration": 108,
    "start_time": "2023-02-19T16:35:23.844Z"
   },
   {
    "duration": 2,
    "start_time": "2023-02-19T16:35:23.954Z"
   },
   {
    "duration": 97,
    "start_time": "2023-02-19T16:35:23.958Z"
   },
   {
    "duration": 3,
    "start_time": "2023-02-19T16:35:24.057Z"
   },
   {
    "duration": 871,
    "start_time": "2023-02-19T16:35:24.062Z"
   },
   {
    "duration": 3,
    "start_time": "2023-02-19T16:35:24.936Z"
   },
   {
    "duration": 179,
    "start_time": "2023-02-19T16:35:24.940Z"
   },
   {
    "duration": 52,
    "start_time": "2023-02-19T16:35:25.120Z"
   },
   {
    "duration": 2,
    "start_time": "2023-02-19T16:35:25.174Z"
   },
   {
    "duration": 1532,
    "start_time": "2023-02-19T16:35:25.178Z"
   },
   {
    "duration": 51,
    "start_time": "2023-02-19T16:35:26.712Z"
   },
   {
    "duration": 53,
    "start_time": "2023-02-19T16:35:26.765Z"
   },
   {
    "duration": 299,
    "start_time": "2023-02-19T16:35:26.819Z"
   },
   {
    "duration": 64,
    "start_time": "2023-02-19T16:35:27.119Z"
   },
   {
    "duration": 41,
    "start_time": "2023-02-19T16:35:27.185Z"
   },
   {
    "duration": 10,
    "start_time": "2023-02-19T16:35:27.228Z"
   },
   {
    "duration": 27,
    "start_time": "2023-02-19T16:35:27.240Z"
   },
   {
    "duration": 346,
    "start_time": "2023-02-19T16:35:27.268Z"
   },
   {
    "duration": 3,
    "start_time": "2023-02-19T16:35:27.616Z"
   },
   {
    "duration": 7,
    "start_time": "2023-02-19T16:35:27.621Z"
   },
   {
    "duration": 284,
    "start_time": "2023-02-19T16:35:27.630Z"
   },
   {
    "duration": 3,
    "start_time": "2023-02-19T16:35:27.917Z"
   },
   {
    "duration": 12298,
    "start_time": "2023-02-19T16:35:27.921Z"
   },
   {
    "duration": 2549,
    "start_time": "2023-02-19T16:35:40.223Z"
   },
   {
    "duration": 3,
    "start_time": "2023-02-19T16:35:42.773Z"
   },
   {
    "duration": 16,
    "start_time": "2023-02-19T16:35:42.778Z"
   },
   {
    "duration": 645,
    "start_time": "2023-02-19T16:35:42.796Z"
   },
   {
    "duration": 0,
    "start_time": "2023-02-19T16:35:43.443Z"
   },
   {
    "duration": 0,
    "start_time": "2023-02-19T16:35:43.444Z"
   },
   {
    "duration": 0,
    "start_time": "2023-02-19T16:35:43.446Z"
   },
   {
    "duration": 0,
    "start_time": "2023-02-19T16:35:43.447Z"
   },
   {
    "duration": 0,
    "start_time": "2023-02-19T16:35:43.449Z"
   },
   {
    "duration": 39,
    "start_time": "2023-02-19T16:37:25.352Z"
   },
   {
    "duration": 116,
    "start_time": "2023-02-19T16:37:42.510Z"
   },
   {
    "duration": 33,
    "start_time": "2023-02-19T16:41:52.956Z"
   },
   {
    "duration": 21,
    "start_time": "2023-02-19T16:43:03.471Z"
   },
   {
    "duration": 110,
    "start_time": "2023-02-19T16:44:42.204Z"
   },
   {
    "duration": 90,
    "start_time": "2023-02-19T16:44:51.902Z"
   },
   {
    "duration": 29,
    "start_time": "2023-02-19T16:45:17.260Z"
   },
   {
    "duration": 107,
    "start_time": "2023-02-19T16:47:54.169Z"
   },
   {
    "duration": 1042,
    "start_time": "2023-02-19T16:54:02.768Z"
   },
   {
    "duration": 9,
    "start_time": "2023-02-19T16:54:37.523Z"
   },
   {
    "duration": 504,
    "start_time": "2023-02-19T17:00:29.509Z"
   },
   {
    "duration": 897,
    "start_time": "2023-02-19T17:02:49.622Z"
   },
   {
    "duration": 114,
    "start_time": "2023-02-19T17:02:54.583Z"
   },
   {
    "duration": 492,
    "start_time": "2023-02-19T17:06:14.947Z"
   },
   {
    "duration": 26,
    "start_time": "2023-02-19T17:07:49.838Z"
   },
   {
    "duration": 28,
    "start_time": "2023-02-19T17:12:47.469Z"
   },
   {
    "duration": 95,
    "start_time": "2023-02-19T17:12:53.056Z"
   },
   {
    "duration": 84,
    "start_time": "2023-02-19T17:12:59.720Z"
   },
   {
    "duration": 14,
    "start_time": "2023-02-19T17:13:45.107Z"
   },
   {
    "duration": 10,
    "start_time": "2023-02-19T17:17:44.457Z"
   },
   {
    "duration": 6,
    "start_time": "2023-02-19T17:18:17.167Z"
   },
   {
    "duration": 4,
    "start_time": "2023-02-19T17:18:19.615Z"
   },
   {
    "duration": 844,
    "start_time": "2023-02-19T17:18:26.092Z"
   },
   {
    "duration": 87,
    "start_time": "2023-02-19T17:20:13.976Z"
   },
   {
    "duration": 14,
    "start_time": "2023-02-19T17:23:02.184Z"
   },
   {
    "duration": 1388,
    "start_time": "2023-02-19T17:23:22.354Z"
   },
   {
    "duration": 752,
    "start_time": "2023-02-19T17:23:23.744Z"
   },
   {
    "duration": 653,
    "start_time": "2023-02-19T17:23:24.498Z"
   },
   {
    "duration": 464,
    "start_time": "2023-02-19T17:23:25.153Z"
   },
   {
    "duration": 105,
    "start_time": "2023-02-19T17:23:25.619Z"
   },
   {
    "duration": 13,
    "start_time": "2023-02-19T17:23:25.726Z"
   },
   {
    "duration": 88,
    "start_time": "2023-02-19T17:23:25.740Z"
   },
   {
    "duration": 2,
    "start_time": "2023-02-19T17:23:25.830Z"
   },
   {
    "duration": 749,
    "start_time": "2023-02-19T17:23:25.833Z"
   },
   {
    "duration": 2,
    "start_time": "2023-02-19T17:23:26.585Z"
   },
   {
    "duration": 196,
    "start_time": "2023-02-19T17:23:26.589Z"
   },
   {
    "duration": 66,
    "start_time": "2023-02-19T17:23:26.787Z"
   },
   {
    "duration": 3,
    "start_time": "2023-02-19T17:23:26.855Z"
   },
   {
    "duration": 1517,
    "start_time": "2023-02-19T17:23:26.860Z"
   },
   {
    "duration": 51,
    "start_time": "2023-02-19T17:23:28.378Z"
   },
   {
    "duration": 31,
    "start_time": "2023-02-19T17:23:28.431Z"
   },
   {
    "duration": 321,
    "start_time": "2023-02-19T17:23:28.463Z"
   },
   {
    "duration": 33,
    "start_time": "2023-02-19T17:23:28.785Z"
   },
   {
    "duration": 39,
    "start_time": "2023-02-19T17:23:28.820Z"
   },
   {
    "duration": 9,
    "start_time": "2023-02-19T17:23:28.861Z"
   },
   {
    "duration": 44,
    "start_time": "2023-02-19T17:23:28.872Z"
   },
   {
    "duration": 521,
    "start_time": "2023-02-19T17:23:28.918Z"
   },
   {
    "duration": 4,
    "start_time": "2023-02-19T17:23:29.441Z"
   },
   {
    "duration": 6,
    "start_time": "2023-02-19T17:23:29.446Z"
   },
   {
    "duration": 30,
    "start_time": "2023-02-19T17:23:29.454Z"
   },
   {
    "duration": 23,
    "start_time": "2023-02-19T17:23:29.486Z"
   },
   {
    "duration": 11885,
    "start_time": "2023-02-19T17:23:29.511Z"
   },
   {
    "duration": 2590,
    "start_time": "2023-02-19T17:23:41.399Z"
   },
   {
    "duration": 2,
    "start_time": "2023-02-19T17:23:43.991Z"
   },
   {
    "duration": 566,
    "start_time": "2023-02-19T17:23:43.994Z"
   },
   {
    "duration": 0,
    "start_time": "2023-02-19T17:23:44.561Z"
   },
   {
    "duration": 0,
    "start_time": "2023-02-19T17:23:44.562Z"
   },
   {
    "duration": 0,
    "start_time": "2023-02-19T17:23:44.563Z"
   },
   {
    "duration": 0,
    "start_time": "2023-02-19T17:23:44.564Z"
   },
   {
    "duration": 0,
    "start_time": "2023-02-19T17:23:44.565Z"
   },
   {
    "duration": 101,
    "start_time": "2023-02-19T17:27:10.971Z"
   },
   {
    "duration": 508,
    "start_time": "2023-02-19T17:30:13.033Z"
   },
   {
    "duration": 265,
    "start_time": "2023-02-19T17:53:03.495Z"
   },
   {
    "duration": 3,
    "start_time": "2023-02-19T17:53:06.479Z"
   },
   {
    "duration": 205,
    "start_time": "2023-02-19T17:56:09.783Z"
   },
   {
    "duration": 252,
    "start_time": "2023-02-19T17:56:26.860Z"
   },
   {
    "duration": 287,
    "start_time": "2023-02-19T17:57:01.971Z"
   },
   {
    "duration": 28,
    "start_time": "2023-02-19T17:57:05.977Z"
   },
   {
    "duration": 41,
    "start_time": "2023-02-19T18:02:32.229Z"
   },
   {
    "duration": 13,
    "start_time": "2023-02-19T18:03:05.861Z"
   },
   {
    "duration": 6,
    "start_time": "2023-02-19T18:03:16.067Z"
   },
   {
    "duration": 16,
    "start_time": "2023-02-19T18:04:27.777Z"
   },
   {
    "duration": 4,
    "start_time": "2023-02-19T18:06:21.468Z"
   },
   {
    "duration": 25144,
    "start_time": "2023-02-19T18:06:53.865Z"
   },
   {
    "duration": 1023,
    "start_time": "2023-02-19T18:07:49.313Z"
   },
   {
    "duration": 1404,
    "start_time": "2023-02-19T18:08:51.531Z"
   },
   {
    "duration": 814,
    "start_time": "2023-02-19T18:08:52.937Z"
   },
   {
    "duration": 654,
    "start_time": "2023-02-19T18:08:53.752Z"
   },
   {
    "duration": 475,
    "start_time": "2023-02-19T18:08:54.410Z"
   },
   {
    "duration": 115,
    "start_time": "2023-02-19T18:08:54.886Z"
   },
   {
    "duration": 2,
    "start_time": "2023-02-19T18:08:55.010Z"
   },
   {
    "duration": 98,
    "start_time": "2023-02-19T18:08:55.014Z"
   },
   {
    "duration": 3,
    "start_time": "2023-02-19T18:08:55.114Z"
   },
   {
    "duration": 790,
    "start_time": "2023-02-19T18:08:55.118Z"
   },
   {
    "duration": 2,
    "start_time": "2023-02-19T18:08:55.912Z"
   },
   {
    "duration": 168,
    "start_time": "2023-02-19T18:08:55.916Z"
   },
   {
    "duration": 63,
    "start_time": "2023-02-19T18:08:56.086Z"
   },
   {
    "duration": 3,
    "start_time": "2023-02-19T18:08:56.150Z"
   },
   {
    "duration": 1626,
    "start_time": "2023-02-19T18:08:56.155Z"
   },
   {
    "duration": 53,
    "start_time": "2023-02-19T18:08:57.783Z"
   },
   {
    "duration": 33,
    "start_time": "2023-02-19T18:08:57.838Z"
   },
   {
    "duration": 304,
    "start_time": "2023-02-19T18:08:57.873Z"
   },
   {
    "duration": 39,
    "start_time": "2023-02-19T18:08:58.178Z"
   },
   {
    "duration": 39,
    "start_time": "2023-02-19T18:08:58.218Z"
   },
   {
    "duration": 9,
    "start_time": "2023-02-19T18:08:58.259Z"
   },
   {
    "duration": 47,
    "start_time": "2023-02-19T18:08:58.269Z"
   },
   {
    "duration": 305,
    "start_time": "2023-02-19T18:08:58.318Z"
   },
   {
    "duration": 4,
    "start_time": "2023-02-19T18:08:58.624Z"
   },
   {
    "duration": 4,
    "start_time": "2023-02-19T18:08:58.629Z"
   },
   {
    "duration": 32,
    "start_time": "2023-02-19T18:08:58.635Z"
   },
   {
    "duration": 46,
    "start_time": "2023-02-19T18:08:58.669Z"
   },
   {
    "duration": 2,
    "start_time": "2023-02-19T18:08:58.717Z"
   },
   {
    "duration": 89,
    "start_time": "2023-02-19T18:08:58.725Z"
   },
   {
    "duration": 24548,
    "start_time": "2023-02-19T18:08:58.816Z"
   },
   {
    "duration": 924,
    "start_time": "2023-02-19T18:09:23.366Z"
   },
   {
    "duration": 3,
    "start_time": "2023-02-19T18:09:24.292Z"
   },
   {
    "duration": 520945,
    "start_time": "2023-02-19T18:09:24.297Z"
   },
   {
    "duration": 0,
    "start_time": "2023-02-19T18:18:05.244Z"
   },
   {
    "duration": 0,
    "start_time": "2023-02-19T18:18:05.245Z"
   },
   {
    "duration": 0,
    "start_time": "2023-02-19T18:18:05.246Z"
   },
   {
    "duration": 0,
    "start_time": "2023-02-19T18:18:05.247Z"
   },
   {
    "duration": 0,
    "start_time": "2023-02-19T18:18:05.248Z"
   },
   {
    "duration": 3191,
    "start_time": "2023-02-19T18:18:15.387Z"
   },
   {
    "duration": 133,
    "start_time": "2023-02-19T18:18:18.580Z"
   },
   {
    "duration": 11,
    "start_time": "2023-02-19T18:22:12.962Z"
   },
   {
    "duration": 1349,
    "start_time": "2023-02-19T18:23:28.665Z"
   },
   {
    "duration": 767,
    "start_time": "2023-02-19T18:23:30.016Z"
   },
   {
    "duration": 667,
    "start_time": "2023-02-19T18:23:30.785Z"
   },
   {
    "duration": 462,
    "start_time": "2023-02-19T18:23:31.454Z"
   },
   {
    "duration": 111,
    "start_time": "2023-02-19T18:23:31.919Z"
   },
   {
    "duration": 2,
    "start_time": "2023-02-19T18:23:32.032Z"
   },
   {
    "duration": 137,
    "start_time": "2023-02-19T18:23:32.036Z"
   },
   {
    "duration": 3,
    "start_time": "2023-02-19T18:23:32.174Z"
   },
   {
    "duration": 809,
    "start_time": "2023-02-19T18:23:32.178Z"
   },
   {
    "duration": 3,
    "start_time": "2023-02-19T18:23:32.989Z"
   },
   {
    "duration": 187,
    "start_time": "2023-02-19T18:23:32.993Z"
   },
   {
    "duration": 57,
    "start_time": "2023-02-19T18:23:33.182Z"
   },
   {
    "duration": 3,
    "start_time": "2023-02-19T18:23:33.240Z"
   },
   {
    "duration": 1542,
    "start_time": "2023-02-19T18:23:33.246Z"
   },
   {
    "duration": 54,
    "start_time": "2023-02-19T18:23:34.790Z"
   },
   {
    "duration": 36,
    "start_time": "2023-02-19T18:23:34.846Z"
   },
   {
    "duration": 302,
    "start_time": "2023-02-19T18:23:34.885Z"
   },
   {
    "duration": 38,
    "start_time": "2023-02-19T18:23:35.189Z"
   },
   {
    "duration": 41,
    "start_time": "2023-02-19T18:23:35.229Z"
   },
   {
    "duration": 20,
    "start_time": "2023-02-19T18:23:35.272Z"
   },
   {
    "duration": 55,
    "start_time": "2023-02-19T18:23:35.293Z"
   },
   {
    "duration": 357,
    "start_time": "2023-02-19T18:23:35.350Z"
   },
   {
    "duration": 3,
    "start_time": "2023-02-19T18:23:35.710Z"
   },
   {
    "duration": 5,
    "start_time": "2023-02-19T18:23:35.714Z"
   },
   {
    "duration": 32,
    "start_time": "2023-02-19T18:23:35.720Z"
   },
   {
    "duration": 64,
    "start_time": "2023-02-19T18:23:35.754Z"
   },
   {
    "duration": 93,
    "start_time": "2023-02-19T18:23:35.820Z"
   },
   {
    "duration": 4,
    "start_time": "2023-02-19T18:23:35.915Z"
   },
   {
    "duration": 27211,
    "start_time": "2023-02-19T18:23:35.920Z"
   },
   {
    "duration": 913,
    "start_time": "2023-02-19T18:24:03.133Z"
   },
   {
    "duration": 3,
    "start_time": "2023-02-19T18:24:04.048Z"
   },
   {
    "duration": 301717,
    "start_time": "2023-02-19T18:24:04.052Z"
   },
   {
    "duration": 0,
    "start_time": "2023-02-19T18:29:05.771Z"
   },
   {
    "duration": 0,
    "start_time": "2023-02-19T18:29:05.773Z"
   },
   {
    "duration": 0,
    "start_time": "2023-02-19T18:29:05.774Z"
   },
   {
    "duration": 0,
    "start_time": "2023-02-19T18:29:05.775Z"
   },
   {
    "duration": 0,
    "start_time": "2023-02-19T18:29:05.776Z"
   },
   {
    "duration": 3156,
    "start_time": "2023-02-19T18:29:18.052Z"
   },
   {
    "duration": 147,
    "start_time": "2023-02-19T18:29:21.211Z"
   },
   {
    "duration": 11,
    "start_time": "2023-02-19T18:29:24.932Z"
   },
   {
    "duration": 82,
    "start_time": "2023-02-20T08:23:51.521Z"
   },
   {
    "duration": 119,
    "start_time": "2023-02-20T15:06:37.819Z"
   },
   {
    "duration": 1768,
    "start_time": "2023-02-20T15:06:44.592Z"
   },
   {
    "duration": 1164,
    "start_time": "2023-02-20T15:06:46.362Z"
   },
   {
    "duration": 742,
    "start_time": "2023-02-20T15:06:47.527Z"
   },
   {
    "duration": 522,
    "start_time": "2023-02-20T15:06:48.271Z"
   },
   {
    "duration": 115,
    "start_time": "2023-02-20T15:06:48.795Z"
   },
   {
    "duration": 80,
    "start_time": "2023-02-20T15:06:48.912Z"
   },
   {
    "duration": 908,
    "start_time": "2023-02-20T15:06:49.003Z"
   },
   {
    "duration": 176,
    "start_time": "2023-02-20T15:06:49.913Z"
   },
   {
    "duration": 57,
    "start_time": "2023-02-20T15:06:50.091Z"
   },
   {
    "duration": 2,
    "start_time": "2023-02-20T15:06:50.151Z"
   },
   {
    "duration": 1775,
    "start_time": "2023-02-20T15:06:50.155Z"
   },
   {
    "duration": 41,
    "start_time": "2023-02-20T15:06:51.932Z"
   },
   {
    "duration": 49,
    "start_time": "2023-02-20T15:06:51.975Z"
   },
   {
    "duration": 385,
    "start_time": "2023-02-20T15:06:52.026Z"
   },
   {
    "duration": 24,
    "start_time": "2023-02-20T15:06:52.412Z"
   },
   {
    "duration": 77,
    "start_time": "2023-02-20T15:06:52.438Z"
   },
   {
    "duration": 20,
    "start_time": "2023-02-20T15:06:52.517Z"
   },
   {
    "duration": 37,
    "start_time": "2023-02-20T15:06:52.540Z"
   },
   {
    "duration": 315,
    "start_time": "2023-02-20T15:06:52.579Z"
   },
   {
    "duration": 9,
    "start_time": "2023-02-20T15:06:52.896Z"
   },
   {
    "duration": 27,
    "start_time": "2023-02-20T15:06:52.906Z"
   },
   {
    "duration": 15,
    "start_time": "2023-02-20T15:06:52.935Z"
   },
   {
    "duration": 58,
    "start_time": "2023-02-20T15:06:52.952Z"
   },
   {
    "duration": 100,
    "start_time": "2023-02-20T15:06:53.011Z"
   },
   {
    "duration": 304,
    "start_time": "2023-02-20T15:06:53.113Z"
   },
   {
    "duration": 3,
    "start_time": "2023-02-20T15:06:53.419Z"
   },
   {
    "duration": 25607,
    "start_time": "2023-02-20T15:06:53.424Z"
   },
   {
    "duration": 928,
    "start_time": "2023-02-20T15:07:19.035Z"
   },
   {
    "duration": 3,
    "start_time": "2023-02-20T15:07:19.965Z"
   },
   {
    "duration": 523149,
    "start_time": "2023-02-20T15:07:19.969Z"
   },
   {
    "duration": 84,
    "start_time": "2023-02-20T15:16:03.120Z"
   },
   {
    "duration": 0,
    "start_time": "2023-02-20T15:16:03.206Z"
   },
   {
    "duration": 0,
    "start_time": "2023-02-20T15:16:03.207Z"
   },
   {
    "duration": 0,
    "start_time": "2023-02-20T15:16:03.209Z"
   },
   {
    "duration": 0,
    "start_time": "2023-02-20T15:16:03.210Z"
   },
   {
    "duration": 84,
    "start_time": "2023-02-20T15:16:52.161Z"
   },
   {
    "duration": 86,
    "start_time": "2023-02-20T15:16:56.949Z"
   },
   {
    "duration": 84,
    "start_time": "2023-02-20T15:18:02.710Z"
   },
   {
    "duration": 6,
    "start_time": "2023-02-20T15:18:08.884Z"
   },
   {
    "duration": 80,
    "start_time": "2023-02-20T15:18:16.892Z"
   },
   {
    "duration": 78,
    "start_time": "2023-02-20T15:18:23.226Z"
   },
   {
    "duration": 5,
    "start_time": "2023-02-20T15:18:59.352Z"
   },
   {
    "duration": 31,
    "start_time": "2023-02-20T15:22:37.622Z"
   },
   {
    "duration": 4,
    "start_time": "2023-02-20T15:25:18.729Z"
   },
   {
    "duration": 25707,
    "start_time": "2023-02-20T15:25:21.126Z"
   },
   {
    "duration": 25241,
    "start_time": "2023-02-20T15:25:48.678Z"
   },
   {
    "duration": 4,
    "start_time": "2023-02-20T15:26:13.921Z"
   },
   {
    "duration": 87,
    "start_time": "2023-02-20T15:37:56.842Z"
   },
   {
    "duration": 24956,
    "start_time": "2023-02-20T15:38:07.031Z"
   },
   {
    "duration": 26061,
    "start_time": "2023-02-20T15:38:38.563Z"
   },
   {
    "duration": 91,
    "start_time": "2023-02-20T15:39:07.678Z"
   },
   {
    "duration": 96,
    "start_time": "2023-02-20T15:39:36.608Z"
   },
   {
    "duration": 117,
    "start_time": "2023-02-20T15:40:01.593Z"
   },
   {
    "duration": 6,
    "start_time": "2023-02-20T15:40:31.345Z"
   },
   {
    "duration": 25425,
    "start_time": "2023-02-20T15:40:43.728Z"
   },
   {
    "duration": 25798,
    "start_time": "2023-02-20T15:42:10.691Z"
   },
   {
    "duration": 75,
    "start_time": "2023-02-20T15:42:36.491Z"
   },
   {
    "duration": 5374,
    "start_time": "2023-02-20T15:43:05.978Z"
   },
   {
    "duration": 7199,
    "start_time": "2023-02-20T15:44:37.193Z"
   },
   {
    "duration": 4527,
    "start_time": "2023-02-20T15:47:14.719Z"
   },
   {
    "duration": 81,
    "start_time": "2023-02-20T15:53:26.279Z"
   },
   {
    "duration": 18000,
    "start_time": "2023-02-20T15:53:36.977Z"
   },
   {
    "duration": 11065,
    "start_time": "2023-02-20T15:53:56.910Z"
   },
   {
    "duration": 25015,
    "start_time": "2023-02-20T15:54:09.867Z"
   },
   {
    "duration": 78,
    "start_time": "2023-02-20T15:54:34.883Z"
   },
   {
    "duration": 25906,
    "start_time": "2023-02-20T15:55:31.795Z"
   },
   {
    "duration": 11,
    "start_time": "2023-02-20T15:56:04.512Z"
   },
   {
    "duration": 5,
    "start_time": "2023-02-20T15:56:06.586Z"
   },
   {
    "duration": 3,
    "start_time": "2023-02-20T15:56:40.865Z"
   },
   {
    "duration": 216,
    "start_time": "2023-02-20T16:01:05.887Z"
   },
   {
    "duration": 6,
    "start_time": "2023-02-20T16:01:18.325Z"
   },
   {
    "duration": 3,
    "start_time": "2023-02-20T16:01:20.420Z"
   },
   {
    "duration": 3077,
    "start_time": "2023-02-20T16:01:52.290Z"
   },
   {
    "duration": 131,
    "start_time": "2023-02-20T16:01:55.369Z"
   },
   {
    "duration": 13,
    "start_time": "2023-02-20T16:02:01.555Z"
   },
   {
    "duration": 4,
    "start_time": "2023-02-20T16:02:05.470Z"
   },
   {
    "duration": 3074,
    "start_time": "2023-02-20T16:02:32.867Z"
   },
   {
    "duration": 104,
    "start_time": "2023-02-20T16:02:43.304Z"
   },
   {
    "duration": 84,
    "start_time": "2023-02-20T16:02:45.777Z"
   },
   {
    "duration": 13,
    "start_time": "2023-02-20T16:03:19.018Z"
   },
   {
    "duration": 6,
    "start_time": "2023-02-20T16:03:22.119Z"
   },
   {
    "duration": 5,
    "start_time": "2023-02-20T16:03:27.269Z"
   },
   {
    "duration": 1554,
    "start_time": "2023-02-20T16:04:46.466Z"
   },
   {
    "duration": 808,
    "start_time": "2023-02-20T16:04:48.022Z"
   },
   {
    "duration": 740,
    "start_time": "2023-02-20T16:04:48.831Z"
   },
   {
    "duration": 490,
    "start_time": "2023-02-20T16:04:49.573Z"
   },
   {
    "duration": 110,
    "start_time": "2023-02-20T16:04:50.065Z"
   },
   {
    "duration": 94,
    "start_time": "2023-02-20T16:04:50.177Z"
   },
   {
    "duration": 859,
    "start_time": "2023-02-20T16:04:50.272Z"
   },
   {
    "duration": 181,
    "start_time": "2023-02-20T16:04:51.133Z"
   },
   {
    "duration": 50,
    "start_time": "2023-02-20T16:04:51.316Z"
   },
   {
    "duration": 3,
    "start_time": "2023-02-20T16:04:51.369Z"
   },
   {
    "duration": 1793,
    "start_time": "2023-02-20T16:04:51.373Z"
   },
   {
    "duration": 48,
    "start_time": "2023-02-20T16:04:53.168Z"
   },
   {
    "duration": 36,
    "start_time": "2023-02-20T16:04:53.218Z"
   },
   {
    "duration": 350,
    "start_time": "2023-02-20T16:04:53.255Z"
   },
   {
    "duration": 23,
    "start_time": "2023-02-20T16:04:53.607Z"
   },
   {
    "duration": 38,
    "start_time": "2023-02-20T16:04:53.632Z"
   },
   {
    "duration": 31,
    "start_time": "2023-02-20T16:04:53.672Z"
   },
   {
    "duration": 38,
    "start_time": "2023-02-20T16:04:53.705Z"
   },
   {
    "duration": 290,
    "start_time": "2023-02-20T16:04:53.745Z"
   },
   {
    "duration": 4,
    "start_time": "2023-02-20T16:04:54.037Z"
   },
   {
    "duration": 20,
    "start_time": "2023-02-20T16:04:54.043Z"
   },
   {
    "duration": 44,
    "start_time": "2023-02-20T16:04:54.065Z"
   },
   {
    "duration": 91,
    "start_time": "2023-02-20T16:04:54.112Z"
   },
   {
    "duration": 110,
    "start_time": "2023-02-20T16:04:54.205Z"
   },
   {
    "duration": 9,
    "start_time": "2023-02-20T16:04:54.317Z"
   },
   {
    "duration": 26076,
    "start_time": "2023-02-20T16:04:54.329Z"
   },
   {
    "duration": 12,
    "start_time": "2023-02-20T16:05:20.407Z"
   },
   {
    "duration": 15,
    "start_time": "2023-02-20T16:05:20.422Z"
   },
   {
    "duration": 7,
    "start_time": "2023-02-20T16:05:20.439Z"
   },
   {
    "duration": 8,
    "start_time": "2023-02-20T16:05:20.448Z"
   },
   {
    "duration": 726454,
    "start_time": "2023-02-20T16:05:20.458Z"
   },
   {
    "duration": 296,
    "start_time": "2023-02-20T16:17:26.914Z"
   },
   {
    "duration": 6,
    "start_time": "2023-02-20T16:17:27.212Z"
   },
   {
    "duration": 7,
    "start_time": "2023-02-20T16:17:27.220Z"
   },
   {
    "duration": 2909,
    "start_time": "2023-02-20T16:17:27.229Z"
   },
   {
    "duration": 13,
    "start_time": "2023-02-20T16:17:30.139Z"
   },
   {
    "duration": 13,
    "start_time": "2023-02-20T16:17:30.154Z"
   },
   {
    "duration": 22,
    "start_time": "2023-02-20T16:17:30.169Z"
   },
   {
    "duration": 34,
    "start_time": "2023-02-20T16:17:30.193Z"
   },
   {
    "duration": 220,
    "start_time": "2023-02-20T16:17:30.229Z"
   },
   {
    "duration": 86,
    "start_time": "2023-02-20T16:18:10.273Z"
   },
   {
    "duration": 25090,
    "start_time": "2023-02-20T16:18:28.323Z"
   },
   {
    "duration": 1398,
    "start_time": "2023-02-20T16:20:20.840Z"
   },
   {
    "duration": 785,
    "start_time": "2023-02-20T16:20:22.240Z"
   },
   {
    "duration": 676,
    "start_time": "2023-02-20T16:20:23.027Z"
   },
   {
    "duration": 495,
    "start_time": "2023-02-20T16:20:23.705Z"
   },
   {
    "duration": 139,
    "start_time": "2023-02-20T16:20:24.204Z"
   },
   {
    "duration": 89,
    "start_time": "2023-02-20T16:20:24.346Z"
   },
   {
    "duration": 863,
    "start_time": "2023-02-20T16:20:24.437Z"
   },
   {
    "duration": 173,
    "start_time": "2023-02-20T16:20:25.303Z"
   },
   {
    "duration": 59,
    "start_time": "2023-02-20T16:20:25.477Z"
   },
   {
    "duration": 2,
    "start_time": "2023-02-20T16:20:25.540Z"
   },
   {
    "duration": 1760,
    "start_time": "2023-02-20T16:20:25.545Z"
   },
   {
    "duration": 43,
    "start_time": "2023-02-20T16:20:27.307Z"
   },
   {
    "duration": 34,
    "start_time": "2023-02-20T16:20:27.351Z"
   },
   {
    "duration": 316,
    "start_time": "2023-02-20T16:20:27.387Z"
   },
   {
    "duration": 28,
    "start_time": "2023-02-20T16:20:27.705Z"
   },
   {
    "duration": 40,
    "start_time": "2023-02-20T16:20:27.735Z"
   },
   {
    "duration": 37,
    "start_time": "2023-02-20T16:20:27.777Z"
   },
   {
    "duration": 42,
    "start_time": "2023-02-20T16:20:27.816Z"
   },
   {
    "duration": 291,
    "start_time": "2023-02-20T16:20:27.859Z"
   },
   {
    "duration": 4,
    "start_time": "2023-02-20T16:20:28.152Z"
   },
   {
    "duration": 7,
    "start_time": "2023-02-20T16:20:28.158Z"
   },
   {
    "duration": 46,
    "start_time": "2023-02-20T16:20:28.166Z"
   },
   {
    "duration": 7,
    "start_time": "2023-02-20T16:20:28.214Z"
   },
   {
    "duration": 183,
    "start_time": "2023-02-20T16:20:28.223Z"
   },
   {
    "duration": 5,
    "start_time": "2023-02-20T16:20:28.407Z"
   },
   {
    "duration": 25283,
    "start_time": "2023-02-20T16:20:28.414Z"
   },
   {
    "duration": 20,
    "start_time": "2023-02-20T16:20:53.699Z"
   },
   {
    "duration": 10,
    "start_time": "2023-02-20T16:20:53.726Z"
   },
   {
    "duration": 5,
    "start_time": "2023-02-20T16:20:53.738Z"
   },
   {
    "duration": 5,
    "start_time": "2023-02-20T16:20:53.745Z"
   },
   {
    "duration": 99960,
    "start_time": "2023-02-20T16:20:53.752Z"
   },
   {
    "duration": 203,
    "start_time": "2023-02-20T16:22:33.714Z"
   },
   {
    "duration": 5,
    "start_time": "2023-02-20T16:22:34.004Z"
   },
   {
    "duration": 7,
    "start_time": "2023-02-20T16:22:34.010Z"
   },
   {
    "duration": 3113,
    "start_time": "2023-02-20T16:22:34.019Z"
   },
   {
    "duration": 15,
    "start_time": "2023-02-20T16:22:37.134Z"
   },
   {
    "duration": 6,
    "start_time": "2023-02-20T16:22:37.150Z"
   },
   {
    "duration": 6,
    "start_time": "2023-02-20T16:22:37.157Z"
   },
   {
    "duration": 1071,
    "start_time": "2023-02-20T16:22:37.165Z"
   },
   {
    "duration": 1022,
    "start_time": "2023-02-20T16:23:23.424Z"
   },
   {
    "duration": 996,
    "start_time": "2023-02-20T16:29:45.875Z"
   },
   {
    "duration": 1423,
    "start_time": "2023-02-20T16:32:49.619Z"
   },
   {
    "duration": 780,
    "start_time": "2023-02-20T16:32:51.044Z"
   },
   {
    "duration": 694,
    "start_time": "2023-02-20T16:32:51.826Z"
   },
   {
    "duration": 498,
    "start_time": "2023-02-20T16:32:52.522Z"
   },
   {
    "duration": 111,
    "start_time": "2023-02-20T16:32:53.023Z"
   },
   {
    "duration": 102,
    "start_time": "2023-02-20T16:32:53.136Z"
   },
   {
    "duration": 898,
    "start_time": "2023-02-20T16:32:53.240Z"
   },
   {
    "duration": 178,
    "start_time": "2023-02-20T16:32:54.140Z"
   },
   {
    "duration": 60,
    "start_time": "2023-02-20T16:32:54.320Z"
   },
   {
    "duration": 21,
    "start_time": "2023-02-20T16:32:54.383Z"
   },
   {
    "duration": 1840,
    "start_time": "2023-02-20T16:32:54.406Z"
   },
   {
    "duration": 42,
    "start_time": "2023-02-20T16:32:56.248Z"
   },
   {
    "duration": 33,
    "start_time": "2023-02-20T16:32:56.302Z"
   },
   {
    "duration": 310,
    "start_time": "2023-02-20T16:32:56.338Z"
   },
   {
    "duration": 29,
    "start_time": "2023-02-20T16:32:56.649Z"
   },
   {
    "duration": 48,
    "start_time": "2023-02-20T16:32:56.680Z"
   },
   {
    "duration": 11,
    "start_time": "2023-02-20T16:32:56.729Z"
   },
   {
    "duration": 61,
    "start_time": "2023-02-20T16:32:56.742Z"
   },
   {
    "duration": 293,
    "start_time": "2023-02-20T16:32:56.805Z"
   },
   {
    "duration": 5,
    "start_time": "2023-02-20T16:32:57.099Z"
   },
   {
    "duration": 7,
    "start_time": "2023-02-20T16:32:57.105Z"
   },
   {
    "duration": 37,
    "start_time": "2023-02-20T16:32:57.114Z"
   },
   {
    "duration": 59,
    "start_time": "2023-02-20T16:32:57.152Z"
   },
   {
    "duration": 113,
    "start_time": "2023-02-20T16:32:57.213Z"
   },
   {
    "duration": 5,
    "start_time": "2023-02-20T16:32:57.328Z"
   },
   {
    "duration": 25630,
    "start_time": "2023-02-20T16:32:57.335Z"
   },
   {
    "duration": 16,
    "start_time": "2023-02-20T16:33:22.967Z"
   },
   {
    "duration": 14,
    "start_time": "2023-02-20T16:33:22.985Z"
   },
   {
    "duration": 6,
    "start_time": "2023-02-20T16:33:23.001Z"
   },
   {
    "duration": 16,
    "start_time": "2023-02-20T16:33:23.008Z"
   },
   {
    "duration": 1585,
    "start_time": "2023-02-21T02:33:56.961Z"
   },
   {
    "duration": 2793,
    "start_time": "2023-02-21T02:33:58.548Z"
   },
   {
    "duration": 714,
    "start_time": "2023-02-21T02:34:01.343Z"
   },
   {
    "duration": 473,
    "start_time": "2023-02-21T02:34:02.059Z"
   },
   {
    "duration": 106,
    "start_time": "2023-02-21T02:34:02.534Z"
   },
   {
    "duration": 99,
    "start_time": "2023-02-21T02:34:02.642Z"
   },
   {
    "duration": 861,
    "start_time": "2023-02-21T02:34:02.742Z"
   },
   {
    "duration": 166,
    "start_time": "2023-02-21T02:34:03.605Z"
   },
   {
    "duration": 62,
    "start_time": "2023-02-21T02:34:03.772Z"
   },
   {
    "duration": 3,
    "start_time": "2023-02-21T02:34:03.836Z"
   },
   {
    "duration": 1662,
    "start_time": "2023-02-21T02:34:03.840Z"
   },
   {
    "duration": 47,
    "start_time": "2023-02-21T02:34:05.504Z"
   },
   {
    "duration": 46,
    "start_time": "2023-02-21T02:34:05.553Z"
   },
   {
    "duration": 365,
    "start_time": "2023-02-21T02:34:05.602Z"
   },
   {
    "duration": 39,
    "start_time": "2023-02-21T02:34:05.969Z"
   },
   {
    "duration": 48,
    "start_time": "2023-02-21T02:34:06.012Z"
   },
   {
    "duration": 29,
    "start_time": "2023-02-21T02:34:06.062Z"
   },
   {
    "duration": 40,
    "start_time": "2023-02-21T02:34:06.094Z"
   },
   {
    "duration": 276,
    "start_time": "2023-02-21T02:34:06.136Z"
   },
   {
    "duration": 4,
    "start_time": "2023-02-21T02:34:06.415Z"
   },
   {
    "duration": 5,
    "start_time": "2023-02-21T02:34:06.421Z"
   },
   {
    "duration": 73,
    "start_time": "2023-02-21T02:34:06.428Z"
   },
   {
    "duration": 88,
    "start_time": "2023-02-21T02:34:06.506Z"
   },
   {
    "duration": 196,
    "start_time": "2023-02-21T02:34:06.595Z"
   },
   {
    "duration": 4,
    "start_time": "2023-02-21T02:34:06.793Z"
   },
   {
    "duration": 10,
    "start_time": "2023-02-21T02:34:06.798Z"
   },
   {
    "duration": 20362,
    "start_time": "2023-02-21T02:34:06.810Z"
   },
   {
    "duration": 5,
    "start_time": "2023-02-21T02:34:27.173Z"
   },
   {
    "duration": 5,
    "start_time": "2023-02-21T02:34:27.180Z"
   },
   {
    "duration": 5,
    "start_time": "2023-02-21T02:34:27.186Z"
   },
   {
    "duration": 133916,
    "start_time": "2023-02-21T02:34:27.193Z"
   },
   {
    "duration": 200,
    "start_time": "2023-02-21T02:36:41.112Z"
   },
   {
    "duration": 4,
    "start_time": "2023-02-21T02:36:41.401Z"
   },
   {
    "duration": 4,
    "start_time": "2023-02-21T02:36:41.409Z"
   },
   {
    "duration": 2910,
    "start_time": "2023-02-21T02:36:41.415Z"
   },
   {
    "duration": 13,
    "start_time": "2023-02-21T02:36:44.327Z"
   },
   {
    "duration": 7,
    "start_time": "2023-02-21T02:36:44.342Z"
   },
   {
    "duration": 4,
    "start_time": "2023-02-21T02:36:44.351Z"
   },
   {
    "duration": 1042,
    "start_time": "2023-02-21T02:36:44.357Z"
   },
   {
    "duration": 23757,
    "start_time": "2023-02-21T02:37:48.571Z"
   },
   {
    "duration": 4,
    "start_time": "2023-02-21T02:40:15.821Z"
   },
   {
    "duration": 151,
    "start_time": "2023-02-21T02:40:28.421Z"
   },
   {
    "duration": 30,
    "start_time": "2023-02-21T02:40:50.702Z"
   },
   {
    "duration": 57,
    "start_time": "2023-02-21T02:41:32.429Z"
   },
   {
    "duration": 71,
    "start_time": "2023-02-21T02:41:41.765Z"
   },
   {
    "duration": 21151,
    "start_time": "2023-02-21T02:43:33.406Z"
   },
   {
    "duration": 934,
    "start_time": "2023-02-21T02:57:51.138Z"
   },
   {
    "duration": 10,
    "start_time": "2023-02-21T02:58:47.852Z"
   },
   {
    "duration": 1380,
    "start_time": "2023-02-21T03:02:00.229Z"
   },
   {
    "duration": 859,
    "start_time": "2023-02-21T03:02:01.610Z"
   },
   {
    "duration": 714,
    "start_time": "2023-02-21T03:02:02.471Z"
   },
   {
    "duration": 492,
    "start_time": "2023-02-21T03:02:03.186Z"
   },
   {
    "duration": 102,
    "start_time": "2023-02-21T03:02:03.680Z"
   },
   {
    "duration": 74,
    "start_time": "2023-02-21T03:02:03.791Z"
   },
   {
    "duration": 829,
    "start_time": "2023-02-21T03:02:03.867Z"
   },
   {
    "duration": 162,
    "start_time": "2023-02-21T03:02:04.698Z"
   },
   {
    "duration": 64,
    "start_time": "2023-02-21T03:02:04.861Z"
   },
   {
    "duration": 3,
    "start_time": "2023-02-21T03:02:04.926Z"
   },
   {
    "duration": 1739,
    "start_time": "2023-02-21T03:02:04.930Z"
   },
   {
    "duration": 49,
    "start_time": "2023-02-21T03:02:06.670Z"
   },
   {
    "duration": 33,
    "start_time": "2023-02-21T03:02:06.721Z"
   },
   {
    "duration": 310,
    "start_time": "2023-02-21T03:02:06.757Z"
   },
   {
    "duration": 43,
    "start_time": "2023-02-21T03:02:07.069Z"
   },
   {
    "duration": 38,
    "start_time": "2023-02-21T03:02:07.114Z"
   },
   {
    "duration": 16,
    "start_time": "2023-02-21T03:02:07.154Z"
   },
   {
    "duration": 47,
    "start_time": "2023-02-21T03:02:07.192Z"
   },
   {
    "duration": 300,
    "start_time": "2023-02-21T03:02:07.241Z"
   },
   {
    "duration": 4,
    "start_time": "2023-02-21T03:02:07.542Z"
   },
   {
    "duration": 5,
    "start_time": "2023-02-21T03:02:07.547Z"
   },
   {
    "duration": 47,
    "start_time": "2023-02-21T03:02:07.554Z"
   },
   {
    "duration": 14,
    "start_time": "2023-02-21T03:02:07.602Z"
   },
   {
    "duration": 2,
    "start_time": "2023-02-21T03:02:07.695Z"
   },
   {
    "duration": 99,
    "start_time": "2023-02-21T03:02:07.699Z"
   },
   {
    "duration": 9,
    "start_time": "2023-02-21T03:02:07.800Z"
   },
   {
    "duration": 110,
    "start_time": "2023-02-21T03:02:07.812Z"
   },
   {
    "duration": 0,
    "start_time": "2023-02-21T03:02:07.924Z"
   },
   {
    "duration": 0,
    "start_time": "2023-02-21T03:02:07.925Z"
   },
   {
    "duration": 0,
    "start_time": "2023-02-21T03:02:07.926Z"
   },
   {
    "duration": 1,
    "start_time": "2023-02-21T03:02:07.927Z"
   },
   {
    "duration": 0,
    "start_time": "2023-02-21T03:02:07.929Z"
   },
   {
    "duration": 0,
    "start_time": "2023-02-21T03:02:07.930Z"
   },
   {
    "duration": 0,
    "start_time": "2023-02-21T03:02:07.932Z"
   },
   {
    "duration": 0,
    "start_time": "2023-02-21T03:02:07.933Z"
   },
   {
    "duration": 0,
    "start_time": "2023-02-21T03:02:07.935Z"
   },
   {
    "duration": 0,
    "start_time": "2023-02-21T03:02:07.937Z"
   },
   {
    "duration": 0,
    "start_time": "2023-02-21T03:02:07.938Z"
   },
   {
    "duration": 0,
    "start_time": "2023-02-21T03:02:07.939Z"
   },
   {
    "duration": 0,
    "start_time": "2023-02-21T03:02:07.941Z"
   },
   {
    "duration": 9,
    "start_time": "2023-02-21T03:03:33.778Z"
   },
   {
    "duration": 56,
    "start_time": "2023-02-21T03:04:00.222Z"
   },
   {
    "duration": 9,
    "start_time": "2023-02-21T03:04:30.462Z"
   },
   {
    "duration": 1345,
    "start_time": "2023-02-21T03:04:47.520Z"
   },
   {
    "duration": 775,
    "start_time": "2023-02-21T03:04:48.866Z"
   },
   {
    "duration": 670,
    "start_time": "2023-02-21T03:04:49.643Z"
   },
   {
    "duration": 504,
    "start_time": "2023-02-21T03:04:50.315Z"
   },
   {
    "duration": 98,
    "start_time": "2023-02-21T03:04:50.821Z"
   },
   {
    "duration": 87,
    "start_time": "2023-02-21T03:04:50.921Z"
   },
   {
    "duration": 846,
    "start_time": "2023-02-21T03:04:51.009Z"
   },
   {
    "duration": 159,
    "start_time": "2023-02-21T03:04:51.856Z"
   },
   {
    "duration": 54,
    "start_time": "2023-02-21T03:04:52.016Z"
   },
   {
    "duration": 2,
    "start_time": "2023-02-21T03:04:52.073Z"
   },
   {
    "duration": 1689,
    "start_time": "2023-02-21T03:04:52.091Z"
   },
   {
    "duration": 47,
    "start_time": "2023-02-21T03:04:53.781Z"
   },
   {
    "duration": 35,
    "start_time": "2023-02-21T03:04:53.830Z"
   },
   {
    "duration": 306,
    "start_time": "2023-02-21T03:04:53.866Z"
   },
   {
    "duration": 37,
    "start_time": "2023-02-21T03:04:54.174Z"
   },
   {
    "duration": 35,
    "start_time": "2023-02-21T03:04:54.213Z"
   },
   {
    "duration": 13,
    "start_time": "2023-02-21T03:04:54.249Z"
   },
   {
    "duration": 60,
    "start_time": "2023-02-21T03:04:54.264Z"
   },
   {
    "duration": 285,
    "start_time": "2023-02-21T03:04:54.326Z"
   },
   {
    "duration": 4,
    "start_time": "2023-02-21T03:04:54.612Z"
   },
   {
    "duration": 6,
    "start_time": "2023-02-21T03:04:54.617Z"
   },
   {
    "duration": 38,
    "start_time": "2023-02-21T03:04:54.624Z"
   },
   {
    "duration": 102,
    "start_time": "2023-02-21T03:04:54.692Z"
   },
   {
    "duration": 94,
    "start_time": "2023-02-21T03:04:54.801Z"
   },
   {
    "duration": 10,
    "start_time": "2023-02-21T03:04:54.897Z"
   },
   {
    "duration": 15,
    "start_time": "2023-02-21T03:04:54.909Z"
   },
   {
    "duration": 110,
    "start_time": "2023-02-21T03:04:54.926Z"
   },
   {
    "duration": 0,
    "start_time": "2023-02-21T03:04:55.039Z"
   },
   {
    "duration": 0,
    "start_time": "2023-02-21T03:04:55.040Z"
   },
   {
    "duration": 0,
    "start_time": "2023-02-21T03:04:55.041Z"
   },
   {
    "duration": 0,
    "start_time": "2023-02-21T03:04:55.042Z"
   },
   {
    "duration": 0,
    "start_time": "2023-02-21T03:04:55.043Z"
   },
   {
    "duration": 1,
    "start_time": "2023-02-21T03:04:55.044Z"
   },
   {
    "duration": 0,
    "start_time": "2023-02-21T03:04:55.046Z"
   },
   {
    "duration": 0,
    "start_time": "2023-02-21T03:04:55.047Z"
   },
   {
    "duration": 0,
    "start_time": "2023-02-21T03:04:55.048Z"
   },
   {
    "duration": 1,
    "start_time": "2023-02-21T03:04:55.049Z"
   },
   {
    "duration": 0,
    "start_time": "2023-02-21T03:04:55.051Z"
   },
   {
    "duration": 0,
    "start_time": "2023-02-21T03:04:55.052Z"
   },
   {
    "duration": 0,
    "start_time": "2023-02-21T03:04:55.054Z"
   },
   {
    "duration": 4058,
    "start_time": "2023-02-21T03:05:38.045Z"
   },
   {
    "duration": 3,
    "start_time": "2023-02-21T03:05:47.278Z"
   },
   {
    "duration": 58,
    "start_time": "2023-02-21T03:05:55.181Z"
   },
   {
    "duration": 46,
    "start_time": "2023-02-21T03:05:55.431Z"
   },
   {
    "duration": 3,
    "start_time": "2023-02-21T03:06:13.829Z"
   },
   {
    "duration": 4,
    "start_time": "2023-02-21T03:06:16.574Z"
   },
   {
    "duration": 4,
    "start_time": "2023-02-21T03:06:19.309Z"
   },
   {
    "duration": 10,
    "start_time": "2023-02-21T03:06:21.421Z"
   },
   {
    "duration": 4,
    "start_time": "2023-02-21T03:06:46.541Z"
   },
   {
    "duration": 10,
    "start_time": "2023-02-21T03:06:48.269Z"
   },
   {
    "duration": 1367,
    "start_time": "2023-02-21T03:06:56.047Z"
   },
   {
    "duration": 767,
    "start_time": "2023-02-21T03:06:57.416Z"
   },
   {
    "duration": 709,
    "start_time": "2023-02-21T03:06:58.185Z"
   },
   {
    "duration": 521,
    "start_time": "2023-02-21T03:06:58.895Z"
   },
   {
    "duration": 105,
    "start_time": "2023-02-21T03:06:59.418Z"
   },
   {
    "duration": 90,
    "start_time": "2023-02-21T03:06:59.524Z"
   },
   {
    "duration": 877,
    "start_time": "2023-02-21T03:06:59.615Z"
   },
   {
    "duration": 176,
    "start_time": "2023-02-21T03:07:00.493Z"
   },
   {
    "duration": 66,
    "start_time": "2023-02-21T03:07:00.671Z"
   },
   {
    "duration": 3,
    "start_time": "2023-02-21T03:07:00.738Z"
   },
   {
    "duration": 1850,
    "start_time": "2023-02-21T03:07:00.742Z"
   },
   {
    "duration": 47,
    "start_time": "2023-02-21T03:07:02.593Z"
   },
   {
    "duration": 34,
    "start_time": "2023-02-21T03:07:02.642Z"
   },
   {
    "duration": 290,
    "start_time": "2023-02-21T03:07:02.693Z"
   },
   {
    "duration": 27,
    "start_time": "2023-02-21T03:07:02.992Z"
   },
   {
    "duration": 36,
    "start_time": "2023-02-21T03:07:03.022Z"
   },
   {
    "duration": 18,
    "start_time": "2023-02-21T03:07:03.060Z"
   },
   {
    "duration": 47,
    "start_time": "2023-02-21T03:07:03.080Z"
   },
   {
    "duration": 327,
    "start_time": "2023-02-21T03:07:03.129Z"
   },
   {
    "duration": 4,
    "start_time": "2023-02-21T03:07:03.457Z"
   },
   {
    "duration": 7,
    "start_time": "2023-02-21T03:07:03.463Z"
   },
   {
    "duration": 44,
    "start_time": "2023-02-21T03:07:03.472Z"
   },
   {
    "duration": 75,
    "start_time": "2023-02-21T03:07:03.518Z"
   },
   {
    "duration": 106,
    "start_time": "2023-02-21T03:07:03.594Z"
   },
   {
    "duration": 4112,
    "start_time": "2023-02-21T03:07:03.702Z"
   },
   {
    "duration": 5,
    "start_time": "2023-02-21T03:07:07.816Z"
   },
   {
    "duration": 123,
    "start_time": "2023-02-21T03:07:07.822Z"
   },
   {
    "duration": 0,
    "start_time": "2023-02-21T03:07:07.947Z"
   },
   {
    "duration": 0,
    "start_time": "2023-02-21T03:07:07.948Z"
   },
   {
    "duration": 0,
    "start_time": "2023-02-21T03:07:07.949Z"
   },
   {
    "duration": 0,
    "start_time": "2023-02-21T03:07:07.950Z"
   },
   {
    "duration": 0,
    "start_time": "2023-02-21T03:07:07.951Z"
   },
   {
    "duration": 0,
    "start_time": "2023-02-21T03:07:07.952Z"
   },
   {
    "duration": 0,
    "start_time": "2023-02-21T03:07:07.953Z"
   },
   {
    "duration": 0,
    "start_time": "2023-02-21T03:07:07.954Z"
   },
   {
    "duration": 0,
    "start_time": "2023-02-21T03:07:07.955Z"
   },
   {
    "duration": 0,
    "start_time": "2023-02-21T03:07:07.956Z"
   },
   {
    "duration": 0,
    "start_time": "2023-02-21T03:07:07.957Z"
   },
   {
    "duration": 0,
    "start_time": "2023-02-21T03:07:07.958Z"
   },
   {
    "duration": 0,
    "start_time": "2023-02-21T03:07:07.959Z"
   },
   {
    "duration": 1498,
    "start_time": "2023-02-21T03:08:15.393Z"
   },
   {
    "duration": 772,
    "start_time": "2023-02-21T03:08:16.893Z"
   },
   {
    "duration": 659,
    "start_time": "2023-02-21T03:08:17.667Z"
   },
   {
    "duration": 453,
    "start_time": "2023-02-21T03:08:18.328Z"
   },
   {
    "duration": 109,
    "start_time": "2023-02-21T03:08:18.783Z"
   },
   {
    "duration": 80,
    "start_time": "2023-02-21T03:08:18.894Z"
   },
   {
    "duration": 862,
    "start_time": "2023-02-21T03:08:18.976Z"
   },
   {
    "duration": 173,
    "start_time": "2023-02-21T03:08:19.840Z"
   },
   {
    "duration": 56,
    "start_time": "2023-02-21T03:08:20.014Z"
   },
   {
    "duration": 3,
    "start_time": "2023-02-21T03:08:20.072Z"
   },
   {
    "duration": 1767,
    "start_time": "2023-02-21T03:08:20.092Z"
   },
   {
    "duration": 49,
    "start_time": "2023-02-21T03:08:21.861Z"
   },
   {
    "duration": 32,
    "start_time": "2023-02-21T03:08:21.911Z"
   },
   {
    "duration": 335,
    "start_time": "2023-02-21T03:08:21.946Z"
   },
   {
    "duration": 29,
    "start_time": "2023-02-21T03:08:22.292Z"
   },
   {
    "duration": 37,
    "start_time": "2023-02-21T03:08:22.323Z"
   },
   {
    "duration": 36,
    "start_time": "2023-02-21T03:08:22.363Z"
   },
   {
    "duration": 42,
    "start_time": "2023-02-21T03:08:22.401Z"
   },
   {
    "duration": 294,
    "start_time": "2023-02-21T03:08:22.445Z"
   },
   {
    "duration": 4,
    "start_time": "2023-02-21T03:08:22.741Z"
   },
   {
    "duration": 5,
    "start_time": "2023-02-21T03:08:22.746Z"
   },
   {
    "duration": 54,
    "start_time": "2023-02-21T03:08:22.753Z"
   },
   {
    "duration": 87,
    "start_time": "2023-02-21T03:08:22.809Z"
   },
   {
    "duration": 3,
    "start_time": "2023-02-21T03:08:22.898Z"
   },
   {
    "duration": 96,
    "start_time": "2023-02-21T03:08:22.902Z"
   },
   {
    "duration": 10,
    "start_time": "2023-02-21T03:08:23.000Z"
   },
   {
    "duration": 117,
    "start_time": "2023-02-21T03:08:23.013Z"
   },
   {
    "duration": 0,
    "start_time": "2023-02-21T03:08:23.132Z"
   },
   {
    "duration": 0,
    "start_time": "2023-02-21T03:08:23.133Z"
   },
   {
    "duration": 0,
    "start_time": "2023-02-21T03:08:23.134Z"
   },
   {
    "duration": 0,
    "start_time": "2023-02-21T03:08:23.135Z"
   },
   {
    "duration": 0,
    "start_time": "2023-02-21T03:08:23.137Z"
   },
   {
    "duration": 0,
    "start_time": "2023-02-21T03:08:23.138Z"
   },
   {
    "duration": 0,
    "start_time": "2023-02-21T03:08:23.139Z"
   },
   {
    "duration": 0,
    "start_time": "2023-02-21T03:08:23.141Z"
   },
   {
    "duration": 0,
    "start_time": "2023-02-21T03:08:23.142Z"
   },
   {
    "duration": 0,
    "start_time": "2023-02-21T03:08:23.143Z"
   },
   {
    "duration": 0,
    "start_time": "2023-02-21T03:08:23.144Z"
   },
   {
    "duration": 0,
    "start_time": "2023-02-21T03:08:23.146Z"
   },
   {
    "duration": 0,
    "start_time": "2023-02-21T03:08:23.147Z"
   },
   {
    "duration": 4,
    "start_time": "2023-02-21T03:09:54.381Z"
   },
   {
    "duration": 9,
    "start_time": "2023-02-21T03:09:56.900Z"
   },
   {
    "duration": 9,
    "start_time": "2023-02-21T03:10:02.573Z"
   },
   {
    "duration": 9,
    "start_time": "2023-02-21T03:12:22.460Z"
   },
   {
    "duration": 54,
    "start_time": "2023-02-21T03:13:27.828Z"
   },
   {
    "duration": 5,
    "start_time": "2023-02-21T03:13:32.981Z"
   },
   {
    "duration": 22481,
    "start_time": "2023-02-21T03:13:49.812Z"
   },
   {
    "duration": 3,
    "start_time": "2023-02-21T03:14:12.295Z"
   },
   {
    "duration": 10,
    "start_time": "2023-02-21T03:14:24.052Z"
   },
   {
    "duration": 1431,
    "start_time": "2023-02-21T03:14:45.551Z"
   },
   {
    "duration": 739,
    "start_time": "2023-02-21T03:14:46.983Z"
   },
   {
    "duration": 665,
    "start_time": "2023-02-21T03:14:47.724Z"
   },
   {
    "duration": 482,
    "start_time": "2023-02-21T03:14:48.391Z"
   },
   {
    "duration": 107,
    "start_time": "2023-02-21T03:14:48.875Z"
   },
   {
    "duration": 79,
    "start_time": "2023-02-21T03:14:48.984Z"
   },
   {
    "duration": 845,
    "start_time": "2023-02-21T03:14:49.065Z"
   },
   {
    "duration": 177,
    "start_time": "2023-02-21T03:14:49.913Z"
   },
   {
    "duration": 57,
    "start_time": "2023-02-21T03:14:50.092Z"
   },
   {
    "duration": 3,
    "start_time": "2023-02-21T03:14:50.150Z"
   },
   {
    "duration": 1751,
    "start_time": "2023-02-21T03:14:50.155Z"
   },
   {
    "duration": 41,
    "start_time": "2023-02-21T03:14:51.908Z"
   },
   {
    "duration": 49,
    "start_time": "2023-02-21T03:14:51.951Z"
   },
   {
    "duration": 293,
    "start_time": "2023-02-21T03:14:52.005Z"
   },
   {
    "duration": 27,
    "start_time": "2023-02-21T03:14:52.300Z"
   },
   {
    "duration": 37,
    "start_time": "2023-02-21T03:14:52.329Z"
   },
   {
    "duration": 28,
    "start_time": "2023-02-21T03:14:52.368Z"
   },
   {
    "duration": 44,
    "start_time": "2023-02-21T03:14:52.398Z"
   },
   {
    "duration": 289,
    "start_time": "2023-02-21T03:14:52.444Z"
   },
   {
    "duration": 4,
    "start_time": "2023-02-21T03:14:52.734Z"
   },
   {
    "duration": 6,
    "start_time": "2023-02-21T03:14:52.739Z"
   },
   {
    "duration": 50,
    "start_time": "2023-02-21T03:14:52.747Z"
   },
   {
    "duration": 99,
    "start_time": "2023-02-21T03:14:52.798Z"
   },
   {
    "duration": 99,
    "start_time": "2023-02-21T03:14:52.898Z"
   },
   {
    "duration": 8,
    "start_time": "2023-02-21T03:14:52.999Z"
   },
   {
    "duration": 9,
    "start_time": "2023-02-21T03:14:53.009Z"
   },
   {
    "duration": 116,
    "start_time": "2023-02-21T03:14:53.019Z"
   },
   {
    "duration": 0,
    "start_time": "2023-02-21T03:14:53.136Z"
   },
   {
    "duration": 0,
    "start_time": "2023-02-21T03:14:53.138Z"
   },
   {
    "duration": 0,
    "start_time": "2023-02-21T03:14:53.139Z"
   },
   {
    "duration": 0,
    "start_time": "2023-02-21T03:14:53.140Z"
   },
   {
    "duration": 0,
    "start_time": "2023-02-21T03:14:53.141Z"
   },
   {
    "duration": 0,
    "start_time": "2023-02-21T03:14:53.142Z"
   },
   {
    "duration": 0,
    "start_time": "2023-02-21T03:14:53.143Z"
   },
   {
    "duration": 0,
    "start_time": "2023-02-21T03:14:53.144Z"
   },
   {
    "duration": 0,
    "start_time": "2023-02-21T03:14:53.145Z"
   },
   {
    "duration": 0,
    "start_time": "2023-02-21T03:14:53.146Z"
   },
   {
    "duration": 0,
    "start_time": "2023-02-21T03:14:53.147Z"
   },
   {
    "duration": 0,
    "start_time": "2023-02-21T03:14:53.148Z"
   },
   {
    "duration": 0,
    "start_time": "2023-02-21T03:14:53.149Z"
   },
   {
    "duration": 1393,
    "start_time": "2023-02-21T03:15:33.920Z"
   },
   {
    "duration": 870,
    "start_time": "2023-02-21T03:15:35.316Z"
   },
   {
    "duration": 695,
    "start_time": "2023-02-21T03:15:36.188Z"
   },
   {
    "duration": 512,
    "start_time": "2023-02-21T03:15:36.884Z"
   },
   {
    "duration": 110,
    "start_time": "2023-02-21T03:15:37.398Z"
   },
   {
    "duration": 82,
    "start_time": "2023-02-21T03:15:37.510Z"
   },
   {
    "duration": 844,
    "start_time": "2023-02-21T03:15:37.593Z"
   },
   {
    "duration": 168,
    "start_time": "2023-02-21T03:15:38.439Z"
   },
   {
    "duration": 52,
    "start_time": "2023-02-21T03:15:38.609Z"
   },
   {
    "duration": 2,
    "start_time": "2023-02-21T03:15:38.663Z"
   },
   {
    "duration": 1787,
    "start_time": "2023-02-21T03:15:38.666Z"
   },
   {
    "duration": 51,
    "start_time": "2023-02-21T03:15:40.454Z"
   },
   {
    "duration": 33,
    "start_time": "2023-02-21T03:15:40.507Z"
   },
   {
    "duration": 326,
    "start_time": "2023-02-21T03:15:40.543Z"
   },
   {
    "duration": 35,
    "start_time": "2023-02-21T03:15:40.870Z"
   },
   {
    "duration": 37,
    "start_time": "2023-02-21T03:15:40.907Z"
   },
   {
    "duration": 10,
    "start_time": "2023-02-21T03:15:40.945Z"
   },
   {
    "duration": 64,
    "start_time": "2023-02-21T03:15:40.957Z"
   },
   {
    "duration": 299,
    "start_time": "2023-02-21T03:15:41.022Z"
   },
   {
    "duration": 5,
    "start_time": "2023-02-21T03:15:41.322Z"
   },
   {
    "duration": 6,
    "start_time": "2023-02-21T03:15:41.328Z"
   },
   {
    "duration": 56,
    "start_time": "2023-02-21T03:15:41.336Z"
   },
   {
    "duration": 15,
    "start_time": "2023-02-21T03:15:41.394Z"
   },
   {
    "duration": 6,
    "start_time": "2023-02-21T03:15:41.493Z"
   },
   {
    "duration": 93,
    "start_time": "2023-02-21T03:15:41.500Z"
   },
   {
    "duration": 12,
    "start_time": "2023-02-21T03:15:41.594Z"
   },
   {
    "duration": 21408,
    "start_time": "2023-02-21T03:15:41.608Z"
   },
   {
    "duration": 4,
    "start_time": "2023-02-21T03:16:03.018Z"
   },
   {
    "duration": 16,
    "start_time": "2023-02-21T03:16:03.024Z"
   },
   {
    "duration": 2,
    "start_time": "2023-02-21T03:16:03.042Z"
   },
   {
    "duration": 5,
    "start_time": "2023-02-21T03:16:03.046Z"
   },
   {
    "duration": 77344,
    "start_time": "2023-02-21T03:16:03.053Z"
   },
   {
    "duration": 4,
    "start_time": "2023-02-21T03:17:20.399Z"
   },
   {
    "duration": 199,
    "start_time": "2023-02-21T03:17:20.404Z"
   },
   {
    "duration": 2,
    "start_time": "2023-02-21T03:17:20.605Z"
   },
   {
    "duration": 2957,
    "start_time": "2023-02-21T03:17:20.609Z"
   },
   {
    "duration": 4,
    "start_time": "2023-02-21T03:17:23.567Z"
   },
   {
    "duration": 27,
    "start_time": "2023-02-21T03:17:23.572Z"
   },
   {
    "duration": 2,
    "start_time": "2023-02-21T03:17:23.601Z"
   },
   {
    "duration": 904,
    "start_time": "2023-02-21T03:17:23.605Z"
   },
   {
    "duration": 3996,
    "start_time": "2023-02-21T03:18:37.507Z"
   },
   {
    "duration": 1398,
    "start_time": "2023-02-21T03:19:00.734Z"
   },
   {
    "duration": 794,
    "start_time": "2023-02-21T03:19:02.134Z"
   },
   {
    "duration": 723,
    "start_time": "2023-02-21T03:19:02.930Z"
   },
   {
    "duration": 493,
    "start_time": "2023-02-21T03:19:03.655Z"
   },
   {
    "duration": 110,
    "start_time": "2023-02-21T03:19:04.151Z"
   },
   {
    "duration": 93,
    "start_time": "2023-02-21T03:19:04.263Z"
   },
   {
    "duration": 874,
    "start_time": "2023-02-21T03:19:04.358Z"
   },
   {
    "duration": 167,
    "start_time": "2023-02-21T03:19:05.237Z"
   },
   {
    "duration": 55,
    "start_time": "2023-02-21T03:19:05.405Z"
   },
   {
    "duration": 3,
    "start_time": "2023-02-21T03:19:05.461Z"
   },
   {
    "duration": 1852,
    "start_time": "2023-02-21T03:19:05.465Z"
   },
   {
    "duration": 49,
    "start_time": "2023-02-21T03:19:07.319Z"
   },
   {
    "duration": 50,
    "start_time": "2023-02-21T03:19:07.370Z"
   },
   {
    "duration": 295,
    "start_time": "2023-02-21T03:19:07.423Z"
   },
   {
    "duration": 24,
    "start_time": "2023-02-21T03:19:07.721Z"
   },
   {
    "duration": 52,
    "start_time": "2023-02-21T03:19:07.748Z"
   },
   {
    "duration": 11,
    "start_time": "2023-02-21T03:19:07.802Z"
   },
   {
    "duration": 35,
    "start_time": "2023-02-21T03:19:07.815Z"
   },
   {
    "duration": 296,
    "start_time": "2023-02-21T03:19:07.852Z"
   },
   {
    "duration": 4,
    "start_time": "2023-02-21T03:19:08.150Z"
   },
   {
    "duration": 8,
    "start_time": "2023-02-21T03:19:08.155Z"
   },
   {
    "duration": 46,
    "start_time": "2023-02-21T03:19:08.164Z"
   },
   {
    "duration": 8,
    "start_time": "2023-02-21T03:19:08.212Z"
   },
   {
    "duration": 171,
    "start_time": "2023-02-21T03:19:08.221Z"
   },
   {
    "duration": 6,
    "start_time": "2023-02-21T03:19:08.394Z"
   },
   {
    "duration": 11,
    "start_time": "2023-02-21T03:19:08.402Z"
   },
   {
    "duration": 22120,
    "start_time": "2023-02-21T03:19:08.415Z"
   },
   {
    "duration": 3,
    "start_time": "2023-02-21T03:19:30.537Z"
   },
   {
    "duration": 32,
    "start_time": "2023-02-21T03:19:30.542Z"
   },
   {
    "duration": 18,
    "start_time": "2023-02-21T03:19:30.576Z"
   },
   {
    "duration": 13,
    "start_time": "2023-02-21T03:19:30.596Z"
   },
   {
    "duration": 113992,
    "start_time": "2023-02-21T03:19:30.611Z"
   },
   {
    "duration": 3,
    "start_time": "2023-02-21T03:21:24.605Z"
   },
   {
    "duration": 285,
    "start_time": "2023-02-21T03:21:24.609Z"
   },
   {
    "duration": 3,
    "start_time": "2023-02-21T03:21:24.895Z"
   },
   {
    "duration": 2954,
    "start_time": "2023-02-21T03:21:24.899Z"
   },
   {
    "duration": 4,
    "start_time": "2023-02-21T03:21:27.854Z"
   },
   {
    "duration": 31,
    "start_time": "2023-02-21T03:21:27.860Z"
   },
   {
    "duration": 2,
    "start_time": "2023-02-21T03:21:27.893Z"
   },
   {
    "duration": 898,
    "start_time": "2023-02-21T03:21:27.897Z"
   },
   {
    "duration": 122,
    "start_time": "2023-02-21T07:04:30.166Z"
   },
   {
    "duration": 1864,
    "start_time": "2023-02-21T07:04:35.307Z"
   },
   {
    "duration": 2965,
    "start_time": "2023-02-21T07:04:37.174Z"
   },
   {
    "duration": 770,
    "start_time": "2023-02-21T07:04:40.141Z"
   },
   {
    "duration": 602,
    "start_time": "2023-02-21T07:04:40.913Z"
   },
   {
    "duration": 136,
    "start_time": "2023-02-21T07:04:41.518Z"
   },
   {
    "duration": 107,
    "start_time": "2023-02-21T07:04:41.655Z"
   },
   {
    "duration": 989,
    "start_time": "2023-02-21T07:04:41.764Z"
   },
   {
    "duration": 170,
    "start_time": "2023-02-21T07:04:42.755Z"
   },
   {
    "duration": 71,
    "start_time": "2023-02-21T07:04:42.927Z"
   },
   {
    "duration": 3,
    "start_time": "2023-02-21T07:04:43.000Z"
   },
   {
    "duration": 2080,
    "start_time": "2023-02-21T07:04:43.005Z"
   },
   {
    "duration": 66,
    "start_time": "2023-02-21T07:04:45.087Z"
   },
   {
    "duration": 42,
    "start_time": "2023-02-21T07:04:45.155Z"
   },
   {
    "duration": 390,
    "start_time": "2023-02-21T07:04:45.201Z"
   },
   {
    "duration": 28,
    "start_time": "2023-02-21T07:04:45.593Z"
   },
   {
    "duration": 50,
    "start_time": "2023-02-21T07:04:45.623Z"
   },
   {
    "duration": 22,
    "start_time": "2023-02-21T07:04:45.676Z"
   },
   {
    "duration": 63,
    "start_time": "2023-02-21T07:04:45.700Z"
   },
   {
    "duration": 327,
    "start_time": "2023-02-21T07:04:45.766Z"
   },
   {
    "duration": 4,
    "start_time": "2023-02-21T07:04:46.095Z"
   },
   {
    "duration": 13,
    "start_time": "2023-02-21T07:04:46.102Z"
   },
   {
    "duration": 47,
    "start_time": "2023-02-21T07:04:46.116Z"
   },
   {
    "duration": 184,
    "start_time": "2023-02-21T07:04:46.165Z"
   },
   {
    "duration": 5,
    "start_time": "2023-02-21T07:04:46.437Z"
   },
   {
    "duration": 8,
    "start_time": "2023-02-21T07:04:46.444Z"
   },
   {
    "duration": 27,
    "start_time": "2023-02-21T07:04:46.454Z"
   },
   {
    "duration": 906,
    "start_time": "2023-02-21T07:04:46.483Z"
   },
   {
    "duration": 134,
    "start_time": "2023-02-21T07:04:47.391Z"
   },
   {
    "duration": 28587,
    "start_time": "2023-02-21T07:04:47.526Z"
   },
   {
    "duration": 3,
    "start_time": "2023-02-21T07:05:16.115Z"
   },
   {
    "duration": 33,
    "start_time": "2023-02-21T07:05:16.120Z"
   },
   {
    "duration": 1492,
    "start_time": "2023-02-21T07:17:01.176Z"
   },
   {
    "duration": 887,
    "start_time": "2023-02-21T07:17:02.670Z"
   },
   {
    "duration": 748,
    "start_time": "2023-02-21T07:17:03.558Z"
   },
   {
    "duration": 554,
    "start_time": "2023-02-21T07:17:04.308Z"
   },
   {
    "duration": 106,
    "start_time": "2023-02-21T07:17:04.865Z"
   },
   {
    "duration": 97,
    "start_time": "2023-02-21T07:17:04.973Z"
   },
   {
    "duration": 978,
    "start_time": "2023-02-21T07:17:05.072Z"
   },
   {
    "duration": 181,
    "start_time": "2023-02-21T07:17:06.051Z"
   },
   {
    "duration": 66,
    "start_time": "2023-02-21T07:17:06.238Z"
   },
   {
    "duration": 3,
    "start_time": "2023-02-21T07:17:06.306Z"
   },
   {
    "duration": 1865,
    "start_time": "2023-02-21T07:17:06.311Z"
   },
   {
    "duration": 74,
    "start_time": "2023-02-21T07:17:08.179Z"
   },
   {
    "duration": 47,
    "start_time": "2023-02-21T07:17:08.255Z"
   },
   {
    "duration": 369,
    "start_time": "2023-02-21T07:17:08.307Z"
   },
   {
    "duration": 28,
    "start_time": "2023-02-21T07:17:08.678Z"
   },
   {
    "duration": 66,
    "start_time": "2023-02-21T07:17:08.708Z"
   },
   {
    "duration": 10,
    "start_time": "2023-02-21T07:17:08.776Z"
   },
   {
    "duration": 71,
    "start_time": "2023-02-21T07:17:08.788Z"
   },
   {
    "duration": 307,
    "start_time": "2023-02-21T07:17:08.861Z"
   },
   {
    "duration": 5,
    "start_time": "2023-02-21T07:17:09.169Z"
   },
   {
    "duration": 6,
    "start_time": "2023-02-21T07:17:09.175Z"
   },
   {
    "duration": 54,
    "start_time": "2023-02-21T07:17:09.183Z"
   },
   {
    "duration": 15,
    "start_time": "2023-02-21T07:17:09.239Z"
   },
   {
    "duration": 85,
    "start_time": "2023-02-21T07:17:09.256Z"
   },
   {
    "duration": 119,
    "start_time": "2023-02-21T07:17:09.343Z"
   },
   {
    "duration": 55,
    "start_time": "2023-02-21T07:17:09.464Z"
   },
   {
    "duration": 870,
    "start_time": "2023-02-21T07:17:09.521Z"
   },
   {
    "duration": 167,
    "start_time": "2023-02-21T07:17:10.393Z"
   },
   {
    "duration": 24247,
    "start_time": "2023-02-21T07:17:10.562Z"
   },
   {
    "duration": 2,
    "start_time": "2023-02-21T07:17:34.811Z"
   },
   {
    "duration": 36,
    "start_time": "2023-02-21T07:17:34.814Z"
   },
   {
    "duration": 107396,
    "start_time": "2023-02-21T07:17:34.852Z"
   },
   {
    "duration": 4,
    "start_time": "2023-02-21T07:19:22.249Z"
   },
   {
    "duration": 687,
    "start_time": "2023-02-21T07:19:22.254Z"
   },
   {
    "duration": 2,
    "start_time": "2023-02-21T07:19:22.943Z"
   },
   {
    "duration": 4044,
    "start_time": "2023-02-21T07:19:22.947Z"
   },
   {
    "duration": 4,
    "start_time": "2023-02-21T07:19:26.993Z"
   },
   {
    "duration": 43,
    "start_time": "2023-02-21T07:19:26.998Z"
   },
   {
    "duration": 2,
    "start_time": "2023-02-21T07:19:27.043Z"
   },
   {
    "duration": 936,
    "start_time": "2023-02-21T07:19:27.046Z"
   },
   {
    "duration": 4,
    "start_time": "2023-02-21T07:29:51.161Z"
   },
   {
    "duration": 805,
    "start_time": "2023-02-21T07:29:51.167Z"
   },
   {
    "duration": 641,
    "start_time": "2023-02-21T07:29:51.974Z"
   },
   {
    "duration": 439,
    "start_time": "2023-02-21T07:29:52.617Z"
   },
   {
    "duration": 104,
    "start_time": "2023-02-21T07:29:53.057Z"
   },
   {
    "duration": 89,
    "start_time": "2023-02-21T07:29:53.163Z"
   },
   {
    "duration": 900,
    "start_time": "2023-02-21T07:29:53.254Z"
   },
   {
    "duration": 160,
    "start_time": "2023-02-21T07:29:54.155Z"
   },
   {
    "duration": 60,
    "start_time": "2023-02-21T07:29:54.317Z"
   },
   {
    "duration": 2,
    "start_time": "2023-02-21T07:29:54.380Z"
   },
   {
    "duration": 1661,
    "start_time": "2023-02-21T07:29:54.384Z"
   },
   {
    "duration": 44,
    "start_time": "2023-02-21T07:29:56.047Z"
   },
   {
    "duration": 57,
    "start_time": "2023-02-21T07:29:56.093Z"
   },
   {
    "duration": 270,
    "start_time": "2023-02-21T07:29:56.152Z"
   },
   {
    "duration": 36,
    "start_time": "2023-02-21T07:29:56.424Z"
   },
   {
    "duration": 37,
    "start_time": "2023-02-21T07:29:56.461Z"
   },
   {
    "duration": 13,
    "start_time": "2023-02-21T07:29:56.500Z"
   },
   {
    "duration": 55,
    "start_time": "2023-02-21T07:29:56.514Z"
   },
   {
    "duration": 283,
    "start_time": "2023-02-21T07:29:56.571Z"
   },
   {
    "duration": 3,
    "start_time": "2023-02-21T07:29:56.856Z"
   },
   {
    "duration": 11,
    "start_time": "2023-02-21T07:29:56.861Z"
   },
   {
    "duration": 34,
    "start_time": "2023-02-21T07:29:56.874Z"
   },
   {
    "duration": 127,
    "start_time": "2023-02-21T07:29:56.909Z"
   },
   {
    "duration": 10,
    "start_time": "2023-02-21T07:29:57.038Z"
   },
   {
    "duration": 87,
    "start_time": "2023-02-21T07:29:57.050Z"
   },
   {
    "duration": 10,
    "start_time": "2023-02-21T07:29:57.139Z"
   },
   {
    "duration": 764,
    "start_time": "2023-02-21T07:29:57.150Z"
   },
   {
    "duration": 18,
    "start_time": "2023-02-21T07:29:57.918Z"
   },
   {
    "duration": 5,
    "start_time": "2023-02-21T07:29:57.938Z"
   },
   {
    "duration": 7,
    "start_time": "2023-02-21T07:29:57.944Z"
   },
   {
    "duration": 10,
    "start_time": "2023-02-21T07:29:57.953Z"
   },
   {
    "duration": 6,
    "start_time": "2023-02-21T07:29:57.965Z"
   },
   {
    "duration": 5,
    "start_time": "2023-02-21T07:29:57.972Z"
   },
   {
    "duration": 3459,
    "start_time": "2023-02-21T07:29:57.979Z"
   },
   {
    "duration": 921,
    "start_time": "2023-02-21T07:30:01.440Z"
   },
   {
    "duration": 5,
    "start_time": "2023-02-21T07:30:02.362Z"
   },
   {
    "duration": 7,
    "start_time": "2023-02-21T07:30:02.437Z"
   },
   {
    "duration": 16,
    "start_time": "2023-02-21T07:30:02.447Z"
   },
   {
    "duration": 10,
    "start_time": "2023-02-21T07:30:02.465Z"
   },
   {
    "duration": 15,
    "start_time": "2023-02-21T07:30:02.476Z"
   },
   {
    "duration": 146,
    "start_time": "2023-02-21T07:30:02.493Z"
   },
   {
    "duration": 27,
    "start_time": "2023-02-21T07:30:02.641Z"
   },
   {
    "duration": 5,
    "start_time": "2023-02-21T07:30:02.670Z"
   },
   {
    "duration": 8,
    "start_time": "2023-02-21T07:30:02.677Z"
   },
   {
    "duration": 6,
    "start_time": "2023-02-21T07:30:02.687Z"
   },
   {
    "duration": 13,
    "start_time": "2023-02-21T07:30:02.694Z"
   },
   {
    "duration": 15,
    "start_time": "2023-02-21T07:30:02.709Z"
   },
   {
    "duration": 1407,
    "start_time": "2023-02-21T07:30:02.726Z"
   },
   {
    "duration": 3271,
    "start_time": "2023-02-21T07:38:14.531Z"
   },
   {
    "duration": 3240,
    "start_time": "2023-02-21T07:40:46.980Z"
   },
   {
    "duration": 169,
    "start_time": "2023-02-21T07:44:50.012Z"
   },
   {
    "duration": 151,
    "start_time": "2023-02-21T07:45:12.330Z"
   },
   {
    "duration": 3154,
    "start_time": "2023-02-21T07:45:31.550Z"
   },
   {
    "duration": 3212,
    "start_time": "2023-02-21T07:48:46.652Z"
   },
   {
    "duration": 1570,
    "start_time": "2023-02-21T07:48:57.863Z"
   },
   {
    "duration": 851,
    "start_time": "2023-02-21T07:48:59.435Z"
   },
   {
    "duration": 833,
    "start_time": "2023-02-21T07:49:00.288Z"
   },
   {
    "duration": 608,
    "start_time": "2023-02-21T07:49:01.123Z"
   },
   {
    "duration": 121,
    "start_time": "2023-02-21T07:49:01.736Z"
   },
   {
    "duration": 119,
    "start_time": "2023-02-21T07:49:01.859Z"
   },
   {
    "duration": 983,
    "start_time": "2023-02-21T07:49:01.980Z"
   },
   {
    "duration": 183,
    "start_time": "2023-02-21T07:49:02.965Z"
   },
   {
    "duration": 59,
    "start_time": "2023-02-21T07:49:03.150Z"
   },
   {
    "duration": 2,
    "start_time": "2023-02-21T07:49:03.211Z"
   },
   {
    "duration": 1870,
    "start_time": "2023-02-21T07:49:03.215Z"
   },
   {
    "duration": 67,
    "start_time": "2023-02-21T07:49:05.087Z"
   },
   {
    "duration": 37,
    "start_time": "2023-02-21T07:49:05.156Z"
   },
   {
    "duration": 329,
    "start_time": "2023-02-21T07:49:05.196Z"
   },
   {
    "duration": 35,
    "start_time": "2023-02-21T07:49:05.527Z"
   },
   {
    "duration": 37,
    "start_time": "2023-02-21T07:49:05.564Z"
   },
   {
    "duration": 36,
    "start_time": "2023-02-21T07:49:05.603Z"
   },
   {
    "duration": 41,
    "start_time": "2023-02-21T07:49:05.641Z"
   },
   {
    "duration": 332,
    "start_time": "2023-02-21T07:49:05.684Z"
   },
   {
    "duration": 4,
    "start_time": "2023-02-21T07:49:06.018Z"
   },
   {
    "duration": 13,
    "start_time": "2023-02-21T07:49:06.023Z"
   },
   {
    "duration": 37,
    "start_time": "2023-02-21T07:49:06.039Z"
   },
   {
    "duration": 65,
    "start_time": "2023-02-21T07:49:06.078Z"
   },
   {
    "duration": 96,
    "start_time": "2023-02-21T07:49:06.146Z"
   },
   {
    "duration": 11,
    "start_time": "2023-02-21T07:49:06.244Z"
   },
   {
    "duration": 8,
    "start_time": "2023-02-21T07:49:06.257Z"
   },
   {
    "duration": 957,
    "start_time": "2023-02-21T07:49:06.267Z"
   },
   {
    "duration": 27,
    "start_time": "2023-02-21T07:49:07.226Z"
   },
   {
    "duration": 23,
    "start_time": "2023-02-21T07:49:07.256Z"
   },
   {
    "duration": 36,
    "start_time": "2023-02-21T07:49:07.282Z"
   },
   {
    "duration": 69,
    "start_time": "2023-02-21T07:49:07.321Z"
   },
   {
    "duration": 23,
    "start_time": "2023-02-21T07:49:07.393Z"
   },
   {
    "duration": 17,
    "start_time": "2023-02-21T07:49:07.418Z"
   },
   {
    "duration": 42,
    "start_time": "2023-02-21T07:49:07.438Z"
   },
   {
    "duration": 1544,
    "start_time": "2023-02-21T07:56:29.989Z"
   },
   {
    "duration": 924,
    "start_time": "2023-02-21T07:56:31.535Z"
   },
   {
    "duration": 752,
    "start_time": "2023-02-21T07:56:32.461Z"
   },
   {
    "duration": 589,
    "start_time": "2023-02-21T07:56:33.217Z"
   },
   {
    "duration": 105,
    "start_time": "2023-02-21T07:56:33.808Z"
   },
   {
    "duration": 97,
    "start_time": "2023-02-21T07:56:33.915Z"
   },
   {
    "duration": 955,
    "start_time": "2023-02-21T07:56:34.014Z"
   },
   {
    "duration": 188,
    "start_time": "2023-02-21T07:56:34.971Z"
   },
   {
    "duration": 59,
    "start_time": "2023-02-21T07:56:35.161Z"
   },
   {
    "duration": 14,
    "start_time": "2023-02-21T07:56:35.223Z"
   },
   {
    "duration": 1829,
    "start_time": "2023-02-21T07:56:35.239Z"
   },
   {
    "duration": 48,
    "start_time": "2023-02-21T07:56:37.070Z"
   },
   {
    "duration": 55,
    "start_time": "2023-02-21T07:56:37.119Z"
   },
   {
    "duration": 351,
    "start_time": "2023-02-21T07:56:37.176Z"
   },
   {
    "duration": 30,
    "start_time": "2023-02-21T07:56:37.529Z"
   },
   {
    "duration": 38,
    "start_time": "2023-02-21T07:56:37.561Z"
   },
   {
    "duration": 43,
    "start_time": "2023-02-21T07:56:37.601Z"
   },
   {
    "duration": 42,
    "start_time": "2023-02-21T07:56:37.646Z"
   },
   {
    "duration": 331,
    "start_time": "2023-02-21T07:56:37.690Z"
   },
   {
    "duration": 5,
    "start_time": "2023-02-21T07:56:38.023Z"
   },
   {
    "duration": 9,
    "start_time": "2023-02-21T07:56:38.030Z"
   },
   {
    "duration": 45,
    "start_time": "2023-02-21T07:56:38.041Z"
   },
   {
    "duration": 51,
    "start_time": "2023-02-21T07:56:38.088Z"
   },
   {
    "duration": 103,
    "start_time": "2023-02-21T07:56:38.141Z"
   },
   {
    "duration": 13,
    "start_time": "2023-02-21T07:56:38.246Z"
   },
   {
    "duration": 14,
    "start_time": "2023-02-21T07:56:38.261Z"
   },
   {
    "duration": 1152,
    "start_time": "2023-02-21T07:56:38.279Z"
   },
   {
    "duration": 20,
    "start_time": "2023-02-21T07:56:39.434Z"
   },
   {
    "duration": 6,
    "start_time": "2023-02-21T07:56:39.455Z"
   },
   {
    "duration": 7,
    "start_time": "2023-02-21T07:56:39.463Z"
   },
   {
    "duration": 5,
    "start_time": "2023-02-21T07:56:39.472Z"
   },
   {
    "duration": 11,
    "start_time": "2023-02-21T07:56:39.479Z"
   },
   {
    "duration": 9,
    "start_time": "2023-02-21T07:56:39.492Z"
   },
   {
    "duration": 7,
    "start_time": "2023-02-21T07:56:39.503Z"
   },
   {
    "duration": 405736,
    "start_time": "2023-02-21T07:56:39.512Z"
   },
   {
    "duration": 1002,
    "start_time": "2023-02-21T08:03:25.250Z"
   },
   {
    "duration": 6,
    "start_time": "2023-02-21T08:03:26.255Z"
   },
   {
    "duration": 29,
    "start_time": "2023-02-21T08:03:26.263Z"
   },
   {
    "duration": 15,
    "start_time": "2023-02-21T08:03:26.294Z"
   },
   {
    "duration": 35,
    "start_time": "2023-02-21T08:03:26.311Z"
   },
   {
    "duration": 21,
    "start_time": "2023-02-21T08:03:26.348Z"
   },
   {
    "duration": 181,
    "start_time": "2023-02-21T08:03:26.371Z"
   },
   {
    "duration": 34,
    "start_time": "2023-02-21T08:03:26.556Z"
   },
   {
    "duration": 223,
    "start_time": "2023-02-21T08:03:26.593Z"
   },
   {
    "duration": 3014,
    "start_time": "2023-02-21T08:03:26.818Z"
   },
   {
    "duration": 65,
    "start_time": "2023-02-21T08:05:04.645Z"
   },
   {
    "duration": 1459,
    "start_time": "2023-02-21T08:05:31.652Z"
   },
   {
    "duration": 867,
    "start_time": "2023-02-21T08:05:33.113Z"
   },
   {
    "duration": 755,
    "start_time": "2023-02-21T08:05:33.982Z"
   },
   {
    "duration": 597,
    "start_time": "2023-02-21T08:05:34.739Z"
   },
   {
    "duration": 130,
    "start_time": "2023-02-21T08:05:35.340Z"
   },
   {
    "duration": 95,
    "start_time": "2023-02-21T08:05:35.472Z"
   },
   {
    "duration": 965,
    "start_time": "2023-02-21T08:05:35.569Z"
   },
   {
    "duration": 180,
    "start_time": "2023-02-21T08:05:36.535Z"
   },
   {
    "duration": 61,
    "start_time": "2023-02-21T08:05:36.716Z"
   },
   {
    "duration": 3,
    "start_time": "2023-02-21T08:05:36.779Z"
   },
   {
    "duration": 1850,
    "start_time": "2023-02-21T08:05:36.783Z"
   },
   {
    "duration": 49,
    "start_time": "2023-02-21T08:05:38.637Z"
   },
   {
    "duration": 51,
    "start_time": "2023-02-21T08:05:38.688Z"
   },
   {
    "duration": 297,
    "start_time": "2023-02-21T08:05:38.742Z"
   },
   {
    "duration": 26,
    "start_time": "2023-02-21T08:05:39.041Z"
   },
   {
    "duration": 38,
    "start_time": "2023-02-21T08:05:39.069Z"
   },
   {
    "duration": 30,
    "start_time": "2023-02-21T08:05:39.109Z"
   },
   {
    "duration": 54,
    "start_time": "2023-02-21T08:05:39.141Z"
   },
   {
    "duration": 326,
    "start_time": "2023-02-21T08:05:39.196Z"
   },
   {
    "duration": 5,
    "start_time": "2023-02-21T08:05:39.524Z"
   },
   {
    "duration": 87,
    "start_time": "2023-02-21T08:05:39.536Z"
   },
   {
    "duration": 47,
    "start_time": "2023-02-21T08:05:39.625Z"
   },
   {
    "duration": 80,
    "start_time": "2023-02-21T08:05:39.674Z"
   },
   {
    "duration": 6,
    "start_time": "2023-02-21T08:05:39.837Z"
   },
   {
    "duration": 9,
    "start_time": "2023-02-21T08:05:39.845Z"
   },
   {
    "duration": 6,
    "start_time": "2023-02-21T08:05:39.856Z"
   },
   {
    "duration": 876,
    "start_time": "2023-02-21T08:05:39.864Z"
   },
   {
    "duration": 21,
    "start_time": "2023-02-21T08:05:40.742Z"
   },
   {
    "duration": 7,
    "start_time": "2023-02-21T08:05:40.764Z"
   },
   {
    "duration": 7,
    "start_time": "2023-02-21T08:05:40.773Z"
   },
   {
    "duration": 7,
    "start_time": "2023-02-21T08:05:40.782Z"
   },
   {
    "duration": 35,
    "start_time": "2023-02-21T08:05:40.792Z"
   },
   {
    "duration": 17,
    "start_time": "2023-02-21T08:05:40.830Z"
   },
   {
    "duration": 5,
    "start_time": "2023-02-21T08:05:40.850Z"
   },
   {
    "duration": 220183,
    "start_time": "2023-02-21T08:05:40.858Z"
   },
   {
    "duration": 1032,
    "start_time": "2023-02-21T08:09:21.043Z"
   },
   {
    "duration": 6,
    "start_time": "2023-02-21T08:09:22.077Z"
   },
   {
    "duration": 52,
    "start_time": "2023-02-21T08:09:22.085Z"
   },
   {
    "duration": 5,
    "start_time": "2023-02-21T08:09:22.139Z"
   },
   {
    "duration": 9,
    "start_time": "2023-02-21T08:09:22.145Z"
   },
   {
    "duration": 3,
    "start_time": "2023-02-21T08:09:22.158Z"
   },
   {
    "duration": 157,
    "start_time": "2023-02-21T08:09:22.162Z"
   },
   {
    "duration": 34,
    "start_time": "2023-02-21T08:09:22.320Z"
   },
   {
    "duration": 5,
    "start_time": "2023-02-21T08:09:22.356Z"
   },
   {
    "duration": 2990,
    "start_time": "2023-02-21T08:09:22.362Z"
   },
   {
    "duration": 1818,
    "start_time": "2023-02-21T08:35:29.031Z"
   },
   {
    "duration": 998,
    "start_time": "2023-02-21T08:35:30.852Z"
   },
   {
    "duration": 676,
    "start_time": "2023-02-21T08:35:31.851Z"
   },
   {
    "duration": 459,
    "start_time": "2023-02-21T08:35:32.529Z"
   },
   {
    "duration": 150,
    "start_time": "2023-02-21T08:35:32.991Z"
   },
   {
    "duration": 93,
    "start_time": "2023-02-21T08:35:33.142Z"
   },
   {
    "duration": 801,
    "start_time": "2023-02-21T08:35:33.237Z"
   },
   {
    "duration": 170,
    "start_time": "2023-02-21T08:35:34.040Z"
   },
   {
    "duration": 48,
    "start_time": "2023-02-21T08:35:34.211Z"
   },
   {
    "duration": 2,
    "start_time": "2023-02-21T08:35:34.261Z"
   },
   {
    "duration": 1514,
    "start_time": "2023-02-21T08:35:34.264Z"
   },
   {
    "duration": 47,
    "start_time": "2023-02-21T08:35:35.779Z"
   },
   {
    "duration": 30,
    "start_time": "2023-02-21T08:35:35.828Z"
   },
   {
    "duration": 355,
    "start_time": "2023-02-21T08:35:35.862Z"
   },
   {
    "duration": 22,
    "start_time": "2023-02-21T08:35:36.219Z"
   },
   {
    "duration": 44,
    "start_time": "2023-02-21T08:35:36.242Z"
   },
   {
    "duration": 22,
    "start_time": "2023-02-21T08:35:36.288Z"
   },
   {
    "duration": 28,
    "start_time": "2023-02-21T08:35:36.311Z"
   },
   {
    "duration": 331,
    "start_time": "2023-02-21T08:35:36.340Z"
   },
   {
    "duration": 18,
    "start_time": "2023-02-21T08:35:36.673Z"
   },
   {
    "duration": 19,
    "start_time": "2023-02-21T08:35:36.692Z"
   },
   {
    "duration": 9,
    "start_time": "2023-02-21T08:35:36.713Z"
   },
   {
    "duration": 88,
    "start_time": "2023-02-21T08:35:36.724Z"
   },
   {
    "duration": 107,
    "start_time": "2023-02-21T08:35:36.814Z"
   },
   {
    "duration": 190,
    "start_time": "2023-02-21T08:35:36.923Z"
   },
   {
    "duration": 4,
    "start_time": "2023-02-21T08:35:37.115Z"
   },
   {
    "duration": 7,
    "start_time": "2023-02-21T08:35:37.120Z"
   },
   {
    "duration": 949,
    "start_time": "2023-02-21T08:35:37.129Z"
   },
   {
    "duration": 18,
    "start_time": "2023-02-21T08:35:38.080Z"
   },
   {
    "duration": 20,
    "start_time": "2023-02-21T08:35:38.099Z"
   },
   {
    "duration": 26,
    "start_time": "2023-02-21T08:35:38.121Z"
   },
   {
    "duration": 14,
    "start_time": "2023-02-21T08:35:38.148Z"
   },
   {
    "duration": 10,
    "start_time": "2023-02-21T08:35:38.164Z"
   },
   {
    "duration": 17,
    "start_time": "2023-02-21T08:35:38.176Z"
   },
   {
    "duration": 8,
    "start_time": "2023-02-21T08:35:38.195Z"
   },
   {
    "duration": 11312,
    "start_time": "2023-02-21T08:35:38.204Z"
   },
   {
    "duration": 1106,
    "start_time": "2023-02-21T08:35:49.518Z"
   },
   {
    "duration": 85,
    "start_time": "2023-02-21T08:35:50.625Z"
   },
   {
    "duration": 3,
    "start_time": "2023-02-21T08:35:50.713Z"
   },
   {
    "duration": 8,
    "start_time": "2023-02-21T08:35:50.717Z"
   },
   {
    "duration": 3,
    "start_time": "2023-02-21T08:35:50.728Z"
   },
   {
    "duration": 5,
    "start_time": "2023-02-21T08:35:50.732Z"
   },
   {
    "duration": 177,
    "start_time": "2023-02-21T08:35:50.738Z"
   },
   {
    "duration": 29,
    "start_time": "2023-02-21T08:35:50.916Z"
   },
   {
    "duration": 7,
    "start_time": "2023-02-21T08:35:50.946Z"
   },
   {
    "duration": 3188,
    "start_time": "2023-02-21T08:35:50.955Z"
   },
   {
    "duration": 11,
    "start_time": "2023-02-21T08:37:32.530Z"
   },
   {
    "duration": 5,
    "start_time": "2023-02-21T08:53:39.702Z"
   },
   {
    "duration": 978,
    "start_time": "2023-02-21T08:53:39.710Z"
   },
   {
    "duration": 704,
    "start_time": "2023-02-21T08:53:40.690Z"
   },
   {
    "duration": 517,
    "start_time": "2023-02-21T08:53:41.396Z"
   },
   {
    "duration": 114,
    "start_time": "2023-02-21T08:53:41.915Z"
   },
   {
    "duration": 100,
    "start_time": "2023-02-21T08:53:42.037Z"
   },
   {
    "duration": 950,
    "start_time": "2023-02-21T08:53:42.139Z"
   },
   {
    "duration": 178,
    "start_time": "2023-02-21T08:53:43.091Z"
   },
   {
    "duration": 77,
    "start_time": "2023-02-21T08:53:43.271Z"
   },
   {
    "duration": 3,
    "start_time": "2023-02-21T08:53:43.350Z"
   },
   {
    "duration": 1778,
    "start_time": "2023-02-21T08:53:43.355Z"
   },
   {
    "duration": 50,
    "start_time": "2023-02-21T08:53:45.136Z"
   },
   {
    "duration": 64,
    "start_time": "2023-02-21T08:53:45.188Z"
   },
   {
    "duration": 301,
    "start_time": "2023-02-21T08:53:45.256Z"
   },
   {
    "duration": 33,
    "start_time": "2023-02-21T08:53:45.559Z"
   },
   {
    "duration": 49,
    "start_time": "2023-02-21T08:53:45.593Z"
   },
   {
    "duration": 42,
    "start_time": "2023-02-21T08:53:45.643Z"
   },
   {
    "duration": 71,
    "start_time": "2023-02-21T08:53:45.686Z"
   },
   {
    "duration": 309,
    "start_time": "2023-02-21T08:53:45.758Z"
   },
   {
    "duration": 12,
    "start_time": "2023-02-21T08:53:46.068Z"
   },
   {
    "duration": 18,
    "start_time": "2023-02-21T08:53:46.082Z"
   },
   {
    "duration": 36,
    "start_time": "2023-02-21T08:53:46.102Z"
   },
   {
    "duration": 64,
    "start_time": "2023-02-21T08:53:46.140Z"
   },
   {
    "duration": 40,
    "start_time": "2023-02-21T08:53:46.206Z"
   },
   {
    "duration": 6,
    "start_time": "2023-02-21T08:53:46.338Z"
   },
   {
    "duration": 115,
    "start_time": "2023-02-21T08:53:46.345Z"
   },
   {
    "duration": 54,
    "start_time": "2023-02-21T08:53:46.462Z"
   },
   {
    "duration": 1060,
    "start_time": "2023-02-21T08:53:46.518Z"
   },
   {
    "duration": 17,
    "start_time": "2023-02-21T08:53:47.580Z"
   },
   {
    "duration": 6,
    "start_time": "2023-02-21T08:53:47.600Z"
   },
   {
    "duration": 4,
    "start_time": "2023-02-21T08:53:47.607Z"
   },
   {
    "duration": 7,
    "start_time": "2023-02-21T08:53:47.613Z"
   },
   {
    "duration": 9,
    "start_time": "2023-02-21T08:53:47.623Z"
   },
   {
    "duration": 6,
    "start_time": "2023-02-21T08:53:47.633Z"
   },
   {
    "duration": 6,
    "start_time": "2023-02-21T08:53:47.641Z"
   },
   {
    "duration": 3705,
    "start_time": "2023-02-21T08:53:47.649Z"
   },
   {
    "duration": 1120,
    "start_time": "2023-02-21T08:53:51.437Z"
   },
   {
    "duration": 5,
    "start_time": "2023-02-21T08:53:52.558Z"
   },
   {
    "duration": 32,
    "start_time": "2023-02-21T08:53:52.565Z"
   },
   {
    "duration": 20,
    "start_time": "2023-02-21T08:53:52.598Z"
   },
   {
    "duration": 20,
    "start_time": "2023-02-21T08:53:52.622Z"
   },
   {
    "duration": 55,
    "start_time": "2023-02-21T08:53:52.644Z"
   },
   {
    "duration": 463,
    "start_time": "2023-02-21T08:53:52.701Z"
   },
   {
    "duration": 72,
    "start_time": "2023-02-21T08:53:53.166Z"
   },
   {
    "duration": 5,
    "start_time": "2023-02-21T08:53:53.239Z"
   },
   {
    "duration": 8680,
    "start_time": "2023-02-21T08:53:53.246Z"
   },
   {
    "duration": 1756,
    "start_time": "2023-02-21T14:15:52.883Z"
   },
   {
    "duration": 6,
    "start_time": "2023-02-21T14:16:01.101Z"
   },
   {
    "duration": 3562,
    "start_time": "2023-02-21T14:16:01.113Z"
   },
   {
    "duration": 790,
    "start_time": "2023-02-21T14:16:04.677Z"
   },
   {
    "duration": 500,
    "start_time": "2023-02-21T14:16:05.469Z"
   },
   {
    "duration": 123,
    "start_time": "2023-02-21T14:16:05.971Z"
   },
   {
    "duration": 106,
    "start_time": "2023-02-21T14:16:06.096Z"
   },
   {
    "duration": 963,
    "start_time": "2023-02-21T14:16:06.204Z"
   },
   {
    "duration": 192,
    "start_time": "2023-02-21T14:16:07.170Z"
   },
   {
    "duration": 65,
    "start_time": "2023-02-21T14:16:07.364Z"
   },
   {
    "duration": 3,
    "start_time": "2023-02-21T14:16:07.431Z"
   },
   {
    "duration": 1874,
    "start_time": "2023-02-21T14:16:07.438Z"
   },
   {
    "duration": 56,
    "start_time": "2023-02-21T14:16:09.314Z"
   },
   {
    "duration": 55,
    "start_time": "2023-02-21T14:16:09.372Z"
   },
   {
    "duration": 394,
    "start_time": "2023-02-21T14:16:09.429Z"
   },
   {
    "duration": 22,
    "start_time": "2023-02-21T14:16:09.825Z"
   },
   {
    "duration": 47,
    "start_time": "2023-02-21T14:16:09.848Z"
   },
   {
    "duration": 32,
    "start_time": "2023-02-21T14:16:09.897Z"
   },
   {
    "duration": 36,
    "start_time": "2023-02-21T14:16:09.931Z"
   },
   {
    "duration": 365,
    "start_time": "2023-02-21T14:16:09.969Z"
   },
   {
    "duration": 12,
    "start_time": "2023-02-21T14:16:10.336Z"
   },
   {
    "duration": 8,
    "start_time": "2023-02-21T14:16:10.351Z"
   },
   {
    "duration": 6,
    "start_time": "2023-02-21T14:16:10.360Z"
   },
   {
    "duration": 154,
    "start_time": "2023-02-21T14:16:10.369Z"
   },
   {
    "duration": 101,
    "start_time": "2023-02-21T14:16:10.525Z"
   },
   {
    "duration": 98,
    "start_time": "2023-02-21T14:16:10.631Z"
   },
   {
    "duration": 90,
    "start_time": "2023-02-21T14:16:10.731Z"
   },
   {
    "duration": 2,
    "start_time": "2023-02-21T14:16:10.823Z"
   },
   {
    "duration": 899,
    "start_time": "2023-02-21T14:16:10.827Z"
   },
   {
    "duration": 18,
    "start_time": "2023-02-21T14:16:11.729Z"
   },
   {
    "duration": 11,
    "start_time": "2023-02-21T14:16:11.748Z"
   },
   {
    "duration": 9,
    "start_time": "2023-02-21T14:16:11.760Z"
   },
   {
    "duration": 9,
    "start_time": "2023-02-21T14:16:11.771Z"
   },
   {
    "duration": 7,
    "start_time": "2023-02-21T14:16:11.781Z"
   },
   {
    "duration": 10,
    "start_time": "2023-02-21T14:16:11.790Z"
   },
   {
    "duration": 31,
    "start_time": "2023-02-21T14:16:11.802Z"
   },
   {
    "duration": 133402,
    "start_time": "2023-02-21T14:16:11.834Z"
   },
   {
    "duration": 1194,
    "start_time": "2023-02-21T14:18:25.238Z"
   },
   {
    "duration": 6,
    "start_time": "2023-02-21T14:18:26.434Z"
   },
   {
    "duration": 8,
    "start_time": "2023-02-21T14:18:26.442Z"
   },
   {
    "duration": 5,
    "start_time": "2023-02-21T14:18:26.452Z"
   },
   {
    "duration": 7,
    "start_time": "2023-02-21T14:18:26.459Z"
   },
   {
    "duration": 11,
    "start_time": "2023-02-21T14:18:26.468Z"
   },
   {
    "duration": 503,
    "start_time": "2023-02-21T14:18:26.480Z"
   },
   {
    "duration": 87,
    "start_time": "2023-02-21T14:18:26.985Z"
   },
   {
    "duration": 5,
    "start_time": "2023-02-21T14:18:27.074Z"
   },
   {
    "duration": 8573,
    "start_time": "2023-02-21T14:18:27.081Z"
   },
   {
    "duration": 1489,
    "start_time": "2023-02-21T15:17:21.334Z"
   },
   {
    "duration": 2419,
    "start_time": "2023-02-21T15:17:22.825Z"
   },
   {
    "duration": 660,
    "start_time": "2023-02-21T15:17:25.245Z"
   },
   {
    "duration": 472,
    "start_time": "2023-02-21T15:17:25.907Z"
   },
   {
    "duration": 118,
    "start_time": "2023-02-21T15:17:26.381Z"
   },
   {
    "duration": 93,
    "start_time": "2023-02-21T15:17:26.500Z"
   },
   {
    "duration": 961,
    "start_time": "2023-02-21T15:17:26.595Z"
   },
   {
    "duration": 180,
    "start_time": "2023-02-21T15:17:27.558Z"
   },
   {
    "duration": 53,
    "start_time": "2023-02-21T15:17:27.740Z"
   },
   {
    "duration": 3,
    "start_time": "2023-02-21T15:17:27.795Z"
   },
   {
    "duration": 1731,
    "start_time": "2023-02-21T15:17:27.799Z"
   },
   {
    "duration": 41,
    "start_time": "2023-02-21T15:17:29.531Z"
   },
   {
    "duration": 51,
    "start_time": "2023-02-21T15:17:29.573Z"
   },
   {
    "duration": 282,
    "start_time": "2023-02-21T15:17:29.625Z"
   },
   {
    "duration": 33,
    "start_time": "2023-02-21T15:17:29.908Z"
   },
   {
    "duration": 44,
    "start_time": "2023-02-21T15:17:29.942Z"
   },
   {
    "duration": 9,
    "start_time": "2023-02-21T15:17:29.988Z"
   },
   {
    "duration": 36,
    "start_time": "2023-02-21T15:17:30.020Z"
   },
   {
    "duration": 118,
    "start_time": "2023-02-21T15:17:30.058Z"
   },
   {
    "duration": 0,
    "start_time": "2023-02-21T15:17:30.179Z"
   },
   {
    "duration": 0,
    "start_time": "2023-02-21T15:17:30.180Z"
   },
   {
    "duration": 0,
    "start_time": "2023-02-21T15:17:30.181Z"
   },
   {
    "duration": 0,
    "start_time": "2023-02-21T15:17:30.183Z"
   },
   {
    "duration": 0,
    "start_time": "2023-02-21T15:17:30.184Z"
   },
   {
    "duration": 0,
    "start_time": "2023-02-21T15:17:30.185Z"
   },
   {
    "duration": 0,
    "start_time": "2023-02-21T15:17:30.186Z"
   },
   {
    "duration": 0,
    "start_time": "2023-02-21T15:17:30.188Z"
   },
   {
    "duration": 0,
    "start_time": "2023-02-21T15:17:30.189Z"
   },
   {
    "duration": 0,
    "start_time": "2023-02-21T15:17:30.190Z"
   },
   {
    "duration": 0,
    "start_time": "2023-02-21T15:17:30.191Z"
   },
   {
    "duration": 0,
    "start_time": "2023-02-21T15:17:30.193Z"
   },
   {
    "duration": 0,
    "start_time": "2023-02-21T15:17:30.194Z"
   },
   {
    "duration": 0,
    "start_time": "2023-02-21T15:17:30.221Z"
   },
   {
    "duration": 0,
    "start_time": "2023-02-21T15:17:30.223Z"
   },
   {
    "duration": 0,
    "start_time": "2023-02-21T15:17:30.223Z"
   },
   {
    "duration": 0,
    "start_time": "2023-02-21T15:17:30.225Z"
   },
   {
    "duration": 0,
    "start_time": "2023-02-21T15:17:30.226Z"
   },
   {
    "duration": 0,
    "start_time": "2023-02-21T15:17:30.227Z"
   },
   {
    "duration": 0,
    "start_time": "2023-02-21T15:17:30.228Z"
   },
   {
    "duration": 0,
    "start_time": "2023-02-21T15:17:30.230Z"
   },
   {
    "duration": 0,
    "start_time": "2023-02-21T15:17:30.231Z"
   },
   {
    "duration": 0,
    "start_time": "2023-02-21T15:17:30.232Z"
   },
   {
    "duration": 0,
    "start_time": "2023-02-21T15:17:30.233Z"
   },
   {
    "duration": 0,
    "start_time": "2023-02-21T15:17:30.235Z"
   },
   {
    "duration": 0,
    "start_time": "2023-02-21T15:17:30.236Z"
   },
   {
    "duration": 0,
    "start_time": "2023-02-21T15:17:30.237Z"
   },
   {
    "duration": 6,
    "start_time": "2023-02-21T15:27:36.557Z"
   },
   {
    "duration": 18,
    "start_time": "2023-02-21T15:33:38.268Z"
   },
   {
    "duration": 15,
    "start_time": "2023-02-21T15:33:54.913Z"
   },
   {
    "duration": 1451,
    "start_time": "2023-02-21T15:34:26.379Z"
   },
   {
    "duration": 800,
    "start_time": "2023-02-21T15:34:27.832Z"
   },
   {
    "duration": 649,
    "start_time": "2023-02-21T15:34:28.634Z"
   },
   {
    "duration": 479,
    "start_time": "2023-02-21T15:34:29.286Z"
   },
   {
    "duration": 110,
    "start_time": "2023-02-21T15:34:29.767Z"
   },
   {
    "duration": 94,
    "start_time": "2023-02-21T15:34:29.879Z"
   },
   {
    "duration": 932,
    "start_time": "2023-02-21T15:34:29.974Z"
   },
   {
    "duration": 162,
    "start_time": "2023-02-21T15:34:30.908Z"
   },
   {
    "duration": 57,
    "start_time": "2023-02-21T15:34:31.072Z"
   },
   {
    "duration": 3,
    "start_time": "2023-02-21T15:34:31.132Z"
   },
   {
    "duration": 1722,
    "start_time": "2023-02-21T15:34:31.136Z"
   },
   {
    "duration": 43,
    "start_time": "2023-02-21T15:34:32.860Z"
   },
   {
    "duration": 41,
    "start_time": "2023-02-21T15:34:32.905Z"
   },
   {
    "duration": 300,
    "start_time": "2023-02-21T15:34:32.948Z"
   },
   {
    "duration": 24,
    "start_time": "2023-02-21T15:34:33.249Z"
   },
   {
    "duration": 59,
    "start_time": "2023-02-21T15:34:33.276Z"
   },
   {
    "duration": 11,
    "start_time": "2023-02-21T15:34:33.337Z"
   },
   {
    "duration": 39,
    "start_time": "2023-02-21T15:34:33.350Z"
   },
   {
    "duration": 163,
    "start_time": "2023-02-21T15:34:33.391Z"
   },
   {
    "duration": 0,
    "start_time": "2023-02-21T15:34:33.556Z"
   },
   {
    "duration": 0,
    "start_time": "2023-02-21T15:34:33.557Z"
   },
   {
    "duration": 0,
    "start_time": "2023-02-21T15:34:33.559Z"
   },
   {
    "duration": 0,
    "start_time": "2023-02-21T15:34:33.559Z"
   },
   {
    "duration": 1,
    "start_time": "2023-02-21T15:34:33.560Z"
   },
   {
    "duration": 0,
    "start_time": "2023-02-21T15:34:33.561Z"
   },
   {
    "duration": 0,
    "start_time": "2023-02-21T15:34:33.563Z"
   },
   {
    "duration": 0,
    "start_time": "2023-02-21T15:34:33.563Z"
   },
   {
    "duration": 0,
    "start_time": "2023-02-21T15:34:33.564Z"
   },
   {
    "duration": 0,
    "start_time": "2023-02-21T15:34:33.565Z"
   },
   {
    "duration": 0,
    "start_time": "2023-02-21T15:34:33.566Z"
   },
   {
    "duration": 0,
    "start_time": "2023-02-21T15:34:33.567Z"
   },
   {
    "duration": 0,
    "start_time": "2023-02-21T15:34:33.568Z"
   },
   {
    "duration": 0,
    "start_time": "2023-02-21T15:34:33.569Z"
   },
   {
    "duration": 0,
    "start_time": "2023-02-21T15:34:33.569Z"
   },
   {
    "duration": 0,
    "start_time": "2023-02-21T15:34:33.570Z"
   },
   {
    "duration": 0,
    "start_time": "2023-02-21T15:34:33.571Z"
   },
   {
    "duration": 0,
    "start_time": "2023-02-21T15:34:33.573Z"
   },
   {
    "duration": 0,
    "start_time": "2023-02-21T15:34:33.574Z"
   },
   {
    "duration": 0,
    "start_time": "2023-02-21T15:34:33.575Z"
   },
   {
    "duration": 0,
    "start_time": "2023-02-21T15:34:33.576Z"
   },
   {
    "duration": 0,
    "start_time": "2023-02-21T15:34:33.577Z"
   },
   {
    "duration": 0,
    "start_time": "2023-02-21T15:34:33.578Z"
   },
   {
    "duration": 0,
    "start_time": "2023-02-21T15:34:33.581Z"
   },
   {
    "duration": 0,
    "start_time": "2023-02-21T15:34:33.582Z"
   },
   {
    "duration": 0,
    "start_time": "2023-02-21T15:34:33.620Z"
   },
   {
    "duration": 0,
    "start_time": "2023-02-21T15:34:33.622Z"
   },
   {
    "duration": 245,
    "start_time": "2023-02-21T15:42:35.818Z"
   },
   {
    "duration": 100,
    "start_time": "2023-02-21T15:44:11.352Z"
   },
   {
    "duration": 94,
    "start_time": "2023-02-21T15:44:54.809Z"
   },
   {
    "duration": 415,
    "start_time": "2023-02-21T15:47:22.791Z"
   },
   {
    "duration": 458,
    "start_time": "2023-02-21T15:47:47.513Z"
   },
   {
    "duration": 10,
    "start_time": "2023-02-21T15:47:49.924Z"
   },
   {
    "duration": 13,
    "start_time": "2023-02-21T15:50:21.324Z"
   },
   {
    "duration": 14,
    "start_time": "2023-02-21T15:51:15.727Z"
   },
   {
    "duration": 52,
    "start_time": "2023-02-21T15:51:48.092Z"
   },
   {
    "duration": 55,
    "start_time": "2023-02-21T15:51:56.605Z"
   },
   {
    "duration": 292,
    "start_time": "2023-02-21T15:52:05.022Z"
   },
   {
    "duration": 305,
    "start_time": "2023-02-21T15:52:44.388Z"
   },
   {
    "duration": 296,
    "start_time": "2023-02-21T15:54:00.403Z"
   },
   {
    "duration": 287,
    "start_time": "2023-02-21T15:55:44.913Z"
   },
   {
    "duration": 1475,
    "start_time": "2023-02-21T15:56:07.686Z"
   },
   {
    "duration": 914,
    "start_time": "2023-02-21T15:56:09.163Z"
   },
   {
    "duration": 796,
    "start_time": "2023-02-21T15:56:10.079Z"
   },
   {
    "duration": 570,
    "start_time": "2023-02-21T15:56:10.877Z"
   },
   {
    "duration": 145,
    "start_time": "2023-02-21T15:56:11.450Z"
   },
   {
    "duration": 104,
    "start_time": "2023-02-21T15:56:11.597Z"
   },
   {
    "duration": 1061,
    "start_time": "2023-02-21T15:56:11.703Z"
   },
   {
    "duration": 191,
    "start_time": "2023-02-21T15:56:12.766Z"
   },
   {
    "duration": 74,
    "start_time": "2023-02-21T15:56:12.958Z"
   },
   {
    "duration": 2,
    "start_time": "2023-02-21T15:56:13.034Z"
   },
   {
    "duration": 1894,
    "start_time": "2023-02-21T15:56:13.038Z"
   },
   {
    "duration": 43,
    "start_time": "2023-02-21T15:56:14.934Z"
   },
   {
    "duration": 52,
    "start_time": "2023-02-21T15:56:14.979Z"
   },
   {
    "duration": 322,
    "start_time": "2023-02-21T15:56:15.035Z"
   },
   {
    "duration": 26,
    "start_time": "2023-02-21T15:56:15.358Z"
   },
   {
    "duration": 62,
    "start_time": "2023-02-21T15:56:15.385Z"
   },
   {
    "duration": 11,
    "start_time": "2023-02-21T15:56:15.449Z"
   },
   {
    "duration": 40,
    "start_time": "2023-02-21T15:56:15.462Z"
   },
   {
    "duration": 600,
    "start_time": "2023-02-21T15:56:15.521Z"
   },
   {
    "duration": 0,
    "start_time": "2023-02-21T15:56:16.123Z"
   },
   {
    "duration": 0,
    "start_time": "2023-02-21T15:56:16.124Z"
   },
   {
    "duration": 0,
    "start_time": "2023-02-21T15:56:16.126Z"
   },
   {
    "duration": 0,
    "start_time": "2023-02-21T15:56:16.127Z"
   },
   {
    "duration": 0,
    "start_time": "2023-02-21T15:56:16.128Z"
   },
   {
    "duration": 0,
    "start_time": "2023-02-21T15:56:16.129Z"
   },
   {
    "duration": 0,
    "start_time": "2023-02-21T15:56:16.130Z"
   },
   {
    "duration": 0,
    "start_time": "2023-02-21T15:56:16.132Z"
   },
   {
    "duration": 0,
    "start_time": "2023-02-21T15:56:16.133Z"
   },
   {
    "duration": 0,
    "start_time": "2023-02-21T15:56:16.134Z"
   },
   {
    "duration": 0,
    "start_time": "2023-02-21T15:56:16.135Z"
   },
   {
    "duration": 0,
    "start_time": "2023-02-21T15:56:16.136Z"
   },
   {
    "duration": 0,
    "start_time": "2023-02-21T15:56:16.137Z"
   },
   {
    "duration": 0,
    "start_time": "2023-02-21T15:56:16.138Z"
   },
   {
    "duration": 0,
    "start_time": "2023-02-21T15:56:16.139Z"
   },
   {
    "duration": 0,
    "start_time": "2023-02-21T15:56:16.141Z"
   },
   {
    "duration": 0,
    "start_time": "2023-02-21T15:56:16.142Z"
   },
   {
    "duration": 0,
    "start_time": "2023-02-21T15:56:16.143Z"
   },
   {
    "duration": 0,
    "start_time": "2023-02-21T15:56:16.144Z"
   },
   {
    "duration": 0,
    "start_time": "2023-02-21T15:56:16.145Z"
   },
   {
    "duration": 0,
    "start_time": "2023-02-21T15:56:16.146Z"
   },
   {
    "duration": 0,
    "start_time": "2023-02-21T15:56:16.148Z"
   },
   {
    "duration": 0,
    "start_time": "2023-02-21T15:56:16.149Z"
   },
   {
    "duration": 0,
    "start_time": "2023-02-21T15:56:16.150Z"
   },
   {
    "duration": 0,
    "start_time": "2023-02-21T15:56:16.151Z"
   },
   {
    "duration": 0,
    "start_time": "2023-02-21T15:56:16.152Z"
   },
   {
    "duration": 0,
    "start_time": "2023-02-21T15:56:16.153Z"
   },
   {
    "duration": 286,
    "start_time": "2023-02-21T15:58:21.474Z"
   },
   {
    "duration": 280,
    "start_time": "2023-02-21T15:58:40.158Z"
   },
   {
    "duration": 103,
    "start_time": "2023-02-21T16:13:56.528Z"
   },
   {
    "duration": 260,
    "start_time": "2023-02-21T16:14:07.295Z"
   },
   {
    "duration": 21,
    "start_time": "2023-02-21T16:15:58.784Z"
   },
   {
    "duration": 853,
    "start_time": "2023-02-21T16:16:06.399Z"
   },
   {
    "duration": 214,
    "start_time": "2023-02-21T16:16:37.444Z"
   },
   {
    "duration": 3965,
    "start_time": "2023-02-21T16:17:22.495Z"
   },
   {
    "duration": 1389,
    "start_time": "2023-02-21T16:19:59.046Z"
   },
   {
    "duration": 851,
    "start_time": "2023-02-21T16:20:00.437Z"
   },
   {
    "duration": 817,
    "start_time": "2023-02-21T16:20:01.290Z"
   },
   {
    "duration": 655,
    "start_time": "2023-02-21T16:20:02.109Z"
   },
   {
    "duration": 126,
    "start_time": "2023-02-21T16:20:02.766Z"
   },
   {
    "duration": 110,
    "start_time": "2023-02-21T16:20:02.894Z"
   },
   {
    "duration": 946,
    "start_time": "2023-02-21T16:20:03.006Z"
   },
   {
    "duration": 188,
    "start_time": "2023-02-21T16:20:03.954Z"
   },
   {
    "duration": 57,
    "start_time": "2023-02-21T16:20:04.144Z"
   },
   {
    "duration": 18,
    "start_time": "2023-02-21T16:20:04.203Z"
   },
   {
    "duration": 1847,
    "start_time": "2023-02-21T16:20:04.223Z"
   },
   {
    "duration": 53,
    "start_time": "2023-02-21T16:20:06.072Z"
   },
   {
    "duration": 34,
    "start_time": "2023-02-21T16:20:06.127Z"
   },
   {
    "duration": 363,
    "start_time": "2023-02-21T16:20:06.164Z"
   },
   {
    "duration": 25,
    "start_time": "2023-02-21T16:20:06.529Z"
   },
   {
    "duration": 61,
    "start_time": "2023-02-21T16:20:06.556Z"
   },
   {
    "duration": 9,
    "start_time": "2023-02-21T16:20:06.619Z"
   },
   {
    "duration": 35,
    "start_time": "2023-02-21T16:20:06.629Z"
   },
   {
    "duration": 4569,
    "start_time": "2023-02-21T16:20:06.666Z"
   },
   {
    "duration": 3,
    "start_time": "2023-02-21T16:20:11.236Z"
   },
   {
    "duration": 27,
    "start_time": "2023-02-21T16:20:11.241Z"
   },
   {
    "duration": 5,
    "start_time": "2023-02-21T16:20:11.270Z"
   },
   {
    "duration": 3,
    "start_time": "2023-02-21T16:20:11.277Z"
   },
   {
    "duration": 246,
    "start_time": "2023-02-21T16:20:11.282Z"
   },
   {
    "duration": 53,
    "start_time": "2023-02-21T16:20:11.530Z"
   },
   {
    "duration": 65,
    "start_time": "2023-02-21T16:20:11.585Z"
   },
   {
    "duration": 2,
    "start_time": "2023-02-21T16:20:11.652Z"
   },
   {
    "duration": 5,
    "start_time": "2023-02-21T16:20:11.656Z"
   },
   {
    "duration": 1827,
    "start_time": "2023-02-21T16:20:11.663Z"
   },
   {
    "duration": 57,
    "start_time": "2023-02-21T16:20:13.492Z"
   },
   {
    "duration": 58,
    "start_time": "2023-02-21T16:20:13.551Z"
   },
   {
    "duration": 2,
    "start_time": "2023-02-21T16:20:13.611Z"
   },
   {
    "duration": 7,
    "start_time": "2023-02-21T16:20:13.615Z"
   },
   {
    "duration": 7,
    "start_time": "2023-02-21T16:20:13.624Z"
   },
   {
    "duration": 5,
    "start_time": "2023-02-21T16:20:13.633Z"
   },
   {
    "duration": 8,
    "start_time": "2023-02-21T16:20:13.640Z"
   },
   {
    "duration": 85,
    "start_time": "2023-02-21T16:20:13.650Z"
   },
   {
    "duration": 58,
    "start_time": "2023-02-21T16:20:13.736Z"
   },
   {
    "duration": 54,
    "start_time": "2023-02-21T16:20:13.796Z"
   },
   {
    "duration": 3,
    "start_time": "2023-02-21T16:20:13.852Z"
   },
   {
    "duration": 5,
    "start_time": "2023-02-21T16:20:13.859Z"
   },
   {
    "duration": 6,
    "start_time": "2023-02-21T16:20:13.866Z"
   },
   {
    "duration": 5,
    "start_time": "2023-02-21T16:20:13.873Z"
   },
   {
    "duration": 121,
    "start_time": "2023-02-21T16:20:13.880Z"
   },
   {
    "duration": 58,
    "start_time": "2023-02-21T16:20:14.003Z"
   },
   {
    "duration": 52,
    "start_time": "2023-02-21T16:20:14.063Z"
   },
   {
    "duration": 10562,
    "start_time": "2023-02-21T16:20:14.117Z"
   },
   {
    "duration": 119,
    "start_time": "2023-02-21T16:23:17.308Z"
   },
   {
    "duration": 4459,
    "start_time": "2023-02-21T16:24:08.575Z"
   },
   {
    "duration": 2597,
    "start_time": "2023-02-21T16:24:13.035Z"
   },
   {
    "duration": 783,
    "start_time": "2023-02-21T16:24:15.635Z"
   },
   {
    "duration": 558,
    "start_time": "2023-02-21T16:24:16.421Z"
   },
   {
    "duration": 140,
    "start_time": "2023-02-21T16:24:16.981Z"
   },
   {
    "duration": 105,
    "start_time": "2023-02-21T16:24:17.123Z"
   },
   {
    "duration": 1042,
    "start_time": "2023-02-21T16:24:17.229Z"
   },
   {
    "duration": 200,
    "start_time": "2023-02-21T16:24:18.273Z"
   },
   {
    "duration": 68,
    "start_time": "2023-02-21T16:24:18.474Z"
   },
   {
    "duration": 2,
    "start_time": "2023-02-21T16:24:18.544Z"
   },
   {
    "duration": 1817,
    "start_time": "2023-02-21T16:24:18.548Z"
   },
   {
    "duration": 56,
    "start_time": "2023-02-21T16:24:20.368Z"
   },
   {
    "duration": 38,
    "start_time": "2023-02-21T16:24:20.428Z"
   },
   {
    "duration": 365,
    "start_time": "2023-02-21T16:24:20.468Z"
   },
   {
    "duration": 35,
    "start_time": "2023-02-21T16:24:20.835Z"
   },
   {
    "duration": 66,
    "start_time": "2023-02-21T16:24:20.872Z"
   },
   {
    "duration": 17,
    "start_time": "2023-02-21T16:24:20.940Z"
   },
   {
    "duration": 68,
    "start_time": "2023-02-21T16:24:20.959Z"
   },
   {
    "duration": 0,
    "start_time": "2023-02-21T16:24:56.526Z"
   },
   {
    "duration": 0,
    "start_time": "2023-02-21T16:24:56.528Z"
   },
   {
    "duration": 0,
    "start_time": "2023-02-21T16:24:56.529Z"
   },
   {
    "duration": 0,
    "start_time": "2023-02-21T16:24:56.530Z"
   },
   {
    "duration": 0,
    "start_time": "2023-02-21T16:24:56.532Z"
   },
   {
    "duration": 0,
    "start_time": "2023-02-21T16:24:56.533Z"
   },
   {
    "duration": 0,
    "start_time": "2023-02-21T16:24:56.534Z"
   },
   {
    "duration": 0,
    "start_time": "2023-02-21T16:24:56.535Z"
   },
   {
    "duration": 0,
    "start_time": "2023-02-21T16:24:56.536Z"
   },
   {
    "duration": 0,
    "start_time": "2023-02-21T16:24:56.537Z"
   },
   {
    "duration": 0,
    "start_time": "2023-02-21T16:24:56.538Z"
   },
   {
    "duration": 0,
    "start_time": "2023-02-21T16:24:56.540Z"
   },
   {
    "duration": 0,
    "start_time": "2023-02-21T16:24:56.541Z"
   },
   {
    "duration": 0,
    "start_time": "2023-02-21T16:24:56.542Z"
   },
   {
    "duration": 0,
    "start_time": "2023-02-21T16:24:56.543Z"
   },
   {
    "duration": 0,
    "start_time": "2023-02-21T16:24:56.544Z"
   },
   {
    "duration": 0,
    "start_time": "2023-02-21T16:24:56.545Z"
   },
   {
    "duration": 0,
    "start_time": "2023-02-21T16:24:56.546Z"
   },
   {
    "duration": 0,
    "start_time": "2023-02-21T16:24:56.548Z"
   },
   {
    "duration": 0,
    "start_time": "2023-02-21T16:24:56.549Z"
   },
   {
    "duration": 0,
    "start_time": "2023-02-21T16:24:56.550Z"
   },
   {
    "duration": 0,
    "start_time": "2023-02-21T16:24:56.552Z"
   },
   {
    "duration": 0,
    "start_time": "2023-02-21T16:24:56.553Z"
   },
   {
    "duration": 0,
    "start_time": "2023-02-21T16:24:56.554Z"
   },
   {
    "duration": 0,
    "start_time": "2023-02-21T16:24:56.556Z"
   },
   {
    "duration": 0,
    "start_time": "2023-02-21T16:24:56.557Z"
   },
   {
    "duration": 0,
    "start_time": "2023-02-21T16:24:56.558Z"
   },
   {
    "duration": 0,
    "start_time": "2023-02-21T16:24:56.620Z"
   },
   {
    "duration": 0,
    "start_time": "2023-02-21T16:24:56.622Z"
   },
   {
    "duration": 0,
    "start_time": "2023-02-21T16:24:56.623Z"
   },
   {
    "duration": 0,
    "start_time": "2023-02-21T16:24:56.624Z"
   },
   {
    "duration": 0,
    "start_time": "2023-02-21T16:24:56.625Z"
   },
   {
    "duration": 0,
    "start_time": "2023-02-21T16:24:56.627Z"
   },
   {
    "duration": 0,
    "start_time": "2023-02-21T16:24:56.628Z"
   },
   {
    "duration": 0,
    "start_time": "2023-02-21T16:24:56.630Z"
   },
   {
    "duration": 0,
    "start_time": "2023-02-21T16:24:56.631Z"
   },
   {
    "duration": 0,
    "start_time": "2023-02-21T16:24:56.632Z"
   },
   {
    "duration": 0,
    "start_time": "2023-02-21T16:24:56.634Z"
   },
   {
    "duration": 0,
    "start_time": "2023-02-21T16:24:56.636Z"
   },
   {
    "duration": 0,
    "start_time": "2023-02-21T16:24:56.636Z"
   },
   {
    "duration": 0,
    "start_time": "2023-02-21T16:24:56.638Z"
   },
   {
    "duration": 0,
    "start_time": "2023-02-21T16:24:56.639Z"
   },
   {
    "duration": 0,
    "start_time": "2023-02-21T16:24:56.640Z"
   },
   {
    "duration": 0,
    "start_time": "2023-02-21T16:24:56.642Z"
   },
   {
    "duration": 0,
    "start_time": "2023-02-21T16:24:56.643Z"
   },
   {
    "duration": 0,
    "start_time": "2023-02-21T16:24:56.644Z"
   },
   {
    "duration": 0,
    "start_time": "2023-02-21T16:24:56.645Z"
   },
   {
    "duration": 3236,
    "start_time": "2023-02-21T16:25:13.075Z"
   },
   {
    "duration": 2213,
    "start_time": "2023-02-21T16:25:16.313Z"
   },
   {
    "duration": 804,
    "start_time": "2023-02-21T16:25:18.528Z"
   },
   {
    "duration": 598,
    "start_time": "2023-02-21T16:25:19.334Z"
   },
   {
    "duration": 131,
    "start_time": "2023-02-21T16:25:19.934Z"
   },
   {
    "duration": 109,
    "start_time": "2023-02-21T16:25:20.067Z"
   },
   {
    "duration": 965,
    "start_time": "2023-02-21T16:25:20.178Z"
   },
   {
    "duration": 176,
    "start_time": "2023-02-21T16:25:21.145Z"
   },
   {
    "duration": 58,
    "start_time": "2023-02-21T16:25:21.322Z"
   },
   {
    "duration": 3,
    "start_time": "2023-02-21T16:25:21.383Z"
   },
   {
    "duration": 1841,
    "start_time": "2023-02-21T16:25:21.387Z"
   },
   {
    "duration": 44,
    "start_time": "2023-02-21T16:25:23.230Z"
   },
   {
    "duration": 45,
    "start_time": "2023-02-21T16:25:23.276Z"
   },
   {
    "duration": 302,
    "start_time": "2023-02-21T16:25:23.323Z"
   },
   {
    "duration": 33,
    "start_time": "2023-02-21T16:25:23.628Z"
   },
   {
    "duration": 63,
    "start_time": "2023-02-21T16:25:23.663Z"
   },
   {
    "duration": 11,
    "start_time": "2023-02-21T16:25:23.728Z"
   },
   {
    "duration": 38,
    "start_time": "2023-02-21T16:25:23.741Z"
   },
   {
    "duration": 48250,
    "start_time": "2023-02-21T16:25:23.781Z"
   },
   {
    "duration": 0,
    "start_time": "2023-02-21T16:26:12.033Z"
   },
   {
    "duration": 0,
    "start_time": "2023-02-21T16:26:12.034Z"
   },
   {
    "duration": 0,
    "start_time": "2023-02-21T16:26:12.035Z"
   },
   {
    "duration": 0,
    "start_time": "2023-02-21T16:26:12.036Z"
   },
   {
    "duration": 0,
    "start_time": "2023-02-21T16:26:12.037Z"
   },
   {
    "duration": 0,
    "start_time": "2023-02-21T16:26:12.038Z"
   },
   {
    "duration": 0,
    "start_time": "2023-02-21T16:26:12.039Z"
   },
   {
    "duration": 0,
    "start_time": "2023-02-21T16:26:12.040Z"
   },
   {
    "duration": 0,
    "start_time": "2023-02-21T16:26:12.041Z"
   },
   {
    "duration": 0,
    "start_time": "2023-02-21T16:26:12.042Z"
   },
   {
    "duration": 0,
    "start_time": "2023-02-21T16:26:12.043Z"
   },
   {
    "duration": 0,
    "start_time": "2023-02-21T16:26:12.044Z"
   },
   {
    "duration": 0,
    "start_time": "2023-02-21T16:26:12.045Z"
   },
   {
    "duration": 0,
    "start_time": "2023-02-21T16:26:12.046Z"
   },
   {
    "duration": 0,
    "start_time": "2023-02-21T16:26:12.047Z"
   },
   {
    "duration": 0,
    "start_time": "2023-02-21T16:26:12.048Z"
   },
   {
    "duration": 0,
    "start_time": "2023-02-21T16:26:12.049Z"
   },
   {
    "duration": 0,
    "start_time": "2023-02-21T16:26:12.050Z"
   },
   {
    "duration": 0,
    "start_time": "2023-02-21T16:26:12.051Z"
   },
   {
    "duration": 0,
    "start_time": "2023-02-21T16:26:12.052Z"
   },
   {
    "duration": 0,
    "start_time": "2023-02-21T16:26:12.053Z"
   },
   {
    "duration": 0,
    "start_time": "2023-02-21T16:26:12.054Z"
   },
   {
    "duration": 0,
    "start_time": "2023-02-21T16:26:12.055Z"
   },
   {
    "duration": 0,
    "start_time": "2023-02-21T16:26:12.056Z"
   },
   {
    "duration": 0,
    "start_time": "2023-02-21T16:26:12.057Z"
   },
   {
    "duration": 1,
    "start_time": "2023-02-21T16:26:12.058Z"
   },
   {
    "duration": 0,
    "start_time": "2023-02-21T16:26:12.060Z"
   },
   {
    "duration": 6801,
    "start_time": "2023-02-21T16:27:08.377Z"
   },
   {
    "duration": 28,
    "start_time": "2023-02-21T16:27:19.216Z"
   },
   {
    "duration": 13,
    "start_time": "2023-02-21T16:27:36.289Z"
   },
   {
    "duration": 14,
    "start_time": "2023-02-21T16:28:17.041Z"
   },
   {
    "duration": 12,
    "start_time": "2023-02-21T16:28:35.345Z"
   },
   {
    "duration": 26,
    "start_time": "2023-02-21T16:28:45.149Z"
   },
   {
    "duration": 4,
    "start_time": "2023-02-21T16:28:58.943Z"
   },
   {
    "duration": 3,
    "start_time": "2023-02-21T16:29:01.446Z"
   },
   {
    "duration": 163,
    "start_time": "2023-02-21T16:29:03.732Z"
   },
   {
    "duration": 1468,
    "start_time": "2023-02-21T16:29:42.367Z"
   },
   {
    "duration": 937,
    "start_time": "2023-02-21T16:29:43.836Z"
   },
   {
    "duration": 834,
    "start_time": "2023-02-21T16:29:44.776Z"
   },
   {
    "duration": 595,
    "start_time": "2023-02-21T16:29:45.612Z"
   },
   {
    "duration": 135,
    "start_time": "2023-02-21T16:29:46.209Z"
   },
   {
    "duration": 113,
    "start_time": "2023-02-21T16:29:46.346Z"
   },
   {
    "duration": 1047,
    "start_time": "2023-02-21T16:29:46.461Z"
   },
   {
    "duration": 196,
    "start_time": "2023-02-21T16:29:47.510Z"
   },
   {
    "duration": 64,
    "start_time": "2023-02-21T16:29:47.708Z"
   },
   {
    "duration": 2,
    "start_time": "2023-02-21T16:29:47.776Z"
   },
   {
    "duration": 1836,
    "start_time": "2023-02-21T16:29:47.781Z"
   },
   {
    "duration": 48,
    "start_time": "2023-02-21T16:29:49.619Z"
   },
   {
    "duration": 54,
    "start_time": "2023-02-21T16:29:49.668Z"
   },
   {
    "duration": 299,
    "start_time": "2023-02-21T16:29:49.724Z"
   },
   {
    "duration": 32,
    "start_time": "2023-02-21T16:29:50.025Z"
   },
   {
    "duration": 63,
    "start_time": "2023-02-21T16:29:50.059Z"
   },
   {
    "duration": 23,
    "start_time": "2023-02-21T16:29:50.124Z"
   },
   {
    "duration": 49,
    "start_time": "2023-02-21T16:29:50.149Z"
   },
   {
    "duration": 6982,
    "start_time": "2023-02-21T16:29:50.200Z"
   },
   {
    "duration": 124,
    "start_time": "2023-02-21T16:29:57.184Z"
   },
   {
    "duration": 0,
    "start_time": "2023-02-21T16:29:57.310Z"
   },
   {
    "duration": 0,
    "start_time": "2023-02-21T16:29:57.311Z"
   },
   {
    "duration": 0,
    "start_time": "2023-02-21T16:29:57.312Z"
   },
   {
    "duration": 0,
    "start_time": "2023-02-21T16:29:57.320Z"
   },
   {
    "duration": 0,
    "start_time": "2023-02-21T16:29:57.321Z"
   },
   {
    "duration": 0,
    "start_time": "2023-02-21T16:29:57.323Z"
   },
   {
    "duration": 0,
    "start_time": "2023-02-21T16:29:57.324Z"
   },
   {
    "duration": 0,
    "start_time": "2023-02-21T16:29:57.325Z"
   },
   {
    "duration": 0,
    "start_time": "2023-02-21T16:29:57.326Z"
   },
   {
    "duration": 0,
    "start_time": "2023-02-21T16:29:57.327Z"
   },
   {
    "duration": 0,
    "start_time": "2023-02-21T16:29:57.328Z"
   },
   {
    "duration": 0,
    "start_time": "2023-02-21T16:29:57.329Z"
   },
   {
    "duration": 0,
    "start_time": "2023-02-21T16:29:57.331Z"
   },
   {
    "duration": 0,
    "start_time": "2023-02-21T16:29:57.332Z"
   },
   {
    "duration": 0,
    "start_time": "2023-02-21T16:29:57.333Z"
   },
   {
    "duration": 0,
    "start_time": "2023-02-21T16:29:57.334Z"
   },
   {
    "duration": 0,
    "start_time": "2023-02-21T16:29:57.335Z"
   },
   {
    "duration": 0,
    "start_time": "2023-02-21T16:29:57.336Z"
   },
   {
    "duration": 0,
    "start_time": "2023-02-21T16:29:57.337Z"
   },
   {
    "duration": 0,
    "start_time": "2023-02-21T16:29:57.338Z"
   },
   {
    "duration": 0,
    "start_time": "2023-02-21T16:29:57.339Z"
   },
   {
    "duration": 0,
    "start_time": "2023-02-21T16:29:57.340Z"
   },
   {
    "duration": 0,
    "start_time": "2023-02-21T16:29:57.341Z"
   },
   {
    "duration": 0,
    "start_time": "2023-02-21T16:29:57.342Z"
   },
   {
    "duration": 0,
    "start_time": "2023-02-21T16:29:57.343Z"
   },
   {
    "duration": 0,
    "start_time": "2023-02-21T16:29:57.344Z"
   },
   {
    "duration": 0,
    "start_time": "2023-02-21T16:29:57.346Z"
   },
   {
    "duration": 4,
    "start_time": "2023-02-21T16:30:26.942Z"
   },
   {
    "duration": 837,
    "start_time": "2023-02-21T16:30:26.948Z"
   },
   {
    "duration": 692,
    "start_time": "2023-02-21T16:30:27.787Z"
   },
   {
    "duration": 505,
    "start_time": "2023-02-21T16:30:28.481Z"
   },
   {
    "duration": 135,
    "start_time": "2023-02-21T16:30:28.988Z"
   },
   {
    "duration": 104,
    "start_time": "2023-02-21T16:30:29.125Z"
   },
   {
    "duration": 974,
    "start_time": "2023-02-21T16:30:29.231Z"
   },
   {
    "duration": 168,
    "start_time": "2023-02-21T16:30:30.207Z"
   },
   {
    "duration": 70,
    "start_time": "2023-02-21T16:30:30.377Z"
   },
   {
    "duration": 3,
    "start_time": "2023-02-21T16:30:30.448Z"
   },
   {
    "duration": 1752,
    "start_time": "2023-02-21T16:30:30.453Z"
   },
   {
    "duration": 55,
    "start_time": "2023-02-21T16:30:32.207Z"
   },
   {
    "duration": 40,
    "start_time": "2023-02-21T16:30:32.264Z"
   },
   {
    "duration": 324,
    "start_time": "2023-02-21T16:30:32.306Z"
   },
   {
    "duration": 28,
    "start_time": "2023-02-21T16:30:32.632Z"
   },
   {
    "duration": 64,
    "start_time": "2023-02-21T16:30:32.662Z"
   },
   {
    "duration": 12,
    "start_time": "2023-02-21T16:30:32.728Z"
   },
   {
    "duration": 48,
    "start_time": "2023-02-21T16:30:32.742Z"
   },
   {
    "duration": 6552,
    "start_time": "2023-02-21T16:30:32.792Z"
   },
   {
    "duration": 10,
    "start_time": "2023-02-21T16:30:39.346Z"
   },
   {
    "duration": 0,
    "start_time": "2023-02-21T16:30:39.357Z"
   },
   {
    "duration": 0,
    "start_time": "2023-02-21T16:30:39.359Z"
   },
   {
    "duration": 0,
    "start_time": "2023-02-21T16:30:39.360Z"
   },
   {
    "duration": 0,
    "start_time": "2023-02-21T16:30:39.361Z"
   },
   {
    "duration": 0,
    "start_time": "2023-02-21T16:30:39.362Z"
   },
   {
    "duration": 0,
    "start_time": "2023-02-21T16:30:39.363Z"
   },
   {
    "duration": 0,
    "start_time": "2023-02-21T16:30:39.364Z"
   },
   {
    "duration": 0,
    "start_time": "2023-02-21T16:30:39.366Z"
   },
   {
    "duration": 0,
    "start_time": "2023-02-21T16:30:39.367Z"
   },
   {
    "duration": 0,
    "start_time": "2023-02-21T16:30:39.368Z"
   },
   {
    "duration": 0,
    "start_time": "2023-02-21T16:30:39.369Z"
   },
   {
    "duration": 0,
    "start_time": "2023-02-21T16:30:39.371Z"
   },
   {
    "duration": 0,
    "start_time": "2023-02-21T16:30:39.372Z"
   },
   {
    "duration": 0,
    "start_time": "2023-02-21T16:30:39.373Z"
   },
   {
    "duration": 0,
    "start_time": "2023-02-21T16:30:39.374Z"
   },
   {
    "duration": 0,
    "start_time": "2023-02-21T16:30:39.375Z"
   },
   {
    "duration": 0,
    "start_time": "2023-02-21T16:30:39.376Z"
   },
   {
    "duration": 0,
    "start_time": "2023-02-21T16:30:39.377Z"
   },
   {
    "duration": 0,
    "start_time": "2023-02-21T16:30:39.378Z"
   },
   {
    "duration": 0,
    "start_time": "2023-02-21T16:30:39.420Z"
   },
   {
    "duration": 0,
    "start_time": "2023-02-21T16:30:39.422Z"
   },
   {
    "duration": 0,
    "start_time": "2023-02-21T16:30:39.423Z"
   },
   {
    "duration": 0,
    "start_time": "2023-02-21T16:30:39.424Z"
   },
   {
    "duration": 0,
    "start_time": "2023-02-21T16:30:39.425Z"
   },
   {
    "duration": 0,
    "start_time": "2023-02-21T16:30:39.426Z"
   },
   {
    "duration": 0,
    "start_time": "2023-02-21T16:30:39.428Z"
   },
   {
    "duration": 0,
    "start_time": "2023-02-21T16:30:39.429Z"
   },
   {
    "duration": 3,
    "start_time": "2023-02-21T16:31:34.220Z"
   },
   {
    "duration": 26,
    "start_time": "2023-02-21T16:31:34.228Z"
   },
   {
    "duration": 4,
    "start_time": "2023-02-21T16:31:34.257Z"
   },
   {
    "duration": 4,
    "start_time": "2023-02-21T16:31:34.263Z"
   },
   {
    "duration": 70,
    "start_time": "2023-02-21T16:31:34.269Z"
   },
   {
    "duration": 82,
    "start_time": "2023-02-21T16:31:34.343Z"
   },
   {
    "duration": 94,
    "start_time": "2023-02-21T16:31:34.428Z"
   },
   {
    "duration": 25,
    "start_time": "2023-02-21T16:31:34.524Z"
   },
   {
    "duration": 16,
    "start_time": "2023-02-21T16:31:34.551Z"
   },
   {
    "duration": 951,
    "start_time": "2023-02-21T16:31:34.570Z"
   },
   {
    "duration": 20,
    "start_time": "2023-02-21T16:31:35.523Z"
   },
   {
    "duration": 59,
    "start_time": "2023-02-21T16:31:35.544Z"
   },
   {
    "duration": 15,
    "start_time": "2023-02-21T16:31:35.605Z"
   },
   {
    "duration": 11,
    "start_time": "2023-02-21T16:31:35.622Z"
   },
   {
    "duration": 24,
    "start_time": "2023-02-21T16:31:35.635Z"
   },
   {
    "duration": 6,
    "start_time": "2023-02-21T16:31:35.660Z"
   },
   {
    "duration": 6,
    "start_time": "2023-02-21T16:31:35.668Z"
   },
   {
    "duration": 3256,
    "start_time": "2023-02-21T16:31:35.676Z"
   },
   {
    "duration": 1187,
    "start_time": "2023-02-21T16:31:38.934Z"
   },
   {
    "duration": 6,
    "start_time": "2023-02-21T16:31:40.122Z"
   },
   {
    "duration": 4,
    "start_time": "2023-02-21T16:31:40.129Z"
   },
   {
    "duration": 5,
    "start_time": "2023-02-21T16:31:40.135Z"
   },
   {
    "duration": 7,
    "start_time": "2023-02-21T16:31:40.141Z"
   },
   {
    "duration": 4,
    "start_time": "2023-02-21T16:31:40.149Z"
   },
   {
    "duration": 490,
    "start_time": "2023-02-21T16:31:40.155Z"
   },
   {
    "duration": 64,
    "start_time": "2023-02-21T16:31:40.646Z"
   },
   {
    "duration": 6,
    "start_time": "2023-02-21T16:31:40.721Z"
   },
   {
    "duration": 11496,
    "start_time": "2023-02-21T16:31:40.729Z"
   },
   {
    "duration": 9377,
    "start_time": "2023-02-21T16:46:07.669Z"
   },
   {
    "duration": 1696,
    "start_time": "2023-02-21T16:51:31.242Z"
   },
   {
    "duration": 948,
    "start_time": "2023-02-21T16:51:32.941Z"
   },
   {
    "duration": 824,
    "start_time": "2023-02-21T16:51:33.891Z"
   },
   {
    "duration": 551,
    "start_time": "2023-02-21T16:51:34.718Z"
   },
   {
    "duration": 134,
    "start_time": "2023-02-21T16:51:35.270Z"
   },
   {
    "duration": 116,
    "start_time": "2023-02-21T16:51:35.405Z"
   },
   {
    "duration": 949,
    "start_time": "2023-02-21T16:51:35.522Z"
   },
   {
    "duration": 165,
    "start_time": "2023-02-21T16:51:36.473Z"
   },
   {
    "duration": 55,
    "start_time": "2023-02-21T16:51:36.639Z"
   },
   {
    "duration": 2,
    "start_time": "2023-02-21T16:51:36.697Z"
   },
   {
    "duration": 1746,
    "start_time": "2023-02-21T16:51:36.701Z"
   },
   {
    "duration": 50,
    "start_time": "2023-02-21T16:51:38.451Z"
   },
   {
    "duration": 48,
    "start_time": "2023-02-21T16:51:38.503Z"
   },
   {
    "duration": 295,
    "start_time": "2023-02-21T16:51:38.553Z"
   },
   {
    "duration": 26,
    "start_time": "2023-02-21T16:51:38.849Z"
   },
   {
    "duration": 61,
    "start_time": "2023-02-21T16:51:38.877Z"
   },
   {
    "duration": 12,
    "start_time": "2023-02-21T16:51:38.939Z"
   },
   {
    "duration": 38,
    "start_time": "2023-02-21T16:51:38.952Z"
   },
   {
    "duration": 5290,
    "start_time": "2023-02-21T16:51:38.992Z"
   },
   {
    "duration": 3,
    "start_time": "2023-02-21T16:51:44.283Z"
   },
   {
    "duration": 36,
    "start_time": "2023-02-21T16:51:44.288Z"
   },
   {
    "duration": 4,
    "start_time": "2023-02-21T16:51:44.327Z"
   },
   {
    "duration": 11,
    "start_time": "2023-02-21T16:51:44.333Z"
   },
   {
    "duration": 76,
    "start_time": "2023-02-21T16:51:44.346Z"
   },
   {
    "duration": 98,
    "start_time": "2023-02-21T16:51:44.425Z"
   },
   {
    "duration": 121,
    "start_time": "2023-02-21T16:51:44.525Z"
   },
   {
    "duration": 13,
    "start_time": "2023-02-21T16:51:44.648Z"
   },
   {
    "duration": 13,
    "start_time": "2023-02-21T16:51:44.666Z"
   },
   {
    "duration": 935,
    "start_time": "2023-02-21T16:51:44.681Z"
   },
   {
    "duration": 28,
    "start_time": "2023-02-21T16:51:45.619Z"
   },
   {
    "duration": 6,
    "start_time": "2023-02-21T16:51:45.650Z"
   },
   {
    "duration": 5,
    "start_time": "2023-02-21T16:51:45.658Z"
   },
   {
    "duration": 5,
    "start_time": "2023-02-21T16:51:45.665Z"
   },
   {
    "duration": 9,
    "start_time": "2023-02-21T16:51:45.672Z"
   },
   {
    "duration": 5,
    "start_time": "2023-02-21T16:51:45.683Z"
   },
   {
    "duration": 5,
    "start_time": "2023-02-21T16:51:45.689Z"
   },
   {
    "duration": 1497,
    "start_time": "2023-02-21T16:57:03.412Z"
   },
   {
    "duration": 845,
    "start_time": "2023-02-21T16:57:04.911Z"
   },
   {
    "duration": 709,
    "start_time": "2023-02-21T16:57:05.758Z"
   },
   {
    "duration": 519,
    "start_time": "2023-02-21T16:57:06.469Z"
   },
   {
    "duration": 161,
    "start_time": "2023-02-21T16:57:06.990Z"
   },
   {
    "duration": 145,
    "start_time": "2023-02-21T16:57:07.153Z"
   },
   {
    "duration": 1024,
    "start_time": "2023-02-21T16:57:07.302Z"
   },
   {
    "duration": 172,
    "start_time": "2023-02-21T16:57:08.328Z"
   },
   {
    "duration": 59,
    "start_time": "2023-02-21T16:57:08.502Z"
   },
   {
    "duration": 3,
    "start_time": "2023-02-21T16:57:08.562Z"
   },
   {
    "duration": 1935,
    "start_time": "2023-02-21T16:57:08.567Z"
   },
   {
    "duration": 60,
    "start_time": "2023-02-21T16:57:10.506Z"
   },
   {
    "duration": 39,
    "start_time": "2023-02-21T16:57:10.568Z"
   },
   {
    "duration": 339,
    "start_time": "2023-02-21T16:57:10.610Z"
   },
   {
    "duration": 26,
    "start_time": "2023-02-21T16:57:10.951Z"
   },
   {
    "duration": 94,
    "start_time": "2023-02-21T16:57:10.979Z"
   },
   {
    "duration": 13,
    "start_time": "2023-02-21T16:57:11.075Z"
   },
   {
    "duration": 60,
    "start_time": "2023-02-21T16:57:11.090Z"
   },
   {
    "duration": 4974,
    "start_time": "2023-02-21T16:57:11.152Z"
   },
   {
    "duration": 3,
    "start_time": "2023-02-21T16:57:16.129Z"
   },
   {
    "duration": 40,
    "start_time": "2023-02-21T16:57:16.134Z"
   },
   {
    "duration": 54,
    "start_time": "2023-02-21T16:57:16.176Z"
   },
   {
    "duration": 5,
    "start_time": "2023-02-21T16:57:16.232Z"
   },
   {
    "duration": 5,
    "start_time": "2023-02-21T16:57:16.239Z"
   },
   {
    "duration": 77,
    "start_time": "2023-02-21T16:57:16.245Z"
   },
   {
    "duration": 105,
    "start_time": "2023-02-21T16:57:16.324Z"
   },
   {
    "duration": 93,
    "start_time": "2023-02-21T16:57:16.432Z"
   },
   {
    "duration": 3,
    "start_time": "2023-02-21T16:57:16.527Z"
   },
   {
    "duration": 6,
    "start_time": "2023-02-21T16:57:16.532Z"
   },
   {
    "duration": 864,
    "start_time": "2023-02-21T16:57:16.539Z"
   },
   {
    "duration": 18,
    "start_time": "2023-02-21T16:57:17.405Z"
   },
   {
    "duration": 6,
    "start_time": "2023-02-21T16:57:17.425Z"
   },
   {
    "duration": 4,
    "start_time": "2023-02-21T16:57:17.433Z"
   },
   {
    "duration": 6,
    "start_time": "2023-02-21T16:57:17.438Z"
   },
   {
    "duration": 7,
    "start_time": "2023-02-21T16:57:17.446Z"
   },
   {
    "duration": 5,
    "start_time": "2023-02-21T16:57:17.455Z"
   },
   {
    "duration": 8,
    "start_time": "2023-02-21T16:57:17.461Z"
   },
   {
    "duration": 108964,
    "start_time": "2023-02-21T16:57:17.471Z"
   },
   {
    "duration": 1210,
    "start_time": "2023-02-21T16:59:06.437Z"
   },
   {
    "duration": 5,
    "start_time": "2023-02-21T16:59:07.649Z"
   },
   {
    "duration": 5,
    "start_time": "2023-02-21T16:59:07.657Z"
   },
   {
    "duration": 5,
    "start_time": "2023-02-21T16:59:07.663Z"
   },
   {
    "duration": 53,
    "start_time": "2023-02-21T16:59:07.670Z"
   },
   {
    "duration": 11,
    "start_time": "2023-02-21T16:59:07.726Z"
   },
   {
    "duration": 526,
    "start_time": "2023-02-21T16:59:07.738Z"
   },
   {
    "duration": 77,
    "start_time": "2023-02-21T16:59:08.265Z"
   },
   {
    "duration": 6,
    "start_time": "2023-02-21T16:59:08.344Z"
   },
   {
    "duration": 8956,
    "start_time": "2023-02-21T16:59:08.352Z"
   },
   {
    "duration": 928,
    "start_time": "2023-02-21T17:04:13.000Z"
   },
   {
    "duration": 151,
    "start_time": "2023-02-21T17:04:39.488Z"
   },
   {
    "duration": 70,
    "start_time": "2023-02-21T17:04:47.091Z"
   },
   {
    "duration": 71,
    "start_time": "2023-02-21T17:08:12.252Z"
   },
   {
    "duration": 68,
    "start_time": "2023-02-21T17:08:36.985Z"
   },
   {
    "duration": 67,
    "start_time": "2023-02-21T17:09:01.081Z"
   },
   {
    "duration": 69,
    "start_time": "2023-02-21T17:13:09.609Z"
   },
   {
    "duration": 1017,
    "start_time": "2023-02-21T17:13:27.706Z"
   },
   {
    "duration": 486,
    "start_time": "2023-02-21T17:14:49.938Z"
   },
   {
    "duration": 495,
    "start_time": "2023-02-21T17:14:53.627Z"
   },
   {
    "duration": 1169,
    "start_time": "2023-02-21T17:15:13.493Z"
   },
   {
    "duration": 1068,
    "start_time": "2023-02-21T17:16:07.388Z"
   },
   {
    "duration": 965,
    "start_time": "2023-02-21T17:16:12.055Z"
   },
   {
    "duration": 830,
    "start_time": "2023-02-21T17:19:46.832Z"
   },
   {
    "duration": 881,
    "start_time": "2023-02-21T17:20:05.841Z"
   },
   {
    "duration": 5413,
    "start_time": "2023-02-21T17:21:37.579Z"
   },
   {
    "duration": 5537,
    "start_time": "2023-02-21T17:22:19.668Z"
   },
   {
    "duration": 5823,
    "start_time": "2023-02-21T17:29:24.047Z"
   },
   {
    "duration": 6267,
    "start_time": "2023-02-21T17:29:51.971Z"
   },
   {
    "duration": 5688,
    "start_time": "2023-02-21T17:30:44.652Z"
   },
   {
    "duration": 32,
    "start_time": "2023-02-21T17:33:59.311Z"
   },
   {
    "duration": 6008,
    "start_time": "2023-02-21T17:34:18.265Z"
   },
   {
    "duration": 11441,
    "start_time": "2023-02-21T17:44:01.438Z"
   },
   {
    "duration": 2774,
    "start_time": "2023-02-21T17:44:17.343Z"
   },
   {
    "duration": 5582,
    "start_time": "2023-02-21T17:44:34.838Z"
   },
   {
    "duration": 30,
    "start_time": "2023-02-21T17:46:40.625Z"
   },
   {
    "duration": 5467,
    "start_time": "2023-02-21T17:46:56.723Z"
   },
   {
    "duration": 26647,
    "start_time": "2023-02-21T17:49:48.140Z"
   },
   {
    "duration": 24582,
    "start_time": "2023-02-21T17:50:41.054Z"
   },
   {
    "duration": 43,
    "start_time": "2023-02-21T17:51:46.539Z"
   },
   {
    "duration": 33,
    "start_time": "2023-02-21T17:52:08.038Z"
   },
   {
    "duration": 24324,
    "start_time": "2023-02-21T17:52:23.976Z"
   },
   {
    "duration": 9087,
    "start_time": "2023-02-21T17:53:31.839Z"
   },
   {
    "duration": 1483,
    "start_time": "2023-02-21T17:54:15.954Z"
   },
   {
    "duration": 993,
    "start_time": "2023-02-21T17:54:17.440Z"
   },
   {
    "duration": 699,
    "start_time": "2023-02-21T17:54:18.435Z"
   },
   {
    "duration": 484,
    "start_time": "2023-02-21T17:54:19.136Z"
   },
   {
    "duration": 122,
    "start_time": "2023-02-21T17:54:19.623Z"
   },
   {
    "duration": 96,
    "start_time": "2023-02-21T17:54:19.746Z"
   },
   {
    "duration": 928,
    "start_time": "2023-02-21T17:54:19.843Z"
   },
   {
    "duration": 165,
    "start_time": "2023-02-21T17:54:20.773Z"
   },
   {
    "duration": 53,
    "start_time": "2023-02-21T17:54:20.940Z"
   },
   {
    "duration": 2,
    "start_time": "2023-02-21T17:54:20.995Z"
   },
   {
    "duration": 1692,
    "start_time": "2023-02-21T17:54:20.998Z"
   },
   {
    "duration": 49,
    "start_time": "2023-02-21T17:54:22.692Z"
   },
   {
    "duration": 35,
    "start_time": "2023-02-21T17:54:22.742Z"
   },
   {
    "duration": 343,
    "start_time": "2023-02-21T17:54:22.780Z"
   },
   {
    "duration": 29,
    "start_time": "2023-02-21T17:54:23.125Z"
   },
   {
    "duration": 41,
    "start_time": "2023-02-21T17:54:23.156Z"
   },
   {
    "duration": 34,
    "start_time": "2023-02-21T17:54:23.200Z"
   },
   {
    "duration": 49,
    "start_time": "2023-02-21T17:54:23.235Z"
   },
   {
    "duration": 5654,
    "start_time": "2023-02-21T17:54:23.286Z"
   },
   {
    "duration": 5,
    "start_time": "2023-02-21T17:54:28.942Z"
   },
   {
    "duration": 5,
    "start_time": "2023-02-21T17:54:28.949Z"
   },
   {
    "duration": 28,
    "start_time": "2023-02-21T17:54:28.956Z"
   },
   {
    "duration": 4,
    "start_time": "2023-02-21T17:54:28.986Z"
   },
   {
    "duration": 5,
    "start_time": "2023-02-21T17:54:28.992Z"
   },
   {
    "duration": 908,
    "start_time": "2023-02-21T17:54:29.022Z"
   },
   {
    "duration": 122,
    "start_time": "2023-02-21T17:54:29.933Z"
   },
   {
    "duration": 70,
    "start_time": "2023-02-21T17:54:30.057Z"
   },
   {
    "duration": 102,
    "start_time": "2023-02-21T17:54:30.130Z"
   },
   {
    "duration": 20,
    "start_time": "2023-02-21T17:54:30.234Z"
   },
   {
    "duration": 973,
    "start_time": "2023-02-21T17:54:30.256Z"
   },
   {
    "duration": 18,
    "start_time": "2023-02-21T17:54:31.231Z"
   },
   {
    "duration": 25,
    "start_time": "2023-02-21T17:54:31.251Z"
   },
   {
    "duration": 27,
    "start_time": "2023-02-21T17:54:31.279Z"
   },
   {
    "duration": 24646,
    "start_time": "2023-02-21T17:54:31.308Z"
   },
   {
    "duration": 2,
    "start_time": "2023-02-21T17:54:55.956Z"
   },
   {
    "duration": 7,
    "start_time": "2023-02-21T17:54:55.960Z"
   },
   {
    "duration": 298775,
    "start_time": "2023-02-21T17:54:55.969Z"
   },
   {
    "duration": 1107,
    "start_time": "2023-02-21T17:59:54.746Z"
   },
   {
    "duration": 6,
    "start_time": "2023-02-21T17:59:55.854Z"
   },
   {
    "duration": 63,
    "start_time": "2023-02-21T17:59:55.861Z"
   },
   {
    "duration": 2,
    "start_time": "2023-02-21T17:59:55.929Z"
   },
   {
    "duration": 5,
    "start_time": "2023-02-21T17:59:55.932Z"
   },
   {
    "duration": 4,
    "start_time": "2023-02-21T17:59:55.940Z"
   },
   {
    "duration": 449,
    "start_time": "2023-02-21T17:59:55.946Z"
   },
   {
    "duration": 66,
    "start_time": "2023-02-21T17:59:56.397Z"
   },
   {
    "duration": 6,
    "start_time": "2023-02-21T17:59:56.464Z"
   },
   {
    "duration": 8523,
    "start_time": "2023-02-21T17:59:56.471Z"
   },
   {
    "duration": 1527,
    "start_time": "2023-02-21T18:09:26.474Z"
   },
   {
    "duration": 862,
    "start_time": "2023-02-21T18:09:28.003Z"
   },
   {
    "duration": 884,
    "start_time": "2023-02-21T18:09:28.866Z"
   },
   {
    "duration": 614,
    "start_time": "2023-02-21T18:09:29.752Z"
   },
   {
    "duration": 144,
    "start_time": "2023-02-21T18:09:30.369Z"
   },
   {
    "duration": 121,
    "start_time": "2023-02-21T18:09:30.520Z"
   },
   {
    "duration": 1076,
    "start_time": "2023-02-21T18:09:30.643Z"
   },
   {
    "duration": 199,
    "start_time": "2023-02-21T18:09:31.721Z"
   },
   {
    "duration": 65,
    "start_time": "2023-02-21T18:09:31.923Z"
   },
   {
    "duration": 6,
    "start_time": "2023-02-21T18:09:31.991Z"
   },
   {
    "duration": 1968,
    "start_time": "2023-02-21T18:09:31.999Z"
   },
   {
    "duration": 39,
    "start_time": "2023-02-21T18:09:33.970Z"
   },
   {
    "duration": 46,
    "start_time": "2023-02-21T18:09:34.011Z"
   },
   {
    "duration": 393,
    "start_time": "2023-02-21T18:09:34.063Z"
   },
   {
    "duration": 27,
    "start_time": "2023-02-21T18:09:34.470Z"
   },
   {
    "duration": 89,
    "start_time": "2023-02-21T18:09:34.500Z"
   },
   {
    "duration": 19,
    "start_time": "2023-02-21T18:09:34.591Z"
   },
   {
    "duration": 58,
    "start_time": "2023-02-21T18:09:34.612Z"
   },
   {
    "duration": 6646,
    "start_time": "2023-02-21T18:09:34.673Z"
   },
   {
    "duration": 7,
    "start_time": "2023-02-21T18:09:41.321Z"
   },
   {
    "duration": 8,
    "start_time": "2023-02-21T18:09:41.332Z"
   },
   {
    "duration": 44,
    "start_time": "2023-02-21T18:09:41.342Z"
   },
   {
    "duration": 6,
    "start_time": "2023-02-21T18:09:41.388Z"
   },
   {
    "duration": 4,
    "start_time": "2023-02-21T18:09:41.396Z"
   },
   {
    "duration": 961,
    "start_time": "2023-02-21T18:09:41.401Z"
   },
   {
    "duration": 126,
    "start_time": "2023-02-21T18:09:42.422Z"
   },
   {
    "duration": 71,
    "start_time": "2023-02-21T18:09:42.550Z"
   },
   {
    "duration": 117,
    "start_time": "2023-02-21T18:09:42.623Z"
   },
   {
    "duration": 18,
    "start_time": "2023-02-21T18:09:42.744Z"
   },
   {
    "duration": 945,
    "start_time": "2023-02-21T18:09:42.764Z"
   },
   {
    "duration": 30,
    "start_time": "2023-02-21T18:09:43.711Z"
   },
   {
    "duration": 6,
    "start_time": "2023-02-21T18:09:43.743Z"
   },
   {
    "duration": 10,
    "start_time": "2023-02-21T18:09:43.750Z"
   },
   {
    "duration": 27010,
    "start_time": "2023-02-21T18:09:43.762Z"
   },
   {
    "duration": 2,
    "start_time": "2023-02-21T18:10:10.774Z"
   },
   {
    "duration": 171640,
    "start_time": "2023-02-21T18:10:10.778Z"
   },
   {
    "duration": 353510,
    "start_time": "2023-02-21T18:13:02.420Z"
   },
   {
    "duration": 1020,
    "start_time": "2023-02-21T18:18:55.932Z"
   },
   {
    "duration": 6,
    "start_time": "2023-02-21T18:18:56.953Z"
   },
   {
    "duration": 484,
    "start_time": "2023-02-21T18:18:56.961Z"
   },
   {
    "duration": 59,
    "start_time": "2023-02-21T18:18:57.448Z"
   },
   {
    "duration": 16,
    "start_time": "2023-02-21T18:18:57.508Z"
   },
   {
    "duration": 8098,
    "start_time": "2023-02-21T18:18:57.525Z"
   },
   {
    "duration": 1429,
    "start_time": "2023-02-21T18:25:57.383Z"
   },
   {
    "duration": 930,
    "start_time": "2023-02-21T18:25:58.813Z"
   },
   {
    "duration": 704,
    "start_time": "2023-02-21T18:25:59.745Z"
   },
   {
    "duration": 524,
    "start_time": "2023-02-21T18:26:00.451Z"
   },
   {
    "duration": 127,
    "start_time": "2023-02-21T18:26:00.977Z"
   },
   {
    "duration": 114,
    "start_time": "2023-02-21T18:26:01.106Z"
   },
   {
    "duration": 1008,
    "start_time": "2023-02-21T18:26:01.221Z"
   },
   {
    "duration": 213,
    "start_time": "2023-02-21T18:26:02.230Z"
   },
   {
    "duration": 116,
    "start_time": "2023-02-21T18:26:02.445Z"
   },
   {
    "duration": 4,
    "start_time": "2023-02-21T18:26:02.563Z"
   },
   {
    "duration": 1804,
    "start_time": "2023-02-21T18:26:02.569Z"
   },
   {
    "duration": 61,
    "start_time": "2023-02-21T18:26:04.374Z"
   },
   {
    "duration": 42,
    "start_time": "2023-02-21T18:26:04.438Z"
   },
   {
    "duration": 326,
    "start_time": "2023-02-21T18:26:04.484Z"
   },
   {
    "duration": 32,
    "start_time": "2023-02-21T18:26:04.812Z"
   },
   {
    "duration": 82,
    "start_time": "2023-02-21T18:26:04.846Z"
   },
   {
    "duration": 14,
    "start_time": "2023-02-21T18:26:04.930Z"
   },
   {
    "duration": 51,
    "start_time": "2023-02-21T18:26:04.946Z"
   },
   {
    "duration": 5585,
    "start_time": "2023-02-21T18:26:04.998Z"
   },
   {
    "duration": 7,
    "start_time": "2023-02-21T18:26:10.585Z"
   },
   {
    "duration": 12,
    "start_time": "2023-02-21T18:26:10.593Z"
   },
   {
    "duration": 41,
    "start_time": "2023-02-21T18:26:10.606Z"
   },
   {
    "duration": 21,
    "start_time": "2023-02-21T18:26:10.651Z"
   },
   {
    "duration": 6,
    "start_time": "2023-02-21T18:26:10.674Z"
   },
   {
    "duration": 1257,
    "start_time": "2023-02-21T18:26:10.682Z"
   },
   {
    "duration": 3,
    "start_time": "2023-02-21T18:26:12.022Z"
   },
   {
    "duration": 94,
    "start_time": "2023-02-21T18:26:12.028Z"
   },
   {
    "duration": 5,
    "start_time": "2023-02-21T18:26:12.124Z"
   },
   {
    "duration": 5,
    "start_time": "2023-02-21T18:26:12.131Z"
   },
   {
    "duration": 8,
    "start_time": "2023-02-21T18:26:12.138Z"
   },
   {
    "duration": 5,
    "start_time": "2023-02-21T18:26:12.148Z"
   },
   {
    "duration": 8,
    "start_time": "2023-02-21T18:26:12.154Z"
   },
   {
    "duration": 9,
    "start_time": "2023-02-21T18:26:12.164Z"
   },
   {
    "duration": 160,
    "start_time": "2023-02-21T18:26:12.175Z"
   },
   {
    "duration": 3,
    "start_time": "2023-02-21T18:26:12.337Z"
   },
   {
    "duration": 945526,
    "start_time": "2023-02-21T18:26:12.341Z"
   },
   {
    "duration": 3,
    "start_time": "2023-02-21T18:41:57.868Z"
   },
   {
    "duration": 16,
    "start_time": "2023-02-21T18:41:57.872Z"
   },
   {
    "duration": 5,
    "start_time": "2023-02-21T18:41:57.890Z"
   },
   {
    "duration": 4,
    "start_time": "2023-02-21T18:41:57.897Z"
   },
   {
    "duration": 5,
    "start_time": "2023-02-21T18:41:57.906Z"
   },
   {
    "duration": 4,
    "start_time": "2023-02-21T18:41:57.913Z"
   },
   {
    "duration": 10866,
    "start_time": "2023-02-21T18:41:57.919Z"
   },
   {
    "duration": 13,
    "start_time": "2023-02-21T18:42:08.787Z"
   },
   {
    "duration": 0,
    "start_time": "2023-02-21T18:42:08.802Z"
   },
   {
    "duration": 0,
    "start_time": "2023-02-21T18:42:08.804Z"
   },
   {
    "duration": 53,
    "start_time": "2023-02-21T18:42:26.474Z"
   },
   {
    "duration": 11,
    "start_time": "2023-02-21T18:42:33.038Z"
   },
   {
    "duration": 31635,
    "start_time": "2023-02-21T18:42:35.646Z"
   },
   {
    "duration": 1969,
    "start_time": "2023-02-21T18:43:27.924Z"
   },
   {
    "duration": 4012,
    "start_time": "2023-02-21T18:43:29.895Z"
   },
   {
    "duration": 988,
    "start_time": "2023-02-21T18:43:33.909Z"
   },
   {
    "duration": 601,
    "start_time": "2023-02-21T18:43:34.899Z"
   },
   {
    "duration": 164,
    "start_time": "2023-02-21T18:43:35.502Z"
   },
   {
    "duration": 122,
    "start_time": "2023-02-21T18:43:35.668Z"
   },
   {
    "duration": 1113,
    "start_time": "2023-02-21T18:43:35.794Z"
   },
   {
    "duration": 188,
    "start_time": "2023-02-21T18:43:36.909Z"
   },
   {
    "duration": 84,
    "start_time": "2023-02-21T18:43:37.099Z"
   },
   {
    "duration": 3,
    "start_time": "2023-02-21T18:43:37.185Z"
   },
   {
    "duration": 2120,
    "start_time": "2023-02-21T18:43:37.190Z"
   },
   {
    "duration": 66,
    "start_time": "2023-02-21T18:43:39.312Z"
   },
   {
    "duration": 46,
    "start_time": "2023-02-21T18:43:39.380Z"
   },
   {
    "duration": 296,
    "start_time": "2023-02-21T18:43:39.430Z"
   },
   {
    "duration": 38,
    "start_time": "2023-02-21T18:43:39.728Z"
   },
   {
    "duration": 49,
    "start_time": "2023-02-21T18:43:39.769Z"
   },
   {
    "duration": 46,
    "start_time": "2023-02-21T18:43:39.821Z"
   },
   {
    "duration": 46,
    "start_time": "2023-02-21T18:43:39.869Z"
   },
   {
    "duration": 6589,
    "start_time": "2023-02-21T18:43:39.916Z"
   },
   {
    "duration": 3,
    "start_time": "2023-02-21T18:43:46.507Z"
   },
   {
    "duration": 5,
    "start_time": "2023-02-21T18:43:46.512Z"
   },
   {
    "duration": 66,
    "start_time": "2023-02-21T18:43:46.521Z"
   },
   {
    "duration": 5,
    "start_time": "2023-02-21T18:43:46.589Z"
   },
   {
    "duration": 5,
    "start_time": "2023-02-21T18:43:46.595Z"
   },
   {
    "duration": 932,
    "start_time": "2023-02-21T18:43:46.601Z"
   },
   {
    "duration": 5,
    "start_time": "2023-02-21T18:43:47.535Z"
   },
   {
    "duration": 117,
    "start_time": "2023-02-21T18:43:47.544Z"
   },
   {
    "duration": 7,
    "start_time": "2023-02-21T18:43:47.663Z"
   },
   {
    "duration": 5,
    "start_time": "2023-02-21T18:43:47.672Z"
   },
   {
    "duration": 5,
    "start_time": "2023-02-21T18:43:47.678Z"
   },
   {
    "duration": 6,
    "start_time": "2023-02-21T18:43:47.684Z"
   },
   {
    "duration": 6,
    "start_time": "2023-02-21T18:43:47.692Z"
   },
   {
    "duration": 9,
    "start_time": "2023-02-21T18:43:47.700Z"
   },
   {
    "duration": 31089,
    "start_time": "2023-02-21T18:43:47.710Z"
   },
   {
    "duration": 2,
    "start_time": "2023-02-21T18:44:18.801Z"
   },
   {
    "duration": 502218,
    "start_time": "2023-02-21T18:44:18.805Z"
   },
   {
    "duration": 2,
    "start_time": "2023-02-21T18:52:41.025Z"
   },
   {
    "duration": 6,
    "start_time": "2023-02-21T18:52:41.029Z"
   },
   {
    "duration": 4,
    "start_time": "2023-02-21T18:52:41.037Z"
   },
   {
    "duration": 10,
    "start_time": "2023-02-21T18:52:41.042Z"
   },
   {
    "duration": 5,
    "start_time": "2023-02-21T18:52:41.055Z"
   },
   {
    "duration": 7,
    "start_time": "2023-02-21T18:52:41.061Z"
   },
   {
    "duration": 8310,
    "start_time": "2023-02-21T18:52:41.069Z"
   },
   {
    "duration": 10,
    "start_time": "2023-02-21T18:52:49.381Z"
   },
   {
    "duration": 2190,
    "start_time": "2023-02-25T11:16:05.177Z"
   },
   {
    "duration": 1785,
    "start_time": "2023-02-25T11:16:07.369Z"
   },
   {
    "duration": 882,
    "start_time": "2023-02-25T11:16:09.155Z"
   },
   {
    "duration": 494,
    "start_time": "2023-02-25T11:16:10.039Z"
   },
   {
    "duration": 129,
    "start_time": "2023-02-25T11:16:10.535Z"
   },
   {
    "duration": 98,
    "start_time": "2023-02-25T11:16:10.666Z"
   },
   {
    "duration": 929,
    "start_time": "2023-02-25T11:16:10.766Z"
   },
   {
    "duration": 171,
    "start_time": "2023-02-25T11:16:11.697Z"
   },
   {
    "duration": 52,
    "start_time": "2023-02-25T11:16:11.870Z"
   },
   {
    "duration": 3,
    "start_time": "2023-02-25T11:16:11.925Z"
   },
   {
    "duration": 1752,
    "start_time": "2023-02-25T11:16:11.929Z"
   },
   {
    "duration": 42,
    "start_time": "2023-02-25T11:16:13.683Z"
   },
   {
    "duration": 52,
    "start_time": "2023-02-25T11:16:13.727Z"
   },
   {
    "duration": 381,
    "start_time": "2023-02-25T11:16:13.780Z"
   },
   {
    "duration": 28,
    "start_time": "2023-02-25T11:16:14.162Z"
   },
   {
    "duration": 62,
    "start_time": "2023-02-25T11:16:14.192Z"
   },
   {
    "duration": 16,
    "start_time": "2023-02-25T11:16:14.255Z"
   },
   {
    "duration": 50,
    "start_time": "2023-02-25T11:16:14.272Z"
   },
   {
    "duration": 7146,
    "start_time": "2023-02-25T11:16:14.324Z"
   },
   {
    "duration": 0,
    "start_time": "2023-02-25T11:16:21.473Z"
   },
   {
    "duration": 0,
    "start_time": "2023-02-25T11:16:21.474Z"
   },
   {
    "duration": 0,
    "start_time": "2023-02-25T11:16:21.475Z"
   },
   {
    "duration": 0,
    "start_time": "2023-02-25T11:16:21.476Z"
   },
   {
    "duration": 0,
    "start_time": "2023-02-25T11:16:21.477Z"
   },
   {
    "duration": 0,
    "start_time": "2023-02-25T11:16:21.478Z"
   },
   {
    "duration": 0,
    "start_time": "2023-02-25T11:16:21.479Z"
   },
   {
    "duration": 0,
    "start_time": "2023-02-25T11:16:21.480Z"
   },
   {
    "duration": 0,
    "start_time": "2023-02-25T11:16:21.482Z"
   },
   {
    "duration": 0,
    "start_time": "2023-02-25T11:16:21.483Z"
   },
   {
    "duration": 0,
    "start_time": "2023-02-25T11:16:21.484Z"
   },
   {
    "duration": 0,
    "start_time": "2023-02-25T11:16:21.485Z"
   },
   {
    "duration": 0,
    "start_time": "2023-02-25T11:16:21.486Z"
   },
   {
    "duration": 0,
    "start_time": "2023-02-25T11:16:21.487Z"
   },
   {
    "duration": 0,
    "start_time": "2023-02-25T11:16:21.488Z"
   },
   {
    "duration": 0,
    "start_time": "2023-02-25T11:16:21.490Z"
   },
   {
    "duration": 0,
    "start_time": "2023-02-25T11:16:21.491Z"
   },
   {
    "duration": 0,
    "start_time": "2023-02-25T11:16:21.493Z"
   },
   {
    "duration": 0,
    "start_time": "2023-02-25T11:16:21.494Z"
   },
   {
    "duration": 0,
    "start_time": "2023-02-25T11:16:21.495Z"
   },
   {
    "duration": 0,
    "start_time": "2023-02-25T11:16:21.497Z"
   },
   {
    "duration": 0,
    "start_time": "2023-02-25T11:16:21.497Z"
   },
   {
    "duration": 0,
    "start_time": "2023-02-25T11:16:21.499Z"
   },
   {
    "duration": 0,
    "start_time": "2023-02-25T11:16:21.500Z"
   },
   {
    "duration": 0,
    "start_time": "2023-02-25T11:16:21.501Z"
   },
   {
    "duration": 0,
    "start_time": "2023-02-25T11:16:21.554Z"
   },
   {
    "duration": 5990,
    "start_time": "2023-02-25T11:18:24.741Z"
   },
   {
    "duration": 6249,
    "start_time": "2023-02-25T11:19:23.666Z"
   },
   {
    "duration": 4,
    "start_time": "2023-02-25T11:19:31.565Z"
   },
   {
    "duration": 1143,
    "start_time": "2023-02-25T11:19:31.571Z"
   },
   {
    "duration": 756,
    "start_time": "2023-02-25T11:19:32.716Z"
   },
   {
    "duration": 479,
    "start_time": "2023-02-25T11:19:33.474Z"
   },
   {
    "duration": 124,
    "start_time": "2023-02-25T11:19:33.955Z"
   },
   {
    "duration": 99,
    "start_time": "2023-02-25T11:19:34.081Z"
   },
   {
    "duration": 942,
    "start_time": "2023-02-25T11:19:34.182Z"
   },
   {
    "duration": 177,
    "start_time": "2023-02-25T11:19:35.126Z"
   },
   {
    "duration": 70,
    "start_time": "2023-02-25T11:19:35.305Z"
   },
   {
    "duration": 3,
    "start_time": "2023-02-25T11:19:35.377Z"
   },
   {
    "duration": 1741,
    "start_time": "2023-02-25T11:19:35.382Z"
   },
   {
    "duration": 52,
    "start_time": "2023-02-25T11:19:37.125Z"
   },
   {
    "duration": 43,
    "start_time": "2023-02-25T11:19:37.180Z"
   },
   {
    "duration": 329,
    "start_time": "2023-02-25T11:19:37.224Z"
   },
   {
    "duration": 27,
    "start_time": "2023-02-25T11:19:37.555Z"
   },
   {
    "duration": 90,
    "start_time": "2023-02-25T11:19:37.584Z"
   },
   {
    "duration": 15,
    "start_time": "2023-02-25T11:19:37.675Z"
   },
   {
    "duration": 82,
    "start_time": "2023-02-25T11:19:37.693Z"
   },
   {
    "duration": 6341,
    "start_time": "2023-02-25T11:19:39.466Z"
   },
   {
    "duration": 8,
    "start_time": "2023-02-25T11:19:45.809Z"
   },
   {
    "duration": 13,
    "start_time": "2023-02-25T11:19:45.819Z"
   },
   {
    "duration": 30,
    "start_time": "2023-02-25T11:19:45.834Z"
   },
   {
    "duration": 4,
    "start_time": "2023-02-25T11:19:45.868Z"
   },
   {
    "duration": 6,
    "start_time": "2023-02-25T11:19:45.874Z"
   },
   {
    "duration": 1010,
    "start_time": "2023-02-25T11:19:45.882Z"
   },
   {
    "duration": 3,
    "start_time": "2023-02-25T11:19:46.953Z"
   },
   {
    "duration": 106,
    "start_time": "2023-02-25T11:19:46.958Z"
   },
   {
    "duration": 9,
    "start_time": "2023-02-25T11:19:47.065Z"
   },
   {
    "duration": 6,
    "start_time": "2023-02-25T11:19:47.075Z"
   },
   {
    "duration": 12,
    "start_time": "2023-02-25T11:19:47.083Z"
   },
   {
    "duration": 4,
    "start_time": "2023-02-25T11:19:47.097Z"
   },
   {
    "duration": 4,
    "start_time": "2023-02-25T11:19:47.104Z"
   },
   {
    "duration": 5,
    "start_time": "2023-02-25T11:19:47.109Z"
   },
   {
    "duration": 29241,
    "start_time": "2023-02-25T11:19:47.116Z"
   },
   {
    "duration": 5,
    "start_time": "2023-02-25T11:20:16.359Z"
   },
   {
    "duration": 597994,
    "start_time": "2023-02-25T11:20:16.366Z"
   },
   {
    "duration": 2,
    "start_time": "2023-02-25T11:30:14.362Z"
   },
   {
    "duration": 8,
    "start_time": "2023-02-25T11:30:14.366Z"
   },
   {
    "duration": 5,
    "start_time": "2023-02-25T11:30:14.375Z"
   },
   {
    "duration": 4,
    "start_time": "2023-02-25T11:30:14.382Z"
   },
   {
    "duration": 6,
    "start_time": "2023-02-25T11:30:14.388Z"
   },
   {
    "duration": 2,
    "start_time": "2023-02-25T11:30:14.454Z"
   },
   {
    "duration": 8,
    "start_time": "2023-02-25T11:30:14.457Z"
   },
   {
    "duration": 8803,
    "start_time": "2023-02-25T11:30:14.467Z"
   },
   {
    "duration": 8,
    "start_time": "2023-02-25T11:30:23.272Z"
   },
   {
    "duration": 25,
    "start_time": "2023-02-25T11:30:23.283Z"
   },
   {
    "duration": 70,
    "start_time": "2023-02-25T11:37:02.501Z"
   },
   {
    "duration": 78,
    "start_time": "2023-02-25T11:37:27.113Z"
   },
   {
    "duration": 74,
    "start_time": "2023-02-25T11:38:59.716Z"
   },
   {
    "duration": 77,
    "start_time": "2023-02-25T11:39:15.040Z"
   },
   {
    "duration": 12060,
    "start_time": "2023-02-25T11:39:26.317Z"
   },
   {
    "duration": 12105,
    "start_time": "2023-02-25T11:50:15.480Z"
   },
   {
    "duration": 11920,
    "start_time": "2023-02-25T11:51:45.765Z"
   },
   {
    "duration": 11775,
    "start_time": "2023-02-25T11:52:01.387Z"
   },
   {
    "duration": 12133,
    "start_time": "2023-02-25T11:52:49.525Z"
   },
   {
    "duration": 12247,
    "start_time": "2023-02-25T11:53:11.208Z"
   },
   {
    "duration": 12022,
    "start_time": "2023-02-25T11:53:42.343Z"
   },
   {
    "duration": 12079,
    "start_time": "2023-02-25T11:55:10.110Z"
   },
   {
    "duration": 98,
    "start_time": "2023-02-25T11:56:38.704Z"
   },
   {
    "duration": 12137,
    "start_time": "2023-02-25T11:56:41.628Z"
   },
   {
    "duration": 11983,
    "start_time": "2023-02-25T11:57:05.383Z"
   },
   {
    "duration": 11994,
    "start_time": "2023-02-25T11:57:26.371Z"
   },
   {
    "duration": 12027,
    "start_time": "2023-02-25T11:57:55.340Z"
   },
   {
    "duration": 31,
    "start_time": "2023-02-25T12:14:40.448Z"
   },
   {
    "duration": 33,
    "start_time": "2023-02-25T12:15:02.977Z"
   },
   {
    "duration": 33,
    "start_time": "2023-02-25T12:15:25.158Z"
   },
   {
    "duration": 17,
    "start_time": "2023-02-25T12:15:57.158Z"
   },
   {
    "duration": 14,
    "start_time": "2023-02-25T12:16:13.051Z"
   },
   {
    "duration": 11,
    "start_time": "2023-02-25T12:16:27.690Z"
   },
   {
    "duration": 14,
    "start_time": "2023-02-25T12:16:40.260Z"
   },
   {
    "duration": 8,
    "start_time": "2023-02-25T12:17:22.372Z"
   },
   {
    "duration": 6134,
    "start_time": "2023-02-25T12:17:37.742Z"
   },
   {
    "duration": 6769,
    "start_time": "2023-02-25T12:18:38.079Z"
   },
   {
    "duration": 12050,
    "start_time": "2023-02-25T12:20:56.114Z"
   },
   {
    "duration": 1141,
    "start_time": "2023-02-25T12:23:05.410Z"
   },
   {
    "duration": 24,
    "start_time": "2023-02-25T12:25:14.726Z"
   },
   {
    "duration": 6,
    "start_time": "2023-02-25T12:25:34.698Z"
   },
   {
    "duration": 89158,
    "start_time": "2023-02-25T12:27:47.001Z"
   },
   {
    "duration": 433,
    "start_time": "2023-02-25T12:31:16.550Z"
   },
   {
    "duration": 51,
    "start_time": "2023-02-25T12:31:20.010Z"
   },
   {
    "duration": 6,
    "start_time": "2023-02-25T12:31:23.423Z"
   },
   {
    "duration": 26,
    "start_time": "2023-02-25T12:32:41.236Z"
   },
   {
    "duration": 1772,
    "start_time": "2023-02-25T12:38:17.265Z"
   },
   {
    "duration": 1057,
    "start_time": "2023-02-25T12:38:19.040Z"
   },
   {
    "duration": 682,
    "start_time": "2023-02-25T12:38:20.099Z"
   },
   {
    "duration": 519,
    "start_time": "2023-02-25T12:38:20.784Z"
   },
   {
    "duration": 131,
    "start_time": "2023-02-25T12:38:21.305Z"
   },
   {
    "duration": 116,
    "start_time": "2023-02-25T12:38:21.437Z"
   },
   {
    "duration": 959,
    "start_time": "2023-02-25T12:38:21.555Z"
   },
   {
    "duration": 181,
    "start_time": "2023-02-25T12:38:22.516Z"
   },
   {
    "duration": 56,
    "start_time": "2023-02-25T12:38:22.698Z"
   },
   {
    "duration": 2,
    "start_time": "2023-02-25T12:38:22.758Z"
   },
   {
    "duration": 1754,
    "start_time": "2023-02-25T12:38:22.762Z"
   },
   {
    "duration": 50,
    "start_time": "2023-02-25T12:38:24.518Z"
   },
   {
    "duration": 33,
    "start_time": "2023-02-25T12:38:24.570Z"
   },
   {
    "duration": 317,
    "start_time": "2023-02-25T12:38:24.604Z"
   },
   {
    "duration": 35,
    "start_time": "2023-02-25T12:38:24.923Z"
   },
   {
    "duration": 45,
    "start_time": "2023-02-25T12:38:24.960Z"
   },
   {
    "duration": 11,
    "start_time": "2023-02-25T12:38:25.007Z"
   },
   {
    "duration": 73,
    "start_time": "2023-02-25T12:38:25.020Z"
   },
   {
    "duration": 5453,
    "start_time": "2023-02-25T12:38:25.095Z"
   },
   {
    "duration": 5,
    "start_time": "2023-02-25T12:38:30.553Z"
   },
   {
    "duration": 160,
    "start_time": "2023-02-25T12:38:30.559Z"
   },
   {
    "duration": 67,
    "start_time": "2023-02-25T12:38:30.721Z"
   },
   {
    "duration": 35,
    "start_time": "2023-02-25T12:38:30.790Z"
   },
   {
    "duration": 23,
    "start_time": "2023-02-25T12:38:30.827Z"
   },
   {
    "duration": 25,
    "start_time": "2023-02-25T12:38:30.851Z"
   },
   {
    "duration": 12084,
    "start_time": "2023-02-25T12:38:30.878Z"
   },
   {
    "duration": 28,
    "start_time": "2023-02-25T12:38:42.964Z"
   },
   {
    "duration": 103,
    "start_time": "2023-02-25T12:38:43.052Z"
   },
   {
    "duration": 100,
    "start_time": "2023-02-25T12:38:43.157Z"
   },
   {
    "duration": 194,
    "start_time": "2023-02-25T12:38:43.259Z"
   },
   {
    "duration": 1210,
    "start_time": "2023-02-25T12:38:43.454Z"
   },
   {
    "duration": 21,
    "start_time": "2023-02-25T12:38:44.665Z"
   },
   {
    "duration": 6,
    "start_time": "2023-02-25T12:38:44.688Z"
   },
   {
    "duration": 1441,
    "start_time": "2023-02-25T12:39:33.681Z"
   },
   {
    "duration": 911,
    "start_time": "2023-02-25T12:39:35.124Z"
   },
   {
    "duration": 819,
    "start_time": "2023-02-25T12:39:36.037Z"
   },
   {
    "duration": 567,
    "start_time": "2023-02-25T12:39:36.859Z"
   },
   {
    "duration": 179,
    "start_time": "2023-02-25T12:39:37.428Z"
   },
   {
    "duration": 116,
    "start_time": "2023-02-25T12:39:37.610Z"
   },
   {
    "duration": 911,
    "start_time": "2023-02-25T12:39:37.728Z"
   },
   {
    "duration": 168,
    "start_time": "2023-02-25T12:39:38.641Z"
   },
   {
    "duration": 62,
    "start_time": "2023-02-25T12:39:38.811Z"
   },
   {
    "duration": 3,
    "start_time": "2023-02-25T12:39:38.875Z"
   },
   {
    "duration": 1687,
    "start_time": "2023-02-25T12:39:38.879Z"
   },
   {
    "duration": 47,
    "start_time": "2023-02-25T12:39:40.568Z"
   },
   {
    "duration": 50,
    "start_time": "2023-02-25T12:39:40.617Z"
   },
   {
    "duration": 271,
    "start_time": "2023-02-25T12:39:40.669Z"
   },
   {
    "duration": 26,
    "start_time": "2023-02-25T12:39:40.953Z"
   },
   {
    "duration": 45,
    "start_time": "2023-02-25T12:39:40.981Z"
   },
   {
    "duration": 34,
    "start_time": "2023-02-25T12:39:41.028Z"
   },
   {
    "duration": 39,
    "start_time": "2023-02-25T12:39:41.064Z"
   },
   {
    "duration": 5201,
    "start_time": "2023-02-25T12:39:41.105Z"
   },
   {
    "duration": 4,
    "start_time": "2023-02-25T12:39:46.308Z"
   },
   {
    "duration": 5,
    "start_time": "2023-02-25T12:39:46.313Z"
   },
   {
    "duration": 39,
    "start_time": "2023-02-25T12:39:46.319Z"
   },
   {
    "duration": 26,
    "start_time": "2023-02-25T12:39:46.360Z"
   },
   {
    "duration": 4,
    "start_time": "2023-02-25T12:39:46.387Z"
   },
   {
    "duration": 6,
    "start_time": "2023-02-25T12:39:46.393Z"
   },
   {
    "duration": 12072,
    "start_time": "2023-02-25T12:39:46.401Z"
   },
   {
    "duration": 83,
    "start_time": "2023-02-25T12:39:58.474Z"
   },
   {
    "duration": 96,
    "start_time": "2023-02-25T12:39:58.561Z"
   },
   {
    "duration": 101,
    "start_time": "2023-02-25T12:39:58.660Z"
   },
   {
    "duration": 6947,
    "start_time": "2023-02-25T12:39:58.762Z"
   },
   {
    "duration": 1293,
    "start_time": "2023-02-25T12:40:05.712Z"
   },
   {
    "duration": 21,
    "start_time": "2023-02-25T12:40:07.006Z"
   },
   {
    "duration": 5,
    "start_time": "2023-02-25T12:40:07.029Z"
   },
   {
    "duration": 45821,
    "start_time": "2023-02-25T12:40:07.036Z"
   },
   {
    "duration": 2,
    "start_time": "2023-02-25T12:40:52.859Z"
   },
   {
    "duration": 1701,
    "start_time": "2023-02-25T12:40:52.863Z"
   },
   {
    "duration": 700,
    "start_time": "2023-02-25T12:40:54.565Z"
   },
   {
    "duration": 5,
    "start_time": "2023-02-25T12:40:55.267Z"
   },
   {
    "duration": 8812,
    "start_time": "2023-02-25T12:40:55.273Z"
   },
   {
    "duration": 436,
    "start_time": "2023-02-25T12:41:04.087Z"
   },
   {
    "duration": 61,
    "start_time": "2023-02-25T12:41:04.525Z"
   },
   {
    "duration": 5,
    "start_time": "2023-02-25T12:41:04.588Z"
   },
   {
    "duration": 125,
    "start_time": "2023-02-25T12:41:04.595Z"
   },
   {
    "duration": 7,
    "start_time": "2023-02-25T12:42:35.273Z"
   },
   {
    "duration": 1672,
    "start_time": "2023-02-25T12:44:36.544Z"
   },
   {
    "duration": 847,
    "start_time": "2023-02-25T12:44:38.219Z"
   },
   {
    "duration": 752,
    "start_time": "2023-02-25T12:44:39.067Z"
   },
   {
    "duration": 503,
    "start_time": "2023-02-25T12:44:39.822Z"
   },
   {
    "duration": 132,
    "start_time": "2023-02-25T12:44:40.327Z"
   },
   {
    "duration": 176,
    "start_time": "2023-02-25T12:44:40.461Z"
   },
   {
    "duration": 935,
    "start_time": "2023-02-25T12:44:40.638Z"
   },
   {
    "duration": 171,
    "start_time": "2023-02-25T12:44:41.574Z"
   },
   {
    "duration": 58,
    "start_time": "2023-02-25T12:44:41.754Z"
   },
   {
    "duration": 2,
    "start_time": "2023-02-25T12:44:41.816Z"
   },
   {
    "duration": 1803,
    "start_time": "2023-02-25T12:44:41.820Z"
   },
   {
    "duration": 62,
    "start_time": "2023-02-25T12:44:43.626Z"
   },
   {
    "duration": 39,
    "start_time": "2023-02-25T12:44:43.690Z"
   },
   {
    "duration": 311,
    "start_time": "2023-02-25T12:44:43.731Z"
   },
   {
    "duration": 28,
    "start_time": "2023-02-25T12:44:44.052Z"
   },
   {
    "duration": 46,
    "start_time": "2023-02-25T12:44:44.082Z"
   },
   {
    "duration": 30,
    "start_time": "2023-02-25T12:44:44.130Z"
   },
   {
    "duration": 37,
    "start_time": "2023-02-25T12:44:44.162Z"
   },
   {
    "duration": 5789,
    "start_time": "2023-02-25T12:44:44.201Z"
   },
   {
    "duration": 3,
    "start_time": "2023-02-25T12:44:49.992Z"
   },
   {
    "duration": 5,
    "start_time": "2023-02-25T12:44:49.997Z"
   },
   {
    "duration": 30,
    "start_time": "2023-02-25T12:44:50.003Z"
   },
   {
    "duration": 43,
    "start_time": "2023-02-25T12:44:50.035Z"
   },
   {
    "duration": 4,
    "start_time": "2023-02-25T12:44:50.080Z"
   },
   {
    "duration": 9,
    "start_time": "2023-02-25T12:44:50.085Z"
   },
   {
    "duration": 12071,
    "start_time": "2023-02-25T12:44:50.096Z"
   },
   {
    "duration": 106,
    "start_time": "2023-02-25T12:45:02.170Z"
   },
   {
    "duration": 74,
    "start_time": "2023-02-25T12:45:02.282Z"
   },
   {
    "duration": 99,
    "start_time": "2023-02-25T12:45:02.359Z"
   },
   {
    "duration": 7192,
    "start_time": "2023-02-25T12:45:02.460Z"
   },
   {
    "duration": 1209,
    "start_time": "2023-02-25T12:45:09.655Z"
   },
   {
    "duration": 24,
    "start_time": "2023-02-25T12:45:10.866Z"
   },
   {
    "duration": 6,
    "start_time": "2023-02-25T12:45:10.892Z"
   },
   {
    "duration": 596466,
    "start_time": "2023-02-25T12:45:10.899Z"
   },
   {
    "duration": 3,
    "start_time": "2023-02-25T12:55:07.366Z"
   },
   {
    "duration": 127396,
    "start_time": "2023-02-25T12:55:07.370Z"
   },
   {
    "duration": 794,
    "start_time": "2023-02-25T12:57:14.768Z"
   },
   {
    "duration": 5,
    "start_time": "2023-02-25T12:57:15.563Z"
   },
   {
    "duration": 8831,
    "start_time": "2023-02-25T12:57:15.569Z"
   },
   {
    "duration": 463,
    "start_time": "2023-02-25T12:57:24.402Z"
   },
   {
    "duration": 104,
    "start_time": "2023-02-25T12:57:24.867Z"
   },
   {
    "duration": 5,
    "start_time": "2023-02-25T12:57:24.973Z"
   },
   {
    "duration": 139,
    "start_time": "2023-02-25T12:57:24.980Z"
   },
   {
    "duration": 10,
    "start_time": "2023-02-25T13:00:38.025Z"
   },
   {
    "duration": 2209,
    "start_time": "2023-02-25T13:01:46.627Z"
   },
   {
    "duration": 2107,
    "start_time": "2023-02-25T13:02:37.390Z"
   },
   {
    "duration": 26008,
    "start_time": "2023-02-25T13:10:44.890Z"
   },
   {
    "duration": 12028,
    "start_time": "2023-02-25T13:15:22.139Z"
   },
   {
    "duration": 25228,
    "start_time": "2023-02-25T13:18:13.460Z"
   },
   {
    "duration": 45564,
    "start_time": "2023-02-25T13:19:34.646Z"
   },
   {
    "duration": 52661,
    "start_time": "2023-02-25T13:20:20.213Z"
   },
   {
    "duration": 1,
    "start_time": "2023-02-25T13:21:12.876Z"
   },
   {
    "duration": 0,
    "start_time": "2023-02-25T13:21:12.878Z"
   },
   {
    "duration": 0,
    "start_time": "2023-02-25T13:21:12.880Z"
   },
   {
    "duration": 1489,
    "start_time": "2023-02-25T13:21:19.002Z"
   },
   {
    "duration": 811,
    "start_time": "2023-02-25T13:21:20.494Z"
   },
   {
    "duration": 687,
    "start_time": "2023-02-25T13:21:21.307Z"
   },
   {
    "duration": 499,
    "start_time": "2023-02-25T13:21:21.996Z"
   },
   {
    "duration": 126,
    "start_time": "2023-02-25T13:21:22.497Z"
   },
   {
    "duration": 103,
    "start_time": "2023-02-25T13:21:22.625Z"
   },
   {
    "duration": 908,
    "start_time": "2023-02-25T13:21:22.730Z"
   },
   {
    "duration": 172,
    "start_time": "2023-02-25T13:21:23.639Z"
   },
   {
    "duration": 66,
    "start_time": "2023-02-25T13:21:23.812Z"
   },
   {
    "duration": 2,
    "start_time": "2023-02-25T13:21:23.880Z"
   },
   {
    "duration": 1930,
    "start_time": "2023-02-25T13:21:23.883Z"
   },
   {
    "duration": 55,
    "start_time": "2023-02-25T13:21:25.815Z"
   },
   {
    "duration": 36,
    "start_time": "2023-02-25T13:21:25.873Z"
   },
   {
    "duration": 344,
    "start_time": "2023-02-25T13:21:25.912Z"
   },
   {
    "duration": 27,
    "start_time": "2023-02-25T13:21:26.258Z"
   },
   {
    "duration": 47,
    "start_time": "2023-02-25T13:21:26.287Z"
   },
   {
    "duration": 11,
    "start_time": "2023-02-25T13:21:26.354Z"
   },
   {
    "duration": 65,
    "start_time": "2023-02-25T13:21:26.367Z"
   },
   {
    "duration": 36401,
    "start_time": "2023-02-25T13:21:26.434Z"
   },
   {
    "duration": 0,
    "start_time": "2023-02-25T13:22:02.837Z"
   },
   {
    "duration": 0,
    "start_time": "2023-02-25T13:22:02.839Z"
   },
   {
    "duration": 0,
    "start_time": "2023-02-25T13:22:02.841Z"
   },
   {
    "duration": 0,
    "start_time": "2023-02-25T13:22:02.842Z"
   },
   {
    "duration": 0,
    "start_time": "2023-02-25T13:22:02.843Z"
   },
   {
    "duration": 8,
    "start_time": "2023-02-25T13:22:02.844Z"
   },
   {
    "duration": 0,
    "start_time": "2023-02-25T13:22:02.853Z"
   },
   {
    "duration": 0,
    "start_time": "2023-02-25T13:22:02.854Z"
   },
   {
    "duration": 0,
    "start_time": "2023-02-25T13:22:02.855Z"
   },
   {
    "duration": 0,
    "start_time": "2023-02-25T13:22:02.856Z"
   },
   {
    "duration": 0,
    "start_time": "2023-02-25T13:22:02.857Z"
   },
   {
    "duration": 0,
    "start_time": "2023-02-25T13:22:02.858Z"
   },
   {
    "duration": 1,
    "start_time": "2023-02-25T13:22:02.858Z"
   },
   {
    "duration": 0,
    "start_time": "2023-02-25T13:22:02.859Z"
   },
   {
    "duration": 0,
    "start_time": "2023-02-25T13:22:02.860Z"
   },
   {
    "duration": 0,
    "start_time": "2023-02-25T13:22:02.861Z"
   },
   {
    "duration": 0,
    "start_time": "2023-02-25T13:22:02.862Z"
   },
   {
    "duration": 0,
    "start_time": "2023-02-25T13:22:02.862Z"
   },
   {
    "duration": 0,
    "start_time": "2023-02-25T13:22:02.863Z"
   },
   {
    "duration": 0,
    "start_time": "2023-02-25T13:22:02.864Z"
   },
   {
    "duration": 0,
    "start_time": "2023-02-25T13:22:02.865Z"
   },
   {
    "duration": 0,
    "start_time": "2023-02-25T13:22:02.866Z"
   },
   {
    "duration": 0,
    "start_time": "2023-02-25T13:22:02.867Z"
   },
   {
    "duration": 0,
    "start_time": "2023-02-25T13:22:02.868Z"
   },
   {
    "duration": 0,
    "start_time": "2023-02-25T13:22:02.869Z"
   },
   {
    "duration": 6203,
    "start_time": "2023-02-25T13:23:25.151Z"
   },
   {
    "duration": 5,
    "start_time": "2023-02-25T13:25:10.069Z"
   },
   {
    "duration": 794,
    "start_time": "2023-02-25T13:25:10.076Z"
   },
   {
    "duration": 669,
    "start_time": "2023-02-25T13:25:10.872Z"
   },
   {
    "duration": 449,
    "start_time": "2023-02-25T13:25:11.543Z"
   },
   {
    "duration": 122,
    "start_time": "2023-02-25T13:25:11.994Z"
   },
   {
    "duration": 99,
    "start_time": "2023-02-25T13:25:12.118Z"
   },
   {
    "duration": 924,
    "start_time": "2023-02-25T13:25:12.219Z"
   },
   {
    "duration": 163,
    "start_time": "2023-02-25T13:25:13.145Z"
   },
   {
    "duration": 62,
    "start_time": "2023-02-25T13:25:13.309Z"
   },
   {
    "duration": 2,
    "start_time": "2023-02-25T13:25:13.373Z"
   },
   {
    "duration": 1689,
    "start_time": "2023-02-25T13:25:13.377Z"
   },
   {
    "duration": 46,
    "start_time": "2023-02-25T13:25:15.068Z"
   },
   {
    "duration": 59,
    "start_time": "2023-02-25T13:25:15.116Z"
   },
   {
    "duration": 327,
    "start_time": "2023-02-25T13:25:15.178Z"
   },
   {
    "duration": 27,
    "start_time": "2023-02-25T13:25:15.507Z"
   },
   {
    "duration": 64,
    "start_time": "2023-02-25T13:25:15.536Z"
   },
   {
    "duration": 12,
    "start_time": "2023-02-25T13:25:15.602Z"
   },
   {
    "duration": 58,
    "start_time": "2023-02-25T13:25:15.616Z"
   },
   {
    "duration": 5560,
    "start_time": "2023-02-25T13:25:15.676Z"
   },
   {
    "duration": 4,
    "start_time": "2023-02-25T13:25:21.239Z"
   },
   {
    "duration": 11,
    "start_time": "2023-02-25T13:25:21.244Z"
   },
   {
    "duration": 28,
    "start_time": "2023-02-25T13:25:21.257Z"
   },
   {
    "duration": 26,
    "start_time": "2023-02-25T13:25:21.286Z"
   },
   {
    "duration": 3,
    "start_time": "2023-02-25T13:25:21.314Z"
   },
   {
    "duration": 5,
    "start_time": "2023-02-25T13:25:21.318Z"
   },
   {
    "duration": 26591,
    "start_time": "2023-02-25T13:25:21.325Z"
   },
   {
    "duration": 0,
    "start_time": "2023-02-25T13:25:47.917Z"
   },
   {
    "duration": 0,
    "start_time": "2023-02-25T13:25:47.919Z"
   },
   {
    "duration": 0,
    "start_time": "2023-02-25T13:25:47.920Z"
   },
   {
    "duration": 0,
    "start_time": "2023-02-25T13:25:47.921Z"
   },
   {
    "duration": 0,
    "start_time": "2023-02-25T13:25:47.922Z"
   },
   {
    "duration": 0,
    "start_time": "2023-02-25T13:25:47.923Z"
   },
   {
    "duration": 0,
    "start_time": "2023-02-25T13:25:47.924Z"
   },
   {
    "duration": 0,
    "start_time": "2023-02-25T13:25:47.925Z"
   },
   {
    "duration": 0,
    "start_time": "2023-02-25T13:25:47.926Z"
   },
   {
    "duration": 0,
    "start_time": "2023-02-25T13:25:47.927Z"
   },
   {
    "duration": 0,
    "start_time": "2023-02-25T13:25:47.928Z"
   },
   {
    "duration": 0,
    "start_time": "2023-02-25T13:25:47.929Z"
   },
   {
    "duration": 0,
    "start_time": "2023-02-25T13:25:47.930Z"
   },
   {
    "duration": 0,
    "start_time": "2023-02-25T13:25:47.931Z"
   },
   {
    "duration": 0,
    "start_time": "2023-02-25T13:25:47.953Z"
   },
   {
    "duration": 0,
    "start_time": "2023-02-25T13:25:47.955Z"
   },
   {
    "duration": 0,
    "start_time": "2023-02-25T13:25:47.956Z"
   },
   {
    "duration": 0,
    "start_time": "2023-02-25T13:25:47.957Z"
   },
   {
    "duration": 12048,
    "start_time": "2023-02-25T13:26:59.317Z"
   },
   {
    "duration": 1401,
    "start_time": "2023-02-25T13:27:30.597Z"
   },
   {
    "duration": 850,
    "start_time": "2023-02-25T13:27:32.000Z"
   },
   {
    "duration": 761,
    "start_time": "2023-02-25T13:27:32.853Z"
   },
   {
    "duration": 556,
    "start_time": "2023-02-25T13:27:33.615Z"
   },
   {
    "duration": 134,
    "start_time": "2023-02-25T13:27:34.174Z"
   },
   {
    "duration": 97,
    "start_time": "2023-02-25T13:27:34.310Z"
   },
   {
    "duration": 976,
    "start_time": "2023-02-25T13:27:34.408Z"
   },
   {
    "duration": 188,
    "start_time": "2023-02-25T13:27:35.386Z"
   },
   {
    "duration": 58,
    "start_time": "2023-02-25T13:27:35.576Z"
   },
   {
    "duration": 3,
    "start_time": "2023-02-25T13:27:35.635Z"
   },
   {
    "duration": 1922,
    "start_time": "2023-02-25T13:27:35.653Z"
   },
   {
    "duration": 48,
    "start_time": "2023-02-25T13:27:37.577Z"
   },
   {
    "duration": 48,
    "start_time": "2023-02-25T13:27:37.626Z"
   },
   {
    "duration": 322,
    "start_time": "2023-02-25T13:27:37.677Z"
   },
   {
    "duration": 27,
    "start_time": "2023-02-25T13:27:38.001Z"
   },
   {
    "duration": 59,
    "start_time": "2023-02-25T13:27:38.030Z"
   },
   {
    "duration": 10,
    "start_time": "2023-02-25T13:27:38.090Z"
   },
   {
    "duration": 36,
    "start_time": "2023-02-25T13:27:38.101Z"
   },
   {
    "duration": 5442,
    "start_time": "2023-02-25T13:27:38.153Z"
   },
   {
    "duration": 3,
    "start_time": "2023-02-25T13:27:43.597Z"
   },
   {
    "duration": 4,
    "start_time": "2023-02-25T13:27:43.602Z"
   },
   {
    "duration": 28,
    "start_time": "2023-02-25T13:27:43.607Z"
   },
   {
    "duration": 44,
    "start_time": "2023-02-25T13:27:43.637Z"
   },
   {
    "duration": 4,
    "start_time": "2023-02-25T13:27:43.682Z"
   },
   {
    "duration": 7,
    "start_time": "2023-02-25T13:27:43.688Z"
   },
   {
    "duration": 12075,
    "start_time": "2023-02-25T13:27:43.696Z"
   },
   {
    "duration": 89,
    "start_time": "2023-02-25T13:27:55.773Z"
   },
   {
    "duration": 11,
    "start_time": "2023-02-25T13:27:55.863Z"
   },
   {
    "duration": 101,
    "start_time": "2023-02-25T13:27:55.954Z"
   },
   {
    "duration": 6719,
    "start_time": "2023-02-25T13:27:56.057Z"
   },
   {
    "duration": 1170,
    "start_time": "2023-02-25T13:28:02.778Z"
   },
   {
    "duration": 22,
    "start_time": "2023-02-25T13:28:03.950Z"
   },
   {
    "duration": 5,
    "start_time": "2023-02-25T13:28:03.973Z"
   },
   {
    "duration": 56683,
    "start_time": "2023-02-25T13:28:03.979Z"
   },
   {
    "duration": 2,
    "start_time": "2023-02-25T13:29:00.664Z"
   },
   {
    "duration": 2386,
    "start_time": "2023-02-25T13:29:00.668Z"
   },
   {
    "duration": 701,
    "start_time": "2023-02-25T13:29:03.056Z"
   },
   {
    "duration": 5,
    "start_time": "2023-02-25T13:29:03.758Z"
   },
   {
    "duration": 8807,
    "start_time": "2023-02-25T13:29:03.765Z"
   },
   {
    "duration": 414,
    "start_time": "2023-02-25T13:29:12.573Z"
   },
   {
    "duration": 48,
    "start_time": "2023-02-25T13:29:12.990Z"
   },
   {
    "duration": 16,
    "start_time": "2023-02-25T13:29:13.040Z"
   },
   {
    "duration": 12,
    "start_time": "2023-02-25T13:29:13.057Z"
   },
   {
    "duration": 476,
    "start_time": "2023-02-25T13:29:13.070Z"
   },
   {
    "duration": 563,
    "start_time": "2023-02-25T13:30:03.215Z"
   },
   {
    "duration": 577,
    "start_time": "2023-02-25T13:32:04.492Z"
   },
   {
    "duration": 450,
    "start_time": "2023-02-25T13:39:00.281Z"
   },
   {
    "duration": 45069,
    "start_time": "2023-02-25T13:43:58.305Z"
   },
   {
    "duration": 3,
    "start_time": "2023-02-25T13:44:51.367Z"
   },
   {
    "duration": 1725,
    "start_time": "2023-02-25T13:46:58.429Z"
   },
   {
    "duration": 958,
    "start_time": "2023-02-25T13:47:00.156Z"
   },
   {
    "duration": 855,
    "start_time": "2023-02-25T13:47:01.116Z"
   },
   {
    "duration": 587,
    "start_time": "2023-02-25T13:47:01.973Z"
   },
   {
    "duration": 147,
    "start_time": "2023-02-25T13:47:02.564Z"
   },
   {
    "duration": 105,
    "start_time": "2023-02-25T13:47:02.713Z"
   },
   {
    "duration": 969,
    "start_time": "2023-02-25T13:47:02.820Z"
   },
   {
    "duration": 175,
    "start_time": "2023-02-25T13:47:03.791Z"
   },
   {
    "duration": 57,
    "start_time": "2023-02-25T13:47:03.968Z"
   },
   {
    "duration": 3,
    "start_time": "2023-02-25T13:47:04.027Z"
   },
   {
    "duration": 1806,
    "start_time": "2023-02-25T13:47:04.031Z"
   },
   {
    "duration": 49,
    "start_time": "2023-02-25T13:47:05.839Z"
   },
   {
    "duration": 36,
    "start_time": "2023-02-25T13:47:05.890Z"
   },
   {
    "duration": 339,
    "start_time": "2023-02-25T13:47:05.928Z"
   },
   {
    "duration": 27,
    "start_time": "2023-02-25T13:47:06.269Z"
   },
   {
    "duration": 60,
    "start_time": "2023-02-25T13:47:06.298Z"
   },
   {
    "duration": 9,
    "start_time": "2023-02-25T13:47:06.360Z"
   },
   {
    "duration": 39,
    "start_time": "2023-02-25T13:47:06.371Z"
   },
   {
    "duration": 35590,
    "start_time": "2023-02-25T13:47:06.412Z"
   },
   {
    "duration": 0,
    "start_time": "2023-02-25T13:47:42.004Z"
   },
   {
    "duration": 0,
    "start_time": "2023-02-25T13:47:42.005Z"
   },
   {
    "duration": 0,
    "start_time": "2023-02-25T13:47:42.006Z"
   },
   {
    "duration": 0,
    "start_time": "2023-02-25T13:47:42.007Z"
   },
   {
    "duration": 0,
    "start_time": "2023-02-25T13:47:42.008Z"
   },
   {
    "duration": 0,
    "start_time": "2023-02-25T13:47:42.009Z"
   },
   {
    "duration": 0,
    "start_time": "2023-02-25T13:47:42.010Z"
   },
   {
    "duration": 0,
    "start_time": "2023-02-25T13:47:42.011Z"
   },
   {
    "duration": 0,
    "start_time": "2023-02-25T13:47:42.012Z"
   },
   {
    "duration": 0,
    "start_time": "2023-02-25T13:47:42.013Z"
   },
   {
    "duration": 0,
    "start_time": "2023-02-25T13:47:42.015Z"
   },
   {
    "duration": 0,
    "start_time": "2023-02-25T13:47:42.016Z"
   },
   {
    "duration": 0,
    "start_time": "2023-02-25T13:47:42.017Z"
   },
   {
    "duration": 0,
    "start_time": "2023-02-25T13:47:42.018Z"
   },
   {
    "duration": 0,
    "start_time": "2023-02-25T13:47:42.019Z"
   },
   {
    "duration": 0,
    "start_time": "2023-02-25T13:47:42.020Z"
   },
   {
    "duration": 0,
    "start_time": "2023-02-25T13:47:42.021Z"
   },
   {
    "duration": 0,
    "start_time": "2023-02-25T13:47:42.022Z"
   },
   {
    "duration": 0,
    "start_time": "2023-02-25T13:47:42.054Z"
   },
   {
    "duration": 0,
    "start_time": "2023-02-25T13:47:42.055Z"
   },
   {
    "duration": 0,
    "start_time": "2023-02-25T13:47:42.055Z"
   },
   {
    "duration": 0,
    "start_time": "2023-02-25T13:47:42.056Z"
   },
   {
    "duration": 0,
    "start_time": "2023-02-25T13:47:42.058Z"
   },
   {
    "duration": 1,
    "start_time": "2023-02-25T13:47:42.058Z"
   },
   {
    "duration": 0,
    "start_time": "2023-02-25T13:47:42.059Z"
   },
   {
    "duration": 5,
    "start_time": "2023-02-25T13:47:54.994Z"
   },
   {
    "duration": 894,
    "start_time": "2023-02-25T13:47:55.002Z"
   },
   {
    "duration": 741,
    "start_time": "2023-02-25T13:47:55.898Z"
   },
   {
    "duration": 509,
    "start_time": "2023-02-25T13:47:56.641Z"
   },
   {
    "duration": 131,
    "start_time": "2023-02-25T13:47:57.151Z"
   },
   {
    "duration": 107,
    "start_time": "2023-02-25T13:47:57.284Z"
   },
   {
    "duration": 1044,
    "start_time": "2023-02-25T13:47:57.393Z"
   },
   {
    "duration": 192,
    "start_time": "2023-02-25T13:47:58.439Z"
   },
   {
    "duration": 59,
    "start_time": "2023-02-25T13:47:58.633Z"
   },
   {
    "duration": 3,
    "start_time": "2023-02-25T13:47:58.695Z"
   },
   {
    "duration": 1845,
    "start_time": "2023-02-25T13:47:58.700Z"
   },
   {
    "duration": 37,
    "start_time": "2023-02-25T13:48:00.547Z"
   },
   {
    "duration": 34,
    "start_time": "2023-02-25T13:48:00.586Z"
   },
   {
    "duration": 349,
    "start_time": "2023-02-25T13:48:00.622Z"
   },
   {
    "duration": 26,
    "start_time": "2023-02-25T13:48:00.973Z"
   },
   {
    "duration": 54,
    "start_time": "2023-02-25T13:48:01.001Z"
   },
   {
    "duration": 16,
    "start_time": "2023-02-25T13:48:01.057Z"
   },
   {
    "duration": 39,
    "start_time": "2023-02-25T13:48:01.075Z"
   },
   {
    "duration": 35883,
    "start_time": "2023-02-25T13:48:01.116Z"
   },
   {
    "duration": 0,
    "start_time": "2023-02-25T13:48:37.001Z"
   },
   {
    "duration": 0,
    "start_time": "2023-02-25T13:48:37.002Z"
   },
   {
    "duration": 0,
    "start_time": "2023-02-25T13:48:37.003Z"
   },
   {
    "duration": 0,
    "start_time": "2023-02-25T13:48:37.004Z"
   },
   {
    "duration": 0,
    "start_time": "2023-02-25T13:48:37.005Z"
   },
   {
    "duration": 0,
    "start_time": "2023-02-25T13:48:37.007Z"
   },
   {
    "duration": 0,
    "start_time": "2023-02-25T13:48:37.009Z"
   },
   {
    "duration": 0,
    "start_time": "2023-02-25T13:48:37.010Z"
   },
   {
    "duration": 0,
    "start_time": "2023-02-25T13:48:37.011Z"
   },
   {
    "duration": 0,
    "start_time": "2023-02-25T13:48:37.012Z"
   },
   {
    "duration": 0,
    "start_time": "2023-02-25T13:48:37.014Z"
   },
   {
    "duration": 0,
    "start_time": "2023-02-25T13:48:37.015Z"
   },
   {
    "duration": 0,
    "start_time": "2023-02-25T13:48:37.016Z"
   },
   {
    "duration": 0,
    "start_time": "2023-02-25T13:48:37.017Z"
   },
   {
    "duration": 0,
    "start_time": "2023-02-25T13:48:37.018Z"
   },
   {
    "duration": 1,
    "start_time": "2023-02-25T13:48:37.019Z"
   },
   {
    "duration": 0,
    "start_time": "2023-02-25T13:48:37.021Z"
   },
   {
    "duration": 0,
    "start_time": "2023-02-25T13:48:37.054Z"
   },
   {
    "duration": 0,
    "start_time": "2023-02-25T13:48:37.055Z"
   },
   {
    "duration": 0,
    "start_time": "2023-02-25T13:48:37.056Z"
   },
   {
    "duration": 0,
    "start_time": "2023-02-25T13:48:37.058Z"
   },
   {
    "duration": 0,
    "start_time": "2023-02-25T13:48:37.059Z"
   },
   {
    "duration": 0,
    "start_time": "2023-02-25T13:48:37.060Z"
   },
   {
    "duration": 0,
    "start_time": "2023-02-25T13:48:37.061Z"
   },
   {
    "duration": 0,
    "start_time": "2023-02-25T13:48:37.062Z"
   },
   {
    "duration": 1551,
    "start_time": "2023-02-25T13:53:23.502Z"
   },
   {
    "duration": 877,
    "start_time": "2023-02-25T13:53:25.055Z"
   },
   {
    "duration": 754,
    "start_time": "2023-02-25T13:53:25.934Z"
   },
   {
    "duration": 542,
    "start_time": "2023-02-25T13:53:26.691Z"
   },
   {
    "duration": 162,
    "start_time": "2023-02-25T13:53:27.235Z"
   },
   {
    "duration": 122,
    "start_time": "2023-02-25T13:53:27.400Z"
   },
   {
    "duration": 912,
    "start_time": "2023-02-25T13:53:27.525Z"
   },
   {
    "duration": 169,
    "start_time": "2023-02-25T13:53:28.438Z"
   },
   {
    "duration": 68,
    "start_time": "2023-02-25T13:53:28.608Z"
   },
   {
    "duration": 2,
    "start_time": "2023-02-25T13:53:28.679Z"
   },
   {
    "duration": 1797,
    "start_time": "2023-02-25T13:53:28.682Z"
   },
   {
    "duration": 48,
    "start_time": "2023-02-25T13:53:30.481Z"
   },
   {
    "duration": 48,
    "start_time": "2023-02-25T13:53:30.531Z"
   },
   {
    "duration": 330,
    "start_time": "2023-02-25T13:53:30.581Z"
   },
   {
    "duration": 27,
    "start_time": "2023-02-25T13:53:30.913Z"
   },
   {
    "duration": 52,
    "start_time": "2023-02-25T13:53:30.942Z"
   },
   {
    "duration": 35,
    "start_time": "2023-02-25T13:53:30.996Z"
   },
   {
    "duration": 46,
    "start_time": "2023-02-25T13:53:31.033Z"
   },
   {
    "duration": 304,
    "start_time": "2023-02-25T13:53:31.080Z"
   },
   {
    "duration": 4,
    "start_time": "2023-02-25T13:53:31.386Z"
   },
   {
    "duration": 7,
    "start_time": "2023-02-25T13:53:31.391Z"
   },
   {
    "duration": 19,
    "start_time": "2023-02-25T13:53:31.400Z"
   },
   {
    "duration": 14,
    "start_time": "2023-02-25T13:53:31.420Z"
   },
   {
    "duration": 5,
    "start_time": "2023-02-25T13:53:31.436Z"
   },
   {
    "duration": 15,
    "start_time": "2023-02-25T13:53:31.453Z"
   },
   {
    "duration": 12101,
    "start_time": "2023-02-25T13:53:31.469Z"
   },
   {
    "duration": 90,
    "start_time": "2023-02-25T13:53:43.572Z"
   },
   {
    "duration": 10,
    "start_time": "2023-02-25T13:53:43.666Z"
   },
   {
    "duration": 176,
    "start_time": "2023-02-25T13:53:43.678Z"
   },
   {
    "duration": 6626,
    "start_time": "2023-02-25T13:53:43.855Z"
   },
   {
    "duration": 1157,
    "start_time": "2023-02-25T13:53:50.483Z"
   },
   {
    "duration": 21,
    "start_time": "2023-02-25T13:53:51.642Z"
   },
   {
    "duration": 5,
    "start_time": "2023-02-25T13:53:51.664Z"
   },
   {
    "duration": 54091,
    "start_time": "2023-02-25T13:53:51.670Z"
   },
   {
    "duration": 3,
    "start_time": "2023-02-25T13:54:45.762Z"
   },
   {
    "duration": 2092,
    "start_time": "2023-02-25T13:54:45.767Z"
   },
   {
    "duration": 615,
    "start_time": "2023-02-25T13:54:47.861Z"
   },
   {
    "duration": 75,
    "start_time": "2023-02-25T13:54:48.478Z"
   },
   {
    "duration": 8562,
    "start_time": "2023-02-25T13:54:48.556Z"
   },
   {
    "duration": 417,
    "start_time": "2023-02-25T13:54:57.120Z"
   },
   {
    "duration": 58,
    "start_time": "2023-02-25T13:54:57.539Z"
   },
   {
    "duration": 8,
    "start_time": "2023-02-25T13:54:57.600Z"
   },
   {
    "duration": 15,
    "start_time": "2023-02-25T13:54:57.611Z"
   },
   {
    "duration": 503,
    "start_time": "2023-02-25T13:54:57.628Z"
   },
   {
    "duration": 179,
    "start_time": "2023-02-25T14:00:51.456Z"
   },
   {
    "duration": 153,
    "start_time": "2023-02-25T14:01:00.878Z"
   },
   {
    "duration": 2056,
    "start_time": "2023-02-25T14:01:05.392Z"
   },
   {
    "duration": 11,
    "start_time": "2023-02-25T14:08:59.187Z"
   },
   {
    "duration": 11,
    "start_time": "2023-02-25T14:11:04.922Z"
   },
   {
    "duration": 17,
    "start_time": "2023-02-25T14:11:09.652Z"
   },
   {
    "duration": 52520,
    "start_time": "2023-02-25T14:11:26.161Z"
   },
   {
    "duration": 3399,
    "start_time": "2023-02-25T14:12:41.504Z"
   },
   {
    "duration": 1084,
    "start_time": "2023-02-25T14:12:44.905Z"
   },
   {
    "duration": 814,
    "start_time": "2023-02-25T14:12:45.991Z"
   },
   {
    "duration": 540,
    "start_time": "2023-02-25T14:12:46.807Z"
   },
   {
    "duration": 164,
    "start_time": "2023-02-25T14:12:47.349Z"
   },
   {
    "duration": 132,
    "start_time": "2023-02-25T14:12:47.516Z"
   },
   {
    "duration": 925,
    "start_time": "2023-02-25T14:12:47.650Z"
   },
   {
    "duration": 175,
    "start_time": "2023-02-25T14:12:48.577Z"
   },
   {
    "duration": 56,
    "start_time": "2023-02-25T14:12:48.753Z"
   },
   {
    "duration": 3,
    "start_time": "2023-02-25T14:12:48.810Z"
   },
   {
    "duration": 1781,
    "start_time": "2023-02-25T14:12:48.814Z"
   },
   {
    "duration": 60,
    "start_time": "2023-02-25T14:12:50.597Z"
   },
   {
    "duration": 34,
    "start_time": "2023-02-25T14:12:50.658Z"
   },
   {
    "duration": 15,
    "start_time": "2023-02-25T14:12:50.695Z"
   },
   {
    "duration": 344,
    "start_time": "2023-02-25T14:12:50.712Z"
   },
   {
    "duration": 28,
    "start_time": "2023-02-25T14:12:51.058Z"
   },
   {
    "duration": 46,
    "start_time": "2023-02-25T14:12:51.088Z"
   },
   {
    "duration": 12,
    "start_time": "2023-02-25T14:12:51.153Z"
   },
   {
    "duration": 38,
    "start_time": "2023-02-25T14:12:51.167Z"
   },
   {
    "duration": 44429,
    "start_time": "2023-02-25T14:12:51.207Z"
   },
   {
    "duration": 0,
    "start_time": "2023-02-25T14:13:35.638Z"
   },
   {
    "duration": 0,
    "start_time": "2023-02-25T14:13:35.639Z"
   },
   {
    "duration": 0,
    "start_time": "2023-02-25T14:13:35.641Z"
   },
   {
    "duration": 0,
    "start_time": "2023-02-25T14:13:35.642Z"
   },
   {
    "duration": 0,
    "start_time": "2023-02-25T14:13:35.643Z"
   },
   {
    "duration": 0,
    "start_time": "2023-02-25T14:13:35.643Z"
   },
   {
    "duration": 0,
    "start_time": "2023-02-25T14:13:35.645Z"
   },
   {
    "duration": 0,
    "start_time": "2023-02-25T14:13:35.653Z"
   },
   {
    "duration": 0,
    "start_time": "2023-02-25T14:13:35.654Z"
   },
   {
    "duration": 0,
    "start_time": "2023-02-25T14:13:35.655Z"
   },
   {
    "duration": 0,
    "start_time": "2023-02-25T14:13:35.656Z"
   },
   {
    "duration": 0,
    "start_time": "2023-02-25T14:13:35.657Z"
   },
   {
    "duration": 0,
    "start_time": "2023-02-25T14:13:35.658Z"
   },
   {
    "duration": 0,
    "start_time": "2023-02-25T14:13:35.659Z"
   },
   {
    "duration": 0,
    "start_time": "2023-02-25T14:13:35.660Z"
   },
   {
    "duration": 0,
    "start_time": "2023-02-25T14:13:35.661Z"
   },
   {
    "duration": 0,
    "start_time": "2023-02-25T14:13:35.663Z"
   },
   {
    "duration": 0,
    "start_time": "2023-02-25T14:13:35.664Z"
   },
   {
    "duration": 1,
    "start_time": "2023-02-25T14:13:35.664Z"
   },
   {
    "duration": 0,
    "start_time": "2023-02-25T14:13:35.665Z"
   },
   {
    "duration": 0,
    "start_time": "2023-02-25T14:13:35.666Z"
   },
   {
    "duration": 0,
    "start_time": "2023-02-25T14:13:35.667Z"
   },
   {
    "duration": 0,
    "start_time": "2023-02-25T14:13:35.668Z"
   },
   {
    "duration": 0,
    "start_time": "2023-02-25T14:13:35.669Z"
   },
   {
    "duration": 0,
    "start_time": "2023-02-25T14:13:35.671Z"
   },
   {
    "duration": 5987,
    "start_time": "2023-02-25T14:14:03.475Z"
   },
   {
    "duration": 1396,
    "start_time": "2023-02-25T14:15:19.062Z"
   },
   {
    "duration": 814,
    "start_time": "2023-02-25T14:15:20.460Z"
   },
   {
    "duration": 717,
    "start_time": "2023-02-25T14:15:21.275Z"
   },
   {
    "duration": 500,
    "start_time": "2023-02-25T14:15:21.994Z"
   },
   {
    "duration": 124,
    "start_time": "2023-02-25T14:15:22.496Z"
   },
   {
    "duration": 97,
    "start_time": "2023-02-25T14:15:22.622Z"
   },
   {
    "duration": 947,
    "start_time": "2023-02-25T14:15:22.721Z"
   },
   {
    "duration": 177,
    "start_time": "2023-02-25T14:15:23.670Z"
   },
   {
    "duration": 57,
    "start_time": "2023-02-25T14:15:23.852Z"
   },
   {
    "duration": 3,
    "start_time": "2023-02-25T14:15:23.912Z"
   },
   {
    "duration": 1937,
    "start_time": "2023-02-25T14:15:23.916Z"
   },
   {
    "duration": 46,
    "start_time": "2023-02-25T14:15:25.855Z"
   },
   {
    "duration": 35,
    "start_time": "2023-02-25T14:15:25.903Z"
   },
   {
    "duration": 2,
    "start_time": "2023-02-25T14:15:25.954Z"
   },
   {
    "duration": 303,
    "start_time": "2023-02-25T14:15:25.958Z"
   },
   {
    "duration": 32,
    "start_time": "2023-02-25T14:15:26.263Z"
   },
   {
    "duration": 58,
    "start_time": "2023-02-25T14:15:26.296Z"
   },
   {
    "duration": 17,
    "start_time": "2023-02-25T14:15:26.356Z"
   },
   {
    "duration": 47,
    "start_time": "2023-02-25T14:15:26.375Z"
   },
   {
    "duration": 6372,
    "start_time": "2023-02-25T14:15:26.424Z"
   },
   {
    "duration": 4,
    "start_time": "2023-02-25T14:15:32.799Z"
   },
   {
    "duration": 5,
    "start_time": "2023-02-25T14:15:32.804Z"
   },
   {
    "duration": 44,
    "start_time": "2023-02-25T14:15:32.810Z"
   },
   {
    "duration": 25,
    "start_time": "2023-02-25T14:15:32.856Z"
   },
   {
    "duration": 4,
    "start_time": "2023-02-25T14:15:32.883Z"
   },
   {
    "duration": 8,
    "start_time": "2023-02-25T14:15:32.888Z"
   },
   {
    "duration": 12078,
    "start_time": "2023-02-25T14:15:32.897Z"
   },
   {
    "duration": 77,
    "start_time": "2023-02-25T14:15:44.978Z"
   },
   {
    "duration": 99,
    "start_time": "2023-02-25T14:15:45.057Z"
   },
   {
    "duration": 100,
    "start_time": "2023-02-25T14:15:45.159Z"
   },
   {
    "duration": 6801,
    "start_time": "2023-02-25T14:15:45.261Z"
   },
   {
    "duration": 1116,
    "start_time": "2023-02-25T14:15:52.064Z"
   },
   {
    "duration": 25,
    "start_time": "2023-02-25T14:15:53.182Z"
   },
   {
    "duration": 4,
    "start_time": "2023-02-25T14:15:53.209Z"
   },
   {
    "duration": 47843,
    "start_time": "2023-02-25T14:15:53.215Z"
   },
   {
    "duration": 2,
    "start_time": "2023-02-25T14:16:41.060Z"
   },
   {
    "duration": 1797,
    "start_time": "2023-02-25T14:16:41.064Z"
   },
   {
    "duration": 701,
    "start_time": "2023-02-25T14:16:42.863Z"
   },
   {
    "duration": 6,
    "start_time": "2023-02-25T14:16:43.566Z"
   },
   {
    "duration": 8815,
    "start_time": "2023-02-25T14:16:43.573Z"
   },
   {
    "duration": 429,
    "start_time": "2023-02-25T14:16:52.390Z"
   },
   {
    "duration": 59,
    "start_time": "2023-02-25T14:16:52.820Z"
   },
   {
    "duration": 4,
    "start_time": "2023-02-25T14:16:52.881Z"
   },
   {
    "duration": 13,
    "start_time": "2023-02-25T14:16:52.886Z"
   },
   {
    "duration": 446,
    "start_time": "2023-02-25T14:16:52.901Z"
   },
   {
    "duration": 1812,
    "start_time": "2023-02-25T14:51:57.194Z"
   },
   {
    "duration": 2901,
    "start_time": "2023-02-25T14:51:59.008Z"
   },
   {
    "duration": 747,
    "start_time": "2023-02-25T14:52:01.911Z"
   },
   {
    "duration": 518,
    "start_time": "2023-02-25T14:52:02.660Z"
   },
   {
    "duration": 117,
    "start_time": "2023-02-25T14:52:03.180Z"
   },
   {
    "duration": 78,
    "start_time": "2023-02-25T14:52:03.299Z"
   },
   {
    "duration": 918,
    "start_time": "2023-02-25T14:52:03.379Z"
   },
   {
    "duration": 169,
    "start_time": "2023-02-25T14:52:04.298Z"
   },
   {
    "duration": 62,
    "start_time": "2023-02-25T14:52:04.469Z"
   },
   {
    "duration": 2,
    "start_time": "2023-02-25T14:52:04.534Z"
   },
   {
    "duration": 1820,
    "start_time": "2023-02-25T14:52:04.538Z"
   },
   {
    "duration": 55,
    "start_time": "2023-02-25T14:52:06.360Z"
   },
   {
    "duration": 38,
    "start_time": "2023-02-25T14:52:06.417Z"
   },
   {
    "duration": 3,
    "start_time": "2023-02-25T14:52:06.457Z"
   },
   {
    "duration": 355,
    "start_time": "2023-02-25T14:52:06.462Z"
   },
   {
    "duration": 38,
    "start_time": "2023-02-25T14:52:06.819Z"
   },
   {
    "duration": 49,
    "start_time": "2023-02-25T14:52:06.860Z"
   },
   {
    "duration": 10,
    "start_time": "2023-02-25T14:52:06.911Z"
   },
   {
    "duration": 32,
    "start_time": "2023-02-25T14:52:06.923Z"
   },
   {
    "duration": 395,
    "start_time": "2023-02-25T14:52:06.957Z"
   },
   {
    "duration": 0,
    "start_time": "2023-02-25T14:52:07.354Z"
   },
   {
    "duration": 0,
    "start_time": "2023-02-25T14:52:07.355Z"
   },
   {
    "duration": 0,
    "start_time": "2023-02-25T14:52:07.356Z"
   },
   {
    "duration": 0,
    "start_time": "2023-02-25T14:52:07.357Z"
   },
   {
    "duration": 0,
    "start_time": "2023-02-25T14:52:07.359Z"
   },
   {
    "duration": 0,
    "start_time": "2023-02-25T14:52:07.360Z"
   },
   {
    "duration": 0,
    "start_time": "2023-02-25T14:52:07.361Z"
   },
   {
    "duration": 0,
    "start_time": "2023-02-25T14:52:07.362Z"
   },
   {
    "duration": 0,
    "start_time": "2023-02-25T14:52:07.363Z"
   },
   {
    "duration": 0,
    "start_time": "2023-02-25T14:52:07.364Z"
   },
   {
    "duration": 0,
    "start_time": "2023-02-25T14:52:07.365Z"
   },
   {
    "duration": 0,
    "start_time": "2023-02-25T14:52:07.366Z"
   },
   {
    "duration": 0,
    "start_time": "2023-02-25T14:52:07.367Z"
   },
   {
    "duration": 0,
    "start_time": "2023-02-25T14:52:07.368Z"
   },
   {
    "duration": 0,
    "start_time": "2023-02-25T14:52:07.369Z"
   },
   {
    "duration": 0,
    "start_time": "2023-02-25T14:52:07.392Z"
   },
   {
    "duration": 0,
    "start_time": "2023-02-25T14:52:07.393Z"
   },
   {
    "duration": 0,
    "start_time": "2023-02-25T14:52:07.394Z"
   },
   {
    "duration": 0,
    "start_time": "2023-02-25T14:52:07.395Z"
   },
   {
    "duration": 0,
    "start_time": "2023-02-25T14:52:07.396Z"
   },
   {
    "duration": 0,
    "start_time": "2023-02-25T14:52:07.397Z"
   },
   {
    "duration": 0,
    "start_time": "2023-02-25T14:52:07.398Z"
   },
   {
    "duration": 0,
    "start_time": "2023-02-25T14:52:07.399Z"
   },
   {
    "duration": 0,
    "start_time": "2023-02-25T14:52:07.401Z"
   },
   {
    "duration": 0,
    "start_time": "2023-02-25T14:52:07.402Z"
   },
   {
    "duration": 143,
    "start_time": "2023-02-25T14:54:22.858Z"
   },
   {
    "duration": 235,
    "start_time": "2023-02-25T14:58:59.686Z"
   },
   {
    "duration": 4762,
    "start_time": "2023-02-25T14:59:12.177Z"
   },
   {
    "duration": 146,
    "start_time": "2023-02-25T15:01:11.581Z"
   },
   {
    "duration": 131,
    "start_time": "2023-02-25T15:01:55.643Z"
   },
   {
    "duration": 127,
    "start_time": "2023-02-25T15:02:03.465Z"
   },
   {
    "duration": 216,
    "start_time": "2023-02-25T15:02:20.406Z"
   },
   {
    "duration": 151,
    "start_time": "2023-02-25T15:03:00.113Z"
   },
   {
    "duration": 4462,
    "start_time": "2023-02-25T15:03:46.678Z"
   },
   {
    "duration": 131,
    "start_time": "2023-02-25T15:04:25.183Z"
   },
   {
    "duration": 1834,
    "start_time": "2023-02-25T15:04:46.910Z"
   },
   {
    "duration": 900,
    "start_time": "2023-02-25T15:04:48.747Z"
   },
   {
    "duration": 819,
    "start_time": "2023-02-25T15:04:49.649Z"
   },
   {
    "duration": 575,
    "start_time": "2023-02-25T15:04:50.470Z"
   },
   {
    "duration": 123,
    "start_time": "2023-02-25T15:04:51.048Z"
   },
   {
    "duration": 143,
    "start_time": "2023-02-25T15:04:51.173Z"
   },
   {
    "duration": 1163,
    "start_time": "2023-02-25T15:04:51.318Z"
   },
   {
    "duration": 202,
    "start_time": "2023-02-25T15:04:52.484Z"
   },
   {
    "duration": 66,
    "start_time": "2023-02-25T15:04:52.688Z"
   },
   {
    "duration": 3,
    "start_time": "2023-02-25T15:04:52.757Z"
   },
   {
    "duration": 1859,
    "start_time": "2023-02-25T15:04:52.763Z"
   },
   {
    "duration": 46,
    "start_time": "2023-02-25T15:04:54.623Z"
   },
   {
    "duration": 54,
    "start_time": "2023-02-25T15:04:54.671Z"
   },
   {
    "duration": 3,
    "start_time": "2023-02-25T15:04:54.729Z"
   },
   {
    "duration": 367,
    "start_time": "2023-02-25T15:04:54.733Z"
   },
   {
    "duration": 33,
    "start_time": "2023-02-25T15:04:55.103Z"
   },
   {
    "duration": 70,
    "start_time": "2023-02-25T15:04:55.139Z"
   },
   {
    "duration": 36,
    "start_time": "2023-02-25T15:04:55.210Z"
   },
   {
    "duration": 62,
    "start_time": "2023-02-25T15:04:55.249Z"
   },
   {
    "duration": 4,
    "start_time": "2023-02-25T15:04:55.313Z"
   },
   {
    "duration": 236,
    "start_time": "2023-02-25T15:04:55.319Z"
   },
   {
    "duration": 4,
    "start_time": "2023-02-25T15:04:55.558Z"
   },
   {
    "duration": 9,
    "start_time": "2023-02-25T15:04:55.565Z"
   },
   {
    "duration": 26,
    "start_time": "2023-02-25T15:04:55.576Z"
   },
   {
    "duration": 14,
    "start_time": "2023-02-25T15:04:55.605Z"
   },
   {
    "duration": 24,
    "start_time": "2023-02-25T15:04:55.621Z"
   },
   {
    "duration": 10,
    "start_time": "2023-02-25T15:04:55.647Z"
   },
   {
    "duration": 2000,
    "start_time": "2023-02-25T15:04:55.658Z"
   },
   {
    "duration": 0,
    "start_time": "2023-02-25T15:04:57.660Z"
   },
   {
    "duration": 0,
    "start_time": "2023-02-25T15:04:57.661Z"
   },
   {
    "duration": 0,
    "start_time": "2023-02-25T15:04:57.663Z"
   },
   {
    "duration": 0,
    "start_time": "2023-02-25T15:04:57.664Z"
   },
   {
    "duration": 0,
    "start_time": "2023-02-25T15:04:57.665Z"
   },
   {
    "duration": 0,
    "start_time": "2023-02-25T15:04:57.666Z"
   },
   {
    "duration": 0,
    "start_time": "2023-02-25T15:04:57.668Z"
   },
   {
    "duration": 0,
    "start_time": "2023-02-25T15:04:57.669Z"
   },
   {
    "duration": 0,
    "start_time": "2023-02-25T15:04:57.670Z"
   },
   {
    "duration": 0,
    "start_time": "2023-02-25T15:04:57.671Z"
   },
   {
    "duration": 0,
    "start_time": "2023-02-25T15:04:57.692Z"
   },
   {
    "duration": 0,
    "start_time": "2023-02-25T15:04:57.693Z"
   },
   {
    "duration": 0,
    "start_time": "2023-02-25T15:04:57.695Z"
   },
   {
    "duration": 0,
    "start_time": "2023-02-25T15:04:57.696Z"
   },
   {
    "duration": 0,
    "start_time": "2023-02-25T15:04:57.697Z"
   },
   {
    "duration": 0,
    "start_time": "2023-02-25T15:04:57.698Z"
   },
   {
    "duration": 0,
    "start_time": "2023-02-25T15:04:57.700Z"
   },
   {
    "duration": 0,
    "start_time": "2023-02-25T15:04:57.700Z"
   },
   {
    "duration": 323,
    "start_time": "2023-02-25T15:05:21.221Z"
   },
   {
    "duration": 417,
    "start_time": "2023-02-25T15:05:35.771Z"
   },
   {
    "duration": 309,
    "start_time": "2023-02-25T15:06:16.869Z"
   },
   {
    "duration": 281,
    "start_time": "2023-02-25T15:06:25.031Z"
   },
   {
    "duration": 21,
    "start_time": "2023-02-25T15:06:45.440Z"
   },
   {
    "duration": 5,
    "start_time": "2023-02-25T15:06:53.108Z"
   },
   {
    "duration": 1769,
    "start_time": "2023-02-25T15:07:15.412Z"
   },
   {
    "duration": 895,
    "start_time": "2023-02-25T15:07:17.183Z"
   },
   {
    "duration": 715,
    "start_time": "2023-02-25T15:07:18.080Z"
   },
   {
    "duration": 543,
    "start_time": "2023-02-25T15:07:18.797Z"
   },
   {
    "duration": 115,
    "start_time": "2023-02-25T15:07:19.342Z"
   },
   {
    "duration": 97,
    "start_time": "2023-02-25T15:07:19.459Z"
   },
   {
    "duration": 939,
    "start_time": "2023-02-25T15:07:19.558Z"
   },
   {
    "duration": 193,
    "start_time": "2023-02-25T15:07:20.499Z"
   },
   {
    "duration": 58,
    "start_time": "2023-02-25T15:07:20.693Z"
   },
   {
    "duration": 3,
    "start_time": "2023-02-25T15:07:20.753Z"
   },
   {
    "duration": 1955,
    "start_time": "2023-02-25T15:07:20.757Z"
   },
   {
    "duration": 48,
    "start_time": "2023-02-25T15:07:22.714Z"
   },
   {
    "duration": 55,
    "start_time": "2023-02-25T15:07:22.763Z"
   },
   {
    "duration": 2,
    "start_time": "2023-02-25T15:07:22.821Z"
   },
   {
    "duration": 325,
    "start_time": "2023-02-25T15:07:22.825Z"
   },
   {
    "duration": 30,
    "start_time": "2023-02-25T15:07:23.152Z"
   },
   {
    "duration": 50,
    "start_time": "2023-02-25T15:07:23.192Z"
   },
   {
    "duration": 16,
    "start_time": "2023-02-25T15:07:23.245Z"
   },
   {
    "duration": 66,
    "start_time": "2023-02-25T15:07:23.263Z"
   },
   {
    "duration": 3,
    "start_time": "2023-02-25T15:07:23.331Z"
   },
   {
    "duration": 335,
    "start_time": "2023-02-25T15:07:23.336Z"
   },
   {
    "duration": 4,
    "start_time": "2023-02-25T15:07:23.673Z"
   },
   {
    "duration": 155,
    "start_time": "2023-02-25T15:07:23.679Z"
   },
   {
    "duration": 0,
    "start_time": "2023-02-25T15:07:23.835Z"
   },
   {
    "duration": 0,
    "start_time": "2023-02-25T15:07:23.837Z"
   },
   {
    "duration": 0,
    "start_time": "2023-02-25T15:07:23.838Z"
   },
   {
    "duration": 0,
    "start_time": "2023-02-25T15:07:23.839Z"
   },
   {
    "duration": 0,
    "start_time": "2023-02-25T15:07:23.840Z"
   },
   {
    "duration": 0,
    "start_time": "2023-02-25T15:07:23.841Z"
   },
   {
    "duration": 0,
    "start_time": "2023-02-25T15:07:23.842Z"
   },
   {
    "duration": 0,
    "start_time": "2023-02-25T15:07:23.844Z"
   },
   {
    "duration": 0,
    "start_time": "2023-02-25T15:07:23.845Z"
   },
   {
    "duration": 0,
    "start_time": "2023-02-25T15:07:23.846Z"
   },
   {
    "duration": 0,
    "start_time": "2023-02-25T15:07:23.847Z"
   },
   {
    "duration": 0,
    "start_time": "2023-02-25T15:07:23.848Z"
   },
   {
    "duration": 0,
    "start_time": "2023-02-25T15:07:23.849Z"
   },
   {
    "duration": 0,
    "start_time": "2023-02-25T15:07:23.850Z"
   },
   {
    "duration": 0,
    "start_time": "2023-02-25T15:07:23.852Z"
   },
   {
    "duration": 0,
    "start_time": "2023-02-25T15:07:23.853Z"
   },
   {
    "duration": 0,
    "start_time": "2023-02-25T15:07:23.854Z"
   },
   {
    "duration": 0,
    "start_time": "2023-02-25T15:07:23.855Z"
   },
   {
    "duration": 0,
    "start_time": "2023-02-25T15:07:23.892Z"
   },
   {
    "duration": 0,
    "start_time": "2023-02-25T15:07:23.894Z"
   },
   {
    "duration": 0,
    "start_time": "2023-02-25T15:07:23.895Z"
   },
   {
    "duration": 0,
    "start_time": "2023-02-25T15:07:23.896Z"
   },
   {
    "duration": 0,
    "start_time": "2023-02-25T15:07:23.897Z"
   },
   {
    "duration": 0,
    "start_time": "2023-02-25T15:07:23.899Z"
   },
   {
    "duration": 17,
    "start_time": "2023-02-25T15:08:17.340Z"
   },
   {
    "duration": 25,
    "start_time": "2023-02-25T15:08:22.085Z"
   },
   {
    "duration": 22,
    "start_time": "2023-02-25T15:08:46.880Z"
   },
   {
    "duration": 32,
    "start_time": "2023-02-25T15:08:54.289Z"
   },
   {
    "duration": 1579,
    "start_time": "2023-02-25T15:10:03.144Z"
   },
   {
    "duration": 895,
    "start_time": "2023-02-25T15:10:04.725Z"
   },
   {
    "duration": 805,
    "start_time": "2023-02-25T15:10:05.622Z"
   },
   {
    "duration": 538,
    "start_time": "2023-02-25T15:10:06.429Z"
   },
   {
    "duration": 123,
    "start_time": "2023-02-25T15:10:06.969Z"
   },
   {
    "duration": 79,
    "start_time": "2023-02-25T15:10:07.094Z"
   },
   {
    "duration": 965,
    "start_time": "2023-02-25T15:10:07.175Z"
   },
   {
    "duration": 185,
    "start_time": "2023-02-25T15:10:08.142Z"
   },
   {
    "duration": 66,
    "start_time": "2023-02-25T15:10:08.329Z"
   },
   {
    "duration": 3,
    "start_time": "2023-02-25T15:10:08.397Z"
   },
   {
    "duration": 1880,
    "start_time": "2023-02-25T15:10:08.401Z"
   },
   {
    "duration": 49,
    "start_time": "2023-02-25T15:10:10.283Z"
   },
   {
    "duration": 34,
    "start_time": "2023-02-25T15:10:10.334Z"
   },
   {
    "duration": 3,
    "start_time": "2023-02-25T15:10:10.371Z"
   },
   {
    "duration": 324,
    "start_time": "2023-02-25T15:10:10.375Z"
   },
   {
    "duration": 37,
    "start_time": "2023-02-25T15:10:10.702Z"
   },
   {
    "duration": 54,
    "start_time": "2023-02-25T15:10:10.741Z"
   },
   {
    "duration": 13,
    "start_time": "2023-02-25T15:10:10.797Z"
   },
   {
    "duration": 64,
    "start_time": "2023-02-25T15:10:10.812Z"
   },
   {
    "duration": 3,
    "start_time": "2023-02-25T15:10:10.878Z"
   },
   {
    "duration": 335,
    "start_time": "2023-02-25T15:10:10.882Z"
   },
   {
    "duration": 125,
    "start_time": "2023-02-25T15:10:11.219Z"
   },
   {
    "duration": 0,
    "start_time": "2023-02-25T15:10:11.345Z"
   },
   {
    "duration": 0,
    "start_time": "2023-02-25T15:10:11.346Z"
   },
   {
    "duration": 0,
    "start_time": "2023-02-25T15:10:11.347Z"
   },
   {
    "duration": 0,
    "start_time": "2023-02-25T15:10:11.348Z"
   },
   {
    "duration": 0,
    "start_time": "2023-02-25T15:10:11.349Z"
   },
   {
    "duration": 0,
    "start_time": "2023-02-25T15:10:11.351Z"
   },
   {
    "duration": 0,
    "start_time": "2023-02-25T15:10:11.352Z"
   },
   {
    "duration": 0,
    "start_time": "2023-02-25T15:10:11.353Z"
   },
   {
    "duration": 0,
    "start_time": "2023-02-25T15:10:11.353Z"
   },
   {
    "duration": 0,
    "start_time": "2023-02-25T15:10:11.355Z"
   },
   {
    "duration": 0,
    "start_time": "2023-02-25T15:10:11.356Z"
   },
   {
    "duration": 0,
    "start_time": "2023-02-25T15:10:11.356Z"
   },
   {
    "duration": 0,
    "start_time": "2023-02-25T15:10:11.357Z"
   },
   {
    "duration": 0,
    "start_time": "2023-02-25T15:10:11.358Z"
   },
   {
    "duration": 0,
    "start_time": "2023-02-25T15:10:11.359Z"
   },
   {
    "duration": 0,
    "start_time": "2023-02-25T15:10:11.360Z"
   },
   {
    "duration": 0,
    "start_time": "2023-02-25T15:10:11.361Z"
   },
   {
    "duration": 0,
    "start_time": "2023-02-25T15:10:11.392Z"
   },
   {
    "duration": 0,
    "start_time": "2023-02-25T15:10:11.392Z"
   },
   {
    "duration": 0,
    "start_time": "2023-02-25T15:10:11.393Z"
   },
   {
    "duration": 0,
    "start_time": "2023-02-25T15:10:11.394Z"
   },
   {
    "duration": 0,
    "start_time": "2023-02-25T15:10:11.394Z"
   },
   {
    "duration": 0,
    "start_time": "2023-02-25T15:10:11.395Z"
   },
   {
    "duration": 0,
    "start_time": "2023-02-25T15:10:11.396Z"
   },
   {
    "duration": 0,
    "start_time": "2023-02-25T15:10:11.396Z"
   },
   {
    "duration": 0,
    "start_time": "2023-02-25T15:10:11.397Z"
   },
   {
    "duration": 26,
    "start_time": "2023-02-25T15:10:19.486Z"
   },
   {
    "duration": 20,
    "start_time": "2023-02-25T15:10:25.943Z"
   },
   {
    "duration": 18,
    "start_time": "2023-02-25T15:11:16.704Z"
   },
   {
    "duration": 1582,
    "start_time": "2023-02-25T15:11:51.182Z"
   },
   {
    "duration": 842,
    "start_time": "2023-02-25T15:11:52.766Z"
   },
   {
    "duration": 703,
    "start_time": "2023-02-25T15:11:53.610Z"
   },
   {
    "duration": 511,
    "start_time": "2023-02-25T15:11:54.315Z"
   },
   {
    "duration": 114,
    "start_time": "2023-02-25T15:11:54.828Z"
   },
   {
    "duration": 92,
    "start_time": "2023-02-25T15:11:54.944Z"
   },
   {
    "duration": 905,
    "start_time": "2023-02-25T15:11:55.038Z"
   },
   {
    "duration": 202,
    "start_time": "2023-02-25T15:11:55.944Z"
   },
   {
    "duration": 68,
    "start_time": "2023-02-25T15:11:56.148Z"
   },
   {
    "duration": 4,
    "start_time": "2023-02-25T15:11:56.219Z"
   },
   {
    "duration": 1872,
    "start_time": "2023-02-25T15:11:56.226Z"
   },
   {
    "duration": 47,
    "start_time": "2023-02-25T15:11:58.100Z"
   },
   {
    "duration": 53,
    "start_time": "2023-02-25T15:11:58.148Z"
   },
   {
    "duration": 5,
    "start_time": "2023-02-25T15:11:58.205Z"
   },
   {
    "duration": 305,
    "start_time": "2023-02-25T15:11:58.212Z"
   },
   {
    "duration": 31,
    "start_time": "2023-02-25T15:11:58.519Z"
   },
   {
    "duration": 53,
    "start_time": "2023-02-25T15:11:58.552Z"
   },
   {
    "duration": 25,
    "start_time": "2023-02-25T15:11:58.606Z"
   },
   {
    "duration": 46,
    "start_time": "2023-02-25T15:11:58.633Z"
   },
   {
    "duration": 5,
    "start_time": "2023-02-25T15:11:58.681Z"
   },
   {
    "duration": 6259,
    "start_time": "2023-02-25T15:11:58.691Z"
   },
   {
    "duration": 141,
    "start_time": "2023-02-25T15:12:04.952Z"
   },
   {
    "duration": 0,
    "start_time": "2023-02-25T15:12:05.096Z"
   },
   {
    "duration": 0,
    "start_time": "2023-02-25T15:12:05.100Z"
   },
   {
    "duration": 0,
    "start_time": "2023-02-25T15:12:05.101Z"
   },
   {
    "duration": 0,
    "start_time": "2023-02-25T15:12:05.102Z"
   },
   {
    "duration": 0,
    "start_time": "2023-02-25T15:12:05.103Z"
   },
   {
    "duration": 0,
    "start_time": "2023-02-25T15:12:05.104Z"
   },
   {
    "duration": 0,
    "start_time": "2023-02-25T15:12:05.105Z"
   },
   {
    "duration": 0,
    "start_time": "2023-02-25T15:12:05.106Z"
   },
   {
    "duration": 0,
    "start_time": "2023-02-25T15:12:05.108Z"
   },
   {
    "duration": 0,
    "start_time": "2023-02-25T15:12:05.109Z"
   },
   {
    "duration": 0,
    "start_time": "2023-02-25T15:12:05.110Z"
   },
   {
    "duration": 0,
    "start_time": "2023-02-25T15:12:05.111Z"
   },
   {
    "duration": 0,
    "start_time": "2023-02-25T15:12:05.112Z"
   },
   {
    "duration": 0,
    "start_time": "2023-02-25T15:12:05.114Z"
   },
   {
    "duration": 0,
    "start_time": "2023-02-25T15:12:05.115Z"
   },
   {
    "duration": 0,
    "start_time": "2023-02-25T15:12:05.116Z"
   },
   {
    "duration": 0,
    "start_time": "2023-02-25T15:12:05.117Z"
   },
   {
    "duration": 0,
    "start_time": "2023-02-25T15:12:05.118Z"
   },
   {
    "duration": 0,
    "start_time": "2023-02-25T15:12:05.119Z"
   },
   {
    "duration": 0,
    "start_time": "2023-02-25T15:12:05.120Z"
   },
   {
    "duration": 0,
    "start_time": "2023-02-25T15:12:05.121Z"
   },
   {
    "duration": 0,
    "start_time": "2023-02-25T15:12:05.122Z"
   },
   {
    "duration": 0,
    "start_time": "2023-02-25T15:12:05.123Z"
   },
   {
    "duration": 0,
    "start_time": "2023-02-25T15:12:05.124Z"
   },
   {
    "duration": 0,
    "start_time": "2023-02-25T15:12:05.125Z"
   },
   {
    "duration": 0,
    "start_time": "2023-02-25T15:12:05.126Z"
   },
   {
    "duration": 67,
    "start_time": "2023-02-25T15:12:42.307Z"
   },
   {
    "duration": 49,
    "start_time": "2023-02-25T15:12:49.506Z"
   },
   {
    "duration": 4,
    "start_time": "2023-02-25T15:12:57.115Z"
   },
   {
    "duration": 31,
    "start_time": "2023-02-25T15:13:11.883Z"
   },
   {
    "duration": 31,
    "start_time": "2023-02-25T15:13:13.282Z"
   },
   {
    "duration": 4,
    "start_time": "2023-02-25T15:13:20.139Z"
   },
   {
    "duration": 4,
    "start_time": "2023-02-25T15:13:21.217Z"
   },
   {
    "duration": 11602,
    "start_time": "2023-02-25T15:13:31.891Z"
   },
   {
    "duration": 96,
    "start_time": "2023-02-25T15:13:43.497Z"
   },
   {
    "duration": 97,
    "start_time": "2023-02-25T15:13:43.596Z"
   },
   {
    "duration": 8,
    "start_time": "2023-02-25T15:13:43.696Z"
   },
   {
    "duration": 22,
    "start_time": "2023-02-25T15:14:00.124Z"
   },
   {
    "duration": 6192,
    "start_time": "2023-02-25T15:14:27.248Z"
   },
   {
    "duration": 1120,
    "start_time": "2023-02-25T15:14:33.441Z"
   },
   {
    "duration": 22,
    "start_time": "2023-02-25T15:14:34.563Z"
   },
   {
    "duration": 5,
    "start_time": "2023-02-25T15:14:38.383Z"
   },
   {
    "duration": 827088,
    "start_time": "2023-02-25T15:14:42.799Z"
   },
   {
    "duration": 32676,
    "start_time": "2023-02-25T15:28:29.889Z"
   },
   {
    "duration": 68,
    "start_time": "2023-02-25T15:29:02.567Z"
   },
   {
    "duration": 11,
    "start_time": "2023-02-25T15:29:02.638Z"
   },
   {
    "duration": 0,
    "start_time": "2023-02-25T15:29:02.651Z"
   },
   {
    "duration": 0,
    "start_time": "2023-02-25T15:29:02.653Z"
   },
   {
    "duration": 0,
    "start_time": "2023-02-25T15:29:02.654Z"
   },
   {
    "duration": 1,
    "start_time": "2023-02-25T15:29:02.655Z"
   },
   {
    "duration": 0,
    "start_time": "2023-02-25T15:29:02.657Z"
   },
   {
    "duration": 0,
    "start_time": "2023-02-25T15:29:02.658Z"
   },
   {
    "duration": 0,
    "start_time": "2023-02-25T15:29:02.663Z"
   },
   {
    "duration": 18,
    "start_time": "2023-02-25T15:29:05.125Z"
   },
   {
    "duration": 1446,
    "start_time": "2023-03-01T14:45:33.187Z"
   },
   {
    "duration": 2955,
    "start_time": "2023-03-01T14:45:34.635Z"
   },
   {
    "duration": 651,
    "start_time": "2023-03-01T14:45:37.592Z"
   },
   {
    "duration": 458,
    "start_time": "2023-03-01T14:45:38.245Z"
   },
   {
    "duration": 125,
    "start_time": "2023-03-01T14:45:38.705Z"
   },
   {
    "duration": 100,
    "start_time": "2023-03-01T14:45:38.832Z"
   },
   {
    "duration": 839,
    "start_time": "2023-03-01T14:45:38.934Z"
   },
   {
    "duration": 158,
    "start_time": "2023-03-01T14:45:39.775Z"
   },
   {
    "duration": 50,
    "start_time": "2023-03-01T14:45:39.935Z"
   },
   {
    "duration": 3,
    "start_time": "2023-03-01T14:45:39.987Z"
   },
   {
    "duration": 1843,
    "start_time": "2023-03-01T14:45:39.991Z"
   },
   {
    "duration": 41,
    "start_time": "2023-03-01T14:45:41.836Z"
   },
   {
    "duration": 44,
    "start_time": "2023-03-01T14:45:41.879Z"
   },
   {
    "duration": 3,
    "start_time": "2023-03-01T14:45:41.924Z"
   },
   {
    "duration": 350,
    "start_time": "2023-03-01T14:45:41.929Z"
   },
   {
    "duration": 33,
    "start_time": "2023-03-01T14:45:42.281Z"
   },
   {
    "duration": 42,
    "start_time": "2023-03-01T14:45:42.315Z"
   },
   {
    "duration": 13,
    "start_time": "2023-03-01T14:45:42.359Z"
   },
   {
    "duration": 52,
    "start_time": "2023-03-01T14:45:42.373Z"
   },
   {
    "duration": 4484,
    "start_time": "2023-03-01T14:45:42.427Z"
   },
   {
    "duration": 5,
    "start_time": "2023-03-01T14:45:46.914Z"
   },
   {
    "duration": 10,
    "start_time": "2023-03-01T14:45:46.921Z"
   },
   {
    "duration": 42,
    "start_time": "2023-03-01T14:45:46.933Z"
   },
   {
    "duration": 45,
    "start_time": "2023-03-01T14:45:46.977Z"
   },
   {
    "duration": 4,
    "start_time": "2023-03-01T14:45:47.024Z"
   },
   {
    "duration": 22,
    "start_time": "2023-03-01T14:45:47.030Z"
   },
   {
    "duration": 12074,
    "start_time": "2023-03-01T14:45:47.054Z"
   },
   {
    "duration": 80,
    "start_time": "2023-03-01T14:45:59.132Z"
   },
   {
    "duration": 92,
    "start_time": "2023-03-01T14:45:59.213Z"
   },
   {
    "duration": 106,
    "start_time": "2023-03-01T14:45:59.307Z"
   },
   {
    "duration": 6336,
    "start_time": "2023-03-01T14:45:59.415Z"
   },
   {
    "duration": 1044,
    "start_time": "2023-03-01T14:46:05.752Z"
   },
   {
    "duration": 26,
    "start_time": "2023-03-01T14:46:06.799Z"
   },
   {
    "duration": 5,
    "start_time": "2023-03-01T14:46:06.828Z"
   },
   {
    "duration": 52674,
    "start_time": "2023-03-01T14:46:06.836Z"
   },
   {
    "duration": 2,
    "start_time": "2023-03-01T14:46:59.512Z"
   },
   {
    "duration": 3798,
    "start_time": "2023-03-01T14:46:59.516Z"
   },
   {
    "duration": 698,
    "start_time": "2023-03-01T14:47:03.316Z"
   },
   {
    "duration": 6,
    "start_time": "2023-03-01T14:47:04.016Z"
   },
   {
    "duration": 8350,
    "start_time": "2023-03-01T14:47:04.024Z"
   },
   {
    "duration": 394,
    "start_time": "2023-03-01T14:47:12.376Z"
   },
   {
    "duration": 54,
    "start_time": "2023-03-01T14:47:12.772Z"
   },
   {
    "duration": 4,
    "start_time": "2023-03-01T14:47:12.828Z"
   },
   {
    "duration": 10,
    "start_time": "2023-03-01T14:47:12.834Z"
   },
   {
    "duration": 443,
    "start_time": "2023-03-01T14:47:12.845Z"
   }
  ],
  "kernelspec": {
   "display_name": "Python 3 (ipykernel)",
   "language": "python",
   "name": "python3"
  },
  "language_info": {
   "codemirror_mode": {
    "name": "ipython",
    "version": 3
   },
   "file_extension": ".py",
   "mimetype": "text/x-python",
   "name": "python",
   "nbconvert_exporter": "python",
   "pygments_lexer": "ipython3",
   "version": "3.10.9"
  },
  "toc": {
   "base_numbering": 1,
   "nav_menu": {},
   "number_sections": true,
   "sideBar": true,
   "skip_h1_title": true,
   "title_cell": "Table of Contents",
   "title_sidebar": "Contents",
   "toc_cell": false,
   "toc_position": {},
   "toc_section_display": true,
   "toc_window_display": false
  }
 },
 "nbformat": 4,
 "nbformat_minor": 2
}
