{
 "cells": [
  {
   "cell_type": "markdown",
   "metadata": {},
   "source": [
    "## Описание данных\n",
    "\n",
    "Name — название игры\n",
    "\n",
    "Platform — платформа\n",
    "\n",
    "Year_of_Release — год выпуска\n",
    "\n",
    "Genre — жанр игры\n",
    "\n",
    "NA_sales — продажи в Северной Америке (миллионы проданных копий)\n",
    "\n",
    "EU_sales — продажи в Европе (миллионы проданных копий)\n",
    "\n",
    "JP_sales — продажи в Японии (миллионы проданных копий)\n",
    "\n",
    "Other_sales — продажи в других странах (миллионы проданных копий)\n",
    "\n",
    "Critic_Score — оценка критиков (максимум 100)\n",
    "\n",
    "User_Score — оценка пользователей (максимум 10)\n",
    "\n",
    "Rating — рейтинг от организации ESRB (англ. Entertainment Software Rating Board). Эта ассоциация определяет рейтинг компьютерных игр и присваивает им подходящую возрастную категорию.\n",
    "\n",
    "sum_sales - суммарные продажиHere are the main educational projects that I completed while studying at Yandex.Practicum in the \"Data Science\" direction "
   ]
  },
  {
   "cell_type": "markdown",
   "metadata": {},
   "source": [
    "## Открою файлы и изучу общую информацию"
   ]
  },
  {
   "cell_type": "code",
   "execution_count": 1,
   "metadata": {},
   "outputs": [],
   "source": [
    "import pandas as pd\n",
    "import matplotlib.pyplot as plt\n",
    "import numpy as np\n",
    "import seaborn as sns\n",
    "import random\n",
    "from scipy import stats as st\n",
    "\n",
    "pd.options.display.float_format = '{:,.2f}'.format #снижает размерность чисел для вывода на экран на всем проекте, форматирует строки\n",
    "\n",
    "def unic(col):\n",
    "    print(data[col].unique())\n",
    "    return"
   ]
  },
  {
   "cell_type": "code",
   "execution_count": 2,
   "metadata": {},
   "outputs": [
    {
     "name": "stdout",
     "output_type": "stream",
     "text": [
      "<class 'pandas.core.frame.DataFrame'>\n",
      "RangeIndex: 16715 entries, 0 to 16714\n",
      "Data columns (total 11 columns):\n",
      " #   Column           Non-Null Count  Dtype  \n",
      "---  ------           --------------  -----  \n",
      " 0   Name             16713 non-null  object \n",
      " 1   Platform         16715 non-null  object \n",
      " 2   Year_of_Release  16446 non-null  float64\n",
      " 3   Genre            16713 non-null  object \n",
      " 4   NA_sales         16715 non-null  float64\n",
      " 5   EU_sales         16715 non-null  float64\n",
      " 6   JP_sales         16715 non-null  float64\n",
      " 7   Other_sales      16715 non-null  float64\n",
      " 8   Critic_Score     8137 non-null   float64\n",
      " 9   User_Score       10014 non-null  object \n",
      " 10  Rating           9949 non-null   object \n",
      "dtypes: float64(6), object(5)\n",
      "memory usage: 1.4+ MB\n",
      "name                  2\n",
      "platform              0\n",
      "year_of_release     269\n",
      "genre                 2\n",
      "na_sales              0\n",
      "eu_sales              0\n",
      "jp_sales              0\n",
      "other_sales           0\n",
      "critic_score       8578\n",
      "user_score         6701\n",
      "rating             6766\n",
      "dtype: int64\n",
      "\n",
      "Cтрок-дубликатов: 0\n"
     ]
    }
   ],
   "source": [
    "data = pd.read_csv('/datasets/games.csv')\n",
    "data.info()\n",
    "data.columns = map(str.lower, data.columns)\n",
    "print(data.isna().sum())\n",
    "print('\\nCтрок-дубликатов:', data.duplicated().sum())"
   ]
  },
  {
   "cell_type": "code",
   "execution_count": 3,
   "metadata": {},
   "outputs": [
    {
     "data": {
      "text/html": [
       "<div>\n",
       "<style scoped>\n",
       "    .dataframe tbody tr th:only-of-type {\n",
       "        vertical-align: middle;\n",
       "    }\n",
       "\n",
       "    .dataframe tbody tr th {\n",
       "        vertical-align: top;\n",
       "    }\n",
       "\n",
       "    .dataframe thead th {\n",
       "        text-align: right;\n",
       "    }\n",
       "</style>\n",
       "<table border=\"1\" class=\"dataframe\">\n",
       "  <thead>\n",
       "    <tr style=\"text-align: right;\">\n",
       "      <th></th>\n",
       "      <th>name</th>\n",
       "      <th>platform</th>\n",
       "      <th>year_of_release</th>\n",
       "      <th>genre</th>\n",
       "      <th>na_sales</th>\n",
       "      <th>eu_sales</th>\n",
       "      <th>jp_sales</th>\n",
       "      <th>other_sales</th>\n",
       "      <th>critic_score</th>\n",
       "      <th>user_score</th>\n",
       "      <th>rating</th>\n",
       "    </tr>\n",
       "  </thead>\n",
       "  <tbody>\n",
       "    <tr>\n",
       "      <th>count</th>\n",
       "      <td>16713</td>\n",
       "      <td>16715</td>\n",
       "      <td>16,446.00</td>\n",
       "      <td>16713</td>\n",
       "      <td>16,715.00</td>\n",
       "      <td>16,715.00</td>\n",
       "      <td>16,715.00</td>\n",
       "      <td>16,715.00</td>\n",
       "      <td>8,137.00</td>\n",
       "      <td>10014</td>\n",
       "      <td>9949</td>\n",
       "    </tr>\n",
       "    <tr>\n",
       "      <th>unique</th>\n",
       "      <td>11559</td>\n",
       "      <td>31</td>\n",
       "      <td>NaN</td>\n",
       "      <td>12</td>\n",
       "      <td>NaN</td>\n",
       "      <td>NaN</td>\n",
       "      <td>NaN</td>\n",
       "      <td>NaN</td>\n",
       "      <td>NaN</td>\n",
       "      <td>96</td>\n",
       "      <td>8</td>\n",
       "    </tr>\n",
       "    <tr>\n",
       "      <th>top</th>\n",
       "      <td>Need for Speed: Most Wanted</td>\n",
       "      <td>PS2</td>\n",
       "      <td>NaN</td>\n",
       "      <td>Action</td>\n",
       "      <td>NaN</td>\n",
       "      <td>NaN</td>\n",
       "      <td>NaN</td>\n",
       "      <td>NaN</td>\n",
       "      <td>NaN</td>\n",
       "      <td>tbd</td>\n",
       "      <td>E</td>\n",
       "    </tr>\n",
       "    <tr>\n",
       "      <th>freq</th>\n",
       "      <td>12</td>\n",
       "      <td>2161</td>\n",
       "      <td>NaN</td>\n",
       "      <td>3369</td>\n",
       "      <td>NaN</td>\n",
       "      <td>NaN</td>\n",
       "      <td>NaN</td>\n",
       "      <td>NaN</td>\n",
       "      <td>NaN</td>\n",
       "      <td>2424</td>\n",
       "      <td>3990</td>\n",
       "    </tr>\n",
       "    <tr>\n",
       "      <th>mean</th>\n",
       "      <td>NaN</td>\n",
       "      <td>NaN</td>\n",
       "      <td>2,006.48</td>\n",
       "      <td>NaN</td>\n",
       "      <td>0.26</td>\n",
       "      <td>0.15</td>\n",
       "      <td>0.08</td>\n",
       "      <td>0.05</td>\n",
       "      <td>68.97</td>\n",
       "      <td>NaN</td>\n",
       "      <td>NaN</td>\n",
       "    </tr>\n",
       "    <tr>\n",
       "      <th>std</th>\n",
       "      <td>NaN</td>\n",
       "      <td>NaN</td>\n",
       "      <td>5.88</td>\n",
       "      <td>NaN</td>\n",
       "      <td>0.81</td>\n",
       "      <td>0.50</td>\n",
       "      <td>0.31</td>\n",
       "      <td>0.19</td>\n",
       "      <td>13.94</td>\n",
       "      <td>NaN</td>\n",
       "      <td>NaN</td>\n",
       "    </tr>\n",
       "    <tr>\n",
       "      <th>min</th>\n",
       "      <td>NaN</td>\n",
       "      <td>NaN</td>\n",
       "      <td>1,980.00</td>\n",
       "      <td>NaN</td>\n",
       "      <td>0.00</td>\n",
       "      <td>0.00</td>\n",
       "      <td>0.00</td>\n",
       "      <td>0.00</td>\n",
       "      <td>13.00</td>\n",
       "      <td>NaN</td>\n",
       "      <td>NaN</td>\n",
       "    </tr>\n",
       "    <tr>\n",
       "      <th>25%</th>\n",
       "      <td>NaN</td>\n",
       "      <td>NaN</td>\n",
       "      <td>2,003.00</td>\n",
       "      <td>NaN</td>\n",
       "      <td>0.00</td>\n",
       "      <td>0.00</td>\n",
       "      <td>0.00</td>\n",
       "      <td>0.00</td>\n",
       "      <td>60.00</td>\n",
       "      <td>NaN</td>\n",
       "      <td>NaN</td>\n",
       "    </tr>\n",
       "    <tr>\n",
       "      <th>50%</th>\n",
       "      <td>NaN</td>\n",
       "      <td>NaN</td>\n",
       "      <td>2,007.00</td>\n",
       "      <td>NaN</td>\n",
       "      <td>0.08</td>\n",
       "      <td>0.02</td>\n",
       "      <td>0.00</td>\n",
       "      <td>0.01</td>\n",
       "      <td>71.00</td>\n",
       "      <td>NaN</td>\n",
       "      <td>NaN</td>\n",
       "    </tr>\n",
       "    <tr>\n",
       "      <th>75%</th>\n",
       "      <td>NaN</td>\n",
       "      <td>NaN</td>\n",
       "      <td>2,010.00</td>\n",
       "      <td>NaN</td>\n",
       "      <td>0.24</td>\n",
       "      <td>0.11</td>\n",
       "      <td>0.04</td>\n",
       "      <td>0.03</td>\n",
       "      <td>79.00</td>\n",
       "      <td>NaN</td>\n",
       "      <td>NaN</td>\n",
       "    </tr>\n",
       "    <tr>\n",
       "      <th>max</th>\n",
       "      <td>NaN</td>\n",
       "      <td>NaN</td>\n",
       "      <td>2,016.00</td>\n",
       "      <td>NaN</td>\n",
       "      <td>41.36</td>\n",
       "      <td>28.96</td>\n",
       "      <td>10.22</td>\n",
       "      <td>10.57</td>\n",
       "      <td>98.00</td>\n",
       "      <td>NaN</td>\n",
       "      <td>NaN</td>\n",
       "    </tr>\n",
       "  </tbody>\n",
       "</table>\n",
       "</div>"
      ],
      "text/plain": [
       "                               name platform  year_of_release   genre  \\\n",
       "count                         16713    16715        16,446.00   16713   \n",
       "unique                        11559       31              NaN      12   \n",
       "top     Need for Speed: Most Wanted      PS2              NaN  Action   \n",
       "freq                             12     2161              NaN    3369   \n",
       "mean                            NaN      NaN         2,006.48     NaN   \n",
       "std                             NaN      NaN             5.88     NaN   \n",
       "min                             NaN      NaN         1,980.00     NaN   \n",
       "25%                             NaN      NaN         2,003.00     NaN   \n",
       "50%                             NaN      NaN         2,007.00     NaN   \n",
       "75%                             NaN      NaN         2,010.00     NaN   \n",
       "max                             NaN      NaN         2,016.00     NaN   \n",
       "\n",
       "        na_sales  eu_sales  jp_sales  other_sales  critic_score user_score  \\\n",
       "count  16,715.00 16,715.00 16,715.00    16,715.00      8,137.00      10014   \n",
       "unique       NaN       NaN       NaN          NaN           NaN         96   \n",
       "top          NaN       NaN       NaN          NaN           NaN        tbd   \n",
       "freq         NaN       NaN       NaN          NaN           NaN       2424   \n",
       "mean        0.26      0.15      0.08         0.05         68.97        NaN   \n",
       "std         0.81      0.50      0.31         0.19         13.94        NaN   \n",
       "min         0.00      0.00      0.00         0.00         13.00        NaN   \n",
       "25%         0.00      0.00      0.00         0.00         60.00        NaN   \n",
       "50%         0.08      0.02      0.00         0.01         71.00        NaN   \n",
       "75%         0.24      0.11      0.04         0.03         79.00        NaN   \n",
       "max        41.36     28.96     10.22        10.57         98.00        NaN   \n",
       "\n",
       "       rating  \n",
       "count    9949  \n",
       "unique      8  \n",
       "top         E  \n",
       "freq     3990  \n",
       "mean      NaN  \n",
       "std       NaN  \n",
       "min       NaN  \n",
       "25%       NaN  \n",
       "50%       NaN  \n",
       "75%       NaN  \n",
       "max       NaN  "
      ]
     },
     "execution_count": 3,
     "metadata": {},
     "output_type": "execute_result"
    }
   ],
   "source": [
    "data.describe(include = \"all\")"
   ]
  },
  {
   "cell_type": "code",
   "execution_count": 4,
   "metadata": {},
   "outputs": [
    {
     "data": {
      "text/html": [
       "<div>\n",
       "<style scoped>\n",
       "    .dataframe tbody tr th:only-of-type {\n",
       "        vertical-align: middle;\n",
       "    }\n",
       "\n",
       "    .dataframe tbody tr th {\n",
       "        vertical-align: top;\n",
       "    }\n",
       "\n",
       "    .dataframe thead th {\n",
       "        text-align: right;\n",
       "    }\n",
       "</style>\n",
       "<table border=\"1\" class=\"dataframe\">\n",
       "  <thead>\n",
       "    <tr style=\"text-align: right;\">\n",
       "      <th></th>\n",
       "      <th>name</th>\n",
       "      <th>platform</th>\n",
       "      <th>year_of_release</th>\n",
       "      <th>genre</th>\n",
       "      <th>na_sales</th>\n",
       "      <th>eu_sales</th>\n",
       "      <th>jp_sales</th>\n",
       "      <th>other_sales</th>\n",
       "      <th>critic_score</th>\n",
       "      <th>user_score</th>\n",
       "      <th>rating</th>\n",
       "    </tr>\n",
       "  </thead>\n",
       "  <tbody>\n",
       "    <tr>\n",
       "      <th>0</th>\n",
       "      <td>Wii Sports</td>\n",
       "      <td>Wii</td>\n",
       "      <td>2,006.00</td>\n",
       "      <td>Sports</td>\n",
       "      <td>41.36</td>\n",
       "      <td>28.96</td>\n",
       "      <td>3.77</td>\n",
       "      <td>8.45</td>\n",
       "      <td>76.00</td>\n",
       "      <td>8</td>\n",
       "      <td>E</td>\n",
       "    </tr>\n",
       "    <tr>\n",
       "      <th>1</th>\n",
       "      <td>Super Mario Bros.</td>\n",
       "      <td>NES</td>\n",
       "      <td>1,985.00</td>\n",
       "      <td>Platform</td>\n",
       "      <td>29.08</td>\n",
       "      <td>3.58</td>\n",
       "      <td>6.81</td>\n",
       "      <td>0.77</td>\n",
       "      <td>NaN</td>\n",
       "      <td>NaN</td>\n",
       "      <td>NaN</td>\n",
       "    </tr>\n",
       "    <tr>\n",
       "      <th>2</th>\n",
       "      <td>Mario Kart Wii</td>\n",
       "      <td>Wii</td>\n",
       "      <td>2,008.00</td>\n",
       "      <td>Racing</td>\n",
       "      <td>15.68</td>\n",
       "      <td>12.76</td>\n",
       "      <td>3.79</td>\n",
       "      <td>3.29</td>\n",
       "      <td>82.00</td>\n",
       "      <td>8.3</td>\n",
       "      <td>E</td>\n",
       "    </tr>\n",
       "    <tr>\n",
       "      <th>3</th>\n",
       "      <td>Wii Sports Resort</td>\n",
       "      <td>Wii</td>\n",
       "      <td>2,009.00</td>\n",
       "      <td>Sports</td>\n",
       "      <td>15.61</td>\n",
       "      <td>10.93</td>\n",
       "      <td>3.28</td>\n",
       "      <td>2.95</td>\n",
       "      <td>80.00</td>\n",
       "      <td>8</td>\n",
       "      <td>E</td>\n",
       "    </tr>\n",
       "    <tr>\n",
       "      <th>4</th>\n",
       "      <td>Pokemon Red/Pokemon Blue</td>\n",
       "      <td>GB</td>\n",
       "      <td>1,996.00</td>\n",
       "      <td>Role-Playing</td>\n",
       "      <td>11.27</td>\n",
       "      <td>8.89</td>\n",
       "      <td>10.22</td>\n",
       "      <td>1.00</td>\n",
       "      <td>NaN</td>\n",
       "      <td>NaN</td>\n",
       "      <td>NaN</td>\n",
       "    </tr>\n",
       "  </tbody>\n",
       "</table>\n",
       "</div>"
      ],
      "text/plain": [
       "                       name platform  year_of_release         genre  na_sales  \\\n",
       "0                Wii Sports      Wii         2,006.00        Sports     41.36   \n",
       "1         Super Mario Bros.      NES         1,985.00      Platform     29.08   \n",
       "2            Mario Kart Wii      Wii         2,008.00        Racing     15.68   \n",
       "3         Wii Sports Resort      Wii         2,009.00        Sports     15.61   \n",
       "4  Pokemon Red/Pokemon Blue       GB         1,996.00  Role-Playing     11.27   \n",
       "\n",
       "   eu_sales  jp_sales  other_sales  critic_score user_score rating  \n",
       "0     28.96      3.77         8.45         76.00          8      E  \n",
       "1      3.58      6.81         0.77           NaN        NaN    NaN  \n",
       "2     12.76      3.79         3.29         82.00        8.3      E  \n",
       "3     10.93      3.28         2.95         80.00          8      E  \n",
       "4      8.89     10.22         1.00           NaN        NaN    NaN  "
      ]
     },
     "execution_count": 4,
     "metadata": {},
     "output_type": "execute_result"
    }
   ],
   "source": [
    "data.head(5)"
   ]
  },
  {
   "cell_type": "code",
   "execution_count": 5,
   "metadata": {},
   "outputs": [
    {
     "data": {
      "text/plain": [
       "<function matplotlib.pyplot.show(close=None, block=None)>"
      ]
     },
     "execution_count": 5,
     "metadata": {},
     "output_type": "execute_result"
    },
    {
     "data": {
      "image/png": "[encoded data removed]",
      "text/plain": [
       "<Figure size 360x720 with 6 Axes>"
      ]
     },
     "metadata": {
      "needs_background": "light"
     },
     "output_type": "display_data"
    }
   ],
   "source": [
    "data.hist(figsize=(5, 10))\n",
    "plt.show"
   ]
  },
  {
   "cell_type": "markdown",
   "metadata": {},
   "source": [
    "В датасете 11 столбцов с 16715 строками. Названия столбцов нужно будет привести к нижнему регистру, поменять тип данных в столбце Year_of_Release и Critic_Score в целочисленный, поработать с явными и неявными дубликатами в столбцах Name, Platform, Genre.\n",
    "Мы видим пропуски в столбцах Name, Year_of_Release, Genre, Critic_Score, User_Score, Rating.\n",
    "Нужно будет разобраться с причиной пропусков и, если нужно и возможно, заполнить их.\n",
    "\n",
    "Очевидно, что пропуски в столбце с указанием жанра игры в количестве 2 строк (или не внесено или данр не определен или ошибка при выгрузке данных) не будут показательными при анализе данных, эти строки я буду удалять. \n",
    "Еще 2 строки, где пропущено название игр(или не внесено или не утвердили или ошибка при выгрузке данных), можно удалить, но я оставлю, так как в целях анализа нам наиболее интересны данные из других столбцов, а в этом столбце заменю пропуски на значение 'unknown', если бы я удалила эти строки с пропусками на статистику это не повлияло бы ввиду слишком малого значения таких строк. \n",
    "\n",
    "Пропущенные значения в столбце с годами выпуска (1.7% датасета) могли возникнуть если игра еще не вышла, год не внесли или произошла ошибка при выгрузке данных. Я не смогу заполнить значения этого столбца на основании данных других столбцов(даже если дата есть в названии или есть оценка критиков, а в столбце с оценкой пользователей стоит tbd, это может занчить не только что игры еще не вышли, а то, что игры не оценены в принципе), их придется удалить.\n",
    "\n",
    "Еще есть много пропусков в столбце с рейтингом игр. В Интернете написано, что рейтинги ESRB дейтвительны в США и Канаде, и большинство игровых издателей с уважением относятся к этой организации. Помимо ESRB, существуют и другие рейтинговые системы оценки игр: PEGI в Европе, CERO в Японии, а так же в Австралии. Возможно ,что игра не выпущена и рейтинг не присвоен, произошла ошибка при сборе данных или рейтинг на момент выхода игры не выставлялся. На всякий случай заменю пропуски в этом столбце на 'unknown', потом решу что с этим делать.\n",
    "\n",
    "В столбце с оценкой пользователей есть оценка tbd (to be determined) - данных для оценки недостаточно, скорее всего, это означает, что игры еще не были выпущены для пользователей или пользователи по какой-то причине не оценили игры та как эту оценку пользователи указывали в различные годы. Чем-то это значение похоже на NaN, на это значения для дальнейшего анализа и замены данных я их и заменю.\n",
    "\n",
    "Данные в столбцах critic_score и user_score для заявленных целей анализа будут иметь важное значение, если я даже заполню прпуски в этих данных на медианное по платформе, жанру и году, данные будут некорректны, поэтому пока заполню пропуски аномальным значением."
   ]
  },
  {
   "cell_type": "markdown",
   "metadata": {},
   "source": [
    "## Подготовлю данные для исследования"
   ]
  },
  {
   "cell_type": "code",
   "execution_count": 6,
   "metadata": {},
   "outputs": [
    {
     "name": "stdout",
     "output_type": "stream",
     "text": [
      "                 name\n",
      "year_of_release      \n",
      "1,997.00            1\n",
      "1,999.00            8\n",
      "2,000.00           43\n",
      "2,001.00           82\n",
      "2,002.00          192\n",
      "2,003.00           95\n",
      "2,004.00          107\n",
      "2,005.00          121\n",
      "2,006.00          124\n",
      "2,007.00          192\n",
      "2,008.00          326\n",
      "2,009.00          405\n",
      "2,010.00          331\n",
      "2,011.00          217\n",
      "2,012.00           24\n",
      "2,013.00           15\n",
      "2,014.00           21\n",
      "2,015.00           38\n",
      "2,016.00           34\n"
     ]
    }
   ],
   "source": [
    "data = data.dropna(subset=['genre', 'year_of_release']).reset_index(drop=True)\n",
    "data['name'] = data['name'].fillna('unknown')\n",
    "data['rating'] = data['rating'].fillna('unknown')\n",
    "print(data.query('user_score == \"tbd\"').pivot_table(index='year_of_release', values='name', aggfunc='count'))"
   ]
  },
  {
   "cell_type": "code",
   "execution_count": 7,
   "metadata": {},
   "outputs": [
    {
     "name": "stdout",
     "output_type": "stream",
     "text": [
      "<class 'pandas.core.frame.DataFrame'>\n",
      "RangeIndex: 16444 entries, 0 to 16443\n",
      "Data columns (total 11 columns):\n",
      " #   Column           Non-Null Count  Dtype  \n",
      "---  ------           --------------  -----  \n",
      " 0   name             16444 non-null  object \n",
      " 1   platform         16444 non-null  object \n",
      " 2   year_of_release  16444 non-null  float64\n",
      " 3   genre            16444 non-null  object \n",
      " 4   na_sales         16444 non-null  float64\n",
      " 5   eu_sales         16444 non-null  float64\n",
      " 6   jp_sales         16444 non-null  float64\n",
      " 7   other_sales      16444 non-null  float64\n",
      " 8   critic_score     7983 non-null   float64\n",
      " 9   user_score       7463 non-null   object \n",
      " 10  rating           16444 non-null  object \n",
      "dtypes: float64(6), object(5)\n",
      "memory usage: 1.4+ MB\n"
     ]
    }
   ],
   "source": [
    "data['user_score'].replace('tbd', np.nan, inplace=True) #Если нужно специально присвоить значение NaN элементу структуры данных, для этого используется np.NaN (или np.nan) из библиотеки NumPy.\n",
    "data.info()"
   ]
  },
  {
   "cell_type": "code",
   "execution_count": 8,
   "metadata": {},
   "outputs": [
    {
     "name": "stdout",
     "output_type": "stream",
     "text": [
      "name                  0\n",
      "platform              0\n",
      "year_of_release       0\n",
      "genre                 0\n",
      "na_sales              0\n",
      "eu_sales              0\n",
      "jp_sales              0\n",
      "other_sales           0\n",
      "critic_score       8461\n",
      "user_score         8981\n",
      "rating                0\n",
      "dtype: int64\n"
     ]
    }
   ],
   "source": [
    "print(data.isna().sum())"
   ]
  },
  {
   "cell_type": "code",
   "execution_count": 9,
   "metadata": {},
   "outputs": [],
   "source": [
    "columns_to_replace = ['critic_score','user_score']\n",
    "for index in columns_to_replace:\n",
    "    data[index] = data[index].fillna('-1').astype('float')"
   ]
  },
  {
   "cell_type": "code",
   "execution_count": null,
   "metadata": {},
   "outputs": [],
   "source": [
    "data['year_of_release'] = data['year_of_release'].astype(np.int32) #для экономии вычислительной памяти перешла в \n",
    "data['critic_score'] = data['critic_score'].astype(np.int32)"
   ]
  },
  {
   "cell_type": "code",
   "execution_count": 12,
   "metadata": {},
   "outputs": [],
   "source": [
    "# Просчитаю суммарные продажи во всех регионах и запишу их в отдельный столбец.\n",
    "data['sum_sales'] =  data[['na_sales','eu_sales','jp_sales', 'other_sales']].sum(axis = 1)"
   ]
  },
  {
   "cell_type": "code",
   "execution_count": 13,
   "metadata": {},
   "outputs": [
    {
     "name": "stdout",
     "output_type": "stream",
     "text": [
      "['Wii Sports' 'Super Mario Bros.' 'Mario Kart Wii' ...\n",
      " 'Woody Woodpecker in Crazy Castle 5' 'LMA Manager 2007'\n",
      " 'Haitaka no Psychedelica']\n",
      "['Wii' 'NES' 'GB' 'DS' 'X360' 'PS3' 'PS2' 'SNES' 'GBA' 'PS4' '3DS' 'N64'\n",
      " 'PS' 'XB' 'PC' '2600' 'PSP' 'XOne' 'WiiU' 'GC' 'GEN' 'DC' 'PSV' 'SAT'\n",
      " 'SCD' 'WS' 'NG' 'TG16' '3DO' 'GG' 'PCFX']\n",
      "['E' 'unknown' 'M' 'T' 'E10+' 'K-A' 'AO' 'EC' 'RP']\n",
      "['E' 'unknown' 'M' 'T' 'E10+' 'AO' 'EC' 'RP']\n",
      "['Sports' 'Platform' 'Racing' 'Role-Playing' 'Puzzle' 'Misc' 'Shooter'\n",
      " 'Simulation' 'Action' 'Fighting' 'Adventure' 'Strategy']\n"
     ]
    }
   ],
   "source": [
    "unic('name')\n",
    "unic('platform')\n",
    "unic('rating')\n",
    "data['rating'] = data['rating'].replace('K-A', 'E') #тот рейтинг изначально был известен как Kids to Adults (K-A) до 1998 года; \n",
    "unic('rating')\n",
    "unic('genre')"
   ]
  },
  {
   "cell_type": "markdown",
   "metadata": {},
   "source": [
    "## Проведу исследовательский анализ данных"
   ]
  },
  {
   "cell_type": "markdown",
   "metadata": {},
   "source": [
    "**Посмотрю, сколько игр выпускалось в разные годы**"
   ]
  },
  {
   "cell_type": "code",
   "execution_count": 14,
   "metadata": {},
   "outputs": [
    {
     "name": "stdout",
     "output_type": "stream",
     "text": [
      "year_of_release\n",
      "1980       9\n",
      "1981      46\n",
      "1982      36\n",
      "1983      17\n",
      "1984      14\n",
      "1985      14\n",
      "1986      21\n",
      "1987      16\n",
      "1988      15\n",
      "1989      17\n",
      "1990      16\n",
      "1991      41\n",
      "1992      43\n",
      "1993      60\n",
      "1994     121\n",
      "1995     219\n",
      "1996     263\n",
      "1997     289\n",
      "1998     379\n",
      "1999     338\n",
      "2000     350\n",
      "2001     482\n",
      "2002     829\n",
      "2003     775\n",
      "2004     762\n",
      "2005     939\n",
      "2006    1006\n",
      "2007    1197\n",
      "2008    1427\n",
      "2009    1426\n",
      "2010    1255\n",
      "2011    1136\n",
      "2012     653\n",
      "2013     544\n",
      "2014     581\n",
      "2015     606\n",
      "2016     502\n",
      "Name: name, dtype: int64\n",
      "<class 'pandas.core.series.Series'>\n"
     ]
    },
    {
     "data": {
      "image/png": "[encoded data removed]",
      "text/plain": [
       "<Figure size 432x288 with 1 Axes>"
      ]
     },
     "metadata": {
      "needs_background": "light"
     },
     "output_type": "display_data"
    }
   ],
   "source": [
    "data.hist('year_of_release', bins=36, range = (1980, 2017))\n",
    "print(data.groupby('year_of_release')['name'].count())\n",
    "print(type(data['year_of_release']))\n"
   ]
  },
  {
   "cell_type": "markdown",
   "metadata": {},
   "source": [
    "Видим, что в период с 2006 по 2011 год выпускалось больше игр, чем в другие периоды, максимальное количество игр выпустили в 2008 и 2009 гг.\n",
    "С учетом того, что разработка игр развивается, важными для анализа будут данные не за все года.\n",
    "Можно исключить выбросы с применением расчета интерквартильного размаха: выбросы определяются как наблюдения, которые падают ниже Q1 - 1,5*IQR или выше Q3 + 1,5 IQR."
   ]
  },
  {
   "cell_type": "code",
   "execution_count": 15,
   "metadata": {},
   "outputs": [],
   "source": [
    "def drop_iqr(df, col):\n",
    "    q1 = df[col].quantile(0.25)\n",
    "    q3 = df[col].quantile(0.75)\n",
    "    iqr = q3-q1 #Интерквартильный размах, выбросы здесь определяются как наблюдения, которые падают ниже Q1 - 1,5*IQR или выше Q3 + 1,5 IQR.\n",
    "    low_iqr  = q1-1.5*iqr\n",
    "    high_iqr = q3+1.5*iqr\n",
    "    df_out = df.loc[(df[col] > low_iqr) & (df[col] < high_iqr), col]\n",
    "    return df_out\n",
    "\n",
    "data_dump = ['year_of_release'] #оставила список чтоб если что еще чего-нить сюда добавить\n",
    "for i in data_dump:\n",
    "     data[i] = drop_iqr(data, i)  \n"
   ]
  },
  {
   "cell_type": "markdown",
   "metadata": {},
   "source": [
    "**Посмотрю, как менялись продажи по платформам**\n",
    "\n",
    "Выберу платформы с наибольшими суммарными продажами и построю распределение по годам."
   ]
  },
  {
   "cell_type": "code",
   "execution_count": 16,
   "metadata": {},
   "outputs": [
    {
     "name": "stdout",
     "output_type": "stream",
     "text": [
      "  platform  sum_sales\n",
      "0      PS2   1,233.56\n",
      "1     X360     961.24\n",
      "2      PS3     931.34\n",
      "3      Wii     891.18\n",
      "4       DS     802.78\n",
      "5       PS     727.58\n",
      "6      PS4     314.14\n",
      "7      GBA     312.88\n",
      "8      PSP     289.53\n",
      "9      3DS     257.81\n"
     ]
    }
   ],
   "source": [
    "top_10_platform = data.pivot_table(index='platform', values='sum_sales', aggfunc='sum').sort_values(by='sum_sales', ascending=False).head(10)\n",
    "top_10_platform = top_10_platform.reset_index()\n",
    "print(top_10_platform)"
   ]
  },
  {
   "cell_type": "code",
   "execution_count": 17,
   "metadata": {},
   "outputs": [
    {
     "data": {
      "image/png": "[encoded data removed]",
      "text/plain": [
       "<Figure size 1080x360 with 1 Axes>"
      ]
     },
     "metadata": {
      "needs_background": "light"
     },
     "output_type": "display_data"
    },
    {
     "data": {
      "image/png": "[encoded data removed]",
      "text/plain": [
       "<Figure size 1080x360 with 1 Axes>"
      ]
     },
     "metadata": {
      "needs_background": "light"
     },
     "output_type": "display_data"
    },
    {
     "data": {
      "image/png": "[encoded data removed]",
      "text/plain": [
       "<Figure size 1080x360 with 1 Axes>"
      ]
     },
     "metadata": {
      "needs_background": "light"
     },
     "output_type": "display_data"
    },
    {
     "data": {
      "image/png": "[encoded data removed]",
      "text/plain": [
       "<Figure size 1080x360 with 1 Axes>"
      ]
     },
     "metadata": {
      "needs_background": "light"
     },
     "output_type": "display_data"
    },
    {
     "data": {
      "image/png": "[encoded data removed]",
      "text/plain": [
       "<Figure size 1080x360 with 1 Axes>"
      ]
     },
     "metadata": {
      "needs_background": "light"
     },
     "output_type": "display_data"
    },
    {
     "data": {
      "image/png": "[encoded data removed]",
      "text/plain": [
       "<Figure size 1080x360 with 1 Axes>"
      ]
     },
     "metadata": {
      "needs_background": "light"
     },
     "output_type": "display_data"
    },
    {
     "data": {
      "image/png": "[encoded data removed]",
      "text/plain": [
       "<Figure size 1080x360 with 1 Axes>"
      ]
     },
     "metadata": {
      "needs_background": "light"
     },
     "output_type": "display_data"
    },
    {
     "data": {
      "image/png": "[encoded data removed]",
      "text/plain": [
       "<Figure size 1080x360 with 1 Axes>"
      ]
     },
     "metadata": {
      "needs_background": "light"
     },
     "output_type": "display_data"
    },
    {
     "data": {
      "image/png": "[encoded data removed]",
      "text/plain": [
       "<Figure size 1080x360 with 1 Axes>"
      ]
     },
     "metadata": {
      "needs_background": "light"
     },
     "output_type": "display_data"
    },
    {
     "data": {
      "image/png": "[encoded data removed]",
      "text/plain": [
       "<Figure size 1080x360 with 1 Axes>"
      ]
     },
     "metadata": {
      "needs_background": "light"
     },
     "output_type": "display_data"
    }
   ],
   "source": [
    "\n",
    "for i in top_10_platform['platform']:\n",
    "    data[data['platform'] == i].pivot_table(index='year_of_release', columns = 'platform', values='sum_sales', aggfunc='sum').plot(kind='area', grid=True, figsize=(15, 5))\n",
    "    plt.show()"
   ]
  },
  {
   "cell_type": "markdown",
   "metadata": {},
   "source": [
    "Cогласно графикам вижу, что чаще всего платформами пользуются около 10 лет, например, на платформах с наиболее популярными продажами PS2, X360 и PS3 это было именно так.\n",
    "\n",
    "Максимум продаж на PS2 был в 2002 и 2004 годах, X360 - в 2008 и 2010, PS3 - в 2008, 2011, Wii - 2009 - в среднем это через 4 года после выпуска, затем идет спад продаж\n",
    "\n",
    "В такой динамично развивающейся индустрии для прогнозирования не стоит брать слишком большой ввременной интервал, в этой связи возьму данные за 2 года.\n",
    "\n",
    "Мне подойдет период с 2014 по 2016 гг: в 2014 многие платформы из выявленных мной топ-10 по продажам уже не пользовались популярностью, а некоторые уже появилис, а взять период с 2015 по 2016 гг будет нецелесообразно так как данные за 2016 год не полные. В дальнейшем для анализа выберу платформы: 'PS4','X360','PS3','3DS', 'Wii'"
   ]
  },
  {
   "cell_type": "code",
   "execution_count": 19,
   "metadata": {},
   "outputs": [
    {
     "name": "stderr",
     "output_type": "stream",
     "text": [
      "/tmp/ipykernel_32/2516091405.py:8: SettingWithCopyWarning: \n",
      "A value is trying to be set on a copy of a slice from a DataFrame.\n",
      "Try using .loc[row_indexer,col_indexer] = value instead\n",
      "\n",
      "See the caveats in the documentation: https://pandas.pydata.org/pandas-docs/stable/user_guide/indexing.html#returning-a-view-versus-a-copy\n",
      "  data_loc_top5[i] = drop_iqr(data_loc_top5, i)\n"
     ]
    }
   ],
   "source": [
    "data_loc = data.query(\"2014 <= year_of_release <= 2016\")\n",
    "top5 = ['PS4','X360','PS3','3DS', 'Wii']\n",
    "data_loc_top5 = data_loc[data_loc['platform'].isin(top5)]\n",
    "data_loc_top5.describe()\n",
    "\n",
    "data_dump = ['sum_sales'] \n",
    "for i in data_dump:\n",
    "     data_loc_top5[i] = drop_iqr(data_loc_top5, i)  "
   ]
  },
  {
   "cell_type": "code",
   "execution_count": 20,
   "metadata": {},
   "outputs": [
    {
     "data": {
      "text/plain": [
       "<Figure size 1080x432 with 0 Axes>"
      ]
     },
     "metadata": {},
     "output_type": "display_data"
    },
    {
     "data": {
      "image/png": "[encoded data removed]",
      "text/plain": [
       "<Figure size 432x288 with 1 Axes>"
      ]
     },
     "metadata": {
      "needs_background": "light"
     },
     "output_type": "display_data"
    }
   ],
   "source": [
    "plt.figure(figsize=(15,6))\n",
    "data_loc_top5.boxplot(column='sum_sales', by='platform')\n",
    "\n",
    "plt.show()"
   ]
  },
  {
   "cell_type": "markdown",
   "metadata": {},
   "source": [
    "Медианные продажи выше всего на платформе 'Wii' - там размещать игры выгоднее всего. Дешевле всего медианная продажа на 3DS. На каждой из платформ выпускают игры, которые собирают аномально высокие продажи, что, скорее всего, не зависит от платформы."
   ]
  },
  {
   "cell_type": "markdown",
   "metadata": {},
   "source": [
    "**Посмотрю, как влияют на продажи внутри одной популярной платформы отзывы пользователей и критиков**\n",
    "\n",
    "Для анализа возьму платфрму PS3"
   ]
  },
  {
   "cell_type": "code",
   "execution_count": 21,
   "metadata": {},
   "outputs": [
    {
     "name": "stdout",
     "output_type": "stream",
     "text": [
      "Влияние на продажи PS3 отзывов пользователей 0.2075281398673539\n",
      "\n",
      "Влияние на продажи PS3 отзывов критиков 0.02361214290127286\n"
     ]
    }
   ],
   "source": [
    "ps3_loc = data_loc[data_loc['platform']=='PS3']\n",
    "print('Влияние на продажи PS3 отзывов пользователей', ps3_loc['sum_sales'].corr(ps3_loc['user_score']))\n",
    "print('\\nВлияние на продажи PS3 отзывов критиков', ps3_loc['sum_sales'].corr(ps3_loc['critic_score']))"
   ]
  },
  {
   "cell_type": "markdown",
   "metadata": {},
   "source": [
    "Влияние на продажи внутри PS3 незначительно (корелляция 0,21) влияют оценки пользователей, оценки критиков на продажи не влияют."
   ]
  },
  {
   "cell_type": "code",
   "execution_count": 22,
   "metadata": {},
   "outputs": [
    {
     "data": {
      "text/plain": [
       "<AxesSubplot:xlabel='user_score', ylabel='sum_sales'>"
      ]
     },
     "execution_count": 22,
     "metadata": {},
     "output_type": "execute_result"
    },
    {
     "data": {
      "image/png": "[encoded data removed]",
      "text/plain": [
       "<Figure size 720x216 with 1 Axes>"
      ]
     },
     "metadata": {},
     "output_type": "display_data"
    }
   ],
   "source": [
    "sns.set(rc={'figure.figsize':(10,3)})\n",
    "sns.scatterplot(x=ps3_loc['user_score'], y=ps3_loc['sum_sales'])"
   ]
  },
  {
   "cell_type": "code",
   "execution_count": 23,
   "metadata": {},
   "outputs": [
    {
     "data": {
      "image/png": "[encoded data removed]",
      "text/plain": [
       "<Figure size 720x216 with 1 Axes>"
      ]
     },
     "metadata": {},
     "output_type": "display_data"
    }
   ],
   "source": [
    "sns.set(rc={'figure.figsize':(10,3)})\n",
    "sns.scatterplot(x=ps3_loc['critic_score'], y=ps3_loc['sum_sales'])\n",
    "plt.show()"
   ]
  },
  {
   "cell_type": "markdown",
   "metadata": {},
   "source": [
    "**Соотнесу выводы с продажами игр на других платформах.**"
   ]
  },
  {
   "cell_type": "code",
   "execution_count": 48,
   "metadata": {},
   "outputs": [
    {
     "name": "stdout",
     "output_type": "stream",
     "text": [
      "Платформа PS4\n",
      "\n",
      "Влияние на продажи на платформе отзывов пользователей -0.040131589472697356\n",
      "Влияние на продажи на платформе отзывов критиков 0.33982751788998095\n"
     ]
    },
    {
     "data": {
      "image/png": "[encoded data removed]",
      "text/plain": [
       "<Figure size 576x216 with 1 Axes>"
      ]
     },
     "metadata": {},
     "output_type": "display_data"
    },
    {
     "name": "stdout",
     "output_type": "stream",
     "text": [
      "Платформа X360\n",
      "\n",
      "Влияние на продажи на платформе отзывов пользователей -0.138444570945665\n",
      "Влияние на продажи на платформе отзывов критиков -0.05093163935204705\n"
     ]
    },
    {
     "data": {
      "image/png": "[encoded data removed]",
      "text/plain": [
       "<Figure size 576x216 with 1 Axes>"
      ]
     },
     "metadata": {},
     "output_type": "display_data"
    },
    {
     "name": "stdout",
     "output_type": "stream",
     "text": [
      "Платформа PS3\n",
      "\n",
      "Влияние на продажи на платформе отзывов пользователей -0.16676141347662116\n",
      "Влияние на продажи на платформе отзывов критиков -0.15787264544204535\n"
     ]
    },
    {
     "data": {
      "image/png": "[encoded data removed]",
      "text/plain": [
       "<Figure size 576x216 with 1 Axes>"
      ]
     },
     "metadata": {},
     "output_type": "display_data"
    },
    {
     "name": "stdout",
     "output_type": "stream",
     "text": [
      "Платформа 3DS\n",
      "\n",
      "Влияние на продажи на платформе отзывов пользователей 0.2151932718527028\n",
      "Влияние на продажи на платформе отзывов критиков 0.1944027062913873\n"
     ]
    },
    {
     "data": {
      "image/png": "[encoded data removed]",
      "text/plain": [
       "<Figure size 576x216 with 1 Axes>"
      ]
     },
     "metadata": {},
     "output_type": "display_data"
    },
    {
     "name": "stdout",
     "output_type": "stream",
     "text": [
      "Платформа Wii\n",
      "\n",
      "Влияние на продажи на платформе отзывов пользователей 1.0\n",
      "Влияние на продажи на платформе отзывов критиков nan\n"
     ]
    },
    {
     "data": {
      "image/png": "[encoded data removed]",
      "text/plain": [
       "<Figure size 576x216 with 1 Axes>"
      ]
     },
     "metadata": {},
     "output_type": "display_data"
    }
   ],
   "source": [
    "top = ['PS4','X360','PS3','3DS', 'Wii']\n",
    "def top_5_corr(top):\n",
    "    #platform_loc = data_loc[data_loc['platform']==top]\n",
    "    platform_loc = data_loc.query('platform ==@top and user_score != -1')\n",
    "    print('Платформа', top)\n",
    "    print('\\nВлияние на продажи на платформе отзывов пользователей', platform_loc['sum_sales'].corr(platform_loc['user_score']))\n",
    "    print('Влияние на продажи на платформе отзывов критиков', platform_loc['sum_sales'].corr(platform_loc['critic_score']))\n",
    "    sns.set(rc={'figure.figsize':(8,3)})\n",
    "    sns.scatterplot(x=platform_loc['user_score'], y=platform_loc['sum_sales'])\n",
    "    plt.show()\n",
    "    \n",
    "    return\n",
    "\n",
    "for i in top:\n",
    "    top_5_corr(i)\n",
    "\n",
    "#set(platform_loc['platform'])"
   ]
  },
  {
   "cell_type": "markdown",
   "metadata": {},
   "source": [
    "Платформа PS4 Наибольшее влияние на продажи по платформе имеют отзывы критиков (0,33), связь прямая и умеренная. Связь между продажами и отзывами пользователей незначительная, обратная (-0,04).\n",
    "\n",
    "На продажи по Платформе X360 значительно не влияют ни отзывы критиков, ни пользователей. Мы наблюдаем отрицательную корреляцию между отзывами критиков и пользователей.Платформа вышла в 2015 году и, возможно, за рассматриваемый период не была доработана, что может объяснить отрицательную корреляцию в -0,13 с отзывами пользователей.\n",
    "\n",
    "Платформа PS3 Наблюдаем обратную корреляцию между вниянием отзывов критиков и пользователей на продажи. Возможно, это вязано с тем, что вышла более новая платформа, которая была более выигрышной для критиков и пользователей.\n",
    "\n",
    "На продажи на Платформе 3DS незначительно(корреляция прямая 0,21 и 0,19) влияют ни отзывы пользователей и критиков.\n",
    "\n",
    "Платформа Wii Это – старая платформа и в рассматриваемый мной период она уже доживала свой век, данных по ней за рассматриваемый период очень мало, поэтому влияние на продажи на платформе отзывов пользователей прямое."
   ]
  },
  {
   "cell_type": "markdown",
   "metadata": {},
   "source": [
    "3.5. Посмотрю на общее распределение игр по жанрам."
   ]
  },
  {
   "cell_type": "code",
   "execution_count": 26,
   "metadata": {},
   "outputs": [
    {
     "data": {
      "image/png": "[encoded data removed]",
      "text/plain": [
       "<Figure size 864x360 with 1 Axes>"
      ]
     },
     "metadata": {},
     "output_type": "display_data"
    }
   ],
   "source": [
    "data_loc_genre = data_loc.pivot_table(index='genre', values='sum_sales', aggfunc='median').reset_index()\n",
    "data_loc_genre.columns = ['genre','median']\n",
    "plt.figure(figsize=(12, 5)) # Настройка размеров подложки\n",
    "sns.barplot(data=data_loc_genre, x='genre', y='median')\n",
    "plt.show()"
   ]
  },
  {
   "cell_type": "markdown",
   "metadata": {},
   "source": [
    "Вижу, что самыми прибыльными жанрами по медианным продажам являются Shooter, Sports, Platform Fighting, Acton.\n",
    "Высокие медианные продажи у игр жанра Shooter и Sports, низкие - у Adventure и Puzzle\n"
   ]
  },
  {
   "cell_type": "markdown",
   "metadata": {},
   "source": [
    "## Составлю портрет пользователя каждого региона"
   ]
  },
  {
   "cell_type": "markdown",
   "metadata": {},
   "source": [
    "**Портрет пользователя из Северной америки**"
   ]
  },
  {
   "cell_type": "code",
   "execution_count": 28,
   "metadata": {},
   "outputs": [
    {
     "data": {
      "image/png": "[encoded data removed]",
      "text/plain": [
       "<Figure size 864x504 with 1 Axes>"
      ]
     },
     "metadata": {},
     "output_type": "display_data"
    },
    {
     "name": "stdout",
     "output_type": "stream",
     "text": [
      "  platform  na_sales\n",
      "0      PS4     98.61\n",
      "1     XOne     81.27\n",
      "2     X360     28.30\n",
      "3      3DS     22.64\n",
      "4      PS3     22.05\n"
     ]
    }
   ],
   "source": [
    "platform_na = data_loc.groupby('platform')['na_sales'].sum().sort_values(ascending=False).reset_index().head(5)\n",
    "plt.figure(figsize=(12, 7))\n",
    "sns.barplot(data=platform_na, x='platform', y='na_sales')\n",
    "plt.show()\n",
    "#plt.xlabel('') plt.ylabel('')\n",
    "print(platform_na)"
   ]
  },
  {
   "cell_type": "markdown",
   "metadata": {},
   "source": [
    "Самые популярные платформы в Северной Америке PS4, XOne,X360,3DS,PS3"
   ]
  },
  {
   "cell_type": "code",
   "execution_count": 29,
   "metadata": {},
   "outputs": [
    {
     "data": {
      "image/png": "[encoded data removed]",
      "text/plain": [
       "<Figure size 864x504 with 1 Axes>"
      ]
     },
     "metadata": {},
     "output_type": "display_data"
    },
    {
     "name": "stdout",
     "output_type": "stream",
     "text": [
      "          genre  na_sales\n",
      "0       Shooter     79.02\n",
      "1        Action     72.53\n",
      "2        Sports     46.13\n",
      "3  Role-Playing     33.47\n",
      "4          Misc     15.05\n"
     ]
    }
   ],
   "source": [
    "genre_na = data_loc.groupby('genre')['na_sales'].sum().sort_values(ascending=False).reset_index().head(5)\n",
    "plt.figure(figsize=(12, 7))\n",
    "sns.barplot(data=genre_na, x='genre', y='na_sales')\n",
    "plt.show()\n",
    "#plt.xlabel('') plt.ylabel('')\n",
    "print(genre_na)"
   ]
  },
  {
   "cell_type": "markdown",
   "metadata": {},
   "source": [
    "Самые популярные жанры - это Shooter, Action, Sports, Role-Playing,Misc"
   ]
  },
  {
   "cell_type": "code",
   "execution_count": 30,
   "metadata": {},
   "outputs": [
    {
     "data": {
      "image/png": "[encoded data removed]",
      "text/plain": [
       "<Figure size 864x504 with 1 Axes>"
      ]
     },
     "metadata": {},
     "output_type": "display_data"
    },
    {
     "name": "stdout",
     "output_type": "stream",
     "text": [
      "    rating  na_sales\n",
      "0        M     96.42\n",
      "1  unknown     64.72\n",
      "2        E     50.74\n",
      "3        T     38.95\n",
      "4     E10+     33.23\n",
      "\n",
      "Влияние рейтинга на продажи в Северной Америке 0.25095268339677146\n"
     ]
    }
   ],
   "source": [
    "#data_loc.pivot_table(index='rating', values='na_sales', aggfunc=['sum', 'count']).reset_index()\n",
    "\n",
    "rating_na = data_loc.groupby('rating')['na_sales'].sum().sort_values(ascending=False).reset_index()\n",
    "plt.figure(figsize=(12, 7))\n",
    "sns.barplot(data=rating_na, x='rating', y='na_sales')\n",
    "plt.show()\n",
    "#plt.xlabel('') plt.ylabel('')\n",
    "print(rating_na)\n",
    "\n",
    "rating_na = data_loc.pivot_table(index='rating', values='na_sales', aggfunc=['sum', 'count']).reset_index()\n",
    "rating_na.columns = ['rating','sum', 'count']\n",
    "print('\\nВлияние рейтинга на продажи в Северной Америке', rating_na['sum'].corr(rating_na['count']))"
   ]
  },
  {
   "cell_type": "markdown",
   "metadata": {},
   "source": [
    "Пользователи из Северной Америки выбирают платформы  PS4, XOne,X360,3DS,PS3 (топ-5 платформ, наименование указано в порядке убывания популярности), топ-5 жанров игр, в которые они играют - это Shooter, Action, Sports, Role-Playing,Misc наимболее популярными являются игры с рейтингом М, Е,Т, Е10+. Играют и в игры, где рейтинг не указан"
   ]
  },
  {
   "cell_type": "markdown",
   "metadata": {},
   "source": [
    "**Портрет пользователя из Европы**"
   ]
  },
  {
   "cell_type": "code",
   "execution_count": 31,
   "metadata": {},
   "outputs": [
    {
     "data": {
      "image/png": "[encoded data removed]",
      "text/plain": [
       "<Figure size 864x504 with 1 Axes>"
      ]
     },
     "metadata": {},
     "output_type": "display_data"
    },
    {
     "name": "stdout",
     "output_type": "stream",
     "text": [
      "  platform  eu_sales\n",
      "0      PS4    130.04\n",
      "1     XOne     46.25\n",
      "2      PS3     25.54\n",
      "3       PC     17.97\n",
      "4      3DS     16.12\n"
     ]
    },
    {
     "data": {
      "image/png": "[encoded data removed]",
      "text/plain": [
       "<Figure size 864x504 with 1 Axes>"
      ]
     },
     "metadata": {},
     "output_type": "display_data"
    },
    {
     "name": "stdout",
     "output_type": "stream",
     "text": [
      "          genre  eu_sales\n",
      "0        Action     74.68\n",
      "1       Shooter     65.52\n",
      "2        Sports     45.73\n",
      "3  Role-Playing     28.17\n",
      "4        Racing     14.13\n"
     ]
    },
    {
     "data": {
      "image/png": "[encoded data removed]",
      "text/plain": [
       "<Figure size 864x504 with 1 Axes>"
      ]
     },
     "metadata": {},
     "output_type": "display_data"
    },
    {
     "name": "stdout",
     "output_type": "stream",
     "text": [
      "    rating  eu_sales\n",
      "0        M     93.44\n",
      "1  unknown     58.95\n",
      "2        E     58.06\n",
      "3        T     34.07\n",
      "4     E10+     26.16\n",
      "\n",
      "Влияние рейтинга на продажи в Северной Америке 0.17436737247965098\n"
     ]
    }
   ],
   "source": [
    "platform_eu = data_loc.groupby('platform')['eu_sales'].sum().sort_values(ascending=False).reset_index().head(5)\n",
    "plt.figure(figsize=(12, 7))\n",
    "sns.barplot(data=platform_eu, x='platform', y='eu_sales')\n",
    "plt.show()\n",
    "#plt.xlabel('') plt.ylabel('')\n",
    "print(platform_eu)\n",
    "\n",
    "genre_eu = data_loc.groupby('genre')['eu_sales'].sum().sort_values(ascending=False).reset_index().head(5)\n",
    "plt.figure(figsize=(12, 7))\n",
    "sns.barplot(data=genre_eu, x='genre', y='eu_sales')\n",
    "plt.show()\n",
    "#plt.xlabel('') plt.ylabel('')\n",
    "print(genre_eu)\n",
    "\n",
    "rating_eu = data_loc.groupby('rating')['eu_sales'].sum().sort_values(ascending=False).reset_index()\n",
    "plt.figure(figsize=(12, 7))\n",
    "sns.barplot(data=rating_eu, x='rating', y='eu_sales')\n",
    "plt.show()\n",
    "#plt.xlabel('') plt.ylabel('')\n",
    "print(rating_eu)\n",
    "\n",
    "rating_eu = data_loc.pivot_table(index='rating', values='eu_sales', aggfunc=['sum', 'count']).reset_index()\n",
    "rating_eu.columns = ['rating','sum', 'count']\n",
    "print('\\nВлияние рейтинга на продажи в Северной Америке', rating_eu['sum'].corr(rating_eu['count']))"
   ]
  },
  {
   "cell_type": "markdown",
   "metadata": {},
   "source": [
    "Европейские геймеры чаще играют в игры на платформах   PS4, XOne,PS3, X360,3DS. Самые популярные жанры - это Action, Sports, Shooter, Misc, Racing с рейтингами M,E,T, E10+. Играют и в игры, где рейтинг не указан, возможно, это - старые игры, еще не вышедшие игры или в стране своя система рейтинга игр и данную рейтинговую систему в стране не применяют. Влияние рейтинга на продажи сильное, прямое.\n",
    "\n",
    "Европа во-многом похожа на Северную Америку."
   ]
  },
  {
   "cell_type": "markdown",
   "metadata": {},
   "source": [
    "**Портрет пользователя из Японии**"
   ]
  },
  {
   "cell_type": "code",
   "execution_count": 32,
   "metadata": {},
   "outputs": [
    {
     "data": {
      "image/png": "[encoded data removed]",
      "text/plain": [
       "<Figure size 864x504 with 1 Axes>"
      ]
     },
     "metadata": {},
     "output_type": "display_data"
    },
    {
     "name": "stdout",
     "output_type": "stream",
     "text": [
      "  platform  jp_sales\n",
      "0      3DS     44.24\n",
      "1      PS4     15.02\n",
      "2      PSV     14.54\n",
      "3      PS3     11.22\n",
      "4     WiiU      7.31\n"
     ]
    },
    {
     "data": {
      "image/png": "[encoded data removed]",
      "text/plain": [
       "<Figure size 864x504 with 1 Axes>"
      ]
     },
     "metadata": {},
     "output_type": "display_data"
    },
    {
     "name": "stdout",
     "output_type": "stream",
     "text": [
      "          genre  jp_sales\n",
      "0  Role-Playing     31.16\n",
      "1        Action     29.58\n",
      "2      Fighting      6.37\n",
      "3          Misc      5.61\n",
      "4       Shooter      4.87\n"
     ]
    },
    {
     "data": {
      "image/png": "[encoded data removed]",
      "text/plain": [
       "<Figure size 864x504 with 1 Axes>"
      ]
     },
     "metadata": {},
     "output_type": "display_data"
    },
    {
     "name": "stdout",
     "output_type": "stream",
     "text": [
      "    rating  jp_sales\n",
      "0  unknown     56.90\n",
      "1        T     14.78\n",
      "2        E      8.94\n",
      "3        M      8.01\n",
      "4     E10+      4.46\n",
      "\n",
      "Влияние рейтинга на продажи в Японии 0.9940886426624111\n"
     ]
    }
   ],
   "source": [
    "platform_jp = data_loc.groupby('platform')['jp_sales'].sum().sort_values(ascending=False).reset_index().head(5)\n",
    "plt.figure(figsize=(12, 7))\n",
    "sns.barplot(data=platform_jp, x='platform', y='jp_sales')\n",
    "plt.show()\n",
    "#plt.xlabel('') plt.ylabel('')\n",
    "print(platform_jp)\n",
    "\n",
    "genre_jp = data_loc.groupby('genre')['jp_sales'].sum().sort_values(ascending=False).reset_index().head(5)\n",
    "plt.figure(figsize=(12, 7))\n",
    "sns.barplot(data=genre_jp, x='genre', y='jp_sales')\n",
    "plt.show()\n",
    "#plt.xlabel('') plt.ylabel('')\n",
    "print(genre_jp)\n",
    "\n",
    "rating_jp = data_loc.groupby('rating')['jp_sales'].sum().sort_values(ascending=False).reset_index()\n",
    "plt.figure(figsize=(12, 7))\n",
    "sns.barplot(data=rating_jp, x='rating', y='jp_sales')\n",
    "plt.show()\n",
    "#plt.xlabel('') plt.ylabel('')\n",
    "print(rating_jp)\n",
    "\n",
    "rating_jp = data_loc.pivot_table(index='rating', values='jp_sales', aggfunc=['sum', 'count']).reset_index()\n",
    "rating_jp.columns = ['rating','sum', 'count']\n",
    "print('\\nВлияние рейтинга на продажи в Японии', rating_jp['sum'].corr(rating_jp['count']))"
   ]
  },
  {
   "cell_type": "markdown",
   "metadata": {},
   "source": [
    "Пользователи из Японии и выбирают платформы 3DS, PS3, PSP,PSVб Wii  (топ-5 платформ, наименование указано в порядке убывания популярности), топ-5 жанров игр, в которые они играют - это Role-Playing,Action,Fighting,Misc, Sports.\n",
    "\n",
    "наимболее популярными являются игры с неуказанным рейтингом Т,Е, М,  Е10+. Вместе с тем, большая доля популярности по рейтингу в Японии - среди игр, где рейтинг не указан - возможно, это - старые игры, еще не вышедшие игры или в стране своя система ректинга игр и данную рейтинговую систему в стране не применяют.\n",
    "\n",
    "Влияние рейтинга на продажи в Японии 0.99 - прямая сильная связь."
   ]
  },
  {
   "cell_type": "markdown",
   "metadata": {},
   "source": [
    "## Проверка гипотез\n",
    "\n",
    "\n",
    "Для проверки гипотез буду использовать t-тест, так как выборки не зависят друг от друга, так как я не уверена, что обе выборки равны между собой."
   ]
  },
  {
   "cell_type": "markdown",
   "metadata": {},
   "source": [
    "**Гипотеза \"Средние пользовательские рейтинги платформ Xbox One и PC одинаковые\"**"
   ]
  },
  {
   "cell_type": "markdown",
   "metadata": {},
   "source": [
    "Нулевая гипотеза Н0: \n",
    "Средние пользовательские рейтинги платформ Xbox One и PC одинаковые.\n",
    "\n",
    "Альтернативная гипотеза Н1: \n",
    "Средние пользовательские рейтинги платформ Xbox One и PC различны."
   ]
  },
  {
   "cell_type": "code",
   "execution_count": 33,
   "metadata": {},
   "outputs": [
    {
     "name": "stdout",
     "output_type": "stream",
     "text": [
      "p-значение: 0.11601398086668832\n",
      "Не получилось отвергнуть нулевую гипотезу\n"
     ]
    }
   ],
   "source": [
    "#исключаем пропущенные и замененные на -1 значения, выбираем нужные платформы\n",
    "xbox = data_loc.query('platform ==\"XOne\" and user_score != -1')['user_score']\n",
    "pc = data_loc.query('platform ==\"PC\" and user_score != -1')['user_score']\n",
    "alpha = .05 # критический уровень статистической значимости\n",
    "\n",
    "results = st.ttest_ind(\n",
    "xbox,\n",
    "pc, equal_var = False)\n",
    "\n",
    "print('p-значение:', results.pvalue) # вывод на экран получившегося p-значения)\n",
    "\n",
    "if results.pvalue < alpha: #сравните получившееся p-значение с заданным уровнем статистической значимости :\n",
    "    print(\"Отвергаем нулевую гипотезу\")\n",
    "else:\n",
    "    print(\"Не получилось отвергнуть нулевую гипотезу\")"
   ]
  },
  {
   "cell_type": "markdown",
   "metadata": {},
   "source": [
    "Действительно, средние пользовательские рейтинги платформ не одинаковы, поскольку имеют различный рейтинг у пользователей и различную популярность в разных регионах, а РС п орезультатам ранее проведенного анализа - более распространенная и, вероятно, более доработанная, платформа."
   ]
  },
  {
   "cell_type": "markdown",
   "metadata": {},
   "source": [
    "<div class=\"alert alert-block alert-success\">\n",
    " \n",
    "### Комментарий ревьюера\n",
    "    \n",
    "#### Успех\n",
    "    \n",
    "Гипотезы сформулированы и верно определен метод проверки. С выводом согласен. Вышло здорово. \n",
    "</div "
   ]
  },
  {
   "cell_type": "markdown",
   "metadata": {},
   "source": [
    "**Гипотеза \"Средние пользовательские рейтинги жанров Action (англ. «действие», экшен-игры) и Sports (англ. «спортивные соревнования») разные\"** \n",
    "\n",
    "H0: средние рейтинги по жанрам одинаковые\n",
    "\n",
    "H1: средние рейтинги по жанрам разные"
   ]
  },
  {
   "cell_type": "code",
   "execution_count": 34,
   "metadata": {},
   "outputs": [
    {
     "name": "stdout",
     "output_type": "stream",
     "text": [
      "p-значение: 1.1825550382644557e-14\n",
      "Отвергаем нулевую гипотезу\n"
     ]
    }
   ],
   "source": [
    "#исключаем пропущенные и замененные на -1 значения, выбираем нужные платформы\n",
    "action = data_loc.query('genre ==\"Action\" and user_score != -1')['user_score']\n",
    "sports = data_loc.query('genre ==\"Sports\" and user_score != -1')['user_score']\n",
    "\n",
    "alpha = .05 # критический уровень статистической значимости\n",
    "\n",
    "results = st.ttest_ind(\n",
    "action,\n",
    "sports, equal_var = False)\n",
    "\n",
    "print('p-значение:', results.pvalue) # вывод на экран получившегося p-значения)\n",
    "\n",
    "if results.pvalue < alpha: #сравните получившееся p-значение с заданным уровнем статистической значимости :\n",
    "    print(\"Отвергаем нулевую гипотезу\")\n",
    "else:\n",
    "    print(\"Не получилось отвергнуть нулевую гипотезу\")"
   ]
  },
  {
   "cell_type": "markdown",
   "metadata": {},
   "source": [
    "Средние пользовательские рейтинги жанров Action (англ. «действие», экшен-игры) и Sports (англ. «спортивные соревнования») разные, поскольку игры в жанре Экшен появились значитаельно ранее игр в жанре спортс и, скорее всего, более проработанны и более комфортны пользователям."
   ]
  },
  {
   "cell_type": "markdown",
   "metadata": {},
   "source": [
    "## Вывод по проекту"
   ]
  },
  {
   "cell_type": "markdown",
   "metadata": {},
   "source": [
    "По результатам анализа можно сделать ставку на потенциально популярный продукт.\n",
    "Успешные игры на каждом из рынков имеют свои особенности.\n",
    "\n",
    "Пользователи из Северной Америки выбирают платформы PS4, XOne,X360,3DS,PS3 (топ-5 платформ, наименование указано в порядке убывания популярности), топ-5 жанров игр, в которые они играют - это Shooter, Action, Sports, Role-Playing,Misc наимболее популярными являются игры с рейтингом М, Е,Т, Е10+. Играют и в игры, где рейтинг не указан\n",
    "\n",
    "Европейские геймеры чаще играют в игры на платформах PS4, XOne,PS3, X360,3DS. Самые популярные жанры - это Action, Sports, Shooter, Misc, Racing с рейтингами M,E,T, E10+. Играют и в игры, где рейтинг не указан, возможно, это - старые игры, еще не вышедшие игры или в стране своя система рейтинга игр и данную рейтинговую систему в стране не применяют. Влияние рейтинга на продажи сильное, прямое.\n",
    "\n",
    "Пользователи из Японии и выбирают платформы 3DS, PS3, PSP,PSVб Wii (топ-5 платформ, наименование указано в порядке убывания популярности), топ-5 жанров игр, в которые они играют - это Role-Playing,Action,Fighting,Misc, Sports.\n",
    "Наиболее популярными являются игры с неуказанным рейтингом Т,Е, М, Е10+. Вместе с тем, большая доля популярности по рейтингу в Японии - среди игр, где рейтинг не указан - возможно, это - старые игры, еще не вышедшие игры или в стране своя система ректинга игр и данную рейтинговую систему в стране не применяют.\n",
    "Влияние рейтинга на продажи в Японии 0.99 - прямая сильная связь.\n",
    "\n",
    "На продажи оценки пользователей влияют слабо, вместе с тем сильнее на продажи влияют оценки критиков."
   ]
  }
 ],
 "metadata": {
  "ExecuteTimeLog": [
   {
    "duration": 581,
    "start_time": "2022-10-31T15:06:41.500Z"
   },
   {
    "duration": 50,
    "start_time": "2022-10-31T15:06:46.075Z"
   },
   {
    "duration": 60,
    "start_time": "2022-10-31T15:06:56.798Z"
   },
   {
    "duration": 16,
    "start_time": "2022-10-31T15:07:00.836Z"
   },
   {
    "duration": 3,
    "start_time": "2022-10-31T15:11:12.209Z"
   },
   {
    "duration": 59,
    "start_time": "2022-10-31T15:11:14.196Z"
   },
   {
    "duration": 434,
    "start_time": "2022-10-31T15:12:42.201Z"
   },
   {
    "duration": 90,
    "start_time": "2022-10-31T15:12:44.099Z"
   },
   {
    "duration": 63,
    "start_time": "2022-10-31T15:13:03.386Z"
   },
   {
    "duration": 32,
    "start_time": "2022-10-31T15:13:07.357Z"
   },
   {
    "duration": 9,
    "start_time": "2022-10-31T15:16:50.203Z"
   },
   {
    "duration": 69,
    "start_time": "2022-10-31T15:35:29.330Z"
   },
   {
    "duration": 16,
    "start_time": "2022-10-31T15:38:51.443Z"
   },
   {
    "duration": 5,
    "start_time": "2022-10-31T15:54:39.612Z"
   },
   {
    "duration": 4,
    "start_time": "2022-10-31T16:50:49.334Z"
   },
   {
    "duration": 1123,
    "start_time": "2022-10-31T16:52:58.338Z"
   },
   {
    "duration": 1141,
    "start_time": "2022-10-31T16:53:40.149Z"
   },
   {
    "duration": 3,
    "start_time": "2022-10-31T16:54:04.002Z"
   },
   {
    "duration": 1102,
    "start_time": "2022-10-31T16:54:28.677Z"
   },
   {
    "duration": 6,
    "start_time": "2022-10-31T16:54:50.235Z"
   },
   {
    "duration": 9,
    "start_time": "2022-10-31T16:55:11.697Z"
   },
   {
    "duration": 10,
    "start_time": "2022-10-31T16:55:25.390Z"
   },
   {
    "duration": 1123,
    "start_time": "2022-10-31T16:59:27.287Z"
   },
   {
    "duration": 12,
    "start_time": "2022-10-31T17:00:32.336Z"
   },
   {
    "duration": 8,
    "start_time": "2022-10-31T17:01:45.651Z"
   },
   {
    "duration": 8,
    "start_time": "2022-10-31T17:01:53.153Z"
   },
   {
    "duration": 25,
    "start_time": "2022-10-31T17:02:02.921Z"
   },
   {
    "duration": 10,
    "start_time": "2022-10-31T17:02:11.772Z"
   },
   {
    "duration": 3,
    "start_time": "2022-10-31T17:02:14.673Z"
   },
   {
    "duration": 13,
    "start_time": "2022-10-31T17:02:19.907Z"
   },
   {
    "duration": 25,
    "start_time": "2022-10-31T17:02:24.315Z"
   },
   {
    "duration": 10,
    "start_time": "2022-10-31T17:05:32.162Z"
   },
   {
    "duration": 9,
    "start_time": "2022-10-31T17:05:43.629Z"
   },
   {
    "duration": 0,
    "start_time": "2022-10-31T17:05:43.639Z"
   },
   {
    "duration": 0,
    "start_time": "2022-10-31T17:05:43.641Z"
   },
   {
    "duration": 0,
    "start_time": "2022-10-31T17:05:43.642Z"
   },
   {
    "duration": 0,
    "start_time": "2022-10-31T17:05:43.643Z"
   },
   {
    "duration": 0,
    "start_time": "2022-10-31T17:05:43.644Z"
   },
   {
    "duration": 8,
    "start_time": "2022-10-31T17:06:01.576Z"
   },
   {
    "duration": 3,
    "start_time": "2022-10-31T17:06:22.141Z"
   },
   {
    "duration": 552,
    "start_time": "2022-10-31T17:07:51.664Z"
   },
   {
    "duration": 560,
    "start_time": "2022-10-31T17:08:37.878Z"
   },
   {
    "duration": 4,
    "start_time": "2022-10-31T17:08:56.618Z"
   },
   {
    "duration": 3,
    "start_time": "2022-10-31T17:09:09.087Z"
   },
   {
    "duration": 66,
    "start_time": "2022-10-31T17:09:09.092Z"
   },
   {
    "duration": 46,
    "start_time": "2022-10-31T17:09:09.160Z"
   },
   {
    "duration": 7,
    "start_time": "2022-10-31T17:09:09.208Z"
   },
   {
    "duration": 620,
    "start_time": "2022-10-31T17:09:09.217Z"
   },
   {
    "duration": 3,
    "start_time": "2022-10-31T17:09:09.839Z"
   },
   {
    "duration": 9,
    "start_time": "2022-10-31T17:09:09.844Z"
   },
   {
    "duration": 74,
    "start_time": "2022-10-31T17:10:23.343Z"
   },
   {
    "duration": 72,
    "start_time": "2022-10-31T17:11:22.901Z"
   },
   {
    "duration": 8,
    "start_time": "2022-10-31T17:12:08.009Z"
   },
   {
    "duration": 5,
    "start_time": "2022-10-31T17:12:11.586Z"
   },
   {
    "duration": 71,
    "start_time": "2022-10-31T17:12:37.279Z"
   },
   {
    "duration": 109,
    "start_time": "2022-10-31T17:12:45.833Z"
   },
   {
    "duration": 7,
    "start_time": "2022-10-31T17:12:49.220Z"
   },
   {
    "duration": 552,
    "start_time": "2022-10-31T17:12:52.399Z"
   },
   {
    "duration": 10,
    "start_time": "2022-10-31T17:14:35.902Z"
   },
   {
    "duration": 87,
    "start_time": "2022-10-31T17:19:25.043Z"
   },
   {
    "duration": 72,
    "start_time": "2022-10-31T17:19:40.672Z"
   },
   {
    "duration": 111,
    "start_time": "2022-10-31T17:19:57.543Z"
   },
   {
    "duration": 83,
    "start_time": "2022-10-31T17:20:14.452Z"
   },
   {
    "duration": 11,
    "start_time": "2022-10-31T17:20:32.051Z"
   },
   {
    "duration": 13,
    "start_time": "2022-10-31T17:30:52.931Z"
   },
   {
    "duration": 20,
    "start_time": "2022-10-31T17:31:18.077Z"
   },
   {
    "duration": 26,
    "start_time": "2022-10-31T17:31:53.999Z"
   },
   {
    "duration": 1142,
    "start_time": "2022-10-31T18:03:55.474Z"
   },
   {
    "duration": 25,
    "start_time": "2022-10-31T18:04:28.020Z"
   },
   {
    "duration": 10,
    "start_time": "2022-10-31T18:16:26.889Z"
   },
   {
    "duration": 11,
    "start_time": "2022-10-31T18:18:02.379Z"
   },
   {
    "duration": 4,
    "start_time": "2022-10-31T18:22:30.199Z"
   },
   {
    "duration": 4,
    "start_time": "2022-10-31T18:23:19.318Z"
   },
   {
    "duration": 4,
    "start_time": "2022-10-31T18:23:51.482Z"
   },
   {
    "duration": 3,
    "start_time": "2022-10-31T18:30:23.565Z"
   },
   {
    "duration": 83,
    "start_time": "2022-10-31T18:30:23.570Z"
   },
   {
    "duration": 43,
    "start_time": "2022-10-31T18:30:23.655Z"
   },
   {
    "duration": 7,
    "start_time": "2022-10-31T18:30:23.699Z"
   },
   {
    "duration": 558,
    "start_time": "2022-10-31T18:30:23.708Z"
   },
   {
    "duration": 37,
    "start_time": "2022-10-31T18:30:24.268Z"
   },
   {
    "duration": 10,
    "start_time": "2022-10-31T18:30:24.306Z"
   },
   {
    "duration": 9,
    "start_time": "2022-10-31T18:30:24.317Z"
   },
   {
    "duration": 6,
    "start_time": "2022-10-31T18:35:03.573Z"
   },
   {
    "duration": 12,
    "start_time": "2022-10-31T18:35:17.075Z"
   },
   {
    "duration": 7,
    "start_time": "2022-10-31T18:38:31.442Z"
   },
   {
    "duration": 181,
    "start_time": "2022-10-31T18:43:31.282Z"
   },
   {
    "duration": 180,
    "start_time": "2022-10-31T18:45:31.785Z"
   },
   {
    "duration": 170,
    "start_time": "2022-10-31T18:45:52.887Z"
   },
   {
    "duration": 206,
    "start_time": "2022-10-31T18:46:06.759Z"
   },
   {
    "duration": 175,
    "start_time": "2022-10-31T18:46:22.004Z"
   },
   {
    "duration": 5,
    "start_time": "2022-10-31T18:56:11.179Z"
   },
   {
    "duration": 8,
    "start_time": "2022-10-31T18:59:12.265Z"
   },
   {
    "duration": 1258,
    "start_time": "2022-11-01T13:35:52.699Z"
   },
   {
    "duration": 148,
    "start_time": "2022-11-01T13:35:53.959Z"
   },
   {
    "duration": 53,
    "start_time": "2022-11-01T13:35:54.109Z"
   },
   {
    "duration": 7,
    "start_time": "2022-11-01T13:35:54.164Z"
   },
   {
    "duration": 592,
    "start_time": "2022-11-01T13:35:54.173Z"
   },
   {
    "duration": 14,
    "start_time": "2022-11-01T13:35:54.768Z"
   },
   {
    "duration": 65,
    "start_time": "2022-11-01T13:35:54.784Z"
   },
   {
    "duration": 0,
    "start_time": "2022-11-01T13:35:54.851Z"
   },
   {
    "duration": 0,
    "start_time": "2022-11-01T13:35:54.852Z"
   },
   {
    "duration": 0,
    "start_time": "2022-11-01T13:35:54.854Z"
   },
   {
    "duration": 0,
    "start_time": "2022-11-01T13:35:54.855Z"
   },
   {
    "duration": 0,
    "start_time": "2022-11-01T13:35:54.856Z"
   },
   {
    "duration": 4,
    "start_time": "2022-11-01T13:36:32.380Z"
   },
   {
    "duration": 85,
    "start_time": "2022-11-01T13:36:32.386Z"
   },
   {
    "duration": 69,
    "start_time": "2022-11-01T13:36:32.473Z"
   },
   {
    "duration": 9,
    "start_time": "2022-11-01T13:36:32.545Z"
   },
   {
    "duration": 639,
    "start_time": "2022-11-01T13:36:32.556Z"
   },
   {
    "duration": 17,
    "start_time": "2022-11-01T13:36:33.197Z"
   },
   {
    "duration": 56,
    "start_time": "2022-11-01T13:36:33.215Z"
   },
   {
    "duration": 0,
    "start_time": "2022-11-01T13:36:33.273Z"
   },
   {
    "duration": 0,
    "start_time": "2022-11-01T13:36:33.274Z"
   },
   {
    "duration": 0,
    "start_time": "2022-11-01T13:36:33.276Z"
   },
   {
    "duration": 0,
    "start_time": "2022-11-01T13:36:33.277Z"
   },
   {
    "duration": 0,
    "start_time": "2022-11-01T13:36:33.278Z"
   },
   {
    "duration": 4,
    "start_time": "2022-11-01T13:37:19.506Z"
   },
   {
    "duration": 84,
    "start_time": "2022-11-01T13:37:19.513Z"
   },
   {
    "duration": 60,
    "start_time": "2022-11-01T13:37:19.600Z"
   },
   {
    "duration": 8,
    "start_time": "2022-11-01T13:37:19.662Z"
   },
   {
    "duration": 681,
    "start_time": "2022-11-01T13:37:19.672Z"
   },
   {
    "duration": 50,
    "start_time": "2022-11-01T13:37:20.355Z"
   },
   {
    "duration": 0,
    "start_time": "2022-11-01T13:37:20.407Z"
   },
   {
    "duration": 0,
    "start_time": "2022-11-01T13:37:20.409Z"
   },
   {
    "duration": 0,
    "start_time": "2022-11-01T13:37:20.411Z"
   },
   {
    "duration": 0,
    "start_time": "2022-11-01T13:37:20.412Z"
   },
   {
    "duration": 0,
    "start_time": "2022-11-01T13:37:20.414Z"
   },
   {
    "duration": 73,
    "start_time": "2022-11-01T13:37:44.258Z"
   },
   {
    "duration": 3,
    "start_time": "2022-11-01T13:37:53.250Z"
   },
   {
    "duration": 82,
    "start_time": "2022-11-01T13:37:56.763Z"
   },
   {
    "duration": 56,
    "start_time": "2022-11-01T13:38:01.659Z"
   },
   {
    "duration": 8,
    "start_time": "2022-11-01T13:38:04.303Z"
   },
   {
    "duration": 683,
    "start_time": "2022-11-01T13:38:07.015Z"
   },
   {
    "duration": 58,
    "start_time": "2022-11-01T13:38:13.001Z"
   },
   {
    "duration": 45,
    "start_time": "2022-11-01T13:38:40.673Z"
   },
   {
    "duration": 152,
    "start_time": "2022-11-01T13:38:48.837Z"
   },
   {
    "duration": 3,
    "start_time": "2022-11-01T13:40:14.001Z"
   },
   {
    "duration": 84,
    "start_time": "2022-11-01T13:40:14.006Z"
   },
   {
    "duration": 64,
    "start_time": "2022-11-01T13:40:14.092Z"
   },
   {
    "duration": 8,
    "start_time": "2022-11-01T13:40:14.158Z"
   },
   {
    "duration": 592,
    "start_time": "2022-11-01T13:40:14.168Z"
   },
   {
    "duration": 58,
    "start_time": "2022-11-01T13:40:14.761Z"
   },
   {
    "duration": 0,
    "start_time": "2022-11-01T13:40:14.821Z"
   },
   {
    "duration": 0,
    "start_time": "2022-11-01T13:40:14.822Z"
   },
   {
    "duration": 0,
    "start_time": "2022-11-01T13:40:14.823Z"
   },
   {
    "duration": 0,
    "start_time": "2022-11-01T13:40:14.825Z"
   },
   {
    "duration": 0,
    "start_time": "2022-11-01T13:40:14.826Z"
   },
   {
    "duration": 4,
    "start_time": "2022-11-01T13:41:08.467Z"
   },
   {
    "duration": 98,
    "start_time": "2022-11-01T13:41:08.474Z"
   },
   {
    "duration": 48,
    "start_time": "2022-11-01T13:41:08.574Z"
   },
   {
    "duration": 20,
    "start_time": "2022-11-01T13:41:08.623Z"
   },
   {
    "duration": 589,
    "start_time": "2022-11-01T13:41:08.645Z"
   },
   {
    "duration": 88,
    "start_time": "2022-11-01T13:41:09.238Z"
   },
   {
    "duration": 0,
    "start_time": "2022-11-01T13:41:09.328Z"
   },
   {
    "duration": 0,
    "start_time": "2022-11-01T13:41:09.329Z"
   },
   {
    "duration": 0,
    "start_time": "2022-11-01T13:41:09.330Z"
   },
   {
    "duration": 0,
    "start_time": "2022-11-01T13:41:09.331Z"
   },
   {
    "duration": 0,
    "start_time": "2022-11-01T13:41:09.332Z"
   },
   {
    "duration": 0,
    "start_time": "2022-11-01T13:41:09.334Z"
   },
   {
    "duration": 0,
    "start_time": "2022-11-01T13:41:09.335Z"
   },
   {
    "duration": 165,
    "start_time": "2022-11-01T13:45:16.111Z"
   },
   {
    "duration": 71,
    "start_time": "2022-11-01T13:45:20.285Z"
   },
   {
    "duration": 44,
    "start_time": "2022-11-01T13:45:26.073Z"
   },
   {
    "duration": 45,
    "start_time": "2022-11-01T13:45:34.515Z"
   },
   {
    "duration": 55,
    "start_time": "2022-11-01T13:45:40.797Z"
   },
   {
    "duration": 23,
    "start_time": "2022-11-01T13:45:53.372Z"
   },
   {
    "duration": 24,
    "start_time": "2022-11-01T13:49:44.591Z"
   },
   {
    "duration": 21,
    "start_time": "2022-11-01T13:50:01.526Z"
   },
   {
    "duration": 25,
    "start_time": "2022-11-01T13:51:24.517Z"
   },
   {
    "duration": 24,
    "start_time": "2022-11-01T13:51:32.595Z"
   },
   {
    "duration": 37,
    "start_time": "2022-11-01T13:53:40.975Z"
   },
   {
    "duration": 22,
    "start_time": "2022-11-01T13:59:22.013Z"
   },
   {
    "duration": 148,
    "start_time": "2022-11-01T13:59:50.818Z"
   },
   {
    "duration": 116,
    "start_time": "2022-11-01T14:00:24.479Z"
   },
   {
    "duration": 33,
    "start_time": "2022-11-01T14:00:30.456Z"
   },
   {
    "duration": 35,
    "start_time": "2022-11-01T14:01:31.060Z"
   },
   {
    "duration": 31,
    "start_time": "2022-11-01T14:01:44.280Z"
   },
   {
    "duration": 5,
    "start_time": "2022-11-01T14:02:36.415Z"
   },
   {
    "duration": 95,
    "start_time": "2022-11-01T14:02:36.422Z"
   },
   {
    "duration": 67,
    "start_time": "2022-11-01T14:02:36.519Z"
   },
   {
    "duration": 8,
    "start_time": "2022-11-01T14:02:36.588Z"
   },
   {
    "duration": 853,
    "start_time": "2022-11-01T14:02:36.598Z"
   },
   {
    "duration": 32,
    "start_time": "2022-11-01T14:02:37.453Z"
   },
   {
    "duration": 37,
    "start_time": "2022-11-01T14:02:37.488Z"
   },
   {
    "duration": 17,
    "start_time": "2022-11-01T14:02:37.528Z"
   },
   {
    "duration": 45,
    "start_time": "2022-11-01T14:02:37.548Z"
   },
   {
    "duration": 11,
    "start_time": "2022-11-01T14:02:37.595Z"
   },
   {
    "duration": 11,
    "start_time": "2022-11-01T14:02:37.608Z"
   },
   {
    "duration": 27,
    "start_time": "2022-11-01T14:02:37.621Z"
   },
   {
    "duration": 213,
    "start_time": "2022-11-01T14:02:37.650Z"
   },
   {
    "duration": 9,
    "start_time": "2022-11-01T14:10:27.713Z"
   },
   {
    "duration": 10,
    "start_time": "2022-11-01T14:10:50.909Z"
   },
   {
    "duration": 5,
    "start_time": "2022-11-01T14:11:00.710Z"
   },
   {
    "duration": 93,
    "start_time": "2022-11-01T14:11:00.716Z"
   },
   {
    "duration": 50,
    "start_time": "2022-11-01T14:11:00.811Z"
   },
   {
    "duration": 11,
    "start_time": "2022-11-01T14:11:00.864Z"
   },
   {
    "duration": 624,
    "start_time": "2022-11-01T14:11:00.878Z"
   },
   {
    "duration": 24,
    "start_time": "2022-11-01T14:11:01.504Z"
   },
   {
    "duration": 25,
    "start_time": "2022-11-01T14:11:01.539Z"
   },
   {
    "duration": 26,
    "start_time": "2022-11-01T14:11:01.566Z"
   },
   {
    "duration": 13,
    "start_time": "2022-11-01T14:11:01.594Z"
   },
   {
    "duration": 5,
    "start_time": "2022-11-01T14:11:01.609Z"
   },
   {
    "duration": 24,
    "start_time": "2022-11-01T14:11:01.616Z"
   },
   {
    "duration": 22,
    "start_time": "2022-11-01T14:11:01.643Z"
   },
   {
    "duration": 209,
    "start_time": "2022-11-01T14:11:01.668Z"
   },
   {
    "duration": 11,
    "start_time": "2022-11-01T14:14:19.217Z"
   },
   {
    "duration": 3,
    "start_time": "2022-11-01T14:14:23.891Z"
   },
   {
    "duration": 114,
    "start_time": "2022-11-01T14:14:23.896Z"
   },
   {
    "duration": 63,
    "start_time": "2022-11-01T14:14:24.012Z"
   },
   {
    "duration": 7,
    "start_time": "2022-11-01T14:14:24.077Z"
   },
   {
    "duration": 638,
    "start_time": "2022-11-01T14:14:24.085Z"
   },
   {
    "duration": 32,
    "start_time": "2022-11-01T14:14:24.726Z"
   },
   {
    "duration": 17,
    "start_time": "2022-11-01T14:14:24.760Z"
   },
   {
    "duration": 11,
    "start_time": "2022-11-01T14:14:24.779Z"
   },
   {
    "duration": 10,
    "start_time": "2022-11-01T14:14:24.792Z"
   },
   {
    "duration": 36,
    "start_time": "2022-11-01T14:14:24.803Z"
   },
   {
    "duration": 9,
    "start_time": "2022-11-01T14:14:24.841Z"
   },
   {
    "duration": 25,
    "start_time": "2022-11-01T14:14:24.853Z"
   },
   {
    "duration": 216,
    "start_time": "2022-11-01T14:14:24.879Z"
   },
   {
    "duration": 145,
    "start_time": "2022-11-01T14:32:17.457Z"
   },
   {
    "duration": 4,
    "start_time": "2022-11-01T14:32:33.268Z"
   },
   {
    "duration": 99,
    "start_time": "2022-11-01T14:32:33.274Z"
   },
   {
    "duration": 51,
    "start_time": "2022-11-01T14:32:33.375Z"
   },
   {
    "duration": 9,
    "start_time": "2022-11-01T14:32:33.440Z"
   },
   {
    "duration": 629,
    "start_time": "2022-11-01T14:32:33.451Z"
   },
   {
    "duration": 23,
    "start_time": "2022-11-01T14:32:34.082Z"
   },
   {
    "duration": 32,
    "start_time": "2022-11-01T14:32:34.107Z"
   },
   {
    "duration": 9,
    "start_time": "2022-11-01T14:32:34.141Z"
   },
   {
    "duration": 15,
    "start_time": "2022-11-01T14:32:34.153Z"
   },
   {
    "duration": 11,
    "start_time": "2022-11-01T14:32:34.170Z"
   },
   {
    "duration": 11,
    "start_time": "2022-11-01T14:32:34.183Z"
   },
   {
    "duration": 12,
    "start_time": "2022-11-01T14:32:34.196Z"
   },
   {
    "duration": 254,
    "start_time": "2022-11-01T14:32:34.209Z"
   },
   {
    "duration": 43,
    "start_time": "2022-11-01T14:32:34.465Z"
   },
   {
    "duration": 17,
    "start_time": "2022-11-01T14:32:42.632Z"
   },
   {
    "duration": 4,
    "start_time": "2022-11-01T14:32:53.533Z"
   },
   {
    "duration": 94,
    "start_time": "2022-11-01T14:32:53.539Z"
   },
   {
    "duration": 53,
    "start_time": "2022-11-01T14:32:53.635Z"
   },
   {
    "duration": 7,
    "start_time": "2022-11-01T14:32:53.689Z"
   },
   {
    "duration": 588,
    "start_time": "2022-11-01T14:32:53.698Z"
   },
   {
    "duration": 23,
    "start_time": "2022-11-01T14:32:54.288Z"
   },
   {
    "duration": 33,
    "start_time": "2022-11-01T14:32:54.313Z"
   },
   {
    "duration": 14,
    "start_time": "2022-11-01T14:32:54.348Z"
   },
   {
    "duration": 12,
    "start_time": "2022-11-01T14:32:54.364Z"
   },
   {
    "duration": 5,
    "start_time": "2022-11-01T14:32:54.378Z"
   },
   {
    "duration": 8,
    "start_time": "2022-11-01T14:32:54.384Z"
   },
   {
    "duration": 10,
    "start_time": "2022-11-01T14:32:54.393Z"
   },
   {
    "duration": 215,
    "start_time": "2022-11-01T14:32:54.438Z"
   },
   {
    "duration": 37,
    "start_time": "2022-11-01T14:32:54.656Z"
   },
   {
    "duration": 42,
    "start_time": "2022-11-01T14:33:01.953Z"
   },
   {
    "duration": 240,
    "start_time": "2022-11-01T14:33:07.347Z"
   },
   {
    "duration": 3,
    "start_time": "2022-11-01T14:33:13.619Z"
   },
   {
    "duration": 96,
    "start_time": "2022-11-01T14:33:13.624Z"
   },
   {
    "duration": 61,
    "start_time": "2022-11-01T14:33:13.722Z"
   },
   {
    "duration": 7,
    "start_time": "2022-11-01T14:33:13.785Z"
   },
   {
    "duration": 677,
    "start_time": "2022-11-01T14:33:13.793Z"
   },
   {
    "duration": 21,
    "start_time": "2022-11-01T14:33:14.472Z"
   },
   {
    "duration": 15,
    "start_time": "2022-11-01T14:33:14.494Z"
   },
   {
    "duration": 37,
    "start_time": "2022-11-01T14:33:14.510Z"
   },
   {
    "duration": 26,
    "start_time": "2022-11-01T14:33:14.551Z"
   },
   {
    "duration": 6,
    "start_time": "2022-11-01T14:33:14.579Z"
   },
   {
    "duration": 7,
    "start_time": "2022-11-01T14:33:14.587Z"
   },
   {
    "duration": 12,
    "start_time": "2022-11-01T14:33:14.596Z"
   },
   {
    "duration": 200,
    "start_time": "2022-11-01T14:33:14.610Z"
   },
   {
    "duration": 47,
    "start_time": "2022-11-01T14:33:14.812Z"
   },
   {
    "duration": 32,
    "start_time": "2022-11-01T14:34:02.031Z"
   },
   {
    "duration": 19,
    "start_time": "2022-11-01T14:34:06.753Z"
   },
   {
    "duration": 5,
    "start_time": "2022-11-01T14:34:13.537Z"
   },
   {
    "duration": 201,
    "start_time": "2022-11-01T14:34:20.349Z"
   },
   {
    "duration": 35,
    "start_time": "2022-11-01T14:34:24.478Z"
   },
   {
    "duration": 219,
    "start_time": "2022-11-01T14:34:53.444Z"
   },
   {
    "duration": 229,
    "start_time": "2022-11-01T14:35:11.051Z"
   },
   {
    "duration": 168,
    "start_time": "2022-11-01T14:36:05.020Z"
   },
   {
    "duration": 39,
    "start_time": "2022-11-01T14:36:14.141Z"
   },
   {
    "duration": 30,
    "start_time": "2022-11-01T14:36:28.575Z"
   },
   {
    "duration": 33,
    "start_time": "2022-11-01T14:36:59.067Z"
   },
   {
    "duration": 42,
    "start_time": "2022-11-01T14:37:07.751Z"
   },
   {
    "duration": 5,
    "start_time": "2022-11-01T14:37:13.635Z"
   },
   {
    "duration": 117,
    "start_time": "2022-11-01T14:37:13.642Z"
   },
   {
    "duration": 50,
    "start_time": "2022-11-01T14:37:13.761Z"
   },
   {
    "duration": 26,
    "start_time": "2022-11-01T14:37:13.813Z"
   },
   {
    "duration": 608,
    "start_time": "2022-11-01T14:37:13.842Z"
   },
   {
    "duration": 27,
    "start_time": "2022-11-01T14:37:14.455Z"
   },
   {
    "duration": 15,
    "start_time": "2022-11-01T14:37:14.484Z"
   },
   {
    "duration": 10,
    "start_time": "2022-11-01T14:37:14.500Z"
   },
   {
    "duration": 30,
    "start_time": "2022-11-01T14:37:14.539Z"
   },
   {
    "duration": 9,
    "start_time": "2022-11-01T14:37:14.572Z"
   },
   {
    "duration": 10,
    "start_time": "2022-11-01T14:37:14.582Z"
   },
   {
    "duration": 10,
    "start_time": "2022-11-01T14:37:14.593Z"
   },
   {
    "duration": 225,
    "start_time": "2022-11-01T14:37:14.605Z"
   },
   {
    "duration": 38,
    "start_time": "2022-11-01T14:37:14.833Z"
   },
   {
    "duration": 39,
    "start_time": "2022-11-01T14:37:24.992Z"
   },
   {
    "duration": 3,
    "start_time": "2022-11-01T14:37:48.878Z"
   },
   {
    "duration": 5,
    "start_time": "2022-11-01T14:39:06.681Z"
   },
   {
    "duration": 213,
    "start_time": "2022-11-01T14:39:22.078Z"
   },
   {
    "duration": 5,
    "start_time": "2022-11-01T14:39:28.897Z"
   },
   {
    "duration": 99,
    "start_time": "2022-11-01T14:39:28.904Z"
   },
   {
    "duration": 205,
    "start_time": "2022-11-01T14:39:29.005Z"
   },
   {
    "duration": 7,
    "start_time": "2022-11-01T14:39:29.212Z"
   },
   {
    "duration": 689,
    "start_time": "2022-11-01T14:39:29.222Z"
   },
   {
    "duration": 37,
    "start_time": "2022-11-01T14:39:29.913Z"
   },
   {
    "duration": 21,
    "start_time": "2022-11-01T14:39:29.952Z"
   },
   {
    "duration": 7,
    "start_time": "2022-11-01T14:39:29.975Z"
   },
   {
    "duration": 14,
    "start_time": "2022-11-01T14:39:29.984Z"
   },
   {
    "duration": 5,
    "start_time": "2022-11-01T14:39:30.000Z"
   },
   {
    "duration": 34,
    "start_time": "2022-11-01T14:39:30.007Z"
   },
   {
    "duration": 29,
    "start_time": "2022-11-01T14:39:30.043Z"
   },
   {
    "duration": 203,
    "start_time": "2022-11-01T14:39:30.074Z"
   },
   {
    "duration": 39,
    "start_time": "2022-11-01T14:39:30.281Z"
   },
   {
    "duration": 19,
    "start_time": "2022-11-01T14:39:30.322Z"
   },
   {
    "duration": 16,
    "start_time": "2022-11-01T14:45:04.488Z"
   },
   {
    "duration": 19,
    "start_time": "2022-11-01T14:45:06.859Z"
   },
   {
    "duration": 4,
    "start_time": "2022-11-01T14:45:11.375Z"
   },
   {
    "duration": 102,
    "start_time": "2022-11-01T14:45:11.381Z"
   },
   {
    "duration": 56,
    "start_time": "2022-11-01T14:45:11.484Z"
   },
   {
    "duration": 12,
    "start_time": "2022-11-01T14:45:11.542Z"
   },
   {
    "duration": 646,
    "start_time": "2022-11-01T14:45:11.557Z"
   },
   {
    "duration": 33,
    "start_time": "2022-11-01T14:45:12.205Z"
   },
   {
    "duration": 24,
    "start_time": "2022-11-01T14:45:12.240Z"
   },
   {
    "duration": 10,
    "start_time": "2022-11-01T14:45:12.267Z"
   },
   {
    "duration": 20,
    "start_time": "2022-11-01T14:45:12.279Z"
   },
   {
    "duration": 6,
    "start_time": "2022-11-01T14:45:12.301Z"
   },
   {
    "duration": 34,
    "start_time": "2022-11-01T14:45:12.310Z"
   },
   {
    "duration": 28,
    "start_time": "2022-11-01T14:45:12.346Z"
   },
   {
    "duration": 231,
    "start_time": "2022-11-01T14:45:12.375Z"
   },
   {
    "duration": 3,
    "start_time": "2022-11-01T14:45:12.608Z"
   },
   {
    "duration": 31,
    "start_time": "2022-11-01T14:45:12.614Z"
   },
   {
    "duration": 10,
    "start_time": "2022-11-01T14:45:21.057Z"
   },
   {
    "duration": 52,
    "start_time": "2022-11-01T14:53:22.420Z"
   },
   {
    "duration": 19,
    "start_time": "2022-11-01T14:53:58.074Z"
   },
   {
    "duration": 39,
    "start_time": "2022-11-01T14:54:06.057Z"
   },
   {
    "duration": 4,
    "start_time": "2022-11-01T15:51:32.113Z"
   },
   {
    "duration": 30,
    "start_time": "2022-11-01T15:51:36.959Z"
   },
   {
    "duration": 28,
    "start_time": "2022-11-01T15:51:50.453Z"
   },
   {
    "duration": 6,
    "start_time": "2022-11-01T15:51:55.249Z"
   },
   {
    "duration": 94,
    "start_time": "2022-11-01T15:51:55.263Z"
   },
   {
    "duration": 49,
    "start_time": "2022-11-01T15:51:55.359Z"
   },
   {
    "duration": 6,
    "start_time": "2022-11-01T15:51:55.410Z"
   },
   {
    "duration": 611,
    "start_time": "2022-11-01T15:51:55.442Z"
   },
   {
    "duration": 25,
    "start_time": "2022-11-01T15:51:56.054Z"
   },
   {
    "duration": 15,
    "start_time": "2022-11-01T15:51:56.081Z"
   },
   {
    "duration": 7,
    "start_time": "2022-11-01T15:51:56.097Z"
   },
   {
    "duration": 37,
    "start_time": "2022-11-01T15:51:56.105Z"
   },
   {
    "duration": 6,
    "start_time": "2022-11-01T15:51:56.144Z"
   },
   {
    "duration": 12,
    "start_time": "2022-11-01T15:51:56.152Z"
   },
   {
    "duration": 12,
    "start_time": "2022-11-01T15:51:56.166Z"
   },
   {
    "duration": 338,
    "start_time": "2022-11-01T15:51:56.180Z"
   },
   {
    "duration": 18,
    "start_time": "2022-11-01T15:51:56.521Z"
   },
   {
    "duration": 12,
    "start_time": "2022-11-01T15:51:56.542Z"
   },
   {
    "duration": 29,
    "start_time": "2022-11-01T15:51:56.560Z"
   },
   {
    "duration": 16,
    "start_time": "2022-11-01T15:52:33.350Z"
   },
   {
    "duration": 17,
    "start_time": "2022-11-01T15:56:51.553Z"
   },
   {
    "duration": 18,
    "start_time": "2022-11-01T15:57:27.084Z"
   },
   {
    "duration": 17,
    "start_time": "2022-11-01T15:57:34.438Z"
   },
   {
    "duration": 7,
    "start_time": "2022-11-01T15:57:59.226Z"
   },
   {
    "duration": 9,
    "start_time": "2022-11-01T16:01:01.523Z"
   },
   {
    "duration": 17,
    "start_time": "2022-11-01T16:01:24.203Z"
   },
   {
    "duration": 33,
    "start_time": "2022-11-01T16:02:15.042Z"
   },
   {
    "duration": 32,
    "start_time": "2022-11-01T16:03:18.618Z"
   },
   {
    "duration": 22,
    "start_time": "2022-11-01T16:03:30.682Z"
   },
   {
    "duration": 35,
    "start_time": "2022-11-01T16:04:46.429Z"
   },
   {
    "duration": 27,
    "start_time": "2022-11-01T16:05:04.096Z"
   },
   {
    "duration": 28,
    "start_time": "2022-11-01T16:05:15.266Z"
   },
   {
    "duration": 9,
    "start_time": "2022-11-01T16:05:33.628Z"
   },
   {
    "duration": 26,
    "start_time": "2022-11-01T16:05:46.302Z"
   },
   {
    "duration": 22,
    "start_time": "2022-11-01T16:05:59.989Z"
   },
   {
    "duration": 14,
    "start_time": "2022-11-01T16:10:17.416Z"
   },
   {
    "duration": 498,
    "start_time": "2022-11-01T16:10:31.732Z"
   },
   {
    "duration": 17,
    "start_time": "2022-11-01T16:19:32.133Z"
   },
   {
    "duration": 13,
    "start_time": "2022-11-01T16:19:42.109Z"
   },
   {
    "duration": 36,
    "start_time": "2022-11-01T16:20:19.957Z"
   },
   {
    "duration": 33,
    "start_time": "2022-11-01T16:20:28.762Z"
   },
   {
    "duration": 11,
    "start_time": "2022-11-01T16:21:56.710Z"
   },
   {
    "duration": 14,
    "start_time": "2022-11-01T16:22:43.631Z"
   },
   {
    "duration": 913,
    "start_time": "2022-11-01T16:31:52.960Z"
   },
   {
    "duration": 923,
    "start_time": "2022-11-01T16:31:58.428Z"
   },
   {
    "duration": 18,
    "start_time": "2022-11-01T16:32:13.918Z"
   },
   {
    "duration": 20,
    "start_time": "2022-11-01T16:32:17.765Z"
   },
   {
    "duration": 30,
    "start_time": "2022-11-01T16:32:41.646Z"
   },
   {
    "duration": 23,
    "start_time": "2022-11-01T16:32:59.487Z"
   },
   {
    "duration": 23,
    "start_time": "2022-11-01T16:33:25.255Z"
   },
   {
    "duration": 14,
    "start_time": "2022-11-01T16:33:44.281Z"
   },
   {
    "duration": 9,
    "start_time": "2022-11-01T16:34:26.718Z"
   },
   {
    "duration": 891,
    "start_time": "2022-11-01T16:36:43.595Z"
   },
   {
    "duration": 790,
    "start_time": "2022-11-01T16:37:02.574Z"
   },
   {
    "duration": 17,
    "start_time": "2022-11-01T16:38:24.342Z"
   },
   {
    "duration": 27,
    "start_time": "2022-11-01T16:39:07.546Z"
   },
   {
    "duration": 18,
    "start_time": "2022-11-01T16:39:13.842Z"
   },
   {
    "duration": 196,
    "start_time": "2022-11-01T16:42:34.872Z"
   },
   {
    "duration": 322,
    "start_time": "2022-11-01T16:42:39.205Z"
   },
   {
    "duration": 12,
    "start_time": "2022-11-01T16:43:14.282Z"
   },
   {
    "duration": 526,
    "start_time": "2022-11-01T16:46:44.283Z"
   },
   {
    "duration": 16,
    "start_time": "2022-11-01T16:48:42.759Z"
   },
   {
    "duration": 847,
    "start_time": "2022-11-01T16:50:37.736Z"
   },
   {
    "duration": 53,
    "start_time": "2022-11-01T16:51:19.800Z"
   },
   {
    "duration": 22,
    "start_time": "2022-11-01T16:51:26.337Z"
   },
   {
    "duration": 17,
    "start_time": "2022-11-01T16:51:39.905Z"
   },
   {
    "duration": 17,
    "start_time": "2022-11-01T16:52:10.563Z"
   },
   {
    "duration": 15,
    "start_time": "2022-11-01T16:52:16.285Z"
   },
   {
    "duration": 5135,
    "start_time": "2022-11-01T16:52:20.677Z"
   },
   {
    "duration": 5256,
    "start_time": "2022-11-01T16:52:27.033Z"
   },
   {
    "duration": 5138,
    "start_time": "2022-11-01T16:54:00.303Z"
   },
   {
    "duration": 1998,
    "start_time": "2022-11-01T16:56:28.541Z"
   },
   {
    "duration": 2054,
    "start_time": "2022-11-01T16:57:14.898Z"
   },
   {
    "duration": 41,
    "start_time": "2022-11-01T17:08:56.600Z"
   },
   {
    "duration": 1730,
    "start_time": "2022-11-01T17:09:43.482Z"
   },
   {
    "duration": 2043,
    "start_time": "2022-11-01T17:09:53.401Z"
   },
   {
    "duration": 2076,
    "start_time": "2022-11-01T17:14:26.674Z"
   },
   {
    "duration": 49,
    "start_time": "2022-11-01T17:31:38.835Z"
   },
   {
    "duration": 53,
    "start_time": "2022-11-01T17:31:51.340Z"
   },
   {
    "duration": 25,
    "start_time": "2022-11-01T17:31:56.997Z"
   },
   {
    "duration": 32,
    "start_time": "2022-11-01T17:32:52.131Z"
   },
   {
    "duration": 22,
    "start_time": "2022-11-01T17:33:04.029Z"
   },
   {
    "duration": 35,
    "start_time": "2022-11-01T17:33:34.424Z"
   },
   {
    "duration": 21,
    "start_time": "2022-11-01T17:33:57.511Z"
   },
   {
    "duration": 21,
    "start_time": "2022-11-01T17:34:33.230Z"
   },
   {
    "duration": 29,
    "start_time": "2022-11-01T17:40:43.447Z"
   },
   {
    "duration": 44,
    "start_time": "2022-11-01T17:41:18.154Z"
   },
   {
    "duration": 28,
    "start_time": "2022-11-01T17:41:38.081Z"
   },
   {
    "duration": 4,
    "start_time": "2022-11-01T17:41:54.404Z"
   },
   {
    "duration": 89,
    "start_time": "2022-11-01T17:41:54.411Z"
   },
   {
    "duration": 61,
    "start_time": "2022-11-01T17:41:54.502Z"
   },
   {
    "duration": 9,
    "start_time": "2022-11-01T17:41:54.564Z"
   },
   {
    "duration": 561,
    "start_time": "2022-11-01T17:41:54.577Z"
   },
   {
    "duration": 31,
    "start_time": "2022-11-01T17:41:55.140Z"
   },
   {
    "duration": 22,
    "start_time": "2022-11-01T17:41:55.173Z"
   },
   {
    "duration": 8,
    "start_time": "2022-11-01T17:41:55.197Z"
   },
   {
    "duration": 36,
    "start_time": "2022-11-01T17:41:55.206Z"
   },
   {
    "duration": 6,
    "start_time": "2022-11-01T17:41:55.243Z"
   },
   {
    "duration": 12,
    "start_time": "2022-11-01T17:41:55.250Z"
   },
   {
    "duration": 18,
    "start_time": "2022-11-01T17:41:55.264Z"
   },
   {
    "duration": 231,
    "start_time": "2022-11-01T17:41:55.284Z"
   },
   {
    "duration": 8,
    "start_time": "2022-11-01T17:41:55.518Z"
   },
   {
    "duration": 31,
    "start_time": "2022-11-01T17:41:55.527Z"
   },
   {
    "duration": 1888,
    "start_time": "2022-11-01T17:41:55.560Z"
   },
   {
    "duration": 4,
    "start_time": "2022-11-01T17:41:57.451Z"
   },
   {
    "duration": 55,
    "start_time": "2022-11-01T17:41:57.456Z"
   },
   {
    "duration": 33,
    "start_time": "2022-11-01T17:42:29.038Z"
   },
   {
    "duration": 25,
    "start_time": "2022-11-01T17:43:22.322Z"
   },
   {
    "duration": 33,
    "start_time": "2022-11-01T17:43:30.655Z"
   },
   {
    "duration": 27,
    "start_time": "2022-11-01T17:43:56.413Z"
   },
   {
    "duration": 28,
    "start_time": "2022-11-01T17:44:30.126Z"
   },
   {
    "duration": 7,
    "start_time": "2022-11-01T17:51:02.006Z"
   },
   {
    "duration": 23,
    "start_time": "2022-11-01T17:52:03.861Z"
   },
   {
    "duration": 3,
    "start_time": "2022-11-01T17:52:10.318Z"
   },
   {
    "duration": 97,
    "start_time": "2022-11-01T17:52:10.323Z"
   },
   {
    "duration": 68,
    "start_time": "2022-11-01T17:52:10.423Z"
   },
   {
    "duration": 8,
    "start_time": "2022-11-01T17:52:10.493Z"
   },
   {
    "duration": 639,
    "start_time": "2022-11-01T17:52:10.504Z"
   },
   {
    "duration": 26,
    "start_time": "2022-11-01T17:52:11.145Z"
   },
   {
    "duration": 23,
    "start_time": "2022-11-01T17:52:11.172Z"
   },
   {
    "duration": 42,
    "start_time": "2022-11-01T17:52:11.197Z"
   },
   {
    "duration": 15,
    "start_time": "2022-11-01T17:52:11.242Z"
   },
   {
    "duration": 16,
    "start_time": "2022-11-01T17:52:11.258Z"
   },
   {
    "duration": 33,
    "start_time": "2022-11-01T17:52:11.277Z"
   },
   {
    "duration": 25,
    "start_time": "2022-11-01T17:52:11.312Z"
   },
   {
    "duration": 230,
    "start_time": "2022-11-01T17:52:11.339Z"
   },
   {
    "duration": 13,
    "start_time": "2022-11-01T17:52:11.572Z"
   },
   {
    "duration": 40,
    "start_time": "2022-11-01T17:52:11.588Z"
   },
   {
    "duration": 1814,
    "start_time": "2022-11-01T17:52:11.630Z"
   },
   {
    "duration": 3,
    "start_time": "2022-11-01T17:52:13.446Z"
   },
   {
    "duration": 29,
    "start_time": "2022-11-01T17:52:13.451Z"
   },
   {
    "duration": 17,
    "start_time": "2022-11-01T17:52:31.005Z"
   },
   {
    "duration": 65,
    "start_time": "2022-11-01T18:02:02.300Z"
   },
   {
    "duration": 20,
    "start_time": "2022-11-01T18:02:09.381Z"
   },
   {
    "duration": 20,
    "start_time": "2022-11-01T18:04:03.452Z"
   },
   {
    "duration": 11,
    "start_time": "2022-11-01T18:07:03.232Z"
   },
   {
    "duration": 5,
    "start_time": "2022-11-01T18:07:07.297Z"
   },
   {
    "duration": 110,
    "start_time": "2022-11-01T18:07:07.304Z"
   },
   {
    "duration": 79,
    "start_time": "2022-11-01T18:07:07.416Z"
   },
   {
    "duration": 7,
    "start_time": "2022-11-01T18:07:07.497Z"
   },
   {
    "duration": 577,
    "start_time": "2022-11-01T18:07:07.507Z"
   },
   {
    "duration": 22,
    "start_time": "2022-11-01T18:07:08.086Z"
   },
   {
    "duration": 35,
    "start_time": "2022-11-01T18:07:08.110Z"
   },
   {
    "duration": 13,
    "start_time": "2022-11-01T18:07:08.147Z"
   },
   {
    "duration": 16,
    "start_time": "2022-11-01T18:07:08.162Z"
   },
   {
    "duration": 6,
    "start_time": "2022-11-01T18:07:08.181Z"
   },
   {
    "duration": 9,
    "start_time": "2022-11-01T18:07:08.189Z"
   },
   {
    "duration": 11,
    "start_time": "2022-11-01T18:07:08.200Z"
   },
   {
    "duration": 208,
    "start_time": "2022-11-01T18:07:08.239Z"
   },
   {
    "duration": 11,
    "start_time": "2022-11-01T18:07:08.449Z"
   },
   {
    "duration": 14,
    "start_time": "2022-11-01T18:07:08.462Z"
   },
   {
    "duration": 1747,
    "start_time": "2022-11-01T18:07:08.477Z"
   },
   {
    "duration": 3,
    "start_time": "2022-11-01T18:07:10.225Z"
   },
   {
    "duration": 30,
    "start_time": "2022-11-01T18:07:10.229Z"
   },
   {
    "duration": 4,
    "start_time": "2022-11-01T18:07:52.409Z"
   },
   {
    "duration": 83,
    "start_time": "2022-11-01T18:07:52.416Z"
   },
   {
    "duration": 64,
    "start_time": "2022-11-01T18:07:52.501Z"
   },
   {
    "duration": 10,
    "start_time": "2022-11-01T18:07:52.567Z"
   },
   {
    "duration": 652,
    "start_time": "2022-11-01T18:07:52.580Z"
   },
   {
    "duration": 24,
    "start_time": "2022-11-01T18:07:53.234Z"
   },
   {
    "duration": 14,
    "start_time": "2022-11-01T18:07:53.260Z"
   },
   {
    "duration": 9,
    "start_time": "2022-11-01T18:07:53.276Z"
   },
   {
    "duration": 11,
    "start_time": "2022-11-01T18:07:53.288Z"
   },
   {
    "duration": 38,
    "start_time": "2022-11-01T18:07:53.301Z"
   },
   {
    "duration": 7,
    "start_time": "2022-11-01T18:07:53.341Z"
   },
   {
    "duration": 22,
    "start_time": "2022-11-01T18:07:53.350Z"
   },
   {
    "duration": 216,
    "start_time": "2022-11-01T18:07:53.374Z"
   },
   {
    "duration": 8,
    "start_time": "2022-11-01T18:07:53.592Z"
   },
   {
    "duration": 25,
    "start_time": "2022-11-01T18:07:53.602Z"
   },
   {
    "duration": 1714,
    "start_time": "2022-11-01T18:07:53.628Z"
   },
   {
    "duration": 2,
    "start_time": "2022-11-01T18:07:55.344Z"
   },
   {
    "duration": 21,
    "start_time": "2022-11-01T18:07:55.347Z"
   },
   {
    "duration": 38,
    "start_time": "2022-11-01T18:09:10.324Z"
   },
   {
    "duration": 10,
    "start_time": "2022-11-01T18:13:18.301Z"
   },
   {
    "duration": 190,
    "start_time": "2022-11-01T18:14:13.825Z"
   },
   {
    "duration": 164,
    "start_time": "2022-11-01T18:15:02.515Z"
   },
   {
    "duration": 9,
    "start_time": "2022-11-01T18:15:33.401Z"
   },
   {
    "duration": 9,
    "start_time": "2022-11-01T18:15:41.332Z"
   },
   {
    "duration": 10,
    "start_time": "2022-11-01T18:15:48.672Z"
   },
   {
    "duration": 151,
    "start_time": "2022-11-01T18:16:03.266Z"
   },
   {
    "duration": 172,
    "start_time": "2022-11-01T18:16:07.626Z"
   },
   {
    "duration": 194,
    "start_time": "2022-11-01T18:16:37.256Z"
   },
   {
    "duration": 165,
    "start_time": "2022-11-01T18:17:56.996Z"
   },
   {
    "duration": 239,
    "start_time": "2022-11-01T18:18:37.180Z"
   },
   {
    "duration": 42,
    "start_time": "2022-11-01T18:21:04.056Z"
   },
   {
    "duration": 196,
    "start_time": "2022-11-01T18:21:09.929Z"
   },
   {
    "duration": 153,
    "start_time": "2022-11-01T18:23:46.562Z"
   },
   {
    "duration": 5,
    "start_time": "2022-11-01T18:47:48.762Z"
   },
   {
    "duration": 859,
    "start_time": "2022-11-01T18:48:34.588Z"
   },
   {
    "duration": 711,
    "start_time": "2022-11-01T18:50:35.501Z"
   },
   {
    "duration": 686,
    "start_time": "2022-11-01T18:52:58.809Z"
   },
   {
    "duration": 738,
    "start_time": "2022-11-01T18:53:22.289Z"
   },
   {
    "duration": 4,
    "start_time": "2022-11-01T18:53:27.819Z"
   },
   {
    "duration": 83,
    "start_time": "2022-11-01T18:53:27.825Z"
   },
   {
    "duration": 133,
    "start_time": "2022-11-01T18:53:27.910Z"
   },
   {
    "duration": 6,
    "start_time": "2022-11-01T18:53:28.044Z"
   },
   {
    "duration": 581,
    "start_time": "2022-11-01T18:53:28.052Z"
   },
   {
    "duration": 22,
    "start_time": "2022-11-01T18:53:28.638Z"
   },
   {
    "duration": 14,
    "start_time": "2022-11-01T18:53:28.661Z"
   },
   {
    "duration": 7,
    "start_time": "2022-11-01T18:53:28.677Z"
   },
   {
    "duration": 13,
    "start_time": "2022-11-01T18:53:28.686Z"
   },
   {
    "duration": 4,
    "start_time": "2022-11-01T18:53:28.701Z"
   },
   {
    "duration": 37,
    "start_time": "2022-11-01T18:53:28.707Z"
   },
   {
    "duration": 11,
    "start_time": "2022-11-01T18:53:28.745Z"
   },
   {
    "duration": 184,
    "start_time": "2022-11-01T18:53:28.757Z"
   },
   {
    "duration": 8,
    "start_time": "2022-11-01T18:53:28.943Z"
   },
   {
    "duration": 13,
    "start_time": "2022-11-01T18:53:28.952Z"
   },
   {
    "duration": 1674,
    "start_time": "2022-11-01T18:53:28.966Z"
   },
   {
    "duration": 3,
    "start_time": "2022-11-01T18:53:30.642Z"
   },
   {
    "duration": 40,
    "start_time": "2022-11-01T18:53:30.647Z"
   },
   {
    "duration": 185,
    "start_time": "2022-11-01T18:53:30.688Z"
   },
   {
    "duration": 756,
    "start_time": "2022-11-01T18:53:30.875Z"
   },
   {
    "duration": 6,
    "start_time": "2022-11-01T18:53:53.109Z"
   },
   {
    "duration": 9,
    "start_time": "2022-11-01T18:55:01.086Z"
   },
   {
    "duration": 7,
    "start_time": "2022-11-01T18:55:44.692Z"
   },
   {
    "duration": 8,
    "start_time": "2022-11-01T18:56:08.029Z"
   },
   {
    "duration": 7,
    "start_time": "2022-11-01T18:56:12.037Z"
   },
   {
    "duration": 11,
    "start_time": "2022-11-01T18:56:17.363Z"
   },
   {
    "duration": 8,
    "start_time": "2022-11-01T18:56:24.791Z"
   },
   {
    "duration": 16,
    "start_time": "2022-11-01T19:03:09.736Z"
   },
   {
    "duration": 14,
    "start_time": "2022-11-01T19:03:15.359Z"
   },
   {
    "duration": 127,
    "start_time": "2022-11-01T19:04:09.550Z"
   },
   {
    "duration": 22,
    "start_time": "2022-11-01T19:04:34.262Z"
   },
   {
    "duration": 131,
    "start_time": "2022-11-01T19:04:48.265Z"
   },
   {
    "duration": 116,
    "start_time": "2022-11-01T19:06:23.949Z"
   },
   {
    "duration": 140,
    "start_time": "2022-11-01T19:06:45.184Z"
   },
   {
    "duration": 125,
    "start_time": "2022-11-01T19:08:34.925Z"
   },
   {
    "duration": 123,
    "start_time": "2022-11-01T19:08:41.161Z"
   },
   {
    "duration": 46,
    "start_time": "2022-11-02T13:28:15.869Z"
   },
   {
    "duration": 1173,
    "start_time": "2022-11-02T13:28:23.035Z"
   },
   {
    "duration": 111,
    "start_time": "2022-11-02T13:28:24.210Z"
   },
   {
    "duration": 47,
    "start_time": "2022-11-02T13:28:24.322Z"
   },
   {
    "duration": 8,
    "start_time": "2022-11-02T13:28:24.371Z"
   },
   {
    "duration": 564,
    "start_time": "2022-11-02T13:28:24.382Z"
   },
   {
    "duration": 20,
    "start_time": "2022-11-02T13:28:24.948Z"
   },
   {
    "duration": 13,
    "start_time": "2022-11-02T13:28:24.969Z"
   },
   {
    "duration": 7,
    "start_time": "2022-11-02T13:28:24.983Z"
   },
   {
    "duration": 35,
    "start_time": "2022-11-02T13:28:24.991Z"
   },
   {
    "duration": 5,
    "start_time": "2022-11-02T13:28:25.027Z"
   },
   {
    "duration": 8,
    "start_time": "2022-11-02T13:28:25.033Z"
   },
   {
    "duration": 10,
    "start_time": "2022-11-02T13:28:25.042Z"
   },
   {
    "duration": 205,
    "start_time": "2022-11-02T13:28:25.054Z"
   },
   {
    "duration": 7,
    "start_time": "2022-11-02T13:28:25.262Z"
   },
   {
    "duration": 12,
    "start_time": "2022-11-02T13:28:25.271Z"
   },
   {
    "duration": 1590,
    "start_time": "2022-11-02T13:28:25.284Z"
   },
   {
    "duration": 3,
    "start_time": "2022-11-02T13:28:26.876Z"
   },
   {
    "duration": 41,
    "start_time": "2022-11-02T13:28:26.881Z"
   },
   {
    "duration": 173,
    "start_time": "2022-11-02T13:28:26.924Z"
   },
   {
    "duration": 7,
    "start_time": "2022-11-02T13:28:27.099Z"
   },
   {
    "duration": 135,
    "start_time": "2022-11-02T13:28:27.108Z"
   },
   {
    "duration": 126,
    "start_time": "2022-11-02T13:28:27.245Z"
   },
   {
    "duration": 124,
    "start_time": "2022-11-02T13:28:27.372Z"
   },
   {
    "duration": 10,
    "start_time": "2022-11-02T13:39:52.723Z"
   },
   {
    "duration": 4,
    "start_time": "2022-11-02T13:40:12.591Z"
   },
   {
    "duration": 644,
    "start_time": "2022-11-02T13:41:35.628Z"
   },
   {
    "duration": 68,
    "start_time": "2022-11-02T13:42:24.898Z"
   },
   {
    "duration": 585,
    "start_time": "2022-11-02T13:42:50.316Z"
   },
   {
    "duration": 631,
    "start_time": "2022-11-02T13:43:16.469Z"
   },
   {
    "duration": 638,
    "start_time": "2022-11-02T13:48:29.024Z"
   },
   {
    "duration": 17,
    "start_time": "2022-11-02T13:51:31.978Z"
   },
   {
    "duration": 436,
    "start_time": "2022-11-02T13:51:40.690Z"
   },
   {
    "duration": 16,
    "start_time": "2022-11-02T14:03:14.035Z"
   },
   {
    "duration": 16,
    "start_time": "2022-11-02T14:04:04.850Z"
   },
   {
    "duration": 14,
    "start_time": "2022-11-02T14:04:10.204Z"
   },
   {
    "duration": 147,
    "start_time": "2022-11-02T14:04:48.006Z"
   },
   {
    "duration": 129,
    "start_time": "2022-11-02T14:05:07.849Z"
   },
   {
    "duration": 16,
    "start_time": "2022-11-02T14:06:54.997Z"
   },
   {
    "duration": 129,
    "start_time": "2022-11-02T14:07:07.314Z"
   },
   {
    "duration": 743,
    "start_time": "2022-11-02T14:09:39.787Z"
   },
   {
    "duration": 1299,
    "start_time": "2022-11-02T14:10:05.825Z"
   },
   {
    "duration": 723,
    "start_time": "2022-11-02T14:10:34.623Z"
   },
   {
    "duration": 15,
    "start_time": "2022-11-02T14:12:56.058Z"
   },
   {
    "duration": 146,
    "start_time": "2022-11-02T14:13:07.506Z"
   },
   {
    "duration": 18,
    "start_time": "2022-11-02T14:14:48.338Z"
   },
   {
    "duration": 4,
    "start_time": "2022-11-02T14:14:55.399Z"
   },
   {
    "duration": 75,
    "start_time": "2022-11-02T14:14:55.404Z"
   },
   {
    "duration": 115,
    "start_time": "2022-11-02T14:14:55.480Z"
   },
   {
    "duration": 6,
    "start_time": "2022-11-02T14:14:55.597Z"
   },
   {
    "duration": 530,
    "start_time": "2022-11-02T14:14:55.604Z"
   },
   {
    "duration": 19,
    "start_time": "2022-11-02T14:14:56.136Z"
   },
   {
    "duration": 12,
    "start_time": "2022-11-02T14:14:56.157Z"
   },
   {
    "duration": 7,
    "start_time": "2022-11-02T14:14:56.170Z"
   },
   {
    "duration": 10,
    "start_time": "2022-11-02T14:14:56.179Z"
   },
   {
    "duration": 32,
    "start_time": "2022-11-02T14:14:56.190Z"
   },
   {
    "duration": 5,
    "start_time": "2022-11-02T14:14:56.223Z"
   },
   {
    "duration": 13,
    "start_time": "2022-11-02T14:14:56.229Z"
   },
   {
    "duration": 160,
    "start_time": "2022-11-02T14:14:56.244Z"
   },
   {
    "duration": 17,
    "start_time": "2022-11-02T14:14:56.406Z"
   },
   {
    "duration": 12,
    "start_time": "2022-11-02T14:14:56.424Z"
   },
   {
    "duration": 1600,
    "start_time": "2022-11-02T14:14:56.437Z"
   },
   {
    "duration": 3,
    "start_time": "2022-11-02T14:14:58.040Z"
   },
   {
    "duration": 32,
    "start_time": "2022-11-02T14:14:58.045Z"
   },
   {
    "duration": 168,
    "start_time": "2022-11-02T14:14:58.078Z"
   },
   {
    "duration": 8,
    "start_time": "2022-11-02T14:14:58.248Z"
   },
   {
    "duration": 131,
    "start_time": "2022-11-02T14:14:58.258Z"
   },
   {
    "duration": 114,
    "start_time": "2022-11-02T14:14:58.391Z"
   },
   {
    "duration": 546,
    "start_time": "2022-11-02T14:14:58.507Z"
   },
   {
    "duration": 22,
    "start_time": "2022-11-02T14:14:59.056Z"
   },
   {
    "duration": 155,
    "start_time": "2022-11-02T14:17:04.446Z"
   },
   {
    "duration": 192,
    "start_time": "2022-11-02T14:17:34.975Z"
   },
   {
    "duration": 166,
    "start_time": "2022-11-02T14:20:44.024Z"
   },
   {
    "duration": 50,
    "start_time": "2022-11-02T14:22:28.073Z"
   },
   {
    "duration": 177,
    "start_time": "2022-11-02T14:22:33.898Z"
   },
   {
    "duration": 49,
    "start_time": "2022-11-02T14:24:12.977Z"
   },
   {
    "duration": 5,
    "start_time": "2022-11-02T14:29:37.149Z"
   },
   {
    "duration": 781,
    "start_time": "2022-11-02T14:30:15.365Z"
   },
   {
    "duration": 10,
    "start_time": "2022-11-02T14:30:18.657Z"
   },
   {
    "duration": 5,
    "start_time": "2022-11-02T14:31:34.697Z"
   },
   {
    "duration": 4,
    "start_time": "2022-11-02T14:31:55.587Z"
   },
   {
    "duration": 42,
    "start_time": "2022-11-02T14:48:42.605Z"
   },
   {
    "duration": 144,
    "start_time": "2022-11-02T14:49:25.049Z"
   },
   {
    "duration": 119,
    "start_time": "2022-11-02T15:08:12.665Z"
   },
   {
    "duration": 16,
    "start_time": "2022-11-02T15:13:30.426Z"
   },
   {
    "duration": 17,
    "start_time": "2022-11-02T15:13:33.098Z"
   },
   {
    "duration": 130,
    "start_time": "2022-11-02T15:13:36.772Z"
   },
   {
    "duration": 60,
    "start_time": "2022-11-02T15:17:38.718Z"
   },
   {
    "duration": 22,
    "start_time": "2022-11-02T15:17:43.361Z"
   },
   {
    "duration": 22,
    "start_time": "2022-11-02T15:18:22.737Z"
   },
   {
    "duration": 23,
    "start_time": "2022-11-02T15:19:00.962Z"
   },
   {
    "duration": 23,
    "start_time": "2022-11-02T15:20:09.902Z"
   },
   {
    "duration": 1100,
    "start_time": "2022-11-02T15:22:48.742Z"
   },
   {
    "duration": 313,
    "start_time": "2022-11-02T15:23:08.734Z"
   },
   {
    "duration": 317,
    "start_time": "2022-11-02T15:23:31.630Z"
   },
   {
    "duration": 391,
    "start_time": "2022-11-02T15:31:35.709Z"
   },
   {
    "duration": 111,
    "start_time": "2022-11-02T15:35:07.791Z"
   },
   {
    "duration": 382,
    "start_time": "2022-11-02T15:35:14.753Z"
   },
   {
    "duration": 28,
    "start_time": "2022-11-02T15:38:16.684Z"
   },
   {
    "duration": 365,
    "start_time": "2022-11-02T15:41:09.748Z"
   },
   {
    "duration": 151,
    "start_time": "2022-11-02T15:41:41.880Z"
   },
   {
    "duration": 157,
    "start_time": "2022-11-02T15:42:19.419Z"
   },
   {
    "duration": 935,
    "start_time": "2022-11-02T15:42:30.427Z"
   },
   {
    "duration": 842,
    "start_time": "2022-11-02T15:42:58.461Z"
   },
   {
    "duration": 819,
    "start_time": "2022-11-02T15:43:42.493Z"
   },
   {
    "duration": 12,
    "start_time": "2022-11-02T15:44:23.739Z"
   },
   {
    "duration": 152,
    "start_time": "2022-11-02T15:45:46.065Z"
   },
   {
    "duration": 348,
    "start_time": "2022-11-02T15:53:05.859Z"
   },
   {
    "duration": 997,
    "start_time": "2022-11-02T15:56:05.313Z"
   },
   {
    "duration": 929,
    "start_time": "2022-11-02T15:57:48.907Z"
   },
   {
    "duration": 165,
    "start_time": "2022-11-02T15:58:20.950Z"
   },
   {
    "duration": 179,
    "start_time": "2022-11-02T16:00:00.363Z"
   },
   {
    "duration": 163,
    "start_time": "2022-11-02T16:00:13.462Z"
   },
   {
    "duration": 152,
    "start_time": "2022-11-02T16:00:17.783Z"
   },
   {
    "duration": 247,
    "start_time": "2022-11-02T16:02:45.408Z"
   },
   {
    "duration": 412,
    "start_time": "2022-11-02T16:03:41.947Z"
   },
   {
    "duration": 361,
    "start_time": "2022-11-02T16:05:09.401Z"
   },
   {
    "duration": 434,
    "start_time": "2022-11-02T16:05:41.295Z"
   },
   {
    "duration": 260,
    "start_time": "2022-11-02T16:06:09.213Z"
   },
   {
    "duration": 263,
    "start_time": "2022-11-02T16:07:22.466Z"
   },
   {
    "duration": 470,
    "start_time": "2022-11-02T16:07:59.758Z"
   },
   {
    "duration": 411,
    "start_time": "2022-11-02T16:11:18.413Z"
   },
   {
    "duration": 253,
    "start_time": "2022-11-02T16:12:40.495Z"
   },
   {
    "duration": 393,
    "start_time": "2022-11-02T16:13:26.044Z"
   },
   {
    "duration": 462,
    "start_time": "2022-11-02T16:15:29.529Z"
   },
   {
    "duration": 53,
    "start_time": "2022-11-03T16:26:31.278Z"
   },
   {
    "duration": 7,
    "start_time": "2022-11-03T16:26:43.212Z"
   },
   {
    "duration": 7,
    "start_time": "2022-11-03T16:26:49.423Z"
   },
   {
    "duration": 1332,
    "start_time": "2022-11-03T16:26:54.191Z"
   },
   {
    "duration": 142,
    "start_time": "2022-11-03T16:26:55.526Z"
   },
   {
    "duration": 48,
    "start_time": "2022-11-03T16:26:55.669Z"
   },
   {
    "duration": 6,
    "start_time": "2022-11-03T16:26:55.719Z"
   },
   {
    "duration": 555,
    "start_time": "2022-11-03T16:26:55.727Z"
   },
   {
    "duration": 32,
    "start_time": "2022-11-03T16:26:56.284Z"
   },
   {
    "duration": 14,
    "start_time": "2022-11-03T16:26:56.318Z"
   },
   {
    "duration": 11,
    "start_time": "2022-11-03T16:26:56.334Z"
   },
   {
    "duration": 13,
    "start_time": "2022-11-03T16:26:56.347Z"
   },
   {
    "duration": 4,
    "start_time": "2022-11-03T16:26:56.363Z"
   },
   {
    "duration": 11,
    "start_time": "2022-11-03T16:26:56.368Z"
   },
   {
    "duration": 39,
    "start_time": "2022-11-03T16:26:56.381Z"
   },
   {
    "duration": 199,
    "start_time": "2022-11-03T16:26:56.422Z"
   },
   {
    "duration": 10,
    "start_time": "2022-11-03T16:26:56.623Z"
   },
   {
    "duration": 17,
    "start_time": "2022-11-03T16:26:56.635Z"
   },
   {
    "duration": 1698,
    "start_time": "2022-11-03T16:26:56.653Z"
   },
   {
    "duration": 3,
    "start_time": "2022-11-03T16:26:58.352Z"
   },
   {
    "duration": 58,
    "start_time": "2022-11-03T16:26:58.356Z"
   },
   {
    "duration": 158,
    "start_time": "2022-11-03T16:26:58.416Z"
   },
   {
    "duration": 7,
    "start_time": "2022-11-03T16:26:58.576Z"
   },
   {
    "duration": 142,
    "start_time": "2022-11-03T16:26:58.585Z"
   },
   {
    "duration": 123,
    "start_time": "2022-11-03T16:26:58.728Z"
   },
   {
    "duration": 572,
    "start_time": "2022-11-03T16:26:58.854Z"
   },
   {
    "duration": 199,
    "start_time": "2022-11-03T16:26:59.427Z"
   },
   {
    "duration": 5,
    "start_time": "2022-11-03T16:26:59.627Z"
   },
   {
    "duration": 35,
    "start_time": "2022-11-03T16:26:59.634Z"
   },
   {
    "duration": 172,
    "start_time": "2022-11-03T16:26:59.671Z"
   },
   {
    "duration": 139,
    "start_time": "2022-11-03T16:26:59.847Z"
   },
   {
    "duration": 179,
    "start_time": "2022-11-03T16:26:59.988Z"
   },
   {
    "duration": 466,
    "start_time": "2022-11-03T16:27:00.169Z"
   },
   {
    "duration": 149,
    "start_time": "2022-11-03T16:29:26.234Z"
   },
   {
    "duration": 1726,
    "start_time": "2022-11-03T16:30:42.807Z"
   },
   {
    "duration": 1782,
    "start_time": "2022-11-03T16:32:20.893Z"
   },
   {
    "duration": 48,
    "start_time": "2022-11-05T08:45:24.904Z"
   },
   {
    "duration": 1245,
    "start_time": "2022-11-05T08:56:16.061Z"
   },
   {
    "duration": 127,
    "start_time": "2022-11-05T08:56:17.308Z"
   },
   {
    "duration": 46,
    "start_time": "2022-11-05T08:56:17.437Z"
   },
   {
    "duration": 6,
    "start_time": "2022-11-05T08:56:17.485Z"
   },
   {
    "duration": 542,
    "start_time": "2022-11-05T08:56:17.509Z"
   },
   {
    "duration": 21,
    "start_time": "2022-11-05T08:56:18.053Z"
   },
   {
    "duration": 15,
    "start_time": "2022-11-05T08:56:18.075Z"
   },
   {
    "duration": 24,
    "start_time": "2022-11-05T08:56:18.091Z"
   },
   {
    "duration": 11,
    "start_time": "2022-11-05T08:56:18.116Z"
   },
   {
    "duration": 7,
    "start_time": "2022-11-05T08:56:18.130Z"
   },
   {
    "duration": 6,
    "start_time": "2022-11-05T08:56:18.138Z"
   },
   {
    "duration": 12,
    "start_time": "2022-11-05T08:56:18.146Z"
   },
   {
    "duration": 209,
    "start_time": "2022-11-05T08:56:18.160Z"
   },
   {
    "duration": 9,
    "start_time": "2022-11-05T08:56:18.371Z"
   },
   {
    "duration": 28,
    "start_time": "2022-11-05T08:56:18.381Z"
   },
   {
    "duration": 1714,
    "start_time": "2022-11-05T08:56:18.411Z"
   },
   {
    "duration": 3,
    "start_time": "2022-11-05T08:56:20.126Z"
   },
   {
    "duration": 30,
    "start_time": "2022-11-05T08:56:20.130Z"
   },
   {
    "duration": 164,
    "start_time": "2022-11-05T08:56:20.162Z"
   },
   {
    "duration": 7,
    "start_time": "2022-11-05T08:56:20.327Z"
   },
   {
    "duration": 124,
    "start_time": "2022-11-05T08:56:20.335Z"
   },
   {
    "duration": 127,
    "start_time": "2022-11-05T08:56:20.461Z"
   },
   {
    "duration": 549,
    "start_time": "2022-11-05T08:56:20.589Z"
   },
   {
    "duration": 185,
    "start_time": "2022-11-05T08:56:21.139Z"
   },
   {
    "duration": 6,
    "start_time": "2022-11-05T08:56:21.326Z"
   },
   {
    "duration": 3,
    "start_time": "2022-11-05T08:56:21.333Z"
   },
   {
    "duration": 143,
    "start_time": "2022-11-05T08:56:21.337Z"
   },
   {
    "duration": 137,
    "start_time": "2022-11-05T08:56:21.483Z"
   },
   {
    "duration": 165,
    "start_time": "2022-11-05T08:56:21.622Z"
   },
   {
    "duration": 435,
    "start_time": "2022-11-05T08:56:21.789Z"
   },
   {
    "duration": 484,
    "start_time": "2022-11-05T09:05:09.441Z"
   },
   {
    "duration": 433,
    "start_time": "2022-11-05T09:07:04.030Z"
   },
   {
    "duration": 420,
    "start_time": "2022-11-05T09:09:50.468Z"
   },
   {
    "duration": 54,
    "start_time": "2022-11-05T09:21:24.437Z"
   },
   {
    "duration": 118,
    "start_time": "2022-11-05T09:58:44.887Z"
   },
   {
    "duration": 4,
    "start_time": "2022-11-05T09:59:19.910Z"
   },
   {
    "duration": 3,
    "start_time": "2022-11-05T09:59:24.711Z"
   },
   {
    "duration": 86,
    "start_time": "2022-11-05T09:59:24.716Z"
   },
   {
    "duration": 57,
    "start_time": "2022-11-05T09:59:24.803Z"
   },
   {
    "duration": 7,
    "start_time": "2022-11-05T09:59:24.862Z"
   },
   {
    "duration": 540,
    "start_time": "2022-11-05T09:59:24.871Z"
   },
   {
    "duration": 21,
    "start_time": "2022-11-05T09:59:25.413Z"
   },
   {
    "duration": 14,
    "start_time": "2022-11-05T09:59:25.436Z"
   },
   {
    "duration": 12,
    "start_time": "2022-11-05T09:59:25.452Z"
   },
   {
    "duration": 31,
    "start_time": "2022-11-05T09:59:25.466Z"
   },
   {
    "duration": 5,
    "start_time": "2022-11-05T09:59:25.509Z"
   },
   {
    "duration": 8,
    "start_time": "2022-11-05T09:59:25.516Z"
   },
   {
    "duration": 17,
    "start_time": "2022-11-05T09:59:25.525Z"
   },
   {
    "duration": 256,
    "start_time": "2022-11-05T09:59:25.543Z"
   },
   {
    "duration": 15,
    "start_time": "2022-11-05T09:59:25.800Z"
   },
   {
    "duration": 32,
    "start_time": "2022-11-05T09:59:25.816Z"
   },
   {
    "duration": 1743,
    "start_time": "2022-11-05T09:59:25.850Z"
   },
   {
    "duration": 3,
    "start_time": "2022-11-05T09:59:27.594Z"
   },
   {
    "duration": 111,
    "start_time": "2022-11-05T09:59:27.598Z"
   },
   {
    "duration": 165,
    "start_time": "2022-11-05T09:59:27.711Z"
   },
   {
    "duration": 7,
    "start_time": "2022-11-05T09:59:27.878Z"
   },
   {
    "duration": 135,
    "start_time": "2022-11-05T09:59:27.886Z"
   },
   {
    "duration": 124,
    "start_time": "2022-11-05T09:59:28.023Z"
   },
   {
    "duration": 533,
    "start_time": "2022-11-05T09:59:28.148Z"
   },
   {
    "duration": 204,
    "start_time": "2022-11-05T09:59:28.683Z"
   },
   {
    "duration": 5,
    "start_time": "2022-11-05T09:59:28.889Z"
   },
   {
    "duration": 14,
    "start_time": "2022-11-05T09:59:28.896Z"
   },
   {
    "duration": 140,
    "start_time": "2022-11-05T09:59:28.912Z"
   },
   {
    "duration": 215,
    "start_time": "2022-11-05T09:59:29.054Z"
   },
   {
    "duration": 214,
    "start_time": "2022-11-05T09:59:29.273Z"
   },
   {
    "duration": 521,
    "start_time": "2022-11-05T09:59:29.489Z"
   },
   {
    "duration": 454,
    "start_time": "2022-11-05T09:59:30.012Z"
   },
   {
    "duration": 17,
    "start_time": "2022-11-05T09:59:30.469Z"
   },
   {
    "duration": 9,
    "start_time": "2022-11-05T10:00:27.475Z"
   },
   {
    "duration": 9,
    "start_time": "2022-11-05T10:01:28.778Z"
   },
   {
    "duration": 11,
    "start_time": "2022-11-05T10:13:11.855Z"
   },
   {
    "duration": 11,
    "start_time": "2022-11-05T10:13:39.695Z"
   },
   {
    "duration": 49,
    "start_time": "2022-11-05T10:19:22.719Z"
   },
   {
    "duration": 11,
    "start_time": "2022-11-05T10:20:54.622Z"
   },
   {
    "duration": 11,
    "start_time": "2022-11-05T10:21:13.340Z"
   },
   {
    "duration": 11,
    "start_time": "2022-11-05T10:25:51.355Z"
   },
   {
    "duration": 12,
    "start_time": "2022-11-05T10:26:09.709Z"
   },
   {
    "duration": 59,
    "start_time": "2022-11-08T03:45:10.888Z"
   },
   {
    "duration": 1234,
    "start_time": "2022-11-08T03:46:45.119Z"
   },
   {
    "duration": 219,
    "start_time": "2022-11-08T03:46:46.355Z"
   },
   {
    "duration": 48,
    "start_time": "2022-11-08T03:46:46.576Z"
   },
   {
    "duration": 20,
    "start_time": "2022-11-08T03:46:46.626Z"
   },
   {
    "duration": 581,
    "start_time": "2022-11-08T03:46:46.647Z"
   },
   {
    "duration": 31,
    "start_time": "2022-11-08T03:46:47.230Z"
   },
   {
    "duration": 15,
    "start_time": "2022-11-08T03:46:47.263Z"
   },
   {
    "duration": 9,
    "start_time": "2022-11-08T03:46:47.280Z"
   },
   {
    "duration": 11,
    "start_time": "2022-11-08T03:46:47.291Z"
   },
   {
    "duration": 4,
    "start_time": "2022-11-08T03:46:47.305Z"
   },
   {
    "duration": 7,
    "start_time": "2022-11-08T03:46:47.345Z"
   },
   {
    "duration": 14,
    "start_time": "2022-11-08T03:46:47.354Z"
   },
   {
    "duration": 196,
    "start_time": "2022-11-08T03:46:47.370Z"
   },
   {
    "duration": 15,
    "start_time": "2022-11-08T03:46:47.567Z"
   },
   {
    "duration": 15,
    "start_time": "2022-11-08T03:46:47.583Z"
   },
   {
    "duration": 1734,
    "start_time": "2022-11-08T03:46:47.600Z"
   },
   {
    "duration": 9,
    "start_time": "2022-11-08T03:46:49.336Z"
   },
   {
    "duration": 30,
    "start_time": "2022-11-08T03:46:49.347Z"
   },
   {
    "duration": 163,
    "start_time": "2022-11-08T03:46:49.378Z"
   },
   {
    "duration": 8,
    "start_time": "2022-11-08T03:46:49.546Z"
   },
   {
    "duration": 130,
    "start_time": "2022-11-08T03:46:49.556Z"
   },
   {
    "duration": 123,
    "start_time": "2022-11-08T03:46:49.688Z"
   },
   {
    "duration": 559,
    "start_time": "2022-11-08T03:46:49.813Z"
   },
   {
    "duration": 181,
    "start_time": "2022-11-08T03:46:50.374Z"
   },
   {
    "duration": 6,
    "start_time": "2022-11-08T03:46:50.556Z"
   },
   {
    "duration": 14,
    "start_time": "2022-11-08T03:46:50.563Z"
   },
   {
    "duration": 133,
    "start_time": "2022-11-08T03:46:50.579Z"
   },
   {
    "duration": 140,
    "start_time": "2022-11-08T03:46:50.716Z"
   },
   {
    "duration": 178,
    "start_time": "2022-11-08T03:46:50.858Z"
   },
   {
    "duration": 442,
    "start_time": "2022-11-08T03:46:51.038Z"
   },
   {
    "duration": 523,
    "start_time": "2022-11-08T03:46:51.482Z"
   },
   {
    "duration": 13,
    "start_time": "2022-11-08T03:46:52.007Z"
   },
   {
    "duration": 34,
    "start_time": "2022-11-08T03:46:52.022Z"
   },
   {
    "duration": 109,
    "start_time": "2022-11-08T03:49:28.704Z"
   },
   {
    "duration": 12,
    "start_time": "2022-11-08T03:49:37.724Z"
   },
   {
    "duration": 4,
    "start_time": "2022-11-08T03:49:44.383Z"
   },
   {
    "duration": 116,
    "start_time": "2022-11-08T03:49:44.389Z"
   },
   {
    "duration": 62,
    "start_time": "2022-11-08T03:49:44.507Z"
   },
   {
    "duration": 10,
    "start_time": "2022-11-08T03:49:44.572Z"
   },
   {
    "duration": 546,
    "start_time": "2022-11-08T03:49:44.584Z"
   },
   {
    "duration": 30,
    "start_time": "2022-11-08T03:49:45.132Z"
   },
   {
    "duration": 31,
    "start_time": "2022-11-08T03:49:45.164Z"
   },
   {
    "duration": 24,
    "start_time": "2022-11-08T03:49:45.197Z"
   },
   {
    "duration": 30,
    "start_time": "2022-11-08T03:49:45.223Z"
   },
   {
    "duration": 3,
    "start_time": "2022-11-08T03:49:45.255Z"
   },
   {
    "duration": 22,
    "start_time": "2022-11-08T03:49:45.260Z"
   },
   {
    "duration": 8,
    "start_time": "2022-11-08T03:49:45.284Z"
   },
   {
    "duration": 12,
    "start_time": "2022-11-08T03:49:45.294Z"
   },
   {
    "duration": 205,
    "start_time": "2022-11-08T03:49:45.307Z"
   },
   {
    "duration": 9,
    "start_time": "2022-11-08T03:49:45.514Z"
   },
   {
    "duration": 27,
    "start_time": "2022-11-08T03:49:45.525Z"
   },
   {
    "duration": 1767,
    "start_time": "2022-11-08T03:49:45.554Z"
   },
   {
    "duration": 2,
    "start_time": "2022-11-08T03:49:47.323Z"
   },
   {
    "duration": 42,
    "start_time": "2022-11-08T03:49:47.327Z"
   },
   {
    "duration": 163,
    "start_time": "2022-11-08T03:49:47.370Z"
   },
   {
    "duration": 13,
    "start_time": "2022-11-08T03:49:47.534Z"
   },
   {
    "duration": 126,
    "start_time": "2022-11-08T03:49:47.549Z"
   },
   {
    "duration": 154,
    "start_time": "2022-11-08T03:49:47.676Z"
   },
   {
    "duration": 526,
    "start_time": "2022-11-08T03:49:47.832Z"
   },
   {
    "duration": 313,
    "start_time": "2022-11-08T03:49:48.360Z"
   },
   {
    "duration": 5,
    "start_time": "2022-11-08T03:49:48.675Z"
   },
   {
    "duration": 7,
    "start_time": "2022-11-08T03:49:48.681Z"
   },
   {
    "duration": 142,
    "start_time": "2022-11-08T03:49:48.691Z"
   },
   {
    "duration": 132,
    "start_time": "2022-11-08T03:49:48.834Z"
   },
   {
    "duration": 190,
    "start_time": "2022-11-08T03:49:48.968Z"
   },
   {
    "duration": 430,
    "start_time": "2022-11-08T03:49:49.160Z"
   },
   {
    "duration": 432,
    "start_time": "2022-11-08T03:49:49.592Z"
   },
   {
    "duration": 27,
    "start_time": "2022-11-08T03:49:50.026Z"
   },
   {
    "duration": 13,
    "start_time": "2022-11-08T03:49:50.055Z"
   },
   {
    "duration": 3,
    "start_time": "2022-11-08T03:50:26.672Z"
   },
   {
    "duration": 14,
    "start_time": "2022-11-08T03:50:35.439Z"
   },
   {
    "duration": 13,
    "start_time": "2022-11-08T03:50:42.023Z"
   },
   {
    "duration": 12,
    "start_time": "2022-11-08T03:51:58.879Z"
   },
   {
    "duration": 4,
    "start_time": "2022-11-08T03:52:01.710Z"
   },
   {
    "duration": 82,
    "start_time": "2022-11-08T03:52:01.716Z"
   },
   {
    "duration": 54,
    "start_time": "2022-11-08T03:52:01.799Z"
   },
   {
    "duration": 11,
    "start_time": "2022-11-08T03:52:01.855Z"
   },
   {
    "duration": 679,
    "start_time": "2022-11-08T03:52:01.868Z"
   },
   {
    "duration": 23,
    "start_time": "2022-11-08T03:52:02.549Z"
   },
   {
    "duration": 17,
    "start_time": "2022-11-08T03:52:02.574Z"
   },
   {
    "duration": 25,
    "start_time": "2022-11-08T03:52:02.592Z"
   },
   {
    "duration": 25,
    "start_time": "2022-11-08T03:52:02.619Z"
   },
   {
    "duration": 3,
    "start_time": "2022-11-08T03:52:02.646Z"
   },
   {
    "duration": 7,
    "start_time": "2022-11-08T03:52:02.651Z"
   },
   {
    "duration": 29,
    "start_time": "2022-11-08T03:52:02.660Z"
   },
   {
    "duration": 32,
    "start_time": "2022-11-08T03:52:02.691Z"
   },
   {
    "duration": 174,
    "start_time": "2022-11-08T03:52:02.726Z"
   },
   {
    "duration": 9,
    "start_time": "2022-11-08T03:52:02.902Z"
   },
   {
    "duration": 40,
    "start_time": "2022-11-08T03:52:02.913Z"
   },
   {
    "duration": 1900,
    "start_time": "2022-11-08T03:52:02.955Z"
   },
   {
    "duration": 3,
    "start_time": "2022-11-08T03:52:04.856Z"
   },
   {
    "duration": 33,
    "start_time": "2022-11-08T03:52:04.861Z"
   },
   {
    "duration": 170,
    "start_time": "2022-11-08T03:52:04.895Z"
   },
   {
    "duration": 8,
    "start_time": "2022-11-08T03:52:05.067Z"
   },
   {
    "duration": 133,
    "start_time": "2022-11-08T03:52:05.076Z"
   },
   {
    "duration": 139,
    "start_time": "2022-11-08T03:52:05.210Z"
   },
   {
    "duration": 497,
    "start_time": "2022-11-08T03:52:05.351Z"
   },
   {
    "duration": 186,
    "start_time": "2022-11-08T03:52:05.849Z"
   },
   {
    "duration": 5,
    "start_time": "2022-11-08T03:52:06.045Z"
   },
   {
    "duration": 18,
    "start_time": "2022-11-08T03:52:06.052Z"
   },
   {
    "duration": 129,
    "start_time": "2022-11-08T03:52:06.071Z"
   },
   {
    "duration": 219,
    "start_time": "2022-11-08T03:52:06.202Z"
   },
   {
    "duration": 175,
    "start_time": "2022-11-08T03:52:06.423Z"
   },
   {
    "duration": 424,
    "start_time": "2022-11-08T03:52:06.600Z"
   },
   {
    "duration": 444,
    "start_time": "2022-11-08T03:52:07.026Z"
   },
   {
    "duration": 11,
    "start_time": "2022-11-08T03:52:07.472Z"
   },
   {
    "duration": 21,
    "start_time": "2022-11-08T03:52:07.484Z"
   },
   {
    "duration": 8,
    "start_time": "2022-11-08T03:52:36.575Z"
   },
   {
    "duration": 8,
    "start_time": "2022-11-08T03:52:50.303Z"
   },
   {
    "duration": 8,
    "start_time": "2022-11-08T03:52:53.879Z"
   },
   {
    "duration": 9,
    "start_time": "2022-11-08T03:53:03.591Z"
   },
   {
    "duration": 12,
    "start_time": "2022-11-08T03:53:08.479Z"
   },
   {
    "duration": 12,
    "start_time": "2022-11-08T03:53:24.079Z"
   },
   {
    "duration": 14,
    "start_time": "2022-11-08T03:53:26.128Z"
   },
   {
    "duration": 4,
    "start_time": "2022-11-08T03:53:41.373Z"
   },
   {
    "duration": 78,
    "start_time": "2022-11-08T03:53:41.379Z"
   },
   {
    "duration": 46,
    "start_time": "2022-11-08T03:53:41.458Z"
   },
   {
    "duration": 10,
    "start_time": "2022-11-08T03:53:41.506Z"
   },
   {
    "duration": 581,
    "start_time": "2022-11-08T03:53:41.517Z"
   },
   {
    "duration": 19,
    "start_time": "2022-11-08T03:53:42.100Z"
   },
   {
    "duration": 29,
    "start_time": "2022-11-08T03:53:42.120Z"
   },
   {
    "duration": 7,
    "start_time": "2022-11-08T03:53:42.150Z"
   },
   {
    "duration": 10,
    "start_time": "2022-11-08T03:53:42.159Z"
   },
   {
    "duration": 6,
    "start_time": "2022-11-08T03:53:42.171Z"
   },
   {
    "duration": 19,
    "start_time": "2022-11-08T03:53:42.178Z"
   },
   {
    "duration": 13,
    "start_time": "2022-11-08T03:53:42.198Z"
   },
   {
    "duration": 5,
    "start_time": "2022-11-08T03:53:42.213Z"
   },
   {
    "duration": 27,
    "start_time": "2022-11-08T03:53:42.219Z"
   },
   {
    "duration": 256,
    "start_time": "2022-11-08T03:53:42.247Z"
   },
   {
    "duration": 8,
    "start_time": "2022-11-08T03:53:42.505Z"
   },
   {
    "duration": 14,
    "start_time": "2022-11-08T03:53:42.514Z"
   },
   {
    "duration": 1658,
    "start_time": "2022-11-08T03:53:42.545Z"
   },
   {
    "duration": 2,
    "start_time": "2022-11-08T03:53:44.204Z"
   },
   {
    "duration": 38,
    "start_time": "2022-11-08T03:53:44.208Z"
   },
   {
    "duration": 267,
    "start_time": "2022-11-08T03:53:44.247Z"
   },
   {
    "duration": 9,
    "start_time": "2022-11-08T03:53:44.516Z"
   },
   {
    "duration": 149,
    "start_time": "2022-11-08T03:53:44.526Z"
   },
   {
    "duration": 126,
    "start_time": "2022-11-08T03:53:44.677Z"
   },
   {
    "duration": 533,
    "start_time": "2022-11-08T03:53:44.804Z"
   },
   {
    "duration": 198,
    "start_time": "2022-11-08T03:53:45.339Z"
   },
   {
    "duration": 11,
    "start_time": "2022-11-08T03:53:45.538Z"
   },
   {
    "duration": 24,
    "start_time": "2022-11-08T03:53:45.552Z"
   },
   {
    "duration": 134,
    "start_time": "2022-11-08T03:53:45.577Z"
   },
   {
    "duration": 142,
    "start_time": "2022-11-08T03:53:45.713Z"
   },
   {
    "duration": 170,
    "start_time": "2022-11-08T03:53:45.856Z"
   },
   {
    "duration": 551,
    "start_time": "2022-11-08T03:53:46.027Z"
   },
   {
    "duration": 465,
    "start_time": "2022-11-08T03:53:46.580Z"
   },
   {
    "duration": 11,
    "start_time": "2022-11-08T03:53:47.047Z"
   },
   {
    "duration": 49,
    "start_time": "2022-11-08T03:53:47.059Z"
   },
   {
    "duration": 28,
    "start_time": "2022-11-08T04:01:42.366Z"
   },
   {
    "duration": 133,
    "start_time": "2022-11-08T04:01:47.167Z"
   },
   {
    "duration": 28,
    "start_time": "2022-11-08T04:08:33.334Z"
   },
   {
    "duration": 149,
    "start_time": "2022-11-08T04:08:35.422Z"
   },
   {
    "duration": 7,
    "start_time": "2022-11-08T04:09:29.654Z"
   },
   {
    "duration": 120,
    "start_time": "2022-11-08T04:09:32.774Z"
   },
   {
    "duration": 136,
    "start_time": "2022-11-08T04:10:53.214Z"
   },
   {
    "duration": 140,
    "start_time": "2022-11-08T04:11:04.207Z"
   },
   {
    "duration": 219,
    "start_time": "2022-11-08T04:11:12.463Z"
   },
   {
    "duration": 48,
    "start_time": "2022-11-08T04:13:00.462Z"
   },
   {
    "duration": 49,
    "start_time": "2022-11-08T04:13:48.606Z"
   },
   {
    "duration": 165,
    "start_time": "2022-11-08T04:14:20.910Z"
   },
   {
    "duration": 156,
    "start_time": "2022-11-08T04:14:30.758Z"
   },
   {
    "duration": 149,
    "start_time": "2022-11-08T04:14:35.870Z"
   },
   {
    "duration": 627,
    "start_time": "2022-11-08T04:15:01.621Z"
   },
   {
    "duration": 900,
    "start_time": "2022-11-08T04:15:27.110Z"
   },
   {
    "duration": 873,
    "start_time": "2022-11-08T04:16:25.533Z"
   },
   {
    "duration": 8,
    "start_time": "2022-11-08T04:18:44.620Z"
   },
   {
    "duration": 7,
    "start_time": "2022-11-08T04:18:57.813Z"
   },
   {
    "duration": 184,
    "start_time": "2022-11-08T04:20:23.205Z"
   },
   {
    "duration": 166,
    "start_time": "2022-11-08T04:20:26.972Z"
   },
   {
    "duration": 142,
    "start_time": "2022-11-08T04:20:38.165Z"
   },
   {
    "duration": 160,
    "start_time": "2022-11-08T04:20:49.285Z"
   },
   {
    "duration": 155,
    "start_time": "2022-11-08T04:20:53.589Z"
   },
   {
    "duration": 836,
    "start_time": "2022-11-08T04:21:00.509Z"
   },
   {
    "duration": 895,
    "start_time": "2022-11-08T04:23:51.413Z"
   },
   {
    "duration": 983,
    "start_time": "2022-11-08T04:26:56.108Z"
   },
   {
    "duration": 942,
    "start_time": "2022-11-08T04:27:13.893Z"
   },
   {
    "duration": 2,
    "start_time": "2022-11-08T04:56:08.913Z"
   },
   {
    "duration": 238,
    "start_time": "2022-11-08T04:57:17.746Z"
   },
   {
    "duration": 21,
    "start_time": "2022-11-08T04:58:40.554Z"
   },
   {
    "duration": 226,
    "start_time": "2022-11-08T04:58:58.497Z"
   },
   {
    "duration": 14,
    "start_time": "2022-11-08T04:59:56.058Z"
   },
   {
    "duration": 15,
    "start_time": "2022-11-08T05:00:30.641Z"
   },
   {
    "duration": 16,
    "start_time": "2022-11-08T05:00:48.505Z"
   },
   {
    "duration": 12,
    "start_time": "2022-11-08T05:02:01.674Z"
   },
   {
    "duration": 301,
    "start_time": "2022-11-08T05:02:06.666Z"
   },
   {
    "duration": 212,
    "start_time": "2022-11-08T05:02:46.681Z"
   },
   {
    "duration": 5,
    "start_time": "2022-11-08T05:02:56.841Z"
   },
   {
    "duration": 4,
    "start_time": "2022-11-08T05:04:49.304Z"
   },
   {
    "duration": 80,
    "start_time": "2022-11-08T05:04:49.309Z"
   },
   {
    "duration": 69,
    "start_time": "2022-11-08T05:04:49.391Z"
   },
   {
    "duration": 11,
    "start_time": "2022-11-08T05:04:49.462Z"
   },
   {
    "duration": 622,
    "start_time": "2022-11-08T05:04:49.476Z"
   },
   {
    "duration": 21,
    "start_time": "2022-11-08T05:04:50.100Z"
   },
   {
    "duration": 28,
    "start_time": "2022-11-08T05:04:50.122Z"
   },
   {
    "duration": 9,
    "start_time": "2022-11-08T05:04:50.152Z"
   },
   {
    "duration": 15,
    "start_time": "2022-11-08T05:04:50.163Z"
   },
   {
    "duration": 2,
    "start_time": "2022-11-08T05:04:50.180Z"
   },
   {
    "duration": 8,
    "start_time": "2022-11-08T05:04:50.183Z"
   },
   {
    "duration": 17,
    "start_time": "2022-11-08T05:04:50.193Z"
   },
   {
    "duration": 28,
    "start_time": "2022-11-08T05:04:50.213Z"
   },
   {
    "duration": 209,
    "start_time": "2022-11-08T05:04:50.243Z"
   },
   {
    "duration": 9,
    "start_time": "2022-11-08T05:04:50.453Z"
   },
   {
    "duration": 29,
    "start_time": "2022-11-08T05:04:50.464Z"
   },
   {
    "duration": 2219,
    "start_time": "2022-11-08T05:04:50.496Z"
   },
   {
    "duration": 3,
    "start_time": "2022-11-08T05:04:52.717Z"
   },
   {
    "duration": 42,
    "start_time": "2022-11-08T05:04:52.722Z"
   },
   {
    "duration": 191,
    "start_time": "2022-11-08T05:04:52.765Z"
   },
   {
    "duration": 7,
    "start_time": "2022-11-08T05:04:52.957Z"
   },
   {
    "duration": 174,
    "start_time": "2022-11-08T05:04:52.966Z"
   },
   {
    "duration": 162,
    "start_time": "2022-11-08T05:04:53.141Z"
   },
   {
    "duration": 789,
    "start_time": "2022-11-08T05:04:53.304Z"
   },
   {
    "duration": 2,
    "start_time": "2022-11-08T05:04:54.095Z"
   },
   {
    "duration": 230,
    "start_time": "2022-11-08T05:04:54.098Z"
   },
   {
    "duration": 5,
    "start_time": "2022-11-08T05:04:54.330Z"
   },
   {
    "duration": 16,
    "start_time": "2022-11-08T05:04:54.337Z"
   },
   {
    "duration": 290,
    "start_time": "2022-11-08T05:04:54.355Z"
   },
   {
    "duration": 155,
    "start_time": "2022-11-08T05:04:54.647Z"
   },
   {
    "duration": 169,
    "start_time": "2022-11-08T05:04:54.804Z"
   },
   {
    "duration": 473,
    "start_time": "2022-11-08T05:04:54.975Z"
   },
   {
    "duration": 480,
    "start_time": "2022-11-08T05:04:55.449Z"
   },
   {
    "duration": 16,
    "start_time": "2022-11-08T05:04:55.931Z"
   },
   {
    "duration": 14,
    "start_time": "2022-11-08T05:04:55.949Z"
   },
   {
    "duration": 213,
    "start_time": "2022-11-08T05:05:17.696Z"
   },
   {
    "duration": 195,
    "start_time": "2022-11-08T05:06:39.441Z"
   },
   {
    "duration": 6,
    "start_time": "2022-11-08T05:06:55.344Z"
   },
   {
    "duration": 147,
    "start_time": "2022-11-08T05:09:32.176Z"
   },
   {
    "duration": 259,
    "start_time": "2022-11-08T05:10:13.712Z"
   },
   {
    "duration": 499,
    "start_time": "2022-11-08T05:12:05.648Z"
   },
   {
    "duration": 1318,
    "start_time": "2022-11-08T06:42:25.539Z"
   },
   {
    "duration": 123,
    "start_time": "2022-11-08T06:42:26.859Z"
   },
   {
    "duration": 49,
    "start_time": "2022-11-08T06:42:26.983Z"
   },
   {
    "duration": 11,
    "start_time": "2022-11-08T06:42:27.034Z"
   },
   {
    "duration": 640,
    "start_time": "2022-11-08T06:42:27.046Z"
   },
   {
    "duration": 28,
    "start_time": "2022-11-08T06:42:27.688Z"
   },
   {
    "duration": 18,
    "start_time": "2022-11-08T06:42:27.718Z"
   },
   {
    "duration": 11,
    "start_time": "2022-11-08T06:42:27.738Z"
   },
   {
    "duration": 14,
    "start_time": "2022-11-08T06:42:27.751Z"
   },
   {
    "duration": 28,
    "start_time": "2022-11-08T06:42:27.769Z"
   },
   {
    "duration": 15,
    "start_time": "2022-11-08T06:42:27.799Z"
   },
   {
    "duration": 16,
    "start_time": "2022-11-08T06:42:27.815Z"
   },
   {
    "duration": 21,
    "start_time": "2022-11-08T06:42:27.833Z"
   },
   {
    "duration": 193,
    "start_time": "2022-11-08T06:42:27.856Z"
   },
   {
    "duration": 10,
    "start_time": "2022-11-08T06:42:28.051Z"
   },
   {
    "duration": 34,
    "start_time": "2022-11-08T06:42:28.063Z"
   },
   {
    "duration": 1852,
    "start_time": "2022-11-08T06:42:28.100Z"
   },
   {
    "duration": 2,
    "start_time": "2022-11-08T06:42:29.955Z"
   },
   {
    "duration": 46,
    "start_time": "2022-11-08T06:42:29.959Z"
   },
   {
    "duration": 168,
    "start_time": "2022-11-08T06:42:30.007Z"
   },
   {
    "duration": 6,
    "start_time": "2022-11-08T06:42:30.177Z"
   },
   {
    "duration": 197,
    "start_time": "2022-11-08T06:42:30.185Z"
   },
   {
    "duration": 170,
    "start_time": "2022-11-08T06:42:30.384Z"
   },
   {
    "duration": 949,
    "start_time": "2022-11-08T06:42:30.556Z"
   },
   {
    "duration": 3,
    "start_time": "2022-11-08T06:42:31.506Z"
   },
   {
    "duration": 236,
    "start_time": "2022-11-08T06:42:31.511Z"
   },
   {
    "duration": 3,
    "start_time": "2022-11-08T06:42:31.748Z"
   },
   {
    "duration": 176,
    "start_time": "2022-11-08T06:42:31.753Z"
   },
   {
    "duration": 179,
    "start_time": "2022-11-08T06:42:31.931Z"
   },
   {
    "duration": 171,
    "start_time": "2022-11-08T06:42:32.112Z"
   },
   {
    "duration": 486,
    "start_time": "2022-11-08T06:42:32.284Z"
   },
   {
    "duration": 548,
    "start_time": "2022-11-08T06:42:32.771Z"
   },
   {
    "duration": 11,
    "start_time": "2022-11-08T06:42:33.321Z"
   },
   {
    "duration": 12,
    "start_time": "2022-11-08T06:42:33.334Z"
   },
   {
    "duration": 814,
    "start_time": "2022-11-08T06:42:46.214Z"
   },
   {
    "duration": 282,
    "start_time": "2022-11-08T06:43:17.482Z"
   },
   {
    "duration": 842,
    "start_time": "2022-11-08T06:43:35.386Z"
   },
   {
    "duration": 18,
    "start_time": "2022-11-08T06:44:27.009Z"
   },
   {
    "duration": 1019,
    "start_time": "2022-11-08T06:44:39.329Z"
   },
   {
    "duration": 79,
    "start_time": "2022-11-08T06:44:58.713Z"
   },
   {
    "duration": 194,
    "start_time": "2022-11-08T06:45:03.425Z"
   },
   {
    "duration": 74,
    "start_time": "2022-11-08T06:46:12.561Z"
   },
   {
    "duration": 828,
    "start_time": "2022-11-08T06:46:15.475Z"
   },
   {
    "duration": 868,
    "start_time": "2022-11-08T06:47:27.049Z"
   },
   {
    "duration": 73,
    "start_time": "2022-11-08T06:48:58.329Z"
   },
   {
    "duration": 818,
    "start_time": "2022-11-08T06:52:13.377Z"
   },
   {
    "duration": 2,
    "start_time": "2022-11-08T07:04:29.992Z"
   },
   {
    "duration": 826,
    "start_time": "2022-11-08T07:06:39.320Z"
   }
  ],
  "kernelspec": {
   "display_name": "Python 3 (ipykernel)",
   "language": "python",
   "name": "python3"
  },
  "language_info": {
   "codemirror_mode": {
    "name": "ipython",
    "version": 3
   },
   "file_extension": ".py",
   "mimetype": "text/x-python",
   "name": "python",
   "nbconvert_exporter": "python",
   "pygments_lexer": "ipython3",
   "version": "3.10.9"
  },
  "toc": {
   "base_numbering": 1,
   "nav_menu": {},
   "number_sections": true,
   "sideBar": true,
   "skip_h1_title": true,
   "title_cell": "Table of Contents",
   "title_sidebar": "Contents",
   "toc_cell": false,
   "toc_position": {},
   "toc_section_display": true,
   "toc_window_display": false
  }
 },
 "nbformat": 4,
 "nbformat_minor": 2
}
