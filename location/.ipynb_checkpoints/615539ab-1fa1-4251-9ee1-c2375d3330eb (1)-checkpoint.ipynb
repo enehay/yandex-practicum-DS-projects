{
 "cells": [
  {
   "cell_type": "markdown",
   "metadata": {},
   "source": [
    "# Выбор локации для скважины"
   ]
  },
  {
   "cell_type": "markdown",
   "metadata": {},
   "source": [
    "Нужно решить где добывающей компании бурить новую скважину.\n",
    "\n",
    "В наличии данные о пробах нефти в трёх регионах: в каждом 10 000 месторождений, где измерено качество нефти и объём её запасов. Нужно построить модель машинного обучения, которая поможет определить регион, где добыча принесёт наибольшую прибыль.\n",
    "\n",
    "**Описание данных**\n",
    "\n",
    "Данные геологоразведки трёх регионов находятся в файлах:\n",
    "\n",
    "•\t/datasets/geo_data_0.csv. Скачать датасет\n",
    "\n",
    "•\t/datasets/geo_data_1.csv. Скачать датасет\n",
    "\n",
    "•\t/datasets/geo_data_2.csv. Скачать датасет\n",
    "\n",
    "•\tid — уникальный идентификатор скважины;\n",
    "\n",
    "•\tf0, f1, f2 — три признака точек (неважно, что они означают, но сами признаки значимы);\n",
    "\n",
    "•\tproduct — объём запасов в скважине (тыс. баррелей).\n",
    "\n",
    "Условия задачи:\n",
    "\n",
    "•\tДля обучения модели подходит только линейная регрессия (остальные — недостаточно предсказуемые).\n",
    "\n",
    "•\tПри разведке региона исследуют 500 точек, из которых с помощью машинного обучения выбирают 200 лучших для разработки.\n",
    "\n",
    "•\tБюджет на разработку скважин в регионе — 10 млрд рублей.\n",
    "\n",
    "•\tПри нынешних ценах один баррель сырья приносит 450 рублей дохода. Доход с каждой единицы продукта составляет 450 тыс. рублей, поскольку объём указан в тысячах баррелей.\n",
    "\n",
    "•\tПосле оценки рисков нужно оставить лишь те регионы, в которых вероятность убытков меньше 2.5%. Среди них выбирают регион с наибольшей средней прибылью.\n",
    "\n",
    "Данные синтетические: детали контрактов и характеристики месторождений не разглашаются.\n"
   ]
  },
  {
   "cell_type": "markdown",
   "metadata": {},
   "source": [
    "## Загрузка и подготовка данных"
   ]
  },
  {
   "cell_type": "code",
   "execution_count": 1,
   "metadata": {},
   "outputs": [],
   "source": [
    "import pandas as pd\n",
    "import numpy as np\n",
    "import matplotlib.pyplot as plt\n",
    "from sklearn.model_selection import train_test_split\n",
    "from sklearn.metrics import confusion_matrix\n",
    "from sklearn.linear_model import LinearRegression\n",
    "import seaborn as sns\n",
    "from sklearn.utils import shuffle\n",
    "from sklearn.metrics import mean_squared_error\n",
    "from numpy.random import RandomState\n",
    "from sklearn.preprocessing import StandardScaler "
   ]
  },
  {
   "cell_type": "code",
   "execution_count": 2,
   "metadata": {},
   "outputs": [],
   "source": [
    "data_0 = pd.read_csv('/datasets/geo_data_0.csv')\n",
    "data_1 = pd.read_csv('/datasets/geo_data_1.csv')\n",
    "data_2 = pd.read_csv('/datasets/geo_data_2.csv')"
   ]
  },
  {
   "cell_type": "markdown",
   "metadata": {},
   "source": [
    "Проанализируем инфрмацию о каждом из датасетов."
   ]
  },
  {
   "cell_type": "code",
   "execution_count": 3,
   "metadata": {},
   "outputs": [],
   "source": [
    "# data = [data_0, data_1, data_2]\n",
    "\n",
    "# for i in data:\n",
    "#     print(f\"\\n Информация о датасете:\\n\")\n",
    "#     i.info()\n",
    "#     print(i.describe())\n",
    "#     print(i.shape)\n",
    "#     print('Явных дубликатов', i.duplicated().sum())\n",
    "#     print('Дубликатов в id', i['id'].duplicated().sum())\n",
    "#     print(i.corr(method='spearman'))\n",
    "#     print(i.head(5))\n",
    "#     i.drop_duplicates(subset='id',inplace=True)"
   ]
  },
  {
   "cell_type": "code",
   "execution_count": 4,
   "metadata": {},
   "outputs": [
    {
     "name": "stdout",
     "output_type": "stream",
     "text": [
      "\n",
      " Информация о датасете:\n",
      "\n",
      "<class 'pandas.core.frame.DataFrame'>\n",
      "RangeIndex: 100000 entries, 0 to 99999\n",
      "Data columns (total 5 columns):\n",
      " #   Column   Non-Null Count   Dtype  \n",
      "---  ------   --------------   -----  \n",
      " 0   id       100000 non-null  object \n",
      " 1   f0       100000 non-null  float64\n",
      " 2   f1       100000 non-null  float64\n",
      " 3   f2       100000 non-null  float64\n",
      " 4   product  100000 non-null  float64\n",
      "dtypes: float64(4), object(1)\n",
      "memory usage: 3.8+ MB\n",
      "                  f0             f1             f2        product\n",
      "count  100000.000000  100000.000000  100000.000000  100000.000000\n",
      "mean        0.500419       0.250143       2.502647      92.500000\n",
      "std         0.871832       0.504433       3.248248      44.288691\n",
      "min        -1.408605      -0.848218     -12.088328       0.000000\n",
      "25%        -0.072580      -0.200881       0.287748      56.497507\n",
      "50%         0.502360       0.250252       2.515969      91.849972\n",
      "75%         1.073581       0.700646       4.715088     128.564089\n",
      "max         2.362331       1.343769      16.003790     185.364347\n",
      "(100000, 5)\n",
      "Явных дубликатов 0\n",
      "Дубликатов в id 10\n",
      "               f0        f1        f2   product\n",
      "f0       1.000000 -0.471395 -0.002685  0.128417\n",
      "f1      -0.471395  1.000000  0.001413 -0.181143\n",
      "f2      -0.002685  0.001413  1.000000  0.486394\n",
      "product  0.128417 -0.181143  0.486394  1.000000\n",
      "      id        f0        f1        f2     product\n",
      "0  txEyH  0.705745 -0.497823  1.221170  105.280062\n",
      "1  2acmU  1.334711 -0.340164  4.365080   73.037750\n",
      "2  409Wp  1.022732  0.151990  1.419926   85.265647\n",
      "3  iJLyR -0.032172  0.139033  2.978566  168.620776\n",
      "4  Xdl7t  1.988431  0.155413  4.751769  154.036647\n"
     ]
    }
   ],
   "source": [
    "print(f\"\\n Информация о датасете:\\n\")\n",
    "data_0.info()\n",
    "print(data_0.describe())\n",
    "print(data_0.shape)\n",
    "print('Явных дубликатов', data_0.duplicated().sum())\n",
    "print('Дубликатов в id', data_0['id'].duplicated().sum())\n",
    "print(data_0.corr(method='spearman'))\n",
    "print(data_0.head(5))\n",
    "data_0.drop_duplicates(subset='id',inplace=True)"
   ]
  },
  {
   "cell_type": "code",
   "execution_count": 5,
   "metadata": {},
   "outputs": [
    {
     "name": "stdout",
     "output_type": "stream",
     "text": [
      "\n",
      " Информация о датасете:\n",
      "\n",
      "<class 'pandas.core.frame.DataFrame'>\n",
      "RangeIndex: 100000 entries, 0 to 99999\n",
      "Data columns (total 5 columns):\n",
      " #   Column   Non-Null Count   Dtype  \n",
      "---  ------   --------------   -----  \n",
      " 0   id       100000 non-null  object \n",
      " 1   f0       100000 non-null  float64\n",
      " 2   f1       100000 non-null  float64\n",
      " 3   f2       100000 non-null  float64\n",
      " 4   product  100000 non-null  float64\n",
      "dtypes: float64(4), object(1)\n",
      "memory usage: 3.8+ MB\n",
      "                  f0             f1             f2        product\n",
      "count  100000.000000  100000.000000  100000.000000  100000.000000\n",
      "mean        1.141296      -4.796579       2.494541      68.825000\n",
      "std         8.965932       5.119872       1.703572      45.944423\n",
      "min       -31.609576     -26.358598      -0.018144       0.000000\n",
      "25%        -6.298551      -8.267985       1.000021      26.953261\n",
      "50%         1.153055      -4.813172       2.011479      57.085625\n",
      "75%         8.621015      -1.332816       3.999904     107.813044\n",
      "max        29.421755      18.734063       5.019721     137.945408\n",
      "(100000, 5)\n",
      "Явных дубликатов 0\n",
      "Дубликатов в id 4\n",
      "               f0        f1        f2   product\n",
      "f0       1.000000  0.182248 -0.002000 -0.122869\n",
      "f1       0.182248  1.000000 -0.003678 -0.033908\n",
      "f2      -0.002000 -0.003678  1.000000  0.975605\n",
      "product -0.122869 -0.033908  0.975605  1.000000\n",
      "      id         f0         f1        f2     product\n",
      "0  kBEdx -15.001348  -8.276000 -0.005876    3.179103\n",
      "1  62mP7  14.272088  -3.475083  0.999183   26.953261\n",
      "2  vyE1P   6.263187  -5.948386  5.001160  134.766305\n",
      "3  KcrkZ -13.081196 -11.506057  4.999415  137.945408\n",
      "4  AHL4O  12.702195  -8.147433  5.004363  134.766305\n"
     ]
    }
   ],
   "source": [
    "print(f\"\\n Информация о датасете:\\n\")\n",
    "data_1.info()\n",
    "print(data_1.describe())\n",
    "print(data_1.shape)\n",
    "print('Явных дубликатов', data_1.duplicated().sum())\n",
    "print('Дубликатов в id', data_1['id'].duplicated().sum())\n",
    "print(data_1.corr(method='spearman'))\n",
    "print(data_1.head(5))\n",
    "data_1.drop_duplicates(subset='id',inplace=True)"
   ]
  },
  {
   "cell_type": "code",
   "execution_count": 6,
   "metadata": {},
   "outputs": [
    {
     "name": "stdout",
     "output_type": "stream",
     "text": [
      "\n",
      " Информация о датасете:\n",
      "\n",
      "<class 'pandas.core.frame.DataFrame'>\n",
      "RangeIndex: 100000 entries, 0 to 99999\n",
      "Data columns (total 5 columns):\n",
      " #   Column   Non-Null Count   Dtype  \n",
      "---  ------   --------------   -----  \n",
      " 0   id       100000 non-null  object \n",
      " 1   f0       100000 non-null  float64\n",
      " 2   f1       100000 non-null  float64\n",
      " 3   f2       100000 non-null  float64\n",
      " 4   product  100000 non-null  float64\n",
      "dtypes: float64(4), object(1)\n",
      "memory usage: 3.8+ MB\n",
      "                  f0             f1             f2        product\n",
      "count  100000.000000  100000.000000  100000.000000  100000.000000\n",
      "mean        0.002023      -0.002081       2.495128      95.000000\n",
      "std         1.732045       1.730417       3.473445      44.749921\n",
      "min        -8.760004      -7.084020     -11.970335       0.000000\n",
      "25%        -1.162288      -1.174820       0.130359      59.450441\n",
      "50%         0.009424      -0.009482       2.484236      94.925613\n",
      "75%         1.158535       1.163678       4.858794     130.595027\n",
      "max         7.238262       7.844801      16.739402     190.029838\n",
      "(100000, 5)\n",
      "Явных дубликатов 0\n",
      "Дубликатов в id 4\n",
      "               f0        f1        f2   product\n",
      "f0       1.000000  0.002493  0.000053 -0.002464\n",
      "f1       0.002493  1.000000  0.000378 -0.001463\n",
      "f2       0.000053  0.000378  1.000000  0.448463\n",
      "product -0.002464 -0.001463  0.448463  1.000000\n",
      "      id        f0        f1        f2     product\n",
      "0  fwXo0 -1.146987  0.963328 -0.828965   27.758673\n",
      "1  WJtFt  0.262778  0.269839 -2.530187   56.069697\n",
      "2  ovLUW  0.194587  0.289035 -5.586433   62.871910\n",
      "3  q6cA6  2.236060 -0.553760  0.930038  114.572842\n",
      "4  WPMUX -0.515993  1.716266  5.899011  149.600746\n"
     ]
    }
   ],
   "source": [
    "print(f\"\\n Информация о датасете:\\n\")\n",
    "data_2.info()\n",
    "print(data_2.describe())\n",
    "print(data_2.shape)\n",
    "print('Явных дубликатов', data_2.duplicated().sum())\n",
    "print('Дубликатов в id', data_2['id'].duplicated().sum())\n",
    "print(data_2.corr(method='spearman'))\n",
    "print(data_2.head(5))\n",
    "data_2.drop_duplicates(subset='id',inplace=True)"
   ]
  },
  {
   "cell_type": "markdown",
   "metadata": {},
   "source": [
    "В таблице с данными data_1  признак f2 коррелирует с целевой переменной product.\n",
    "\n",
    "Также видно небольше количество дубликатов в столбце 'id', я буду удалять эти дубликаты ввиду их небольшго количества, но в целом на качество модели они вряд ли бы повлияли.\n",
    "\n",
    "Для построения линейной модели мне будет мешать столбец 'id', тип данных - object. Так как он не несет информации, которая необходима для исследования, удалю его в каждом из датафреймов/\n",
    "\n",
    "Также у будущих целевых признаков разный масштаб, это нужно исправить перед посторением моделей."
   ]
  },
  {
   "cell_type": "code",
   "execution_count": 7,
   "metadata": {},
   "outputs": [],
   "source": [
    "# data = [data_0, data_1, data_2]\n",
    "\n",
    "# for i in data:\n",
    "#     sns.heatmap(i.corr()[['product']], cmap = 'coolwarm')\n",
    "    "
   ]
  },
  {
   "cell_type": "markdown",
   "metadata": {},
   "source": [
    "## Обучение и проверка модели"
   ]
  },
  {
   "cell_type": "code",
   "execution_count": 8,
   "metadata": {},
   "outputs": [
    {
     "name": "stdout",
     "output_type": "stream",
     "text": [
      "Размер выборок: ((74992, 3), (24998, 3), (74992,), (24998,))\n",
      "RMSE модели линейной регрессии на валидационной выборке по первому региону: 37.853527328872964\n",
      "Средний запас предсказанного сырья по первому региону: 92.78915638280624\n"
     ]
    }
   ],
   "source": [
    "features_0 = data_0.drop(['id', 'product'], axis=1)\n",
    "target_0 = data_0['product']\n",
    "\n",
    "features_train_0, features_valid_0, target_train_0, target_valid_0 = train_test_split(\n",
    "     features_0, target_0, test_size=0.25, random_state=12345)\n",
    "\n",
    "print(f\"Размер выборок: {features_train_0.shape, features_valid_0.shape, target_train_0.shape, target_valid_0.shape}\")\n",
    "\n",
    "\n",
    "scaler = StandardScaler()\n",
    "scaler.fit(features_train_0)\n",
    "features_train_0_st= scaler.transform(features_train_0)\n",
    "features_valid_0_st = scaler.transform(features_valid_0) \n",
    "\n",
    "\n",
    "model_0 = LinearRegression()# инициализируйте модель LinearRegression\n",
    "model_0.fit(features_train_0_st, target_train_0) # обучите модель на тренировочной выборке\n",
    "predictions_valid_0 = model_0.predict(features_valid_0_st) # получите предсказания модели на валидационной выборке\n",
    "print(f\"RMSE модели линейной регрессии на валидационной выборке по первому региону: {mean_squared_error(target_valid_0, predictions_valid_0)**0.5}\")\n",
    "print('Средний запас предсказанного сырья по первому региону:', pd.DataFrame(predictions_valid_0).sort_values(by=0, ascending=False).mean()[0])"
   ]
  },
  {
   "cell_type": "code",
   "execution_count": 9,
   "metadata": {},
   "outputs": [
    {
     "name": "stdout",
     "output_type": "stream",
     "text": [
      "Размер выборок: ((74997, 3), (24999, 3), (74997,), (24999,))\n",
      "RMSE модели линейной регрессии на валидационной выборке по второму региону: 0.8920592647717033\n",
      "Средний запас предсказанного сырья по второму региону: 69.1783195703043\n"
     ]
    }
   ],
   "source": [
    "features_1 = data_1.drop(['id', 'product'], axis=1)\n",
    "target_1 = data_1['product']\n",
    "\n",
    "features_train_1, features_valid_1, target_train_1, target_valid_1 = train_test_split(\n",
    "     features_1, target_1, test_size=0.25, random_state=12345)\n",
    "\n",
    "print(f\"Размер выборок: {features_train_1.shape, features_valid_1.shape, target_train_1.shape, target_valid_1.shape}\")\n",
    "\n",
    "\n",
    "scaler = StandardScaler()\n",
    "scaler.fit(features_train_1)\n",
    "features_train_1_st= scaler.transform(features_train_1)\n",
    "features_valid_1_st = scaler.transform(features_valid_1) \n",
    "\n",
    "\n",
    "model_1 = LinearRegression()# инициализируйте модель LinearRegression\n",
    "model_1.fit(features_train_1_st, target_train_1) # обучите модель на тренировочной выборке\n",
    "predictions_valid_1 = model_1.predict(features_valid_1_st) # получите предсказания модели на валидационной выборке\n",
    "print(f\"RMSE модели линейной регрессии на валидационной выборке по второму региону: {mean_squared_error(target_valid_1, predictions_valid_1)**0.5}\")\n",
    "print('Средний запас предсказанного сырья по второму региону:', pd.DataFrame(predictions_valid_1).sort_values(by=0, ascending=False).mean()[0])"
   ]
  },
  {
   "cell_type": "code",
   "execution_count": 10,
   "metadata": {},
   "outputs": [
    {
     "name": "stdout",
     "output_type": "stream",
     "text": [
      "Размер выборок: ((74997, 3), (24999, 3), (74997,), (24999,))\n",
      "RMSE модели линейной регрессии на валидационной выборке по третьему региону: 40.07585073246016\n",
      "Средний запас предсказанного сырья по третьему региону: 94.86572480562035\n"
     ]
    }
   ],
   "source": [
    "features_2 = data_2.drop(['id', 'product'], axis=1)\n",
    "target_2 = data_2['product']\n",
    "\n",
    "features_train_2, features_valid_2, target_train_2, target_valid_2 = train_test_split(\n",
    "     features_2, target_2, test_size=0.25, random_state=12345)\n",
    "\n",
    "print(f\"Размер выборок: {features_train_2.shape, features_valid_2.shape, target_train_2.shape, target_valid_2.shape}\")\n",
    "\n",
    "\n",
    "scaler = StandardScaler()\n",
    "scaler.fit(features_train_2)\n",
    "features_train_2_st= scaler.transform(features_train_2)\n",
    "features_valid_2_st = scaler.transform(features_valid_2) \n",
    "\n",
    "\n",
    "model_2 = LinearRegression()# инициализируйте модель LinearRegression\n",
    "model_2.fit(features_train_2_st, target_train_2) # обучите модель на тренировочной выборке\n",
    "predictions_valid_2 = model_2.predict(features_valid_2_st) # получите предсказания модели на валидационной выборке\n",
    "print(f\"RMSE модели линейной регрессии на валидационной выборке по третьему региону: {mean_squared_error(target_valid_2, predictions_valid_2)**0.5}\")\n",
    "print('Средний запас предсказанного сырья по третьему региону:', pd.DataFrame(predictions_valid_2).sort_values(by=0, ascending=False).mean()[0])"
   ]
  },
  {
   "cell_type": "markdown",
   "metadata": {},
   "source": [
    "Модель по второму региону имеет самоую низкую RMSE и минимальный объем предсказанного сырья, что говорит о том, что она способна лучше всего предсказывать значения.\n",
    "Предсказанный запас сырья выше всего в первом регионе, не смотря на то,что RMSE модели 2го региона достаточно высокая."
   ]
  },
  {
   "cell_type": "markdown",
   "metadata": {},
   "source": [
    "## Подготовка к расчёту прибыли"
   ]
  },
  {
   "cell_type": "markdown",
   "metadata": {},
   "source": [
    "• При разведке региона исследуют 500 точек, из которых с помощью машинного обучения выбирают 200 лучших для разработки.\n",
    "\n",
    "• Бюджет на разработку скважин в регионе — 10 млрд рублей.\n",
    "\n",
    "• При нынешних ценах один баррель сырья приносит 450 рублей дохода. Доход с каждой единицы продукта составляет 450 тыс. рублей, поскольку объём указан в тысячах баррелей.\n",
    "\n"
   ]
  },
  {
   "cell_type": "code",
   "execution_count": 11,
   "metadata": {},
   "outputs": [
    {
     "name": "stdout",
     "output_type": "stream",
     "text": [
      "Достаточный объём сырья для безубыточной разработки новой скважины 111.11111111111111\n"
     ]
    }
   ],
   "source": [
    "#все ключевые значения для расчётов сохраните в отдельных переменных\n",
    "points = 500\n",
    "best_points = 200\n",
    "budget = 10e9\n",
    "rev_unit = 450000\n",
    "break_even_point = budget/rev_unit/best_points\n",
    "print('Достаточный объём сырья для безубыточной разработки новой скважины', break_even_point)"
   ]
  },
  {
   "cell_type": "markdown",
   "metadata": {},
   "source": [
    "Минимальное среднее количество сырья для безубыточной разработки новой скважины 111,(1) тыс. баррелей.\n",
    "Сравнивая средние предсказанные запасы сырья с достаточным объемом для безубыточной разработки новой скважины видим, что наиболее близки к нему по прогнозным значениям первый и третий регионы."
   ]
  },
  {
   "cell_type": "code",
   "execution_count": 12,
   "metadata": {},
   "outputs": [
    {
     "name": "stdout",
     "output_type": "stream",
     "text": [
      "92.49968421774354\n",
      "68.82391591804064\n",
      "94.99834211933378\n"
     ]
    }
   ],
   "source": [
    "data = [data_0, data_1, data_2]\n",
    "\n",
    "for i in data:\n",
    "    print(i['product'].mean())"
   ]
  },
  {
   "cell_type": "code",
   "execution_count": 13,
   "metadata": {},
   "outputs": [
    {
     "name": "stdout",
     "output_type": "stream",
     "text": [
      "Прибыль топ 200 скважин первого региона: 3365187238\n",
      "Прибыль топ 200 скважин второго региона: 2415086697\n",
      "Прибыль топ 200 скважин третьего региона: 2501283853\n"
     ]
    }
   ],
   "source": [
    "def revenue(target, probabilities):\n",
    "    prob_best_points = pd.Series(probabilities).sort_values(ascending=False)[:best_points]\n",
    "    target_best_points = (target.reset_index(drop = True)[prob_best_points.index]).sort_index()\n",
    "    total_profit  = target_best_points.sum()\n",
    "    return round((total_profit * rev_unit) - budget)\n",
    "\n",
    "print('Прибыль топ 200 скважин первого региона:', revenue(target_valid_0, predictions_valid_0))\n",
    "print('Прибыль топ 200 скважин второго региона:', revenue(target_valid_1, predictions_valid_1))\n",
    "print('Прибыль топ 200 скважин третьего региона:', revenue(target_valid_2, predictions_valid_2))"
   ]
  },
  {
   "cell_type": "markdown",
   "metadata": {},
   "source": [
    "## Расчёт прибыли и рисков "
   ]
  },
  {
   "cell_type": "markdown",
   "metadata": {},
   "source": [
    "После оценки рисков оставлю лишь те регионы, в которых вероятность убытков меньше 2.5% и среди них выберу прибыльные.\n",
    "Техника \"Bootstrap\" позволяет оценить риск убытков при случайным отборе точек."
   ]
  },
  {
   "cell_type": "code",
   "execution_count": 16,
   "metadata": {},
   "outputs": [
    {
     "data": {
      "text/plain": [
       "0   -2\n",
       "1   -1\n",
       "2    4\n",
       "3    5\n",
       "dtype: int64"
      ]
     },
     "metadata": {},
     "output_type": "display_data"
    },
    {
     "data": {
      "text/plain": [
       "'Риск убытков = 50.00% '"
      ]
     },
     "execution_count": 16,
     "metadata": {},
     "output_type": "execute_result"
    }
   ],
   "source": [
    "#ячейка ревьюера\n",
    "\n",
    "display(pd.Series([-2, -1, 4, 5]))\n",
    "'Риск убытков = {:.2%} '.format((pd.Series([-2, -1, 4, 5])<0).mean())"
   ]
  },
  {
   "cell_type": "code",
   "execution_count": 17,
   "metadata": {},
   "outputs": [
    {
     "name": "stdout",
     "output_type": "stream",
     "text": [
      "\n",
      "Средняя прибыль ТОП 200 скважин: 380613470.01\n",
      "Риск убытков = 7.70% \n",
      "Первый регион 95%-й доверительный интервал : (-142942739.325, 890976833.425)\n",
      "\n",
      "Средняя прибыль ТОП 200 скважин: 479159869.99\n",
      "Риск убытков = 0.60% \n",
      "Второй регион 95%-й доверительный интервал : (73849212.10000001, 917953817.9499999)\n",
      "\n",
      "Средняя прибыль ТОП 200 скважин: 315441916.036\n",
      "Риск убытков = 12.40% \n",
      "Третий регион 95%-й доверительный интервал : (-216265050.225, 811060708.5999999)\n"
     ]
    }
   ],
   "source": [
    "state = np.random.RandomState(12345)\n",
    "\n",
    "def confidence_interval(target, probabilities):\n",
    "    values = []\n",
    "    for i in range(1000):\n",
    "        subsample = pd.Series(probabilities).sample(n = 500, replace=True, random_state = state)\n",
    "        values.append(revenue(target,subsample))\n",
    "    values = pd.Series(values)\n",
    "    print(f\"\\nСредняя прибыль ТОП 200 скважин:\", values.mean())\n",
    "    print('Риск убытков = {:.2%} '.format(values.apply ( lambda x: x < 0).mean()))\n",
    "\n",
    "    \n",
    "    lower = values.quantile(0.025)\n",
    "    upper = values.quantile(0.975)\n",
    "    \n",
    "    return lower, upper\n",
    "\n",
    "print(\"Первый регион 95%-й доверительный интервал :\", confidence_interval(target_valid_0, predictions_valid_0))\n",
    "print(\"Второй регион 95%-й доверительный интервал :\", confidence_interval(target_valid_1, predictions_valid_1))\n",
    "print(\"Третий регион 95%-й доверительный интервал :\", confidence_interval(target_valid_2, predictions_valid_2))"
   ]
  },
  {
   "cell_type": "markdown",
   "metadata": {},
   "source": [
    "Вывод\n",
    "\n",
    "Для разработки скважин более всего подходит второй регион, регион с высокой прибылью и низкой rmse.\n",
    "Именно в этом регионе низкий риск убыткови высокое значение средней прибыли.\n",
    "Отчасти это может быть связано с достаточно сильным влиянием признака f2 на целевую переменную."
   ]
  }
 ],
 "metadata": {
  "ExecuteTimeLog": [
   {
    "duration": 418,
    "start_time": "2022-12-21T15:43:44.284Z"
   },
   {
    "duration": 1878,
    "start_time": "2022-12-21T15:47:01.369Z"
   },
   {
    "duration": 14,
    "start_time": "2022-12-21T15:50:25.425Z"
   },
   {
    "duration": 163,
    "start_time": "2022-12-21T15:53:08.903Z"
   },
   {
    "duration": 144,
    "start_time": "2022-12-21T15:53:32.130Z"
   },
   {
    "duration": 141,
    "start_time": "2022-12-21T15:53:56.431Z"
   },
   {
    "duration": 142,
    "start_time": "2022-12-21T15:54:42.677Z"
   },
   {
    "duration": 158,
    "start_time": "2022-12-21T15:55:05.630Z"
   },
   {
    "duration": 3,
    "start_time": "2022-12-21T16:00:33.554Z"
   },
   {
    "duration": 147,
    "start_time": "2022-12-21T16:00:39.020Z"
   },
   {
    "duration": 182,
    "start_time": "2022-12-21T16:00:56.533Z"
   },
   {
    "duration": 163,
    "start_time": "2022-12-21T16:01:03.003Z"
   },
   {
    "duration": 135,
    "start_time": "2022-12-21T16:01:11.672Z"
   },
   {
    "duration": 149,
    "start_time": "2022-12-21T16:29:46.854Z"
   },
   {
    "duration": 141,
    "start_time": "2022-12-21T16:30:09.473Z"
   },
   {
    "duration": 154,
    "start_time": "2022-12-21T16:30:20.492Z"
   },
   {
    "duration": 162,
    "start_time": "2022-12-21T16:31:12.462Z"
   },
   {
    "duration": 168,
    "start_time": "2022-12-21T16:34:56.541Z"
   },
   {
    "duration": 135,
    "start_time": "2022-12-21T16:38:27.901Z"
   },
   {
    "duration": 178,
    "start_time": "2022-12-21T16:38:36.938Z"
   },
   {
    "duration": 165,
    "start_time": "2022-12-21T16:39:01.741Z"
   },
   {
    "duration": 49,
    "start_time": "2022-12-21T16:43:52.024Z"
   },
   {
    "duration": 37,
    "start_time": "2022-12-21T16:44:25.102Z"
   },
   {
    "duration": 6,
    "start_time": "2022-12-21T16:45:27.542Z"
   },
   {
    "duration": 1211,
    "start_time": "2022-12-21T16:46:23.231Z"
   },
   {
    "duration": 373,
    "start_time": "2022-12-21T16:46:24.444Z"
   },
   {
    "duration": 147,
    "start_time": "2022-12-21T16:46:24.819Z"
   },
   {
    "duration": 173,
    "start_time": "2022-12-21T16:46:24.968Z"
   },
   {
    "duration": 166,
    "start_time": "2022-12-21T16:46:25.143Z"
   },
   {
    "duration": 46,
    "start_time": "2022-12-24T09:35:23.929Z"
   },
   {
    "duration": 1554,
    "start_time": "2022-12-24T09:35:31.950Z"
   },
   {
    "duration": 727,
    "start_time": "2022-12-24T09:35:34.086Z"
   },
   {
    "duration": 244,
    "start_time": "2022-12-24T09:35:37.159Z"
   },
   {
    "duration": 439,
    "start_time": "2022-12-24T09:36:47.462Z"
   },
   {
    "duration": 476,
    "start_time": "2022-12-24T09:37:39.549Z"
   },
   {
    "duration": 82,
    "start_time": "2022-12-24T09:39:08.244Z"
   },
   {
    "duration": 21,
    "start_time": "2022-12-24T09:40:33.241Z"
   },
   {
    "duration": 21,
    "start_time": "2022-12-24T09:44:39.913Z"
   },
   {
    "duration": 521,
    "start_time": "2022-12-24T09:45:12.216Z"
   },
   {
    "duration": 9,
    "start_time": "2022-12-24T09:48:14.910Z"
   },
   {
    "duration": 10,
    "start_time": "2022-12-24T09:48:39.098Z"
   },
   {
    "duration": 438,
    "start_time": "2022-12-24T09:48:55.589Z"
   },
   {
    "duration": 439,
    "start_time": "2022-12-24T09:49:18.329Z"
   },
   {
    "duration": 435,
    "start_time": "2022-12-24T09:49:44.800Z"
   },
   {
    "duration": 14,
    "start_time": "2022-12-24T09:50:22.860Z"
   },
   {
    "duration": 5,
    "start_time": "2022-12-24T09:50:28.790Z"
   },
   {
    "duration": 369,
    "start_time": "2022-12-24T09:50:28.797Z"
   },
   {
    "duration": 460,
    "start_time": "2022-12-24T09:50:29.168Z"
   },
   {
    "duration": 3,
    "start_time": "2022-12-24T09:50:29.635Z"
   },
   {
    "duration": 32,
    "start_time": "2022-12-24T09:50:29.639Z"
   },
   {
    "duration": 11,
    "start_time": "2022-12-24T10:04:43.966Z"
   },
   {
    "duration": 11,
    "start_time": "2022-12-24T10:04:47.921Z"
   },
   {
    "duration": 11,
    "start_time": "2022-12-24T10:05:47.533Z"
   },
   {
    "duration": 11,
    "start_time": "2022-12-24T10:06:03.710Z"
   },
   {
    "duration": 108,
    "start_time": "2022-12-24T10:09:40.120Z"
   },
   {
    "duration": 101,
    "start_time": "2022-12-24T10:10:10.800Z"
   },
   {
    "duration": 18,
    "start_time": "2022-12-24T11:17:03.445Z"
   },
   {
    "duration": 18,
    "start_time": "2022-12-24T11:17:15.634Z"
   },
   {
    "duration": 14,
    "start_time": "2022-12-24T11:17:52.162Z"
   },
   {
    "duration": 50,
    "start_time": "2022-12-24T11:18:18.059Z"
   },
   {
    "duration": 365,
    "start_time": "2022-12-24T11:18:32.984Z"
   },
   {
    "duration": 336,
    "start_time": "2022-12-24T11:19:04.192Z"
   },
   {
    "duration": 319,
    "start_time": "2022-12-24T11:19:33.533Z"
   },
   {
    "duration": 296,
    "start_time": "2022-12-24T11:20:17.777Z"
   },
   {
    "duration": 13,
    "start_time": "2022-12-24T11:24:15.588Z"
   },
   {
    "duration": 14,
    "start_time": "2022-12-24T11:25:28.301Z"
   },
   {
    "duration": 30,
    "start_time": "2022-12-24T11:38:22.359Z"
   },
   {
    "duration": 281,
    "start_time": "2022-12-24T11:38:38.013Z"
   },
   {
    "duration": 44,
    "start_time": "2022-12-24T11:48:56.283Z"
   },
   {
    "duration": 10,
    "start_time": "2022-12-24T11:53:36.535Z"
   },
   {
    "duration": 10,
    "start_time": "2022-12-24T11:53:54.365Z"
   },
   {
    "duration": 11,
    "start_time": "2022-12-24T11:55:59.041Z"
   },
   {
    "duration": 12,
    "start_time": "2022-12-24T11:58:04.938Z"
   },
   {
    "duration": 10,
    "start_time": "2022-12-24T12:02:44.491Z"
   },
   {
    "duration": 10,
    "start_time": "2022-12-24T12:02:54.001Z"
   },
   {
    "duration": 87,
    "start_time": "2022-12-24T12:06:39.866Z"
   },
   {
    "duration": 101,
    "start_time": "2022-12-24T12:07:05.551Z"
   },
   {
    "duration": 89,
    "start_time": "2022-12-24T12:07:14.524Z"
   },
   {
    "duration": 98,
    "start_time": "2022-12-24T12:07:20.940Z"
   },
   {
    "duration": 97,
    "start_time": "2022-12-24T12:08:18.266Z"
   },
   {
    "duration": 95,
    "start_time": "2022-12-24T12:08:22.688Z"
   },
   {
    "duration": 127,
    "start_time": "2022-12-24T12:09:33.178Z"
   },
   {
    "duration": 105,
    "start_time": "2022-12-24T12:09:48.893Z"
   },
   {
    "duration": 113,
    "start_time": "2022-12-24T12:11:10.960Z"
   },
   {
    "duration": 103,
    "start_time": "2022-12-24T12:11:19.659Z"
   },
   {
    "duration": 98,
    "start_time": "2022-12-24T12:12:53.349Z"
   },
   {
    "duration": 7,
    "start_time": "2022-12-24T13:03:36.992Z"
   },
   {
    "duration": 25,
    "start_time": "2022-12-24T13:03:48.015Z"
   },
   {
    "duration": 33,
    "start_time": "2022-12-24T13:17:55.547Z"
   },
   {
    "duration": 36,
    "start_time": "2022-12-24T13:19:19.623Z"
   },
   {
    "duration": 124,
    "start_time": "2022-12-24T13:20:22.424Z"
   },
   {
    "duration": 167,
    "start_time": "2022-12-24T13:21:00.493Z"
   },
   {
    "duration": 327,
    "start_time": "2022-12-24T13:23:10.025Z"
   },
   {
    "duration": 278,
    "start_time": "2022-12-24T13:23:12.043Z"
   },
   {
    "duration": 252,
    "start_time": "2022-12-24T13:23:14.833Z"
   },
   {
    "duration": 105,
    "start_time": "2022-12-24T13:23:20.925Z"
   },
   {
    "duration": 106,
    "start_time": "2022-12-24T13:24:14.244Z"
   },
   {
    "duration": 5,
    "start_time": "2022-12-24T13:24:16.761Z"
   },
   {
    "duration": 386,
    "start_time": "2022-12-24T13:24:16.770Z"
   },
   {
    "duration": 3,
    "start_time": "2022-12-24T13:24:17.158Z"
   },
   {
    "duration": 169,
    "start_time": "2022-12-24T13:24:17.162Z"
   },
   {
    "duration": 180,
    "start_time": "2022-12-24T13:24:17.342Z"
   },
   {
    "duration": 178,
    "start_time": "2022-12-24T13:24:17.523Z"
   },
   {
    "duration": 3,
    "start_time": "2022-12-24T13:24:17.702Z"
   },
   {
    "duration": 101,
    "start_time": "2022-12-24T13:24:17.708Z"
   },
   {
    "duration": 56,
    "start_time": "2022-12-24T13:24:17.811Z"
   },
   {
    "duration": 17,
    "start_time": "2022-12-24T14:00:41.895Z"
   },
   {
    "duration": 23,
    "start_time": "2022-12-24T14:00:52.596Z"
   },
   {
    "duration": 4,
    "start_time": "2022-12-24T14:00:55.520Z"
   },
   {
    "duration": 379,
    "start_time": "2022-12-24T14:00:55.525Z"
   },
   {
    "duration": 3,
    "start_time": "2022-12-24T14:00:55.905Z"
   },
   {
    "duration": 195,
    "start_time": "2022-12-24T14:00:55.910Z"
   },
   {
    "duration": 179,
    "start_time": "2022-12-24T14:00:56.107Z"
   },
   {
    "duration": 195,
    "start_time": "2022-12-24T14:00:56.287Z"
   },
   {
    "duration": 12,
    "start_time": "2022-12-24T14:00:56.484Z"
   },
   {
    "duration": 0,
    "start_time": "2022-12-24T14:00:56.498Z"
   },
   {
    "duration": 31,
    "start_time": "2022-12-24T14:01:11.523Z"
   },
   {
    "duration": 4,
    "start_time": "2022-12-24T14:01:53.435Z"
   },
   {
    "duration": 76,
    "start_time": "2022-12-24T14:01:58.761Z"
   },
   {
    "duration": 37,
    "start_time": "2022-12-24T14:02:36.520Z"
   },
   {
    "duration": 57,
    "start_time": "2022-12-24T14:03:31.882Z"
   },
   {
    "duration": 3,
    "start_time": "2022-12-24T14:03:44.774Z"
   },
   {
    "duration": 111,
    "start_time": "2022-12-24T14:03:51.228Z"
   },
   {
    "duration": 81,
    "start_time": "2022-12-24T14:07:46.758Z"
   },
   {
    "duration": 59,
    "start_time": "2022-12-24T14:11:38.018Z"
   },
   {
    "duration": 35,
    "start_time": "2022-12-24T14:11:42.659Z"
   },
   {
    "duration": 72,
    "start_time": "2022-12-24T14:35:21.765Z"
   },
   {
    "duration": 125,
    "start_time": "2022-12-24T14:35:54.514Z"
   },
   {
    "duration": 27,
    "start_time": "2022-12-24T14:36:37.903Z"
   },
   {
    "duration": 35,
    "start_time": "2022-12-24T14:37:14.505Z"
   },
   {
    "duration": 96,
    "start_time": "2022-12-24T14:39:29.245Z"
   },
   {
    "duration": 68,
    "start_time": "2022-12-24T14:39:58.072Z"
   },
   {
    "duration": 110,
    "start_time": "2022-12-24T14:40:21.524Z"
   },
   {
    "duration": 976,
    "start_time": "2022-12-24T14:46:48.463Z"
   },
   {
    "duration": 870,
    "start_time": "2022-12-24T14:47:03.135Z"
   },
   {
    "duration": 82,
    "start_time": "2022-12-24T14:47:36.061Z"
   },
   {
    "duration": 217,
    "start_time": "2022-12-24T14:47:51.118Z"
   },
   {
    "duration": 804,
    "start_time": "2022-12-24T14:48:02.781Z"
   },
   {
    "duration": 869,
    "start_time": "2022-12-24T14:48:16.803Z"
   },
   {
    "duration": 43,
    "start_time": "2022-12-24T14:48:21.796Z"
   },
   {
    "duration": 57,
    "start_time": "2022-12-24T14:48:31.380Z"
   },
   {
    "duration": 63,
    "start_time": "2022-12-24T14:48:52.206Z"
   },
   {
    "duration": 48,
    "start_time": "2022-12-24T14:49:00.158Z"
   },
   {
    "duration": 55,
    "start_time": "2022-12-24T14:49:04.074Z"
   },
   {
    "duration": 45,
    "start_time": "2022-12-24T14:49:07.078Z"
   },
   {
    "duration": 822,
    "start_time": "2022-12-24T14:49:10.787Z"
   },
   {
    "duration": 141,
    "start_time": "2022-12-24T14:49:16.703Z"
   },
   {
    "duration": 124,
    "start_time": "2022-12-24T14:50:10.814Z"
   },
   {
    "duration": 93,
    "start_time": "2022-12-24T14:50:32.446Z"
   },
   {
    "duration": 930,
    "start_time": "2022-12-24T14:50:40.703Z"
   },
   {
    "duration": 82,
    "start_time": "2022-12-24T14:53:25.460Z"
   },
   {
    "duration": 99,
    "start_time": "2022-12-24T14:54:15.947Z"
   },
   {
    "duration": 42,
    "start_time": "2022-12-24T14:54:20.601Z"
   },
   {
    "duration": 38,
    "start_time": "2022-12-24T14:54:24.523Z"
   },
   {
    "duration": 110,
    "start_time": "2022-12-24T14:54:36.641Z"
   },
   {
    "duration": 39,
    "start_time": "2022-12-24T14:57:13.908Z"
   },
   {
    "duration": 34,
    "start_time": "2022-12-24T15:00:16.764Z"
   },
   {
    "duration": 83,
    "start_time": "2022-12-24T15:01:56.064Z"
   },
   {
    "duration": 5,
    "start_time": "2022-12-24T15:34:50.077Z"
   },
   {
    "duration": 15,
    "start_time": "2022-12-24T16:31:15.682Z"
   },
   {
    "duration": 15,
    "start_time": "2022-12-24T16:31:28.491Z"
   },
   {
    "duration": 19,
    "start_time": "2022-12-24T16:31:41.299Z"
   },
   {
    "duration": 15,
    "start_time": "2022-12-24T16:42:20.629Z"
   },
   {
    "duration": 1298,
    "start_time": "2022-12-24T16:43:15.885Z"
   },
   {
    "duration": 20,
    "start_time": "2022-12-24T16:43:57.430Z"
   },
   {
    "duration": 1147,
    "start_time": "2022-12-24T16:45:20.607Z"
   },
   {
    "duration": 3399,
    "start_time": "2022-12-24T16:45:44.808Z"
   },
   {
    "duration": 3394,
    "start_time": "2022-12-24T16:46:03.398Z"
   },
   {
    "duration": 3276,
    "start_time": "2022-12-24T16:46:31.598Z"
   },
   {
    "duration": 3376,
    "start_time": "2022-12-24T16:47:21.109Z"
   },
   {
    "duration": 16,
    "start_time": "2022-12-24T16:47:47.988Z"
   },
   {
    "duration": 1132,
    "start_time": "2022-12-24T16:48:09.978Z"
   },
   {
    "duration": 3345,
    "start_time": "2022-12-24T16:48:38.460Z"
   },
   {
    "duration": 3385,
    "start_time": "2022-12-24T16:50:27.237Z"
   },
   {
    "duration": 2414,
    "start_time": "2022-12-24T16:54:13.701Z"
   },
   {
    "duration": 3,
    "start_time": "2022-12-24T17:12:28.360Z"
   },
   {
    "duration": 366,
    "start_time": "2022-12-24T17:12:30.683Z"
   },
   {
    "duration": 40,
    "start_time": "2022-12-24T17:14:07.153Z"
   },
   {
    "duration": 208,
    "start_time": "2022-12-24T17:14:52.027Z"
   },
   {
    "duration": 43,
    "start_time": "2022-12-24T17:15:17.202Z"
   },
   {
    "duration": 155,
    "start_time": "2022-12-24T17:15:38.682Z"
   },
   {
    "duration": 16,
    "start_time": "2022-12-24T17:35:33.646Z"
   },
   {
    "duration": 49,
    "start_time": "2022-12-24T17:43:23.284Z"
   },
   {
    "duration": 62,
    "start_time": "2022-12-24T17:43:45.594Z"
   },
   {
    "duration": 16,
    "start_time": "2022-12-24T17:45:38.658Z"
   },
   {
    "duration": 16,
    "start_time": "2022-12-24T17:45:46.899Z"
   },
   {
    "duration": 18,
    "start_time": "2022-12-24T17:47:11.180Z"
   },
   {
    "duration": 17,
    "start_time": "2022-12-24T17:59:16.408Z"
   },
   {
    "duration": 4,
    "start_time": "2022-12-24T18:00:04.173Z"
   },
   {
    "duration": 14,
    "start_time": "2022-12-24T18:00:31.081Z"
   },
   {
    "duration": 1773,
    "start_time": "2022-12-24T18:01:48.999Z"
   },
   {
    "duration": 1815,
    "start_time": "2022-12-24T18:02:18.080Z"
   },
   {
    "duration": 2428,
    "start_time": "2022-12-24T18:03:14.998Z"
   },
   {
    "duration": 4103,
    "start_time": "2022-12-24T18:07:26.344Z"
   },
   {
    "duration": 4184,
    "start_time": "2022-12-24T18:09:19.284Z"
   },
   {
    "duration": 3971,
    "start_time": "2022-12-24T18:10:38.511Z"
   },
   {
    "duration": 4059,
    "start_time": "2022-12-24T18:12:46.891Z"
   },
   {
    "duration": 1329,
    "start_time": "2022-12-24T18:15:08.559Z"
   },
   {
    "duration": 3979,
    "start_time": "2022-12-24T18:15:26.070Z"
   },
   {
    "duration": 18,
    "start_time": "2022-12-24T18:18:02.049Z"
   },
   {
    "duration": 4028,
    "start_time": "2022-12-24T18:18:17.366Z"
   },
   {
    "duration": 17,
    "start_time": "2022-12-24T18:22:40.601Z"
   },
   {
    "duration": 3822,
    "start_time": "2022-12-24T18:27:52.340Z"
   },
   {
    "duration": 1997,
    "start_time": "2022-12-25T10:47:17.965Z"
   },
   {
    "duration": 377,
    "start_time": "2022-12-25T10:47:19.964Z"
   },
   {
    "duration": 3,
    "start_time": "2022-12-25T10:47:20.343Z"
   },
   {
    "duration": 233,
    "start_time": "2022-12-25T10:47:20.348Z"
   },
   {
    "duration": 191,
    "start_time": "2022-12-25T10:47:20.582Z"
   },
   {
    "duration": 200,
    "start_time": "2022-12-25T10:47:20.775Z"
   },
   {
    "duration": 142,
    "start_time": "2022-12-25T10:47:20.977Z"
   },
   {
    "duration": 0,
    "start_time": "2022-12-25T10:47:21.121Z"
   },
   {
    "duration": 0,
    "start_time": "2022-12-25T10:47:21.122Z"
   },
   {
    "duration": 0,
    "start_time": "2022-12-25T10:47:21.126Z"
   },
   {
    "duration": 0,
    "start_time": "2022-12-25T10:47:21.126Z"
   },
   {
    "duration": 0,
    "start_time": "2022-12-25T10:47:21.127Z"
   },
   {
    "duration": 0,
    "start_time": "2022-12-25T10:47:21.128Z"
   },
   {
    "duration": 3,
    "start_time": "2022-12-25T10:49:36.909Z"
   },
   {
    "duration": 1958,
    "start_time": "2022-12-25T10:49:57.989Z"
   },
   {
    "duration": 446,
    "start_time": "2022-12-25T10:49:59.951Z"
   },
   {
    "duration": 3,
    "start_time": "2022-12-25T10:50:00.398Z"
   },
   {
    "duration": 306,
    "start_time": "2022-12-25T10:50:00.404Z"
   },
   {
    "duration": 235,
    "start_time": "2022-12-25T10:50:00.712Z"
   },
   {
    "duration": 234,
    "start_time": "2022-12-25T10:50:00.949Z"
   },
   {
    "duration": 3,
    "start_time": "2022-12-25T10:50:01.185Z"
   },
   {
    "duration": 117,
    "start_time": "2022-12-25T10:50:01.190Z"
   },
   {
    "duration": 199,
    "start_time": "2022-12-25T10:50:01.324Z"
   },
   {
    "duration": 226,
    "start_time": "2022-12-25T10:50:01.527Z"
   },
   {
    "duration": 70,
    "start_time": "2022-12-25T10:50:01.764Z"
   },
   {
    "duration": 44,
    "start_time": "2022-12-25T10:50:01.847Z"
   },
   {
    "duration": 25,
    "start_time": "2022-12-25T10:50:01.893Z"
   },
   {
    "duration": 4626,
    "start_time": "2022-12-25T10:50:01.919Z"
   },
   {
    "duration": 78,
    "start_time": "2022-12-25T10:50:36.610Z"
   },
   {
    "duration": 6,
    "start_time": "2022-12-25T11:00:58.699Z"
   },
   {
    "duration": 4,
    "start_time": "2022-12-25T11:01:21.889Z"
   },
   {
    "duration": 5,
    "start_time": "2022-12-25T11:04:20.976Z"
   },
   {
    "duration": 6,
    "start_time": "2022-12-25T11:04:31.319Z"
   },
   {
    "duration": 4259,
    "start_time": "2022-12-25T11:06:30.355Z"
   },
   {
    "duration": 3470,
    "start_time": "2022-12-25T11:06:53.554Z"
   },
   {
    "duration": 3308,
    "start_time": "2022-12-25T11:07:35.593Z"
   },
   {
    "duration": 3998,
    "start_time": "2022-12-25T11:08:28.656Z"
   },
   {
    "duration": 10,
    "start_time": "2022-12-25T11:15:19.024Z"
   },
   {
    "duration": 1759,
    "start_time": "2022-12-25T11:16:27.961Z"
   },
   {
    "duration": 353,
    "start_time": "2022-12-25T11:16:29.722Z"
   },
   {
    "duration": 3,
    "start_time": "2022-12-25T11:16:30.077Z"
   },
   {
    "duration": 219,
    "start_time": "2022-12-25T11:16:30.081Z"
   },
   {
    "duration": 192,
    "start_time": "2022-12-25T11:16:30.301Z"
   },
   {
    "duration": 197,
    "start_time": "2022-12-25T11:16:30.495Z"
   },
   {
    "duration": 2,
    "start_time": "2022-12-25T11:16:30.694Z"
   },
   {
    "duration": 124,
    "start_time": "2022-12-25T11:16:30.698Z"
   },
   {
    "duration": 206,
    "start_time": "2022-12-25T11:16:30.823Z"
   },
   {
    "duration": 123,
    "start_time": "2022-12-25T11:16:31.032Z"
   },
   {
    "duration": 73,
    "start_time": "2022-12-25T11:16:31.156Z"
   },
   {
    "duration": 122,
    "start_time": "2022-12-25T11:16:31.231Z"
   },
   {
    "duration": 32,
    "start_time": "2022-12-25T11:16:31.355Z"
   },
   {
    "duration": 4211,
    "start_time": "2022-12-25T11:16:31.389Z"
   },
   {
    "duration": 21,
    "start_time": "2022-12-25T11:16:35.601Z"
   },
   {
    "duration": 1890,
    "start_time": "2022-12-25T11:16:54.070Z"
   },
   {
    "duration": 352,
    "start_time": "2022-12-25T11:16:55.962Z"
   },
   {
    "duration": 6,
    "start_time": "2022-12-25T11:16:56.316Z"
   },
   {
    "duration": 250,
    "start_time": "2022-12-25T11:16:56.325Z"
   },
   {
    "duration": 191,
    "start_time": "2022-12-25T11:16:56.576Z"
   },
   {
    "duration": 202,
    "start_time": "2022-12-25T11:16:56.769Z"
   },
   {
    "duration": 132,
    "start_time": "2022-12-25T11:16:56.973Z"
   },
   {
    "duration": 0,
    "start_time": "2022-12-25T11:16:57.107Z"
   },
   {
    "duration": 0,
    "start_time": "2022-12-25T11:16:57.108Z"
   },
   {
    "duration": 0,
    "start_time": "2022-12-25T11:16:57.109Z"
   },
   {
    "duration": 0,
    "start_time": "2022-12-25T11:16:57.110Z"
   },
   {
    "duration": 0,
    "start_time": "2022-12-25T11:16:57.122Z"
   },
   {
    "duration": 0,
    "start_time": "2022-12-25T11:16:57.123Z"
   },
   {
    "duration": 0,
    "start_time": "2022-12-25T11:16:57.125Z"
   },
   {
    "duration": 1509,
    "start_time": "2022-12-26T06:46:51.035Z"
   },
   {
    "duration": 1586,
    "start_time": "2022-12-26T06:46:52.546Z"
   },
   {
    "duration": 4,
    "start_time": "2022-12-26T06:46:54.133Z"
   },
   {
    "duration": 202,
    "start_time": "2022-12-26T06:46:54.139Z"
   },
   {
    "duration": 168,
    "start_time": "2022-12-26T06:46:54.343Z"
   },
   {
    "duration": 193,
    "start_time": "2022-12-26T06:46:54.514Z"
   },
   {
    "duration": 96,
    "start_time": "2022-12-26T06:46:54.709Z"
   },
   {
    "duration": 199,
    "start_time": "2022-12-26T06:46:54.808Z"
   },
   {
    "duration": 197,
    "start_time": "2022-12-26T06:46:55.009Z"
   },
   {
    "duration": 5,
    "start_time": "2022-12-26T06:46:55.208Z"
   },
   {
    "duration": 109,
    "start_time": "2022-12-26T06:46:55.214Z"
   },
   {
    "duration": 2,
    "start_time": "2022-12-26T06:46:55.325Z"
   },
   {
    "duration": 4011,
    "start_time": "2022-12-26T06:46:55.328Z"
   },
   {
    "duration": 9,
    "start_time": "2022-12-26T06:46:59.341Z"
   },
   {
    "duration": 3242,
    "start_time": "2022-12-26T06:49:42.242Z"
   },
   {
    "duration": 8,
    "start_time": "2022-12-26T06:51:00.102Z"
   },
   {
    "duration": 3543,
    "start_time": "2022-12-26T06:52:05.113Z"
   },
   {
    "duration": 3430,
    "start_time": "2022-12-26T06:52:17.092Z"
   },
   {
    "duration": 2200,
    "start_time": "2022-12-26T06:54:20.193Z"
   },
   {
    "duration": 5,
    "start_time": "2022-12-26T06:54:32.097Z"
   },
   {
    "duration": 3539,
    "start_time": "2022-12-26T06:54:35.394Z"
   },
   {
    "duration": 3469,
    "start_time": "2022-12-26T06:54:58.825Z"
   },
   {
    "duration": 84,
    "start_time": "2022-12-26T06:58:20.233Z"
   },
   {
    "duration": 72,
    "start_time": "2022-12-26T06:59:02.721Z"
   },
   {
    "duration": 3433,
    "start_time": "2022-12-26T06:59:32.449Z"
   },
   {
    "duration": 80,
    "start_time": "2022-12-26T07:00:26.161Z"
   },
   {
    "duration": 73,
    "start_time": "2022-12-26T07:01:04.046Z"
   },
   {
    "duration": 1205,
    "start_time": "2022-12-26T07:01:55.001Z"
   },
   {
    "duration": 1091,
    "start_time": "2022-12-26T07:02:46.176Z"
   },
   {
    "duration": 73,
    "start_time": "2022-12-26T07:03:52.167Z"
   },
   {
    "duration": 74,
    "start_time": "2022-12-26T07:04:22.055Z"
   },
   {
    "duration": 1404,
    "start_time": "2022-12-26T07:04:55.730Z"
   },
   {
    "duration": 73,
    "start_time": "2022-12-26T07:06:44.783Z"
   },
   {
    "duration": 3370,
    "start_time": "2022-12-26T07:06:54.958Z"
   },
   {
    "duration": 72,
    "start_time": "2022-12-26T07:07:37.135Z"
   },
   {
    "duration": 3256,
    "start_time": "2022-12-26T07:07:43.414Z"
   },
   {
    "duration": 79,
    "start_time": "2022-12-26T07:11:29.614Z"
   },
   {
    "duration": 1106,
    "start_time": "2022-12-26T07:14:32.736Z"
   },
   {
    "duration": 3274,
    "start_time": "2022-12-26T07:17:00.070Z"
   },
   {
    "duration": 6,
    "start_time": "2022-12-26T07:20:07.780Z"
   },
   {
    "duration": 351,
    "start_time": "2022-12-26T07:21:58.140Z"
   },
   {
    "duration": 1210,
    "start_time": "2022-12-26T07:22:41.164Z"
   },
   {
    "duration": 72,
    "start_time": "2022-12-26T07:22:49.734Z"
   },
   {
    "duration": 76,
    "start_time": "2022-12-26T07:23:00.060Z"
   },
   {
    "duration": 833,
    "start_time": "2022-12-26T07:23:04.156Z"
   },
   {
    "duration": 455,
    "start_time": "2022-12-26T07:26:51.596Z"
   },
   {
    "duration": 407,
    "start_time": "2022-12-26T07:27:03.635Z"
   },
   {
    "duration": 460,
    "start_time": "2022-12-26T07:27:09.468Z"
   },
   {
    "duration": 411,
    "start_time": "2022-12-26T07:27:48.228Z"
   },
   {
    "duration": 4,
    "start_time": "2022-12-26T07:29:31.169Z"
   },
   {
    "duration": 404,
    "start_time": "2022-12-26T07:29:31.175Z"
   },
   {
    "duration": 3,
    "start_time": "2022-12-26T07:29:31.581Z"
   },
   {
    "duration": 276,
    "start_time": "2022-12-26T07:29:31.586Z"
   },
   {
    "duration": 194,
    "start_time": "2022-12-26T07:29:31.864Z"
   },
   {
    "duration": 204,
    "start_time": "2022-12-26T07:29:32.060Z"
   },
   {
    "duration": 2,
    "start_time": "2022-12-26T07:29:32.266Z"
   },
   {
    "duration": 48,
    "start_time": "2022-12-26T07:29:32.269Z"
   },
   {
    "duration": 201,
    "start_time": "2022-12-26T07:29:32.408Z"
   },
   {
    "duration": 195,
    "start_time": "2022-12-26T07:29:32.611Z"
   },
   {
    "duration": 5,
    "start_time": "2022-12-26T07:29:32.808Z"
   },
   {
    "duration": 13,
    "start_time": "2022-12-26T07:29:32.905Z"
   },
   {
    "duration": 17,
    "start_time": "2022-12-26T07:29:32.919Z"
   },
   {
    "duration": 3,
    "start_time": "2022-12-26T07:29:32.939Z"
   },
   {
    "duration": 11,
    "start_time": "2022-12-26T07:29:32.943Z"
   },
   {
    "duration": 11,
    "start_time": "2022-12-26T07:29:32.956Z"
   },
   {
    "duration": 3541,
    "start_time": "2022-12-26T07:29:32.969Z"
   },
   {
    "duration": 1427,
    "start_time": "2022-12-26T07:30:23.952Z"
   },
   {
    "duration": 381,
    "start_time": "2022-12-26T07:30:25.381Z"
   },
   {
    "duration": 3,
    "start_time": "2022-12-26T07:30:25.763Z"
   },
   {
    "duration": 201,
    "start_time": "2022-12-26T07:30:25.768Z"
   },
   {
    "duration": 193,
    "start_time": "2022-12-26T07:30:25.971Z"
   },
   {
    "duration": 212,
    "start_time": "2022-12-26T07:30:26.166Z"
   },
   {
    "duration": 3,
    "start_time": "2022-12-26T07:30:26.380Z"
   },
   {
    "duration": 123,
    "start_time": "2022-12-26T07:30:26.385Z"
   },
   {
    "duration": 196,
    "start_time": "2022-12-26T07:30:26.510Z"
   },
   {
    "duration": 128,
    "start_time": "2022-12-26T07:30:26.709Z"
   },
   {
    "duration": 5,
    "start_time": "2022-12-26T07:30:26.906Z"
   },
   {
    "duration": 114,
    "start_time": "2022-12-26T07:30:26.913Z"
   },
   {
    "duration": 23,
    "start_time": "2022-12-26T07:30:27.028Z"
   },
   {
    "duration": 20,
    "start_time": "2022-12-26T07:30:27.053Z"
   },
   {
    "duration": 15,
    "start_time": "2022-12-26T07:30:27.075Z"
   },
   {
    "duration": 22,
    "start_time": "2022-12-26T07:30:27.092Z"
   },
   {
    "duration": 3572,
    "start_time": "2022-12-26T07:30:27.115Z"
   },
   {
    "duration": 1376,
    "start_time": "2022-12-26T07:31:41.778Z"
   },
   {
    "duration": 363,
    "start_time": "2022-12-26T07:31:43.156Z"
   },
   {
    "duration": 3,
    "start_time": "2022-12-26T07:31:43.520Z"
   },
   {
    "duration": 199,
    "start_time": "2022-12-26T07:31:43.525Z"
   },
   {
    "duration": 194,
    "start_time": "2022-12-26T07:31:43.726Z"
   },
   {
    "duration": 209,
    "start_time": "2022-12-26T07:31:43.922Z"
   },
   {
    "duration": 2,
    "start_time": "2022-12-26T07:31:44.133Z"
   },
   {
    "duration": 74,
    "start_time": "2022-12-26T07:31:44.137Z"
   },
   {
    "duration": 105,
    "start_time": "2022-12-26T07:31:44.304Z"
   },
   {
    "duration": 194,
    "start_time": "2022-12-26T07:31:44.412Z"
   },
   {
    "duration": 6,
    "start_time": "2022-12-26T07:31:44.608Z"
   },
   {
    "duration": 99,
    "start_time": "2022-12-26T07:31:44.615Z"
   },
   {
    "duration": 17,
    "start_time": "2022-12-26T07:31:44.715Z"
   },
   {
    "duration": 2,
    "start_time": "2022-12-26T07:31:44.734Z"
   },
   {
    "duration": 11,
    "start_time": "2022-12-26T07:31:44.737Z"
   },
   {
    "duration": 19,
    "start_time": "2022-12-26T07:31:44.750Z"
   },
   {
    "duration": 3502,
    "start_time": "2022-12-26T07:31:44.771Z"
   },
   {
    "duration": 1922,
    "start_time": "2022-12-26T08:46:00.357Z"
   },
   {
    "duration": 403,
    "start_time": "2022-12-26T08:46:02.281Z"
   },
   {
    "duration": 2,
    "start_time": "2022-12-26T08:46:02.686Z"
   },
   {
    "duration": 209,
    "start_time": "2022-12-26T08:46:02.690Z"
   },
   {
    "duration": 183,
    "start_time": "2022-12-26T08:46:02.904Z"
   },
   {
    "duration": 207,
    "start_time": "2022-12-26T08:46:03.089Z"
   },
   {
    "duration": 8,
    "start_time": "2022-12-26T08:46:03.297Z"
   },
   {
    "duration": 98,
    "start_time": "2022-12-26T08:46:03.306Z"
   },
   {
    "duration": 210,
    "start_time": "2022-12-26T08:46:03.407Z"
   },
   {
    "duration": 185,
    "start_time": "2022-12-26T08:46:03.621Z"
   },
   {
    "duration": 6,
    "start_time": "2022-12-26T08:46:03.808Z"
   },
   {
    "duration": 13,
    "start_time": "2022-12-26T08:46:03.905Z"
   },
   {
    "duration": 17,
    "start_time": "2022-12-26T08:46:03.919Z"
   },
   {
    "duration": 3,
    "start_time": "2022-12-26T08:46:03.938Z"
   },
   {
    "duration": 8,
    "start_time": "2022-12-26T08:46:03.942Z"
   },
   {
    "duration": 18,
    "start_time": "2022-12-26T08:46:03.952Z"
   },
   {
    "duration": 3634,
    "start_time": "2022-12-26T08:46:03.972Z"
   }
  ],
  "kernelspec": {
   "display_name": "Python 3 (ipykernel)",
   "language": "python",
   "name": "python3"
  },
  "language_info": {
   "codemirror_mode": {
    "name": "ipython",
    "version": 3
   },
   "file_extension": ".py",
   "mimetype": "text/x-python",
   "name": "python",
   "nbconvert_exporter": "python",
   "pygments_lexer": "ipython3",
   "version": "3.10.9"
  },
  "toc": {
   "base_numbering": 1,
   "nav_menu": {},
   "number_sections": true,
   "sideBar": true,
   "skip_h1_title": true,
   "title_cell": "Table of Contents",
   "title_sidebar": "Contents",
   "toc_cell": false,
   "toc_position": {},
   "toc_section_display": true,
   "toc_window_display": false
  }
 },
 "nbformat": 4,
 "nbformat_minor": 2
}
