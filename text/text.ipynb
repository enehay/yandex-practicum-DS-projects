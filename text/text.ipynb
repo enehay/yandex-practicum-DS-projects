{
 "cells": [
  {
   "cell_type": "markdown",
   "metadata": {},
   "source": [
    "# Проект для «Викишоп»"
   ]
  },
  {
   "cell_type": "markdown",
   "metadata": {},
   "source": [
    "Интернет-магазин «Викишоп» запускает новый сервис. Теперь пользователи могут редактировать и дополнять описания товаров, как в вики-сообществах. То есть клиенты предлагают свои правки и комментируют изменения других. Магазину нужен инструмент, который будет искать токсичные комментарии и отправлять их на модерацию. \n",
    "\n",
    "Обучите модель классифицировать комментарии на позитивные и негативные. В вашем распоряжении набор данных с разметкой о токсичности правок, значение метрики качества *F1* не меньше 0.75. \n",
    "\n",
    "**Описание данных**\n",
    "\n",
    "Данные находятся в файле `toxic_comments.csv`. Столбец *text* в нём содержит текст комментария, а *toxic* — целевой признак."
   ]
  },
  {
   "cell_type": "markdown",
   "metadata": {},
   "source": [
    "## Подготовка"
   ]
  },
  {
   "cell_type": "code",
   "execution_count": 1,
   "metadata": {},
   "outputs": [],
   "source": [
    "import pandas as pd\n",
    "import nltk\n",
    "from nltk.stem import WordNetLemmatizer\n",
    "from nltk.corpus import wordnet\n",
    "from tqdm import tqdm\n",
    "import re \n",
    "from nltk.corpus import stopwords as nltk_stopwords\n",
    "from sklearn.linear_model import LogisticRegression\n",
    "from sklearn.feature_extraction.text import TfidfVectorizer\n",
    "from sklearn.metrics import f1_score, confusion_matrix\n",
    "from sklearn.pipeline import Pipeline\n",
    "from sklearn.model_selection import GridSearchCV\n",
    "from sklearn.tree import DecisionTreeClassifier\n",
    "from catboost import CatBoostClassifier\n",
    "from sklearn.model_selection import RandomizedSearchCV\n",
    "from scipy.stats import uniform as sp_randFloat\n",
    "from scipy.stats import randint as sp_randInt \n",
    "from sklearn.model_selection import train_test_split\n",
    "import transformers\n",
    "from sklearn.model_selection import cross_val_score\n"
   ]
  },
  {
   "cell_type": "code",
   "execution_count": 2,
   "metadata": {},
   "outputs": [],
   "source": [
    "try:\n",
    "    data = pd.read_csv('/C:/Users/Lena/Downloads/toxic_comments.csv') \n",
    "except:\n",
    "    data = pd.read_csv('/datasets/toxic_comments.csv')"
   ]
  },
  {
   "cell_type": "code",
   "execution_count": 3,
   "metadata": {},
   "outputs": [
    {
     "name": "stdout",
     "output_type": "stream",
     "text": [
      "\n",
      " Информация о выборке \n",
      "\n"
     ]
    },
    {
     "data": {
      "text/html": [
       "<div>\n",
       "<style scoped>\n",
       "    .dataframe tbody tr th:only-of-type {\n",
       "        vertical-align: middle;\n",
       "    }\n",
       "\n",
       "    .dataframe tbody tr th {\n",
       "        vertical-align: top;\n",
       "    }\n",
       "\n",
       "    .dataframe thead th {\n",
       "        text-align: right;\n",
       "    }\n",
       "</style>\n",
       "<table border=\"1\" class=\"dataframe\">\n",
       "  <thead>\n",
       "    <tr style=\"text-align: right;\">\n",
       "      <th></th>\n",
       "      <th>Unnamed: 0</th>\n",
       "      <th>text</th>\n",
       "      <th>toxic</th>\n",
       "    </tr>\n",
       "  </thead>\n",
       "  <tbody>\n",
       "    <tr>\n",
       "      <th>0</th>\n",
       "      <td>0</td>\n",
       "      <td>Explanation\\nWhy the edits made under my usern...</td>\n",
       "      <td>0</td>\n",
       "    </tr>\n",
       "    <tr>\n",
       "      <th>1</th>\n",
       "      <td>1</td>\n",
       "      <td>D'aww! He matches this background colour I'm s...</td>\n",
       "      <td>0</td>\n",
       "    </tr>\n",
       "    <tr>\n",
       "      <th>2</th>\n",
       "      <td>2</td>\n",
       "      <td>Hey man, I'm really not trying to edit war. It...</td>\n",
       "      <td>0</td>\n",
       "    </tr>\n",
       "    <tr>\n",
       "      <th>3</th>\n",
       "      <td>3</td>\n",
       "      <td>\"\\nMore\\nI can't make any real suggestions on ...</td>\n",
       "      <td>0</td>\n",
       "    </tr>\n",
       "    <tr>\n",
       "      <th>4</th>\n",
       "      <td>4</td>\n",
       "      <td>You, sir, are my hero. Any chance you remember...</td>\n",
       "      <td>0</td>\n",
       "    </tr>\n",
       "  </tbody>\n",
       "</table>\n",
       "</div>"
      ],
      "text/plain": [
       "   Unnamed: 0                                               text  toxic\n",
       "0           0  Explanation\\nWhy the edits made under my usern...      0\n",
       "1           1  D'aww! He matches this background colour I'm s...      0\n",
       "2           2  Hey man, I'm really not trying to edit war. It...      0\n",
       "3           3  \"\\nMore\\nI can't make any real suggestions on ...      0\n",
       "4           4  You, sir, are my hero. Any chance you remember...      0"
      ]
     },
     "metadata": {},
     "output_type": "display_data"
    },
    {
     "name": "stdout",
     "output_type": "stream",
     "text": [
      "\n",
      "\n",
      "<class 'pandas.core.frame.DataFrame'>\n",
      "RangeIndex: 159292 entries, 0 to 159291\n",
      "Data columns (total 3 columns):\n",
      " #   Column      Non-Null Count   Dtype \n",
      "---  ------      --------------   ----- \n",
      " 0   Unnamed: 0  159292 non-null  int64 \n",
      " 1   text        159292 non-null  object\n",
      " 2   toxic       159292 non-null  int64 \n",
      "dtypes: int64(2), object(1)\n",
      "memory usage: 3.6+ MB\n"
     ]
    },
    {
     "data": {
      "text/plain": [
       "None"
      ]
     },
     "metadata": {},
     "output_type": "display_data"
    },
    {
     "name": "stdout",
     "output_type": "stream",
     "text": [
      "\n",
      "\n"
     ]
    },
    {
     "data": {
      "text/html": [
       "<div>\n",
       "<style scoped>\n",
       "    .dataframe tbody tr th:only-of-type {\n",
       "        vertical-align: middle;\n",
       "    }\n",
       "\n",
       "    .dataframe tbody tr th {\n",
       "        vertical-align: top;\n",
       "    }\n",
       "\n",
       "    .dataframe thead th {\n",
       "        text-align: right;\n",
       "    }\n",
       "</style>\n",
       "<table border=\"1\" class=\"dataframe\">\n",
       "  <thead>\n",
       "    <tr style=\"text-align: right;\">\n",
       "      <th></th>\n",
       "      <th>Unnamed: 0</th>\n",
       "      <th>toxic</th>\n",
       "    </tr>\n",
       "  </thead>\n",
       "  <tbody>\n",
       "    <tr>\n",
       "      <th>count</th>\n",
       "      <td>159292.000000</td>\n",
       "      <td>159292.000000</td>\n",
       "    </tr>\n",
       "    <tr>\n",
       "      <th>mean</th>\n",
       "      <td>79725.697242</td>\n",
       "      <td>0.101612</td>\n",
       "    </tr>\n",
       "    <tr>\n",
       "      <th>std</th>\n",
       "      <td>46028.837471</td>\n",
       "      <td>0.302139</td>\n",
       "    </tr>\n",
       "    <tr>\n",
       "      <th>min</th>\n",
       "      <td>0.000000</td>\n",
       "      <td>0.000000</td>\n",
       "    </tr>\n",
       "    <tr>\n",
       "      <th>25%</th>\n",
       "      <td>39872.750000</td>\n",
       "      <td>0.000000</td>\n",
       "    </tr>\n",
       "    <tr>\n",
       "      <th>50%</th>\n",
       "      <td>79721.500000</td>\n",
       "      <td>0.000000</td>\n",
       "    </tr>\n",
       "    <tr>\n",
       "      <th>75%</th>\n",
       "      <td>119573.250000</td>\n",
       "      <td>0.000000</td>\n",
       "    </tr>\n",
       "    <tr>\n",
       "      <th>max</th>\n",
       "      <td>159450.000000</td>\n",
       "      <td>1.000000</td>\n",
       "    </tr>\n",
       "  </tbody>\n",
       "</table>\n",
       "</div>"
      ],
      "text/plain": [
       "          Unnamed: 0          toxic\n",
       "count  159292.000000  159292.000000\n",
       "mean    79725.697242       0.101612\n",
       "std     46028.837471       0.302139\n",
       "min         0.000000       0.000000\n",
       "25%     39872.750000       0.000000\n",
       "50%     79721.500000       0.000000\n",
       "75%    119573.250000       0.000000\n",
       "max    159450.000000       1.000000"
      ]
     },
     "metadata": {},
     "output_type": "display_data"
    },
    {
     "name": "stdout",
     "output_type": "stream",
     "text": [
      "\n",
      "\n",
      "(159292, 3)\n",
      "\n",
      " Явных дубликатов 0\n",
      "\n",
      " Пропусков Unnamed: 0    0\n",
      "text          0\n",
      "toxic         0\n",
      "dtype: int64\n",
      "\n",
      " Пропорции данных целевого признака\n",
      " 0    0.898388\n",
      "1    0.101612\n",
      "Name: toxic, dtype: float64\n"
     ]
    }
   ],
   "source": [
    "print(f\"\\n Информация о выборке \\n\")\n",
    "display(data.head())\n",
    "print(\"\\n\")\n",
    "display(data.info())\n",
    "print(\"\\n\")\n",
    "display(data.describe())\n",
    "print(\"\\n\")\n",
    "print(data.shape)\n",
    "print(f\"\\n Явных дубликатов\", data.duplicated().sum())\n",
    "print(f\"\\n Пропусков\", data.isna().sum())\n",
    "print(f\"\\n Пропорции данных целевого признака\\n\", data['toxic'].value_counts(normalize=True))"
   ]
  },
  {
   "cell_type": "code",
   "execution_count": 4,
   "metadata": {},
   "outputs": [],
   "source": [
    "data = data.drop(['Unnamed: 0'], axis = 1)"
   ]
  },
  {
   "cell_type": "code",
   "execution_count": 5,
   "metadata": {},
   "outputs": [],
   "source": [
    "data['text'] = data['text'].str.lower() # строчной регистр"
   ]
  },
  {
   "cell_type": "code",
   "execution_count": 6,
   "metadata": {},
   "outputs": [
    {
     "name": "stderr",
     "output_type": "stream",
     "text": [
      "[nltk_data] Downloading package averaged_perceptron_tagger to\n",
      "[nltk_data]     /home/jovyan/nltk_data...\n",
      "[nltk_data]   Package averaged_perceptron_tagger is already up-to-\n",
      "[nltk_data]       date!\n"
     ]
    }
   ],
   "source": [
    "# https://webdevblog.ru/podhody-lemmatizacii-s-primerami-v-python/\n",
    "# Лемматизация с POS-тегом - тегирование частей речи (маркировка каждого слова в предложении соответствующей частью речи)\n",
    "\n",
    "def get_wordnet_pos(word):\n",
    "    tag = nltk.pos_tag([word])[0][1][0].upper() # \n",
    "    # словарь, с пом которого назначим каждому слову список потенциальных частей речи\n",
    "    tag_dict = {\"J\": wordnet.ADJ,\n",
    "                \"N\": wordnet.NOUN,\n",
    "                \"V\": wordnet.VERB,\n",
    "                \"R\": wordnet.ADV}\n",
    "\n",
    "    return tag_dict.get(tag, wordnet.NOUN)\n",
    "\n",
    "nltk.download('averaged_perceptron_tagger')\n",
    "\n",
    "lemmatizer = WordNetLemmatizer()\n",
    "\n",
    "def lemm_text(text):\n",
    "    lemm_text = ' '.join([lemmatizer.lemmatize(w, get_wordnet_pos(w)) for w in nltk.word_tokenize(text)])\n",
    "    return lemm_text"
   ]
  },
  {
   "cell_type": "code",
   "execution_count": 7,
   "metadata": {},
   "outputs": [],
   "source": [
    "tqdm.pandas()"
   ]
  },
  {
   "cell_type": "code",
   "execution_count": 8,
   "metadata": {},
   "outputs": [
    {
     "name": "stderr",
     "output_type": "stream",
     "text": [
      "100%|██████████| 159292/159292 [19:33<00:00, 135.77it/s]\n"
     ]
    }
   ],
   "source": [
    "#леммализация\n",
    "data['text'] = data['text'].progress_apply(lemm_text) "
   ]
  },
  {
   "cell_type": "code",
   "execution_count": 9,
   "metadata": {},
   "outputs": [],
   "source": [
    "# оставим в тексте только текстовые символы и проблелы\n",
    "def clear_text(text):\n",
    "    text = re.sub(r'[^a-zA-Z0-9]', ' ', text)\n",
    "    return \" \".join(text.split())"
   ]
  },
  {
   "cell_type": "code",
   "execution_count": 10,
   "metadata": {},
   "outputs": [],
   "source": [
    "data['text'] = data['text'].apply(clear_text) "
   ]
  },
  {
   "cell_type": "code",
   "execution_count": 11,
   "metadata": {},
   "outputs": [
    {
     "data": {
      "text/html": [
       "<div>\n",
       "<style scoped>\n",
       "    .dataframe tbody tr th:only-of-type {\n",
       "        vertical-align: middle;\n",
       "    }\n",
       "\n",
       "    .dataframe tbody tr th {\n",
       "        vertical-align: top;\n",
       "    }\n",
       "\n",
       "    .dataframe thead th {\n",
       "        text-align: right;\n",
       "    }\n",
       "</style>\n",
       "<table border=\"1\" class=\"dataframe\">\n",
       "  <thead>\n",
       "    <tr style=\"text-align: right;\">\n",
       "      <th></th>\n",
       "      <th>text</th>\n",
       "      <th>toxic</th>\n",
       "    </tr>\n",
       "  </thead>\n",
       "  <tbody>\n",
       "    <tr>\n",
       "      <th>0</th>\n",
       "      <td>explanation why the edits make under my userna...</td>\n",
       "      <td>0</td>\n",
       "    </tr>\n",
       "    <tr>\n",
       "      <th>1</th>\n",
       "      <td>d aww he match this background colour i m seem...</td>\n",
       "      <td>0</td>\n",
       "    </tr>\n",
       "    <tr>\n",
       "      <th>2</th>\n",
       "      <td>hey man i m really not try to edit war it s ju...</td>\n",
       "      <td>0</td>\n",
       "    </tr>\n",
       "    <tr>\n",
       "      <th>3</th>\n",
       "      <td>more i ca n t make any real suggestion on impr...</td>\n",
       "      <td>0</td>\n",
       "    </tr>\n",
       "    <tr>\n",
       "      <th>4</th>\n",
       "      <td>you sir be my hero any chance you remember wha...</td>\n",
       "      <td>0</td>\n",
       "    </tr>\n",
       "  </tbody>\n",
       "</table>\n",
       "</div>"
      ],
      "text/plain": [
       "                                                text  toxic\n",
       "0  explanation why the edits make under my userna...      0\n",
       "1  d aww he match this background colour i m seem...      0\n",
       "2  hey man i m really not try to edit war it s ju...      0\n",
       "3  more i ca n t make any real suggestion on impr...      0\n",
       "4  you sir be my hero any chance you remember wha...      0"
      ]
     },
     "metadata": {},
     "output_type": "display_data"
    }
   ],
   "source": [
    "display(data.head())"
   ]
  },
  {
   "cell_type": "code",
   "execution_count": 12,
   "metadata": {},
   "outputs": [
    {
     "name": "stdout",
     "output_type": "stream",
     "text": [
      "<class 'pandas.core.frame.DataFrame'>\n",
      "RangeIndex: 159292 entries, 0 to 159291\n",
      "Data columns (total 2 columns):\n",
      " #   Column  Non-Null Count   Dtype \n",
      "---  ------  --------------   ----- \n",
      " 0   text    159292 non-null  object\n",
      " 1   toxic   159292 non-null  int64 \n",
      "dtypes: int64(1), object(1)\n",
      "memory usage: 2.4+ MB\n"
     ]
    }
   ],
   "source": [
    "data.info()"
   ]
  },
  {
   "cell_type": "code",
   "execution_count": 13,
   "metadata": {},
   "outputs": [
    {
     "name": "stderr",
     "output_type": "stream",
     "text": [
      "[nltk_data] Downloading package stopwords to /home/jovyan/nltk_data...\n",
      "[nltk_data]   Package stopwords is already up-to-date!\n"
     ]
    }
   ],
   "source": [
    "nltk.download('stopwords')\n",
    "stopwords = set(nltk_stopwords.words('english'))\n",
    "count_tf_idf = TfidfVectorizer(stop_words=stopwords)\n"
   ]
  },
  {
   "cell_type": "code",
   "execution_count": 14,
   "metadata": {},
   "outputs": [
    {
     "name": "stdout",
     "output_type": "stream",
     "text": [
      "размер:  (143362, 158945) (15930, 158945) (143362,) (15930,)\n"
     ]
    }
   ],
   "source": [
    "target = data['toxic'].values\n",
    "features = data.drop(['toxic'], axis=1)\n",
    "\n",
    "features_train, features_test, target_train, target_test = train_test_split(features, target, test_size=.1, random_state=12345)\n",
    "features_train = count_tf_idf.fit_transform(features_train['text'].values)\n",
    "features_test = count_tf_idf.transform(features_test['text'].values)\n",
    "print('размер: ',features_train.shape, features_test.shape, target_train.shape, target_test.shape )\n"
   ]
  },
  {
   "cell_type": "markdown",
   "metadata": {},
   "source": [
    "## Обучение"
   ]
  },
  {
   "cell_type": "markdown",
   "metadata": {},
   "source": [
    "### LogisticRegression()"
   ]
  },
  {
   "cell_type": "code",
   "execution_count": 15,
   "metadata": {},
   "outputs": [
    {
     "name": "stderr",
     "output_type": "stream",
     "text": [
      "/opt/conda/lib/python3.9/site-packages/sklearn/linear_model/_logistic.py:763: ConvergenceWarning: lbfgs failed to converge (status=1):\n",
      "STOP: TOTAL NO. of ITERATIONS REACHED LIMIT.\n",
      "\n",
      "Increase the number of iterations (max_iter) or scale the data as shown in:\n",
      "    https://scikit-learn.org/stable/modules/preprocessing.html\n",
      "Please also refer to the documentation for alternative solver options:\n",
      "    https://scikit-learn.org/stable/modules/linear_model.html#logistic-regression\n",
      "  n_iter_i = _check_optimize_result(\n",
      "/opt/conda/lib/python3.9/site-packages/sklearn/linear_model/_logistic.py:763: ConvergenceWarning: lbfgs failed to converge (status=1):\n",
      "STOP: TOTAL NO. of ITERATIONS REACHED LIMIT.\n",
      "\n",
      "Increase the number of iterations (max_iter) or scale the data as shown in:\n",
      "    https://scikit-learn.org/stable/modules/preprocessing.html\n",
      "Please also refer to the documentation for alternative solver options:\n",
      "    https://scikit-learn.org/stable/modules/linear_model.html#logistic-regression\n",
      "  n_iter_i = _check_optimize_result(\n"
     ]
    },
    {
     "name": "stdout",
     "output_type": "stream",
     "text": [
      "F1 для логистической регрессии с помощью кросс-валидации 0.7084849543194324\n",
      "CPU times: user 1min 21s, sys: 1min 35s, total: 2min 57s\n",
      "Wall time: 2min 57s\n"
     ]
    }
   ],
   "source": [
    "%%time\n",
    "model_lr = LogisticRegression(random_state=12345)\n",
    "model_lr.fit(features_train, target_train)\n",
    "f1_lr = cross_val_score(model_lr,features_train, target_train, \n",
    "                         cv = 3, \n",
    "                         scoring = 'f1').mean()\n",
    "print('F1 для логистической регрессии с помощью кросс-валидации', f1_lr)"
   ]
  },
  {
   "cell_type": "code",
   "execution_count": 17,
   "metadata": {},
   "outputs": [
    {
     "name": "stderr",
     "output_type": "stream",
     "text": [
      "/opt/conda/lib/python3.9/site-packages/sklearn/linear_model/_logistic.py:763: ConvergenceWarning: lbfgs failed to converge (status=1):\n",
      "STOP: TOTAL NO. of ITERATIONS REACHED LIMIT.\n",
      "\n",
      "Increase the number of iterations (max_iter) or scale the data as shown in:\n",
      "    https://scikit-learn.org/stable/modules/preprocessing.html\n",
      "Please also refer to the documentation for alternative solver options:\n",
      "    https://scikit-learn.org/stable/modules/linear_model.html#logistic-regression\n",
      "  n_iter_i = _check_optimize_result(\n",
      "/opt/conda/lib/python3.9/site-packages/sklearn/linear_model/_logistic.py:763: ConvergenceWarning: lbfgs failed to converge (status=1):\n",
      "STOP: TOTAL NO. of ITERATIONS REACHED LIMIT.\n",
      "\n",
      "Increase the number of iterations (max_iter) or scale the data as shown in:\n",
      "    https://scikit-learn.org/stable/modules/preprocessing.html\n",
      "Please also refer to the documentation for alternative solver options:\n",
      "    https://scikit-learn.org/stable/modules/linear_model.html#logistic-regression\n",
      "  n_iter_i = _check_optimize_result(\n",
      "/opt/conda/lib/python3.9/site-packages/sklearn/linear_model/_logistic.py:763: ConvergenceWarning: lbfgs failed to converge (status=1):\n",
      "STOP: TOTAL NO. of ITERATIONS REACHED LIMIT.\n",
      "\n",
      "Increase the number of iterations (max_iter) or scale the data as shown in:\n",
      "    https://scikit-learn.org/stable/modules/preprocessing.html\n",
      "Please also refer to the documentation for alternative solver options:\n",
      "    https://scikit-learn.org/stable/modules/linear_model.html#logistic-regression\n",
      "  n_iter_i = _check_optimize_result(\n",
      "/opt/conda/lib/python3.9/site-packages/sklearn/linear_model/_logistic.py:763: ConvergenceWarning: lbfgs failed to converge (status=1):\n",
      "STOP: TOTAL NO. of ITERATIONS REACHED LIMIT.\n",
      "\n",
      "Increase the number of iterations (max_iter) or scale the data as shown in:\n",
      "    https://scikit-learn.org/stable/modules/preprocessing.html\n",
      "Please also refer to the documentation for alternative solver options:\n",
      "    https://scikit-learn.org/stable/modules/linear_model.html#logistic-regression\n",
      "  n_iter_i = _check_optimize_result(\n",
      "/opt/conda/lib/python3.9/site-packages/sklearn/linear_model/_logistic.py:763: ConvergenceWarning: lbfgs failed to converge (status=1):\n",
      "STOP: TOTAL NO. of ITERATIONS REACHED LIMIT.\n",
      "\n",
      "Increase the number of iterations (max_iter) or scale the data as shown in:\n",
      "    https://scikit-learn.org/stable/modules/preprocessing.html\n",
      "Please also refer to the documentation for alternative solver options:\n",
      "    https://scikit-learn.org/stable/modules/linear_model.html#logistic-regression\n",
      "  n_iter_i = _check_optimize_result(\n",
      "/opt/conda/lib/python3.9/site-packages/sklearn/linear_model/_logistic.py:763: ConvergenceWarning: lbfgs failed to converge (status=1):\n",
      "STOP: TOTAL NO. of ITERATIONS REACHED LIMIT.\n",
      "\n",
      "Increase the number of iterations (max_iter) or scale the data as shown in:\n",
      "    https://scikit-learn.org/stable/modules/preprocessing.html\n",
      "Please also refer to the documentation for alternative solver options:\n",
      "    https://scikit-learn.org/stable/modules/linear_model.html#logistic-regression\n",
      "  n_iter_i = _check_optimize_result(\n"
     ]
    },
    {
     "name": "stdout",
     "output_type": "stream",
     "text": [
      "{'clf__C': 10} F1 для логистической регрессии 0.7573672414487199\n",
      "CPU times: user 2min 28s, sys: 2min 54s, total: 5min 22s\n",
      "Wall time: 5min 22s\n"
     ]
    },
    {
     "name": "stderr",
     "output_type": "stream",
     "text": [
      "/opt/conda/lib/python3.9/site-packages/sklearn/linear_model/_logistic.py:763: ConvergenceWarning: lbfgs failed to converge (status=1):\n",
      "STOP: TOTAL NO. of ITERATIONS REACHED LIMIT.\n",
      "\n",
      "Increase the number of iterations (max_iter) or scale the data as shown in:\n",
      "    https://scikit-learn.org/stable/modules/preprocessing.html\n",
      "Please also refer to the documentation for alternative solver options:\n",
      "    https://scikit-learn.org/stable/modules/linear_model.html#logistic-regression\n",
      "  n_iter_i = _check_optimize_result(\n"
     ]
    }
   ],
   "source": [
    "%%time\n",
    "lr_pipeline = Pipeline([ \n",
    "    (\"clf\", LogisticRegression(random_state=12345, class_weight='balanced'))\n",
    "     ])\n",
    "    \n",
    "para_grid = {'clf__C': [5, 10]} \n",
    "\n",
    "grid_ = GridSearchCV(estimator=lr_pipeline, param_grid=para_grid, scoring='f1', cv=3, n_jobs=-1)\n",
    "\n",
    "grid_.fit(features_train, target_train)\n",
    "\n",
    "print(grid_.best_params_, 'F1 для логистической регрессии', grid_.best_score_)\n"
   ]
  },
  {
   "cell_type": "markdown",
   "metadata": {},
   "source": [
    "Не смотря на варнинги, не буду увеличивать количество итераций."
   ]
  },
  {
   "cell_type": "markdown",
   "metadata": {},
   "source": [
    "### Дерево решений"
   ]
  },
  {
   "cell_type": "code",
   "execution_count": 18,
   "metadata": {},
   "outputs": [
    {
     "name": "stdout",
     "output_type": "stream",
     "text": [
      "{'model_3__max_depth': 9} 0.5942222209625517\n",
      "CPU times: user 3min 49s, sys: 1.65 s, total: 3min 51s\n",
      "Wall time: 3min 51s\n"
     ]
    }
   ],
   "source": [
    "%%time\n",
    "model_3 = DecisionTreeClassifier()\n",
    "pipelin_3 = Pipeline(steps=[(\"model_3\", model_3)])\n",
    "param_grid_3 = {\"model_3__max_depth\":range(1,10,1)} \n",
    "search_3 = GridSearchCV(pipelin_3, param_grid_3, scoring = 'f1', cv=3, n_jobs=-1)\n",
    "search_3.fit(features_train, target_train)\n",
    "print(search_3.best_params_, search_3.best_score_)\n"
   ]
  },
  {
   "cell_type": "markdown",
   "metadata": {},
   "source": [
    "### CatBoostClassifier"
   ]
  },
  {
   "cell_type": "code",
   "execution_count": 19,
   "metadata": {},
   "outputs": [
    {
     "name": "stdout",
     "output_type": "stream",
     "text": [
      "0:\tlearn: 0.5535818\ttotal: 1.6s\tremaining: 4.8s\n",
      "1:\tlearn: 0.4634901\ttotal: 2.76s\tremaining: 2.76s\n",
      "2:\tlearn: 0.3984969\ttotal: 4.07s\tremaining: 1.35s\n",
      "3:\tlearn: 0.3524282\ttotal: 5.28s\tremaining: 0us\n",
      "0:\tlearn: 0.5591919\ttotal: 1.53s\tremaining: 4.58s\n",
      "1:\tlearn: 0.4649362\ttotal: 2.78s\tremaining: 2.78s\n",
      "2:\tlearn: 0.4013784\ttotal: 4.05s\tremaining: 1.35s\n",
      "3:\tlearn: 0.3545599\ttotal: 5.34s\tremaining: 0us\n",
      "0:\tlearn: 0.5594747\ttotal: 1.53s\tremaining: 4.59s\n",
      "1:\tlearn: 0.4673014\ttotal: 2.73s\tremaining: 2.73s\n",
      "2:\tlearn: 0.4010165\ttotal: 3.97s\tremaining: 1.32s\n",
      "3:\tlearn: 0.3522806\ttotal: 5.22s\tremaining: 0us\n",
      "0:\tlearn: 0.3475511\ttotal: 1.55s\tremaining: 4.65s\n",
      "1:\tlearn: 0.2660086\ttotal: 2.74s\tremaining: 2.74s\n",
      "2:\tlearn: 0.2376642\ttotal: 3.99s\tremaining: 1.33s\n",
      "3:\tlearn: 0.2244736\ttotal: 5.22s\tremaining: 0us\n",
      "0:\tlearn: 0.3588459\ttotal: 1.53s\tremaining: 4.6s\n",
      "1:\tlearn: 0.2704098\ttotal: 2.78s\tremaining: 2.78s\n",
      "2:\tlearn: 0.2422842\ttotal: 4.01s\tremaining: 1.34s\n",
      "3:\tlearn: 0.2294573\ttotal: 5.26s\tremaining: 0us\n",
      "0:\tlearn: 0.3595945\ttotal: 1.52s\tremaining: 4.55s\n",
      "1:\tlearn: 0.2691414\ttotal: 2.77s\tremaining: 2.77s\n",
      "2:\tlearn: 0.2408070\ttotal: 4s\tremaining: 1.33s\n",
      "3:\tlearn: 0.2276623\ttotal: 5.22s\tremaining: 0us\n",
      "0:\tlearn: 0.4670534\ttotal: 1.55s\tremaining: 3.1s\n",
      "1:\tlearn: 0.3615244\ttotal: 2.73s\tremaining: 1.37s\n",
      "2:\tlearn: 0.3041352\ttotal: 3.97s\tremaining: 0us\n",
      "0:\tlearn: 0.4753489\ttotal: 1.53s\tremaining: 3.07s\n",
      "1:\tlearn: 0.3642851\ttotal: 2.83s\tremaining: 1.41s\n",
      "2:\tlearn: 0.3070017\ttotal: 4.08s\tremaining: 0us\n",
      "0:\tlearn: 0.4760104\ttotal: 1.54s\tremaining: 3.08s\n",
      "1:\tlearn: 0.3663383\ttotal: 2.73s\tremaining: 1.36s\n",
      "2:\tlearn: 0.3084484\ttotal: 3.95s\tremaining: 0us\n",
      "0:\tlearn: 0.5744842\ttotal: 1.53s\tremaining: 4.6s\n",
      "1:\tlearn: 0.4926319\ttotal: 2.69s\tremaining: 2.69s\n",
      "2:\tlearn: 0.4300226\ttotal: 3.93s\tremaining: 1.31s\n",
      "3:\tlearn: 0.3830801\ttotal: 5.16s\tremaining: 0us\n",
      "0:\tlearn: 0.5793879\ttotal: 1.5s\tremaining: 4.51s\n",
      "1:\tlearn: 0.4945029\ttotal: 2.72s\tremaining: 2.72s\n",
      "2:\tlearn: 0.4330900\ttotal: 3.99s\tremaining: 1.33s\n",
      "3:\tlearn: 0.3842275\ttotal: 5.26s\tremaining: 0us\n",
      "0:\tlearn: 0.5797427\ttotal: 1.5s\tremaining: 4.51s\n",
      "1:\tlearn: 0.4979979\ttotal: 2.64s\tremaining: 2.64s\n",
      "2:\tlearn: 0.4349970\ttotal: 3.84s\tremaining: 1.28s\n",
      "3:\tlearn: 0.3858483\ttotal: 5.08s\tremaining: 0us\n",
      "0:\tlearn: 0.4255696\ttotal: 1.05s\tremaining: 0us\n",
      "0:\tlearn: 0.4296928\ttotal: 1.13s\tremaining: 0us\n",
      "0:\tlearn: 0.4301643\ttotal: 1.06s\tremaining: 0us\n",
      "0:\tlearn: 0.3574813\ttotal: 2.13s\tremaining: 6.38s\n",
      "1:\tlearn: 0.2686786\ttotal: 3.94s\tremaining: 3.94s\n",
      "2:\tlearn: 0.2404078\ttotal: 5.7s\tremaining: 1.9s\n",
      "3:\tlearn: 0.2241995\ttotal: 7.49s\tremaining: 0us\n",
      "\n",
      " f1 0.5273409979337683\n",
      "\n",
      " параметры\n",
      " {'depth': 5, 'iterations': 4, 'learning_rate': 0.4433242958893948}\n",
      "CPU times: user 7min 38s, sys: 7.45 s, total: 7min 45s\n",
      "Wall time: 7min 52s\n"
     ]
    }
   ],
   "source": [
    "%%time\n",
    "\n",
    "model_1 = CatBoostClassifier()\n",
    "parameters = {'depth' : sp_randInt(4, 6),\n",
    "                  'learning_rate' : sp_randFloat(.03, .5),\n",
    "                  'iterations'    : sp_randInt(1,5)\n",
    "                 }\n",
    "    \n",
    "randm = RandomizedSearchCV(estimator=model_1, param_distributions = parameters, \n",
    "                               cv = 3, scoring = 'f1', n_iter = 5)\n",
    "randm.fit(features_train, target_train)\n",
    "print(\"\\n f1\",randm.best_score_)\n",
    "print(\"\\n параметры\\n\", randm.best_params_)\n",
    "\n",
    "\n",
    "# parameters = {'learning_rate': (.03, .1),\n",
    "#         'depth': (4, 6, 10),\n",
    "#         'iterations': (1, 10,5)}\n",
    "\n",
    "# random = RandomizedSearchCV()\n",
    "\n",
    "# grid_search_result = model_1.GridSearchCV(params,\n",
    "#                                        X=features_train,\n",
    "#                                        y=target_train,\n",
    "#                                        cv=3,\n",
    "#                                        plot=False)\n",
    "\n",
    "# print(\"\\nBest Params : \", max(grid_search_result.cv_results_['mean_test_score'])"
   ]
  },
  {
   "cell_type": "markdown",
   "metadata": {},
   "source": [
    "## Выводы"
   ]
  },
  {
   "cell_type": "markdown",
   "metadata": {},
   "source": [
    "На тестовой выборке лучший показатель F1-метрики у модели Логистической регрессии, значит, она точнее, поэтому тестировать буду эту модель."
   ]
  },
  {
   "cell_type": "code",
   "execution_count": 21,
   "metadata": {},
   "outputs": [
    {
     "name": "stdout",
     "output_type": "stream",
     "text": [
      "F1 0.7789766794291679\n",
      "\n",
      " Матрица ошибок\n",
      "[[14176   142]\n",
      " [  493  1119]]\n",
      "CPU times: user 22.7 s, sys: 26.6 s, total: 49.3 s\n",
      "Wall time: 49.4 s\n"
     ]
    },
    {
     "name": "stderr",
     "output_type": "stream",
     "text": [
      "/opt/conda/lib/python3.9/site-packages/sklearn/linear_model/_logistic.py:763: ConvergenceWarning: lbfgs failed to converge (status=1):\n",
      "STOP: TOTAL NO. of ITERATIONS REACHED LIMIT.\n",
      "\n",
      "Increase the number of iterations (max_iter) or scale the data as shown in:\n",
      "    https://scikit-learn.org/stable/modules/preprocessing.html\n",
      "Please also refer to the documentation for alternative solver options:\n",
      "    https://scikit-learn.org/stable/modules/linear_model.html#logistic-regression\n",
      "  n_iter_i = _check_optimize_result(\n"
     ]
    }
   ],
   "source": [
    "%%time\n",
    "model_lr = LogisticRegression(random_state=12345, C = 10)\n",
    "model_lr.fit(features_train, target_train)\n",
    "prediction = model_lr.predict(features_test)\n",
    "print('F1', f1_score(target_test, prediction))\n",
    "print(f'\\n Матрица ошибок')\n",
    "print(confusion_matrix(target_test, prediction))"
   ]
  },
  {
   "cell_type": "markdown",
   "metadata": {},
   "source": [
    "Логистическая модель протестирована на тестовой выборке, достигнуто требуемое значение метрики F1."
   ]
  }
 ],
 "metadata": {
  "ExecuteTimeLog": [
   {
    "duration": 1882,
    "start_time": "2023-03-08T05:35:57.049Z"
   },
   {
    "duration": 2288,
    "start_time": "2023-03-08T05:58:28.597Z"
   },
   {
    "duration": 306,
    "start_time": "2023-03-08T06:01:39.416Z"
   },
   {
    "duration": 278,
    "start_time": "2023-03-08T06:03:09.935Z"
   },
   {
    "duration": 277,
    "start_time": "2023-03-08T06:05:08.417Z"
   },
   {
    "duration": 15,
    "start_time": "2023-03-08T06:06:33.006Z"
   },
   {
    "duration": 3,
    "start_time": "2023-03-08T06:10:49.389Z"
   },
   {
    "duration": 477,
    "start_time": "2023-03-08T06:26:30.646Z"
   },
   {
    "duration": 2371,
    "start_time": "2023-03-08T06:32:44.396Z"
   },
   {
    "duration": 829,
    "start_time": "2023-03-08T06:32:46.769Z"
   },
   {
    "duration": 357,
    "start_time": "2023-03-08T06:32:47.600Z"
   },
   {
    "duration": 22,
    "start_time": "2023-03-08T06:32:47.958Z"
   },
   {
    "duration": 7,
    "start_time": "2023-03-08T06:32:47.983Z"
   },
   {
    "duration": 4439,
    "start_time": "2023-03-08T07:21:20.744Z"
   },
   {
    "duration": 766,
    "start_time": "2023-03-08T07:21:25.185Z"
   },
   {
    "duration": 382,
    "start_time": "2023-03-08T07:21:25.953Z"
   },
   {
    "duration": 16,
    "start_time": "2023-03-08T07:21:26.337Z"
   },
   {
    "duration": 9,
    "start_time": "2023-03-08T07:21:26.355Z"
   },
   {
    "duration": 979,
    "start_time": "2023-03-08T07:21:26.366Z"
   },
   {
    "duration": 0,
    "start_time": "2023-03-08T07:21:27.347Z"
   },
   {
    "duration": 0,
    "start_time": "2023-03-08T07:21:27.349Z"
   },
   {
    "duration": 4,
    "start_time": "2023-03-08T07:21:33.931Z"
   },
   {
    "duration": 820,
    "start_time": "2023-03-08T07:21:33.936Z"
   },
   {
    "duration": 341,
    "start_time": "2023-03-08T07:21:34.758Z"
   },
   {
    "duration": 16,
    "start_time": "2023-03-08T07:21:35.101Z"
   },
   {
    "duration": 4,
    "start_time": "2023-03-08T07:21:35.131Z"
   },
   {
    "duration": 724,
    "start_time": "2023-03-08T07:21:35.138Z"
   },
   {
    "duration": 0,
    "start_time": "2023-03-08T07:21:35.865Z"
   },
   {
    "duration": 0,
    "start_time": "2023-03-08T07:21:35.866Z"
   },
   {
    "duration": 4,
    "start_time": "2023-03-08T07:25:08.493Z"
   },
   {
    "duration": 4,
    "start_time": "2023-03-08T07:25:16.524Z"
   },
   {
    "duration": 750,
    "start_time": "2023-03-08T07:25:20.216Z"
   },
   {
    "duration": 4,
    "start_time": "2023-03-08T07:26:55.363Z"
   },
   {
    "duration": 718,
    "start_time": "2023-03-08T07:26:58.749Z"
   },
   {
    "duration": 3,
    "start_time": "2023-03-08T07:27:28.099Z"
   },
   {
    "duration": 726,
    "start_time": "2023-03-08T07:27:31.428Z"
   },
   {
    "duration": 3,
    "start_time": "2023-03-08T07:40:58.010Z"
   },
   {
    "duration": 5,
    "start_time": "2023-03-08T07:54:12.092Z"
   },
   {
    "duration": 807,
    "start_time": "2023-03-08T07:54:12.100Z"
   },
   {
    "duration": 365,
    "start_time": "2023-03-08T07:54:12.909Z"
   },
   {
    "duration": 22,
    "start_time": "2023-03-08T07:54:13.276Z"
   },
   {
    "duration": 7,
    "start_time": "2023-03-08T07:54:13.301Z"
   },
   {
    "duration": 39,
    "start_time": "2023-03-08T07:54:13.310Z"
   },
   {
    "duration": 1,
    "start_time": "2023-03-08T07:54:13.350Z"
   },
   {
    "duration": 0,
    "start_time": "2023-03-08T07:54:13.352Z"
   },
   {
    "duration": 0,
    "start_time": "2023-03-08T07:54:13.354Z"
   },
   {
    "duration": 6,
    "start_time": "2023-03-08T07:56:04.853Z"
   },
   {
    "duration": 6,
    "start_time": "2023-03-08T07:56:09.630Z"
   },
   {
    "duration": 323,
    "start_time": "2023-03-08T07:56:13.205Z"
   },
   {
    "duration": 5,
    "start_time": "2023-03-08T07:57:51.889Z"
   },
   {
    "duration": 349,
    "start_time": "2023-03-08T07:57:54.222Z"
   },
   {
    "duration": 4866,
    "start_time": "2023-03-08T08:04:44.158Z"
   },
   {
    "duration": 2282,
    "start_time": "2023-03-08T08:04:49.026Z"
   },
   {
    "duration": 371,
    "start_time": "2023-03-08T08:04:51.310Z"
   },
   {
    "duration": 16,
    "start_time": "2023-03-08T08:04:51.682Z"
   },
   {
    "duration": 44,
    "start_time": "2023-03-08T08:05:27.351Z"
   },
   {
    "duration": 4774,
    "start_time": "2023-03-08T08:05:36.354Z"
   },
   {
    "duration": 2227,
    "start_time": "2023-03-08T08:05:41.132Z"
   },
   {
    "duration": 379,
    "start_time": "2023-03-08T08:05:43.361Z"
   },
   {
    "duration": 19,
    "start_time": "2023-03-08T08:05:43.743Z"
   },
   {
    "duration": 331,
    "start_time": "2023-03-08T08:05:43.765Z"
   },
   {
    "duration": 3,
    "start_time": "2023-03-08T08:05:44.098Z"
   },
   {
    "duration": 14,
    "start_time": "2023-03-08T08:05:44.102Z"
   },
   {
    "duration": 686,
    "start_time": "2023-03-08T08:05:44.119Z"
   },
   {
    "duration": 0,
    "start_time": "2023-03-08T08:05:44.807Z"
   },
   {
    "duration": 0,
    "start_time": "2023-03-08T08:05:44.809Z"
   },
   {
    "duration": 5319,
    "start_time": "2023-03-08T08:16:13.352Z"
   },
   {
    "duration": 870,
    "start_time": "2023-03-08T08:16:18.674Z"
   },
   {
    "duration": 379,
    "start_time": "2023-03-08T08:16:19.550Z"
   },
   {
    "duration": 30,
    "start_time": "2023-03-08T08:16:19.930Z"
   },
   {
    "duration": 320,
    "start_time": "2023-03-08T08:16:19.966Z"
   },
   {
    "duration": 2,
    "start_time": "2023-03-08T08:16:20.288Z"
   },
   {
    "duration": 14,
    "start_time": "2023-03-08T08:16:20.292Z"
   },
   {
    "duration": 785,
    "start_time": "2023-03-08T08:16:20.308Z"
   },
   {
    "duration": 0,
    "start_time": "2023-03-08T08:16:21.095Z"
   },
   {
    "duration": 0,
    "start_time": "2023-03-08T08:16:21.096Z"
   },
   {
    "duration": 63,
    "start_time": "2023-03-08T08:16:57.653Z"
   },
   {
    "duration": 5,
    "start_time": "2023-03-08T08:17:09.211Z"
   },
   {
    "duration": 671,
    "start_time": "2023-03-08T08:17:18.959Z"
   },
   {
    "duration": 427,
    "start_time": "2023-03-08T08:17:22.743Z"
   },
   {
    "duration": 6,
    "start_time": "2023-03-08T08:19:11.463Z"
   },
   {
    "duration": 14,
    "start_time": "2023-03-08T08:19:16.160Z"
   },
   {
    "duration": 29973,
    "start_time": "2023-03-08T08:19:18.288Z"
   },
   {
    "duration": 4915,
    "start_time": "2023-03-08T08:19:59.004Z"
   },
   {
    "duration": 823,
    "start_time": "2023-03-08T08:20:03.921Z"
   },
   {
    "duration": 346,
    "start_time": "2023-03-08T08:20:04.752Z"
   },
   {
    "duration": 14,
    "start_time": "2023-03-08T08:20:05.100Z"
   },
   {
    "duration": 343,
    "start_time": "2023-03-08T08:20:05.117Z"
   },
   {
    "duration": 2,
    "start_time": "2023-03-08T08:20:05.462Z"
   },
   {
    "duration": 204,
    "start_time": "2023-03-08T08:20:05.465Z"
   },
   {
    "duration": 1331187,
    "start_time": "2023-03-08T08:20:05.671Z"
   },
   {
    "duration": 3,
    "start_time": "2023-03-08T08:42:16.861Z"
   },
   {
    "duration": 4163,
    "start_time": "2023-03-08T08:42:16.865Z"
   },
   {
    "duration": 7,
    "start_time": "2023-03-08T09:09:27.771Z"
   },
   {
    "duration": 5,
    "start_time": "2023-03-08T09:09:34.989Z"
   },
   {
    "duration": 800,
    "start_time": "2023-03-08T09:09:34.996Z"
   },
   {
    "duration": 385,
    "start_time": "2023-03-08T09:09:35.800Z"
   },
   {
    "duration": 16,
    "start_time": "2023-03-08T09:09:36.187Z"
   },
   {
    "duration": 6,
    "start_time": "2023-03-08T09:09:36.205Z"
   },
   {
    "duration": 5,
    "start_time": "2023-03-08T09:09:36.212Z"
   },
   {
    "duration": 17,
    "start_time": "2023-03-08T09:09:36.219Z"
   },
   {
    "duration": 7197,
    "start_time": "2023-03-08T09:34:16.052Z"
   },
   {
    "duration": 839,
    "start_time": "2023-03-08T09:34:23.251Z"
   },
   {
    "duration": 333,
    "start_time": "2023-03-08T09:34:24.092Z"
   },
   {
    "duration": 20,
    "start_time": "2023-03-08T09:34:24.426Z"
   },
   {
    "duration": 5,
    "start_time": "2023-03-08T09:34:24.449Z"
   },
   {
    "duration": 5,
    "start_time": "2023-03-08T09:34:24.456Z"
   },
   {
    "duration": 232,
    "start_time": "2023-03-08T09:34:24.463Z"
   },
   {
    "duration": 4375,
    "start_time": "2023-03-08T09:51:36.842Z"
   },
   {
    "duration": 749,
    "start_time": "2023-03-08T09:51:41.219Z"
   },
   {
    "duration": 366,
    "start_time": "2023-03-08T09:51:41.970Z"
   },
   {
    "duration": 15,
    "start_time": "2023-03-08T09:51:42.338Z"
   },
   {
    "duration": 10,
    "start_time": "2023-03-08T09:51:42.355Z"
   },
   {
    "duration": 5,
    "start_time": "2023-03-08T09:51:42.367Z"
   },
   {
    "duration": 142,
    "start_time": "2023-03-08T09:51:42.373Z"
   },
   {
    "duration": 2785,
    "start_time": "2023-03-08T10:13:31.688Z"
   },
   {
    "duration": 0,
    "start_time": "2023-03-08T10:13:34.475Z"
   },
   {
    "duration": 0,
    "start_time": "2023-03-08T10:13:34.476Z"
   },
   {
    "duration": 0,
    "start_time": "2023-03-08T10:13:34.478Z"
   },
   {
    "duration": 0,
    "start_time": "2023-03-08T10:13:34.479Z"
   },
   {
    "duration": 0,
    "start_time": "2023-03-08T10:13:34.481Z"
   },
   {
    "duration": 0,
    "start_time": "2023-03-08T10:13:34.482Z"
   },
   {
    "duration": 0,
    "start_time": "2023-03-08T10:13:34.483Z"
   },
   {
    "duration": 0,
    "start_time": "2023-03-08T10:13:34.484Z"
   },
   {
    "duration": 0,
    "start_time": "2023-03-08T10:13:34.486Z"
   },
   {
    "duration": 0,
    "start_time": "2023-03-08T10:13:34.487Z"
   },
   {
    "duration": 1,
    "start_time": "2023-03-08T10:13:34.488Z"
   },
   {
    "duration": 0,
    "start_time": "2023-03-08T10:13:34.490Z"
   },
   {
    "duration": 0,
    "start_time": "2023-03-08T10:13:34.492Z"
   },
   {
    "duration": 0,
    "start_time": "2023-03-08T10:13:34.493Z"
   },
   {
    "duration": 0,
    "start_time": "2023-03-08T10:13:34.495Z"
   },
   {
    "duration": 0,
    "start_time": "2023-03-08T10:13:34.496Z"
   },
   {
    "duration": 0,
    "start_time": "2023-03-08T10:13:34.532Z"
   },
   {
    "duration": 0,
    "start_time": "2023-03-08T10:13:34.534Z"
   },
   {
    "duration": 0,
    "start_time": "2023-03-08T10:13:34.535Z"
   },
   {
    "duration": 3378,
    "start_time": "2023-03-08T10:15:15.408Z"
   },
   {
    "duration": 906,
    "start_time": "2023-03-08T10:15:18.788Z"
   },
   {
    "duration": 425,
    "start_time": "2023-03-08T10:15:19.696Z"
   },
   {
    "duration": 20,
    "start_time": "2023-03-08T10:15:20.124Z"
   },
   {
    "duration": 8,
    "start_time": "2023-03-08T10:15:20.146Z"
   },
   {
    "duration": 6,
    "start_time": "2023-03-08T10:15:20.156Z"
   },
   {
    "duration": 259,
    "start_time": "2023-03-08T10:15:20.164Z"
   },
   {
    "duration": 7776,
    "start_time": "2023-03-08T10:43:36.207Z"
   },
   {
    "duration": 2212,
    "start_time": "2023-03-08T10:43:43.985Z"
   },
   {
    "duration": 342,
    "start_time": "2023-03-08T10:43:46.199Z"
   },
   {
    "duration": 15,
    "start_time": "2023-03-08T10:43:46.543Z"
   },
   {
    "duration": 16,
    "start_time": "2023-03-08T10:43:46.560Z"
   },
   {
    "duration": 7,
    "start_time": "2023-03-08T10:43:46.577Z"
   },
   {
    "duration": 157,
    "start_time": "2023-03-08T10:43:46.585Z"
   },
   {
    "duration": 6079,
    "start_time": "2023-03-08T11:21:45.959Z"
   },
   {
    "duration": 2099,
    "start_time": "2023-03-08T11:21:52.039Z"
   },
   {
    "duration": 316,
    "start_time": "2023-03-08T11:21:54.140Z"
   },
   {
    "duration": 15,
    "start_time": "2023-03-08T11:21:54.457Z"
   },
   {
    "duration": 13,
    "start_time": "2023-03-08T11:21:54.473Z"
   },
   {
    "duration": 4,
    "start_time": "2023-03-08T11:21:54.488Z"
   },
   {
    "duration": 230,
    "start_time": "2023-03-08T11:21:54.494Z"
   },
   {
    "duration": 4400,
    "start_time": "2023-03-08T11:32:57.433Z"
   },
   {
    "duration": 797,
    "start_time": "2023-03-08T11:33:01.835Z"
   },
   {
    "duration": 374,
    "start_time": "2023-03-08T11:33:02.633Z"
   },
   {
    "duration": 22,
    "start_time": "2023-03-08T11:33:03.009Z"
   },
   {
    "duration": 12,
    "start_time": "2023-03-08T11:33:03.033Z"
   },
   {
    "duration": 12,
    "start_time": "2023-03-08T11:33:03.046Z"
   },
   {
    "duration": 156,
    "start_time": "2023-03-08T11:33:03.059Z"
   },
   {
    "duration": 4454,
    "start_time": "2023-03-08T11:36:45.367Z"
   },
   {
    "duration": 734,
    "start_time": "2023-03-08T11:36:49.824Z"
   },
   {
    "duration": 338,
    "start_time": "2023-03-08T11:36:50.560Z"
   },
   {
    "duration": 16,
    "start_time": "2023-03-08T11:36:50.900Z"
   },
   {
    "duration": 14,
    "start_time": "2023-03-08T11:36:50.918Z"
   },
   {
    "duration": 5,
    "start_time": "2023-03-08T11:36:50.934Z"
   },
   {
    "duration": 222,
    "start_time": "2023-03-08T11:36:50.940Z"
   },
   {
    "duration": 4436,
    "start_time": "2023-03-08T12:59:17.495Z"
   },
   {
    "duration": 2148,
    "start_time": "2023-03-08T12:59:21.933Z"
   },
   {
    "duration": 339,
    "start_time": "2023-03-08T12:59:24.083Z"
   },
   {
    "duration": 21,
    "start_time": "2023-03-08T12:59:24.424Z"
   },
   {
    "duration": 10,
    "start_time": "2023-03-08T12:59:24.448Z"
   },
   {
    "duration": 6,
    "start_time": "2023-03-08T12:59:24.459Z"
   },
   {
    "duration": 220,
    "start_time": "2023-03-08T12:59:24.467Z"
   },
   {
    "duration": 4525,
    "start_time": "2023-03-08T13:20:37.154Z"
   },
   {
    "duration": 2158,
    "start_time": "2023-03-08T13:20:41.681Z"
   },
   {
    "duration": 325,
    "start_time": "2023-03-08T13:20:43.841Z"
   },
   {
    "duration": 16,
    "start_time": "2023-03-08T13:20:44.168Z"
   },
   {
    "duration": 25,
    "start_time": "2023-03-08T13:20:44.186Z"
   },
   {
    "duration": 19,
    "start_time": "2023-03-08T13:20:44.213Z"
   },
   {
    "duration": 188,
    "start_time": "2023-03-08T13:20:44.234Z"
   },
   {
    "duration": 4537,
    "start_time": "2023-03-08T13:28:28.506Z"
   },
   {
    "duration": 750,
    "start_time": "2023-03-08T13:28:33.045Z"
   },
   {
    "duration": 368,
    "start_time": "2023-03-08T13:28:33.797Z"
   },
   {
    "duration": 16,
    "start_time": "2023-03-08T13:28:34.167Z"
   },
   {
    "duration": 37,
    "start_time": "2023-03-08T13:28:34.185Z"
   },
   {
    "duration": 7,
    "start_time": "2023-03-08T13:28:34.224Z"
   },
   {
    "duration": 148,
    "start_time": "2023-03-08T13:28:34.233Z"
   },
   {
    "duration": 4700,
    "start_time": "2023-03-08T13:38:48.215Z"
   },
   {
    "duration": 731,
    "start_time": "2023-03-08T13:38:52.916Z"
   },
   {
    "duration": 336,
    "start_time": "2023-03-08T13:38:53.648Z"
   },
   {
    "duration": 15,
    "start_time": "2023-03-08T13:38:53.986Z"
   },
   {
    "duration": 5,
    "start_time": "2023-03-08T13:38:54.004Z"
   },
   {
    "duration": 21,
    "start_time": "2023-03-08T13:38:54.010Z"
   },
   {
    "duration": 211,
    "start_time": "2023-03-08T13:38:54.032Z"
   },
   {
    "duration": 4515,
    "start_time": "2023-03-08T13:42:44.450Z"
   },
   {
    "duration": 2153,
    "start_time": "2023-03-08T13:42:48.967Z"
   },
   {
    "duration": 382,
    "start_time": "2023-03-08T13:42:51.121Z"
   },
   {
    "duration": 17,
    "start_time": "2023-03-08T13:42:51.505Z"
   },
   {
    "duration": 15,
    "start_time": "2023-03-08T13:42:51.525Z"
   },
   {
    "duration": 5,
    "start_time": "2023-03-08T13:42:51.542Z"
   },
   {
    "duration": 191,
    "start_time": "2023-03-08T13:42:51.549Z"
   },
   {
    "duration": 125158,
    "start_time": "2023-03-08T13:42:51.742Z"
   },
   {
    "duration": 4,
    "start_time": "2023-03-08T13:44:56.902Z"
   },
   {
    "duration": 3447,
    "start_time": "2023-03-08T13:44:56.907Z"
   },
   {
    "duration": 7,
    "start_time": "2023-03-08T13:45:00.356Z"
   },
   {
    "duration": 50,
    "start_time": "2023-03-08T13:45:00.365Z"
   },
   {
    "duration": 1871,
    "start_time": "2023-03-08T13:45:00.417Z"
   },
   {
    "duration": 4523,
    "start_time": "2023-03-08T13:45:45.414Z"
   },
   {
    "duration": 2178,
    "start_time": "2023-03-08T13:45:49.939Z"
   },
   {
    "duration": 330,
    "start_time": "2023-03-08T13:45:52.118Z"
   },
   {
    "duration": 14,
    "start_time": "2023-03-08T13:45:52.450Z"
   },
   {
    "duration": 10,
    "start_time": "2023-03-08T13:45:52.466Z"
   },
   {
    "duration": 14,
    "start_time": "2023-03-08T13:45:52.478Z"
   },
   {
    "duration": 6,
    "start_time": "2023-03-08T13:45:52.493Z"
   },
   {
    "duration": 3677,
    "start_time": "2023-03-08T13:45:52.501Z"
   },
   {
    "duration": 180,
    "start_time": "2023-03-08T13:45:56.180Z"
   },
   {
    "duration": 4856,
    "start_time": "2023-03-08T13:57:07.277Z"
   },
   {
    "duration": 716,
    "start_time": "2023-03-08T13:57:12.136Z"
   },
   {
    "duration": 388,
    "start_time": "2023-03-08T13:57:12.853Z"
   },
   {
    "duration": 21,
    "start_time": "2023-03-08T13:57:13.244Z"
   },
   {
    "duration": 35,
    "start_time": "2023-03-08T13:57:13.267Z"
   },
   {
    "duration": 25,
    "start_time": "2023-03-08T13:57:13.304Z"
   },
   {
    "duration": 28,
    "start_time": "2023-03-08T13:57:13.330Z"
   },
   {
    "duration": 3977,
    "start_time": "2023-03-08T13:57:13.360Z"
   },
   {
    "duration": 166,
    "start_time": "2023-03-08T13:57:17.340Z"
   },
   {
    "duration": 3,
    "start_time": "2023-03-08T13:57:17.508Z"
   },
   {
    "duration": 4788,
    "start_time": "2023-03-08T13:59:47.826Z"
   },
   {
    "duration": 838,
    "start_time": "2023-03-08T13:59:52.616Z"
   },
   {
    "duration": 378,
    "start_time": "2023-03-08T13:59:53.456Z"
   },
   {
    "duration": 23,
    "start_time": "2023-03-08T13:59:53.837Z"
   },
   {
    "duration": 6,
    "start_time": "2023-03-08T13:59:53.861Z"
   },
   {
    "duration": 6,
    "start_time": "2023-03-08T13:59:53.868Z"
   },
   {
    "duration": 220,
    "start_time": "2023-03-08T13:59:53.875Z"
   },
   {
    "duration": 3,
    "start_time": "2023-03-08T13:59:54.096Z"
   },
   {
    "duration": 1378417,
    "start_time": "2023-03-08T13:59:54.101Z"
   },
   {
    "duration": 11,
    "start_time": "2023-03-08T14:22:52.522Z"
   },
   {
    "duration": 4363,
    "start_time": "2023-03-08T14:22:52.536Z"
   },
   {
    "duration": 12,
    "start_time": "2023-03-08T14:22:56.901Z"
   },
   {
    "duration": 53,
    "start_time": "2023-03-08T14:22:56.914Z"
   },
   {
    "duration": 2111,
    "start_time": "2023-03-08T14:22:56.969Z"
   },
   {
    "duration": 7609,
    "start_time": "2023-03-08T14:27:29.495Z"
   },
   {
    "duration": 2448,
    "start_time": "2023-03-08T14:27:37.106Z"
   },
   {
    "duration": 382,
    "start_time": "2023-03-08T14:27:39.556Z"
   },
   {
    "duration": 26,
    "start_time": "2023-03-08T14:27:39.949Z"
   },
   {
    "duration": 33,
    "start_time": "2023-03-08T14:27:39.978Z"
   },
   {
    "duration": 10,
    "start_time": "2023-03-08T14:27:40.014Z"
   },
   {
    "duration": 216,
    "start_time": "2023-03-08T14:27:40.026Z"
   },
   {
    "duration": 4,
    "start_time": "2023-03-08T14:27:40.244Z"
   },
   {
    "duration": 1239529,
    "start_time": "2023-03-08T14:27:40.250Z"
   },
   {
    "duration": 2,
    "start_time": "2023-03-08T14:48:19.782Z"
   },
   {
    "duration": 3739,
    "start_time": "2023-03-08T14:48:19.786Z"
   },
   {
    "duration": 7,
    "start_time": "2023-03-08T14:48:23.527Z"
   },
   {
    "duration": 55,
    "start_time": "2023-03-08T14:48:23.535Z"
   },
   {
    "duration": 11,
    "start_time": "2023-03-08T14:48:23.592Z"
   },
   {
    "duration": 320,
    "start_time": "2023-03-08T14:48:23.605Z"
   },
   {
    "duration": 0,
    "start_time": "2023-03-08T14:48:23.926Z"
   },
   {
    "duration": 0,
    "start_time": "2023-03-08T14:48:23.931Z"
   },
   {
    "duration": 0,
    "start_time": "2023-03-08T14:48:23.932Z"
   },
   {
    "duration": 0,
    "start_time": "2023-03-08T14:48:23.933Z"
   },
   {
    "duration": 0,
    "start_time": "2023-03-08T14:48:23.934Z"
   },
   {
    "duration": 1816,
    "start_time": "2023-03-08T14:50:12.254Z"
   },
   {
    "duration": 45,
    "start_time": "2023-03-08T14:50:30.374Z"
   },
   {
    "duration": 6073,
    "start_time": "2023-03-08T14:50:44.037Z"
   },
   {
    "duration": 2235,
    "start_time": "2023-03-08T14:50:50.112Z"
   },
   {
    "duration": 335,
    "start_time": "2023-03-08T14:50:52.349Z"
   },
   {
    "duration": 14,
    "start_time": "2023-03-08T14:50:52.687Z"
   },
   {
    "duration": 4,
    "start_time": "2023-03-08T14:50:52.704Z"
   },
   {
    "duration": 5,
    "start_time": "2023-03-08T14:50:52.710Z"
   },
   {
    "duration": 219,
    "start_time": "2023-03-08T14:50:52.730Z"
   },
   {
    "duration": 2,
    "start_time": "2023-03-08T14:50:52.951Z"
   },
   {
    "duration": 1322726,
    "start_time": "2023-03-08T14:50:52.955Z"
   },
   {
    "duration": 3,
    "start_time": "2023-03-08T15:12:55.683Z"
   },
   {
    "duration": 4063,
    "start_time": "2023-03-08T15:12:55.687Z"
   },
   {
    "duration": 8,
    "start_time": "2023-03-08T15:12:59.753Z"
   },
   {
    "duration": 40,
    "start_time": "2023-03-08T15:12:59.763Z"
   },
   {
    "duration": 26,
    "start_time": "2023-03-08T15:12:59.808Z"
   },
   {
    "duration": 381,
    "start_time": "2023-03-08T15:12:59.836Z"
   },
   {
    "duration": 0,
    "start_time": "2023-03-08T15:13:00.219Z"
   },
   {
    "duration": 0,
    "start_time": "2023-03-08T15:13:00.221Z"
   },
   {
    "duration": 0,
    "start_time": "2023-03-08T15:13:00.232Z"
   },
   {
    "duration": 0,
    "start_time": "2023-03-08T15:13:00.234Z"
   },
   {
    "duration": 0,
    "start_time": "2023-03-08T15:13:00.237Z"
   },
   {
    "duration": 50,
    "start_time": "2023-03-08T15:15:53.050Z"
   },
   {
    "duration": 20,
    "start_time": "2023-03-08T15:15:59.264Z"
   },
   {
    "duration": 4,
    "start_time": "2023-03-08T15:16:18.328Z"
   },
   {
    "duration": 37,
    "start_time": "2023-03-08T15:16:25.919Z"
   },
   {
    "duration": 4,
    "start_time": "2023-03-08T15:17:07.343Z"
   },
   {
    "duration": 27,
    "start_time": "2023-03-08T15:17:26.359Z"
   },
   {
    "duration": 24,
    "start_time": "2023-03-08T15:18:32.649Z"
   },
   {
    "duration": 32,
    "start_time": "2023-03-08T15:18:36.309Z"
   },
   {
    "duration": 5,
    "start_time": "2023-03-08T15:19:48.701Z"
   },
   {
    "duration": 8,
    "start_time": "2023-03-08T15:19:50.940Z"
   },
   {
    "duration": 25,
    "start_time": "2023-03-08T15:19:56.916Z"
   },
   {
    "duration": 4,
    "start_time": "2023-03-08T15:20:38.306Z"
   },
   {
    "duration": 27,
    "start_time": "2023-03-08T15:20:44.675Z"
   },
   {
    "duration": 27,
    "start_time": "2023-03-08T15:27:57.493Z"
   },
   {
    "duration": 5,
    "start_time": "2023-03-08T15:29:01.212Z"
   },
   {
    "duration": 60,
    "start_time": "2023-03-08T15:29:04.877Z"
   },
   {
    "duration": 72,
    "start_time": "2023-03-08T15:29:13.110Z"
   },
   {
    "duration": 59,
    "start_time": "2023-03-08T15:30:20.221Z"
   },
   {
    "duration": 21,
    "start_time": "2023-03-08T15:30:43.375Z"
   },
   {
    "duration": 24,
    "start_time": "2023-03-08T15:30:46.432Z"
   },
   {
    "duration": 4,
    "start_time": "2023-03-08T15:30:49.516Z"
   },
   {
    "duration": 23,
    "start_time": "2023-03-08T15:30:52.017Z"
   },
   {
    "duration": 21,
    "start_time": "2023-03-08T15:31:01.320Z"
   },
   {
    "duration": 34,
    "start_time": "2023-03-08T15:31:11.259Z"
   },
   {
    "duration": 42,
    "start_time": "2023-03-08T15:31:13.645Z"
   },
   {
    "duration": 35,
    "start_time": "2023-03-08T15:31:27.015Z"
   },
   {
    "duration": 11243,
    "start_time": "2023-03-08T15:33:05.113Z"
   },
   {
    "duration": 0,
    "start_time": "2023-03-08T15:37:22.879Z"
   },
   {
    "duration": 0,
    "start_time": "2023-03-08T15:37:22.881Z"
   },
   {
    "duration": 0,
    "start_time": "2023-03-08T15:37:22.883Z"
   },
   {
    "duration": 0,
    "start_time": "2023-03-08T15:41:21.660Z"
   },
   {
    "duration": 169106,
    "start_time": "2023-03-08T15:41:26.746Z"
   },
   {
    "duration": 253737,
    "start_time": "2023-03-08T15:44:15.854Z"
   },
   {
    "duration": 0,
    "start_time": "2023-03-08T15:48:29.592Z"
   },
   {
    "duration": 316117,
    "start_time": "2023-03-08T15:48:31.111Z"
   },
   {
    "duration": 238344,
    "start_time": "2023-03-08T15:53:49.850Z"
   },
   {
    "duration": 3107292,
    "start_time": "2023-03-08T16:00:11.402Z"
   },
   {
    "duration": 0,
    "start_time": "2023-03-08T16:51:58.698Z"
   },
   {
    "duration": 0,
    "start_time": "2023-03-08T16:51:58.699Z"
   },
   {
    "duration": 11520,
    "start_time": "2023-03-08T17:07:21.448Z"
   },
   {
    "duration": 2452,
    "start_time": "2023-03-08T17:07:32.970Z"
   },
   {
    "duration": 363,
    "start_time": "2023-03-08T17:07:35.424Z"
   },
   {
    "duration": 17,
    "start_time": "2023-03-08T17:07:35.790Z"
   },
   {
    "duration": 9,
    "start_time": "2023-03-08T17:07:35.808Z"
   },
   {
    "duration": 15,
    "start_time": "2023-03-08T17:07:35.819Z"
   },
   {
    "duration": 247,
    "start_time": "2023-03-08T17:07:35.841Z"
   },
   {
    "duration": 4,
    "start_time": "2023-03-08T17:07:36.090Z"
   },
   {
    "duration": 1374496,
    "start_time": "2023-03-08T17:07:36.096Z"
   },
   {
    "duration": 3,
    "start_time": "2023-03-08T17:30:30.595Z"
   },
   {
    "duration": 4273,
    "start_time": "2023-03-08T17:30:30.601Z"
   },
   {
    "duration": 8,
    "start_time": "2023-03-08T17:30:34.877Z"
   },
   {
    "duration": 64,
    "start_time": "2023-03-08T17:30:34.887Z"
   },
   {
    "duration": 8,
    "start_time": "2023-03-08T17:30:34.953Z"
   },
   {
    "duration": 14914,
    "start_time": "2023-03-08T17:30:34.963Z"
   },
   {
    "duration": 180970,
    "start_time": "2023-03-08T17:30:49.878Z"
   },
   {
    "duration": 239511,
    "start_time": "2023-03-08T17:33:50.850Z"
   },
   {
    "duration": 45,
    "start_time": "2023-03-08T17:37:50.362Z"
   },
   {
    "duration": 0,
    "start_time": "2023-03-08T17:37:50.409Z"
   },
   {
    "duration": 0,
    "start_time": "2023-03-08T17:37:50.410Z"
   },
   {
    "duration": 22,
    "start_time": "2023-03-08T18:19:36.683Z"
   },
   {
    "duration": 28,
    "start_time": "2023-03-08T18:19:59.800Z"
   },
   {
    "duration": 27,
    "start_time": "2023-03-08T18:20:16.643Z"
   },
   {
    "duration": 38,
    "start_time": "2023-03-08T18:20:54.108Z"
   },
   {
    "duration": 30,
    "start_time": "2023-03-08T18:21:32.209Z"
   },
   {
    "duration": 27,
    "start_time": "2023-03-08T18:21:55.009Z"
   },
   {
    "duration": 7,
    "start_time": "2023-03-08T18:32:46.711Z"
   },
   {
    "duration": 388,
    "start_time": "2023-03-08T18:32:53.100Z"
   },
   {
    "duration": 0,
    "start_time": "2023-03-08T18:51:13.024Z"
   },
   {
    "duration": 23489,
    "start_time": "2023-03-08T19:07:00.937Z"
   },
   {
    "duration": 3035,
    "start_time": "2023-03-08T19:07:24.428Z"
   },
   {
    "duration": 353,
    "start_time": "2023-03-08T19:07:27.465Z"
   },
   {
    "duration": 32,
    "start_time": "2023-03-08T19:07:27.820Z"
   },
   {
    "duration": 26,
    "start_time": "2023-03-08T19:07:27.855Z"
   },
   {
    "duration": 8,
    "start_time": "2023-03-08T19:07:27.882Z"
   },
   {
    "duration": 280,
    "start_time": "2023-03-08T19:07:27.892Z"
   },
   {
    "duration": 4,
    "start_time": "2023-03-08T19:07:28.175Z"
   },
   {
    "duration": 1625892,
    "start_time": "2023-03-08T19:07:28.180Z"
   },
   {
    "duration": 4,
    "start_time": "2023-03-08T19:34:34.074Z"
   },
   {
    "duration": 4170,
    "start_time": "2023-03-08T19:34:34.080Z"
   },
   {
    "duration": 9,
    "start_time": "2023-03-08T19:34:38.252Z"
   },
   {
    "duration": 46,
    "start_time": "2023-03-08T19:34:38.263Z"
   },
   {
    "duration": 44,
    "start_time": "2023-03-08T19:34:38.313Z"
   },
   {
    "duration": 11072,
    "start_time": "2023-03-08T19:34:38.360Z"
   },
   {
    "duration": 174609,
    "start_time": "2023-03-08T19:34:49.435Z"
   },
   {
    "duration": 233399,
    "start_time": "2023-03-08T19:37:44.046Z"
   },
   {
    "duration": 3,
    "start_time": "2023-03-08T19:59:18.701Z"
   },
   {
    "duration": 1048734,
    "start_time": "2023-03-08T19:59:25.814Z"
   },
   {
    "duration": 6321,
    "start_time": "2023-03-08T20:16:54.550Z"
   },
   {
    "duration": 4882,
    "start_time": "2023-03-09T17:42:58.475Z"
   },
   {
    "duration": 2515,
    "start_time": "2023-03-09T17:43:03.359Z"
   },
   {
    "duration": 360,
    "start_time": "2023-03-09T17:43:05.875Z"
   },
   {
    "duration": 14,
    "start_time": "2023-03-09T17:43:06.237Z"
   },
   {
    "duration": 308,
    "start_time": "2023-03-09T17:43:06.263Z"
   },
   {
    "duration": 585,
    "start_time": "2023-03-09T17:43:06.574Z"
   },
   {
    "duration": 3,
    "start_time": "2023-03-09T17:43:07.161Z"
   },
   {
    "duration": 1352070,
    "start_time": "2023-03-09T17:43:07.166Z"
   },
   {
    "duration": 4,
    "start_time": "2023-03-09T18:05:39.239Z"
   },
   {
    "duration": 4772,
    "start_time": "2023-03-09T18:05:39.247Z"
   },
   {
    "duration": 7,
    "start_time": "2023-03-09T18:05:44.021Z"
   },
   {
    "duration": 43,
    "start_time": "2023-03-09T18:05:44.029Z"
   },
   {
    "duration": 5,
    "start_time": "2023-03-09T18:05:44.074Z"
   },
   {
    "duration": 52,
    "start_time": "2023-03-09T18:05:44.080Z"
   },
   {
    "duration": 0,
    "start_time": "2023-03-09T18:05:44.134Z"
   },
   {
    "duration": 0,
    "start_time": "2023-03-09T18:05:44.135Z"
   },
   {
    "duration": 0,
    "start_time": "2023-03-09T18:05:44.136Z"
   },
   {
    "duration": 0,
    "start_time": "2023-03-09T18:05:44.137Z"
   },
   {
    "duration": 0,
    "start_time": "2023-03-09T18:05:44.138Z"
   },
   {
    "duration": 0,
    "start_time": "2023-03-09T18:05:44.140Z"
   },
   {
    "duration": 0,
    "start_time": "2023-03-09T18:05:44.141Z"
   },
   {
    "duration": 6958,
    "start_time": "2023-03-09T18:06:05.771Z"
   },
   {
    "duration": 3,
    "start_time": "2023-03-09T18:06:20.013Z"
   },
   {
    "duration": 412,
    "start_time": "2023-03-09T18:06:22.085Z"
   },
   {
    "duration": 60,
    "start_time": "2023-03-09T18:06:52.180Z"
   },
   {
    "duration": 105,
    "start_time": "2023-03-09T18:07:17.623Z"
   },
   {
    "duration": 981004,
    "start_time": "2023-03-09T18:07:22.968Z"
   },
   {
    "duration": 66,
    "start_time": "2023-03-09T18:24:40.428Z"
   },
   {
    "duration": 3,
    "start_time": "2023-03-09T18:24:40.496Z"
   },
   {
    "duration": 76,
    "start_time": "2023-03-09T18:24:40.500Z"
   },
   {
    "duration": 56298,
    "start_time": "2023-03-09T18:24:40.578Z"
   },
   {
    "duration": 66,
    "start_time": "2023-03-09T18:25:36.878Z"
   },
   {
    "duration": 66,
    "start_time": "2023-03-09T18:26:57.517Z"
   },
   {
    "duration": 70,
    "start_time": "2023-03-09T18:27:19.198Z"
   },
   {
    "duration": 71,
    "start_time": "2023-03-09T18:27:29.843Z"
   },
   {
    "duration": 68,
    "start_time": "2023-03-09T18:27:42.367Z"
   },
   {
    "duration": 71,
    "start_time": "2023-03-09T18:29:37.265Z"
   },
   {
    "duration": 95,
    "start_time": "2023-03-09T18:31:07.139Z"
   },
   {
    "duration": 60,
    "start_time": "2023-03-09T18:31:14.677Z"
   },
   {
    "duration": 77,
    "start_time": "2023-03-09T18:34:11.611Z"
   },
   {
    "duration": 72,
    "start_time": "2023-03-09T18:36:32.534Z"
   },
   {
    "duration": 84,
    "start_time": "2023-03-09T18:37:44.392Z"
   },
   {
    "duration": 62,
    "start_time": "2023-03-09T18:38:33.743Z"
   },
   {
    "duration": 63,
    "start_time": "2023-03-09T18:43:28.402Z"
   },
   {
    "duration": 66,
    "start_time": "2023-03-09T18:44:54.781Z"
   },
   {
    "duration": 111,
    "start_time": "2023-03-09T18:45:03.377Z"
   },
   {
    "duration": 66,
    "start_time": "2023-03-09T18:45:30.149Z"
   },
   {
    "duration": 4175,
    "start_time": "2023-03-10T12:40:49.134Z"
   },
   {
    "duration": 2251,
    "start_time": "2023-03-10T12:40:53.311Z"
   },
   {
    "duration": 315,
    "start_time": "2023-03-10T12:40:55.563Z"
   },
   {
    "duration": 12,
    "start_time": "2023-03-10T12:40:55.879Z"
   },
   {
    "duration": 267,
    "start_time": "2023-03-10T12:40:55.894Z"
   },
   {
    "duration": 590,
    "start_time": "2023-03-10T12:40:56.163Z"
   },
   {
    "duration": 2,
    "start_time": "2023-03-10T12:40:56.756Z"
   },
   {
    "duration": 1390996,
    "start_time": "2023-03-10T12:40:56.760Z"
   },
   {
    "duration": 8,
    "start_time": "2023-03-10T13:04:07.759Z"
   },
   {
    "duration": 4642,
    "start_time": "2023-03-10T13:04:07.768Z"
   },
   {
    "duration": 7,
    "start_time": "2023-03-10T13:04:12.411Z"
   },
   {
    "duration": 49,
    "start_time": "2023-03-10T13:04:12.419Z"
   },
   {
    "duration": 7,
    "start_time": "2023-03-10T13:04:12.470Z"
   },
   {
    "duration": 7806,
    "start_time": "2023-03-10T13:04:12.480Z"
   },
   {
    "duration": 185470,
    "start_time": "2023-03-10T13:04:20.287Z"
   },
   {
    "duration": 3,
    "start_time": "2023-03-10T13:07:25.758Z"
   },
   {
    "duration": 444,
    "start_time": "2023-03-10T13:07:25.763Z"
   },
   {
    "duration": 79,
    "start_time": "2023-03-10T13:07:26.208Z"
   },
   {
    "duration": 525566,
    "start_time": "2023-03-10T13:07:26.289Z"
   },
   {
    "duration": 5,
    "start_time": "2023-03-10T13:16:11.858Z"
   },
   {
    "duration": 51580,
    "start_time": "2023-03-10T13:16:11.864Z"
   },
   {
    "duration": 70,
    "start_time": "2023-03-10T13:17:03.456Z"
   },
   {
    "duration": 73,
    "start_time": "2023-03-10T13:17:03.528Z"
   },
   {
    "duration": 76,
    "start_time": "2023-03-10T13:18:56.451Z"
   },
   {
    "duration": 97,
    "start_time": "2023-03-10T13:22:13.159Z"
   },
   {
    "duration": 79,
    "start_time": "2023-03-10T13:22:22.043Z"
   },
   {
    "duration": 61,
    "start_time": "2023-03-10T13:22:52.259Z"
   },
   {
    "duration": 78,
    "start_time": "2023-03-10T13:23:34.681Z"
   },
   {
    "duration": 109,
    "start_time": "2023-03-10T13:42:26.402Z"
   },
   {
    "duration": 117,
    "start_time": "2023-03-10T13:42:33.559Z"
   },
   {
    "duration": 125,
    "start_time": "2023-03-10T13:42:36.815Z"
   },
   {
    "duration": 104,
    "start_time": "2023-03-10T13:46:58.797Z"
   },
   {
    "duration": 250,
    "start_time": "2023-03-10T13:48:35.003Z"
   },
   {
    "duration": 231,
    "start_time": "2023-03-10T13:50:22.351Z"
   },
   {
    "duration": 5,
    "start_time": "2023-03-10T13:51:07.407Z"
   },
   {
    "duration": 257,
    "start_time": "2023-03-10T13:51:19.094Z"
   },
   {
    "duration": 663,
    "start_time": "2023-03-10T13:52:22.430Z"
   },
   {
    "duration": 76,
    "start_time": "2023-03-10T13:53:29.681Z"
   },
   {
    "duration": 164,
    "start_time": "2023-03-10T13:53:43.697Z"
   },
   {
    "duration": 73,
    "start_time": "2023-03-10T13:55:10.304Z"
   },
   {
    "duration": 83,
    "start_time": "2023-03-10T13:55:17.908Z"
   },
   {
    "duration": 17,
    "start_time": "2023-03-10T13:56:18.892Z"
   },
   {
    "duration": 18,
    "start_time": "2023-03-10T13:56:27.989Z"
   },
   {
    "duration": 34,
    "start_time": "2023-03-10T13:56:43.862Z"
   },
   {
    "duration": 4,
    "start_time": "2023-03-10T13:56:56.408Z"
   },
   {
    "duration": 196,
    "start_time": "2023-03-10T13:57:22.014Z"
   },
   {
    "duration": 262,
    "start_time": "2023-03-10T13:59:00.654Z"
   },
   {
    "duration": 3,
    "start_time": "2023-03-10T13:59:20.596Z"
   },
   {
    "duration": 172,
    "start_time": "2023-03-10T13:59:23.706Z"
   },
   {
    "duration": 191082,
    "start_time": "2023-03-10T13:59:34.088Z"
   },
   {
    "duration": 91,
    "start_time": "2023-03-10T14:02:45.172Z"
   },
   {
    "duration": 87,
    "start_time": "2023-03-10T14:03:14.191Z"
   },
   {
    "duration": 3,
    "start_time": "2023-03-10T14:03:17.496Z"
   },
   {
    "duration": 86,
    "start_time": "2023-03-10T14:03:18.719Z"
   },
   {
    "duration": 82,
    "start_time": "2023-03-10T14:03:38.281Z"
   },
   {
    "duration": 188687,
    "start_time": "2023-03-10T14:03:46.176Z"
   },
   {
    "duration": 82,
    "start_time": "2023-03-10T14:06:54.864Z"
   },
   {
    "duration": 2,
    "start_time": "2023-03-10T14:06:54.948Z"
   },
   {
    "duration": 2,
    "start_time": "2023-03-10T14:06:57.515Z"
   },
   {
    "duration": 182,
    "start_time": "2023-03-10T14:07:05.395Z"
   },
   {
    "duration": 71,
    "start_time": "2023-03-10T14:07:09.528Z"
   },
   {
    "duration": 69,
    "start_time": "2023-03-10T14:07:16.186Z"
   },
   {
    "duration": 72,
    "start_time": "2023-03-10T14:08:01.820Z"
   },
   {
    "duration": 63,
    "start_time": "2023-03-10T14:08:09.526Z"
   },
   {
    "duration": 165,
    "start_time": "2023-03-10T14:08:13.621Z"
   },
   {
    "duration": 75,
    "start_time": "2023-03-10T14:08:46.579Z"
   },
   {
    "duration": 71,
    "start_time": "2023-03-10T14:09:26.370Z"
   },
   {
    "duration": 67,
    "start_time": "2023-03-10T14:09:45.700Z"
   },
   {
    "duration": 57,
    "start_time": "2023-03-10T14:11:05.245Z"
   },
   {
    "duration": 68,
    "start_time": "2023-03-10T14:12:06.214Z"
   },
   {
    "duration": 67,
    "start_time": "2023-03-10T14:12:08.770Z"
   },
   {
    "duration": 4406,
    "start_time": "2023-03-10T14:12:22.997Z"
   },
   {
    "duration": 781,
    "start_time": "2023-03-10T14:12:27.405Z"
   },
   {
    "duration": 311,
    "start_time": "2023-03-10T14:12:28.187Z"
   },
   {
    "duration": 12,
    "start_time": "2023-03-10T14:12:28.499Z"
   },
   {
    "duration": 266,
    "start_time": "2023-03-10T14:12:28.515Z"
   },
   {
    "duration": 209,
    "start_time": "2023-03-10T14:12:28.783Z"
   },
   {
    "duration": 2,
    "start_time": "2023-03-10T14:12:28.994Z"
   },
   {
    "duration": 4292,
    "start_time": "2023-03-10T14:14:02.717Z"
   },
   {
    "duration": 810,
    "start_time": "2023-03-10T14:14:07.011Z"
   },
   {
    "duration": 326,
    "start_time": "2023-03-10T14:14:07.823Z"
   },
   {
    "duration": 13,
    "start_time": "2023-03-10T14:14:08.151Z"
   },
   {
    "duration": 275,
    "start_time": "2023-03-10T14:14:08.166Z"
   },
   {
    "duration": 206,
    "start_time": "2023-03-10T14:14:08.443Z"
   },
   {
    "duration": 3,
    "start_time": "2023-03-10T14:14:08.651Z"
   },
   {
    "duration": 4430,
    "start_time": "2023-03-10T14:15:16.888Z"
   },
   {
    "duration": 769,
    "start_time": "2023-03-10T14:15:21.320Z"
   },
   {
    "duration": 333,
    "start_time": "2023-03-10T14:15:22.090Z"
   },
   {
    "duration": 18,
    "start_time": "2023-03-10T14:15:22.425Z"
   },
   {
    "duration": 274,
    "start_time": "2023-03-10T14:15:22.445Z"
   },
   {
    "duration": 218,
    "start_time": "2023-03-10T14:15:22.721Z"
   },
   {
    "duration": 4,
    "start_time": "2023-03-10T14:15:22.941Z"
   },
   {
    "duration": 1270861,
    "start_time": "2023-03-10T14:15:22.947Z"
   },
   {
    "duration": 2,
    "start_time": "2023-03-10T14:36:33.810Z"
   },
   {
    "duration": 3809,
    "start_time": "2023-03-10T14:36:33.815Z"
   },
   {
    "duration": 10,
    "start_time": "2023-03-10T14:36:37.626Z"
   },
   {
    "duration": 34,
    "start_time": "2023-03-10T14:36:37.637Z"
   },
   {
    "duration": 5,
    "start_time": "2023-03-10T14:36:37.673Z"
   },
   {
    "duration": 6425,
    "start_time": "2023-03-10T14:36:37.679Z"
   },
   {
    "duration": 180946,
    "start_time": "2023-03-10T14:36:44.105Z"
   },
   {
    "duration": 2,
    "start_time": "2023-03-10T14:39:45.053Z"
   },
   {
    "duration": 364,
    "start_time": "2023-03-10T14:39:45.057Z"
   },
   {
    "duration": 133,
    "start_time": "2023-03-10T14:39:45.423Z"
   },
   {
    "duration": 457198,
    "start_time": "2023-03-10T14:39:45.558Z"
   },
   {
    "duration": 3,
    "start_time": "2023-03-10T14:47:22.758Z"
   },
   {
    "duration": 52472,
    "start_time": "2023-03-10T14:47:22.763Z"
   },
   {
    "duration": 66,
    "start_time": "2023-03-10T14:48:15.405Z"
   },
   {
    "duration": 63,
    "start_time": "2023-03-10T14:49:22.738Z"
   },
   {
    "duration": 68,
    "start_time": "2023-03-10T14:49:52.679Z"
   },
   {
    "duration": 285,
    "start_time": "2023-03-10T14:50:02.425Z"
   },
   {
    "duration": 321,
    "start_time": "2023-03-10T14:51:25.765Z"
   },
   {
    "duration": 5,
    "start_time": "2023-03-10T14:58:03.455Z"
   },
   {
    "duration": 154,
    "start_time": "2023-03-10T14:58:22.205Z"
   },
   {
    "duration": 164,
    "start_time": "2023-03-10T14:59:39.904Z"
   },
   {
    "duration": 171,
    "start_time": "2023-03-10T15:01:13.227Z"
   },
   {
    "duration": 1737,
    "start_time": "2023-03-10T15:05:58.444Z"
   },
   {
    "duration": 1813,
    "start_time": "2023-03-10T15:06:05.727Z"
   },
   {
    "duration": 73,
    "start_time": "2023-03-10T15:07:25.720Z"
   },
   {
    "duration": 63,
    "start_time": "2023-03-10T15:07:40.075Z"
   },
   {
    "duration": 3,
    "start_time": "2023-03-10T15:08:15.290Z"
   },
   {
    "duration": 73,
    "start_time": "2023-03-10T15:08:18.131Z"
   },
   {
    "duration": 70,
    "start_time": "2023-03-10T15:08:21.568Z"
   },
   {
    "duration": 5,
    "start_time": "2023-03-10T15:08:36.808Z"
   },
   {
    "duration": 760,
    "start_time": "2023-03-10T15:08:40.052Z"
   },
   {
    "duration": 323,
    "start_time": "2023-03-10T15:08:43.036Z"
   },
   {
    "duration": 13,
    "start_time": "2023-03-10T15:08:47.709Z"
   },
   {
    "duration": 288,
    "start_time": "2023-03-10T15:08:50.733Z"
   },
   {
    "duration": 5,
    "start_time": "2023-03-10T15:08:52.993Z"
   },
   {
    "duration": 3,
    "start_time": "2023-03-10T15:08:58.909Z"
   },
   {
    "duration": 3,
    "start_time": "2023-03-10T15:09:03.302Z"
   },
   {
    "duration": 3758,
    "start_time": "2023-03-10T15:09:05.658Z"
   },
   {
    "duration": 6,
    "start_time": "2023-03-10T15:09:10.009Z"
   },
   {
    "duration": 31,
    "start_time": "2023-03-10T15:09:13.690Z"
   },
   {
    "duration": 17,
    "start_time": "2023-03-10T15:09:17.173Z"
   },
   {
    "duration": 6640,
    "start_time": "2023-03-10T15:09:21.662Z"
   },
   {
    "duration": 57,
    "start_time": "2023-03-10T15:09:42.465Z"
   },
   {
    "duration": 1689,
    "start_time": "2023-03-10T15:09:52.995Z"
   },
   {
    "duration": 33,
    "start_time": "2023-03-10T15:12:11.577Z"
   },
   {
    "duration": 6505,
    "start_time": "2023-03-10T15:12:20.109Z"
   },
   {
    "duration": 180438,
    "start_time": "2023-03-10T15:13:24.411Z"
   },
   {
    "duration": 69,
    "start_time": "2023-03-10T15:16:24.852Z"
   },
   {
    "duration": 7062,
    "start_time": "2023-03-10T15:20:08.798Z"
   },
   {
    "duration": 188490,
    "start_time": "2023-03-10T15:20:15.862Z"
   },
   {
    "duration": 72,
    "start_time": "2023-03-10T15:23:56.128Z"
   },
   {
    "duration": 1779,
    "start_time": "2023-03-10T15:27:31.875Z"
   },
   {
    "duration": 957,
    "start_time": "2023-03-10T15:27:33.657Z"
   },
   {
    "duration": 354,
    "start_time": "2023-03-10T15:27:34.616Z"
   },
   {
    "duration": 13,
    "start_time": "2023-03-10T15:27:34.972Z"
   },
   {
    "duration": 317,
    "start_time": "2023-03-10T15:27:34.987Z"
   },
   {
    "duration": 150,
    "start_time": "2023-03-10T15:27:35.306Z"
   },
   {
    "duration": 3,
    "start_time": "2023-03-10T15:27:35.458Z"
   },
   {
    "duration": 480,
    "start_time": "2023-03-10T15:27:35.462Z"
   },
   {
    "duration": 0,
    "start_time": "2023-03-10T15:27:35.946Z"
   },
   {
    "duration": 0,
    "start_time": "2023-03-10T15:27:35.947Z"
   },
   {
    "duration": 0,
    "start_time": "2023-03-10T15:27:35.949Z"
   },
   {
    "duration": 0,
    "start_time": "2023-03-10T15:27:35.950Z"
   },
   {
    "duration": 0,
    "start_time": "2023-03-10T15:27:35.951Z"
   },
   {
    "duration": 0,
    "start_time": "2023-03-10T15:27:35.952Z"
   },
   {
    "duration": 0,
    "start_time": "2023-03-10T15:27:35.953Z"
   },
   {
    "duration": 0,
    "start_time": "2023-03-10T15:27:35.954Z"
   },
   {
    "duration": 0,
    "start_time": "2023-03-10T15:27:35.955Z"
   },
   {
    "duration": 0,
    "start_time": "2023-03-10T15:27:35.956Z"
   },
   {
    "duration": 0,
    "start_time": "2023-03-10T15:27:35.957Z"
   },
   {
    "duration": 5,
    "start_time": "2023-03-10T15:29:16.947Z"
   },
   {
    "duration": 1258950,
    "start_time": "2023-03-10T15:29:23.747Z"
   },
   {
    "duration": 3,
    "start_time": "2023-03-10T15:52:30.156Z"
   },
   {
    "duration": 4010,
    "start_time": "2023-03-10T15:52:32.691Z"
   },
   {
    "duration": 43,
    "start_time": "2023-03-10T15:52:39.209Z"
   },
   {
    "duration": 5,
    "start_time": "2023-03-10T15:53:35.595Z"
   },
   {
    "duration": 6698,
    "start_time": "2023-03-10T15:53:38.948Z"
   },
   {
    "duration": 307972,
    "start_time": "2023-03-10T15:53:52.562Z"
   },
   {
    "duration": 319153,
    "start_time": "2023-03-10T15:59:10.886Z"
   },
   {
    "duration": 94,
    "start_time": "2023-03-10T16:04:30.042Z"
   },
   {
    "duration": 269293,
    "start_time": "2023-03-10T16:05:21.602Z"
   },
   {
    "duration": 47662,
    "start_time": "2023-03-10T16:09:58.682Z"
   },
   {
    "duration": 14,
    "start_time": "2023-03-10T16:10:52.154Z"
   },
   {
    "duration": 4,
    "start_time": "2023-03-10T16:11:34.876Z"
   },
   {
    "duration": 10,
    "start_time": "2023-03-10T16:11:44.988Z"
   },
   {
    "duration": 1914,
    "start_time": "2023-03-10T16:12:10.157Z"
   },
   {
    "duration": 903,
    "start_time": "2023-03-10T16:12:12.073Z"
   },
   {
    "duration": 346,
    "start_time": "2023-03-10T16:12:12.978Z"
   },
   {
    "duration": 26,
    "start_time": "2023-03-10T16:12:13.327Z"
   },
   {
    "duration": 302,
    "start_time": "2023-03-10T16:12:13.355Z"
   },
   {
    "duration": 129,
    "start_time": "2023-03-10T16:12:13.659Z"
   },
   {
    "duration": 3,
    "start_time": "2023-03-10T16:12:13.791Z"
   },
   {
    "duration": 1355321,
    "start_time": "2023-03-10T16:12:13.796Z"
   },
   {
    "duration": 3,
    "start_time": "2023-03-10T16:34:49.120Z"
   },
   {
    "duration": 4060,
    "start_time": "2023-03-10T16:34:49.136Z"
   },
   {
    "duration": 6,
    "start_time": "2023-03-10T16:34:53.198Z"
   },
   {
    "duration": 43,
    "start_time": "2023-03-10T16:34:53.206Z"
   },
   {
    "duration": 9,
    "start_time": "2023-03-10T16:34:53.251Z"
   },
   {
    "duration": 6507,
    "start_time": "2023-03-10T16:34:53.261Z"
   },
   {
    "duration": 159575,
    "start_time": "2023-03-10T16:34:59.770Z"
   },
   {
    "duration": 4,
    "start_time": "2023-03-10T16:37:39.346Z"
   },
   {
    "duration": 326096,
    "start_time": "2023-03-10T16:37:39.352Z"
   },
   {
    "duration": 233833,
    "start_time": "2023-03-10T16:43:05.534Z"
   },
   {
    "duration": 450080,
    "start_time": "2023-03-10T16:46:59.369Z"
   },
   {
    "duration": 2,
    "start_time": "2023-03-10T16:54:29.452Z"
   },
   {
    "duration": 49793,
    "start_time": "2023-03-10T16:54:29.456Z"
   },
   {
    "duration": 1687,
    "start_time": "2023-03-10T16:55:42.192Z"
   },
   {
    "duration": 826,
    "start_time": "2023-03-10T16:55:43.881Z"
   },
   {
    "duration": 316,
    "start_time": "2023-03-10T16:55:44.709Z"
   },
   {
    "duration": 17,
    "start_time": "2023-03-10T16:55:45.027Z"
   },
   {
    "duration": 290,
    "start_time": "2023-03-10T16:55:45.045Z"
   },
   {
    "duration": 133,
    "start_time": "2023-03-10T16:55:45.337Z"
   },
   {
    "duration": 3,
    "start_time": "2023-03-10T16:55:45.472Z"
   },
   {
    "duration": 1173276,
    "start_time": "2023-03-10T16:55:45.476Z"
   },
   {
    "duration": 3,
    "start_time": "2023-03-10T17:15:18.754Z"
   },
   {
    "duration": 3750,
    "start_time": "2023-03-10T17:15:18.759Z"
   },
   {
    "duration": 7,
    "start_time": "2023-03-10T17:15:22.511Z"
   },
   {
    "duration": 46,
    "start_time": "2023-03-10T17:15:22.519Z"
   },
   {
    "duration": 11,
    "start_time": "2023-03-10T17:15:22.567Z"
   },
   {
    "duration": 6164,
    "start_time": "2023-03-10T17:15:22.579Z"
   },
   {
    "duration": 177390,
    "start_time": "2023-03-10T17:15:28.744Z"
   },
   {
    "duration": 2,
    "start_time": "2023-03-10T17:18:26.136Z"
   },
   {
    "duration": 322699,
    "start_time": "2023-03-10T17:18:26.140Z"
   },
   {
    "duration": 231455,
    "start_time": "2023-03-10T17:23:48.841Z"
   },
   {
    "duration": 472041,
    "start_time": "2023-03-10T17:27:40.297Z"
   },
   {
    "duration": 3,
    "start_time": "2023-03-10T17:35:32.339Z"
   },
   {
    "duration": 49406,
    "start_time": "2023-03-10T17:35:32.343Z"
   }
  ],
  "kernelspec": {
   "display_name": "Python 3 (ipykernel)",
   "language": "python",
   "name": "python3"
  },
  "language_info": {
   "codemirror_mode": {
    "name": "ipython",
    "version": 3
   },
   "file_extension": ".py",
   "mimetype": "text/x-python",
   "name": "python",
   "nbconvert_exporter": "python",
   "pygments_lexer": "ipython3",
   "version": "3.10.9"
  },
  "toc": {
   "base_numbering": 1,
   "nav_menu": {},
   "number_sections": true,
   "sideBar": true,
   "skip_h1_title": true,
   "title_cell": "Содержание",
   "title_sidebar": "Contents",
   "toc_cell": true,
   "toc_position": {
    "height": "calc(100% - 180px)",
    "left": "10px",
    "top": "150px",
    "width": "302.391px"
   },
   "toc_section_display": true,
   "toc_window_display": false
  }
 },
 "nbformat": 4,
 "nbformat_minor": 2
}
